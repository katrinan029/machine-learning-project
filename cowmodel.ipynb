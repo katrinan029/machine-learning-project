{
 "cells": [
  {
   "cell_type": "code",
   "execution_count": 5,
   "id": "editorial-package",
   "metadata": {},
   "outputs": [
    {
     "ename": "NameError",
     "evalue": "name 'install' is not defined",
     "output_type": "error",
     "traceback": [
      "\u001b[1;31m---------------------------------------------------------------------------\u001b[0m",
      "\u001b[1;31mNameError\u001b[0m                                 Traceback (most recent call last)",
      "\u001b[1;32m<ipython-input-5-8a808643520c>\u001b[0m in \u001b[0;36m<module>\u001b[1;34m\u001b[0m\n\u001b[0;32m      1\u001b[0m \u001b[1;31m# pip install cowsay\u001b[0m\u001b[1;33m\u001b[0m\u001b[1;33m\u001b[0m\u001b[1;33m\u001b[0m\u001b[0m\n\u001b[1;32m----> 2\u001b[1;33m \u001b[0minstall\u001b[0m\u001b[1;33m.\u001b[0m\u001b[0mpackages\u001b[0m\u001b[1;33m(\u001b[0m\u001b[1;34m\"cowsay\"\u001b[0m\u001b[1;33m)\u001b[0m\u001b[1;33m\u001b[0m\u001b[1;33m\u001b[0m\u001b[0m\n\u001b[0m",
      "\u001b[1;31mNameError\u001b[0m: name 'install' is not defined"
     ]
    }
   ],
   "source": [
    "# pip install cowsay\n",
    "install.packages(\"cowsay\")"
   ]
  },
  {
   "cell_type": "code",
   "execution_count": 1,
   "id": "nutritional-width",
   "metadata": {},
   "outputs": [],
   "source": [
    "import cowsay"
   ]
  },
  {
   "cell_type": "code",
   "execution_count": 4,
   "id": "noticed-gates",
   "metadata": {},
   "outputs": [
    {
     "name": "stdout",
     "output_type": "stream",
     "text": [
      "  ____________________________\n",
      "< NANTS, Ingoyama Bagithi Baba >\n",
      "  ============================\n",
      "                                 \\\n",
      "                                  \\\n",
      "                                    ^__^                             \n",
      "                                    (oo)\\_______                   \n",
      "                                    (__)\\       )\\/\\             \n",
      "                                        ||----w |           \n",
      "                                        ||     ||  \n",
      "                                        \n",
      "                                        \n"
     ]
    }
   ],
   "source": [
    "cowsay.cow('NANTS, Ingoyama Bagithi Baba')"
   ]
  },
  {
   "cell_type": "code",
   "execution_count": 9,
   "id": "dominant-damage",
   "metadata": {},
   "outputs": [
    {
     "ename": "AttributeError",
     "evalue": "module 'cowsay' has no attribute 'lion'",
     "output_type": "error",
     "traceback": [
      "\u001b[1;31m---------------------------------------------------------------------------\u001b[0m",
      "\u001b[1;31mAttributeError\u001b[0m                            Traceback (most recent call last)",
      "\u001b[1;32m<ipython-input-9-bbb8088c6ed9>\u001b[0m in \u001b[0;36m<module>\u001b[1;34m\u001b[0m\n\u001b[1;32m----> 1\u001b[1;33m \u001b[0mcowsay\u001b[0m\u001b[1;33m.\u001b[0m\u001b[0mlion\u001b[0m\u001b[1;33m(\u001b[0m\u001b[1;34m\"why did the chicken cross the road\"\u001b[0m\u001b[1;33m,\u001b[0m \u001b[1;34m\"chicken\"\u001b[0m\u001b[1;33m)\u001b[0m\u001b[1;33m\u001b[0m\u001b[1;33m\u001b[0m\u001b[0m\n\u001b[0m",
      "\u001b[1;31mAttributeError\u001b[0m: module 'cowsay' has no attribute 'lion'"
     ]
    }
   ],
   "source": [
    "cowsay.lion(\"why did the chicken cross the road\", \"chicken\")"
   ]
  },
  {
   "cell_type": "code",
   "execution_count": null,
   "id": "solar-corps",
   "metadata": {},
   "outputs": [],
   "source": []
  }
 ],
 "metadata": {
  "kernelspec": {
   "display_name": "Python [conda env:PythonAdv] *",
   "language": "python",
   "name": "conda-env-PythonAdv-py"
  },
  "language_info": {
   "codemirror_mode": {
    "name": "ipython",
    "version": 3
   },
   "file_extension": ".py",
   "mimetype": "text/x-python",
   "name": "python",
   "nbconvert_exporter": "python",
   "pygments_lexer": "ipython3",
   "version": "3.6.12"
  }
 },
 "nbformat": 4,
 "nbformat_minor": 5
}
