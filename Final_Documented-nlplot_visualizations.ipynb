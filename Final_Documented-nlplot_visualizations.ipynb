{
 "cells": [
  {
   "cell_type": "code",
   "execution_count": null,
   "id": "grave-cassette",
   "metadata": {},
   "outputs": [],
   "source": [
    "# pip install python-Levenshtein"
   ]
  },
  {
   "cell_type": "code",
   "execution_count": 1,
   "id": "sticky-cricket",
   "metadata": {},
   "outputs": [
    {
     "name": "stderr",
     "output_type": "stream",
     "text": [
      "C:\\Users\\ajrfl\\anaconda3\\envs\\PythonAdv\\lib\\site-packages\\gensim\\similarities\\__init__.py:15: UserWarning:\n",
      "\n",
      "The gensim.similarities.levenshtein submodule is disabled, because the optional Levenshtein package <https://pypi.org/project/python-Levenshtein/> is unavailable. Install Levenhstein (e.g. `pip install python-Levenshtein`) to suppress this warning.\n",
      "\n"
     ]
    }
   ],
   "source": [
    "import pandas as pd\n",
    "import nlplot\n",
    "import plotly.express as px"
   ]
  },
  {
   "cell_type": "code",
   "execution_count": 2,
   "id": "elect-indiana",
   "metadata": {},
   "outputs": [
    {
     "data": {
      "text/html": [
       "<div>\n",
       "<style scoped>\n",
       "    .dataframe tbody tr th:only-of-type {\n",
       "        vertical-align: middle;\n",
       "    }\n",
       "\n",
       "    .dataframe tbody tr th {\n",
       "        vertical-align: top;\n",
       "    }\n",
       "\n",
       "    .dataframe thead th {\n",
       "        text-align: right;\n",
       "    }\n",
       "</style>\n",
       "<table border=\"1\" class=\"dataframe\">\n",
       "  <thead>\n",
       "    <tr style=\"text-align: right;\">\n",
       "      <th></th>\n",
       "      <th>Review_ID</th>\n",
       "      <th>Rating</th>\n",
       "      <th>Reviewer_Location</th>\n",
       "      <th>Review_Text</th>\n",
       "      <th>Branch</th>\n",
       "      <th>Year</th>\n",
       "      <th>Month</th>\n",
       "      <th>is_good_review</th>\n",
       "      <th>review_clean</th>\n",
       "      <th>neg</th>\n",
       "      <th>...</th>\n",
       "      <th>word_yet</th>\n",
       "      <th>word_york</th>\n",
       "      <th>word_you</th>\n",
       "      <th>word_young</th>\n",
       "      <th>word_yr</th>\n",
       "      <th>word_yrs</th>\n",
       "      <th>word_yum</th>\n",
       "      <th>word_yummy</th>\n",
       "      <th>word_zero</th>\n",
       "      <th>word_zone</th>\n",
       "    </tr>\n",
       "  </thead>\n",
       "  <tbody>\n",
       "    <tr>\n",
       "      <th>0</th>\n",
       "      <td>122944085</td>\n",
       "      <td>5</td>\n",
       "      <td>United States</td>\n",
       "      <td>Spotlessly clean and so organized considering ...</td>\n",
       "      <td>Disneyland_California</td>\n",
       "      <td>2011</td>\n",
       "      <td>10</td>\n",
       "      <td>1</td>\n",
       "      <td>spotlessly clean organize consider thousand vi...</td>\n",
       "      <td>0.000</td>\n",
       "      <td>...</td>\n",
       "      <td>0.0</td>\n",
       "      <td>0.0</td>\n",
       "      <td>0.0</td>\n",
       "      <td>0.000000</td>\n",
       "      <td>0.0</td>\n",
       "      <td>0.0</td>\n",
       "      <td>0.0</td>\n",
       "      <td>0.0</td>\n",
       "      <td>0.0</td>\n",
       "      <td>0.0</td>\n",
       "    </tr>\n",
       "    <tr>\n",
       "      <th>1</th>\n",
       "      <td>290851203</td>\n",
       "      <td>5</td>\n",
       "      <td>United Kingdom</td>\n",
       "      <td>Pricey but worth it, unfortunately the big thu...</td>\n",
       "      <td>Disneyland_Paris</td>\n",
       "      <td>2015</td>\n",
       "      <td>7</td>\n",
       "      <td>1</td>\n",
       "      <td>pricey worth unfortunately big thunder mountai...</td>\n",
       "      <td>0.115</td>\n",
       "      <td>...</td>\n",
       "      <td>0.0</td>\n",
       "      <td>0.0</td>\n",
       "      <td>0.0</td>\n",
       "      <td>0.000000</td>\n",
       "      <td>0.0</td>\n",
       "      <td>0.0</td>\n",
       "      <td>0.0</td>\n",
       "      <td>0.0</td>\n",
       "      <td>0.0</td>\n",
       "      <td>0.0</td>\n",
       "    </tr>\n",
       "    <tr>\n",
       "      <th>2</th>\n",
       "      <td>168087311</td>\n",
       "      <td>4</td>\n",
       "      <td>Canada</td>\n",
       "      <td>Disneyland is a magical place. Everyone, parti...</td>\n",
       "      <td>Disneyland_California</td>\n",
       "      <td>2013</td>\n",
       "      <td>7</td>\n",
       "      <td>1</td>\n",
       "      <td>disneyland magical place everyone particularly...</td>\n",
       "      <td>0.000</td>\n",
       "      <td>...</td>\n",
       "      <td>0.0</td>\n",
       "      <td>0.0</td>\n",
       "      <td>0.0</td>\n",
       "      <td>0.000000</td>\n",
       "      <td>0.0</td>\n",
       "      <td>0.0</td>\n",
       "      <td>0.0</td>\n",
       "      <td>0.0</td>\n",
       "      <td>0.0</td>\n",
       "      <td>0.0</td>\n",
       "    </tr>\n",
       "    <tr>\n",
       "      <th>3</th>\n",
       "      <td>282417360</td>\n",
       "      <td>5</td>\n",
       "      <td>Pakistan</td>\n",
       "      <td>Disney land is a must when visiting Paris. The...</td>\n",
       "      <td>Disneyland_Paris</td>\n",
       "      <td>2015</td>\n",
       "      <td>6</td>\n",
       "      <td>1</td>\n",
       "      <td>disney land must visit paris frozen show best ...</td>\n",
       "      <td>0.028</td>\n",
       "      <td>...</td>\n",
       "      <td>0.0</td>\n",
       "      <td>0.0</td>\n",
       "      <td>0.0</td>\n",
       "      <td>0.000000</td>\n",
       "      <td>0.0</td>\n",
       "      <td>0.0</td>\n",
       "      <td>0.0</td>\n",
       "      <td>0.0</td>\n",
       "      <td>0.0</td>\n",
       "      <td>0.0</td>\n",
       "    </tr>\n",
       "    <tr>\n",
       "      <th>4</th>\n",
       "      <td>160953212</td>\n",
       "      <td>3</td>\n",
       "      <td>India</td>\n",
       "      <td>The HK Disneyland is definitely small, but it'...</td>\n",
       "      <td>Disneyland_HongKong</td>\n",
       "      <td>2012</td>\n",
       "      <td>9</td>\n",
       "      <td>0</td>\n",
       "      <td>hk disneyland definitely small definitely fun ...</td>\n",
       "      <td>0.000</td>\n",
       "      <td>...</td>\n",
       "      <td>0.0</td>\n",
       "      <td>0.0</td>\n",
       "      <td>0.0</td>\n",
       "      <td>0.000000</td>\n",
       "      <td>0.0</td>\n",
       "      <td>0.0</td>\n",
       "      <td>0.0</td>\n",
       "      <td>0.0</td>\n",
       "      <td>0.0</td>\n",
       "      <td>0.0</td>\n",
       "    </tr>\n",
       "    <tr>\n",
       "      <th>...</th>\n",
       "      <td>...</td>\n",
       "      <td>...</td>\n",
       "      <td>...</td>\n",
       "      <td>...</td>\n",
       "      <td>...</td>\n",
       "      <td>...</td>\n",
       "      <td>...</td>\n",
       "      <td>...</td>\n",
       "      <td>...</td>\n",
       "      <td>...</td>\n",
       "      <td>...</td>\n",
       "      <td>...</td>\n",
       "      <td>...</td>\n",
       "      <td>...</td>\n",
       "      <td>...</td>\n",
       "      <td>...</td>\n",
       "      <td>...</td>\n",
       "      <td>...</td>\n",
       "      <td>...</td>\n",
       "      <td>...</td>\n",
       "      <td>...</td>\n",
       "    </tr>\n",
       "    <tr>\n",
       "      <th>3999</th>\n",
       "      <td>290217727</td>\n",
       "      <td>5</td>\n",
       "      <td>Australia</td>\n",
       "      <td>There's a reason why they call Disneyland  The...</td>\n",
       "      <td>Disneyland_California</td>\n",
       "      <td>2015</td>\n",
       "      <td>7</td>\n",
       "      <td>1</td>\n",
       "      <td>there's reason call disneyland happy place ear...</td>\n",
       "      <td>0.042</td>\n",
       "      <td>...</td>\n",
       "      <td>0.0</td>\n",
       "      <td>0.0</td>\n",
       "      <td>0.0</td>\n",
       "      <td>0.000000</td>\n",
       "      <td>0.0</td>\n",
       "      <td>0.0</td>\n",
       "      <td>0.0</td>\n",
       "      <td>0.0</td>\n",
       "      <td>0.0</td>\n",
       "      <td>0.0</td>\n",
       "    </tr>\n",
       "    <tr>\n",
       "      <th>4000</th>\n",
       "      <td>174264188</td>\n",
       "      <td>1</td>\n",
       "      <td>United Kingdom</td>\n",
       "      <td>I visited Disneyland Paris with my family (tee...</td>\n",
       "      <td>Disneyland_Paris</td>\n",
       "      <td>2013</td>\n",
       "      <td>8</td>\n",
       "      <td>0</td>\n",
       "      <td>visit disneyland paris family teenage daughter...</td>\n",
       "      <td>0.081</td>\n",
       "      <td>...</td>\n",
       "      <td>0.0</td>\n",
       "      <td>0.0</td>\n",
       "      <td>0.0</td>\n",
       "      <td>0.000000</td>\n",
       "      <td>0.0</td>\n",
       "      <td>0.0</td>\n",
       "      <td>0.0</td>\n",
       "      <td>0.0</td>\n",
       "      <td>0.0</td>\n",
       "      <td>0.0</td>\n",
       "    </tr>\n",
       "    <tr>\n",
       "      <th>4001</th>\n",
       "      <td>638583788</td>\n",
       "      <td>5</td>\n",
       "      <td>United States</td>\n",
       "      <td>What a great day we had we did so much before ...</td>\n",
       "      <td>Disneyland_California</td>\n",
       "      <td>2018</td>\n",
       "      <td>12</td>\n",
       "      <td>1</td>\n",
       "      <td>great day much great guide grandson amaze well...</td>\n",
       "      <td>0.000</td>\n",
       "      <td>...</td>\n",
       "      <td>0.0</td>\n",
       "      <td>0.0</td>\n",
       "      <td>0.0</td>\n",
       "      <td>0.000000</td>\n",
       "      <td>0.0</td>\n",
       "      <td>0.0</td>\n",
       "      <td>0.0</td>\n",
       "      <td>0.0</td>\n",
       "      <td>0.0</td>\n",
       "      <td>0.0</td>\n",
       "    </tr>\n",
       "    <tr>\n",
       "      <th>4002</th>\n",
       "      <td>226159775</td>\n",
       "      <td>5</td>\n",
       "      <td>Philippines</td>\n",
       "      <td>It has been a childhood dream of mine to go to...</td>\n",
       "      <td>Disneyland_California</td>\n",
       "      <td>2013</td>\n",
       "      <td>10</td>\n",
       "      <td>1</td>\n",
       "      <td>childhood dream mine go disneyland whether you...</td>\n",
       "      <td>0.000</td>\n",
       "      <td>...</td>\n",
       "      <td>0.0</td>\n",
       "      <td>0.0</td>\n",
       "      <td>0.0</td>\n",
       "      <td>0.432261</td>\n",
       "      <td>0.0</td>\n",
       "      <td>0.0</td>\n",
       "      <td>0.0</td>\n",
       "      <td>0.0</td>\n",
       "      <td>0.0</td>\n",
       "      <td>0.0</td>\n",
       "    </tr>\n",
       "    <tr>\n",
       "      <th>4003</th>\n",
       "      <td>143521522</td>\n",
       "      <td>4</td>\n",
       "      <td>United Kingdom</td>\n",
       "      <td>Well my wife and I visted in October 2012 for ...</td>\n",
       "      <td>Disneyland_Paris</td>\n",
       "      <td>2012</td>\n",
       "      <td>10</td>\n",
       "      <td>1</td>\n",
       "      <td>well wife visted october parcs real complaint ...</td>\n",
       "      <td>0.030</td>\n",
       "      <td>...</td>\n",
       "      <td>0.0</td>\n",
       "      <td>0.0</td>\n",
       "      <td>0.0</td>\n",
       "      <td>0.000000</td>\n",
       "      <td>0.0</td>\n",
       "      <td>0.0</td>\n",
       "      <td>0.0</td>\n",
       "      <td>0.0</td>\n",
       "      <td>0.0</td>\n",
       "      <td>0.0</td>\n",
       "    </tr>\n",
       "  </tbody>\n",
       "</table>\n",
       "<p>4004 rows × 2150 columns</p>\n",
       "</div>"
      ],
      "text/plain": [
       "      Review_ID  Rating Reviewer_Location  \\\n",
       "0     122944085       5     United States   \n",
       "1     290851203       5    United Kingdom   \n",
       "2     168087311       4            Canada   \n",
       "3     282417360       5          Pakistan   \n",
       "4     160953212       3             India   \n",
       "...         ...     ...               ...   \n",
       "3999  290217727       5         Australia   \n",
       "4000  174264188       1    United Kingdom   \n",
       "4001  638583788       5     United States   \n",
       "4002  226159775       5       Philippines   \n",
       "4003  143521522       4    United Kingdom   \n",
       "\n",
       "                                            Review_Text  \\\n",
       "0     Spotlessly clean and so organized considering ...   \n",
       "1     Pricey but worth it, unfortunately the big thu...   \n",
       "2     Disneyland is a magical place. Everyone, parti...   \n",
       "3     Disney land is a must when visiting Paris. The...   \n",
       "4     The HK Disneyland is definitely small, but it'...   \n",
       "...                                                 ...   \n",
       "3999  There's a reason why they call Disneyland  The...   \n",
       "4000  I visited Disneyland Paris with my family (tee...   \n",
       "4001  What a great day we had we did so much before ...   \n",
       "4002  It has been a childhood dream of mine to go to...   \n",
       "4003  Well my wife and I visted in October 2012 for ...   \n",
       "\n",
       "                     Branch  Year  Month  is_good_review  \\\n",
       "0     Disneyland_California  2011     10               1   \n",
       "1          Disneyland_Paris  2015      7               1   \n",
       "2     Disneyland_California  2013      7               1   \n",
       "3          Disneyland_Paris  2015      6               1   \n",
       "4       Disneyland_HongKong  2012      9               0   \n",
       "...                     ...   ...    ...             ...   \n",
       "3999  Disneyland_California  2015      7               1   \n",
       "4000       Disneyland_Paris  2013      8               0   \n",
       "4001  Disneyland_California  2018     12               1   \n",
       "4002  Disneyland_California  2013     10               1   \n",
       "4003       Disneyland_Paris  2012     10               1   \n",
       "\n",
       "                                           review_clean    neg  ...  word_yet  \\\n",
       "0     spotlessly clean organize consider thousand vi...  0.000  ...       0.0   \n",
       "1     pricey worth unfortunately big thunder mountai...  0.115  ...       0.0   \n",
       "2     disneyland magical place everyone particularly...  0.000  ...       0.0   \n",
       "3     disney land must visit paris frozen show best ...  0.028  ...       0.0   \n",
       "4     hk disneyland definitely small definitely fun ...  0.000  ...       0.0   \n",
       "...                                                 ...    ...  ...       ...   \n",
       "3999  there's reason call disneyland happy place ear...  0.042  ...       0.0   \n",
       "4000  visit disneyland paris family teenage daughter...  0.081  ...       0.0   \n",
       "4001  great day much great guide grandson amaze well...  0.000  ...       0.0   \n",
       "4002  childhood dream mine go disneyland whether you...  0.000  ...       0.0   \n",
       "4003  well wife visted october parcs real complaint ...  0.030  ...       0.0   \n",
       "\n",
       "      word_york  word_you  word_young  word_yr  word_yrs  word_yum  \\\n",
       "0           0.0       0.0    0.000000      0.0       0.0       0.0   \n",
       "1           0.0       0.0    0.000000      0.0       0.0       0.0   \n",
       "2           0.0       0.0    0.000000      0.0       0.0       0.0   \n",
       "3           0.0       0.0    0.000000      0.0       0.0       0.0   \n",
       "4           0.0       0.0    0.000000      0.0       0.0       0.0   \n",
       "...         ...       ...         ...      ...       ...       ...   \n",
       "3999        0.0       0.0    0.000000      0.0       0.0       0.0   \n",
       "4000        0.0       0.0    0.000000      0.0       0.0       0.0   \n",
       "4001        0.0       0.0    0.000000      0.0       0.0       0.0   \n",
       "4002        0.0       0.0    0.432261      0.0       0.0       0.0   \n",
       "4003        0.0       0.0    0.000000      0.0       0.0       0.0   \n",
       "\n",
       "      word_yummy  word_zero  word_zone  \n",
       "0            0.0        0.0        0.0  \n",
       "1            0.0        0.0        0.0  \n",
       "2            0.0        0.0        0.0  \n",
       "3            0.0        0.0        0.0  \n",
       "4            0.0        0.0        0.0  \n",
       "...          ...        ...        ...  \n",
       "3999         0.0        0.0        0.0  \n",
       "4000         0.0        0.0        0.0  \n",
       "4001         0.0        0.0        0.0  \n",
       "4002         0.0        0.0        0.0  \n",
       "4003         0.0        0.0        0.0  \n",
       "\n",
       "[4004 rows x 2150 columns]"
      ]
     },
     "execution_count": 2,
     "metadata": {},
     "output_type": "execute_result"
    }
   ],
   "source": [
    "# read source file\n",
    "reviews_df = pd.read_csv(\"Resources/all_reviews_data.csv\", encoding='ISO-8859-1')\n",
    "\n",
    "\n",
    "# count of movie plot summaries\n",
    "# len(corpus)\n",
    "reviews_df"
   ]
  },
  {
   "cell_type": "code",
   "execution_count": 3,
   "id": "oriental-edgar",
   "metadata": {},
   "outputs": [],
   "source": [
    "#creates text variables with and without stopwords\n",
    "NPT = nlplot.NLPlot(reviews_df, target_col='Review_Text')\n",
    "npt = nlplot.NLPlot(reviews_df, target_col='review_clean')"
   ]
  },
  {
   "cell_type": "code",
   "execution_count": 4,
   "id": "angry-gibson",
   "metadata": {},
   "outputs": [],
   "source": [
    "stopwords = npt.get_stopword(top_n=30, min_freq=0)"
   ]
  },
  {
   "cell_type": "markdown",
   "id": "executive-sixth",
   "metadata": {},
   "source": [
    "## ngram barplot"
   ]
  },
  {
   "cell_type": "code",
   "execution_count": 9,
   "id": "unusual-mexican",
   "metadata": {},
   "outputs": [
    {
     "name": "stderr",
     "output_type": "stream",
     "text": [
      "100%|███████████████████████████████████████████████████████████████████████████| 4004/4004 [00:00<00:00, 21653.16it/s]\n",
      "100%|████████████████████████████████████████████████████████████████████████████| 4004/4004 [00:00<00:00, 7552.72it/s]\n"
     ]
    },
    {
     "data": {
      "application/vnd.plotly.v1+json": {
       "config": {
        "plotlyServerURL": "https://plot.ly"
       },
       "data": [
        {
         "alignmentgroup": "True",
         "hovertemplate": "word_count=%{text}<br>word=%{y}<extra></extra>",
         "legendgroup": "",
         "marker": {},
         "name": "",
         "offsetgroup": "",
         "orientation": "h",
         "showlegend": false,
         "text": [
          365,
          372,
          374,
          375,
          383,
          385,
          386,
          389,
          399,
          410,
          412,
          415,
          415,
          418,
          419,
          426,
          432,
          432,
          446,
          449,
          453,
          462,
          468,
          475,
          491,
          502,
          516,
          520,
          524,
          533,
          619,
          660,
          704,
          725,
          749,
          756,
          757,
          807,
          831,
          867,
          869,
          1029,
          1037,
          1150,
          1274,
          1384,
          1553,
          1657,
          1961,
          2559
         ],
         "textposition": "auto",
         "texttemplate": "%{text:.2s}",
         "type": "bar",
         "x": [
          365,
          372,
          374,
          375,
          383,
          385,
          386,
          389,
          399,
          410,
          412,
          415,
          415,
          418,
          419,
          426,
          432,
          432,
          446,
          449,
          453,
          462,
          468,
          475,
          491,
          502,
          516,
          520,
          524,
          533,
          619,
          660,
          704,
          725,
          749,
          756,
          757,
          807,
          831,
          867,
          869,
          1029,
          1037,
          1150,
          1274,
          1384,
          1553,
          1657,
          1961,
          2559
         ],
         "xaxis": "x",
         "y": [
          "the best",
          "to a",
          "have a",
          "this was",
          "to do",
          "was the",
          "fast pass",
          "been to",
          "from the",
          "the was",
          "have been",
          "on a",
          "a few",
          "i have",
          "there is",
          "in a",
          "have to",
          "is the",
          "you have",
          "and it",
          "you are",
          "and we",
          "there are",
          "we went",
          "a lot",
          "the is",
          "with the",
          "i was",
          "this is",
          "and i",
          "had a",
          "for a",
          "was a",
          "all the",
          "you can",
          "is a",
          "we had",
          "the rides",
          "to be",
          "we were",
          "on the",
          "it is",
          "at the",
          "if you",
          "for the",
          "and the",
          "to the",
          "it was",
          "in the",
          "of the"
         ],
         "yaxis": "y"
        }
       ],
       "layout": {
        "barmode": "relative",
        "height": 1100,
        "legend": {
         "tracegroupgap": 0
        },
        "margin": {
         "t": 60
        },
        "template": {
         "data": {
          "bar": [
           {
            "error_x": {
             "color": "#2a3f5f"
            },
            "error_y": {
             "color": "#2a3f5f"
            },
            "marker": {
             "line": {
              "color": "#E5ECF6",
              "width": 0.5
             }
            },
            "type": "bar"
           }
          ],
          "barpolar": [
           {
            "marker": {
             "line": {
              "color": "#E5ECF6",
              "width": 0.5
             }
            },
            "type": "barpolar"
           }
          ],
          "carpet": [
           {
            "aaxis": {
             "endlinecolor": "#2a3f5f",
             "gridcolor": "white",
             "linecolor": "white",
             "minorgridcolor": "white",
             "startlinecolor": "#2a3f5f"
            },
            "baxis": {
             "endlinecolor": "#2a3f5f",
             "gridcolor": "white",
             "linecolor": "white",
             "minorgridcolor": "white",
             "startlinecolor": "#2a3f5f"
            },
            "type": "carpet"
           }
          ],
          "choropleth": [
           {
            "colorbar": {
             "outlinewidth": 0,
             "ticks": ""
            },
            "type": "choropleth"
           }
          ],
          "contour": [
           {
            "colorbar": {
             "outlinewidth": 0,
             "ticks": ""
            },
            "colorscale": [
             [
              0,
              "#0d0887"
             ],
             [
              0.1111111111111111,
              "#46039f"
             ],
             [
              0.2222222222222222,
              "#7201a8"
             ],
             [
              0.3333333333333333,
              "#9c179e"
             ],
             [
              0.4444444444444444,
              "#bd3786"
             ],
             [
              0.5555555555555556,
              "#d8576b"
             ],
             [
              0.6666666666666666,
              "#ed7953"
             ],
             [
              0.7777777777777778,
              "#fb9f3a"
             ],
             [
              0.8888888888888888,
              "#fdca26"
             ],
             [
              1,
              "#f0f921"
             ]
            ],
            "type": "contour"
           }
          ],
          "contourcarpet": [
           {
            "colorbar": {
             "outlinewidth": 0,
             "ticks": ""
            },
            "type": "contourcarpet"
           }
          ],
          "heatmap": [
           {
            "colorbar": {
             "outlinewidth": 0,
             "ticks": ""
            },
            "colorscale": [
             [
              0,
              "#0d0887"
             ],
             [
              0.1111111111111111,
              "#46039f"
             ],
             [
              0.2222222222222222,
              "#7201a8"
             ],
             [
              0.3333333333333333,
              "#9c179e"
             ],
             [
              0.4444444444444444,
              "#bd3786"
             ],
             [
              0.5555555555555556,
              "#d8576b"
             ],
             [
              0.6666666666666666,
              "#ed7953"
             ],
             [
              0.7777777777777778,
              "#fb9f3a"
             ],
             [
              0.8888888888888888,
              "#fdca26"
             ],
             [
              1,
              "#f0f921"
             ]
            ],
            "type": "heatmap"
           }
          ],
          "heatmapgl": [
           {
            "colorbar": {
             "outlinewidth": 0,
             "ticks": ""
            },
            "colorscale": [
             [
              0,
              "#0d0887"
             ],
             [
              0.1111111111111111,
              "#46039f"
             ],
             [
              0.2222222222222222,
              "#7201a8"
             ],
             [
              0.3333333333333333,
              "#9c179e"
             ],
             [
              0.4444444444444444,
              "#bd3786"
             ],
             [
              0.5555555555555556,
              "#d8576b"
             ],
             [
              0.6666666666666666,
              "#ed7953"
             ],
             [
              0.7777777777777778,
              "#fb9f3a"
             ],
             [
              0.8888888888888888,
              "#fdca26"
             ],
             [
              1,
              "#f0f921"
             ]
            ],
            "type": "heatmapgl"
           }
          ],
          "histogram": [
           {
            "marker": {
             "colorbar": {
              "outlinewidth": 0,
              "ticks": ""
             }
            },
            "type": "histogram"
           }
          ],
          "histogram2d": [
           {
            "colorbar": {
             "outlinewidth": 0,
             "ticks": ""
            },
            "colorscale": [
             [
              0,
              "#0d0887"
             ],
             [
              0.1111111111111111,
              "#46039f"
             ],
             [
              0.2222222222222222,
              "#7201a8"
             ],
             [
              0.3333333333333333,
              "#9c179e"
             ],
             [
              0.4444444444444444,
              "#bd3786"
             ],
             [
              0.5555555555555556,
              "#d8576b"
             ],
             [
              0.6666666666666666,
              "#ed7953"
             ],
             [
              0.7777777777777778,
              "#fb9f3a"
             ],
             [
              0.8888888888888888,
              "#fdca26"
             ],
             [
              1,
              "#f0f921"
             ]
            ],
            "type": "histogram2d"
           }
          ],
          "histogram2dcontour": [
           {
            "colorbar": {
             "outlinewidth": 0,
             "ticks": ""
            },
            "colorscale": [
             [
              0,
              "#0d0887"
             ],
             [
              0.1111111111111111,
              "#46039f"
             ],
             [
              0.2222222222222222,
              "#7201a8"
             ],
             [
              0.3333333333333333,
              "#9c179e"
             ],
             [
              0.4444444444444444,
              "#bd3786"
             ],
             [
              0.5555555555555556,
              "#d8576b"
             ],
             [
              0.6666666666666666,
              "#ed7953"
             ],
             [
              0.7777777777777778,
              "#fb9f3a"
             ],
             [
              0.8888888888888888,
              "#fdca26"
             ],
             [
              1,
              "#f0f921"
             ]
            ],
            "type": "histogram2dcontour"
           }
          ],
          "mesh3d": [
           {
            "colorbar": {
             "outlinewidth": 0,
             "ticks": ""
            },
            "type": "mesh3d"
           }
          ],
          "parcoords": [
           {
            "line": {
             "colorbar": {
              "outlinewidth": 0,
              "ticks": ""
             }
            },
            "type": "parcoords"
           }
          ],
          "pie": [
           {
            "automargin": true,
            "type": "pie"
           }
          ],
          "scatter": [
           {
            "marker": {
             "colorbar": {
              "outlinewidth": 0,
              "ticks": ""
             }
            },
            "type": "scatter"
           }
          ],
          "scatter3d": [
           {
            "line": {
             "colorbar": {
              "outlinewidth": 0,
              "ticks": ""
             }
            },
            "marker": {
             "colorbar": {
              "outlinewidth": 0,
              "ticks": ""
             }
            },
            "type": "scatter3d"
           }
          ],
          "scattercarpet": [
           {
            "marker": {
             "colorbar": {
              "outlinewidth": 0,
              "ticks": ""
             }
            },
            "type": "scattercarpet"
           }
          ],
          "scattergeo": [
           {
            "marker": {
             "colorbar": {
              "outlinewidth": 0,
              "ticks": ""
             }
            },
            "type": "scattergeo"
           }
          ],
          "scattergl": [
           {
            "marker": {
             "colorbar": {
              "outlinewidth": 0,
              "ticks": ""
             }
            },
            "type": "scattergl"
           }
          ],
          "scattermapbox": [
           {
            "marker": {
             "colorbar": {
              "outlinewidth": 0,
              "ticks": ""
             }
            },
            "type": "scattermapbox"
           }
          ],
          "scatterpolar": [
           {
            "marker": {
             "colorbar": {
              "outlinewidth": 0,
              "ticks": ""
             }
            },
            "type": "scatterpolar"
           }
          ],
          "scatterpolargl": [
           {
            "marker": {
             "colorbar": {
              "outlinewidth": 0,
              "ticks": ""
             }
            },
            "type": "scatterpolargl"
           }
          ],
          "scatterternary": [
           {
            "marker": {
             "colorbar": {
              "outlinewidth": 0,
              "ticks": ""
             }
            },
            "type": "scatterternary"
           }
          ],
          "surface": [
           {
            "colorbar": {
             "outlinewidth": 0,
             "ticks": ""
            },
            "colorscale": [
             [
              0,
              "#0d0887"
             ],
             [
              0.1111111111111111,
              "#46039f"
             ],
             [
              0.2222222222222222,
              "#7201a8"
             ],
             [
              0.3333333333333333,
              "#9c179e"
             ],
             [
              0.4444444444444444,
              "#bd3786"
             ],
             [
              0.5555555555555556,
              "#d8576b"
             ],
             [
              0.6666666666666666,
              "#ed7953"
             ],
             [
              0.7777777777777778,
              "#fb9f3a"
             ],
             [
              0.8888888888888888,
              "#fdca26"
             ],
             [
              1,
              "#f0f921"
             ]
            ],
            "type": "surface"
           }
          ],
          "table": [
           {
            "cells": {
             "fill": {
              "color": "#EBF0F8"
             },
             "line": {
              "color": "white"
             }
            },
            "header": {
             "fill": {
              "color": "#C8D4E3"
             },
             "line": {
              "color": "white"
             }
            },
            "type": "table"
           }
          ]
         },
         "layout": {
          "annotationdefaults": {
           "arrowcolor": "#2a3f5f",
           "arrowhead": 0,
           "arrowwidth": 1
          },
          "autotypenumbers": "strict",
          "coloraxis": {
           "colorbar": {
            "outlinewidth": 0,
            "ticks": ""
           }
          },
          "colorscale": {
           "diverging": [
            [
             0,
             "#8e0152"
            ],
            [
             0.1,
             "#c51b7d"
            ],
            [
             0.2,
             "#de77ae"
            ],
            [
             0.3,
             "#f1b6da"
            ],
            [
             0.4,
             "#fde0ef"
            ],
            [
             0.5,
             "#f7f7f7"
            ],
            [
             0.6,
             "#e6f5d0"
            ],
            [
             0.7,
             "#b8e186"
            ],
            [
             0.8,
             "#7fbc41"
            ],
            [
             0.9,
             "#4d9221"
            ],
            [
             1,
             "#276419"
            ]
           ],
           "sequential": [
            [
             0,
             "#0d0887"
            ],
            [
             0.1111111111111111,
             "#46039f"
            ],
            [
             0.2222222222222222,
             "#7201a8"
            ],
            [
             0.3333333333333333,
             "#9c179e"
            ],
            [
             0.4444444444444444,
             "#bd3786"
            ],
            [
             0.5555555555555556,
             "#d8576b"
            ],
            [
             0.6666666666666666,
             "#ed7953"
            ],
            [
             0.7777777777777778,
             "#fb9f3a"
            ],
            [
             0.8888888888888888,
             "#fdca26"
            ],
            [
             1,
             "#f0f921"
            ]
           ],
           "sequentialminus": [
            [
             0,
             "#0d0887"
            ],
            [
             0.1111111111111111,
             "#46039f"
            ],
            [
             0.2222222222222222,
             "#7201a8"
            ],
            [
             0.3333333333333333,
             "#9c179e"
            ],
            [
             0.4444444444444444,
             "#bd3786"
            ],
            [
             0.5555555555555556,
             "#d8576b"
            ],
            [
             0.6666666666666666,
             "#ed7953"
            ],
            [
             0.7777777777777778,
             "#fb9f3a"
            ],
            [
             0.8888888888888888,
             "#fdca26"
            ],
            [
             1,
             "#f0f921"
            ]
           ]
          },
          "colorway": [
           "#636efa",
           "#EF553B",
           "#00cc96",
           "#ab63fa",
           "#FFA15A",
           "#19d3f3",
           "#FF6692",
           "#B6E880",
           "#FF97FF",
           "#FECB52"
          ],
          "font": {
           "color": "#2a3f5f"
          },
          "geo": {
           "bgcolor": "white",
           "lakecolor": "white",
           "landcolor": "#E5ECF6",
           "showlakes": true,
           "showland": true,
           "subunitcolor": "white"
          },
          "hoverlabel": {
           "align": "left"
          },
          "hovermode": "closest",
          "mapbox": {
           "style": "light"
          },
          "paper_bgcolor": "white",
          "plot_bgcolor": "#E5ECF6",
          "polar": {
           "angularaxis": {
            "gridcolor": "white",
            "linecolor": "white",
            "ticks": ""
           },
           "bgcolor": "#E5ECF6",
           "radialaxis": {
            "gridcolor": "white",
            "linecolor": "white",
            "ticks": ""
           }
          },
          "scene": {
           "xaxis": {
            "backgroundcolor": "#E5ECF6",
            "gridcolor": "white",
            "gridwidth": 2,
            "linecolor": "white",
            "showbackground": true,
            "ticks": "",
            "zerolinecolor": "white"
           },
           "yaxis": {
            "backgroundcolor": "#E5ECF6",
            "gridcolor": "white",
            "gridwidth": 2,
            "linecolor": "white",
            "showbackground": true,
            "ticks": "",
            "zerolinecolor": "white"
           },
           "zaxis": {
            "backgroundcolor": "#E5ECF6",
            "gridcolor": "white",
            "gridwidth": 2,
            "linecolor": "white",
            "showbackground": true,
            "ticks": "",
            "zerolinecolor": "white"
           }
          },
          "shapedefaults": {
           "line": {
            "color": "#2a3f5f"
           }
          },
          "ternary": {
           "aaxis": {
            "gridcolor": "white",
            "linecolor": "white",
            "ticks": ""
           },
           "baxis": {
            "gridcolor": "white",
            "linecolor": "white",
            "ticks": ""
           },
           "bgcolor": "#E5ECF6",
           "caxis": {
            "gridcolor": "white",
            "linecolor": "white",
            "ticks": ""
           }
          },
          "title": {
           "x": 0.05
          },
          "xaxis": {
           "automargin": true,
           "gridcolor": "white",
           "linecolor": "white",
           "ticks": "",
           "title": {
            "standoff": 15
           },
           "zerolinecolor": "white",
           "zerolinewidth": 2
          },
          "yaxis": {
           "automargin": true,
           "gridcolor": "white",
           "linecolor": "white",
           "ticks": "",
           "title": {
            "standoff": 15
           },
           "zerolinecolor": "white",
           "zerolinewidth": 2
          }
         }
        },
        "title": {
         "text": "Frequently Co-occurring Words"
        },
        "width": 800,
        "xaxis": {
         "anchor": "y",
         "domain": [
          0,
          1
         ],
         "title": {
          "text": ""
         }
        },
        "yaxis": {
         "anchor": "x",
         "domain": [
          0,
          1
         ],
         "title": {
          "text": ""
         }
        }
       }
      },
      "text/html": [
       "<div>                            <div id=\"4358ae63-b00c-4875-bf26-81cfefadcada\" class=\"plotly-graph-div\" style=\"height:1100px; width:800px;\"></div>            <script type=\"text/javascript\">                require([\"plotly\"], function(Plotly) {                    window.PLOTLYENV=window.PLOTLYENV || {};                                    if (document.getElementById(\"4358ae63-b00c-4875-bf26-81cfefadcada\")) {                    Plotly.newPlot(                        \"4358ae63-b00c-4875-bf26-81cfefadcada\",                        [{\"alignmentgroup\": \"True\", \"hovertemplate\": \"word_count=%{text}<br>word=%{y}<extra></extra>\", \"legendgroup\": \"\", \"marker\": {}, \"name\": \"\", \"offsetgroup\": \"\", \"orientation\": \"h\", \"showlegend\": false, \"text\": [365.0, 372.0, 374.0, 375.0, 383.0, 385.0, 386.0, 389.0, 399.0, 410.0, 412.0, 415.0, 415.0, 418.0, 419.0, 426.0, 432.0, 432.0, 446.0, 449.0, 453.0, 462.0, 468.0, 475.0, 491.0, 502.0, 516.0, 520.0, 524.0, 533.0, 619.0, 660.0, 704.0, 725.0, 749.0, 756.0, 757.0, 807.0, 831.0, 867.0, 869.0, 1029.0, 1037.0, 1150.0, 1274.0, 1384.0, 1553.0, 1657.0, 1961.0, 2559.0], \"textposition\": \"auto\", \"texttemplate\": \"%{text:.2s}\", \"type\": \"bar\", \"x\": [365, 372, 374, 375, 383, 385, 386, 389, 399, 410, 412, 415, 415, 418, 419, 426, 432, 432, 446, 449, 453, 462, 468, 475, 491, 502, 516, 520, 524, 533, 619, 660, 704, 725, 749, 756, 757, 807, 831, 867, 869, 1029, 1037, 1150, 1274, 1384, 1553, 1657, 1961, 2559], \"xaxis\": \"x\", \"y\": [\"the best\", \"to a\", \"have a\", \"this was\", \"to do\", \"was the\", \"fast pass\", \"been to\", \"from the\", \"the was\", \"have been\", \"on a\", \"a few\", \"i have\", \"there is\", \"in a\", \"have to\", \"is the\", \"you have\", \"and it\", \"you are\", \"and we\", \"there are\", \"we went\", \"a lot\", \"the is\", \"with the\", \"i was\", \"this is\", \"and i\", \"had a\", \"for a\", \"was a\", \"all the\", \"you can\", \"is a\", \"we had\", \"the rides\", \"to be\", \"we were\", \"on the\", \"it is\", \"at the\", \"if you\", \"for the\", \"and the\", \"to the\", \"it was\", \"in the\", \"of the\"], \"yaxis\": \"y\"}],                        {\"barmode\": \"relative\", \"height\": 1100, \"legend\": {\"tracegroupgap\": 0}, \"margin\": {\"t\": 60}, \"template\": {\"data\": {\"bar\": [{\"error_x\": {\"color\": \"#2a3f5f\"}, \"error_y\": {\"color\": \"#2a3f5f\"}, \"marker\": {\"line\": {\"color\": \"#E5ECF6\", \"width\": 0.5}}, \"type\": \"bar\"}], \"barpolar\": [{\"marker\": {\"line\": {\"color\": \"#E5ECF6\", \"width\": 0.5}}, \"type\": \"barpolar\"}], \"carpet\": [{\"aaxis\": {\"endlinecolor\": \"#2a3f5f\", \"gridcolor\": \"white\", \"linecolor\": \"white\", \"minorgridcolor\": \"white\", \"startlinecolor\": \"#2a3f5f\"}, \"baxis\": {\"endlinecolor\": \"#2a3f5f\", \"gridcolor\": \"white\", \"linecolor\": \"white\", \"minorgridcolor\": \"white\", \"startlinecolor\": \"#2a3f5f\"}, \"type\": \"carpet\"}], \"choropleth\": [{\"colorbar\": {\"outlinewidth\": 0, \"ticks\": \"\"}, \"type\": \"choropleth\"}], \"contour\": [{\"colorbar\": {\"outlinewidth\": 0, \"ticks\": \"\"}, \"colorscale\": [[0.0, \"#0d0887\"], [0.1111111111111111, \"#46039f\"], [0.2222222222222222, \"#7201a8\"], [0.3333333333333333, \"#9c179e\"], [0.4444444444444444, \"#bd3786\"], [0.5555555555555556, \"#d8576b\"], [0.6666666666666666, \"#ed7953\"], [0.7777777777777778, \"#fb9f3a\"], [0.8888888888888888, \"#fdca26\"], [1.0, \"#f0f921\"]], \"type\": \"contour\"}], \"contourcarpet\": [{\"colorbar\": {\"outlinewidth\": 0, \"ticks\": \"\"}, \"type\": \"contourcarpet\"}], \"heatmap\": [{\"colorbar\": {\"outlinewidth\": 0, \"ticks\": \"\"}, \"colorscale\": [[0.0, \"#0d0887\"], [0.1111111111111111, \"#46039f\"], [0.2222222222222222, \"#7201a8\"], [0.3333333333333333, \"#9c179e\"], [0.4444444444444444, \"#bd3786\"], [0.5555555555555556, \"#d8576b\"], [0.6666666666666666, \"#ed7953\"], [0.7777777777777778, \"#fb9f3a\"], [0.8888888888888888, \"#fdca26\"], [1.0, \"#f0f921\"]], \"type\": \"heatmap\"}], \"heatmapgl\": [{\"colorbar\": {\"outlinewidth\": 0, \"ticks\": \"\"}, \"colorscale\": [[0.0, \"#0d0887\"], [0.1111111111111111, \"#46039f\"], [0.2222222222222222, \"#7201a8\"], [0.3333333333333333, \"#9c179e\"], [0.4444444444444444, \"#bd3786\"], [0.5555555555555556, \"#d8576b\"], [0.6666666666666666, \"#ed7953\"], [0.7777777777777778, \"#fb9f3a\"], [0.8888888888888888, \"#fdca26\"], [1.0, \"#f0f921\"]], \"type\": \"heatmapgl\"}], \"histogram\": [{\"marker\": {\"colorbar\": {\"outlinewidth\": 0, \"ticks\": \"\"}}, \"type\": \"histogram\"}], \"histogram2d\": [{\"colorbar\": {\"outlinewidth\": 0, \"ticks\": \"\"}, \"colorscale\": [[0.0, \"#0d0887\"], [0.1111111111111111, \"#46039f\"], [0.2222222222222222, \"#7201a8\"], [0.3333333333333333, \"#9c179e\"], [0.4444444444444444, \"#bd3786\"], [0.5555555555555556, \"#d8576b\"], [0.6666666666666666, \"#ed7953\"], [0.7777777777777778, \"#fb9f3a\"], [0.8888888888888888, \"#fdca26\"], [1.0, \"#f0f921\"]], \"type\": \"histogram2d\"}], \"histogram2dcontour\": [{\"colorbar\": {\"outlinewidth\": 0, \"ticks\": \"\"}, \"colorscale\": [[0.0, \"#0d0887\"], [0.1111111111111111, \"#46039f\"], [0.2222222222222222, \"#7201a8\"], [0.3333333333333333, \"#9c179e\"], [0.4444444444444444, \"#bd3786\"], [0.5555555555555556, \"#d8576b\"], [0.6666666666666666, \"#ed7953\"], [0.7777777777777778, \"#fb9f3a\"], [0.8888888888888888, \"#fdca26\"], [1.0, \"#f0f921\"]], \"type\": \"histogram2dcontour\"}], \"mesh3d\": [{\"colorbar\": {\"outlinewidth\": 0, \"ticks\": \"\"}, \"type\": \"mesh3d\"}], \"parcoords\": [{\"line\": {\"colorbar\": {\"outlinewidth\": 0, \"ticks\": \"\"}}, \"type\": \"parcoords\"}], \"pie\": [{\"automargin\": true, \"type\": \"pie\"}], \"scatter\": [{\"marker\": {\"colorbar\": {\"outlinewidth\": 0, \"ticks\": \"\"}}, \"type\": \"scatter\"}], \"scatter3d\": [{\"line\": {\"colorbar\": {\"outlinewidth\": 0, \"ticks\": \"\"}}, \"marker\": {\"colorbar\": {\"outlinewidth\": 0, \"ticks\": \"\"}}, \"type\": \"scatter3d\"}], \"scattercarpet\": [{\"marker\": {\"colorbar\": {\"outlinewidth\": 0, \"ticks\": \"\"}}, \"type\": \"scattercarpet\"}], \"scattergeo\": [{\"marker\": {\"colorbar\": {\"outlinewidth\": 0, \"ticks\": \"\"}}, \"type\": \"scattergeo\"}], \"scattergl\": [{\"marker\": {\"colorbar\": {\"outlinewidth\": 0, \"ticks\": \"\"}}, \"type\": \"scattergl\"}], \"scattermapbox\": [{\"marker\": {\"colorbar\": {\"outlinewidth\": 0, \"ticks\": \"\"}}, \"type\": \"scattermapbox\"}], \"scatterpolar\": [{\"marker\": {\"colorbar\": {\"outlinewidth\": 0, \"ticks\": \"\"}}, \"type\": \"scatterpolar\"}], \"scatterpolargl\": [{\"marker\": {\"colorbar\": {\"outlinewidth\": 0, \"ticks\": \"\"}}, \"type\": \"scatterpolargl\"}], \"scatterternary\": [{\"marker\": {\"colorbar\": {\"outlinewidth\": 0, \"ticks\": \"\"}}, \"type\": \"scatterternary\"}], \"surface\": [{\"colorbar\": {\"outlinewidth\": 0, \"ticks\": \"\"}, \"colorscale\": [[0.0, \"#0d0887\"], [0.1111111111111111, \"#46039f\"], [0.2222222222222222, \"#7201a8\"], [0.3333333333333333, \"#9c179e\"], [0.4444444444444444, \"#bd3786\"], [0.5555555555555556, \"#d8576b\"], [0.6666666666666666, \"#ed7953\"], [0.7777777777777778, \"#fb9f3a\"], [0.8888888888888888, \"#fdca26\"], [1.0, \"#f0f921\"]], \"type\": \"surface\"}], \"table\": [{\"cells\": {\"fill\": {\"color\": \"#EBF0F8\"}, \"line\": {\"color\": \"white\"}}, \"header\": {\"fill\": {\"color\": \"#C8D4E3\"}, \"line\": {\"color\": \"white\"}}, \"type\": \"table\"}]}, \"layout\": {\"annotationdefaults\": {\"arrowcolor\": \"#2a3f5f\", \"arrowhead\": 0, \"arrowwidth\": 1}, \"autotypenumbers\": \"strict\", \"coloraxis\": {\"colorbar\": {\"outlinewidth\": 0, \"ticks\": \"\"}}, \"colorscale\": {\"diverging\": [[0, \"#8e0152\"], [0.1, \"#c51b7d\"], [0.2, \"#de77ae\"], [0.3, \"#f1b6da\"], [0.4, \"#fde0ef\"], [0.5, \"#f7f7f7\"], [0.6, \"#e6f5d0\"], [0.7, \"#b8e186\"], [0.8, \"#7fbc41\"], [0.9, \"#4d9221\"], [1, \"#276419\"]], \"sequential\": [[0.0, \"#0d0887\"], [0.1111111111111111, \"#46039f\"], [0.2222222222222222, \"#7201a8\"], [0.3333333333333333, \"#9c179e\"], [0.4444444444444444, \"#bd3786\"], [0.5555555555555556, \"#d8576b\"], [0.6666666666666666, \"#ed7953\"], [0.7777777777777778, \"#fb9f3a\"], [0.8888888888888888, \"#fdca26\"], [1.0, \"#f0f921\"]], \"sequentialminus\": [[0.0, \"#0d0887\"], [0.1111111111111111, \"#46039f\"], [0.2222222222222222, \"#7201a8\"], [0.3333333333333333, \"#9c179e\"], [0.4444444444444444, \"#bd3786\"], [0.5555555555555556, \"#d8576b\"], [0.6666666666666666, \"#ed7953\"], [0.7777777777777778, \"#fb9f3a\"], [0.8888888888888888, \"#fdca26\"], [1.0, \"#f0f921\"]]}, \"colorway\": [\"#636efa\", \"#EF553B\", \"#00cc96\", \"#ab63fa\", \"#FFA15A\", \"#19d3f3\", \"#FF6692\", \"#B6E880\", \"#FF97FF\", \"#FECB52\"], \"font\": {\"color\": \"#2a3f5f\"}, \"geo\": {\"bgcolor\": \"white\", \"lakecolor\": \"white\", \"landcolor\": \"#E5ECF6\", \"showlakes\": true, \"showland\": true, \"subunitcolor\": \"white\"}, \"hoverlabel\": {\"align\": \"left\"}, \"hovermode\": \"closest\", \"mapbox\": {\"style\": \"light\"}, \"paper_bgcolor\": \"white\", \"plot_bgcolor\": \"#E5ECF6\", \"polar\": {\"angularaxis\": {\"gridcolor\": \"white\", \"linecolor\": \"white\", \"ticks\": \"\"}, \"bgcolor\": \"#E5ECF6\", \"radialaxis\": {\"gridcolor\": \"white\", \"linecolor\": \"white\", \"ticks\": \"\"}}, \"scene\": {\"xaxis\": {\"backgroundcolor\": \"#E5ECF6\", \"gridcolor\": \"white\", \"gridwidth\": 2, \"linecolor\": \"white\", \"showbackground\": true, \"ticks\": \"\", \"zerolinecolor\": \"white\"}, \"yaxis\": {\"backgroundcolor\": \"#E5ECF6\", \"gridcolor\": \"white\", \"gridwidth\": 2, \"linecolor\": \"white\", \"showbackground\": true, \"ticks\": \"\", \"zerolinecolor\": \"white\"}, \"zaxis\": {\"backgroundcolor\": \"#E5ECF6\", \"gridcolor\": \"white\", \"gridwidth\": 2, \"linecolor\": \"white\", \"showbackground\": true, \"ticks\": \"\", \"zerolinecolor\": \"white\"}}, \"shapedefaults\": {\"line\": {\"color\": \"#2a3f5f\"}}, \"ternary\": {\"aaxis\": {\"gridcolor\": \"white\", \"linecolor\": \"white\", \"ticks\": \"\"}, \"baxis\": {\"gridcolor\": \"white\", \"linecolor\": \"white\", \"ticks\": \"\"}, \"bgcolor\": \"#E5ECF6\", \"caxis\": {\"gridcolor\": \"white\", \"linecolor\": \"white\", \"ticks\": \"\"}}, \"title\": {\"x\": 0.05}, \"xaxis\": {\"automargin\": true, \"gridcolor\": \"white\", \"linecolor\": \"white\", \"ticks\": \"\", \"title\": {\"standoff\": 15}, \"zerolinecolor\": \"white\", \"zerolinewidth\": 2}, \"yaxis\": {\"automargin\": true, \"gridcolor\": \"white\", \"linecolor\": \"white\", \"ticks\": \"\", \"title\": {\"standoff\": 15}, \"zerolinecolor\": \"white\", \"zerolinewidth\": 2}}}, \"title\": {\"text\": \"Frequently Co-occurring Words\"}, \"width\": 800, \"xaxis\": {\"anchor\": \"y\", \"domain\": [0.0, 1.0], \"title\": {\"text\": \"\"}}, \"yaxis\": {\"anchor\": \"x\", \"domain\": [0.0, 1.0], \"title\": {\"text\": \"\"}}},                        {\"responsive\": true}                    ).then(function(){\n",
       "                            \n",
       "var gd = document.getElementById('4358ae63-b00c-4875-bf26-81cfefadcada');\n",
       "var x = new MutationObserver(function (mutations, observer) {{\n",
       "        var display = window.getComputedStyle(gd).display;\n",
       "        if (!display || display === 'none') {{\n",
       "            console.log([gd, 'removed!']);\n",
       "            Plotly.purge(gd);\n",
       "            observer.disconnect();\n",
       "        }}\n",
       "}});\n",
       "\n",
       "// Listen for the removal of the full notebook cells\n",
       "var notebookContainer = gd.closest('#notebook-container');\n",
       "if (notebookContainer) {{\n",
       "    x.observe(notebookContainer, {childList: true});\n",
       "}}\n",
       "\n",
       "// Listen for the clearing of the current output cell\n",
       "var outputEl = gd.closest('.output');\n",
       "if (outputEl) {{\n",
       "    x.observe(outputEl, {childList: true});\n",
       "}}\n",
       "\n",
       "                        })                };                });            </script>        </div>"
      ]
     },
     "metadata": {},
     "output_type": "display_data"
    }
   ],
   "source": [
    "#renders barplot showing frequently co-occuring words in data\n",
    "npt.bar_ngram(title='uni-gram', ngram=1, top_n=50, stopwords=stopwords)\n",
    "#selects ngram visualization to bi-gram(2 words) ngram argument allows for trigrams, etc. \n",
    "bgram = NPT.bar_ngram(title='Frequently Co-occurring Words', ngram=2, top_n=50, stopwords=stopwords)\n",
    "bgram.write_html(\"Resources/common_bigrams.html\")\n",
    "bgram"
   ]
  },
  {
   "cell_type": "markdown",
   "id": "electronic-institute",
   "metadata": {},
   "source": [
    "## LDAvis"
   ]
  },
  {
   "cell_type": "code",
   "execution_count": 21,
   "id": "searching-croatia",
   "metadata": {},
   "outputs": [
    {
     "ename": "AttributeError",
     "evalue": "'PreparedData' object has no attribute 'write_html'",
     "output_type": "error",
     "traceback": [
      "\u001b[1;31m---------------------------------------------------------------------------\u001b[0m",
      "\u001b[1;31mAttributeError\u001b[0m                            Traceback (most recent call last)",
      "\u001b[1;32m<ipython-input-21-575c381c9c69>\u001b[0m in \u001b[0;36m<module>\u001b[1;34m\u001b[0m\n\u001b[0;32m      2\u001b[0m \u001b[0mpyLDAvis\u001b[0m\u001b[1;33m.\u001b[0m\u001b[0menable_notebook\u001b[0m\u001b[1;33m(\u001b[0m\u001b[1;33m)\u001b[0m\u001b[1;33m\u001b[0m\u001b[1;33m\u001b[0m\u001b[0m\n\u001b[0;32m      3\u001b[0m \u001b[0mLDA\u001b[0m \u001b[1;33m=\u001b[0m \u001b[0mnpt\u001b[0m\u001b[1;33m.\u001b[0m\u001b[0mldavis\u001b[0m\u001b[1;33m(\u001b[0m\u001b[0mnum_topics\u001b[0m\u001b[1;33m=\u001b[0m\u001b[1;36m5\u001b[0m\u001b[1;33m,\u001b[0m \u001b[0mpasses\u001b[0m\u001b[1;33m=\u001b[0m\u001b[1;36m5\u001b[0m\u001b[1;33m,\u001b[0m \u001b[0msave\u001b[0m\u001b[1;33m=\u001b[0m\u001b[1;32mFalse\u001b[0m\u001b[1;33m)\u001b[0m\u001b[1;33m\u001b[0m\u001b[1;33m\u001b[0m\u001b[0m\n\u001b[1;32m----> 4\u001b[1;33m \u001b[0mLDA\u001b[0m\u001b[1;33m.\u001b[0m\u001b[0mwrite_html\u001b[0m\u001b[1;33m(\u001b[0m\u001b[1;34m\"Resources/LDA.html\"\u001b[0m\u001b[1;33m)\u001b[0m\u001b[1;33m\u001b[0m\u001b[1;33m\u001b[0m\u001b[0m\n\u001b[0m\u001b[0;32m      5\u001b[0m \u001b[0mLDA\u001b[0m\u001b[1;33m\u001b[0m\u001b[1;33m\u001b[0m\u001b[0m\n",
      "\u001b[1;31mAttributeError\u001b[0m: 'PreparedData' object has no attribute 'write_html'"
     ]
    }
   ],
   "source": [
    "#creates a LDAvis Plot to perform themat analysis (NOTE: must instal pyLDAvis first)\n",
    "import pyLDAvis\n",
    "pyLDAvis.enable_notebook()\n",
    "LDA = npt.ldavis(num_topics=5, passes=5, save=False)\n",
    "LDA.write_html(\"Resources/LDA.html\")\n",
    "LDA"
   ]
  },
  {
   "cell_type": "code",
   "execution_count": 16,
   "id": "chemical-disclosure",
   "metadata": {},
   "outputs": [
    {
     "ename": "AttributeError",
     "evalue": "'NLPlot' object has no attribute 'node_df'",
     "output_type": "error",
     "traceback": [
      "\u001b[1;31m---------------------------------------------------------------------------\u001b[0m",
      "\u001b[1;31mAttributeError\u001b[0m                            Traceback (most recent call last)",
      "\u001b[1;32m<ipython-input-16-9f10668fd805>\u001b[0m in \u001b[0;36m<module>\u001b[1;34m\u001b[0m\n\u001b[1;32m----> 1\u001b[1;33m \u001b[0mnpt\u001b[0m\u001b[1;33m.\u001b[0m\u001b[0msunburst\u001b[0m\u001b[1;33m(\u001b[0m\u001b[0mtitle\u001b[0m\u001b[1;33m=\u001b[0m\u001b[1;34m'sunburst chart'\u001b[0m\u001b[1;33m,\u001b[0m \u001b[0mcolorscale\u001b[0m\u001b[1;33m=\u001b[0m\u001b[1;32mTrue\u001b[0m\u001b[1;33m)\u001b[0m\u001b[1;33m\u001b[0m\u001b[1;33m\u001b[0m\u001b[0m\n\u001b[0m",
      "\u001b[1;32m~\\anaconda3\\envs\\PythonAdv\\lib\\site-packages\\nlplot\\nlplot.py\u001b[0m in \u001b[0;36msunburst\u001b[1;34m(self, title, colorscale, color_col, color_continuous_scale, width, height, save)\u001b[0m\n\u001b[0;32m    676\u001b[0m \u001b[1;33m\u001b[0m\u001b[0m\n\u001b[0;32m    677\u001b[0m         \u001b[1;31m# make copy of node dataframe\u001b[0m\u001b[1;33m\u001b[0m\u001b[1;33m\u001b[0m\u001b[1;33m\u001b[0m\u001b[0m\n\u001b[1;32m--> 678\u001b[1;33m         \u001b[0m_df\u001b[0m \u001b[1;33m=\u001b[0m \u001b[0mself\u001b[0m\u001b[1;33m.\u001b[0m\u001b[0mnode_df\u001b[0m\u001b[1;33m.\u001b[0m\u001b[0mcopy\u001b[0m\u001b[1;33m(\u001b[0m\u001b[1;33m)\u001b[0m\u001b[1;33m\u001b[0m\u001b[1;33m\u001b[0m\u001b[0m\n\u001b[0m\u001b[0;32m    679\u001b[0m \u001b[1;33m\u001b[0m\u001b[0m\n\u001b[0;32m    680\u001b[0m         \u001b[1;31m# change community label to string (needed for plot)\u001b[0m\u001b[1;33m\u001b[0m\u001b[1;33m\u001b[0m\u001b[1;33m\u001b[0m\u001b[0m\n",
      "\u001b[1;31mAttributeError\u001b[0m: 'NLPlot' object has no attribute 'node_df'"
     ]
    }
   ],
   "source": [
    "npt.sunburst(title='sunburst chart', colorscale=True)\n"
   ]
  },
  {
   "cell_type": "code",
   "execution_count": null,
   "id": "humanitarian-williams",
   "metadata": {},
   "outputs": [],
   "source": []
  },
  {
   "cell_type": "code",
   "execution_count": 17,
   "id": "southeast-finland",
   "metadata": {},
   "outputs": [
    {
     "data": {
      "application/vnd.plotly.v1+json": {
       "config": {
        "plotlyServerURL": "https://plot.ly"
       },
       "data": [
        {
         "alignmentgroup": "True",
         "bingroup": "x",
         "hovertemplate": "review_clean_length=%{x}<br>count=%{y}<extra></extra>",
         "legendgroup": "",
         "marker": {
          "color": "#636efa"
         },
         "name": "",
         "offsetgroup": "",
         "orientation": "v",
         "showlegend": false,
         "type": "histogram",
         "x": [
          7,
          50,
          34,
          29,
          42,
          22,
          17,
          24,
          170,
          95,
          10,
          30,
          103,
          65,
          130,
          62,
          199,
          106,
          116,
          84,
          58,
          29,
          54,
          53,
          27,
          30,
          19,
          40,
          26,
          61,
          31,
          32,
          20,
          62,
          37,
          22,
          17,
          140,
          64,
          25,
          25,
          132,
          76,
          37,
          57,
          32,
          97,
          78,
          40,
          240,
          62,
          460,
          12,
          833,
          16,
          71,
          37,
          19,
          40,
          61,
          30,
          31,
          57,
          21,
          219,
          22,
          21,
          29,
          62,
          26,
          22,
          26,
          68,
          77,
          57,
          37,
          25,
          140,
          19,
          46,
          78,
          24,
          49,
          61,
          10,
          72,
          147,
          265,
          79,
          28,
          138,
          29,
          39,
          12,
          108,
          109,
          30,
          165,
          10,
          44,
          65,
          91,
          14,
          55,
          40,
          23,
          40,
          52,
          21,
          79,
          26,
          54,
          70,
          68,
          37,
          54,
          19,
          16,
          11,
          49,
          46,
          68,
          52,
          47,
          11,
          31,
          12,
          27,
          26,
          21,
          125,
          112,
          56,
          16,
          21,
          17,
          55,
          57,
          46,
          29,
          50,
          205,
          34,
          39,
          106,
          110,
          58,
          105,
          44,
          73,
          32,
          13,
          16,
          208,
          71,
          11,
          37,
          12,
          48,
          26,
          190,
          43,
          23,
          22,
          49,
          19,
          91,
          44,
          36,
          28,
          96,
          41,
          52,
          74,
          34,
          35,
          46,
          95,
          16,
          139,
          27,
          94,
          47,
          30,
          22,
          24,
          83,
          35,
          16,
          19,
          19,
          119,
          163,
          88,
          89,
          267,
          12,
          280,
          39,
          57,
          99,
          99,
          27,
          39,
          24,
          60,
          15,
          26,
          194,
          15,
          32,
          77,
          64,
          110,
          29,
          24,
          141,
          46,
          12,
          64,
          35,
          58,
          457,
          120,
          26,
          90,
          62,
          97,
          32,
          48,
          104,
          18,
          64,
          19,
          15,
          51,
          46,
          22,
          76,
          22,
          15,
          23,
          19,
          14,
          81,
          30,
          111,
          110,
          85,
          84,
          34,
          86,
          25,
          22,
          91,
          12,
          132,
          27,
          27,
          156,
          52,
          125,
          111,
          52,
          164,
          91,
          33,
          38,
          51,
          75,
          24,
          16,
          311,
          32,
          89,
          100,
          102,
          13,
          14,
          22,
          28,
          27,
          93,
          69,
          14,
          10,
          15,
          37,
          22,
          11,
          42,
          49,
          30,
          33,
          10,
          39,
          14,
          30,
          20,
          121,
          50,
          41,
          21,
          552,
          93,
          13,
          34,
          51,
          17,
          47,
          30,
          131,
          22,
          115,
          20,
          29,
          48,
          41,
          35,
          12,
          35,
          28,
          174,
          36,
          77,
          44,
          163,
          69,
          365,
          13,
          18,
          72,
          139,
          46,
          28,
          10,
          16,
          44,
          33,
          28,
          28,
          149,
          186,
          146,
          14,
          46,
          40,
          24,
          14,
          45,
          42,
          9,
          32,
          17,
          21,
          7,
          23,
          178,
          11,
          64,
          13,
          64,
          16,
          115,
          55,
          18,
          66,
          65,
          108,
          116,
          139,
          195,
          14,
          125,
          94,
          58,
          150,
          147,
          16,
          16,
          33,
          41,
          44,
          24,
          20,
          44,
          19,
          933,
          66,
          14,
          168,
          57,
          7,
          54,
          36,
          48,
          47,
          63,
          51,
          25,
          72,
          19,
          39,
          30,
          7,
          35,
          20,
          52,
          47,
          12,
          44,
          232,
          63,
          35,
          36,
          12,
          71,
          19,
          249,
          44,
          116,
          31,
          344,
          21,
          10,
          21,
          32,
          37,
          25,
          47,
          18,
          80,
          93,
          69,
          51,
          26,
          70,
          13,
          151,
          14,
          32,
          3,
          18,
          119,
          24,
          138,
          55,
          43,
          76,
          23,
          24,
          11,
          17,
          14,
          9,
          161,
          391,
          34,
          25,
          31,
          127,
          17,
          42,
          18,
          29,
          11,
          49,
          30,
          70,
          26,
          72,
          29,
          84,
          86,
          184,
          18,
          19,
          16,
          114,
          20,
          28,
          17,
          37,
          43,
          71,
          17,
          57,
          46,
          37,
          35,
          31,
          55,
          8,
          18,
          94,
          31,
          80,
          21,
          34,
          13,
          90,
          21,
          563,
          122,
          37,
          193,
          22,
          10,
          45,
          75,
          55,
          81,
          21,
          29,
          52,
          52,
          43,
          11,
          32,
          104,
          45,
          22,
          79,
          21,
          18,
          19,
          14,
          34,
          50,
          58,
          137,
          22,
          12,
          13,
          110,
          25,
          44,
          105,
          88,
          18,
          20,
          36,
          46,
          18,
          210,
          10,
          13,
          211,
          27,
          17,
          39,
          33,
          14,
          26,
          15,
          110,
          38,
          51,
          130,
          17,
          35,
          47,
          232,
          30,
          26,
          12,
          44,
          84,
          30,
          125,
          39,
          33,
          51,
          137,
          20,
          44,
          14,
          24,
          217,
          153,
          46,
          21,
          48,
          33,
          79,
          22,
          27,
          50,
          29,
          16,
          65,
          59,
          21,
          11,
          43,
          425,
          69,
          164,
          17,
          14,
          14,
          40,
          19,
          80,
          292,
          13,
          26,
          50,
          10,
          52,
          14,
          24,
          101,
          45,
          9,
          54,
          45,
          45,
          104,
          20,
          22,
          178,
          42,
          126,
          56,
          27,
          30,
          74,
          60,
          32,
          20,
          63,
          45,
          24,
          67,
          42,
          56,
          12,
          11,
          57,
          47,
          18,
          16,
          21,
          23,
          50,
          120,
          88,
          115,
          31,
          117,
          12,
          73,
          163,
          55,
          103,
          17,
          91,
          235,
          42,
          84,
          24,
          32,
          60,
          100,
          22,
          381,
          12,
          29,
          11,
          29,
          26,
          32,
          290,
          75,
          11,
          58,
          46,
          20,
          21,
          21,
          15,
          47,
          134,
          57,
          130,
          86,
          38,
          48,
          49,
          39,
          106,
          40,
          166,
          15,
          30,
          36,
          16,
          55,
          65,
          58,
          41,
          55,
          32,
          45,
          26,
          51,
          72,
          73,
          18,
          475,
          54,
          35,
          12,
          60,
          75,
          18,
          81,
          88,
          24,
          26,
          101,
          13,
          25,
          29,
          34,
          74,
          18,
          28,
          222,
          18,
          20,
          38,
          24,
          96,
          134,
          116,
          105,
          14,
          22,
          185,
          33,
          13,
          19,
          57,
          31,
          62,
          44,
          31,
          69,
          31,
          115,
          13,
          271,
          29,
          87,
          59,
          28,
          48,
          25,
          12,
          265,
          42,
          111,
          20,
          148,
          20,
          99,
          13,
          50,
          31,
          56,
          28,
          40,
          13,
          10,
          39,
          67,
          142,
          12,
          32,
          21,
          13,
          73,
          118,
          31,
          110,
          26,
          117,
          59,
          32,
          31,
          30,
          63,
          14,
          177,
          36,
          42,
          30,
          30,
          73,
          10,
          64,
          48,
          22,
          29,
          46,
          36,
          40,
          15,
          104,
          17,
          32,
          41,
          32,
          33,
          67,
          84,
          12,
          139,
          81,
          26,
          71,
          10,
          204,
          50,
          25,
          50,
          133,
          63,
          57,
          78,
          113,
          128,
          21,
          22,
          13,
          28,
          55,
          29,
          63,
          123,
          97,
          124,
          42,
          17,
          108,
          139,
          16,
          51,
          24,
          189,
          27,
          19,
          98,
          17,
          23,
          25,
          46,
          18,
          27,
          18,
          69,
          21,
          22,
          69,
          9,
          29,
          32,
          82,
          29,
          11,
          82,
          62,
          19,
          16,
          29,
          22,
          20,
          29,
          35,
          23,
          22,
          66,
          57,
          32,
          183,
          105,
          51,
          67,
          38,
          72,
          38,
          31,
          137,
          70,
          80,
          54,
          13,
          13,
          156,
          9,
          26,
          13,
          86,
          100,
          205,
          538,
          15,
          46,
          15,
          13,
          33,
          33,
          28,
          24,
          39,
          19,
          26,
          31,
          34,
          22,
          42,
          30,
          17,
          41,
          25,
          26,
          11,
          14,
          88,
          37,
          41,
          7,
          15,
          15,
          196,
          31,
          13,
          36,
          25,
          15,
          48,
          32,
          66,
          12,
          28,
          9,
          125,
          61,
          143,
          11,
          26,
          15,
          78,
          163,
          115,
          22,
          152,
          159,
          222,
          34,
          17,
          106,
          63,
          40,
          34,
          20,
          38,
          17,
          26,
          11,
          37,
          23,
          78,
          86,
          205,
          59,
          22,
          13,
          143,
          14,
          15,
          32,
          41,
          36,
          34,
          17,
          22,
          47,
          76,
          70,
          9,
          23,
          61,
          16,
          15,
          84,
          29,
          18,
          28,
          80,
          260,
          6,
          40,
          90,
          28,
          73,
          16,
          14,
          104,
          51,
          38,
          18,
          158,
          18,
          50,
          38,
          13,
          66,
          40,
          23,
          34,
          67,
          44,
          64,
          1061,
          18,
          184,
          43,
          62,
          130,
          24,
          166,
          86,
          7,
          15,
          14,
          52,
          74,
          17,
          42,
          36,
          32,
          16,
          34,
          40,
          52,
          30,
          120,
          15,
          23,
          137,
          30,
          6,
          9,
          196,
          70,
          52,
          81,
          86,
          16,
          86,
          26,
          23,
          56,
          36,
          17,
          29,
          32,
          55,
          84,
          13,
          57,
          27,
          154,
          96,
          14,
          20,
          34,
          68,
          34,
          42,
          20,
          8,
          25,
          28,
          70,
          11,
          194,
          70,
          99,
          73,
          36,
          29,
          17,
          138,
          134,
          252,
          94,
          30,
          19,
          23,
          84,
          94,
          10,
          69,
          29,
          51,
          23,
          24,
          74,
          21,
          40,
          67,
          16,
          19,
          28,
          63,
          8,
          36,
          42,
          123,
          102,
          83,
          31,
          34,
          31,
          56,
          16,
          55,
          87,
          29,
          33,
          66,
          14,
          60,
          136,
          68,
          27,
          97,
          18,
          24,
          47,
          24,
          29,
          22,
          47,
          72,
          47,
          48,
          23,
          29,
          57,
          35,
          82,
          78,
          383,
          44,
          26,
          32,
          99,
          64,
          25,
          39,
          57,
          103,
          53,
          27,
          37,
          24,
          87,
          81,
          249,
          31,
          125,
          30,
          45,
          109,
          32,
          24,
          71,
          20,
          177,
          16,
          115,
          20,
          14,
          51,
          12,
          17,
          109,
          15,
          20,
          38,
          58,
          38,
          19,
          57,
          23,
          26,
          32,
          29,
          23,
          18,
          9,
          52,
          32,
          9,
          43,
          25,
          91,
          22,
          15,
          21,
          12,
          81,
          61,
          47,
          11,
          55,
          37,
          22,
          59,
          10,
          76,
          27,
          28,
          384,
          37,
          200,
          412,
          72,
          39,
          28,
          30,
          17,
          31,
          26,
          49,
          33,
          85,
          60,
          107,
          55,
          34,
          11,
          65,
          60,
          13,
          40,
          90,
          9,
          115,
          58,
          19,
          25,
          18,
          80,
          35,
          13,
          36,
          156,
          23,
          82,
          15,
          63,
          54,
          88,
          50,
          14,
          13,
          10,
          85,
          38,
          87,
          16,
          142,
          18,
          39,
          25,
          13,
          17,
          56,
          9,
          13,
          125,
          31,
          95,
          72,
          25,
          140,
          22,
          92,
          124,
          53,
          86,
          10,
          22,
          14,
          117,
          25,
          203,
          104,
          22,
          95,
          20,
          60,
          90,
          186,
          29,
          197,
          34,
          97,
          132,
          26,
          13,
          17,
          93,
          21,
          45,
          75,
          22,
          21,
          55,
          94,
          21,
          39,
          52,
          320,
          56,
          9,
          59,
          30,
          105,
          30,
          61,
          45,
          37,
          12,
          19,
          15,
          28,
          9,
          53,
          116,
          34,
          61,
          19,
          114,
          28,
          40,
          14,
          11,
          59,
          13,
          9,
          24,
          27,
          58,
          9,
          187,
          58,
          86,
          19,
          75,
          47,
          66,
          25,
          190,
          174,
          45,
          28,
          79,
          41,
          18,
          24,
          17,
          43,
          93,
          12,
          28,
          23,
          22,
          18,
          29,
          17,
          29,
          76,
          31,
          49,
          97,
          50,
          17,
          49,
          50,
          18,
          36,
          28,
          169,
          47,
          13,
          36,
          246,
          210,
          64,
          12,
          16,
          61,
          73,
          58,
          19,
          33,
          13,
          54,
          132,
          7,
          19,
          43,
          227,
          16,
          79,
          50,
          61,
          102,
          19,
          67,
          12,
          96,
          21,
          12,
          289,
          92,
          223,
          20,
          87,
          37,
          38,
          256,
          33,
          42,
          20,
          18,
          123,
          20,
          13,
          95,
          30,
          45,
          116,
          38,
          82,
          26,
          9,
          16,
          52,
          15,
          29,
          24,
          71,
          16,
          24,
          44,
          27,
          13,
          20,
          41,
          29,
          69,
          13,
          58,
          143,
          34,
          44,
          143,
          16,
          88,
          104,
          71,
          21,
          25,
          54,
          24,
          15,
          189,
          50,
          32,
          165,
          53,
          27,
          57,
          98,
          36,
          30,
          46,
          76,
          13,
          56,
          39,
          21,
          11,
          19,
          52,
          172,
          16,
          29,
          79,
          20,
          32,
          31,
          13,
          70,
          50,
          50,
          42,
          20,
          44,
          37,
          53,
          31,
          371,
          62,
          41,
          303,
          62,
          21,
          23,
          15,
          63,
          280,
          16,
          17,
          26,
          21,
          39,
          560,
          71,
          20,
          134,
          44,
          26,
          30,
          29,
          23,
          67,
          44,
          112,
          144,
          14,
          59,
          24,
          26,
          190,
          16,
          40,
          19,
          35,
          32,
          93,
          124,
          50,
          56,
          348,
          27,
          35,
          175,
          51,
          23,
          62,
          21,
          47,
          11,
          12,
          14,
          14,
          104,
          66,
          418,
          28,
          16,
          38,
          536,
          48,
          21,
          70,
          63,
          36,
          23,
          191,
          72,
          33,
          16,
          122,
          134,
          44,
          26,
          22,
          14,
          45,
          44,
          25,
          138,
          170,
          11,
          14,
          30,
          14,
          38,
          28,
          31,
          12,
          15,
          165,
          28,
          21,
          398,
          262,
          148,
          20,
          17,
          94,
          16,
          49,
          18,
          68,
          17,
          38,
          11,
          300,
          27,
          15,
          81,
          61,
          11,
          33,
          22,
          44,
          28,
          34,
          15,
          35,
          38,
          108,
          40,
          132,
          117,
          19,
          45,
          39,
          59,
          101,
          62,
          47,
          97,
          53,
          20,
          53,
          89,
          94,
          46,
          89,
          54,
          132,
          135,
          350,
          30,
          34,
          20,
          25,
          39,
          22,
          188,
          119,
          20,
          19,
          34,
          12,
          19,
          52,
          26,
          24,
          101,
          51,
          52,
          22,
          23,
          97,
          16,
          15,
          63,
          55,
          17,
          38,
          11,
          49,
          24,
          60,
          81,
          32,
          204,
          22,
          24,
          19,
          179,
          57,
          76,
          40,
          34,
          15,
          42,
          28,
          31,
          99,
          72,
          13,
          31,
          16,
          171,
          37,
          20,
          32,
          107,
          107,
          94,
          28,
          120,
          82,
          27,
          48,
          29,
          17,
          28,
          21,
          78,
          229,
          25,
          28,
          52,
          34,
          32,
          40,
          533,
          114,
          18,
          38,
          128,
          125,
          16,
          60,
          19,
          47,
          39,
          101,
          30,
          79,
          13,
          22,
          40,
          54,
          50,
          81,
          21,
          11,
          116,
          46,
          166,
          14,
          45,
          20,
          455,
          119,
          65,
          13,
          12,
          25,
          156,
          21,
          26,
          109,
          25,
          96,
          26,
          43,
          15,
          278,
          62,
          15,
          28,
          330,
          83,
          176,
          58,
          71,
          93,
          68,
          159,
          42,
          17,
          50,
          25,
          28,
          33,
          254,
          36,
          104,
          156,
          180,
          32,
          63,
          14,
          25,
          15,
          141,
          443,
          38,
          87,
          35,
          106,
          12,
          59,
          18,
          25,
          10,
          275,
          29,
          31,
          25,
          30,
          18,
          88,
          103,
          58,
          51,
          16,
          53,
          34,
          41,
          41,
          22,
          78,
          32,
          490,
          42,
          14,
          49,
          127,
          22,
          19,
          31,
          24,
          57,
          130,
          55,
          19,
          140,
          26,
          40,
          15,
          237,
          179,
          193,
          36,
          62,
          27,
          56,
          30,
          33,
          126,
          14,
          74,
          13,
          54,
          38,
          14,
          14,
          49,
          31,
          117,
          24,
          14,
          42,
          37,
          28,
          25,
          55,
          92,
          44,
          81,
          24,
          35,
          77,
          28,
          57,
          37,
          20,
          229,
          87,
          124,
          17,
          69,
          57,
          35,
          67,
          16,
          91,
          41,
          47,
          150,
          67,
          31,
          33,
          16,
          20,
          30,
          35,
          46,
          241,
          38,
          57,
          65,
          53,
          30,
          51,
          45,
          19,
          89,
          36,
          32,
          75,
          36,
          20,
          28,
          19,
          43,
          32,
          38,
          13,
          58,
          19,
          28,
          66,
          34,
          55,
          9,
          62,
          45,
          320,
          13,
          18,
          15,
          25,
          10,
          57,
          41,
          114,
          82,
          13,
          12,
          10,
          30,
          22,
          62,
          76,
          83,
          12,
          46,
          51,
          19,
          281,
          266,
          27,
          45,
          13,
          26,
          35,
          145,
          57,
          33,
          34,
          17,
          25,
          59,
          22,
          29,
          377,
          47,
          24,
          31,
          81,
          32,
          47,
          99,
          256,
          98,
          51,
          8,
          95,
          222,
          58,
          69,
          300,
          19,
          10,
          34,
          23,
          15,
          28,
          61,
          25,
          40,
          48,
          143,
          141,
          73,
          30,
          19,
          174,
          32,
          363,
          53,
          39,
          31,
          19,
          12,
          17,
          13,
          19,
          61,
          33,
          64,
          51,
          40,
          14,
          12,
          81,
          31,
          12,
          16,
          30,
          31,
          131,
          26,
          128,
          30,
          16,
          19,
          89,
          306,
          28,
          22,
          66,
          199,
          73,
          65,
          49,
          132,
          60,
          16,
          212,
          268,
          30,
          173,
          113,
          19,
          22,
          33,
          81,
          17,
          40,
          25,
          81,
          183,
          105,
          22,
          29,
          27,
          11,
          194,
          25,
          102,
          11,
          66,
          182,
          70,
          12,
          163,
          27,
          94,
          51,
          22,
          12,
          59,
          59,
          139,
          41,
          57,
          11,
          46,
          45,
          17,
          146,
          91,
          85,
          36,
          126,
          109,
          35,
          129,
          12,
          193,
          25,
          19,
          36,
          42,
          19,
          84,
          32,
          107,
          17,
          18,
          23,
          96,
          67,
          27,
          36,
          76,
          22,
          25,
          15,
          29,
          17,
          16,
          18,
          19,
          29,
          74,
          15,
          94,
          25,
          16,
          108,
          110,
          64,
          16,
          53,
          43,
          63,
          48,
          81,
          47,
          30,
          32,
          13,
          14,
          68,
          73,
          43,
          198,
          150,
          14,
          15,
          12,
          38,
          121,
          10,
          13,
          94,
          43,
          119,
          25,
          44,
          61,
          19,
          34,
          36,
          43,
          201,
          106,
          30,
          58,
          11,
          54,
          52,
          65,
          40,
          91,
          163,
          59,
          63,
          18,
          117,
          31,
          32,
          23,
          22,
          49,
          18,
          130,
          73,
          26,
          68,
          247,
          19,
          25,
          34,
          10,
          69,
          12,
          28,
          22,
          84,
          231,
          17,
          14,
          63,
          49,
          122,
          43,
          56,
          31,
          26,
          97,
          16,
          25,
          17,
          31,
          439,
          132,
          32,
          30,
          17,
          152,
          54,
          31,
          68,
          17,
          43,
          26,
          53,
          59,
          29,
          12,
          23,
          41,
          46,
          19,
          104,
          23,
          12,
          34,
          50,
          11,
          17,
          49,
          12,
          72,
          57,
          25,
          14,
          16,
          110,
          30,
          112,
          45,
          26,
          88,
          17,
          679,
          27,
          25,
          18,
          91,
          18,
          114,
          29,
          58,
          51,
          56,
          12,
          66,
          59,
          27,
          22,
          9,
          28,
          17,
          159,
          94,
          50,
          24,
          23,
          57,
          100,
          57,
          15,
          46,
          51,
          65,
          68,
          437,
          274,
          78,
          30,
          28,
          46,
          141,
          16,
          29,
          65,
          23,
          67,
          176,
          49,
          18,
          70,
          48,
          6,
          87,
          10,
          160,
          76,
          23,
          77,
          23,
          249,
          15,
          256,
          23,
          356,
          53,
          65,
          40,
          30,
          54,
          78,
          196,
          264,
          17,
          43,
          13,
          21,
          32,
          38,
          49,
          123,
          20,
          33,
          43,
          14,
          56,
          49,
          15,
          217,
          18,
          20,
          16,
          10,
          22,
          56,
          44,
          83,
          16,
          26,
          23,
          170,
          130,
          56,
          15,
          19,
          38,
          11,
          59,
          14,
          95,
          62,
          41,
          39,
          23,
          38,
          43,
          32,
          75,
          113,
          42,
          41,
          70,
          140,
          48,
          13,
          23,
          331,
          22,
          59,
          86,
          91,
          77,
          129,
          17,
          15,
          78,
          259,
          210,
          113,
          8,
          24,
          10,
          33,
          200,
          44,
          24,
          37,
          227,
          39,
          53,
          86,
          12,
          36,
          27,
          71,
          57,
          31,
          24,
          26,
          50,
          50,
          107,
          144,
          24,
          13,
          28,
          33,
          38,
          20,
          19,
          16,
          77,
          120,
          16,
          47,
          44,
          24,
          39,
          19,
          75,
          7,
          22,
          28,
          64,
          7,
          18,
          12,
          151,
          176,
          214,
          149,
          26,
          459,
          47,
          64,
          54,
          123,
          62,
          123,
          14,
          18,
          82,
          102,
          11,
          54,
          11,
          81,
          29,
          39,
          51,
          38,
          70,
          38,
          15,
          37,
          70,
          33,
          47,
          22,
          27,
          80,
          15,
          24,
          34,
          65,
          43,
          259,
          60,
          29,
          46,
          14,
          167,
          19,
          84,
          17,
          47,
          36,
          10,
          48,
          104,
          51,
          21,
          28,
          63,
          19,
          96,
          40,
          59,
          43,
          156,
          41,
          16,
          112,
          9,
          3,
          51,
          201,
          69,
          127,
          15,
          31,
          11,
          93,
          33,
          27,
          23,
          25,
          68,
          120,
          234,
          10,
          18,
          12,
          33,
          114,
          91,
          26,
          16,
          49,
          23,
          48,
          115,
          42,
          12,
          26,
          24,
          42,
          51,
          35,
          30,
          32,
          27,
          370,
          23,
          17,
          33,
          14,
          160,
          49,
          17,
          49,
          11,
          32,
          17,
          37,
          85,
          56,
          102,
          101,
          39,
          41,
          49,
          260,
          71,
          31,
          122,
          53,
          142,
          66,
          97,
          15,
          26,
          23,
          20,
          12,
          41,
          46,
          23,
          68,
          22,
          16,
          16,
          20,
          471,
          54,
          12,
          23,
          145,
          89,
          51,
          45,
          16,
          80,
          79,
          72,
          25,
          177,
          54,
          102,
          55,
          20,
          20,
          6,
          29,
          44,
          146,
          99,
          33,
          82,
          89,
          23,
          60,
          27,
          31,
          23,
          41,
          41,
          69,
          69,
          34,
          32,
          30,
          60,
          83,
          72,
          23,
          33,
          26,
          74,
          159,
          62,
          65,
          34,
          80,
          29,
          17,
          21,
          47,
          32,
          54,
          88,
          9,
          91,
          29,
          95,
          22,
          21,
          91,
          39,
          9,
          86,
          197,
          57,
          112,
          40,
          16,
          19,
          25,
          45,
          41,
          43,
          20,
          15,
          20,
          15,
          11,
          52,
          16,
          16,
          16,
          282,
          37,
          5,
          24,
          23,
          44,
          28,
          23,
          49,
          72,
          379,
          64,
          60,
          35,
          66,
          37,
          66,
          39,
          97,
          39,
          65,
          45,
          13,
          43,
          307,
          89,
          14,
          18,
          126,
          9,
          207,
          110,
          26,
          23,
          89,
          115,
          89,
          30,
          35,
          40,
          25,
          172,
          17,
          115,
          36,
          23,
          130,
          433,
          22,
          26,
          118,
          135,
          122,
          61,
          200,
          78,
          27,
          373,
          36,
          38,
          11,
          28,
          6,
          15,
          437,
          39,
          23,
          21,
          66,
          99,
          101,
          42,
          268,
          101,
          52,
          122,
          23,
          61,
          96,
          11,
          31,
          37,
          70,
          137,
          22,
          23,
          40,
          73,
          58,
          115,
          78,
          18,
          430,
          61,
          28,
          67,
          75,
          73,
          131,
          64,
          148,
          12,
          36,
          16,
          33,
          67,
          28,
          55,
          30,
          19,
          19,
          17,
          75,
          19,
          33,
          55,
          57,
          26,
          33,
          12,
          55,
          30,
          72,
          20,
          99,
          42,
          28,
          24,
          166,
          29,
          51,
          12,
          18,
          33,
          143,
          13,
          18,
          41,
          146,
          30,
          28,
          71,
          23,
          44,
          42,
          19,
          51,
          11,
          88,
          13,
          51,
          19,
          69,
          18,
          33,
          92,
          140,
          12,
          69,
          22,
          70,
          154,
          85,
          88,
          38,
          16,
          12,
          177,
          14,
          52,
          79,
          81,
          7,
          41,
          21,
          22,
          16,
          53,
          23,
          109,
          135,
          62,
          107,
          12,
          61,
          33,
          52,
          15,
          14,
          43,
          49,
          16,
          51,
          28,
          14,
          42,
          48,
          67,
          74,
          46,
          309,
          30,
          91,
          44,
          5,
          26,
          22,
          13,
          30,
          13,
          264,
          34,
          20,
          33,
          73,
          128,
          35,
          16,
          9,
          25,
          12,
          12,
          11,
          15,
          13,
          52,
          20,
          106,
          24,
          22,
          43,
          107,
          21,
          54,
          30,
          22,
          171,
          146,
          87,
          25,
          39,
          18,
          81,
          60,
          115,
          65,
          68,
          60,
          17,
          59,
          13,
          20,
          213,
          297,
          160,
          35,
          61,
          172,
          279,
          76,
          229,
          26,
          40,
          29,
          48,
          24,
          114,
          22,
          311,
          7,
          68,
          24,
          70,
          32,
          20,
          7,
          28,
          41,
          47,
          28,
          38,
          29,
          46,
          131,
          11,
          220,
          18,
          255,
          18,
          42,
          73,
          27,
          585,
          167,
          96,
          78,
          14,
          51,
          71,
          126,
          53,
          24,
          14,
          39,
          46,
          31,
          41,
          50,
          179,
          41,
          100,
          120,
          18,
          24,
          31,
          39,
          29,
          39,
          54,
          15,
          289,
          152,
          72,
          17,
          56,
          120,
          18,
          97,
          39,
          113,
          13,
          60,
          23,
          30,
          97,
          18,
          12,
          26,
          112,
          110,
          27,
          24,
          20,
          78,
          26,
          106,
          88,
          75,
          31,
          39,
          20,
          48,
          49,
          22,
          25,
          28,
          17,
          14,
          20,
          29,
          107,
          82,
          15,
          124,
          49,
          66,
          62,
          24,
          10,
          34,
          19,
          136,
          51,
          22,
          15,
          63,
          57,
          30,
          14,
          186,
          23,
          27,
          23,
          69,
          13,
          29,
          54,
          35,
          38,
          34,
          17,
          120,
          21,
          84,
          131,
          80,
          57,
          57,
          39,
          98,
          22,
          23,
          83,
          71,
          43,
          20,
          149,
          44,
          53,
          60,
          41,
          105,
          16,
          12,
          100,
          56,
          35,
          43,
          74,
          9,
          29,
          28,
          51,
          28,
          101,
          47,
          70,
          33,
          18,
          52,
          64,
          15,
          28,
          24,
          70,
          185,
          473,
          95,
          25,
          16,
          73,
          77,
          16,
          35,
          57,
          33,
          20,
          15,
          9,
          24,
          85,
          13,
          86,
          43,
          37,
          17,
          77,
          24,
          61,
          55,
          30,
          151,
          13,
          13,
          36,
          24,
          20,
          26,
          51,
          30,
          58,
          13,
          20,
          33,
          226,
          55,
          18,
          59,
          38,
          31,
          88,
          51,
          62,
          17,
          205,
          68,
          207,
          16,
          38,
          60,
          13,
          20,
          16,
          26,
          37,
          87,
          39,
          52,
          96,
          31,
          5,
          19,
          117,
          143,
          71,
          212,
          70,
          24,
          55,
          13,
          7,
          70,
          19,
          40,
          15,
          26,
          179,
          27,
          27,
          24,
          84,
          23,
          43,
          20,
          103,
          68,
          48,
          53,
          46,
          61,
          33,
          37,
          17,
          17,
          34,
          83,
          93,
          40,
          269,
          52,
          14,
          27,
          47,
          19,
          20,
          20,
          34,
          59,
          41,
          45,
          59,
          45,
          15,
          40,
          45,
          42,
          33,
          29,
          34,
          17,
          23,
          30,
          14,
          21,
          64,
          21,
          83,
          25,
          20,
          280,
          89,
          71,
          58,
          11,
          88,
          16,
          198,
          28,
          16,
          69,
          11,
          80,
          61,
          44,
          41,
          44,
          15,
          114,
          51,
          96,
          28,
          33,
          129,
          21,
          205,
          72,
          72,
          487,
          81,
          15,
          55,
          19,
          17,
          14,
          20,
          16,
          43,
          30,
          22,
          23,
          128,
          25,
          85,
          98,
          31,
          53,
          167,
          64,
          150,
          374,
          21,
          53,
          51,
          177,
          84,
          161,
          21,
          56,
          115,
          34,
          30,
          21,
          51,
          239,
          10,
          8,
          83,
          77,
          29,
          16,
          142,
          16,
          83,
          82,
          22,
          13,
          13,
          35,
          97,
          106,
          30,
          9,
          30,
          105,
          74,
          105,
          55,
          121,
          10,
          34,
          12,
          13,
          365,
          28,
          36,
          30,
          10,
          87,
          60,
          41,
          59,
          53,
          97,
          36,
          68,
          29,
          18,
          70,
          54,
          89,
          45,
          35,
          36,
          43,
          39,
          124,
          38,
          34,
          31,
          63,
          102,
          80,
          10,
          45,
          170,
          48,
          221,
          14,
          14,
          21,
          204,
          27,
          337,
          40,
          71,
          12,
          46,
          30,
          17,
          112,
          68,
          15,
          23,
          68,
          41,
          10,
          41,
          10,
          38,
          34,
          45,
          210,
          14,
          38,
          71,
          21,
          11,
          22,
          26,
          50,
          43,
          18,
          74,
          181,
          24,
          77,
          27,
          31,
          90,
          10,
          25,
          17,
          21,
          100,
          62,
          19,
          21,
          74,
          14,
          22,
          39,
          84,
          32,
          63,
          12,
          50,
          156,
          18,
          64,
          36,
          16,
          27,
          31,
          33,
          30,
          27,
          15,
          94,
          19,
          40,
          463,
          13,
          47,
          24,
          52,
          162,
          63,
          38,
          317,
          38,
          53,
          15,
          16,
          93,
          39,
          64,
          101,
          18,
          55,
          196,
          262,
          117,
          43,
          51,
          10,
          13,
          33,
          64,
          19,
          32,
          27,
          44,
          36,
          13,
          21,
          99,
          15,
          20,
          28,
          147,
          39,
          154,
          13,
          9,
          21,
          12,
          61,
          53,
          32,
          66,
          19,
          21,
          238,
          61,
          51,
          19,
          20,
          61,
          9,
          23,
          529,
          15,
          139,
          10,
          16,
          18,
          54,
          30,
          16,
          39,
          71,
          304,
          64,
          25,
          164,
          207,
          36,
          20,
          20,
          27,
          141,
          120,
          19,
          38,
          41,
          220,
          23,
          248,
          29,
          121,
          52,
          16,
          33,
          60,
          34,
          44,
          61,
          19,
          40,
          16,
          85,
          126,
          13,
          25,
          53,
          27,
          16,
          20,
          25,
          57,
          32,
          39,
          38,
          13,
          599,
          40,
          38,
          28,
          27,
          31,
          56,
          45,
          18,
          27,
          54,
          19,
          45,
          16,
          64,
          21,
          157,
          125,
          76,
          24,
          8,
          132,
          38,
          30,
          154,
          22,
          122,
          24,
          38,
          30,
          20,
          66,
          23,
          14,
          30,
          13,
          22,
          22,
          10,
          33,
          50,
          79,
          110,
          79,
          33,
          89,
          36,
          43,
          21,
          15,
          15,
          20,
          85,
          54,
          45,
          16,
          7,
          29,
          27,
          14,
          43,
          23,
          41,
          110,
          29,
          21,
          43,
          54,
          56,
          81,
          55,
          14,
          19,
          10,
          32,
          71,
          132,
          40,
          47,
          40,
          34,
          88,
          120,
          23,
          109,
          24,
          71,
          30,
          35,
          39,
          27,
          22,
          17,
          78,
          48,
          12,
          218,
          13,
          75,
          13,
          83,
          30,
          14,
          29,
          12,
          58,
          31,
          34,
          117,
          20,
          69,
          37,
          20,
          45,
          99,
          25,
          208,
          88,
          52,
          43,
          13,
          64,
          22,
          52,
          74,
          135,
          86,
          15,
          59,
          57,
          27,
          6,
          9,
          17,
          46,
          10,
          140,
          40,
          39,
          168,
          115,
          177,
          85,
          38,
          9,
          17,
          18,
          47,
          10,
          42,
          19,
          6,
          20,
          13,
          211,
          29,
          10,
          19,
          15,
          46,
          11,
          10,
          39,
          63,
          24,
          33,
          75,
          38,
          10,
          11,
          15,
          24,
          80,
          67,
          17,
          11,
          67,
          104,
          114,
          46,
          59,
          16,
          73,
          33,
          104,
          44,
          32,
          179,
          52,
          56,
          18,
          28,
          39,
          29,
          73,
          9,
          25,
          14,
          107,
          390,
          21,
          48,
          39,
          77,
          39,
          81,
          119,
          124,
          56,
          35,
          78,
          21,
          20,
          23,
          45,
          42,
          20,
          129,
          24,
          41,
          19,
          40,
          185,
          11,
          151,
          13,
          13,
          15,
          29,
          18,
          18,
          91,
          143,
          21,
          79,
          56,
          24,
          86,
          49,
          597,
          68,
          211,
          18,
          132,
          18,
          23,
          142,
          77,
          62,
          250,
          272,
          23,
          26,
          47,
          26,
          136,
          65,
          8,
          59,
          33,
          45,
          58,
          14,
          24,
          30,
          65,
          40,
          20,
          32,
          136,
          28,
          27,
          63,
          79,
          93,
          49,
          31,
          22,
          821,
          167,
          41,
          24,
          49,
          25,
          56,
          46,
          55,
          11,
          376,
          62,
          35,
          18,
          99,
          24,
          62,
          14,
          65,
          15,
          24,
          14,
          27,
          41,
          38,
          25,
          225,
          26,
          49,
          9,
          33,
          10,
          231,
          34,
          32,
          21,
          13,
          75,
          76,
          113,
          24,
          21,
          209,
          19,
          63,
          63,
          24,
          42,
          38,
          27,
          34,
          81,
          12,
          45,
          46,
          26,
          23,
          41,
          14,
          15,
          44,
          77,
          7,
          54,
          24,
          28,
          12,
          16,
          32,
          16,
          571,
          130,
          20,
          46,
          19,
          68,
          31,
          58,
          86,
          83,
          12,
          264,
          59,
          64,
          94,
          124,
          25,
          59,
          20,
          41,
          104,
          45,
          13,
          63,
          63,
          263,
          33,
          12,
          5,
          70,
          57,
          28,
          18,
          154,
          29,
          35,
          165,
          62,
          73,
          19,
          28,
          17,
          9,
          192,
          204,
          9,
          77,
          57,
          112,
          13,
          30,
          207,
          136,
          140,
          119,
          47,
          56,
          107,
          36,
          18,
          72,
          21,
          39,
          12,
          131,
          26,
          78,
          11,
          92,
          68,
          35,
          52,
          29,
          44,
          59,
          22,
          16,
          15,
          84,
          69,
          40,
          30,
          29,
          33,
          169,
          9,
          16,
          48
         ],
         "xaxis": "x",
         "yaxis": "y"
        }
       ],
       "layout": {
        "barmode": "relative",
        "height": 600,
        "legend": {
         "tracegroupgap": 0
        },
        "margin": {
         "t": 60
        },
        "template": {
         "data": {
          "bar": [
           {
            "error_x": {
             "color": "#2a3f5f"
            },
            "error_y": {
             "color": "#2a3f5f"
            },
            "marker": {
             "line": {
              "color": "#E5ECF6",
              "width": 0.5
             }
            },
            "type": "bar"
           }
          ],
          "barpolar": [
           {
            "marker": {
             "line": {
              "color": "#E5ECF6",
              "width": 0.5
             }
            },
            "type": "barpolar"
           }
          ],
          "carpet": [
           {
            "aaxis": {
             "endlinecolor": "#2a3f5f",
             "gridcolor": "white",
             "linecolor": "white",
             "minorgridcolor": "white",
             "startlinecolor": "#2a3f5f"
            },
            "baxis": {
             "endlinecolor": "#2a3f5f",
             "gridcolor": "white",
             "linecolor": "white",
             "minorgridcolor": "white",
             "startlinecolor": "#2a3f5f"
            },
            "type": "carpet"
           }
          ],
          "choropleth": [
           {
            "colorbar": {
             "outlinewidth": 0,
             "ticks": ""
            },
            "type": "choropleth"
           }
          ],
          "contour": [
           {
            "colorbar": {
             "outlinewidth": 0,
             "ticks": ""
            },
            "colorscale": [
             [
              0,
              "#0d0887"
             ],
             [
              0.1111111111111111,
              "#46039f"
             ],
             [
              0.2222222222222222,
              "#7201a8"
             ],
             [
              0.3333333333333333,
              "#9c179e"
             ],
             [
              0.4444444444444444,
              "#bd3786"
             ],
             [
              0.5555555555555556,
              "#d8576b"
             ],
             [
              0.6666666666666666,
              "#ed7953"
             ],
             [
              0.7777777777777778,
              "#fb9f3a"
             ],
             [
              0.8888888888888888,
              "#fdca26"
             ],
             [
              1,
              "#f0f921"
             ]
            ],
            "type": "contour"
           }
          ],
          "contourcarpet": [
           {
            "colorbar": {
             "outlinewidth": 0,
             "ticks": ""
            },
            "type": "contourcarpet"
           }
          ],
          "heatmap": [
           {
            "colorbar": {
             "outlinewidth": 0,
             "ticks": ""
            },
            "colorscale": [
             [
              0,
              "#0d0887"
             ],
             [
              0.1111111111111111,
              "#46039f"
             ],
             [
              0.2222222222222222,
              "#7201a8"
             ],
             [
              0.3333333333333333,
              "#9c179e"
             ],
             [
              0.4444444444444444,
              "#bd3786"
             ],
             [
              0.5555555555555556,
              "#d8576b"
             ],
             [
              0.6666666666666666,
              "#ed7953"
             ],
             [
              0.7777777777777778,
              "#fb9f3a"
             ],
             [
              0.8888888888888888,
              "#fdca26"
             ],
             [
              1,
              "#f0f921"
             ]
            ],
            "type": "heatmap"
           }
          ],
          "heatmapgl": [
           {
            "colorbar": {
             "outlinewidth": 0,
             "ticks": ""
            },
            "colorscale": [
             [
              0,
              "#0d0887"
             ],
             [
              0.1111111111111111,
              "#46039f"
             ],
             [
              0.2222222222222222,
              "#7201a8"
             ],
             [
              0.3333333333333333,
              "#9c179e"
             ],
             [
              0.4444444444444444,
              "#bd3786"
             ],
             [
              0.5555555555555556,
              "#d8576b"
             ],
             [
              0.6666666666666666,
              "#ed7953"
             ],
             [
              0.7777777777777778,
              "#fb9f3a"
             ],
             [
              0.8888888888888888,
              "#fdca26"
             ],
             [
              1,
              "#f0f921"
             ]
            ],
            "type": "heatmapgl"
           }
          ],
          "histogram": [
           {
            "marker": {
             "colorbar": {
              "outlinewidth": 0,
              "ticks": ""
             }
            },
            "type": "histogram"
           }
          ],
          "histogram2d": [
           {
            "colorbar": {
             "outlinewidth": 0,
             "ticks": ""
            },
            "colorscale": [
             [
              0,
              "#0d0887"
             ],
             [
              0.1111111111111111,
              "#46039f"
             ],
             [
              0.2222222222222222,
              "#7201a8"
             ],
             [
              0.3333333333333333,
              "#9c179e"
             ],
             [
              0.4444444444444444,
              "#bd3786"
             ],
             [
              0.5555555555555556,
              "#d8576b"
             ],
             [
              0.6666666666666666,
              "#ed7953"
             ],
             [
              0.7777777777777778,
              "#fb9f3a"
             ],
             [
              0.8888888888888888,
              "#fdca26"
             ],
             [
              1,
              "#f0f921"
             ]
            ],
            "type": "histogram2d"
           }
          ],
          "histogram2dcontour": [
           {
            "colorbar": {
             "outlinewidth": 0,
             "ticks": ""
            },
            "colorscale": [
             [
              0,
              "#0d0887"
             ],
             [
              0.1111111111111111,
              "#46039f"
             ],
             [
              0.2222222222222222,
              "#7201a8"
             ],
             [
              0.3333333333333333,
              "#9c179e"
             ],
             [
              0.4444444444444444,
              "#bd3786"
             ],
             [
              0.5555555555555556,
              "#d8576b"
             ],
             [
              0.6666666666666666,
              "#ed7953"
             ],
             [
              0.7777777777777778,
              "#fb9f3a"
             ],
             [
              0.8888888888888888,
              "#fdca26"
             ],
             [
              1,
              "#f0f921"
             ]
            ],
            "type": "histogram2dcontour"
           }
          ],
          "mesh3d": [
           {
            "colorbar": {
             "outlinewidth": 0,
             "ticks": ""
            },
            "type": "mesh3d"
           }
          ],
          "parcoords": [
           {
            "line": {
             "colorbar": {
              "outlinewidth": 0,
              "ticks": ""
             }
            },
            "type": "parcoords"
           }
          ],
          "pie": [
           {
            "automargin": true,
            "type": "pie"
           }
          ],
          "scatter": [
           {
            "marker": {
             "colorbar": {
              "outlinewidth": 0,
              "ticks": ""
             }
            },
            "type": "scatter"
           }
          ],
          "scatter3d": [
           {
            "line": {
             "colorbar": {
              "outlinewidth": 0,
              "ticks": ""
             }
            },
            "marker": {
             "colorbar": {
              "outlinewidth": 0,
              "ticks": ""
             }
            },
            "type": "scatter3d"
           }
          ],
          "scattercarpet": [
           {
            "marker": {
             "colorbar": {
              "outlinewidth": 0,
              "ticks": ""
             }
            },
            "type": "scattercarpet"
           }
          ],
          "scattergeo": [
           {
            "marker": {
             "colorbar": {
              "outlinewidth": 0,
              "ticks": ""
             }
            },
            "type": "scattergeo"
           }
          ],
          "scattergl": [
           {
            "marker": {
             "colorbar": {
              "outlinewidth": 0,
              "ticks": ""
             }
            },
            "type": "scattergl"
           }
          ],
          "scattermapbox": [
           {
            "marker": {
             "colorbar": {
              "outlinewidth": 0,
              "ticks": ""
             }
            },
            "type": "scattermapbox"
           }
          ],
          "scatterpolar": [
           {
            "marker": {
             "colorbar": {
              "outlinewidth": 0,
              "ticks": ""
             }
            },
            "type": "scatterpolar"
           }
          ],
          "scatterpolargl": [
           {
            "marker": {
             "colorbar": {
              "outlinewidth": 0,
              "ticks": ""
             }
            },
            "type": "scatterpolargl"
           }
          ],
          "scatterternary": [
           {
            "marker": {
             "colorbar": {
              "outlinewidth": 0,
              "ticks": ""
             }
            },
            "type": "scatterternary"
           }
          ],
          "surface": [
           {
            "colorbar": {
             "outlinewidth": 0,
             "ticks": ""
            },
            "colorscale": [
             [
              0,
              "#0d0887"
             ],
             [
              0.1111111111111111,
              "#46039f"
             ],
             [
              0.2222222222222222,
              "#7201a8"
             ],
             [
              0.3333333333333333,
              "#9c179e"
             ],
             [
              0.4444444444444444,
              "#bd3786"
             ],
             [
              0.5555555555555556,
              "#d8576b"
             ],
             [
              0.6666666666666666,
              "#ed7953"
             ],
             [
              0.7777777777777778,
              "#fb9f3a"
             ],
             [
              0.8888888888888888,
              "#fdca26"
             ],
             [
              1,
              "#f0f921"
             ]
            ],
            "type": "surface"
           }
          ],
          "table": [
           {
            "cells": {
             "fill": {
              "color": "#EBF0F8"
             },
             "line": {
              "color": "white"
             }
            },
            "header": {
             "fill": {
              "color": "#C8D4E3"
             },
             "line": {
              "color": "white"
             }
            },
            "type": "table"
           }
          ]
         },
         "layout": {
          "annotationdefaults": {
           "arrowcolor": "#2a3f5f",
           "arrowhead": 0,
           "arrowwidth": 1
          },
          "autotypenumbers": "strict",
          "coloraxis": {
           "colorbar": {
            "outlinewidth": 0,
            "ticks": ""
           }
          },
          "colorscale": {
           "diverging": [
            [
             0,
             "#8e0152"
            ],
            [
             0.1,
             "#c51b7d"
            ],
            [
             0.2,
             "#de77ae"
            ],
            [
             0.3,
             "#f1b6da"
            ],
            [
             0.4,
             "#fde0ef"
            ],
            [
             0.5,
             "#f7f7f7"
            ],
            [
             0.6,
             "#e6f5d0"
            ],
            [
             0.7,
             "#b8e186"
            ],
            [
             0.8,
             "#7fbc41"
            ],
            [
             0.9,
             "#4d9221"
            ],
            [
             1,
             "#276419"
            ]
           ],
           "sequential": [
            [
             0,
             "#0d0887"
            ],
            [
             0.1111111111111111,
             "#46039f"
            ],
            [
             0.2222222222222222,
             "#7201a8"
            ],
            [
             0.3333333333333333,
             "#9c179e"
            ],
            [
             0.4444444444444444,
             "#bd3786"
            ],
            [
             0.5555555555555556,
             "#d8576b"
            ],
            [
             0.6666666666666666,
             "#ed7953"
            ],
            [
             0.7777777777777778,
             "#fb9f3a"
            ],
            [
             0.8888888888888888,
             "#fdca26"
            ],
            [
             1,
             "#f0f921"
            ]
           ],
           "sequentialminus": [
            [
             0,
             "#0d0887"
            ],
            [
             0.1111111111111111,
             "#46039f"
            ],
            [
             0.2222222222222222,
             "#7201a8"
            ],
            [
             0.3333333333333333,
             "#9c179e"
            ],
            [
             0.4444444444444444,
             "#bd3786"
            ],
            [
             0.5555555555555556,
             "#d8576b"
            ],
            [
             0.6666666666666666,
             "#ed7953"
            ],
            [
             0.7777777777777778,
             "#fb9f3a"
            ],
            [
             0.8888888888888888,
             "#fdca26"
            ],
            [
             1,
             "#f0f921"
            ]
           ]
          },
          "colorway": [
           "#636efa",
           "#EF553B",
           "#00cc96",
           "#ab63fa",
           "#FFA15A",
           "#19d3f3",
           "#FF6692",
           "#B6E880",
           "#FF97FF",
           "#FECB52"
          ],
          "font": {
           "color": "#2a3f5f"
          },
          "geo": {
           "bgcolor": "white",
           "lakecolor": "white",
           "landcolor": "#E5ECF6",
           "showlakes": true,
           "showland": true,
           "subunitcolor": "white"
          },
          "hoverlabel": {
           "align": "left"
          },
          "hovermode": "closest",
          "mapbox": {
           "style": "light"
          },
          "paper_bgcolor": "white",
          "plot_bgcolor": "#E5ECF6",
          "polar": {
           "angularaxis": {
            "gridcolor": "white",
            "linecolor": "white",
            "ticks": ""
           },
           "bgcolor": "#E5ECF6",
           "radialaxis": {
            "gridcolor": "white",
            "linecolor": "white",
            "ticks": ""
           }
          },
          "scene": {
           "xaxis": {
            "backgroundcolor": "#E5ECF6",
            "gridcolor": "white",
            "gridwidth": 2,
            "linecolor": "white",
            "showbackground": true,
            "ticks": "",
            "zerolinecolor": "white"
           },
           "yaxis": {
            "backgroundcolor": "#E5ECF6",
            "gridcolor": "white",
            "gridwidth": 2,
            "linecolor": "white",
            "showbackground": true,
            "ticks": "",
            "zerolinecolor": "white"
           },
           "zaxis": {
            "backgroundcolor": "#E5ECF6",
            "gridcolor": "white",
            "gridwidth": 2,
            "linecolor": "white",
            "showbackground": true,
            "ticks": "",
            "zerolinecolor": "white"
           }
          },
          "shapedefaults": {
           "line": {
            "color": "#2a3f5f"
           }
          },
          "ternary": {
           "aaxis": {
            "gridcolor": "white",
            "linecolor": "white",
            "ticks": ""
           },
           "baxis": {
            "gridcolor": "white",
            "linecolor": "white",
            "ticks": ""
           },
           "bgcolor": "#E5ECF6",
           "caxis": {
            "gridcolor": "white",
            "linecolor": "white",
            "ticks": ""
           }
          },
          "title": {
           "x": 0.05
          },
          "xaxis": {
           "automargin": true,
           "gridcolor": "white",
           "linecolor": "white",
           "ticks": "",
           "title": {
            "standoff": 15
           },
           "zerolinecolor": "white",
           "zerolinewidth": 2
          },
          "yaxis": {
           "automargin": true,
           "gridcolor": "white",
           "linecolor": "white",
           "ticks": "",
           "title": {
            "standoff": 15
           },
           "zerolinecolor": "white",
           "zerolinewidth": 2
          }
         }
        },
        "title": {
         "text": "words distribution"
        },
        "width": 1000,
        "xaxis": {
         "anchor": "y",
         "domain": [
          0,
          1
         ],
         "title": {
          "text": ""
         }
        },
        "yaxis": {
         "anchor": "x",
         "domain": [
          0,
          1
         ],
         "title": {
          "text": ""
         }
        }
       }
      },
      "text/html": [
       "<div>                            <div id=\"297c7a8d-6ee2-448a-979a-ffd13e9b5594\" class=\"plotly-graph-div\" style=\"height:600px; width:1000px;\"></div>            <script type=\"text/javascript\">                require([\"plotly\"], function(Plotly) {                    window.PLOTLYENV=window.PLOTLYENV || {};                                    if (document.getElementById(\"297c7a8d-6ee2-448a-979a-ffd13e9b5594\")) {                    Plotly.newPlot(                        \"297c7a8d-6ee2-448a-979a-ffd13e9b5594\",                        [{\"alignmentgroup\": \"True\", \"bingroup\": \"x\", \"hovertemplate\": \"review_clean_length=%{x}<br>count=%{y}<extra></extra>\", \"legendgroup\": \"\", \"marker\": {\"color\": \"#636efa\"}, \"name\": \"\", \"offsetgroup\": \"\", \"orientation\": \"v\", \"showlegend\": false, \"type\": \"histogram\", \"x\": [7, 50, 34, 29, 42, 22, 17, 24, 170, 95, 10, 30, 103, 65, 130, 62, 199, 106, 116, 84, 58, 29, 54, 53, 27, 30, 19, 40, 26, 61, 31, 32, 20, 62, 37, 22, 17, 140, 64, 25, 25, 132, 76, 37, 57, 32, 97, 78, 40, 240, 62, 460, 12, 833, 16, 71, 37, 19, 40, 61, 30, 31, 57, 21, 219, 22, 21, 29, 62, 26, 22, 26, 68, 77, 57, 37, 25, 140, 19, 46, 78, 24, 49, 61, 10, 72, 147, 265, 79, 28, 138, 29, 39, 12, 108, 109, 30, 165, 10, 44, 65, 91, 14, 55, 40, 23, 40, 52, 21, 79, 26, 54, 70, 68, 37, 54, 19, 16, 11, 49, 46, 68, 52, 47, 11, 31, 12, 27, 26, 21, 125, 112, 56, 16, 21, 17, 55, 57, 46, 29, 50, 205, 34, 39, 106, 110, 58, 105, 44, 73, 32, 13, 16, 208, 71, 11, 37, 12, 48, 26, 190, 43, 23, 22, 49, 19, 91, 44, 36, 28, 96, 41, 52, 74, 34, 35, 46, 95, 16, 139, 27, 94, 47, 30, 22, 24, 83, 35, 16, 19, 19, 119, 163, 88, 89, 267, 12, 280, 39, 57, 99, 99, 27, 39, 24, 60, 15, 26, 194, 15, 32, 77, 64, 110, 29, 24, 141, 46, 12, 64, 35, 58, 457, 120, 26, 90, 62, 97, 32, 48, 104, 18, 64, 19, 15, 51, 46, 22, 76, 22, 15, 23, 19, 14, 81, 30, 111, 110, 85, 84, 34, 86, 25, 22, 91, 12, 132, 27, 27, 156, 52, 125, 111, 52, 164, 91, 33, 38, 51, 75, 24, 16, 311, 32, 89, 100, 102, 13, 14, 22, 28, 27, 93, 69, 14, 10, 15, 37, 22, 11, 42, 49, 30, 33, 10, 39, 14, 30, 20, 121, 50, 41, 21, 552, 93, 13, 34, 51, 17, 47, 30, 131, 22, 115, 20, 29, 48, 41, 35, 12, 35, 28, 174, 36, 77, 44, 163, 69, 365, 13, 18, 72, 139, 46, 28, 10, 16, 44, 33, 28, 28, 149, 186, 146, 14, 46, 40, 24, 14, 45, 42, 9, 32, 17, 21, 7, 23, 178, 11, 64, 13, 64, 16, 115, 55, 18, 66, 65, 108, 116, 139, 195, 14, 125, 94, 58, 150, 147, 16, 16, 33, 41, 44, 24, 20, 44, 19, 933, 66, 14, 168, 57, 7, 54, 36, 48, 47, 63, 51, 25, 72, 19, 39, 30, 7, 35, 20, 52, 47, 12, 44, 232, 63, 35, 36, 12, 71, 19, 249, 44, 116, 31, 344, 21, 10, 21, 32, 37, 25, 47, 18, 80, 93, 69, 51, 26, 70, 13, 151, 14, 32, 3, 18, 119, 24, 138, 55, 43, 76, 23, 24, 11, 17, 14, 9, 161, 391, 34, 25, 31, 127, 17, 42, 18, 29, 11, 49, 30, 70, 26, 72, 29, 84, 86, 184, 18, 19, 16, 114, 20, 28, 17, 37, 43, 71, 17, 57, 46, 37, 35, 31, 55, 8, 18, 94, 31, 80, 21, 34, 13, 90, 21, 563, 122, 37, 193, 22, 10, 45, 75, 55, 81, 21, 29, 52, 52, 43, 11, 32, 104, 45, 22, 79, 21, 18, 19, 14, 34, 50, 58, 137, 22, 12, 13, 110, 25, 44, 105, 88, 18, 20, 36, 46, 18, 210, 10, 13, 211, 27, 17, 39, 33, 14, 26, 15, 110, 38, 51, 130, 17, 35, 47, 232, 30, 26, 12, 44, 84, 30, 125, 39, 33, 51, 137, 20, 44, 14, 24, 217, 153, 46, 21, 48, 33, 79, 22, 27, 50, 29, 16, 65, 59, 21, 11, 43, 425, 69, 164, 17, 14, 14, 40, 19, 80, 292, 13, 26, 50, 10, 52, 14, 24, 101, 45, 9, 54, 45, 45, 104, 20, 22, 178, 42, 126, 56, 27, 30, 74, 60, 32, 20, 63, 45, 24, 67, 42, 56, 12, 11, 57, 47, 18, 16, 21, 23, 50, 120, 88, 115, 31, 117, 12, 73, 163, 55, 103, 17, 91, 235, 42, 84, 24, 32, 60, 100, 22, 381, 12, 29, 11, 29, 26, 32, 290, 75, 11, 58, 46, 20, 21, 21, 15, 47, 134, 57, 130, 86, 38, 48, 49, 39, 106, 40, 166, 15, 30, 36, 16, 55, 65, 58, 41, 55, 32, 45, 26, 51, 72, 73, 18, 475, 54, 35, 12, 60, 75, 18, 81, 88, 24, 26, 101, 13, 25, 29, 34, 74, 18, 28, 222, 18, 20, 38, 24, 96, 134, 116, 105, 14, 22, 185, 33, 13, 19, 57, 31, 62, 44, 31, 69, 31, 115, 13, 271, 29, 87, 59, 28, 48, 25, 12, 265, 42, 111, 20, 148, 20, 99, 13, 50, 31, 56, 28, 40, 13, 10, 39, 67, 142, 12, 32, 21, 13, 73, 118, 31, 110, 26, 117, 59, 32, 31, 30, 63, 14, 177, 36, 42, 30, 30, 73, 10, 64, 48, 22, 29, 46, 36, 40, 15, 104, 17, 32, 41, 32, 33, 67, 84, 12, 139, 81, 26, 71, 10, 204, 50, 25, 50, 133, 63, 57, 78, 113, 128, 21, 22, 13, 28, 55, 29, 63, 123, 97, 124, 42, 17, 108, 139, 16, 51, 24, 189, 27, 19, 98, 17, 23, 25, 46, 18, 27, 18, 69, 21, 22, 69, 9, 29, 32, 82, 29, 11, 82, 62, 19, 16, 29, 22, 20, 29, 35, 23, 22, 66, 57, 32, 183, 105, 51, 67, 38, 72, 38, 31, 137, 70, 80, 54, 13, 13, 156, 9, 26, 13, 86, 100, 205, 538, 15, 46, 15, 13, 33, 33, 28, 24, 39, 19, 26, 31, 34, 22, 42, 30, 17, 41, 25, 26, 11, 14, 88, 37, 41, 7, 15, 15, 196, 31, 13, 36, 25, 15, 48, 32, 66, 12, 28, 9, 125, 61, 143, 11, 26, 15, 78, 163, 115, 22, 152, 159, 222, 34, 17, 106, 63, 40, 34, 20, 38, 17, 26, 11, 37, 23, 78, 86, 205, 59, 22, 13, 143, 14, 15, 32, 41, 36, 34, 17, 22, 47, 76, 70, 9, 23, 61, 16, 15, 84, 29, 18, 28, 80, 260, 6, 40, 90, 28, 73, 16, 14, 104, 51, 38, 18, 158, 18, 50, 38, 13, 66, 40, 23, 34, 67, 44, 64, 1061, 18, 184, 43, 62, 130, 24, 166, 86, 7, 15, 14, 52, 74, 17, 42, 36, 32, 16, 34, 40, 52, 30, 120, 15, 23, 137, 30, 6, 9, 196, 70, 52, 81, 86, 16, 86, 26, 23, 56, 36, 17, 29, 32, 55, 84, 13, 57, 27, 154, 96, 14, 20, 34, 68, 34, 42, 20, 8, 25, 28, 70, 11, 194, 70, 99, 73, 36, 29, 17, 138, 134, 252, 94, 30, 19, 23, 84, 94, 10, 69, 29, 51, 23, 24, 74, 21, 40, 67, 16, 19, 28, 63, 8, 36, 42, 123, 102, 83, 31, 34, 31, 56, 16, 55, 87, 29, 33, 66, 14, 60, 136, 68, 27, 97, 18, 24, 47, 24, 29, 22, 47, 72, 47, 48, 23, 29, 57, 35, 82, 78, 383, 44, 26, 32, 99, 64, 25, 39, 57, 103, 53, 27, 37, 24, 87, 81, 249, 31, 125, 30, 45, 109, 32, 24, 71, 20, 177, 16, 115, 20, 14, 51, 12, 17, 109, 15, 20, 38, 58, 38, 19, 57, 23, 26, 32, 29, 23, 18, 9, 52, 32, 9, 43, 25, 91, 22, 15, 21, 12, 81, 61, 47, 11, 55, 37, 22, 59, 10, 76, 27, 28, 384, 37, 200, 412, 72, 39, 28, 30, 17, 31, 26, 49, 33, 85, 60, 107, 55, 34, 11, 65, 60, 13, 40, 90, 9, 115, 58, 19, 25, 18, 80, 35, 13, 36, 156, 23, 82, 15, 63, 54, 88, 50, 14, 13, 10, 85, 38, 87, 16, 142, 18, 39, 25, 13, 17, 56, 9, 13, 125, 31, 95, 72, 25, 140, 22, 92, 124, 53, 86, 10, 22, 14, 117, 25, 203, 104, 22, 95, 20, 60, 90, 186, 29, 197, 34, 97, 132, 26, 13, 17, 93, 21, 45, 75, 22, 21, 55, 94, 21, 39, 52, 320, 56, 9, 59, 30, 105, 30, 61, 45, 37, 12, 19, 15, 28, 9, 53, 116, 34, 61, 19, 114, 28, 40, 14, 11, 59, 13, 9, 24, 27, 58, 9, 187, 58, 86, 19, 75, 47, 66, 25, 190, 174, 45, 28, 79, 41, 18, 24, 17, 43, 93, 12, 28, 23, 22, 18, 29, 17, 29, 76, 31, 49, 97, 50, 17, 49, 50, 18, 36, 28, 169, 47, 13, 36, 246, 210, 64, 12, 16, 61, 73, 58, 19, 33, 13, 54, 132, 7, 19, 43, 227, 16, 79, 50, 61, 102, 19, 67, 12, 96, 21, 12, 289, 92, 223, 20, 87, 37, 38, 256, 33, 42, 20, 18, 123, 20, 13, 95, 30, 45, 116, 38, 82, 26, 9, 16, 52, 15, 29, 24, 71, 16, 24, 44, 27, 13, 20, 41, 29, 69, 13, 58, 143, 34, 44, 143, 16, 88, 104, 71, 21, 25, 54, 24, 15, 189, 50, 32, 165, 53, 27, 57, 98, 36, 30, 46, 76, 13, 56, 39, 21, 11, 19, 52, 172, 16, 29, 79, 20, 32, 31, 13, 70, 50, 50, 42, 20, 44, 37, 53, 31, 371, 62, 41, 303, 62, 21, 23, 15, 63, 280, 16, 17, 26, 21, 39, 560, 71, 20, 134, 44, 26, 30, 29, 23, 67, 44, 112, 144, 14, 59, 24, 26, 190, 16, 40, 19, 35, 32, 93, 124, 50, 56, 348, 27, 35, 175, 51, 23, 62, 21, 47, 11, 12, 14, 14, 104, 66, 418, 28, 16, 38, 536, 48, 21, 70, 63, 36, 23, 191, 72, 33, 16, 122, 134, 44, 26, 22, 14, 45, 44, 25, 138, 170, 11, 14, 30, 14, 38, 28, 31, 12, 15, 165, 28, 21, 398, 262, 148, 20, 17, 94, 16, 49, 18, 68, 17, 38, 11, 300, 27, 15, 81, 61, 11, 33, 22, 44, 28, 34, 15, 35, 38, 108, 40, 132, 117, 19, 45, 39, 59, 101, 62, 47, 97, 53, 20, 53, 89, 94, 46, 89, 54, 132, 135, 350, 30, 34, 20, 25, 39, 22, 188, 119, 20, 19, 34, 12, 19, 52, 26, 24, 101, 51, 52, 22, 23, 97, 16, 15, 63, 55, 17, 38, 11, 49, 24, 60, 81, 32, 204, 22, 24, 19, 179, 57, 76, 40, 34, 15, 42, 28, 31, 99, 72, 13, 31, 16, 171, 37, 20, 32, 107, 107, 94, 28, 120, 82, 27, 48, 29, 17, 28, 21, 78, 229, 25, 28, 52, 34, 32, 40, 533, 114, 18, 38, 128, 125, 16, 60, 19, 47, 39, 101, 30, 79, 13, 22, 40, 54, 50, 81, 21, 11, 116, 46, 166, 14, 45, 20, 455, 119, 65, 13, 12, 25, 156, 21, 26, 109, 25, 96, 26, 43, 15, 278, 62, 15, 28, 330, 83, 176, 58, 71, 93, 68, 159, 42, 17, 50, 25, 28, 33, 254, 36, 104, 156, 180, 32, 63, 14, 25, 15, 141, 443, 38, 87, 35, 106, 12, 59, 18, 25, 10, 275, 29, 31, 25, 30, 18, 88, 103, 58, 51, 16, 53, 34, 41, 41, 22, 78, 32, 490, 42, 14, 49, 127, 22, 19, 31, 24, 57, 130, 55, 19, 140, 26, 40, 15, 237, 179, 193, 36, 62, 27, 56, 30, 33, 126, 14, 74, 13, 54, 38, 14, 14, 49, 31, 117, 24, 14, 42, 37, 28, 25, 55, 92, 44, 81, 24, 35, 77, 28, 57, 37, 20, 229, 87, 124, 17, 69, 57, 35, 67, 16, 91, 41, 47, 150, 67, 31, 33, 16, 20, 30, 35, 46, 241, 38, 57, 65, 53, 30, 51, 45, 19, 89, 36, 32, 75, 36, 20, 28, 19, 43, 32, 38, 13, 58, 19, 28, 66, 34, 55, 9, 62, 45, 320, 13, 18, 15, 25, 10, 57, 41, 114, 82, 13, 12, 10, 30, 22, 62, 76, 83, 12, 46, 51, 19, 281, 266, 27, 45, 13, 26, 35, 145, 57, 33, 34, 17, 25, 59, 22, 29, 377, 47, 24, 31, 81, 32, 47, 99, 256, 98, 51, 8, 95, 222, 58, 69, 300, 19, 10, 34, 23, 15, 28, 61, 25, 40, 48, 143, 141, 73, 30, 19, 174, 32, 363, 53, 39, 31, 19, 12, 17, 13, 19, 61, 33, 64, 51, 40, 14, 12, 81, 31, 12, 16, 30, 31, 131, 26, 128, 30, 16, 19, 89, 306, 28, 22, 66, 199, 73, 65, 49, 132, 60, 16, 212, 268, 30, 173, 113, 19, 22, 33, 81, 17, 40, 25, 81, 183, 105, 22, 29, 27, 11, 194, 25, 102, 11, 66, 182, 70, 12, 163, 27, 94, 51, 22, 12, 59, 59, 139, 41, 57, 11, 46, 45, 17, 146, 91, 85, 36, 126, 109, 35, 129, 12, 193, 25, 19, 36, 42, 19, 84, 32, 107, 17, 18, 23, 96, 67, 27, 36, 76, 22, 25, 15, 29, 17, 16, 18, 19, 29, 74, 15, 94, 25, 16, 108, 110, 64, 16, 53, 43, 63, 48, 81, 47, 30, 32, 13, 14, 68, 73, 43, 198, 150, 14, 15, 12, 38, 121, 10, 13, 94, 43, 119, 25, 44, 61, 19, 34, 36, 43, 201, 106, 30, 58, 11, 54, 52, 65, 40, 91, 163, 59, 63, 18, 117, 31, 32, 23, 22, 49, 18, 130, 73, 26, 68, 247, 19, 25, 34, 10, 69, 12, 28, 22, 84, 231, 17, 14, 63, 49, 122, 43, 56, 31, 26, 97, 16, 25, 17, 31, 439, 132, 32, 30, 17, 152, 54, 31, 68, 17, 43, 26, 53, 59, 29, 12, 23, 41, 46, 19, 104, 23, 12, 34, 50, 11, 17, 49, 12, 72, 57, 25, 14, 16, 110, 30, 112, 45, 26, 88, 17, 679, 27, 25, 18, 91, 18, 114, 29, 58, 51, 56, 12, 66, 59, 27, 22, 9, 28, 17, 159, 94, 50, 24, 23, 57, 100, 57, 15, 46, 51, 65, 68, 437, 274, 78, 30, 28, 46, 141, 16, 29, 65, 23, 67, 176, 49, 18, 70, 48, 6, 87, 10, 160, 76, 23, 77, 23, 249, 15, 256, 23, 356, 53, 65, 40, 30, 54, 78, 196, 264, 17, 43, 13, 21, 32, 38, 49, 123, 20, 33, 43, 14, 56, 49, 15, 217, 18, 20, 16, 10, 22, 56, 44, 83, 16, 26, 23, 170, 130, 56, 15, 19, 38, 11, 59, 14, 95, 62, 41, 39, 23, 38, 43, 32, 75, 113, 42, 41, 70, 140, 48, 13, 23, 331, 22, 59, 86, 91, 77, 129, 17, 15, 78, 259, 210, 113, 8, 24, 10, 33, 200, 44, 24, 37, 227, 39, 53, 86, 12, 36, 27, 71, 57, 31, 24, 26, 50, 50, 107, 144, 24, 13, 28, 33, 38, 20, 19, 16, 77, 120, 16, 47, 44, 24, 39, 19, 75, 7, 22, 28, 64, 7, 18, 12, 151, 176, 214, 149, 26, 459, 47, 64, 54, 123, 62, 123, 14, 18, 82, 102, 11, 54, 11, 81, 29, 39, 51, 38, 70, 38, 15, 37, 70, 33, 47, 22, 27, 80, 15, 24, 34, 65, 43, 259, 60, 29, 46, 14, 167, 19, 84, 17, 47, 36, 10, 48, 104, 51, 21, 28, 63, 19, 96, 40, 59, 43, 156, 41, 16, 112, 9, 3, 51, 201, 69, 127, 15, 31, 11, 93, 33, 27, 23, 25, 68, 120, 234, 10, 18, 12, 33, 114, 91, 26, 16, 49, 23, 48, 115, 42, 12, 26, 24, 42, 51, 35, 30, 32, 27, 370, 23, 17, 33, 14, 160, 49, 17, 49, 11, 32, 17, 37, 85, 56, 102, 101, 39, 41, 49, 260, 71, 31, 122, 53, 142, 66, 97, 15, 26, 23, 20, 12, 41, 46, 23, 68, 22, 16, 16, 20, 471, 54, 12, 23, 145, 89, 51, 45, 16, 80, 79, 72, 25, 177, 54, 102, 55, 20, 20, 6, 29, 44, 146, 99, 33, 82, 89, 23, 60, 27, 31, 23, 41, 41, 69, 69, 34, 32, 30, 60, 83, 72, 23, 33, 26, 74, 159, 62, 65, 34, 80, 29, 17, 21, 47, 32, 54, 88, 9, 91, 29, 95, 22, 21, 91, 39, 9, 86, 197, 57, 112, 40, 16, 19, 25, 45, 41, 43, 20, 15, 20, 15, 11, 52, 16, 16, 16, 282, 37, 5, 24, 23, 44, 28, 23, 49, 72, 379, 64, 60, 35, 66, 37, 66, 39, 97, 39, 65, 45, 13, 43, 307, 89, 14, 18, 126, 9, 207, 110, 26, 23, 89, 115, 89, 30, 35, 40, 25, 172, 17, 115, 36, 23, 130, 433, 22, 26, 118, 135, 122, 61, 200, 78, 27, 373, 36, 38, 11, 28, 6, 15, 437, 39, 23, 21, 66, 99, 101, 42, 268, 101, 52, 122, 23, 61, 96, 11, 31, 37, 70, 137, 22, 23, 40, 73, 58, 115, 78, 18, 430, 61, 28, 67, 75, 73, 131, 64, 148, 12, 36, 16, 33, 67, 28, 55, 30, 19, 19, 17, 75, 19, 33, 55, 57, 26, 33, 12, 55, 30, 72, 20, 99, 42, 28, 24, 166, 29, 51, 12, 18, 33, 143, 13, 18, 41, 146, 30, 28, 71, 23, 44, 42, 19, 51, 11, 88, 13, 51, 19, 69, 18, 33, 92, 140, 12, 69, 22, 70, 154, 85, 88, 38, 16, 12, 177, 14, 52, 79, 81, 7, 41, 21, 22, 16, 53, 23, 109, 135, 62, 107, 12, 61, 33, 52, 15, 14, 43, 49, 16, 51, 28, 14, 42, 48, 67, 74, 46, 309, 30, 91, 44, 5, 26, 22, 13, 30, 13, 264, 34, 20, 33, 73, 128, 35, 16, 9, 25, 12, 12, 11, 15, 13, 52, 20, 106, 24, 22, 43, 107, 21, 54, 30, 22, 171, 146, 87, 25, 39, 18, 81, 60, 115, 65, 68, 60, 17, 59, 13, 20, 213, 297, 160, 35, 61, 172, 279, 76, 229, 26, 40, 29, 48, 24, 114, 22, 311, 7, 68, 24, 70, 32, 20, 7, 28, 41, 47, 28, 38, 29, 46, 131, 11, 220, 18, 255, 18, 42, 73, 27, 585, 167, 96, 78, 14, 51, 71, 126, 53, 24, 14, 39, 46, 31, 41, 50, 179, 41, 100, 120, 18, 24, 31, 39, 29, 39, 54, 15, 289, 152, 72, 17, 56, 120, 18, 97, 39, 113, 13, 60, 23, 30, 97, 18, 12, 26, 112, 110, 27, 24, 20, 78, 26, 106, 88, 75, 31, 39, 20, 48, 49, 22, 25, 28, 17, 14, 20, 29, 107, 82, 15, 124, 49, 66, 62, 24, 10, 34, 19, 136, 51, 22, 15, 63, 57, 30, 14, 186, 23, 27, 23, 69, 13, 29, 54, 35, 38, 34, 17, 120, 21, 84, 131, 80, 57, 57, 39, 98, 22, 23, 83, 71, 43, 20, 149, 44, 53, 60, 41, 105, 16, 12, 100, 56, 35, 43, 74, 9, 29, 28, 51, 28, 101, 47, 70, 33, 18, 52, 64, 15, 28, 24, 70, 185, 473, 95, 25, 16, 73, 77, 16, 35, 57, 33, 20, 15, 9, 24, 85, 13, 86, 43, 37, 17, 77, 24, 61, 55, 30, 151, 13, 13, 36, 24, 20, 26, 51, 30, 58, 13, 20, 33, 226, 55, 18, 59, 38, 31, 88, 51, 62, 17, 205, 68, 207, 16, 38, 60, 13, 20, 16, 26, 37, 87, 39, 52, 96, 31, 5, 19, 117, 143, 71, 212, 70, 24, 55, 13, 7, 70, 19, 40, 15, 26, 179, 27, 27, 24, 84, 23, 43, 20, 103, 68, 48, 53, 46, 61, 33, 37, 17, 17, 34, 83, 93, 40, 269, 52, 14, 27, 47, 19, 20, 20, 34, 59, 41, 45, 59, 45, 15, 40, 45, 42, 33, 29, 34, 17, 23, 30, 14, 21, 64, 21, 83, 25, 20, 280, 89, 71, 58, 11, 88, 16, 198, 28, 16, 69, 11, 80, 61, 44, 41, 44, 15, 114, 51, 96, 28, 33, 129, 21, 205, 72, 72, 487, 81, 15, 55, 19, 17, 14, 20, 16, 43, 30, 22, 23, 128, 25, 85, 98, 31, 53, 167, 64, 150, 374, 21, 53, 51, 177, 84, 161, 21, 56, 115, 34, 30, 21, 51, 239, 10, 8, 83, 77, 29, 16, 142, 16, 83, 82, 22, 13, 13, 35, 97, 106, 30, 9, 30, 105, 74, 105, 55, 121, 10, 34, 12, 13, 365, 28, 36, 30, 10, 87, 60, 41, 59, 53, 97, 36, 68, 29, 18, 70, 54, 89, 45, 35, 36, 43, 39, 124, 38, 34, 31, 63, 102, 80, 10, 45, 170, 48, 221, 14, 14, 21, 204, 27, 337, 40, 71, 12, 46, 30, 17, 112, 68, 15, 23, 68, 41, 10, 41, 10, 38, 34, 45, 210, 14, 38, 71, 21, 11, 22, 26, 50, 43, 18, 74, 181, 24, 77, 27, 31, 90, 10, 25, 17, 21, 100, 62, 19, 21, 74, 14, 22, 39, 84, 32, 63, 12, 50, 156, 18, 64, 36, 16, 27, 31, 33, 30, 27, 15, 94, 19, 40, 463, 13, 47, 24, 52, 162, 63, 38, 317, 38, 53, 15, 16, 93, 39, 64, 101, 18, 55, 196, 262, 117, 43, 51, 10, 13, 33, 64, 19, 32, 27, 44, 36, 13, 21, 99, 15, 20, 28, 147, 39, 154, 13, 9, 21, 12, 61, 53, 32, 66, 19, 21, 238, 61, 51, 19, 20, 61, 9, 23, 529, 15, 139, 10, 16, 18, 54, 30, 16, 39, 71, 304, 64, 25, 164, 207, 36, 20, 20, 27, 141, 120, 19, 38, 41, 220, 23, 248, 29, 121, 52, 16, 33, 60, 34, 44, 61, 19, 40, 16, 85, 126, 13, 25, 53, 27, 16, 20, 25, 57, 32, 39, 38, 13, 599, 40, 38, 28, 27, 31, 56, 45, 18, 27, 54, 19, 45, 16, 64, 21, 157, 125, 76, 24, 8, 132, 38, 30, 154, 22, 122, 24, 38, 30, 20, 66, 23, 14, 30, 13, 22, 22, 10, 33, 50, 79, 110, 79, 33, 89, 36, 43, 21, 15, 15, 20, 85, 54, 45, 16, 7, 29, 27, 14, 43, 23, 41, 110, 29, 21, 43, 54, 56, 81, 55, 14, 19, 10, 32, 71, 132, 40, 47, 40, 34, 88, 120, 23, 109, 24, 71, 30, 35, 39, 27, 22, 17, 78, 48, 12, 218, 13, 75, 13, 83, 30, 14, 29, 12, 58, 31, 34, 117, 20, 69, 37, 20, 45, 99, 25, 208, 88, 52, 43, 13, 64, 22, 52, 74, 135, 86, 15, 59, 57, 27, 6, 9, 17, 46, 10, 140, 40, 39, 168, 115, 177, 85, 38, 9, 17, 18, 47, 10, 42, 19, 6, 20, 13, 211, 29, 10, 19, 15, 46, 11, 10, 39, 63, 24, 33, 75, 38, 10, 11, 15, 24, 80, 67, 17, 11, 67, 104, 114, 46, 59, 16, 73, 33, 104, 44, 32, 179, 52, 56, 18, 28, 39, 29, 73, 9, 25, 14, 107, 390, 21, 48, 39, 77, 39, 81, 119, 124, 56, 35, 78, 21, 20, 23, 45, 42, 20, 129, 24, 41, 19, 40, 185, 11, 151, 13, 13, 15, 29, 18, 18, 91, 143, 21, 79, 56, 24, 86, 49, 597, 68, 211, 18, 132, 18, 23, 142, 77, 62, 250, 272, 23, 26, 47, 26, 136, 65, 8, 59, 33, 45, 58, 14, 24, 30, 65, 40, 20, 32, 136, 28, 27, 63, 79, 93, 49, 31, 22, 821, 167, 41, 24, 49, 25, 56, 46, 55, 11, 376, 62, 35, 18, 99, 24, 62, 14, 65, 15, 24, 14, 27, 41, 38, 25, 225, 26, 49, 9, 33, 10, 231, 34, 32, 21, 13, 75, 76, 113, 24, 21, 209, 19, 63, 63, 24, 42, 38, 27, 34, 81, 12, 45, 46, 26, 23, 41, 14, 15, 44, 77, 7, 54, 24, 28, 12, 16, 32, 16, 571, 130, 20, 46, 19, 68, 31, 58, 86, 83, 12, 264, 59, 64, 94, 124, 25, 59, 20, 41, 104, 45, 13, 63, 63, 263, 33, 12, 5, 70, 57, 28, 18, 154, 29, 35, 165, 62, 73, 19, 28, 17, 9, 192, 204, 9, 77, 57, 112, 13, 30, 207, 136, 140, 119, 47, 56, 107, 36, 18, 72, 21, 39, 12, 131, 26, 78, 11, 92, 68, 35, 52, 29, 44, 59, 22, 16, 15, 84, 69, 40, 30, 29, 33, 169, 9, 16, 48], \"xaxis\": \"x\", \"yaxis\": \"y\"}],                        {\"barmode\": \"relative\", \"height\": 600, \"legend\": {\"tracegroupgap\": 0}, \"margin\": {\"t\": 60}, \"template\": {\"data\": {\"bar\": [{\"error_x\": {\"color\": \"#2a3f5f\"}, \"error_y\": {\"color\": \"#2a3f5f\"}, \"marker\": {\"line\": {\"color\": \"#E5ECF6\", \"width\": 0.5}}, \"type\": \"bar\"}], \"barpolar\": [{\"marker\": {\"line\": {\"color\": \"#E5ECF6\", \"width\": 0.5}}, \"type\": \"barpolar\"}], \"carpet\": [{\"aaxis\": {\"endlinecolor\": \"#2a3f5f\", \"gridcolor\": \"white\", \"linecolor\": \"white\", \"minorgridcolor\": \"white\", \"startlinecolor\": \"#2a3f5f\"}, \"baxis\": {\"endlinecolor\": \"#2a3f5f\", \"gridcolor\": \"white\", \"linecolor\": \"white\", \"minorgridcolor\": \"white\", \"startlinecolor\": \"#2a3f5f\"}, \"type\": \"carpet\"}], \"choropleth\": [{\"colorbar\": {\"outlinewidth\": 0, \"ticks\": \"\"}, \"type\": \"choropleth\"}], \"contour\": [{\"colorbar\": {\"outlinewidth\": 0, \"ticks\": \"\"}, \"colorscale\": [[0.0, \"#0d0887\"], [0.1111111111111111, \"#46039f\"], [0.2222222222222222, \"#7201a8\"], [0.3333333333333333, \"#9c179e\"], [0.4444444444444444, \"#bd3786\"], [0.5555555555555556, \"#d8576b\"], [0.6666666666666666, \"#ed7953\"], [0.7777777777777778, \"#fb9f3a\"], [0.8888888888888888, \"#fdca26\"], [1.0, \"#f0f921\"]], \"type\": \"contour\"}], \"contourcarpet\": [{\"colorbar\": {\"outlinewidth\": 0, \"ticks\": \"\"}, \"type\": \"contourcarpet\"}], \"heatmap\": [{\"colorbar\": {\"outlinewidth\": 0, \"ticks\": \"\"}, \"colorscale\": [[0.0, \"#0d0887\"], [0.1111111111111111, \"#46039f\"], [0.2222222222222222, \"#7201a8\"], [0.3333333333333333, \"#9c179e\"], [0.4444444444444444, \"#bd3786\"], [0.5555555555555556, \"#d8576b\"], [0.6666666666666666, \"#ed7953\"], [0.7777777777777778, \"#fb9f3a\"], [0.8888888888888888, \"#fdca26\"], [1.0, \"#f0f921\"]], \"type\": \"heatmap\"}], \"heatmapgl\": [{\"colorbar\": {\"outlinewidth\": 0, \"ticks\": \"\"}, \"colorscale\": [[0.0, \"#0d0887\"], [0.1111111111111111, \"#46039f\"], [0.2222222222222222, \"#7201a8\"], [0.3333333333333333, \"#9c179e\"], [0.4444444444444444, \"#bd3786\"], [0.5555555555555556, \"#d8576b\"], [0.6666666666666666, \"#ed7953\"], [0.7777777777777778, \"#fb9f3a\"], [0.8888888888888888, \"#fdca26\"], [1.0, \"#f0f921\"]], \"type\": \"heatmapgl\"}], \"histogram\": [{\"marker\": {\"colorbar\": {\"outlinewidth\": 0, \"ticks\": \"\"}}, \"type\": \"histogram\"}], \"histogram2d\": [{\"colorbar\": {\"outlinewidth\": 0, \"ticks\": \"\"}, \"colorscale\": [[0.0, \"#0d0887\"], [0.1111111111111111, \"#46039f\"], [0.2222222222222222, \"#7201a8\"], [0.3333333333333333, \"#9c179e\"], [0.4444444444444444, \"#bd3786\"], [0.5555555555555556, \"#d8576b\"], [0.6666666666666666, \"#ed7953\"], [0.7777777777777778, \"#fb9f3a\"], [0.8888888888888888, \"#fdca26\"], [1.0, \"#f0f921\"]], \"type\": \"histogram2d\"}], \"histogram2dcontour\": [{\"colorbar\": {\"outlinewidth\": 0, \"ticks\": \"\"}, \"colorscale\": [[0.0, \"#0d0887\"], [0.1111111111111111, \"#46039f\"], [0.2222222222222222, \"#7201a8\"], [0.3333333333333333, \"#9c179e\"], [0.4444444444444444, \"#bd3786\"], [0.5555555555555556, \"#d8576b\"], [0.6666666666666666, \"#ed7953\"], [0.7777777777777778, \"#fb9f3a\"], [0.8888888888888888, \"#fdca26\"], [1.0, \"#f0f921\"]], \"type\": \"histogram2dcontour\"}], \"mesh3d\": [{\"colorbar\": {\"outlinewidth\": 0, \"ticks\": \"\"}, \"type\": \"mesh3d\"}], \"parcoords\": [{\"line\": {\"colorbar\": {\"outlinewidth\": 0, \"ticks\": \"\"}}, \"type\": \"parcoords\"}], \"pie\": [{\"automargin\": true, \"type\": \"pie\"}], \"scatter\": [{\"marker\": {\"colorbar\": {\"outlinewidth\": 0, \"ticks\": \"\"}}, \"type\": \"scatter\"}], \"scatter3d\": [{\"line\": {\"colorbar\": {\"outlinewidth\": 0, \"ticks\": \"\"}}, \"marker\": {\"colorbar\": {\"outlinewidth\": 0, \"ticks\": \"\"}}, \"type\": \"scatter3d\"}], \"scattercarpet\": [{\"marker\": {\"colorbar\": {\"outlinewidth\": 0, \"ticks\": \"\"}}, \"type\": \"scattercarpet\"}], \"scattergeo\": [{\"marker\": {\"colorbar\": {\"outlinewidth\": 0, \"ticks\": \"\"}}, \"type\": \"scattergeo\"}], \"scattergl\": [{\"marker\": {\"colorbar\": {\"outlinewidth\": 0, \"ticks\": \"\"}}, \"type\": \"scattergl\"}], \"scattermapbox\": [{\"marker\": {\"colorbar\": {\"outlinewidth\": 0, \"ticks\": \"\"}}, \"type\": \"scattermapbox\"}], \"scatterpolar\": [{\"marker\": {\"colorbar\": {\"outlinewidth\": 0, \"ticks\": \"\"}}, \"type\": \"scatterpolar\"}], \"scatterpolargl\": [{\"marker\": {\"colorbar\": {\"outlinewidth\": 0, \"ticks\": \"\"}}, \"type\": \"scatterpolargl\"}], \"scatterternary\": [{\"marker\": {\"colorbar\": {\"outlinewidth\": 0, \"ticks\": \"\"}}, \"type\": \"scatterternary\"}], \"surface\": [{\"colorbar\": {\"outlinewidth\": 0, \"ticks\": \"\"}, \"colorscale\": [[0.0, \"#0d0887\"], [0.1111111111111111, \"#46039f\"], [0.2222222222222222, \"#7201a8\"], [0.3333333333333333, \"#9c179e\"], [0.4444444444444444, \"#bd3786\"], [0.5555555555555556, \"#d8576b\"], [0.6666666666666666, \"#ed7953\"], [0.7777777777777778, \"#fb9f3a\"], [0.8888888888888888, \"#fdca26\"], [1.0, \"#f0f921\"]], \"type\": \"surface\"}], \"table\": [{\"cells\": {\"fill\": {\"color\": \"#EBF0F8\"}, \"line\": {\"color\": \"white\"}}, \"header\": {\"fill\": {\"color\": \"#C8D4E3\"}, \"line\": {\"color\": \"white\"}}, \"type\": \"table\"}]}, \"layout\": {\"annotationdefaults\": {\"arrowcolor\": \"#2a3f5f\", \"arrowhead\": 0, \"arrowwidth\": 1}, \"autotypenumbers\": \"strict\", \"coloraxis\": {\"colorbar\": {\"outlinewidth\": 0, \"ticks\": \"\"}}, \"colorscale\": {\"diverging\": [[0, \"#8e0152\"], [0.1, \"#c51b7d\"], [0.2, \"#de77ae\"], [0.3, \"#f1b6da\"], [0.4, \"#fde0ef\"], [0.5, \"#f7f7f7\"], [0.6, \"#e6f5d0\"], [0.7, \"#b8e186\"], [0.8, \"#7fbc41\"], [0.9, \"#4d9221\"], [1, \"#276419\"]], \"sequential\": [[0.0, \"#0d0887\"], [0.1111111111111111, \"#46039f\"], [0.2222222222222222, \"#7201a8\"], [0.3333333333333333, \"#9c179e\"], [0.4444444444444444, \"#bd3786\"], [0.5555555555555556, \"#d8576b\"], [0.6666666666666666, \"#ed7953\"], [0.7777777777777778, \"#fb9f3a\"], [0.8888888888888888, \"#fdca26\"], [1.0, \"#f0f921\"]], \"sequentialminus\": [[0.0, \"#0d0887\"], [0.1111111111111111, \"#46039f\"], [0.2222222222222222, \"#7201a8\"], [0.3333333333333333, \"#9c179e\"], [0.4444444444444444, \"#bd3786\"], [0.5555555555555556, \"#d8576b\"], [0.6666666666666666, \"#ed7953\"], [0.7777777777777778, \"#fb9f3a\"], [0.8888888888888888, \"#fdca26\"], [1.0, \"#f0f921\"]]}, \"colorway\": [\"#636efa\", \"#EF553B\", \"#00cc96\", \"#ab63fa\", \"#FFA15A\", \"#19d3f3\", \"#FF6692\", \"#B6E880\", \"#FF97FF\", \"#FECB52\"], \"font\": {\"color\": \"#2a3f5f\"}, \"geo\": {\"bgcolor\": \"white\", \"lakecolor\": \"white\", \"landcolor\": \"#E5ECF6\", \"showlakes\": true, \"showland\": true, \"subunitcolor\": \"white\"}, \"hoverlabel\": {\"align\": \"left\"}, \"hovermode\": \"closest\", \"mapbox\": {\"style\": \"light\"}, \"paper_bgcolor\": \"white\", \"plot_bgcolor\": \"#E5ECF6\", \"polar\": {\"angularaxis\": {\"gridcolor\": \"white\", \"linecolor\": \"white\", \"ticks\": \"\"}, \"bgcolor\": \"#E5ECF6\", \"radialaxis\": {\"gridcolor\": \"white\", \"linecolor\": \"white\", \"ticks\": \"\"}}, \"scene\": {\"xaxis\": {\"backgroundcolor\": \"#E5ECF6\", \"gridcolor\": \"white\", \"gridwidth\": 2, \"linecolor\": \"white\", \"showbackground\": true, \"ticks\": \"\", \"zerolinecolor\": \"white\"}, \"yaxis\": {\"backgroundcolor\": \"#E5ECF6\", \"gridcolor\": \"white\", \"gridwidth\": 2, \"linecolor\": \"white\", \"showbackground\": true, \"ticks\": \"\", \"zerolinecolor\": \"white\"}, \"zaxis\": {\"backgroundcolor\": \"#E5ECF6\", \"gridcolor\": \"white\", \"gridwidth\": 2, \"linecolor\": \"white\", \"showbackground\": true, \"ticks\": \"\", \"zerolinecolor\": \"white\"}}, \"shapedefaults\": {\"line\": {\"color\": \"#2a3f5f\"}}, \"ternary\": {\"aaxis\": {\"gridcolor\": \"white\", \"linecolor\": \"white\", \"ticks\": \"\"}, \"baxis\": {\"gridcolor\": \"white\", \"linecolor\": \"white\", \"ticks\": \"\"}, \"bgcolor\": \"#E5ECF6\", \"caxis\": {\"gridcolor\": \"white\", \"linecolor\": \"white\", \"ticks\": \"\"}}, \"title\": {\"x\": 0.05}, \"xaxis\": {\"automargin\": true, \"gridcolor\": \"white\", \"linecolor\": \"white\", \"ticks\": \"\", \"title\": {\"standoff\": 15}, \"zerolinecolor\": \"white\", \"zerolinewidth\": 2}, \"yaxis\": {\"automargin\": true, \"gridcolor\": \"white\", \"linecolor\": \"white\", \"ticks\": \"\", \"title\": {\"standoff\": 15}, \"zerolinecolor\": \"white\", \"zerolinewidth\": 2}}}, \"title\": {\"text\": \"words distribution\"}, \"width\": 1000, \"xaxis\": {\"anchor\": \"y\", \"domain\": [0.0, 1.0], \"title\": {\"text\": \"\"}}, \"yaxis\": {\"anchor\": \"x\", \"domain\": [0.0, 1.0], \"title\": {\"text\": \"\"}}},                        {\"responsive\": true}                    ).then(function(){\n",
       "                            \n",
       "var gd = document.getElementById('297c7a8d-6ee2-448a-979a-ffd13e9b5594');\n",
       "var x = new MutationObserver(function (mutations, observer) {{\n",
       "        var display = window.getComputedStyle(gd).display;\n",
       "        if (!display || display === 'none') {{\n",
       "            console.log([gd, 'removed!']);\n",
       "            Plotly.purge(gd);\n",
       "            observer.disconnect();\n",
       "        }}\n",
       "}});\n",
       "\n",
       "// Listen for the removal of the full notebook cells\n",
       "var notebookContainer = gd.closest('#notebook-container');\n",
       "if (notebookContainer) {{\n",
       "    x.observe(notebookContainer, {childList: true});\n",
       "}}\n",
       "\n",
       "// Listen for the clearing of the current output cell\n",
       "var outputEl = gd.closest('.output');\n",
       "if (outputEl) {{\n",
       "    x.observe(outputEl, {childList: true});\n",
       "}}\n",
       "\n",
       "                        })                };                });            </script>        </div>"
      ]
     },
     "metadata": {},
     "output_type": "display_data"
    }
   ],
   "source": [
    "wordhist = npt.word_distribution(title='words distribution')\n",
    "wordhist.write_html(\"Resources/wordhistogram.html\")\n",
    "wordhist"
   ]
  },
  {
   "cell_type": "markdown",
   "id": "agricultural-conservation",
   "metadata": {},
   "source": [
    "## Wordcloud"
   ]
  },
  {
   "cell_type": "code",
   "execution_count": null,
   "id": "electric-removal",
   "metadata": {},
   "outputs": [],
   "source": [
    "#renders a simple, clean, and colorful wordcloud\n",
    "nptcloud = npt.wordcloud(stopwords=stopwords, colormap='tab20_r')\n",
    "nptcloud.write_html(\"Resources/nptcloud.html\")"
   ]
  },
  {
   "cell_type": "markdown",
   "id": "rolled-addiction",
   "metadata": {},
   "source": [
    "## Treemap without stopwords"
   ]
  },
  {
   "cell_type": "code",
   "execution_count": 19,
   "id": "respective-budget",
   "metadata": {},
   "outputs": [
    {
     "name": "stderr",
     "output_type": "stream",
     "text": [
      "100%|███████████████████████████████████████████████████████████████████████████| 4004/4004 [00:00<00:00, 19813.70it/s]\n"
     ]
    },
    {
     "data": {
      "application/vnd.plotly.v1+json": {
       "config": {
        "plotlyServerURL": "https://plot.ly"
       },
       "data": [
        {
         "branchvalues": "total",
         "domain": {
          "x": [
           0,
           1
          ],
          "y": [
           0,
           1
          ]
         },
         "hovertemplate": "labels=%{label}<br>word_count=%{value}<br>parent=%{parent}<br>id=%{id}<extra></extra>",
         "ids": [
          "also",
          "around",
          "attraction",
          "back",
          "character",
          "child",
          "close",
          "come",
          "crowd",
          "enjoy",
          "even",
          "experience",
          "family",
          "fast",
          "first",
          "fun",
          "hour",
          "long",
          "lot",
          "many",
          "minute",
          "old",
          "pas",
          "people",
          "small",
          "staff",
          "still",
          "ticket",
          "want",
          "world"
         ],
         "labels": [
          "also",
          "around",
          "attraction",
          "back",
          "character",
          "child",
          "close",
          "come",
          "crowd",
          "enjoy",
          "even",
          "experience",
          "family",
          "fast",
          "first",
          "fun",
          "hour",
          "long",
          "lot",
          "many",
          "minute",
          "old",
          "pas",
          "people",
          "small",
          "staff",
          "still",
          "ticket",
          "want",
          "world"
         ],
         "name": "",
         "parents": [
          "",
          "",
          "",
          "",
          "",
          "",
          "",
          "",
          "",
          "",
          "",
          "",
          "",
          "",
          "",
          "",
          "",
          "",
          "",
          "",
          "",
          "",
          "",
          "",
          "",
          "",
          "",
          "",
          "",
          ""
         ],
         "type": "treemap",
         "values": [
          958,
          811,
          825,
          906,
          863,
          927,
          761,
          766,
          771,
          862,
          1040,
          952,
          716,
          885,
          823,
          950,
          849,
          1046,
          897,
          809,
          725,
          778,
          762,
          992,
          883,
          768,
          752,
          779,
          725,
          726
         ]
        }
       ],
       "layout": {
        "height": 600,
        "legend": {
         "tracegroupgap": 0
        },
        "margin": {
         "t": 60
        },
        "template": {
         "data": {
          "bar": [
           {
            "error_x": {
             "color": "#2a3f5f"
            },
            "error_y": {
             "color": "#2a3f5f"
            },
            "marker": {
             "line": {
              "color": "#E5ECF6",
              "width": 0.5
             }
            },
            "type": "bar"
           }
          ],
          "barpolar": [
           {
            "marker": {
             "line": {
              "color": "#E5ECF6",
              "width": 0.5
             }
            },
            "type": "barpolar"
           }
          ],
          "carpet": [
           {
            "aaxis": {
             "endlinecolor": "#2a3f5f",
             "gridcolor": "white",
             "linecolor": "white",
             "minorgridcolor": "white",
             "startlinecolor": "#2a3f5f"
            },
            "baxis": {
             "endlinecolor": "#2a3f5f",
             "gridcolor": "white",
             "linecolor": "white",
             "minorgridcolor": "white",
             "startlinecolor": "#2a3f5f"
            },
            "type": "carpet"
           }
          ],
          "choropleth": [
           {
            "colorbar": {
             "outlinewidth": 0,
             "ticks": ""
            },
            "type": "choropleth"
           }
          ],
          "contour": [
           {
            "colorbar": {
             "outlinewidth": 0,
             "ticks": ""
            },
            "colorscale": [
             [
              0,
              "#0d0887"
             ],
             [
              0.1111111111111111,
              "#46039f"
             ],
             [
              0.2222222222222222,
              "#7201a8"
             ],
             [
              0.3333333333333333,
              "#9c179e"
             ],
             [
              0.4444444444444444,
              "#bd3786"
             ],
             [
              0.5555555555555556,
              "#d8576b"
             ],
             [
              0.6666666666666666,
              "#ed7953"
             ],
             [
              0.7777777777777778,
              "#fb9f3a"
             ],
             [
              0.8888888888888888,
              "#fdca26"
             ],
             [
              1,
              "#f0f921"
             ]
            ],
            "type": "contour"
           }
          ],
          "contourcarpet": [
           {
            "colorbar": {
             "outlinewidth": 0,
             "ticks": ""
            },
            "type": "contourcarpet"
           }
          ],
          "heatmap": [
           {
            "colorbar": {
             "outlinewidth": 0,
             "ticks": ""
            },
            "colorscale": [
             [
              0,
              "#0d0887"
             ],
             [
              0.1111111111111111,
              "#46039f"
             ],
             [
              0.2222222222222222,
              "#7201a8"
             ],
             [
              0.3333333333333333,
              "#9c179e"
             ],
             [
              0.4444444444444444,
              "#bd3786"
             ],
             [
              0.5555555555555556,
              "#d8576b"
             ],
             [
              0.6666666666666666,
              "#ed7953"
             ],
             [
              0.7777777777777778,
              "#fb9f3a"
             ],
             [
              0.8888888888888888,
              "#fdca26"
             ],
             [
              1,
              "#f0f921"
             ]
            ],
            "type": "heatmap"
           }
          ],
          "heatmapgl": [
           {
            "colorbar": {
             "outlinewidth": 0,
             "ticks": ""
            },
            "colorscale": [
             [
              0,
              "#0d0887"
             ],
             [
              0.1111111111111111,
              "#46039f"
             ],
             [
              0.2222222222222222,
              "#7201a8"
             ],
             [
              0.3333333333333333,
              "#9c179e"
             ],
             [
              0.4444444444444444,
              "#bd3786"
             ],
             [
              0.5555555555555556,
              "#d8576b"
             ],
             [
              0.6666666666666666,
              "#ed7953"
             ],
             [
              0.7777777777777778,
              "#fb9f3a"
             ],
             [
              0.8888888888888888,
              "#fdca26"
             ],
             [
              1,
              "#f0f921"
             ]
            ],
            "type": "heatmapgl"
           }
          ],
          "histogram": [
           {
            "marker": {
             "colorbar": {
              "outlinewidth": 0,
              "ticks": ""
             }
            },
            "type": "histogram"
           }
          ],
          "histogram2d": [
           {
            "colorbar": {
             "outlinewidth": 0,
             "ticks": ""
            },
            "colorscale": [
             [
              0,
              "#0d0887"
             ],
             [
              0.1111111111111111,
              "#46039f"
             ],
             [
              0.2222222222222222,
              "#7201a8"
             ],
             [
              0.3333333333333333,
              "#9c179e"
             ],
             [
              0.4444444444444444,
              "#bd3786"
             ],
             [
              0.5555555555555556,
              "#d8576b"
             ],
             [
              0.6666666666666666,
              "#ed7953"
             ],
             [
              0.7777777777777778,
              "#fb9f3a"
             ],
             [
              0.8888888888888888,
              "#fdca26"
             ],
             [
              1,
              "#f0f921"
             ]
            ],
            "type": "histogram2d"
           }
          ],
          "histogram2dcontour": [
           {
            "colorbar": {
             "outlinewidth": 0,
             "ticks": ""
            },
            "colorscale": [
             [
              0,
              "#0d0887"
             ],
             [
              0.1111111111111111,
              "#46039f"
             ],
             [
              0.2222222222222222,
              "#7201a8"
             ],
             [
              0.3333333333333333,
              "#9c179e"
             ],
             [
              0.4444444444444444,
              "#bd3786"
             ],
             [
              0.5555555555555556,
              "#d8576b"
             ],
             [
              0.6666666666666666,
              "#ed7953"
             ],
             [
              0.7777777777777778,
              "#fb9f3a"
             ],
             [
              0.8888888888888888,
              "#fdca26"
             ],
             [
              1,
              "#f0f921"
             ]
            ],
            "type": "histogram2dcontour"
           }
          ],
          "mesh3d": [
           {
            "colorbar": {
             "outlinewidth": 0,
             "ticks": ""
            },
            "type": "mesh3d"
           }
          ],
          "parcoords": [
           {
            "line": {
             "colorbar": {
              "outlinewidth": 0,
              "ticks": ""
             }
            },
            "type": "parcoords"
           }
          ],
          "pie": [
           {
            "automargin": true,
            "type": "pie"
           }
          ],
          "scatter": [
           {
            "marker": {
             "colorbar": {
              "outlinewidth": 0,
              "ticks": ""
             }
            },
            "type": "scatter"
           }
          ],
          "scatter3d": [
           {
            "line": {
             "colorbar": {
              "outlinewidth": 0,
              "ticks": ""
             }
            },
            "marker": {
             "colorbar": {
              "outlinewidth": 0,
              "ticks": ""
             }
            },
            "type": "scatter3d"
           }
          ],
          "scattercarpet": [
           {
            "marker": {
             "colorbar": {
              "outlinewidth": 0,
              "ticks": ""
             }
            },
            "type": "scattercarpet"
           }
          ],
          "scattergeo": [
           {
            "marker": {
             "colorbar": {
              "outlinewidth": 0,
              "ticks": ""
             }
            },
            "type": "scattergeo"
           }
          ],
          "scattergl": [
           {
            "marker": {
             "colorbar": {
              "outlinewidth": 0,
              "ticks": ""
             }
            },
            "type": "scattergl"
           }
          ],
          "scattermapbox": [
           {
            "marker": {
             "colorbar": {
              "outlinewidth": 0,
              "ticks": ""
             }
            },
            "type": "scattermapbox"
           }
          ],
          "scatterpolar": [
           {
            "marker": {
             "colorbar": {
              "outlinewidth": 0,
              "ticks": ""
             }
            },
            "type": "scatterpolar"
           }
          ],
          "scatterpolargl": [
           {
            "marker": {
             "colorbar": {
              "outlinewidth": 0,
              "ticks": ""
             }
            },
            "type": "scatterpolargl"
           }
          ],
          "scatterternary": [
           {
            "marker": {
             "colorbar": {
              "outlinewidth": 0,
              "ticks": ""
             }
            },
            "type": "scatterternary"
           }
          ],
          "surface": [
           {
            "colorbar": {
             "outlinewidth": 0,
             "ticks": ""
            },
            "colorscale": [
             [
              0,
              "#0d0887"
             ],
             [
              0.1111111111111111,
              "#46039f"
             ],
             [
              0.2222222222222222,
              "#7201a8"
             ],
             [
              0.3333333333333333,
              "#9c179e"
             ],
             [
              0.4444444444444444,
              "#bd3786"
             ],
             [
              0.5555555555555556,
              "#d8576b"
             ],
             [
              0.6666666666666666,
              "#ed7953"
             ],
             [
              0.7777777777777778,
              "#fb9f3a"
             ],
             [
              0.8888888888888888,
              "#fdca26"
             ],
             [
              1,
              "#f0f921"
             ]
            ],
            "type": "surface"
           }
          ],
          "table": [
           {
            "cells": {
             "fill": {
              "color": "#EBF0F8"
             },
             "line": {
              "color": "white"
             }
            },
            "header": {
             "fill": {
              "color": "#C8D4E3"
             },
             "line": {
              "color": "white"
             }
            },
            "type": "table"
           }
          ]
         },
         "layout": {
          "annotationdefaults": {
           "arrowcolor": "#2a3f5f",
           "arrowhead": 0,
           "arrowwidth": 1
          },
          "autotypenumbers": "strict",
          "coloraxis": {
           "colorbar": {
            "outlinewidth": 0,
            "ticks": ""
           }
          },
          "colorscale": {
           "diverging": [
            [
             0,
             "#8e0152"
            ],
            [
             0.1,
             "#c51b7d"
            ],
            [
             0.2,
             "#de77ae"
            ],
            [
             0.3,
             "#f1b6da"
            ],
            [
             0.4,
             "#fde0ef"
            ],
            [
             0.5,
             "#f7f7f7"
            ],
            [
             0.6,
             "#e6f5d0"
            ],
            [
             0.7,
             "#b8e186"
            ],
            [
             0.8,
             "#7fbc41"
            ],
            [
             0.9,
             "#4d9221"
            ],
            [
             1,
             "#276419"
            ]
           ],
           "sequential": [
            [
             0,
             "#0d0887"
            ],
            [
             0.1111111111111111,
             "#46039f"
            ],
            [
             0.2222222222222222,
             "#7201a8"
            ],
            [
             0.3333333333333333,
             "#9c179e"
            ],
            [
             0.4444444444444444,
             "#bd3786"
            ],
            [
             0.5555555555555556,
             "#d8576b"
            ],
            [
             0.6666666666666666,
             "#ed7953"
            ],
            [
             0.7777777777777778,
             "#fb9f3a"
            ],
            [
             0.8888888888888888,
             "#fdca26"
            ],
            [
             1,
             "#f0f921"
            ]
           ],
           "sequentialminus": [
            [
             0,
             "#0d0887"
            ],
            [
             0.1111111111111111,
             "#46039f"
            ],
            [
             0.2222222222222222,
             "#7201a8"
            ],
            [
             0.3333333333333333,
             "#9c179e"
            ],
            [
             0.4444444444444444,
             "#bd3786"
            ],
            [
             0.5555555555555556,
             "#d8576b"
            ],
            [
             0.6666666666666666,
             "#ed7953"
            ],
            [
             0.7777777777777778,
             "#fb9f3a"
            ],
            [
             0.8888888888888888,
             "#fdca26"
            ],
            [
             1,
             "#f0f921"
            ]
           ]
          },
          "colorway": [
           "#636efa",
           "#EF553B",
           "#00cc96",
           "#ab63fa",
           "#FFA15A",
           "#19d3f3",
           "#FF6692",
           "#B6E880",
           "#FF97FF",
           "#FECB52"
          ],
          "font": {
           "color": "#2a3f5f"
          },
          "geo": {
           "bgcolor": "white",
           "lakecolor": "white",
           "landcolor": "#E5ECF6",
           "showlakes": true,
           "showland": true,
           "subunitcolor": "white"
          },
          "hoverlabel": {
           "align": "left"
          },
          "hovermode": "closest",
          "mapbox": {
           "style": "light"
          },
          "paper_bgcolor": "white",
          "plot_bgcolor": "#E5ECF6",
          "polar": {
           "angularaxis": {
            "gridcolor": "white",
            "linecolor": "white",
            "ticks": ""
           },
           "bgcolor": "#E5ECF6",
           "radialaxis": {
            "gridcolor": "white",
            "linecolor": "white",
            "ticks": ""
           }
          },
          "scene": {
           "xaxis": {
            "backgroundcolor": "#E5ECF6",
            "gridcolor": "white",
            "gridwidth": 2,
            "linecolor": "white",
            "showbackground": true,
            "ticks": "",
            "zerolinecolor": "white"
           },
           "yaxis": {
            "backgroundcolor": "#E5ECF6",
            "gridcolor": "white",
            "gridwidth": 2,
            "linecolor": "white",
            "showbackground": true,
            "ticks": "",
            "zerolinecolor": "white"
           },
           "zaxis": {
            "backgroundcolor": "#E5ECF6",
            "gridcolor": "white",
            "gridwidth": 2,
            "linecolor": "white",
            "showbackground": true,
            "ticks": "",
            "zerolinecolor": "white"
           }
          },
          "shapedefaults": {
           "line": {
            "color": "#2a3f5f"
           }
          },
          "ternary": {
           "aaxis": {
            "gridcolor": "white",
            "linecolor": "white",
            "ticks": ""
           },
           "baxis": {
            "gridcolor": "white",
            "linecolor": "white",
            "ticks": ""
           },
           "bgcolor": "#E5ECF6",
           "caxis": {
            "gridcolor": "white",
            "linecolor": "white",
            "ticks": ""
           }
          },
          "title": {
           "x": 0.05
          },
          "xaxis": {
           "automargin": true,
           "gridcolor": "white",
           "linecolor": "white",
           "ticks": "",
           "title": {
            "standoff": 15
           },
           "zerolinecolor": "white",
           "zerolinewidth": 2
          },
          "yaxis": {
           "automargin": true,
           "gridcolor": "white",
           "linecolor": "white",
           "ticks": "",
           "title": {
            "standoff": 15
           },
           "zerolinecolor": "white",
           "zerolinewidth": 2
          }
         }
        },
        "title": {
         "text": "Tree of Most Common Words"
        },
        "width": 1300
       }
      },
      "text/html": [
       "<div>                            <div id=\"6c322bda-4a0a-4b63-83b3-e3ccaa19e0a9\" class=\"plotly-graph-div\" style=\"height:600px; width:1300px;\"></div>            <script type=\"text/javascript\">                require([\"plotly\"], function(Plotly) {                    window.PLOTLYENV=window.PLOTLYENV || {};                                    if (document.getElementById(\"6c322bda-4a0a-4b63-83b3-e3ccaa19e0a9\")) {                    Plotly.newPlot(                        \"6c322bda-4a0a-4b63-83b3-e3ccaa19e0a9\",                        [{\"branchvalues\": \"total\", \"domain\": {\"x\": [0.0, 1.0], \"y\": [0.0, 1.0]}, \"hovertemplate\": \"labels=%{label}<br>word_count=%{value}<br>parent=%{parent}<br>id=%{id}<extra></extra>\", \"ids\": [\"also\", \"around\", \"attraction\", \"back\", \"character\", \"child\", \"close\", \"come\", \"crowd\", \"enjoy\", \"even\", \"experience\", \"family\", \"fast\", \"first\", \"fun\", \"hour\", \"long\", \"lot\", \"many\", \"minute\", \"old\", \"pas\", \"people\", \"small\", \"staff\", \"still\", \"ticket\", \"want\", \"world\"], \"labels\": [\"also\", \"around\", \"attraction\", \"back\", \"character\", \"child\", \"close\", \"come\", \"crowd\", \"enjoy\", \"even\", \"experience\", \"family\", \"fast\", \"first\", \"fun\", \"hour\", \"long\", \"lot\", \"many\", \"minute\", \"old\", \"pas\", \"people\", \"small\", \"staff\", \"still\", \"ticket\", \"want\", \"world\"], \"name\": \"\", \"parents\": [\"\", \"\", \"\", \"\", \"\", \"\", \"\", \"\", \"\", \"\", \"\", \"\", \"\", \"\", \"\", \"\", \"\", \"\", \"\", \"\", \"\", \"\", \"\", \"\", \"\", \"\", \"\", \"\", \"\", \"\"], \"type\": \"treemap\", \"values\": [958, 811, 825, 906, 863, 927, 761, 766, 771, 862, 1040, 952, 716, 885, 823, 950, 849, 1046, 897, 809, 725, 778, 762, 992, 883, 768, 752, 779, 725, 726]}],                        {\"height\": 600, \"legend\": {\"tracegroupgap\": 0}, \"margin\": {\"t\": 60}, \"template\": {\"data\": {\"bar\": [{\"error_x\": {\"color\": \"#2a3f5f\"}, \"error_y\": {\"color\": \"#2a3f5f\"}, \"marker\": {\"line\": {\"color\": \"#E5ECF6\", \"width\": 0.5}}, \"type\": \"bar\"}], \"barpolar\": [{\"marker\": {\"line\": {\"color\": \"#E5ECF6\", \"width\": 0.5}}, \"type\": \"barpolar\"}], \"carpet\": [{\"aaxis\": {\"endlinecolor\": \"#2a3f5f\", \"gridcolor\": \"white\", \"linecolor\": \"white\", \"minorgridcolor\": \"white\", \"startlinecolor\": \"#2a3f5f\"}, \"baxis\": {\"endlinecolor\": \"#2a3f5f\", \"gridcolor\": \"white\", \"linecolor\": \"white\", \"minorgridcolor\": \"white\", \"startlinecolor\": \"#2a3f5f\"}, \"type\": \"carpet\"}], \"choropleth\": [{\"colorbar\": {\"outlinewidth\": 0, \"ticks\": \"\"}, \"type\": \"choropleth\"}], \"contour\": [{\"colorbar\": {\"outlinewidth\": 0, \"ticks\": \"\"}, \"colorscale\": [[0.0, \"#0d0887\"], [0.1111111111111111, \"#46039f\"], [0.2222222222222222, \"#7201a8\"], [0.3333333333333333, \"#9c179e\"], [0.4444444444444444, \"#bd3786\"], [0.5555555555555556, \"#d8576b\"], [0.6666666666666666, \"#ed7953\"], [0.7777777777777778, \"#fb9f3a\"], [0.8888888888888888, \"#fdca26\"], [1.0, \"#f0f921\"]], \"type\": \"contour\"}], \"contourcarpet\": [{\"colorbar\": {\"outlinewidth\": 0, \"ticks\": \"\"}, \"type\": \"contourcarpet\"}], \"heatmap\": [{\"colorbar\": {\"outlinewidth\": 0, \"ticks\": \"\"}, \"colorscale\": [[0.0, \"#0d0887\"], [0.1111111111111111, \"#46039f\"], [0.2222222222222222, \"#7201a8\"], [0.3333333333333333, \"#9c179e\"], [0.4444444444444444, \"#bd3786\"], [0.5555555555555556, \"#d8576b\"], [0.6666666666666666, \"#ed7953\"], [0.7777777777777778, \"#fb9f3a\"], [0.8888888888888888, \"#fdca26\"], [1.0, \"#f0f921\"]], \"type\": \"heatmap\"}], \"heatmapgl\": [{\"colorbar\": {\"outlinewidth\": 0, \"ticks\": \"\"}, \"colorscale\": [[0.0, \"#0d0887\"], [0.1111111111111111, \"#46039f\"], [0.2222222222222222, \"#7201a8\"], [0.3333333333333333, \"#9c179e\"], [0.4444444444444444, \"#bd3786\"], [0.5555555555555556, \"#d8576b\"], [0.6666666666666666, \"#ed7953\"], [0.7777777777777778, \"#fb9f3a\"], [0.8888888888888888, \"#fdca26\"], [1.0, \"#f0f921\"]], \"type\": \"heatmapgl\"}], \"histogram\": [{\"marker\": {\"colorbar\": {\"outlinewidth\": 0, \"ticks\": \"\"}}, \"type\": \"histogram\"}], \"histogram2d\": [{\"colorbar\": {\"outlinewidth\": 0, \"ticks\": \"\"}, \"colorscale\": [[0.0, \"#0d0887\"], [0.1111111111111111, \"#46039f\"], [0.2222222222222222, \"#7201a8\"], [0.3333333333333333, \"#9c179e\"], [0.4444444444444444, \"#bd3786\"], [0.5555555555555556, \"#d8576b\"], [0.6666666666666666, \"#ed7953\"], [0.7777777777777778, \"#fb9f3a\"], [0.8888888888888888, \"#fdca26\"], [1.0, \"#f0f921\"]], \"type\": \"histogram2d\"}], \"histogram2dcontour\": [{\"colorbar\": {\"outlinewidth\": 0, \"ticks\": \"\"}, \"colorscale\": [[0.0, \"#0d0887\"], [0.1111111111111111, \"#46039f\"], [0.2222222222222222, \"#7201a8\"], [0.3333333333333333, \"#9c179e\"], [0.4444444444444444, \"#bd3786\"], [0.5555555555555556, \"#d8576b\"], [0.6666666666666666, \"#ed7953\"], [0.7777777777777778, \"#fb9f3a\"], [0.8888888888888888, \"#fdca26\"], [1.0, \"#f0f921\"]], \"type\": \"histogram2dcontour\"}], \"mesh3d\": [{\"colorbar\": {\"outlinewidth\": 0, \"ticks\": \"\"}, \"type\": \"mesh3d\"}], \"parcoords\": [{\"line\": {\"colorbar\": {\"outlinewidth\": 0, \"ticks\": \"\"}}, \"type\": \"parcoords\"}], \"pie\": [{\"automargin\": true, \"type\": \"pie\"}], \"scatter\": [{\"marker\": {\"colorbar\": {\"outlinewidth\": 0, \"ticks\": \"\"}}, \"type\": \"scatter\"}], \"scatter3d\": [{\"line\": {\"colorbar\": {\"outlinewidth\": 0, \"ticks\": \"\"}}, \"marker\": {\"colorbar\": {\"outlinewidth\": 0, \"ticks\": \"\"}}, \"type\": \"scatter3d\"}], \"scattercarpet\": [{\"marker\": {\"colorbar\": {\"outlinewidth\": 0, \"ticks\": \"\"}}, \"type\": \"scattercarpet\"}], \"scattergeo\": [{\"marker\": {\"colorbar\": {\"outlinewidth\": 0, \"ticks\": \"\"}}, \"type\": \"scattergeo\"}], \"scattergl\": [{\"marker\": {\"colorbar\": {\"outlinewidth\": 0, \"ticks\": \"\"}}, \"type\": \"scattergl\"}], \"scattermapbox\": [{\"marker\": {\"colorbar\": {\"outlinewidth\": 0, \"ticks\": \"\"}}, \"type\": \"scattermapbox\"}], \"scatterpolar\": [{\"marker\": {\"colorbar\": {\"outlinewidth\": 0, \"ticks\": \"\"}}, \"type\": \"scatterpolar\"}], \"scatterpolargl\": [{\"marker\": {\"colorbar\": {\"outlinewidth\": 0, \"ticks\": \"\"}}, \"type\": \"scatterpolargl\"}], \"scatterternary\": [{\"marker\": {\"colorbar\": {\"outlinewidth\": 0, \"ticks\": \"\"}}, \"type\": \"scatterternary\"}], \"surface\": [{\"colorbar\": {\"outlinewidth\": 0, \"ticks\": \"\"}, \"colorscale\": [[0.0, \"#0d0887\"], [0.1111111111111111, \"#46039f\"], [0.2222222222222222, \"#7201a8\"], [0.3333333333333333, \"#9c179e\"], [0.4444444444444444, \"#bd3786\"], [0.5555555555555556, \"#d8576b\"], [0.6666666666666666, \"#ed7953\"], [0.7777777777777778, \"#fb9f3a\"], [0.8888888888888888, \"#fdca26\"], [1.0, \"#f0f921\"]], \"type\": \"surface\"}], \"table\": [{\"cells\": {\"fill\": {\"color\": \"#EBF0F8\"}, \"line\": {\"color\": \"white\"}}, \"header\": {\"fill\": {\"color\": \"#C8D4E3\"}, \"line\": {\"color\": \"white\"}}, \"type\": \"table\"}]}, \"layout\": {\"annotationdefaults\": {\"arrowcolor\": \"#2a3f5f\", \"arrowhead\": 0, \"arrowwidth\": 1}, \"autotypenumbers\": \"strict\", \"coloraxis\": {\"colorbar\": {\"outlinewidth\": 0, \"ticks\": \"\"}}, \"colorscale\": {\"diverging\": [[0, \"#8e0152\"], [0.1, \"#c51b7d\"], [0.2, \"#de77ae\"], [0.3, \"#f1b6da\"], [0.4, \"#fde0ef\"], [0.5, \"#f7f7f7\"], [0.6, \"#e6f5d0\"], [0.7, \"#b8e186\"], [0.8, \"#7fbc41\"], [0.9, \"#4d9221\"], [1, \"#276419\"]], \"sequential\": [[0.0, \"#0d0887\"], [0.1111111111111111, \"#46039f\"], [0.2222222222222222, \"#7201a8\"], [0.3333333333333333, \"#9c179e\"], [0.4444444444444444, \"#bd3786\"], [0.5555555555555556, \"#d8576b\"], [0.6666666666666666, \"#ed7953\"], [0.7777777777777778, \"#fb9f3a\"], [0.8888888888888888, \"#fdca26\"], [1.0, \"#f0f921\"]], \"sequentialminus\": [[0.0, \"#0d0887\"], [0.1111111111111111, \"#46039f\"], [0.2222222222222222, \"#7201a8\"], [0.3333333333333333, \"#9c179e\"], [0.4444444444444444, \"#bd3786\"], [0.5555555555555556, \"#d8576b\"], [0.6666666666666666, \"#ed7953\"], [0.7777777777777778, \"#fb9f3a\"], [0.8888888888888888, \"#fdca26\"], [1.0, \"#f0f921\"]]}, \"colorway\": [\"#636efa\", \"#EF553B\", \"#00cc96\", \"#ab63fa\", \"#FFA15A\", \"#19d3f3\", \"#FF6692\", \"#B6E880\", \"#FF97FF\", \"#FECB52\"], \"font\": {\"color\": \"#2a3f5f\"}, \"geo\": {\"bgcolor\": \"white\", \"lakecolor\": \"white\", \"landcolor\": \"#E5ECF6\", \"showlakes\": true, \"showland\": true, \"subunitcolor\": \"white\"}, \"hoverlabel\": {\"align\": \"left\"}, \"hovermode\": \"closest\", \"mapbox\": {\"style\": \"light\"}, \"paper_bgcolor\": \"white\", \"plot_bgcolor\": \"#E5ECF6\", \"polar\": {\"angularaxis\": {\"gridcolor\": \"white\", \"linecolor\": \"white\", \"ticks\": \"\"}, \"bgcolor\": \"#E5ECF6\", \"radialaxis\": {\"gridcolor\": \"white\", \"linecolor\": \"white\", \"ticks\": \"\"}}, \"scene\": {\"xaxis\": {\"backgroundcolor\": \"#E5ECF6\", \"gridcolor\": \"white\", \"gridwidth\": 2, \"linecolor\": \"white\", \"showbackground\": true, \"ticks\": \"\", \"zerolinecolor\": \"white\"}, \"yaxis\": {\"backgroundcolor\": \"#E5ECF6\", \"gridcolor\": \"white\", \"gridwidth\": 2, \"linecolor\": \"white\", \"showbackground\": true, \"ticks\": \"\", \"zerolinecolor\": \"white\"}, \"zaxis\": {\"backgroundcolor\": \"#E5ECF6\", \"gridcolor\": \"white\", \"gridwidth\": 2, \"linecolor\": \"white\", \"showbackground\": true, \"ticks\": \"\", \"zerolinecolor\": \"white\"}}, \"shapedefaults\": {\"line\": {\"color\": \"#2a3f5f\"}}, \"ternary\": {\"aaxis\": {\"gridcolor\": \"white\", \"linecolor\": \"white\", \"ticks\": \"\"}, \"baxis\": {\"gridcolor\": \"white\", \"linecolor\": \"white\", \"ticks\": \"\"}, \"bgcolor\": \"#E5ECF6\", \"caxis\": {\"gridcolor\": \"white\", \"linecolor\": \"white\", \"ticks\": \"\"}}, \"title\": {\"x\": 0.05}, \"xaxis\": {\"automargin\": true, \"gridcolor\": \"white\", \"linecolor\": \"white\", \"ticks\": \"\", \"title\": {\"standoff\": 15}, \"zerolinecolor\": \"white\", \"zerolinewidth\": 2}, \"yaxis\": {\"automargin\": true, \"gridcolor\": \"white\", \"linecolor\": \"white\", \"ticks\": \"\", \"title\": {\"standoff\": 15}, \"zerolinecolor\": \"white\", \"zerolinewidth\": 2}}}, \"title\": {\"text\": \"Tree of Most Common Words\"}, \"width\": 1300},                        {\"responsive\": true}                    ).then(function(){\n",
       "                            \n",
       "var gd = document.getElementById('6c322bda-4a0a-4b63-83b3-e3ccaa19e0a9');\n",
       "var x = new MutationObserver(function (mutations, observer) {{\n",
       "        var display = window.getComputedStyle(gd).display;\n",
       "        if (!display || display === 'none') {{\n",
       "            console.log([gd, 'removed!']);\n",
       "            Plotly.purge(gd);\n",
       "            observer.disconnect();\n",
       "        }}\n",
       "}});\n",
       "\n",
       "// Listen for the removal of the full notebook cells\n",
       "var notebookContainer = gd.closest('#notebook-container');\n",
       "if (notebookContainer) {{\n",
       "    x.observe(notebookContainer, {childList: true});\n",
       "}}\n",
       "\n",
       "// Listen for the clearing of the current output cell\n",
       "var outputEl = gd.closest('.output');\n",
       "if (outputEl) {{\n",
       "    x.observe(outputEl, {childList: true});\n",
       "}}\n",
       "\n",
       "                        })                };                });            </script>        </div>"
      ]
     },
     "metadata": {},
     "output_type": "display_data"
    }
   ],
   "source": [
    "#renders a treemap of most frequently occuring words sans stopwords\n",
    "tree = npt.treemap(title='Tree of Most Common Words', ngram=1, top_n=30, stopwords=stopwords)\n",
    "tree.write_html(\"Resources/treemap.html\")\n",
    "tree"
   ]
  },
  {
   "cell_type": "code",
   "execution_count": 20,
   "id": "applied-official",
   "metadata": {},
   "outputs": [
    {
     "name": "stderr",
     "output_type": "stream",
     "text": [
      "100%|███████████████████████████████████████████████████████████████████████████| 4004/4004 [00:00<00:00, 19301.22it/s]\n",
      "100%|███████████████████████████████████████████████████████████████████████████| 4004/4004 [00:00<00:00, 15147.81it/s]\n"
     ]
    },
    {
     "data": {
      "application/vnd.plotly.v1+json": {
       "config": {
        "plotlyServerURL": "https://plot.ly"
       },
       "data": [
        {
         "alignmentgroup": "True",
         "hovertemplate": "word_count=%{text}<br>word=%{y}<extra></extra>",
         "legendgroup": "",
         "marker": {},
         "name": "",
         "offsetgroup": "",
         "orientation": "h",
         "showlegend": false,
         "text": [
          49,
          50,
          50,
          50,
          50,
          52,
          52,
          53,
          53,
          53,
          54,
          54,
          55,
          56,
          57,
          64,
          75,
          76,
          76,
          78,
          86,
          87,
          89,
          92,
          93,
          95,
          98,
          98,
          100,
          102,
          104,
          104,
          107,
          111,
          114,
          125,
          127,
          134,
          138,
          159,
          160,
          190,
          199,
          202,
          220,
          232,
          265,
          316,
          336,
          425
         ],
         "textposition": "auto",
         "texttemplate": "%{text:.2s}",
         "type": "bar",
         "x": [
          49,
          50,
          50,
          50,
          50,
          52,
          52,
          53,
          53,
          53,
          54,
          54,
          55,
          56,
          57,
          64,
          75,
          76,
          76,
          78,
          86,
          87,
          89,
          92,
          93,
          95,
          98,
          98,
          100,
          102,
          104,
          104,
          107,
          111,
          114,
          125,
          127,
          134,
          138,
          159,
          160,
          190,
          199,
          202,
          220,
          232,
          265,
          316,
          336,
          425
         ],
         "xaxis": "x",
         "y": [
          "magic morning",
          "meet character",
          "single rider",
          "jungle cruise",
          "fast track",
          "tower terror",
          "old daughter",
          "firework display",
          "buy ticket",
          "early morning",
          "pas system",
          "walt studio",
          "attraction close",
          "customer service",
          "lot people",
          "lot fun",
          "staff friendly",
          "buzz lightyear",
          "small child",
          "magic kingdom",
          "star tour",
          "toy story",
          "mickey mouse",
          "many people",
          "splash mountain",
          "highly recommend",
          "stay hotel",
          "use fast",
          "peter pan",
          "walk around",
          "roller coaster",
          "haunt mansion",
          "lion king",
          "young child",
          "big thunder",
          "star war",
          "even though",
          "happy earth",
          "pirate caribbean",
          "thunder mountain",
          "come back",
          "indiana jones",
          "cast member",
          "main street",
          "california adventure",
          "small world",
          "fast pass",
          "hong kong",
          "space mountain",
          "fast pas"
         ],
         "yaxis": "y"
        }
       ],
       "layout": {
        "barmode": "relative",
        "height": 1100,
        "legend": {
         "tracegroupgap": 0
        },
        "margin": {
         "t": 60
        },
        "template": {
         "data": {
          "bar": [
           {
            "error_x": {
             "color": "#2a3f5f"
            },
            "error_y": {
             "color": "#2a3f5f"
            },
            "marker": {
             "line": {
              "color": "#E5ECF6",
              "width": 0.5
             }
            },
            "type": "bar"
           }
          ],
          "barpolar": [
           {
            "marker": {
             "line": {
              "color": "#E5ECF6",
              "width": 0.5
             }
            },
            "type": "barpolar"
           }
          ],
          "carpet": [
           {
            "aaxis": {
             "endlinecolor": "#2a3f5f",
             "gridcolor": "white",
             "linecolor": "white",
             "minorgridcolor": "white",
             "startlinecolor": "#2a3f5f"
            },
            "baxis": {
             "endlinecolor": "#2a3f5f",
             "gridcolor": "white",
             "linecolor": "white",
             "minorgridcolor": "white",
             "startlinecolor": "#2a3f5f"
            },
            "type": "carpet"
           }
          ],
          "choropleth": [
           {
            "colorbar": {
             "outlinewidth": 0,
             "ticks": ""
            },
            "type": "choropleth"
           }
          ],
          "contour": [
           {
            "colorbar": {
             "outlinewidth": 0,
             "ticks": ""
            },
            "colorscale": [
             [
              0,
              "#0d0887"
             ],
             [
              0.1111111111111111,
              "#46039f"
             ],
             [
              0.2222222222222222,
              "#7201a8"
             ],
             [
              0.3333333333333333,
              "#9c179e"
             ],
             [
              0.4444444444444444,
              "#bd3786"
             ],
             [
              0.5555555555555556,
              "#d8576b"
             ],
             [
              0.6666666666666666,
              "#ed7953"
             ],
             [
              0.7777777777777778,
              "#fb9f3a"
             ],
             [
              0.8888888888888888,
              "#fdca26"
             ],
             [
              1,
              "#f0f921"
             ]
            ],
            "type": "contour"
           }
          ],
          "contourcarpet": [
           {
            "colorbar": {
             "outlinewidth": 0,
             "ticks": ""
            },
            "type": "contourcarpet"
           }
          ],
          "heatmap": [
           {
            "colorbar": {
             "outlinewidth": 0,
             "ticks": ""
            },
            "colorscale": [
             [
              0,
              "#0d0887"
             ],
             [
              0.1111111111111111,
              "#46039f"
             ],
             [
              0.2222222222222222,
              "#7201a8"
             ],
             [
              0.3333333333333333,
              "#9c179e"
             ],
             [
              0.4444444444444444,
              "#bd3786"
             ],
             [
              0.5555555555555556,
              "#d8576b"
             ],
             [
              0.6666666666666666,
              "#ed7953"
             ],
             [
              0.7777777777777778,
              "#fb9f3a"
             ],
             [
              0.8888888888888888,
              "#fdca26"
             ],
             [
              1,
              "#f0f921"
             ]
            ],
            "type": "heatmap"
           }
          ],
          "heatmapgl": [
           {
            "colorbar": {
             "outlinewidth": 0,
             "ticks": ""
            },
            "colorscale": [
             [
              0,
              "#0d0887"
             ],
             [
              0.1111111111111111,
              "#46039f"
             ],
             [
              0.2222222222222222,
              "#7201a8"
             ],
             [
              0.3333333333333333,
              "#9c179e"
             ],
             [
              0.4444444444444444,
              "#bd3786"
             ],
             [
              0.5555555555555556,
              "#d8576b"
             ],
             [
              0.6666666666666666,
              "#ed7953"
             ],
             [
              0.7777777777777778,
              "#fb9f3a"
             ],
             [
              0.8888888888888888,
              "#fdca26"
             ],
             [
              1,
              "#f0f921"
             ]
            ],
            "type": "heatmapgl"
           }
          ],
          "histogram": [
           {
            "marker": {
             "colorbar": {
              "outlinewidth": 0,
              "ticks": ""
             }
            },
            "type": "histogram"
           }
          ],
          "histogram2d": [
           {
            "colorbar": {
             "outlinewidth": 0,
             "ticks": ""
            },
            "colorscale": [
             [
              0,
              "#0d0887"
             ],
             [
              0.1111111111111111,
              "#46039f"
             ],
             [
              0.2222222222222222,
              "#7201a8"
             ],
             [
              0.3333333333333333,
              "#9c179e"
             ],
             [
              0.4444444444444444,
              "#bd3786"
             ],
             [
              0.5555555555555556,
              "#d8576b"
             ],
             [
              0.6666666666666666,
              "#ed7953"
             ],
             [
              0.7777777777777778,
              "#fb9f3a"
             ],
             [
              0.8888888888888888,
              "#fdca26"
             ],
             [
              1,
              "#f0f921"
             ]
            ],
            "type": "histogram2d"
           }
          ],
          "histogram2dcontour": [
           {
            "colorbar": {
             "outlinewidth": 0,
             "ticks": ""
            },
            "colorscale": [
             [
              0,
              "#0d0887"
             ],
             [
              0.1111111111111111,
              "#46039f"
             ],
             [
              0.2222222222222222,
              "#7201a8"
             ],
             [
              0.3333333333333333,
              "#9c179e"
             ],
             [
              0.4444444444444444,
              "#bd3786"
             ],
             [
              0.5555555555555556,
              "#d8576b"
             ],
             [
              0.6666666666666666,
              "#ed7953"
             ],
             [
              0.7777777777777778,
              "#fb9f3a"
             ],
             [
              0.8888888888888888,
              "#fdca26"
             ],
             [
              1,
              "#f0f921"
             ]
            ],
            "type": "histogram2dcontour"
           }
          ],
          "mesh3d": [
           {
            "colorbar": {
             "outlinewidth": 0,
             "ticks": ""
            },
            "type": "mesh3d"
           }
          ],
          "parcoords": [
           {
            "line": {
             "colorbar": {
              "outlinewidth": 0,
              "ticks": ""
             }
            },
            "type": "parcoords"
           }
          ],
          "pie": [
           {
            "automargin": true,
            "type": "pie"
           }
          ],
          "scatter": [
           {
            "marker": {
             "colorbar": {
              "outlinewidth": 0,
              "ticks": ""
             }
            },
            "type": "scatter"
           }
          ],
          "scatter3d": [
           {
            "line": {
             "colorbar": {
              "outlinewidth": 0,
              "ticks": ""
             }
            },
            "marker": {
             "colorbar": {
              "outlinewidth": 0,
              "ticks": ""
             }
            },
            "type": "scatter3d"
           }
          ],
          "scattercarpet": [
           {
            "marker": {
             "colorbar": {
              "outlinewidth": 0,
              "ticks": ""
             }
            },
            "type": "scattercarpet"
           }
          ],
          "scattergeo": [
           {
            "marker": {
             "colorbar": {
              "outlinewidth": 0,
              "ticks": ""
             }
            },
            "type": "scattergeo"
           }
          ],
          "scattergl": [
           {
            "marker": {
             "colorbar": {
              "outlinewidth": 0,
              "ticks": ""
             }
            },
            "type": "scattergl"
           }
          ],
          "scattermapbox": [
           {
            "marker": {
             "colorbar": {
              "outlinewidth": 0,
              "ticks": ""
             }
            },
            "type": "scattermapbox"
           }
          ],
          "scatterpolar": [
           {
            "marker": {
             "colorbar": {
              "outlinewidth": 0,
              "ticks": ""
             }
            },
            "type": "scatterpolar"
           }
          ],
          "scatterpolargl": [
           {
            "marker": {
             "colorbar": {
              "outlinewidth": 0,
              "ticks": ""
             }
            },
            "type": "scatterpolargl"
           }
          ],
          "scatterternary": [
           {
            "marker": {
             "colorbar": {
              "outlinewidth": 0,
              "ticks": ""
             }
            },
            "type": "scatterternary"
           }
          ],
          "surface": [
           {
            "colorbar": {
             "outlinewidth": 0,
             "ticks": ""
            },
            "colorscale": [
             [
              0,
              "#0d0887"
             ],
             [
              0.1111111111111111,
              "#46039f"
             ],
             [
              0.2222222222222222,
              "#7201a8"
             ],
             [
              0.3333333333333333,
              "#9c179e"
             ],
             [
              0.4444444444444444,
              "#bd3786"
             ],
             [
              0.5555555555555556,
              "#d8576b"
             ],
             [
              0.6666666666666666,
              "#ed7953"
             ],
             [
              0.7777777777777778,
              "#fb9f3a"
             ],
             [
              0.8888888888888888,
              "#fdca26"
             ],
             [
              1,
              "#f0f921"
             ]
            ],
            "type": "surface"
           }
          ],
          "table": [
           {
            "cells": {
             "fill": {
              "color": "#EBF0F8"
             },
             "line": {
              "color": "white"
             }
            },
            "header": {
             "fill": {
              "color": "#C8D4E3"
             },
             "line": {
              "color": "white"
             }
            },
            "type": "table"
           }
          ]
         },
         "layout": {
          "annotationdefaults": {
           "arrowcolor": "#2a3f5f",
           "arrowhead": 0,
           "arrowwidth": 1
          },
          "autotypenumbers": "strict",
          "coloraxis": {
           "colorbar": {
            "outlinewidth": 0,
            "ticks": ""
           }
          },
          "colorscale": {
           "diverging": [
            [
             0,
             "#8e0152"
            ],
            [
             0.1,
             "#c51b7d"
            ],
            [
             0.2,
             "#de77ae"
            ],
            [
             0.3,
             "#f1b6da"
            ],
            [
             0.4,
             "#fde0ef"
            ],
            [
             0.5,
             "#f7f7f7"
            ],
            [
             0.6,
             "#e6f5d0"
            ],
            [
             0.7,
             "#b8e186"
            ],
            [
             0.8,
             "#7fbc41"
            ],
            [
             0.9,
             "#4d9221"
            ],
            [
             1,
             "#276419"
            ]
           ],
           "sequential": [
            [
             0,
             "#0d0887"
            ],
            [
             0.1111111111111111,
             "#46039f"
            ],
            [
             0.2222222222222222,
             "#7201a8"
            ],
            [
             0.3333333333333333,
             "#9c179e"
            ],
            [
             0.4444444444444444,
             "#bd3786"
            ],
            [
             0.5555555555555556,
             "#d8576b"
            ],
            [
             0.6666666666666666,
             "#ed7953"
            ],
            [
             0.7777777777777778,
             "#fb9f3a"
            ],
            [
             0.8888888888888888,
             "#fdca26"
            ],
            [
             1,
             "#f0f921"
            ]
           ],
           "sequentialminus": [
            [
             0,
             "#0d0887"
            ],
            [
             0.1111111111111111,
             "#46039f"
            ],
            [
             0.2222222222222222,
             "#7201a8"
            ],
            [
             0.3333333333333333,
             "#9c179e"
            ],
            [
             0.4444444444444444,
             "#bd3786"
            ],
            [
             0.5555555555555556,
             "#d8576b"
            ],
            [
             0.6666666666666666,
             "#ed7953"
            ],
            [
             0.7777777777777778,
             "#fb9f3a"
            ],
            [
             0.8888888888888888,
             "#fdca26"
            ],
            [
             1,
             "#f0f921"
            ]
           ]
          },
          "colorway": [
           "#636efa",
           "#EF553B",
           "#00cc96",
           "#ab63fa",
           "#FFA15A",
           "#19d3f3",
           "#FF6692",
           "#B6E880",
           "#FF97FF",
           "#FECB52"
          ],
          "font": {
           "color": "#2a3f5f"
          },
          "geo": {
           "bgcolor": "white",
           "lakecolor": "white",
           "landcolor": "#E5ECF6",
           "showlakes": true,
           "showland": true,
           "subunitcolor": "white"
          },
          "hoverlabel": {
           "align": "left"
          },
          "hovermode": "closest",
          "mapbox": {
           "style": "light"
          },
          "paper_bgcolor": "white",
          "plot_bgcolor": "#E5ECF6",
          "polar": {
           "angularaxis": {
            "gridcolor": "white",
            "linecolor": "white",
            "ticks": ""
           },
           "bgcolor": "#E5ECF6",
           "radialaxis": {
            "gridcolor": "white",
            "linecolor": "white",
            "ticks": ""
           }
          },
          "scene": {
           "xaxis": {
            "backgroundcolor": "#E5ECF6",
            "gridcolor": "white",
            "gridwidth": 2,
            "linecolor": "white",
            "showbackground": true,
            "ticks": "",
            "zerolinecolor": "white"
           },
           "yaxis": {
            "backgroundcolor": "#E5ECF6",
            "gridcolor": "white",
            "gridwidth": 2,
            "linecolor": "white",
            "showbackground": true,
            "ticks": "",
            "zerolinecolor": "white"
           },
           "zaxis": {
            "backgroundcolor": "#E5ECF6",
            "gridcolor": "white",
            "gridwidth": 2,
            "linecolor": "white",
            "showbackground": true,
            "ticks": "",
            "zerolinecolor": "white"
           }
          },
          "shapedefaults": {
           "line": {
            "color": "#2a3f5f"
           }
          },
          "ternary": {
           "aaxis": {
            "gridcolor": "white",
            "linecolor": "white",
            "ticks": ""
           },
           "baxis": {
            "gridcolor": "white",
            "linecolor": "white",
            "ticks": ""
           },
           "bgcolor": "#E5ECF6",
           "caxis": {
            "gridcolor": "white",
            "linecolor": "white",
            "ticks": ""
           }
          },
          "title": {
           "x": 0.05
          },
          "xaxis": {
           "automargin": true,
           "gridcolor": "white",
           "linecolor": "white",
           "ticks": "",
           "title": {
            "standoff": 15
           },
           "zerolinecolor": "white",
           "zerolinewidth": 2
          },
          "yaxis": {
           "automargin": true,
           "gridcolor": "white",
           "linecolor": "white",
           "ticks": "",
           "title": {
            "standoff": 15
           },
           "zerolinecolor": "white",
           "zerolinewidth": 2
          }
         }
        },
        "title": {
         "text": "Frequently Co-occurring Words"
        },
        "width": 800,
        "xaxis": {
         "anchor": "y",
         "domain": [
          0,
          1
         ],
         "title": {
          "text": ""
         }
        },
        "yaxis": {
         "anchor": "x",
         "domain": [
          0,
          1
         ],
         "title": {
          "text": ""
         }
        }
       }
      },
      "text/html": [
       "<div>                            <div id=\"69065cfe-b149-409f-b7b0-0dbd3d4f765c\" class=\"plotly-graph-div\" style=\"height:1100px; width:800px;\"></div>            <script type=\"text/javascript\">                require([\"plotly\"], function(Plotly) {                    window.PLOTLYENV=window.PLOTLYENV || {};                                    if (document.getElementById(\"69065cfe-b149-409f-b7b0-0dbd3d4f765c\")) {                    Plotly.newPlot(                        \"69065cfe-b149-409f-b7b0-0dbd3d4f765c\",                        [{\"alignmentgroup\": \"True\", \"hovertemplate\": \"word_count=%{text}<br>word=%{y}<extra></extra>\", \"legendgroup\": \"\", \"marker\": {}, \"name\": \"\", \"offsetgroup\": \"\", \"orientation\": \"h\", \"showlegend\": false, \"text\": [49.0, 50.0, 50.0, 50.0, 50.0, 52.0, 52.0, 53.0, 53.0, 53.0, 54.0, 54.0, 55.0, 56.0, 57.0, 64.0, 75.0, 76.0, 76.0, 78.0, 86.0, 87.0, 89.0, 92.0, 93.0, 95.0, 98.0, 98.0, 100.0, 102.0, 104.0, 104.0, 107.0, 111.0, 114.0, 125.0, 127.0, 134.0, 138.0, 159.0, 160.0, 190.0, 199.0, 202.0, 220.0, 232.0, 265.0, 316.0, 336.0, 425.0], \"textposition\": \"auto\", \"texttemplate\": \"%{text:.2s}\", \"type\": \"bar\", \"x\": [49, 50, 50, 50, 50, 52, 52, 53, 53, 53, 54, 54, 55, 56, 57, 64, 75, 76, 76, 78, 86, 87, 89, 92, 93, 95, 98, 98, 100, 102, 104, 104, 107, 111, 114, 125, 127, 134, 138, 159, 160, 190, 199, 202, 220, 232, 265, 316, 336, 425], \"xaxis\": \"x\", \"y\": [\"magic morning\", \"meet character\", \"single rider\", \"jungle cruise\", \"fast track\", \"tower terror\", \"old daughter\", \"firework display\", \"buy ticket\", \"early morning\", \"pas system\", \"walt studio\", \"attraction close\", \"customer service\", \"lot people\", \"lot fun\", \"staff friendly\", \"buzz lightyear\", \"small child\", \"magic kingdom\", \"star tour\", \"toy story\", \"mickey mouse\", \"many people\", \"splash mountain\", \"highly recommend\", \"stay hotel\", \"use fast\", \"peter pan\", \"walk around\", \"roller coaster\", \"haunt mansion\", \"lion king\", \"young child\", \"big thunder\", \"star war\", \"even though\", \"happy earth\", \"pirate caribbean\", \"thunder mountain\", \"come back\", \"indiana jones\", \"cast member\", \"main street\", \"california adventure\", \"small world\", \"fast pass\", \"hong kong\", \"space mountain\", \"fast pas\"], \"yaxis\": \"y\"}],                        {\"barmode\": \"relative\", \"height\": 1100, \"legend\": {\"tracegroupgap\": 0}, \"margin\": {\"t\": 60}, \"template\": {\"data\": {\"bar\": [{\"error_x\": {\"color\": \"#2a3f5f\"}, \"error_y\": {\"color\": \"#2a3f5f\"}, \"marker\": {\"line\": {\"color\": \"#E5ECF6\", \"width\": 0.5}}, \"type\": \"bar\"}], \"barpolar\": [{\"marker\": {\"line\": {\"color\": \"#E5ECF6\", \"width\": 0.5}}, \"type\": \"barpolar\"}], \"carpet\": [{\"aaxis\": {\"endlinecolor\": \"#2a3f5f\", \"gridcolor\": \"white\", \"linecolor\": \"white\", \"minorgridcolor\": \"white\", \"startlinecolor\": \"#2a3f5f\"}, \"baxis\": {\"endlinecolor\": \"#2a3f5f\", \"gridcolor\": \"white\", \"linecolor\": \"white\", \"minorgridcolor\": \"white\", \"startlinecolor\": \"#2a3f5f\"}, \"type\": \"carpet\"}], \"choropleth\": [{\"colorbar\": {\"outlinewidth\": 0, \"ticks\": \"\"}, \"type\": \"choropleth\"}], \"contour\": [{\"colorbar\": {\"outlinewidth\": 0, \"ticks\": \"\"}, \"colorscale\": [[0.0, \"#0d0887\"], [0.1111111111111111, \"#46039f\"], [0.2222222222222222, \"#7201a8\"], [0.3333333333333333, \"#9c179e\"], [0.4444444444444444, \"#bd3786\"], [0.5555555555555556, \"#d8576b\"], [0.6666666666666666, \"#ed7953\"], [0.7777777777777778, \"#fb9f3a\"], [0.8888888888888888, \"#fdca26\"], [1.0, \"#f0f921\"]], \"type\": \"contour\"}], \"contourcarpet\": [{\"colorbar\": {\"outlinewidth\": 0, \"ticks\": \"\"}, \"type\": \"contourcarpet\"}], \"heatmap\": [{\"colorbar\": {\"outlinewidth\": 0, \"ticks\": \"\"}, \"colorscale\": [[0.0, \"#0d0887\"], [0.1111111111111111, \"#46039f\"], [0.2222222222222222, \"#7201a8\"], [0.3333333333333333, \"#9c179e\"], [0.4444444444444444, \"#bd3786\"], [0.5555555555555556, \"#d8576b\"], [0.6666666666666666, \"#ed7953\"], [0.7777777777777778, \"#fb9f3a\"], [0.8888888888888888, \"#fdca26\"], [1.0, \"#f0f921\"]], \"type\": \"heatmap\"}], \"heatmapgl\": [{\"colorbar\": {\"outlinewidth\": 0, \"ticks\": \"\"}, \"colorscale\": [[0.0, \"#0d0887\"], [0.1111111111111111, \"#46039f\"], [0.2222222222222222, \"#7201a8\"], [0.3333333333333333, \"#9c179e\"], [0.4444444444444444, \"#bd3786\"], [0.5555555555555556, \"#d8576b\"], [0.6666666666666666, \"#ed7953\"], [0.7777777777777778, \"#fb9f3a\"], [0.8888888888888888, \"#fdca26\"], [1.0, \"#f0f921\"]], \"type\": \"heatmapgl\"}], \"histogram\": [{\"marker\": {\"colorbar\": {\"outlinewidth\": 0, \"ticks\": \"\"}}, \"type\": \"histogram\"}], \"histogram2d\": [{\"colorbar\": {\"outlinewidth\": 0, \"ticks\": \"\"}, \"colorscale\": [[0.0, \"#0d0887\"], [0.1111111111111111, \"#46039f\"], [0.2222222222222222, \"#7201a8\"], [0.3333333333333333, \"#9c179e\"], [0.4444444444444444, \"#bd3786\"], [0.5555555555555556, \"#d8576b\"], [0.6666666666666666, \"#ed7953\"], [0.7777777777777778, \"#fb9f3a\"], [0.8888888888888888, \"#fdca26\"], [1.0, \"#f0f921\"]], \"type\": \"histogram2d\"}], \"histogram2dcontour\": [{\"colorbar\": {\"outlinewidth\": 0, \"ticks\": \"\"}, \"colorscale\": [[0.0, \"#0d0887\"], [0.1111111111111111, \"#46039f\"], [0.2222222222222222, \"#7201a8\"], [0.3333333333333333, \"#9c179e\"], [0.4444444444444444, \"#bd3786\"], [0.5555555555555556, \"#d8576b\"], [0.6666666666666666, \"#ed7953\"], [0.7777777777777778, \"#fb9f3a\"], [0.8888888888888888, \"#fdca26\"], [1.0, \"#f0f921\"]], \"type\": \"histogram2dcontour\"}], \"mesh3d\": [{\"colorbar\": {\"outlinewidth\": 0, \"ticks\": \"\"}, \"type\": \"mesh3d\"}], \"parcoords\": [{\"line\": {\"colorbar\": {\"outlinewidth\": 0, \"ticks\": \"\"}}, \"type\": \"parcoords\"}], \"pie\": [{\"automargin\": true, \"type\": \"pie\"}], \"scatter\": [{\"marker\": {\"colorbar\": {\"outlinewidth\": 0, \"ticks\": \"\"}}, \"type\": \"scatter\"}], \"scatter3d\": [{\"line\": {\"colorbar\": {\"outlinewidth\": 0, \"ticks\": \"\"}}, \"marker\": {\"colorbar\": {\"outlinewidth\": 0, \"ticks\": \"\"}}, \"type\": \"scatter3d\"}], \"scattercarpet\": [{\"marker\": {\"colorbar\": {\"outlinewidth\": 0, \"ticks\": \"\"}}, \"type\": \"scattercarpet\"}], \"scattergeo\": [{\"marker\": {\"colorbar\": {\"outlinewidth\": 0, \"ticks\": \"\"}}, \"type\": \"scattergeo\"}], \"scattergl\": [{\"marker\": {\"colorbar\": {\"outlinewidth\": 0, \"ticks\": \"\"}}, \"type\": \"scattergl\"}], \"scattermapbox\": [{\"marker\": {\"colorbar\": {\"outlinewidth\": 0, \"ticks\": \"\"}}, \"type\": \"scattermapbox\"}], \"scatterpolar\": [{\"marker\": {\"colorbar\": {\"outlinewidth\": 0, \"ticks\": \"\"}}, \"type\": \"scatterpolar\"}], \"scatterpolargl\": [{\"marker\": {\"colorbar\": {\"outlinewidth\": 0, \"ticks\": \"\"}}, \"type\": \"scatterpolargl\"}], \"scatterternary\": [{\"marker\": {\"colorbar\": {\"outlinewidth\": 0, \"ticks\": \"\"}}, \"type\": \"scatterternary\"}], \"surface\": [{\"colorbar\": {\"outlinewidth\": 0, \"ticks\": \"\"}, \"colorscale\": [[0.0, \"#0d0887\"], [0.1111111111111111, \"#46039f\"], [0.2222222222222222, \"#7201a8\"], [0.3333333333333333, \"#9c179e\"], [0.4444444444444444, \"#bd3786\"], [0.5555555555555556, \"#d8576b\"], [0.6666666666666666, \"#ed7953\"], [0.7777777777777778, \"#fb9f3a\"], [0.8888888888888888, \"#fdca26\"], [1.0, \"#f0f921\"]], \"type\": \"surface\"}], \"table\": [{\"cells\": {\"fill\": {\"color\": \"#EBF0F8\"}, \"line\": {\"color\": \"white\"}}, \"header\": {\"fill\": {\"color\": \"#C8D4E3\"}, \"line\": {\"color\": \"white\"}}, \"type\": \"table\"}]}, \"layout\": {\"annotationdefaults\": {\"arrowcolor\": \"#2a3f5f\", \"arrowhead\": 0, \"arrowwidth\": 1}, \"autotypenumbers\": \"strict\", \"coloraxis\": {\"colorbar\": {\"outlinewidth\": 0, \"ticks\": \"\"}}, \"colorscale\": {\"diverging\": [[0, \"#8e0152\"], [0.1, \"#c51b7d\"], [0.2, \"#de77ae\"], [0.3, \"#f1b6da\"], [0.4, \"#fde0ef\"], [0.5, \"#f7f7f7\"], [0.6, \"#e6f5d0\"], [0.7, \"#b8e186\"], [0.8, \"#7fbc41\"], [0.9, \"#4d9221\"], [1, \"#276419\"]], \"sequential\": [[0.0, \"#0d0887\"], [0.1111111111111111, \"#46039f\"], [0.2222222222222222, \"#7201a8\"], [0.3333333333333333, \"#9c179e\"], [0.4444444444444444, \"#bd3786\"], [0.5555555555555556, \"#d8576b\"], [0.6666666666666666, \"#ed7953\"], [0.7777777777777778, \"#fb9f3a\"], [0.8888888888888888, \"#fdca26\"], [1.0, \"#f0f921\"]], \"sequentialminus\": [[0.0, \"#0d0887\"], [0.1111111111111111, \"#46039f\"], [0.2222222222222222, \"#7201a8\"], [0.3333333333333333, \"#9c179e\"], [0.4444444444444444, \"#bd3786\"], [0.5555555555555556, \"#d8576b\"], [0.6666666666666666, \"#ed7953\"], [0.7777777777777778, \"#fb9f3a\"], [0.8888888888888888, \"#fdca26\"], [1.0, \"#f0f921\"]]}, \"colorway\": [\"#636efa\", \"#EF553B\", \"#00cc96\", \"#ab63fa\", \"#FFA15A\", \"#19d3f3\", \"#FF6692\", \"#B6E880\", \"#FF97FF\", \"#FECB52\"], \"font\": {\"color\": \"#2a3f5f\"}, \"geo\": {\"bgcolor\": \"white\", \"lakecolor\": \"white\", \"landcolor\": \"#E5ECF6\", \"showlakes\": true, \"showland\": true, \"subunitcolor\": \"white\"}, \"hoverlabel\": {\"align\": \"left\"}, \"hovermode\": \"closest\", \"mapbox\": {\"style\": \"light\"}, \"paper_bgcolor\": \"white\", \"plot_bgcolor\": \"#E5ECF6\", \"polar\": {\"angularaxis\": {\"gridcolor\": \"white\", \"linecolor\": \"white\", \"ticks\": \"\"}, \"bgcolor\": \"#E5ECF6\", \"radialaxis\": {\"gridcolor\": \"white\", \"linecolor\": \"white\", \"ticks\": \"\"}}, \"scene\": {\"xaxis\": {\"backgroundcolor\": \"#E5ECF6\", \"gridcolor\": \"white\", \"gridwidth\": 2, \"linecolor\": \"white\", \"showbackground\": true, \"ticks\": \"\", \"zerolinecolor\": \"white\"}, \"yaxis\": {\"backgroundcolor\": \"#E5ECF6\", \"gridcolor\": \"white\", \"gridwidth\": 2, \"linecolor\": \"white\", \"showbackground\": true, \"ticks\": \"\", \"zerolinecolor\": \"white\"}, \"zaxis\": {\"backgroundcolor\": \"#E5ECF6\", \"gridcolor\": \"white\", \"gridwidth\": 2, \"linecolor\": \"white\", \"showbackground\": true, \"ticks\": \"\", \"zerolinecolor\": \"white\"}}, \"shapedefaults\": {\"line\": {\"color\": \"#2a3f5f\"}}, \"ternary\": {\"aaxis\": {\"gridcolor\": \"white\", \"linecolor\": \"white\", \"ticks\": \"\"}, \"baxis\": {\"gridcolor\": \"white\", \"linecolor\": \"white\", \"ticks\": \"\"}, \"bgcolor\": \"#E5ECF6\", \"caxis\": {\"gridcolor\": \"white\", \"linecolor\": \"white\", \"ticks\": \"\"}}, \"title\": {\"x\": 0.05}, \"xaxis\": {\"automargin\": true, \"gridcolor\": \"white\", \"linecolor\": \"white\", \"ticks\": \"\", \"title\": {\"standoff\": 15}, \"zerolinecolor\": \"white\", \"zerolinewidth\": 2}, \"yaxis\": {\"automargin\": true, \"gridcolor\": \"white\", \"linecolor\": \"white\", \"ticks\": \"\", \"title\": {\"standoff\": 15}, \"zerolinecolor\": \"white\", \"zerolinewidth\": 2}}}, \"title\": {\"text\": \"Frequently Co-occurring Words\"}, \"width\": 800, \"xaxis\": {\"anchor\": \"y\", \"domain\": [0.0, 1.0], \"title\": {\"text\": \"\"}}, \"yaxis\": {\"anchor\": \"x\", \"domain\": [0.0, 1.0], \"title\": {\"text\": \"\"}}},                        {\"responsive\": true}                    ).then(function(){\n",
       "                            \n",
       "var gd = document.getElementById('69065cfe-b149-409f-b7b0-0dbd3d4f765c');\n",
       "var x = new MutationObserver(function (mutations, observer) {{\n",
       "        var display = window.getComputedStyle(gd).display;\n",
       "        if (!display || display === 'none') {{\n",
       "            console.log([gd, 'removed!']);\n",
       "            Plotly.purge(gd);\n",
       "            observer.disconnect();\n",
       "        }}\n",
       "}});\n",
       "\n",
       "// Listen for the removal of the full notebook cells\n",
       "var notebookContainer = gd.closest('#notebook-container');\n",
       "if (notebookContainer) {{\n",
       "    x.observe(notebookContainer, {childList: true});\n",
       "}}\n",
       "\n",
       "// Listen for the clearing of the current output cell\n",
       "var outputEl = gd.closest('.output');\n",
       "if (outputEl) {{\n",
       "    x.observe(outputEl, {childList: true});\n",
       "}}\n",
       "\n",
       "                        })                };                });            </script>        </div>"
      ]
     },
     "metadata": {},
     "output_type": "display_data"
    }
   ],
   "source": [
    "npt.bar_ngram(title='uni-gram', ngram=1, top_n=50, stopwords=stopwords)\n",
    "bgram = npt.bar_ngram(title='Frequently Co-occurring Words', ngram=2, top_n=50, stopwords=stopwords)\n",
    "bgram.write_html(\"Resources/filtered_common_bigrams.html\")\n",
    "bgram"
   ]
  },
  {
   "cell_type": "code",
   "execution_count": null,
   "id": "considerable-australia",
   "metadata": {},
   "outputs": [],
   "source": []
  }
 ],
 "metadata": {
  "kernelspec": {
   "display_name": "Python [conda env:PythonAdv] *",
   "language": "python",
   "name": "conda-env-PythonAdv-py"
  },
  "language_info": {
   "codemirror_mode": {
    "name": "ipython",
    "version": 3
   },
   "file_extension": ".py",
   "mimetype": "text/x-python",
   "name": "python",
   "nbconvert_exporter": "python",
   "pygments_lexer": "ipython3",
   "version": "3.6.12"
  }
 },
 "nbformat": 4,
 "nbformat_minor": 5
}
