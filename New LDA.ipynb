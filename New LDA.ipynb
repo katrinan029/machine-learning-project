{
 "cells": [
  {
   "cell_type": "code",
   "execution_count": null,
   "id": "heard-syntax",
   "metadata": {},
   "outputs": [],
   "source": [
    "# pip install python-Levenshtein"
   ]
  },
  {
   "cell_type": "code",
   "execution_count": 1,
   "id": "painful-animation",
   "metadata": {},
   "outputs": [
    {
     "name": "stderr",
     "output_type": "stream",
     "text": [
      "C:\\Users\\ajrfl\\anaconda3\\envs\\PythonAdv\\lib\\site-packages\\gensim\\similarities\\__init__.py:15: UserWarning:\n",
      "\n",
      "The gensim.similarities.levenshtein submodule is disabled, because the optional Levenshtein package <https://pypi.org/project/python-Levenshtein/> is unavailable. Install Levenhstein (e.g. `pip install python-Levenshtein`) to suppress this warning.\n",
      "\n"
     ]
    }
   ],
   "source": [
    "import pandas as pd\n",
    "import nlplot\n",
    "import plotly.express as px"
   ]
  },
  {
   "cell_type": "code",
   "execution_count": 2,
   "id": "opposed-sussex",
   "metadata": {},
   "outputs": [
    {
     "data": {
      "text/html": [
       "<div>\n",
       "<style scoped>\n",
       "    .dataframe tbody tr th:only-of-type {\n",
       "        vertical-align: middle;\n",
       "    }\n",
       "\n",
       "    .dataframe tbody tr th {\n",
       "        vertical-align: top;\n",
       "    }\n",
       "\n",
       "    .dataframe thead th {\n",
       "        text-align: right;\n",
       "    }\n",
       "</style>\n",
       "<table border=\"1\" class=\"dataframe\">\n",
       "  <thead>\n",
       "    <tr style=\"text-align: right;\">\n",
       "      <th></th>\n",
       "      <th>Review_ID</th>\n",
       "      <th>Rating</th>\n",
       "      <th>Reviewer_Location</th>\n",
       "      <th>Review_Text</th>\n",
       "      <th>Branch</th>\n",
       "      <th>Year</th>\n",
       "      <th>Month</th>\n",
       "      <th>is_good_review</th>\n",
       "      <th>review_clean</th>\n",
       "      <th>neg</th>\n",
       "      <th>...</th>\n",
       "      <th>word_yet</th>\n",
       "      <th>word_york</th>\n",
       "      <th>word_you</th>\n",
       "      <th>word_young</th>\n",
       "      <th>word_yr</th>\n",
       "      <th>word_yrs</th>\n",
       "      <th>word_yum</th>\n",
       "      <th>word_yummy</th>\n",
       "      <th>word_zero</th>\n",
       "      <th>word_zone</th>\n",
       "    </tr>\n",
       "  </thead>\n",
       "  <tbody>\n",
       "    <tr>\n",
       "      <th>0</th>\n",
       "      <td>122944085</td>\n",
       "      <td>5</td>\n",
       "      <td>United States</td>\n",
       "      <td>Spotlessly clean and so organized considering ...</td>\n",
       "      <td>Disneyland_California</td>\n",
       "      <td>2011</td>\n",
       "      <td>10</td>\n",
       "      <td>1</td>\n",
       "      <td>spotlessly clean organize consider thousand vi...</td>\n",
       "      <td>0.000</td>\n",
       "      <td>...</td>\n",
       "      <td>0.0</td>\n",
       "      <td>0.0</td>\n",
       "      <td>0.0</td>\n",
       "      <td>0.000000</td>\n",
       "      <td>0.0</td>\n",
       "      <td>0.0</td>\n",
       "      <td>0.0</td>\n",
       "      <td>0.0</td>\n",
       "      <td>0.0</td>\n",
       "      <td>0.0</td>\n",
       "    </tr>\n",
       "    <tr>\n",
       "      <th>1</th>\n",
       "      <td>290851203</td>\n",
       "      <td>5</td>\n",
       "      <td>United Kingdom</td>\n",
       "      <td>Pricey but worth it, unfortunately the big thu...</td>\n",
       "      <td>Disneyland_Paris</td>\n",
       "      <td>2015</td>\n",
       "      <td>7</td>\n",
       "      <td>1</td>\n",
       "      <td>pricey worth unfortunately big thunder mountai...</td>\n",
       "      <td>0.115</td>\n",
       "      <td>...</td>\n",
       "      <td>0.0</td>\n",
       "      <td>0.0</td>\n",
       "      <td>0.0</td>\n",
       "      <td>0.000000</td>\n",
       "      <td>0.0</td>\n",
       "      <td>0.0</td>\n",
       "      <td>0.0</td>\n",
       "      <td>0.0</td>\n",
       "      <td>0.0</td>\n",
       "      <td>0.0</td>\n",
       "    </tr>\n",
       "    <tr>\n",
       "      <th>2</th>\n",
       "      <td>168087311</td>\n",
       "      <td>4</td>\n",
       "      <td>Canada</td>\n",
       "      <td>Disneyland is a magical place. Everyone, parti...</td>\n",
       "      <td>Disneyland_California</td>\n",
       "      <td>2013</td>\n",
       "      <td>7</td>\n",
       "      <td>1</td>\n",
       "      <td>disneyland magical place everyone particularly...</td>\n",
       "      <td>0.000</td>\n",
       "      <td>...</td>\n",
       "      <td>0.0</td>\n",
       "      <td>0.0</td>\n",
       "      <td>0.0</td>\n",
       "      <td>0.000000</td>\n",
       "      <td>0.0</td>\n",
       "      <td>0.0</td>\n",
       "      <td>0.0</td>\n",
       "      <td>0.0</td>\n",
       "      <td>0.0</td>\n",
       "      <td>0.0</td>\n",
       "    </tr>\n",
       "    <tr>\n",
       "      <th>3</th>\n",
       "      <td>282417360</td>\n",
       "      <td>5</td>\n",
       "      <td>Pakistan</td>\n",
       "      <td>Disney land is a must when visiting Paris. The...</td>\n",
       "      <td>Disneyland_Paris</td>\n",
       "      <td>2015</td>\n",
       "      <td>6</td>\n",
       "      <td>1</td>\n",
       "      <td>disney land must visit paris frozen show best ...</td>\n",
       "      <td>0.028</td>\n",
       "      <td>...</td>\n",
       "      <td>0.0</td>\n",
       "      <td>0.0</td>\n",
       "      <td>0.0</td>\n",
       "      <td>0.000000</td>\n",
       "      <td>0.0</td>\n",
       "      <td>0.0</td>\n",
       "      <td>0.0</td>\n",
       "      <td>0.0</td>\n",
       "      <td>0.0</td>\n",
       "      <td>0.0</td>\n",
       "    </tr>\n",
       "    <tr>\n",
       "      <th>4</th>\n",
       "      <td>160953212</td>\n",
       "      <td>3</td>\n",
       "      <td>India</td>\n",
       "      <td>The HK Disneyland is definitely small, but it'...</td>\n",
       "      <td>Disneyland_HongKong</td>\n",
       "      <td>2012</td>\n",
       "      <td>9</td>\n",
       "      <td>0</td>\n",
       "      <td>hk disneyland definitely small definitely fun ...</td>\n",
       "      <td>0.000</td>\n",
       "      <td>...</td>\n",
       "      <td>0.0</td>\n",
       "      <td>0.0</td>\n",
       "      <td>0.0</td>\n",
       "      <td>0.000000</td>\n",
       "      <td>0.0</td>\n",
       "      <td>0.0</td>\n",
       "      <td>0.0</td>\n",
       "      <td>0.0</td>\n",
       "      <td>0.0</td>\n",
       "      <td>0.0</td>\n",
       "    </tr>\n",
       "    <tr>\n",
       "      <th>...</th>\n",
       "      <td>...</td>\n",
       "      <td>...</td>\n",
       "      <td>...</td>\n",
       "      <td>...</td>\n",
       "      <td>...</td>\n",
       "      <td>...</td>\n",
       "      <td>...</td>\n",
       "      <td>...</td>\n",
       "      <td>...</td>\n",
       "      <td>...</td>\n",
       "      <td>...</td>\n",
       "      <td>...</td>\n",
       "      <td>...</td>\n",
       "      <td>...</td>\n",
       "      <td>...</td>\n",
       "      <td>...</td>\n",
       "      <td>...</td>\n",
       "      <td>...</td>\n",
       "      <td>...</td>\n",
       "      <td>...</td>\n",
       "      <td>...</td>\n",
       "    </tr>\n",
       "    <tr>\n",
       "      <th>3999</th>\n",
       "      <td>290217727</td>\n",
       "      <td>5</td>\n",
       "      <td>Australia</td>\n",
       "      <td>There's a reason why they call Disneyland  The...</td>\n",
       "      <td>Disneyland_California</td>\n",
       "      <td>2015</td>\n",
       "      <td>7</td>\n",
       "      <td>1</td>\n",
       "      <td>there's reason call disneyland happy place ear...</td>\n",
       "      <td>0.042</td>\n",
       "      <td>...</td>\n",
       "      <td>0.0</td>\n",
       "      <td>0.0</td>\n",
       "      <td>0.0</td>\n",
       "      <td>0.000000</td>\n",
       "      <td>0.0</td>\n",
       "      <td>0.0</td>\n",
       "      <td>0.0</td>\n",
       "      <td>0.0</td>\n",
       "      <td>0.0</td>\n",
       "      <td>0.0</td>\n",
       "    </tr>\n",
       "    <tr>\n",
       "      <th>4000</th>\n",
       "      <td>174264188</td>\n",
       "      <td>1</td>\n",
       "      <td>United Kingdom</td>\n",
       "      <td>I visited Disneyland Paris with my family (tee...</td>\n",
       "      <td>Disneyland_Paris</td>\n",
       "      <td>2013</td>\n",
       "      <td>8</td>\n",
       "      <td>0</td>\n",
       "      <td>visit disneyland paris family teenage daughter...</td>\n",
       "      <td>0.081</td>\n",
       "      <td>...</td>\n",
       "      <td>0.0</td>\n",
       "      <td>0.0</td>\n",
       "      <td>0.0</td>\n",
       "      <td>0.000000</td>\n",
       "      <td>0.0</td>\n",
       "      <td>0.0</td>\n",
       "      <td>0.0</td>\n",
       "      <td>0.0</td>\n",
       "      <td>0.0</td>\n",
       "      <td>0.0</td>\n",
       "    </tr>\n",
       "    <tr>\n",
       "      <th>4001</th>\n",
       "      <td>638583788</td>\n",
       "      <td>5</td>\n",
       "      <td>United States</td>\n",
       "      <td>What a great day we had we did so much before ...</td>\n",
       "      <td>Disneyland_California</td>\n",
       "      <td>2018</td>\n",
       "      <td>12</td>\n",
       "      <td>1</td>\n",
       "      <td>great day much great guide grandson amaze well...</td>\n",
       "      <td>0.000</td>\n",
       "      <td>...</td>\n",
       "      <td>0.0</td>\n",
       "      <td>0.0</td>\n",
       "      <td>0.0</td>\n",
       "      <td>0.000000</td>\n",
       "      <td>0.0</td>\n",
       "      <td>0.0</td>\n",
       "      <td>0.0</td>\n",
       "      <td>0.0</td>\n",
       "      <td>0.0</td>\n",
       "      <td>0.0</td>\n",
       "    </tr>\n",
       "    <tr>\n",
       "      <th>4002</th>\n",
       "      <td>226159775</td>\n",
       "      <td>5</td>\n",
       "      <td>Philippines</td>\n",
       "      <td>It has been a childhood dream of mine to go to...</td>\n",
       "      <td>Disneyland_California</td>\n",
       "      <td>2013</td>\n",
       "      <td>10</td>\n",
       "      <td>1</td>\n",
       "      <td>childhood dream mine go disneyland whether you...</td>\n",
       "      <td>0.000</td>\n",
       "      <td>...</td>\n",
       "      <td>0.0</td>\n",
       "      <td>0.0</td>\n",
       "      <td>0.0</td>\n",
       "      <td>0.432261</td>\n",
       "      <td>0.0</td>\n",
       "      <td>0.0</td>\n",
       "      <td>0.0</td>\n",
       "      <td>0.0</td>\n",
       "      <td>0.0</td>\n",
       "      <td>0.0</td>\n",
       "    </tr>\n",
       "    <tr>\n",
       "      <th>4003</th>\n",
       "      <td>143521522</td>\n",
       "      <td>4</td>\n",
       "      <td>United Kingdom</td>\n",
       "      <td>Well my wife and I visted in October 2012 for ...</td>\n",
       "      <td>Disneyland_Paris</td>\n",
       "      <td>2012</td>\n",
       "      <td>10</td>\n",
       "      <td>1</td>\n",
       "      <td>well wife visted october parcs real complaint ...</td>\n",
       "      <td>0.030</td>\n",
       "      <td>...</td>\n",
       "      <td>0.0</td>\n",
       "      <td>0.0</td>\n",
       "      <td>0.0</td>\n",
       "      <td>0.000000</td>\n",
       "      <td>0.0</td>\n",
       "      <td>0.0</td>\n",
       "      <td>0.0</td>\n",
       "      <td>0.0</td>\n",
       "      <td>0.0</td>\n",
       "      <td>0.0</td>\n",
       "    </tr>\n",
       "  </tbody>\n",
       "</table>\n",
       "<p>4004 rows × 2150 columns</p>\n",
       "</div>"
      ],
      "text/plain": [
       "      Review_ID  Rating Reviewer_Location  \\\n",
       "0     122944085       5     United States   \n",
       "1     290851203       5    United Kingdom   \n",
       "2     168087311       4            Canada   \n",
       "3     282417360       5          Pakistan   \n",
       "4     160953212       3             India   \n",
       "...         ...     ...               ...   \n",
       "3999  290217727       5         Australia   \n",
       "4000  174264188       1    United Kingdom   \n",
       "4001  638583788       5     United States   \n",
       "4002  226159775       5       Philippines   \n",
       "4003  143521522       4    United Kingdom   \n",
       "\n",
       "                                            Review_Text  \\\n",
       "0     Spotlessly clean and so organized considering ...   \n",
       "1     Pricey but worth it, unfortunately the big thu...   \n",
       "2     Disneyland is a magical place. Everyone, parti...   \n",
       "3     Disney land is a must when visiting Paris. The...   \n",
       "4     The HK Disneyland is definitely small, but it'...   \n",
       "...                                                 ...   \n",
       "3999  There's a reason why they call Disneyland  The...   \n",
       "4000  I visited Disneyland Paris with my family (tee...   \n",
       "4001  What a great day we had we did so much before ...   \n",
       "4002  It has been a childhood dream of mine to go to...   \n",
       "4003  Well my wife and I visted in October 2012 for ...   \n",
       "\n",
       "                     Branch  Year  Month  is_good_review  \\\n",
       "0     Disneyland_California  2011     10               1   \n",
       "1          Disneyland_Paris  2015      7               1   \n",
       "2     Disneyland_California  2013      7               1   \n",
       "3          Disneyland_Paris  2015      6               1   \n",
       "4       Disneyland_HongKong  2012      9               0   \n",
       "...                     ...   ...    ...             ...   \n",
       "3999  Disneyland_California  2015      7               1   \n",
       "4000       Disneyland_Paris  2013      8               0   \n",
       "4001  Disneyland_California  2018     12               1   \n",
       "4002  Disneyland_California  2013     10               1   \n",
       "4003       Disneyland_Paris  2012     10               1   \n",
       "\n",
       "                                           review_clean    neg  ...  word_yet  \\\n",
       "0     spotlessly clean organize consider thousand vi...  0.000  ...       0.0   \n",
       "1     pricey worth unfortunately big thunder mountai...  0.115  ...       0.0   \n",
       "2     disneyland magical place everyone particularly...  0.000  ...       0.0   \n",
       "3     disney land must visit paris frozen show best ...  0.028  ...       0.0   \n",
       "4     hk disneyland definitely small definitely fun ...  0.000  ...       0.0   \n",
       "...                                                 ...    ...  ...       ...   \n",
       "3999  there's reason call disneyland happy place ear...  0.042  ...       0.0   \n",
       "4000  visit disneyland paris family teenage daughter...  0.081  ...       0.0   \n",
       "4001  great day much great guide grandson amaze well...  0.000  ...       0.0   \n",
       "4002  childhood dream mine go disneyland whether you...  0.000  ...       0.0   \n",
       "4003  well wife visted october parcs real complaint ...  0.030  ...       0.0   \n",
       "\n",
       "      word_york  word_you  word_young  word_yr  word_yrs  word_yum  \\\n",
       "0           0.0       0.0    0.000000      0.0       0.0       0.0   \n",
       "1           0.0       0.0    0.000000      0.0       0.0       0.0   \n",
       "2           0.0       0.0    0.000000      0.0       0.0       0.0   \n",
       "3           0.0       0.0    0.000000      0.0       0.0       0.0   \n",
       "4           0.0       0.0    0.000000      0.0       0.0       0.0   \n",
       "...         ...       ...         ...      ...       ...       ...   \n",
       "3999        0.0       0.0    0.000000      0.0       0.0       0.0   \n",
       "4000        0.0       0.0    0.000000      0.0       0.0       0.0   \n",
       "4001        0.0       0.0    0.000000      0.0       0.0       0.0   \n",
       "4002        0.0       0.0    0.432261      0.0       0.0       0.0   \n",
       "4003        0.0       0.0    0.000000      0.0       0.0       0.0   \n",
       "\n",
       "      word_yummy  word_zero  word_zone  \n",
       "0            0.0        0.0        0.0  \n",
       "1            0.0        0.0        0.0  \n",
       "2            0.0        0.0        0.0  \n",
       "3            0.0        0.0        0.0  \n",
       "4            0.0        0.0        0.0  \n",
       "...          ...        ...        ...  \n",
       "3999         0.0        0.0        0.0  \n",
       "4000         0.0        0.0        0.0  \n",
       "4001         0.0        0.0        0.0  \n",
       "4002         0.0        0.0        0.0  \n",
       "4003         0.0        0.0        0.0  \n",
       "\n",
       "[4004 rows x 2150 columns]"
      ]
     },
     "execution_count": 2,
     "metadata": {},
     "output_type": "execute_result"
    }
   ],
   "source": [
    "# read source file\n",
    "reviews_df = pd.read_csv(\"Resources/all_reviews_data.csv\", encoding='ISO-8859-1')\n",
    "\n",
    "\n",
    "# count of movie plot summaries\n",
    "# len(corpus)\n",
    "reviews_df"
   ]
  },
  {
   "cell_type": "code",
   "execution_count": 3,
   "id": "canadian-teach",
   "metadata": {},
   "outputs": [],
   "source": [
    "NPT = nlplot.NLPlot(reviews_df, target_col='Review_Text')\n",
    "npt = nlplot.NLPlot(reviews_df, target_col='review_clean')"
   ]
  },
  {
   "cell_type": "code",
   "execution_count": 4,
   "id": "reduced-adoption",
   "metadata": {},
   "outputs": [],
   "source": [
    "stopwords = npt.get_stopword(top_n=30, min_freq=0)"
   ]
  },
  {
   "cell_type": "code",
   "execution_count": 9,
   "id": "confused-jefferson",
   "metadata": {},
   "outputs": [
    {
     "name": "stderr",
     "output_type": "stream",
     "text": [
      "100%|███████████████████████████████████████████████████████████████████████████| 4004/4004 [00:00<00:00, 21653.16it/s]\n",
      "100%|████████████████████████████████████████████████████████████████████████████| 4004/4004 [00:00<00:00, 7552.72it/s]\n"
     ]
    },
    {
     "data": {
      "application/vnd.plotly.v1+json": {
       "config": {
        "plotlyServerURL": "https://plot.ly"
       },
       "data": [
        {
         "alignmentgroup": "True",
         "hovertemplate": "word_count=%{text}<br>word=%{y}<extra></extra>",
         "legendgroup": "",
         "marker": {},
         "name": "",
         "offsetgroup": "",
         "orientation": "h",
         "showlegend": false,
         "text": [
          365,
          372,
          374,
          375,
          383,
          385,
          386,
          389,
          399,
          410,
          412,
          415,
          415,
          418,
          419,
          426,
          432,
          432,
          446,
          449,
          453,
          462,
          468,
          475,
          491,
          502,
          516,
          520,
          524,
          533,
          619,
          660,
          704,
          725,
          749,
          756,
          757,
          807,
          831,
          867,
          869,
          1029,
          1037,
          1150,
          1274,
          1384,
          1553,
          1657,
          1961,
          2559
         ],
         "textposition": "auto",
         "texttemplate": "%{text:.2s}",
         "type": "bar",
         "x": [
          365,
          372,
          374,
          375,
          383,
          385,
          386,
          389,
          399,
          410,
          412,
          415,
          415,
          418,
          419,
          426,
          432,
          432,
          446,
          449,
          453,
          462,
          468,
          475,
          491,
          502,
          516,
          520,
          524,
          533,
          619,
          660,
          704,
          725,
          749,
          756,
          757,
          807,
          831,
          867,
          869,
          1029,
          1037,
          1150,
          1274,
          1384,
          1553,
          1657,
          1961,
          2559
         ],
         "xaxis": "x",
         "y": [
          "the best",
          "to a",
          "have a",
          "this was",
          "to do",
          "was the",
          "fast pass",
          "been to",
          "from the",
          "the was",
          "have been",
          "on a",
          "a few",
          "i have",
          "there is",
          "in a",
          "have to",
          "is the",
          "you have",
          "and it",
          "you are",
          "and we",
          "there are",
          "we went",
          "a lot",
          "the is",
          "with the",
          "i was",
          "this is",
          "and i",
          "had a",
          "for a",
          "was a",
          "all the",
          "you can",
          "is a",
          "we had",
          "the rides",
          "to be",
          "we were",
          "on the",
          "it is",
          "at the",
          "if you",
          "for the",
          "and the",
          "to the",
          "it was",
          "in the",
          "of the"
         ],
         "yaxis": "y"
        }
       ],
       "layout": {
        "barmode": "relative",
        "height": 1100,
        "legend": {
         "tracegroupgap": 0
        },
        "margin": {
         "t": 60
        },
        "template": {
         "data": {
          "bar": [
           {
            "error_x": {
             "color": "#2a3f5f"
            },
            "error_y": {
             "color": "#2a3f5f"
            },
            "marker": {
             "line": {
              "color": "#E5ECF6",
              "width": 0.5
             }
            },
            "type": "bar"
           }
          ],
          "barpolar": [
           {
            "marker": {
             "line": {
              "color": "#E5ECF6",
              "width": 0.5
             }
            },
            "type": "barpolar"
           }
          ],
          "carpet": [
           {
            "aaxis": {
             "endlinecolor": "#2a3f5f",
             "gridcolor": "white",
             "linecolor": "white",
             "minorgridcolor": "white",
             "startlinecolor": "#2a3f5f"
            },
            "baxis": {
             "endlinecolor": "#2a3f5f",
             "gridcolor": "white",
             "linecolor": "white",
             "minorgridcolor": "white",
             "startlinecolor": "#2a3f5f"
            },
            "type": "carpet"
           }
          ],
          "choropleth": [
           {
            "colorbar": {
             "outlinewidth": 0,
             "ticks": ""
            },
            "type": "choropleth"
           }
          ],
          "contour": [
           {
            "colorbar": {
             "outlinewidth": 0,
             "ticks": ""
            },
            "colorscale": [
             [
              0,
              "#0d0887"
             ],
             [
              0.1111111111111111,
              "#46039f"
             ],
             [
              0.2222222222222222,
              "#7201a8"
             ],
             [
              0.3333333333333333,
              "#9c179e"
             ],
             [
              0.4444444444444444,
              "#bd3786"
             ],
             [
              0.5555555555555556,
              "#d8576b"
             ],
             [
              0.6666666666666666,
              "#ed7953"
             ],
             [
              0.7777777777777778,
              "#fb9f3a"
             ],
             [
              0.8888888888888888,
              "#fdca26"
             ],
             [
              1,
              "#f0f921"
             ]
            ],
            "type": "contour"
           }
          ],
          "contourcarpet": [
           {
            "colorbar": {
             "outlinewidth": 0,
             "ticks": ""
            },
            "type": "contourcarpet"
           }
          ],
          "heatmap": [
           {
            "colorbar": {
             "outlinewidth": 0,
             "ticks": ""
            },
            "colorscale": [
             [
              0,
              "#0d0887"
             ],
             [
              0.1111111111111111,
              "#46039f"
             ],
             [
              0.2222222222222222,
              "#7201a8"
             ],
             [
              0.3333333333333333,
              "#9c179e"
             ],
             [
              0.4444444444444444,
              "#bd3786"
             ],
             [
              0.5555555555555556,
              "#d8576b"
             ],
             [
              0.6666666666666666,
              "#ed7953"
             ],
             [
              0.7777777777777778,
              "#fb9f3a"
             ],
             [
              0.8888888888888888,
              "#fdca26"
             ],
             [
              1,
              "#f0f921"
             ]
            ],
            "type": "heatmap"
           }
          ],
          "heatmapgl": [
           {
            "colorbar": {
             "outlinewidth": 0,
             "ticks": ""
            },
            "colorscale": [
             [
              0,
              "#0d0887"
             ],
             [
              0.1111111111111111,
              "#46039f"
             ],
             [
              0.2222222222222222,
              "#7201a8"
             ],
             [
              0.3333333333333333,
              "#9c179e"
             ],
             [
              0.4444444444444444,
              "#bd3786"
             ],
             [
              0.5555555555555556,
              "#d8576b"
             ],
             [
              0.6666666666666666,
              "#ed7953"
             ],
             [
              0.7777777777777778,
              "#fb9f3a"
             ],
             [
              0.8888888888888888,
              "#fdca26"
             ],
             [
              1,
              "#f0f921"
             ]
            ],
            "type": "heatmapgl"
           }
          ],
          "histogram": [
           {
            "marker": {
             "colorbar": {
              "outlinewidth": 0,
              "ticks": ""
             }
            },
            "type": "histogram"
           }
          ],
          "histogram2d": [
           {
            "colorbar": {
             "outlinewidth": 0,
             "ticks": ""
            },
            "colorscale": [
             [
              0,
              "#0d0887"
             ],
             [
              0.1111111111111111,
              "#46039f"
             ],
             [
              0.2222222222222222,
              "#7201a8"
             ],
             [
              0.3333333333333333,
              "#9c179e"
             ],
             [
              0.4444444444444444,
              "#bd3786"
             ],
             [
              0.5555555555555556,
              "#d8576b"
             ],
             [
              0.6666666666666666,
              "#ed7953"
             ],
             [
              0.7777777777777778,
              "#fb9f3a"
             ],
             [
              0.8888888888888888,
              "#fdca26"
             ],
             [
              1,
              "#f0f921"
             ]
            ],
            "type": "histogram2d"
           }
          ],
          "histogram2dcontour": [
           {
            "colorbar": {
             "outlinewidth": 0,
             "ticks": ""
            },
            "colorscale": [
             [
              0,
              "#0d0887"
             ],
             [
              0.1111111111111111,
              "#46039f"
             ],
             [
              0.2222222222222222,
              "#7201a8"
             ],
             [
              0.3333333333333333,
              "#9c179e"
             ],
             [
              0.4444444444444444,
              "#bd3786"
             ],
             [
              0.5555555555555556,
              "#d8576b"
             ],
             [
              0.6666666666666666,
              "#ed7953"
             ],
             [
              0.7777777777777778,
              "#fb9f3a"
             ],
             [
              0.8888888888888888,
              "#fdca26"
             ],
             [
              1,
              "#f0f921"
             ]
            ],
            "type": "histogram2dcontour"
           }
          ],
          "mesh3d": [
           {
            "colorbar": {
             "outlinewidth": 0,
             "ticks": ""
            },
            "type": "mesh3d"
           }
          ],
          "parcoords": [
           {
            "line": {
             "colorbar": {
              "outlinewidth": 0,
              "ticks": ""
             }
            },
            "type": "parcoords"
           }
          ],
          "pie": [
           {
            "automargin": true,
            "type": "pie"
           }
          ],
          "scatter": [
           {
            "marker": {
             "colorbar": {
              "outlinewidth": 0,
              "ticks": ""
             }
            },
            "type": "scatter"
           }
          ],
          "scatter3d": [
           {
            "line": {
             "colorbar": {
              "outlinewidth": 0,
              "ticks": ""
             }
            },
            "marker": {
             "colorbar": {
              "outlinewidth": 0,
              "ticks": ""
             }
            },
            "type": "scatter3d"
           }
          ],
          "scattercarpet": [
           {
            "marker": {
             "colorbar": {
              "outlinewidth": 0,
              "ticks": ""
             }
            },
            "type": "scattercarpet"
           }
          ],
          "scattergeo": [
           {
            "marker": {
             "colorbar": {
              "outlinewidth": 0,
              "ticks": ""
             }
            },
            "type": "scattergeo"
           }
          ],
          "scattergl": [
           {
            "marker": {
             "colorbar": {
              "outlinewidth": 0,
              "ticks": ""
             }
            },
            "type": "scattergl"
           }
          ],
          "scattermapbox": [
           {
            "marker": {
             "colorbar": {
              "outlinewidth": 0,
              "ticks": ""
             }
            },
            "type": "scattermapbox"
           }
          ],
          "scatterpolar": [
           {
            "marker": {
             "colorbar": {
              "outlinewidth": 0,
              "ticks": ""
             }
            },
            "type": "scatterpolar"
           }
          ],
          "scatterpolargl": [
           {
            "marker": {
             "colorbar": {
              "outlinewidth": 0,
              "ticks": ""
             }
            },
            "type": "scatterpolargl"
           }
          ],
          "scatterternary": [
           {
            "marker": {
             "colorbar": {
              "outlinewidth": 0,
              "ticks": ""
             }
            },
            "type": "scatterternary"
           }
          ],
          "surface": [
           {
            "colorbar": {
             "outlinewidth": 0,
             "ticks": ""
            },
            "colorscale": [
             [
              0,
              "#0d0887"
             ],
             [
              0.1111111111111111,
              "#46039f"
             ],
             [
              0.2222222222222222,
              "#7201a8"
             ],
             [
              0.3333333333333333,
              "#9c179e"
             ],
             [
              0.4444444444444444,
              "#bd3786"
             ],
             [
              0.5555555555555556,
              "#d8576b"
             ],
             [
              0.6666666666666666,
              "#ed7953"
             ],
             [
              0.7777777777777778,
              "#fb9f3a"
             ],
             [
              0.8888888888888888,
              "#fdca26"
             ],
             [
              1,
              "#f0f921"
             ]
            ],
            "type": "surface"
           }
          ],
          "table": [
           {
            "cells": {
             "fill": {
              "color": "#EBF0F8"
             },
             "line": {
              "color": "white"
             }
            },
            "header": {
             "fill": {
              "color": "#C8D4E3"
             },
             "line": {
              "color": "white"
             }
            },
            "type": "table"
           }
          ]
         },
         "layout": {
          "annotationdefaults": {
           "arrowcolor": "#2a3f5f",
           "arrowhead": 0,
           "arrowwidth": 1
          },
          "autotypenumbers": "strict",
          "coloraxis": {
           "colorbar": {
            "outlinewidth": 0,
            "ticks": ""
           }
          },
          "colorscale": {
           "diverging": [
            [
             0,
             "#8e0152"
            ],
            [
             0.1,
             "#c51b7d"
            ],
            [
             0.2,
             "#de77ae"
            ],
            [
             0.3,
             "#f1b6da"
            ],
            [
             0.4,
             "#fde0ef"
            ],
            [
             0.5,
             "#f7f7f7"
            ],
            [
             0.6,
             "#e6f5d0"
            ],
            [
             0.7,
             "#b8e186"
            ],
            [
             0.8,
             "#7fbc41"
            ],
            [
             0.9,
             "#4d9221"
            ],
            [
             1,
             "#276419"
            ]
           ],
           "sequential": [
            [
             0,
             "#0d0887"
            ],
            [
             0.1111111111111111,
             "#46039f"
            ],
            [
             0.2222222222222222,
             "#7201a8"
            ],
            [
             0.3333333333333333,
             "#9c179e"
            ],
            [
             0.4444444444444444,
             "#bd3786"
            ],
            [
             0.5555555555555556,
             "#d8576b"
            ],
            [
             0.6666666666666666,
             "#ed7953"
            ],
            [
             0.7777777777777778,
             "#fb9f3a"
            ],
            [
             0.8888888888888888,
             "#fdca26"
            ],
            [
             1,
             "#f0f921"
            ]
           ],
           "sequentialminus": [
            [
             0,
             "#0d0887"
            ],
            [
             0.1111111111111111,
             "#46039f"
            ],
            [
             0.2222222222222222,
             "#7201a8"
            ],
            [
             0.3333333333333333,
             "#9c179e"
            ],
            [
             0.4444444444444444,
             "#bd3786"
            ],
            [
             0.5555555555555556,
             "#d8576b"
            ],
            [
             0.6666666666666666,
             "#ed7953"
            ],
            [
             0.7777777777777778,
             "#fb9f3a"
            ],
            [
             0.8888888888888888,
             "#fdca26"
            ],
            [
             1,
             "#f0f921"
            ]
           ]
          },
          "colorway": [
           "#636efa",
           "#EF553B",
           "#00cc96",
           "#ab63fa",
           "#FFA15A",
           "#19d3f3",
           "#FF6692",
           "#B6E880",
           "#FF97FF",
           "#FECB52"
          ],
          "font": {
           "color": "#2a3f5f"
          },
          "geo": {
           "bgcolor": "white",
           "lakecolor": "white",
           "landcolor": "#E5ECF6",
           "showlakes": true,
           "showland": true,
           "subunitcolor": "white"
          },
          "hoverlabel": {
           "align": "left"
          },
          "hovermode": "closest",
          "mapbox": {
           "style": "light"
          },
          "paper_bgcolor": "white",
          "plot_bgcolor": "#E5ECF6",
          "polar": {
           "angularaxis": {
            "gridcolor": "white",
            "linecolor": "white",
            "ticks": ""
           },
           "bgcolor": "#E5ECF6",
           "radialaxis": {
            "gridcolor": "white",
            "linecolor": "white",
            "ticks": ""
           }
          },
          "scene": {
           "xaxis": {
            "backgroundcolor": "#E5ECF6",
            "gridcolor": "white",
            "gridwidth": 2,
            "linecolor": "white",
            "showbackground": true,
            "ticks": "",
            "zerolinecolor": "white"
           },
           "yaxis": {
            "backgroundcolor": "#E5ECF6",
            "gridcolor": "white",
            "gridwidth": 2,
            "linecolor": "white",
            "showbackground": true,
            "ticks": "",
            "zerolinecolor": "white"
           },
           "zaxis": {
            "backgroundcolor": "#E5ECF6",
            "gridcolor": "white",
            "gridwidth": 2,
            "linecolor": "white",
            "showbackground": true,
            "ticks": "",
            "zerolinecolor": "white"
           }
          },
          "shapedefaults": {
           "line": {
            "color": "#2a3f5f"
           }
          },
          "ternary": {
           "aaxis": {
            "gridcolor": "white",
            "linecolor": "white",
            "ticks": ""
           },
           "baxis": {
            "gridcolor": "white",
            "linecolor": "white",
            "ticks": ""
           },
           "bgcolor": "#E5ECF6",
           "caxis": {
            "gridcolor": "white",
            "linecolor": "white",
            "ticks": ""
           }
          },
          "title": {
           "x": 0.05
          },
          "xaxis": {
           "automargin": true,
           "gridcolor": "white",
           "linecolor": "white",
           "ticks": "",
           "title": {
            "standoff": 15
           },
           "zerolinecolor": "white",
           "zerolinewidth": 2
          },
          "yaxis": {
           "automargin": true,
           "gridcolor": "white",
           "linecolor": "white",
           "ticks": "",
           "title": {
            "standoff": 15
           },
           "zerolinecolor": "white",
           "zerolinewidth": 2
          }
         }
        },
        "title": {
         "text": "Frequently Co-occurring Words"
        },
        "width": 800,
        "xaxis": {
         "anchor": "y",
         "domain": [
          0,
          1
         ],
         "title": {
          "text": ""
         }
        },
        "yaxis": {
         "anchor": "x",
         "domain": [
          0,
          1
         ],
         "title": {
          "text": ""
         }
        }
       }
      },
      "text/html": [
       "<div>                            <div id=\"4358ae63-b00c-4875-bf26-81cfefadcada\" class=\"plotly-graph-div\" style=\"height:1100px; width:800px;\"></div>            <script type=\"text/javascript\">                require([\"plotly\"], function(Plotly) {                    window.PLOTLYENV=window.PLOTLYENV || {};                                    if (document.getElementById(\"4358ae63-b00c-4875-bf26-81cfefadcada\")) {                    Plotly.newPlot(                        \"4358ae63-b00c-4875-bf26-81cfefadcada\",                        [{\"alignmentgroup\": \"True\", \"hovertemplate\": \"word_count=%{text}<br>word=%{y}<extra></extra>\", \"legendgroup\": \"\", \"marker\": {}, \"name\": \"\", \"offsetgroup\": \"\", \"orientation\": \"h\", \"showlegend\": false, \"text\": [365.0, 372.0, 374.0, 375.0, 383.0, 385.0, 386.0, 389.0, 399.0, 410.0, 412.0, 415.0, 415.0, 418.0, 419.0, 426.0, 432.0, 432.0, 446.0, 449.0, 453.0, 462.0, 468.0, 475.0, 491.0, 502.0, 516.0, 520.0, 524.0, 533.0, 619.0, 660.0, 704.0, 725.0, 749.0, 756.0, 757.0, 807.0, 831.0, 867.0, 869.0, 1029.0, 1037.0, 1150.0, 1274.0, 1384.0, 1553.0, 1657.0, 1961.0, 2559.0], \"textposition\": \"auto\", \"texttemplate\": \"%{text:.2s}\", \"type\": \"bar\", \"x\": [365, 372, 374, 375, 383, 385, 386, 389, 399, 410, 412, 415, 415, 418, 419, 426, 432, 432, 446, 449, 453, 462, 468, 475, 491, 502, 516, 520, 524, 533, 619, 660, 704, 725, 749, 756, 757, 807, 831, 867, 869, 1029, 1037, 1150, 1274, 1384, 1553, 1657, 1961, 2559], \"xaxis\": \"x\", \"y\": [\"the best\", \"to a\", \"have a\", \"this was\", \"to do\", \"was the\", \"fast pass\", \"been to\", \"from the\", \"the was\", \"have been\", \"on a\", \"a few\", \"i have\", \"there is\", \"in a\", \"have to\", \"is the\", \"you have\", \"and it\", \"you are\", \"and we\", \"there are\", \"we went\", \"a lot\", \"the is\", \"with the\", \"i was\", \"this is\", \"and i\", \"had a\", \"for a\", \"was a\", \"all the\", \"you can\", \"is a\", \"we had\", \"the rides\", \"to be\", \"we were\", \"on the\", \"it is\", \"at the\", \"if you\", \"for the\", \"and the\", \"to the\", \"it was\", \"in the\", \"of the\"], \"yaxis\": \"y\"}],                        {\"barmode\": \"relative\", \"height\": 1100, \"legend\": {\"tracegroupgap\": 0}, \"margin\": {\"t\": 60}, \"template\": {\"data\": {\"bar\": [{\"error_x\": {\"color\": \"#2a3f5f\"}, \"error_y\": {\"color\": \"#2a3f5f\"}, \"marker\": {\"line\": {\"color\": \"#E5ECF6\", \"width\": 0.5}}, \"type\": \"bar\"}], \"barpolar\": [{\"marker\": {\"line\": {\"color\": \"#E5ECF6\", \"width\": 0.5}}, \"type\": \"barpolar\"}], \"carpet\": [{\"aaxis\": {\"endlinecolor\": \"#2a3f5f\", \"gridcolor\": \"white\", \"linecolor\": \"white\", \"minorgridcolor\": \"white\", \"startlinecolor\": \"#2a3f5f\"}, \"baxis\": {\"endlinecolor\": \"#2a3f5f\", \"gridcolor\": \"white\", \"linecolor\": \"white\", \"minorgridcolor\": \"white\", \"startlinecolor\": \"#2a3f5f\"}, \"type\": \"carpet\"}], \"choropleth\": [{\"colorbar\": {\"outlinewidth\": 0, \"ticks\": \"\"}, \"type\": \"choropleth\"}], \"contour\": [{\"colorbar\": {\"outlinewidth\": 0, \"ticks\": \"\"}, \"colorscale\": [[0.0, \"#0d0887\"], [0.1111111111111111, \"#46039f\"], [0.2222222222222222, \"#7201a8\"], [0.3333333333333333, \"#9c179e\"], [0.4444444444444444, \"#bd3786\"], [0.5555555555555556, \"#d8576b\"], [0.6666666666666666, \"#ed7953\"], [0.7777777777777778, \"#fb9f3a\"], [0.8888888888888888, \"#fdca26\"], [1.0, \"#f0f921\"]], \"type\": \"contour\"}], \"contourcarpet\": [{\"colorbar\": {\"outlinewidth\": 0, \"ticks\": \"\"}, \"type\": \"contourcarpet\"}], \"heatmap\": [{\"colorbar\": {\"outlinewidth\": 0, \"ticks\": \"\"}, \"colorscale\": [[0.0, \"#0d0887\"], [0.1111111111111111, \"#46039f\"], [0.2222222222222222, \"#7201a8\"], [0.3333333333333333, \"#9c179e\"], [0.4444444444444444, \"#bd3786\"], [0.5555555555555556, \"#d8576b\"], [0.6666666666666666, \"#ed7953\"], [0.7777777777777778, \"#fb9f3a\"], [0.8888888888888888, \"#fdca26\"], [1.0, \"#f0f921\"]], \"type\": \"heatmap\"}], \"heatmapgl\": [{\"colorbar\": {\"outlinewidth\": 0, \"ticks\": \"\"}, \"colorscale\": [[0.0, \"#0d0887\"], [0.1111111111111111, \"#46039f\"], [0.2222222222222222, \"#7201a8\"], [0.3333333333333333, \"#9c179e\"], [0.4444444444444444, \"#bd3786\"], [0.5555555555555556, \"#d8576b\"], [0.6666666666666666, \"#ed7953\"], [0.7777777777777778, \"#fb9f3a\"], [0.8888888888888888, \"#fdca26\"], [1.0, \"#f0f921\"]], \"type\": \"heatmapgl\"}], \"histogram\": [{\"marker\": {\"colorbar\": {\"outlinewidth\": 0, \"ticks\": \"\"}}, \"type\": \"histogram\"}], \"histogram2d\": [{\"colorbar\": {\"outlinewidth\": 0, \"ticks\": \"\"}, \"colorscale\": [[0.0, \"#0d0887\"], [0.1111111111111111, \"#46039f\"], [0.2222222222222222, \"#7201a8\"], [0.3333333333333333, \"#9c179e\"], [0.4444444444444444, \"#bd3786\"], [0.5555555555555556, \"#d8576b\"], [0.6666666666666666, \"#ed7953\"], [0.7777777777777778, \"#fb9f3a\"], [0.8888888888888888, \"#fdca26\"], [1.0, \"#f0f921\"]], \"type\": \"histogram2d\"}], \"histogram2dcontour\": [{\"colorbar\": {\"outlinewidth\": 0, \"ticks\": \"\"}, \"colorscale\": [[0.0, \"#0d0887\"], [0.1111111111111111, \"#46039f\"], [0.2222222222222222, \"#7201a8\"], [0.3333333333333333, \"#9c179e\"], [0.4444444444444444, \"#bd3786\"], [0.5555555555555556, \"#d8576b\"], [0.6666666666666666, \"#ed7953\"], [0.7777777777777778, \"#fb9f3a\"], [0.8888888888888888, \"#fdca26\"], [1.0, \"#f0f921\"]], \"type\": \"histogram2dcontour\"}], \"mesh3d\": [{\"colorbar\": {\"outlinewidth\": 0, \"ticks\": \"\"}, \"type\": \"mesh3d\"}], \"parcoords\": [{\"line\": {\"colorbar\": {\"outlinewidth\": 0, \"ticks\": \"\"}}, \"type\": \"parcoords\"}], \"pie\": [{\"automargin\": true, \"type\": \"pie\"}], \"scatter\": [{\"marker\": {\"colorbar\": {\"outlinewidth\": 0, \"ticks\": \"\"}}, \"type\": \"scatter\"}], \"scatter3d\": [{\"line\": {\"colorbar\": {\"outlinewidth\": 0, \"ticks\": \"\"}}, \"marker\": {\"colorbar\": {\"outlinewidth\": 0, \"ticks\": \"\"}}, \"type\": \"scatter3d\"}], \"scattercarpet\": [{\"marker\": {\"colorbar\": {\"outlinewidth\": 0, \"ticks\": \"\"}}, \"type\": \"scattercarpet\"}], \"scattergeo\": [{\"marker\": {\"colorbar\": {\"outlinewidth\": 0, \"ticks\": \"\"}}, \"type\": \"scattergeo\"}], \"scattergl\": [{\"marker\": {\"colorbar\": {\"outlinewidth\": 0, \"ticks\": \"\"}}, \"type\": \"scattergl\"}], \"scattermapbox\": [{\"marker\": {\"colorbar\": {\"outlinewidth\": 0, \"ticks\": \"\"}}, \"type\": \"scattermapbox\"}], \"scatterpolar\": [{\"marker\": {\"colorbar\": {\"outlinewidth\": 0, \"ticks\": \"\"}}, \"type\": \"scatterpolar\"}], \"scatterpolargl\": [{\"marker\": {\"colorbar\": {\"outlinewidth\": 0, \"ticks\": \"\"}}, \"type\": \"scatterpolargl\"}], \"scatterternary\": [{\"marker\": {\"colorbar\": {\"outlinewidth\": 0, \"ticks\": \"\"}}, \"type\": \"scatterternary\"}], \"surface\": [{\"colorbar\": {\"outlinewidth\": 0, \"ticks\": \"\"}, \"colorscale\": [[0.0, \"#0d0887\"], [0.1111111111111111, \"#46039f\"], [0.2222222222222222, \"#7201a8\"], [0.3333333333333333, \"#9c179e\"], [0.4444444444444444, \"#bd3786\"], [0.5555555555555556, \"#d8576b\"], [0.6666666666666666, \"#ed7953\"], [0.7777777777777778, \"#fb9f3a\"], [0.8888888888888888, \"#fdca26\"], [1.0, \"#f0f921\"]], \"type\": \"surface\"}], \"table\": [{\"cells\": {\"fill\": {\"color\": \"#EBF0F8\"}, \"line\": {\"color\": \"white\"}}, \"header\": {\"fill\": {\"color\": \"#C8D4E3\"}, \"line\": {\"color\": \"white\"}}, \"type\": \"table\"}]}, \"layout\": {\"annotationdefaults\": {\"arrowcolor\": \"#2a3f5f\", \"arrowhead\": 0, \"arrowwidth\": 1}, \"autotypenumbers\": \"strict\", \"coloraxis\": {\"colorbar\": {\"outlinewidth\": 0, \"ticks\": \"\"}}, \"colorscale\": {\"diverging\": [[0, \"#8e0152\"], [0.1, \"#c51b7d\"], [0.2, \"#de77ae\"], [0.3, \"#f1b6da\"], [0.4, \"#fde0ef\"], [0.5, \"#f7f7f7\"], [0.6, \"#e6f5d0\"], [0.7, \"#b8e186\"], [0.8, \"#7fbc41\"], [0.9, \"#4d9221\"], [1, \"#276419\"]], \"sequential\": [[0.0, \"#0d0887\"], [0.1111111111111111, \"#46039f\"], [0.2222222222222222, \"#7201a8\"], [0.3333333333333333, \"#9c179e\"], [0.4444444444444444, \"#bd3786\"], [0.5555555555555556, \"#d8576b\"], [0.6666666666666666, \"#ed7953\"], [0.7777777777777778, \"#fb9f3a\"], [0.8888888888888888, \"#fdca26\"], [1.0, \"#f0f921\"]], \"sequentialminus\": [[0.0, \"#0d0887\"], [0.1111111111111111, \"#46039f\"], [0.2222222222222222, \"#7201a8\"], [0.3333333333333333, \"#9c179e\"], [0.4444444444444444, \"#bd3786\"], [0.5555555555555556, \"#d8576b\"], [0.6666666666666666, \"#ed7953\"], [0.7777777777777778, \"#fb9f3a\"], [0.8888888888888888, \"#fdca26\"], [1.0, \"#f0f921\"]]}, \"colorway\": [\"#636efa\", \"#EF553B\", \"#00cc96\", \"#ab63fa\", \"#FFA15A\", \"#19d3f3\", \"#FF6692\", \"#B6E880\", \"#FF97FF\", \"#FECB52\"], \"font\": {\"color\": \"#2a3f5f\"}, \"geo\": {\"bgcolor\": \"white\", \"lakecolor\": \"white\", \"landcolor\": \"#E5ECF6\", \"showlakes\": true, \"showland\": true, \"subunitcolor\": \"white\"}, \"hoverlabel\": {\"align\": \"left\"}, \"hovermode\": \"closest\", \"mapbox\": {\"style\": \"light\"}, \"paper_bgcolor\": \"white\", \"plot_bgcolor\": \"#E5ECF6\", \"polar\": {\"angularaxis\": {\"gridcolor\": \"white\", \"linecolor\": \"white\", \"ticks\": \"\"}, \"bgcolor\": \"#E5ECF6\", \"radialaxis\": {\"gridcolor\": \"white\", \"linecolor\": \"white\", \"ticks\": \"\"}}, \"scene\": {\"xaxis\": {\"backgroundcolor\": \"#E5ECF6\", \"gridcolor\": \"white\", \"gridwidth\": 2, \"linecolor\": \"white\", \"showbackground\": true, \"ticks\": \"\", \"zerolinecolor\": \"white\"}, \"yaxis\": {\"backgroundcolor\": \"#E5ECF6\", \"gridcolor\": \"white\", \"gridwidth\": 2, \"linecolor\": \"white\", \"showbackground\": true, \"ticks\": \"\", \"zerolinecolor\": \"white\"}, \"zaxis\": {\"backgroundcolor\": \"#E5ECF6\", \"gridcolor\": \"white\", \"gridwidth\": 2, \"linecolor\": \"white\", \"showbackground\": true, \"ticks\": \"\", \"zerolinecolor\": \"white\"}}, \"shapedefaults\": {\"line\": {\"color\": \"#2a3f5f\"}}, \"ternary\": {\"aaxis\": {\"gridcolor\": \"white\", \"linecolor\": \"white\", \"ticks\": \"\"}, \"baxis\": {\"gridcolor\": \"white\", \"linecolor\": \"white\", \"ticks\": \"\"}, \"bgcolor\": \"#E5ECF6\", \"caxis\": {\"gridcolor\": \"white\", \"linecolor\": \"white\", \"ticks\": \"\"}}, \"title\": {\"x\": 0.05}, \"xaxis\": {\"automargin\": true, \"gridcolor\": \"white\", \"linecolor\": \"white\", \"ticks\": \"\", \"title\": {\"standoff\": 15}, \"zerolinecolor\": \"white\", \"zerolinewidth\": 2}, \"yaxis\": {\"automargin\": true, \"gridcolor\": \"white\", \"linecolor\": \"white\", \"ticks\": \"\", \"title\": {\"standoff\": 15}, \"zerolinecolor\": \"white\", \"zerolinewidth\": 2}}}, \"title\": {\"text\": \"Frequently Co-occurring Words\"}, \"width\": 800, \"xaxis\": {\"anchor\": \"y\", \"domain\": [0.0, 1.0], \"title\": {\"text\": \"\"}}, \"yaxis\": {\"anchor\": \"x\", \"domain\": [0.0, 1.0], \"title\": {\"text\": \"\"}}},                        {\"responsive\": true}                    ).then(function(){\n",
       "                            \n",
       "var gd = document.getElementById('4358ae63-b00c-4875-bf26-81cfefadcada');\n",
       "var x = new MutationObserver(function (mutations, observer) {{\n",
       "        var display = window.getComputedStyle(gd).display;\n",
       "        if (!display || display === 'none') {{\n",
       "            console.log([gd, 'removed!']);\n",
       "            Plotly.purge(gd);\n",
       "            observer.disconnect();\n",
       "        }}\n",
       "}});\n",
       "\n",
       "// Listen for the removal of the full notebook cells\n",
       "var notebookContainer = gd.closest('#notebook-container');\n",
       "if (notebookContainer) {{\n",
       "    x.observe(notebookContainer, {childList: true});\n",
       "}}\n",
       "\n",
       "// Listen for the clearing of the current output cell\n",
       "var outputEl = gd.closest('.output');\n",
       "if (outputEl) {{\n",
       "    x.observe(outputEl, {childList: true});\n",
       "}}\n",
       "\n",
       "                        })                };                });            </script>        </div>"
      ]
     },
     "metadata": {},
     "output_type": "display_data"
    }
   ],
   "source": [
    "npt.bar_ngram(title='uni-gram', ngram=1, top_n=50, stopwords=stopwords)\n",
    "bgram = NPT.bar_ngram(title='Frequently Co-occurring Words', ngram=2, top_n=50, stopwords=stopwords)\n",
    "bgram.write_html(\"Resources/common_bigrams.html\")\n",
    "bgram"
   ]
  },
  {
   "cell_type": "code",
   "execution_count": 22,
   "id": "working-lawrence",
   "metadata": {},
   "outputs": [
    {
     "data": {
      "text/html": [
       "\n",
       "<link rel=\"stylesheet\" type=\"text/css\" href=\"https://cdn.jsdelivr.net/gh/bmabey/pyLDAvis@3.2.2/pyLDAvis/js/ldavis.v1.0.0.css\">\n",
       "\n",
       "\n",
       "<div id=\"ldavis_el2237616408519627604764813306\"></div>\n",
       "<script type=\"text/javascript\">\n",
       "\n",
       "var ldavis_el2237616408519627604764813306_data = {\"mdsDat\": {\"x\": [0.02730885462622262, 0.006926380917423113, -0.017082642202527202, -0.03104648849022032, 0.013893895149101745], \"y\": [-0.019065919996084528, -0.01108350781064245, 0.010052411032406193, -0.010901841325727019, 0.03099885810004779], \"topics\": [1, 2, 3, 4, 5], \"cluster\": [1, 1, 1, 1, 1], \"Freq\": [26.218455138212278, 24.312568082516297, 17.361613162670604, 16.42989921478468, 15.677464401816152]}, \"tinfo\": {\"Term\": [\"get\", \"disney\", \"day\", \"park\", \"ride\", \"would\", \"queue\", \"hong\", \"close\", \"kong\", \"go\", \"people\", \"love\", \"hotel\", \"lot\", \"pas\", \"visit\", \"fast\", \"could\", \"disneyland\", \"restaurant\", \"great\", \"long\", \"hour\", \"stay\", \"come\", \"know\", \"food\", \"line\", \"tell\", \"ha\", \"aaa\", \"subtle\", \"eager\", \"intimate\", \"korean\", \"array\", \"buddha\", \"replicate\", \"l.a\", \"commercial\", \"hkg\", \"katie\", \"vintage\", \"pattern\", \"u.s.a\", \"contend\", \"provision\", \"shanghai\", \"holidays\", \"too.we\", \"tokyo's\", \"thrice\", \"tron\", \"script\", \"curry\", \"commemorate\", \"fnac\", \"hong\", \"semi\", \"kong\", \"india\", \"windows\", \"mtr\", \"smoothly\", \"original\", \"squid\", \"refill\", \"adorable\", \"graduate\", \"orlando\", \"small\", \"world\", \"great\", \"vibe\", \"disney\", \"fan\", \"hk\", \"disneyland\", \"size\", \"visit\", \"train\", \"though\", \"house\", \"something\", \"disneyworld\", \"california\", \"fantasy\", \"park\", \"fun\", \"always\", \"compare\", \"theme\", \"land\", \"big\", \"never\", \"like\", \"take\", \"day\", \"time\", \"trip\", \"line\", \"go\", \"much\", \"get\", \"one\", \"ride\", \"kid\", \"parade\", \"even\", \"food\", \"see\", \"make\", \"first\", \"experience\", \"good\", \"also\", \"wait\", \"show\", \"place\", \"blog\", \"president\", \"expert\", \"fewer\", \"cleanest\", \"resturants\", \"europa\", \"compensate\", \"cease\", \"recover\", \"belonging\", \"bottled\", \"passage\", \"built\", \"oasis\", \"a.m\", \"marine\", \"charecters\", \"thumb\", \"sunshine\", \"inner\", \"needed\", \"spite\", \"dw\", \"dine\", \"unchanged\", \"ride,the\", \"worthit\", \"specially\", \"efficiently\", \"concrete\", \"mania\", \"record\", \"radiator\", \"simulator\", \"operation\", \"raise\", \"love\", \"toddler\", \"fe\", \"well\", \"aside\", \"year\", \"happiness\", \"time\", \"wait\", \"earth\", \"fourth\", \"disneyland\", \"everything\", \"kid\", \"line\", \"crowd\", \"still\", \"expensive\", \"ride\", \"truly\", \"park\", \"go\", \"parade\", \"place\", \"must\", \"enjoy\", \"old\", \"minute\", \"busy\", \"really\", \"bring\", \"day\", \"one\", \"sure\", \"visit\", \"good\", \"see\", \"get\", \"show\", \"stay\", \"fast\", \"like\", \"food\", \"disney\", \"experience\", \"take\", \"make\", \"long\", \"much\", \"broke\", \"creative\", \"moana\", \"taking\", \"malfunction\", \"gourmande\", \"dissapointment\", \"ongoing\", \"gay\", \"olivia\", \"indianna\", \"downfall\", \"survive\", \"tkts\", \"considerate\", \"evacuate\", \"protect\", \"kristen\", \"activex\", \"vt\", \"emh\", \"exhausted\", \"wary\", \"press\", \"reverse\", \"selling\", \"floriday\", \"booklet\", \"gruppy\", \"fairytail\", \"audience\", \"lick\", \"spanish\", \"good.the\", \"instruction\", \"waist\", \"profit\", \"technical\", \"silly\", \"underwhelmed\", \"rip\", \"disney\", \"close\", \"ride\", \"could\", \"hour\", \"queue\", \"alot\", \"dream\", \"voucher\", \"day\", \"princess\", \"go\", \"meet\", \"track\", \"hardly\", \"tour\", \"long\", \"line\", \"one\", \"get\", \"magic\", \"two\", \"break\", \"money\", \"would\", \"wait\", \"fast\", \"park\", \"place\", \"ticket\", \"even\", \"take\", \"say\", \"time\", \"paris\", \"disneyland\", \"make\", \"minute\", \"open\", \"character\", \"great\", \"well\", \"see\", \"year\", \"show\", \"love\", \"kid\", \"food\", \"good\", \"physically\", \"admiral\", \"mango\", \"qued\", \"stare\", \"waits\", \"btw\", \"mi\", \"uplift\", \"tends\", \"payment\", \"anti\", \"effectively\", \"grizzle\", \"substandard\", \"banana\", \"vitamin\", \"tiggers\", \"sophia\", \"exhibition\", \"riff\", \"jingle\", \"nord\", \"intolerance\", \"awaken\", \"cocoa\", \"dd\", \"ben\", \"waterfront\", \"densely\", \"stench\", \"sleepy\", \"philarmagic\", \"teddy\", \"stamped\", \"nut\", \"waiter\", \"student\", \"get\", \"ask\", \"explain\", \"fp\", \"disable\", \"people\", \"green\", \"know\", \"come\", \"would\", \"tell\", \"go\", \"picture\", \"badge\", \"ride\", \"pas\", \"also\", \"spot\", \"time\", \"think\", \"book\", \"fast\", \"seat\", \"queue\", \"member\", \"lot\", \"say\", \"use\", \"cast\", \"place\", \"want\", \"good\", \"make\", \"kid\", \"back\", \"park\", \"child\", \"see\", \"great\", \"one\", \"disney\", \"wait\", \"day\", \"take\", \"food\", \"like\", \"really\", \"disneyland\", \"show\", \"replacement\", \"genius\", \"animagique\", \"hyatt\", \"ada\", \"tesco\", \"it`s\", \"buggie\", \"usb\", \"sha\", \"gf\", \"tsim\", \"tsui\", \"buzz's\", \"crockett\", \"witnessed\", \"pleased\", \"you...more\", \"nappy\", \"tiana\", \"mountainstar\", \"davy\", \"carnaval\", \"avios\", \"shutter\", \"lightyearspace\", \"treater\", \"skull\", \"mlk\", \"francophone\", \"tung\", \"peril\", \"weight\", \"vegetarian\", \"self\", \"ranch\", \"convenient\", \"mascot\", \"halal\", \"cheyenne\", \"eurodisney\", \"accommodation\", \"hotel\", \"park\", \"day\", \"nice\", \"stay\", \"would\", \"food\", \"lot\", \"queue\", \"restaurant\", \"show\", \"close\", \"cater\", \"good\", \"visit\", \"ride\", \"disneyland\", \"attraction\", \"go\", \"long\", \"family\", \"different\", \"worth\", \"around\", \"time\", \"thing\", \"one\", \"night\", \"see\", \"character\", \"take\", \"enjoy\", \"child\", \"place\", \"get\", \"disney\", \"great\", \"year\", \"much\", \"kid\", \"make\", \"wait\"], \"Freq\": [2977.0, 3063.0, 3239.0, 4745.0, 4056.0, 1281.0, 1184.0, 321.0, 713.0, 309.0, 3420.0, 937.0, 1161.0, 585.0, 843.0, 719.0, 1607.0, 836.0, 578.0, 2901.0, 393.0, 1483.0, 988.0, 803.0, 600.0, 722.0, 414.0, 1270.0, 1274.0, 250.0, 4.836348698360332, 6.337272478482008, 4.751168178162968, 4.72672443386808, 3.930710554036829, 3.8810345499258445, 3.8587464919507277, 3.0384511186903227, 3.7880818579659636, 5.30603676801298, 3.032490235059582, 3.01508320422341, 3.0051484771263683, 5.268301243307116, 3.735192812988294, 2.9843360730104074, 2.9740742386935435, 2.9760840176654435, 8.893877134543066, 2.9662556418657955, 2.965120122668236, 2.962780630988159, 2.960768246527904, 2.9599652823894553, 5.177066515623392, 2.9540906167370027, 2.950529861606234, 5.908313876517525, 245.8171352507512, 5.1251784518991395, 233.27359045846777, 4.386405966911045, 5.780563466403161, 72.3015476766287, 3.6569957121696595, 74.04702401491203, 5.654504728818829, 15.07384633281454, 7.565719023705068, 4.3231361826025, 71.09335146062469, 407.07407255126293, 339.1581662491444, 660.5718767084088, 7.500579446208051, 1211.2531000053639, 70.28672258437321, 101.56953841333134, 1086.3280321955833, 45.39107101981635, 626.8695077532057, 180.66829926929663, 176.77608243707692, 51.107466992741436, 123.05800706800605, 51.88210236689599, 192.59613779236946, 39.12825392401284, 1394.0401255578056, 340.72189887899845, 193.68998054565458, 93.79322250315533, 183.47770924945203, 153.38192738635468, 218.5651596038945, 162.71087180874144, 363.27076150118387, 415.7821565747481, 830.8519517893735, 830.862623869675, 214.61964300698736, 376.5073245080436, 784.3814695794069, 312.58544425874794, 693.6317379200079, 473.351662935057, 842.8134740658978, 396.2092277993538, 317.73796707406865, 298.48999101649, 329.46928166386283, 324.67591073277833, 307.0055228183996, 246.53971391502617, 263.04716341984977, 291.4957157520982, 252.57350195228622, 287.55653570287006, 266.25224380902296, 251.12087113568427, 8.140118217157298, 4.793187425864609, 3.9650510617900196, 4.734076717760652, 3.8999256107062816, 5.437684795560083, 3.0676015059929065, 3.83341024969061, 3.055923451116007, 3.0379457744379423, 3.786981810782263, 3.0277345050423086, 3.7793127059808445, 3.018587193249438, 3.020961769146108, 5.276621294642401, 2.9935813342069615, 2.953286685557648, 2.943333718007772, 3.678510849962841, 13.19364534976998, 2.928071285732134, 2.9168920433481897, 2.910973724271714, 3.6191787402768063, 2.8884245881414805, 2.1672970119380075, 2.1664825704039354, 9.454233250337014, 6.470928639564832, 5.029254227021987, 6.378879174660556, 6.420440293074018, 25.07133943895333, 4.947030335900122, 6.9408763405454215, 10.699929923188437, 539.2689158747307, 32.030057935565566, 11.355193384101298, 420.17448862850847, 11.779640424231772, 430.7314502372256, 15.272402375452959, 1027.1291434821255, 497.12265768001356, 79.7112607958365, 10.585035680755638, 837.4563339583725, 190.95530805958091, 463.1299379769228, 416.9628583647523, 261.62258834378207, 251.22916870369318, 203.62995120069675, 1049.170451154978, 59.113554695726364, 1189.030800503338, 900.8449423453724, 336.3049546901675, 403.9272392727681, 157.84137692179786, 273.0121323590583, 250.83829299631182, 234.87745997294195, 153.6649137064547, 323.4240215035283, 126.04378010448154, 773.6482574311059, 480.3137933396907, 156.50294461485325, 420.4918730678833, 349.99212700940933, 339.87735004614245, 634.7917639417517, 315.6252034894988, 195.8698608919767, 240.01888265506182, 284.96638395244446, 305.3451976884069, 490.20553808065614, 249.85549488777912, 291.8625582592751, 271.45006336835013, 251.92123490616024, 251.84397629694755, 5.293785385773764, 5.271935809690438, 3.5748584811500415, 2.81694558580186, 2.8024631677946403, 3.495063861918155, 2.7879393418731753, 2.7730017505055797, 2.7744187167831935, 2.757986048754294, 2.7479898018199456, 2.733125301694919, 3.416586767230431, 2.696085295010047, 2.690024054714262, 4.026568006760113, 3.353873853713604, 2.0019586251377044, 1.9999221086280143, 1.9996309984430185, 4.001796663151948, 3.29533372864593, 1.9854020470623899, 3.976283427746893, 2.6278248189214986, 3.285233334533329, 1.9621257801155294, 1.9562739321133702, 1.955237793168283, 1.9509487802325558, 8.171262127186582, 2.5794136343315492, 3.1891381134232795, 2.5660140960211026, 7.769774127629403, 3.7503740817821707, 8.08205818683514, 26.62575814928681, 7.4221603340756435, 5.813772170225506, 22.44500683274615, 780.2079001293968, 217.90091230420035, 917.8337936380628, 173.47069211848552, 224.92489915403632, 307.4194624593653, 14.523640213243398, 69.41325108978216, 24.041668400760607, 637.8983448926159, 76.88333920241858, 654.1029833021234, 100.84224447567078, 29.919150411408022, 23.889693826769452, 62.413250715361606, 235.324419020003, 276.7850342468582, 355.3094569257792, 518.9016561797471, 128.596649360039, 139.54660839442147, 77.16878277708918, 92.19899235578363, 258.99117514604745, 279.6590145290878, 186.71610515297087, 635.2618502916494, 247.03965653932815, 162.1845710884086, 198.97393190399916, 244.77600381736548, 145.01817489565067, 439.9519717119584, 137.5497029464551, 351.7009353788295, 189.99364445786262, 142.87819381090003, 120.46713644869372, 154.3320746137924, 208.52399225014815, 174.06299092384725, 182.21238967231244, 174.4340660651767, 171.72613904778152, 170.64963366023161, 179.83562558605556, 173.35358551785927, 172.22779216450493, 4.4267531850381, 5.830582729863148, 3.598258045359261, 3.587921912835478, 3.55374332860144, 2.8103335171848984, 3.511221147931264, 2.8033284703940513, 2.756181480470385, 2.747572192765111, 3.417214827122807, 2.73546973280964, 4.077884221265775, 2.7074442021346936, 2.6967809279588564, 2.676675965721703, 2.6645797398630493, 2.646589027032363, 1.9747674274059965, 1.9748992340244285, 2.6274061174007257, 2.627062648352245, 2.6237469994304763, 2.6209962784250944, 1.9645090726615584, 2.614946829617878, 5.204091029368958, 1.955617172567214, 1.9553443566160005, 1.9533485550490697, 3.9041820973248185, 3.2560850952926765, 3.250121142670389, 6.394611748861294, 2.596848949694278, 8.364469973454211, 5.537946506833689, 5.483840483690925, 847.7123047819042, 82.36386120152514, 18.745689266593725, 11.005749331168396, 17.14510806386033, 272.46395392072, 10.059167632706512, 128.55343159784258, 192.78084459678828, 296.9747981804896, 79.7209651347029, 626.3923586770906, 59.62327244816212, 12.932492542169946, 691.73139307248, 177.08800085396217, 209.71193908551376, 44.24008638757186, 560.324516803064, 144.42925617556847, 83.84064630337572, 189.10483163043912, 46.31054274820359, 233.51821878486157, 77.22383056360809, 178.77385262669188, 144.59015999560438, 137.1500064953967, 63.76355344761472, 231.60082434419257, 143.9849230029176, 222.95237226153893, 202.91054658206104, 238.88215443153095, 166.67644644570763, 511.2444248896423, 163.14587198949837, 203.45701919697345, 210.25611280300922, 233.42510393989804, 311.59705869563777, 201.3423185606411, 289.25861549745133, 192.2062532366104, 185.09602951404278, 174.09561538230335, 167.35515315997654, 218.9313726894261, 166.45455534708918, 5.262995285965867, 4.507971168997585, 4.326980323523346, 2.830573919560698, 2.8271390303341004, 2.8169972408750974, 2.815605269436907, 2.772185901505018, 2.740028925191164, 3.420076373032679, 7.544534483359296, 3.4125205231868714, 2.7142222166228036, 2.703516443620163, 11.27952470726288, 2.6574615644426642, 5.945074887469893, 1.981726140455007, 2.6207046239072436, 4.560321928758158, 1.9554265482272144, 11.03699988630672, 1.94265774551673, 1.9430992163116874, 1.936712973724384, 1.9367925716027177, 1.9362436011820392, 1.9343240459417261, 1.9275368396648098, 1.925417015029543, 2.5572733296029786, 4.4029478587654545, 3.158375545059882, 18.594181084527527, 8.321863002249257, 17.246050231511045, 17.086982511288603, 7.009245266694307, 10.3631214156693, 10.165768532300723, 19.143506154827506, 11.697750655614978, 181.98176597674416, 1015.8053486698249, 708.0431173261707, 112.26310721258771, 156.764940571993, 281.8062844016132, 277.14367296733394, 194.79449311927812, 250.45498591506046, 106.04722561317024, 238.60197464059243, 164.9525834223176, 18.300754411809642, 244.26628883232598, 280.58632596136687, 554.7942342884237, 406.9042633963669, 158.24133448305034, 454.7214565961608, 185.6027182182445, 140.99054237081577, 75.05980443678949, 132.1882430043999, 147.05332410802055, 396.8597159176395, 127.1201571452243, 247.82311860933294, 107.45462940869761, 190.6909454565697, 143.411115550541, 190.20622893602717, 140.99977005937308, 146.28131646652068, 182.76998099264523, 282.8188283334432, 270.24797903124585, 178.5754073490996, 161.79859935735666, 152.94103356939485, 163.004580296861, 151.8083121376704, 156.6332692517738], \"Total\": [2977.0, 3063.0, 3239.0, 4745.0, 4056.0, 1281.0, 1184.0, 321.0, 713.0, 309.0, 3420.0, 937.0, 1161.0, 585.0, 843.0, 719.0, 1607.0, 836.0, 578.0, 2901.0, 393.0, 1483.0, 988.0, 803.0, 600.0, 722.0, 414.0, 1270.0, 1274.0, 250.0, 5.7843908881702335, 7.7039702307439, 5.780420385421438, 5.777977960705622, 4.810939038093462, 4.807908120130056, 4.80476115545803, 3.8451113135852126, 4.800692715961212, 6.725502583276055, 3.844048445888856, 3.842497766382392, 3.8387275700027312, 6.736191827084898, 4.8037325287018255, 3.844064170951138, 3.839464266208989, 3.844065229428124, 11.506575410818076, 3.840214751026481, 3.8396560643514106, 3.8393827726978302, 3.8373263853696513, 3.8405044632217704, 6.720319468126498, 3.839063849436137, 3.8373142646760714, 7.7103480711645735, 321.738888460693, 6.712081069526816, 309.98639781250375, 5.7445927038495945, 7.664013949039079, 108.84749033681531, 4.795004881692195, 117.85453269396865, 7.647872142017048, 22.028156879489103, 10.525156200501504, 5.746636072851065, 123.1214561797517, 842.976618003045, 698.1544442899763, 1483.2183714382868, 10.513454724921969, 3063.5115759423006, 127.72841098304441, 195.6291392780417, 2901.3209376185782, 80.16270483749835, 1607.811767913426, 394.47854722226276, 385.3965277380512, 93.4915102647431, 261.5428584735319, 96.7777475119307, 446.37001329689195, 70.68654421369092, 4745.38254991226, 906.3365463605903, 480.1756427806848, 204.2909743014031, 460.84518286148807, 373.25153090939847, 578.9699381100419, 413.98424330854914, 1118.2879435147463, 1334.8332008240263, 3239.700286936718, 3255.1279717844627, 598.2721534587431, 1274.8552959699382, 3420.4432105001542, 998.3587969677501, 2977.8562911568542, 1790.2231357497576, 4056.3433462198427, 1441.061526090724, 1047.8998998815862, 987.2521118743483, 1270.4077673515058, 1240.9136151047765, 1123.1680893643438, 785.1458394195987, 905.8383198001753, 1280.9342960198771, 906.1745179495417, 1422.3137957243864, 1158.660116333985, 1316.4585722846182, 9.764596080716027, 5.849023998351604, 4.878598184979876, 5.849502448950577, 4.875824799202693, 6.829718816165631, 3.8926478699033087, 4.865627005020869, 3.8933351890879746, 3.8889652328225237, 4.859834073433539, 3.8883348306194367, 4.860716546403962, 3.88758747069038, 3.8909565060928744, 6.802233629108354, 3.888320398116813, 3.888514852538739, 3.8787243198471915, 4.867321151630195, 17.481470702242504, 3.880549349665242, 3.8794909919219727, 3.8849731221499497, 4.8435240236438775, 3.872035695756098, 2.910837488987504, 2.910288563473923, 12.703694362830843, 8.71844204884066, 6.782613370639713, 8.71739615288887, 8.785777114388422, 36.822714326444746, 6.773384960176004, 9.725435259529617, 15.602538767269309, 1161.1868848359516, 53.13350861024254, 17.323792118796277, 1076.4274606809618, 18.40484029508508, 1153.5079800825658, 24.939040081165032, 3255.1279717844627, 1422.3137957243864, 169.94832870167627, 16.36389539053119, 2901.3209376185782, 500.63782663587466, 1441.061526090724, 1274.8552959699382, 737.3323012045462, 717.3909040292433, 558.3434742511588, 4056.3433462198427, 127.06295272804202, 4745.38254991226, 3420.4432105001542, 1047.8998998815862, 1316.4585722846182, 421.40959804477427, 822.1236292743937, 741.6858878315436, 689.7481779196552, 409.7495006177606, 1029.7094799907031, 324.5210664590478, 3239.700286936718, 1790.2231357497576, 432.84183719993786, 1607.811767913426, 1280.9342960198771, 1240.9136151047765, 2977.8562911568542, 1158.660116333985, 600.1298930750797, 836.2906577008109, 1118.2879435147463, 1270.4077673515058, 3063.5115759423006, 905.8383198001753, 1334.8332008240263, 1123.1680893643438, 988.9468290959942, 998.3587969677501, 6.423112193668138, 6.426142223340406, 4.595066645046138, 3.6761985579275622, 3.675920379171143, 4.594287968871992, 3.6778070778725955, 3.6738716433852967, 3.676947808765809, 3.680017333230456, 3.673958182448367, 3.677672198856479, 4.598273725434003, 3.67695255601821, 3.6733694725571957, 5.523318812849765, 4.607608152992421, 2.7613713320420814, 2.759896069550769, 2.7598692612879554, 5.529119907931578, 4.583525365585584, 2.761621113147923, 5.5313189000609855, 3.686791967779008, 4.620225328274449, 2.763476990982802, 2.7598894526397957, 2.762683810915109, 2.7635738908336185, 11.96903695629404, 3.675366319017105, 4.608005010838887, 3.673871185107596, 11.993329655735689, 5.511238289899272, 12.941539768441414, 49.3189126050208, 11.969684021489345, 9.237750671492567, 45.83009624294488, 3063.5115759423006, 713.7496485811193, 4056.3433462198427, 578.6757226444304, 803.308088955298, 1184.2961708339901, 28.623029012959, 201.48847263725185, 53.78331703676078, 3239.700286936718, 231.55776660235387, 3420.4432105001542, 332.92893625267465, 71.78141200827888, 54.411246238538084, 184.14385749725676, 988.9468290959942, 1274.8552959699382, 1790.2231357497576, 2977.8562911568542, 487.5515530391673, 546.468444065416, 253.29482939705184, 323.35245500786004, 1281.15335700471, 1422.3137957243864, 836.2906577008109, 4745.38254991226, 1316.4585722846182, 739.2294043666383, 987.2521118743483, 1334.8332008240263, 647.142346135713, 3255.1279717844627, 640.5853057815257, 2901.3209376185782, 1123.1680893643438, 689.7481779196552, 519.4074091995128, 815.5206968105529, 1483.2183714382868, 1076.4274606809618, 1240.9136151047765, 1153.5079800825658, 1158.660116333985, 1161.1868848359516, 1441.061526090724, 1270.4077673515058, 1280.9342960198771, 5.540341137777196, 7.40277957625714, 4.620790669028053, 4.61789793204761, 4.620561461662587, 3.6949154665275064, 4.6166289202999415, 3.69924029700738, 3.6950256694276193, 3.692796378587876, 4.609811160786041, 3.695777715580339, 5.562468761922422, 3.7008836458985144, 3.699671464254613, 3.6996932752659246, 3.700566596830479, 3.693251415663193, 2.77470434932898, 2.774916419924357, 3.695930215136135, 3.7000825046077788, 3.7000788887112313, 3.699930041746315, 2.776054611298798, 3.701067349441866, 7.371842656485732, 2.775449742047588, 2.776409826641696, 2.774407391482566, 5.559270559636532, 4.632840276084843, 4.634893018797358, 9.342007864843833, 3.6974620560679936, 13.033871221970747, 8.37439366661476, 8.346787091530123, 2977.8562911568542, 199.07332435480046, 36.177557233096465, 19.507424211313676, 32.906036822182436, 937.1527081353612, 18.555862511493302, 414.97412512109145, 722.7726906222617, 1281.15335700471, 250.14109791348892, 3420.4432105001542, 178.12083922312283, 26.034635674621974, 4056.3433462198427, 719.2855359480855, 906.1745179495417, 123.5470956749503, 3255.1279717844627, 571.058628066365, 285.1497855910711, 836.2906577008109, 132.65964575929115, 1184.2961708339901, 270.9774201519613, 843.6709334156417, 647.142346135713, 607.7709877012642, 216.7656945465118, 1316.4585722846182, 686.0869493929089, 1280.9342960198771, 1123.1680893643438, 1441.061526090724, 859.8544521619377, 4745.38254991226, 876.2405138568262, 1240.9136151047765, 1483.2183714382868, 1790.2231357497576, 3063.5115759423006, 1422.3137957243864, 3239.700286936718, 1334.8332008240263, 1270.4077673515058, 1118.2879435147463, 1029.7094799907031, 2901.3209376185782, 1158.660116333985, 6.426663438355531, 5.508847843853667, 5.513714419159291, 3.676262147983537, 3.6754384106665725, 3.6800835302597825, 3.6794841499849515, 3.677515887757125, 3.677287373234239, 4.592131325529068, 10.151188762397288, 4.591580806179232, 3.6771802895692196, 3.6771064635938027, 15.635225916321197, 3.684543287986471, 8.2686673065815, 2.7597136964124345, 3.6830872799787553, 6.416351321502619, 2.7625043547877235, 15.6343805040535, 2.7631265521605237, 2.765669029841873, 2.761169529667298, 2.762437240027274, 2.7620085136180377, 2.7640618569541755, 2.7661811369531586, 2.76558399588525, 3.6854795850996913, 6.447932141798618, 4.605042094411505, 30.60623509490558, 13.057676683790872, 28.641901285518507, 28.817836621732617, 11.08956714358251, 17.457710409758118, 17.523467101502277, 36.03225023264759, 21.24765510418851, 585.2245460127585, 4745.38254991226, 3239.700286936718, 378.51536515281884, 600.1298930750797, 1281.15335700471, 1270.4077673515058, 843.6709334156417, 1184.2961708339901, 393.2881398763202, 1158.660116333985, 713.7496485811193, 41.143348639633224, 1280.9342960198771, 1607.811767913426, 4056.3433462198427, 2901.3209376185782, 782.2338595235553, 3420.4432105001542, 988.9468290959942, 681.403565897648, 287.3466436415431, 652.5793563850145, 766.8231679538084, 3255.1279717844627, 632.6563292183106, 1790.2231357497576, 498.09392499688266, 1240.9136151047765, 815.5206968105529, 1334.8332008240263, 822.1236292743937, 876.2405138568262, 1316.4585722846182, 2977.8562911568542, 3063.5115759423006, 1483.2183714382868, 1153.5079800825658, 998.3587969677501, 1441.061526090724, 1123.1680893643438, 1422.3137957243864], \"Category\": [\"Default\", \"Default\", \"Default\", \"Default\", \"Default\", \"Default\", \"Default\", \"Default\", \"Default\", \"Default\", \"Default\", \"Default\", \"Default\", \"Default\", \"Default\", \"Default\", \"Default\", \"Default\", \"Default\", \"Default\", \"Default\", \"Default\", \"Default\", \"Default\", \"Default\", \"Default\", \"Default\", \"Default\", \"Default\", \"Default\", \"Topic1\", \"Topic1\", \"Topic1\", \"Topic1\", \"Topic1\", \"Topic1\", \"Topic1\", \"Topic1\", \"Topic1\", \"Topic1\", \"Topic1\", \"Topic1\", \"Topic1\", \"Topic1\", \"Topic1\", \"Topic1\", \"Topic1\", \"Topic1\", \"Topic1\", \"Topic1\", \"Topic1\", \"Topic1\", \"Topic1\", \"Topic1\", \"Topic1\", \"Topic1\", \"Topic1\", \"Topic1\", \"Topic1\", \"Topic1\", \"Topic1\", \"Topic1\", \"Topic1\", \"Topic1\", \"Topic1\", \"Topic1\", \"Topic1\", \"Topic1\", \"Topic1\", \"Topic1\", \"Topic1\", \"Topic1\", \"Topic1\", \"Topic1\", \"Topic1\", \"Topic1\", \"Topic1\", \"Topic1\", \"Topic1\", \"Topic1\", \"Topic1\", \"Topic1\", \"Topic1\", \"Topic1\", \"Topic1\", \"Topic1\", \"Topic1\", \"Topic1\", \"Topic1\", \"Topic1\", \"Topic1\", \"Topic1\", \"Topic1\", \"Topic1\", \"Topic1\", \"Topic1\", \"Topic1\", \"Topic1\", \"Topic1\", \"Topic1\", \"Topic1\", \"Topic1\", \"Topic1\", \"Topic1\", \"Topic1\", \"Topic1\", \"Topic1\", \"Topic1\", \"Topic1\", \"Topic1\", \"Topic1\", \"Topic1\", \"Topic1\", \"Topic1\", \"Topic1\", \"Topic1\", \"Topic1\", \"Topic1\", \"Topic1\", \"Topic1\", \"Topic2\", \"Topic2\", \"Topic2\", \"Topic2\", \"Topic2\", \"Topic2\", \"Topic2\", \"Topic2\", \"Topic2\", \"Topic2\", \"Topic2\", \"Topic2\", \"Topic2\", \"Topic2\", \"Topic2\", \"Topic2\", \"Topic2\", \"Topic2\", \"Topic2\", \"Topic2\", \"Topic2\", \"Topic2\", \"Topic2\", \"Topic2\", \"Topic2\", \"Topic2\", \"Topic2\", \"Topic2\", \"Topic2\", \"Topic2\", \"Topic2\", \"Topic2\", \"Topic2\", \"Topic2\", \"Topic2\", \"Topic2\", \"Topic2\", \"Topic2\", \"Topic2\", \"Topic2\", \"Topic2\", \"Topic2\", \"Topic2\", \"Topic2\", \"Topic2\", \"Topic2\", \"Topic2\", \"Topic2\", \"Topic2\", \"Topic2\", \"Topic2\", \"Topic2\", \"Topic2\", \"Topic2\", \"Topic2\", \"Topic2\", \"Topic2\", \"Topic2\", \"Topic2\", \"Topic2\", \"Topic2\", \"Topic2\", \"Topic2\", \"Topic2\", \"Topic2\", \"Topic2\", \"Topic2\", \"Topic2\", \"Topic2\", \"Topic2\", \"Topic2\", \"Topic2\", \"Topic2\", \"Topic2\", \"Topic2\", \"Topic2\", \"Topic2\", \"Topic2\", \"Topic2\", \"Topic2\", \"Topic2\", \"Topic2\", \"Topic2\", \"Topic2\", \"Topic2\", \"Topic2\", \"Topic3\", \"Topic3\", \"Topic3\", \"Topic3\", \"Topic3\", \"Topic3\", \"Topic3\", \"Topic3\", \"Topic3\", \"Topic3\", \"Topic3\", \"Topic3\", \"Topic3\", \"Topic3\", \"Topic3\", \"Topic3\", \"Topic3\", \"Topic3\", \"Topic3\", \"Topic3\", \"Topic3\", \"Topic3\", \"Topic3\", \"Topic3\", \"Topic3\", \"Topic3\", \"Topic3\", \"Topic3\", \"Topic3\", \"Topic3\", \"Topic3\", \"Topic3\", \"Topic3\", \"Topic3\", \"Topic3\", \"Topic3\", \"Topic3\", \"Topic3\", \"Topic3\", \"Topic3\", \"Topic3\", \"Topic3\", \"Topic3\", \"Topic3\", \"Topic3\", \"Topic3\", \"Topic3\", \"Topic3\", \"Topic3\", \"Topic3\", \"Topic3\", \"Topic3\", \"Topic3\", \"Topic3\", \"Topic3\", \"Topic3\", \"Topic3\", \"Topic3\", \"Topic3\", \"Topic3\", \"Topic3\", \"Topic3\", \"Topic3\", \"Topic3\", \"Topic3\", \"Topic3\", \"Topic3\", \"Topic3\", \"Topic3\", \"Topic3\", \"Topic3\", \"Topic3\", \"Topic3\", \"Topic3\", \"Topic3\", \"Topic3\", \"Topic3\", \"Topic3\", \"Topic3\", \"Topic3\", \"Topic3\", \"Topic3\", \"Topic3\", \"Topic3\", \"Topic3\", \"Topic3\", \"Topic3\", \"Topic3\", \"Topic3\", \"Topic3\", \"Topic4\", \"Topic4\", \"Topic4\", \"Topic4\", \"Topic4\", \"Topic4\", \"Topic4\", \"Topic4\", \"Topic4\", \"Topic4\", \"Topic4\", \"Topic4\", \"Topic4\", \"Topic4\", \"Topic4\", \"Topic4\", \"Topic4\", \"Topic4\", \"Topic4\", \"Topic4\", \"Topic4\", \"Topic4\", \"Topic4\", \"Topic4\", \"Topic4\", \"Topic4\", \"Topic4\", \"Topic4\", \"Topic4\", \"Topic4\", \"Topic4\", \"Topic4\", \"Topic4\", \"Topic4\", \"Topic4\", \"Topic4\", \"Topic4\", \"Topic4\", \"Topic4\", \"Topic4\", \"Topic4\", \"Topic4\", \"Topic4\", \"Topic4\", \"Topic4\", \"Topic4\", \"Topic4\", \"Topic4\", \"Topic4\", \"Topic4\", \"Topic4\", \"Topic4\", \"Topic4\", \"Topic4\", \"Topic4\", \"Topic4\", \"Topic4\", \"Topic4\", \"Topic4\", \"Topic4\", \"Topic4\", \"Topic4\", \"Topic4\", \"Topic4\", \"Topic4\", \"Topic4\", \"Topic4\", \"Topic4\", \"Topic4\", \"Topic4\", \"Topic4\", \"Topic4\", \"Topic4\", \"Topic4\", \"Topic4\", \"Topic4\", \"Topic4\", \"Topic4\", \"Topic4\", \"Topic4\", \"Topic4\", \"Topic4\", \"Topic4\", \"Topic4\", \"Topic4\", \"Topic4\", \"Topic4\", \"Topic5\", \"Topic5\", \"Topic5\", \"Topic5\", \"Topic5\", \"Topic5\", \"Topic5\", \"Topic5\", \"Topic5\", \"Topic5\", \"Topic5\", \"Topic5\", \"Topic5\", \"Topic5\", \"Topic5\", \"Topic5\", \"Topic5\", \"Topic5\", \"Topic5\", \"Topic5\", \"Topic5\", \"Topic5\", \"Topic5\", \"Topic5\", \"Topic5\", \"Topic5\", \"Topic5\", \"Topic5\", \"Topic5\", \"Topic5\", \"Topic5\", \"Topic5\", \"Topic5\", \"Topic5\", \"Topic5\", \"Topic5\", \"Topic5\", \"Topic5\", \"Topic5\", \"Topic5\", \"Topic5\", \"Topic5\", \"Topic5\", \"Topic5\", \"Topic5\", \"Topic5\", \"Topic5\", \"Topic5\", \"Topic5\", \"Topic5\", \"Topic5\", \"Topic5\", \"Topic5\", \"Topic5\", \"Topic5\", \"Topic5\", \"Topic5\", \"Topic5\", \"Topic5\", \"Topic5\", \"Topic5\", \"Topic5\", \"Topic5\", \"Topic5\", \"Topic5\", \"Topic5\", \"Topic5\", \"Topic5\", \"Topic5\", \"Topic5\", \"Topic5\", \"Topic5\", \"Topic5\", \"Topic5\", \"Topic5\", \"Topic5\", \"Topic5\", \"Topic5\", \"Topic5\", \"Topic5\", \"Topic5\", \"Topic5\", \"Topic5\", \"Topic5\"], \"logprob\": [30.0, 29.0, 28.0, 27.0, 26.0, 25.0, 24.0, 23.0, 22.0, 21.0, 20.0, 19.0, 18.0, 17.0, 16.0, 15.0, 14.0, 13.0, 12.0, 11.0, 10.0, 9.0, 8.0, 7.0, 6.0, 5.0, 4.0, 3.0, 2.0, 1.0, -9.5076, -9.2374, -9.5254, -9.5306, -9.715, -9.7277, -9.7335, -9.9725, -9.7519, -9.415, -9.9744, -9.9802, -9.9835, -9.4221, -9.766, -9.9904, -9.9939, -9.9932, -8.8984, -9.9965, -9.9969, -9.9977, -9.9984, -9.9986, -9.4396, -10.0006, -10.0018, -9.3074, -5.5792, -9.4496, -5.6316, -9.6053, -9.3293, -6.803, -9.7872, -6.7791, -9.3514, -8.3708, -9.0602, -9.6198, -6.8198, -5.0748, -5.2573, -4.5907, -9.0688, -3.9844, -6.8312, -6.4631, -4.0932, -7.2685, -4.6431, -5.8871, -5.9089, -7.1499, -6.2712, -7.1348, -5.8232, -7.417, -3.8438, -5.2527, -5.8175, -6.5427, -5.8717, -6.0509, -5.6967, -5.9918, -5.1887, -5.0536, -4.3614, -4.3613, -5.7149, -5.1529, -4.4189, -5.3389, -4.5419, -4.924, -4.3471, -5.1019, -5.3226, -5.3851, -5.2863, -5.301, -5.3569, -5.5763, -5.5115, -5.4088, -5.5521, -5.4224, -5.4994, -5.5579, -8.9115, -9.4411, -9.6308, -9.4536, -9.6474, -9.315, -9.8874, -9.6646, -9.8913, -9.8972, -9.6768, -9.9005, -9.6788, -9.9035, -9.9028, -9.3451, -9.9119, -9.9254, -9.9288, -9.7058, -8.4286, -9.934, -9.9378, -9.9398, -9.7221, -9.9476, -10.2349, -10.2352, -8.7619, -9.141, -9.3931, -9.1553, -9.1489, -7.7866, -9.4095, -9.0709, -8.6381, -4.7181, -7.5417, -8.5787, -4.9677, -8.542, -4.9429, -8.2823, -4.0738, -4.7995, -6.6299, -8.6489, -4.278, -5.7563, -4.8703, -4.9753, -5.4414, -5.482, -5.692, -4.0526, -6.9289, -3.9274, -4.205, -5.1903, -5.0071, -5.9467, -5.3988, -5.4835, -5.5493, -5.9736, -5.2294, -6.1717, -4.3572, -4.8339, -5.9553, -4.9669, -5.1504, -5.1798, -4.555, -5.2538, -5.7309, -5.5276, -5.356, -5.2869, -4.8135, -5.4875, -5.3321, -5.4046, -5.4792, -5.4795, -9.0051, -9.0092, -9.3977, -9.636, -9.6411, -9.4203, -9.6463, -9.6517, -9.6512, -9.6571, -9.6607, -9.6662, -9.443, -9.6798, -9.6821, -9.2787, -9.4615, -9.9775, -9.9785, -9.9786, -9.2849, -9.4791, -9.9858, -9.2913, -9.7054, -9.4822, -9.9976, -10.0006, -10.0011, -10.0033, -8.571, -9.724, -9.5119, -9.7293, -8.6214, -9.3497, -8.582, -7.3897, -8.6671, -8.9114, -7.5605, -4.012, -5.2876, -3.8496, -5.5156, -5.2558, -4.9434, -7.9958, -6.4315, -7.4918, -4.2134, -6.3293, -4.1883, -6.058, -7.2731, -7.4982, -6.5378, -5.2106, -5.0484, -4.7986, -4.4199, -5.8149, -5.7332, -6.3256, -6.1477, -5.1148, -5.038, -5.442, -4.2176, -5.1621, -5.5829, -5.3784, -5.1713, -5.6947, -4.5849, -5.7476, -4.8088, -5.4246, -5.7096, -5.8802, -5.6325, -5.3316, -5.5122, -5.4664, -5.5101, -5.5257, -5.532, -5.4796, -5.5163, -5.5228, -9.1288, -8.8533, -9.336, -9.3389, -9.3484, -9.5831, -9.3605, -9.5856, -9.6026, -9.6057, -9.3876, -9.6101, -9.2109, -9.6204, -9.6244, -9.6319, -9.6364, -9.6432, -9.936, -9.9359, -9.6504, -9.6506, -9.6518, -9.6529, -9.9412, -9.6552, -8.967, -9.9457, -9.9459, -9.9469, -9.2544, -9.4359, -9.4378, -8.761, -9.6621, -8.4925, -8.9048, -8.9146, -3.8739, -6.2053, -7.6855, -8.218, -7.7747, -5.0089, -8.308, -5.7601, -5.3549, -4.9228, -6.2379, -4.1765, -6.5284, -8.0567, -4.0772, -5.4398, -5.2707, -6.8268, -4.2879, -5.6437, -6.1875, -5.3741, -6.7811, -5.1632, -6.2697, -5.4303, -5.6425, -5.6954, -6.4613, -5.1714, -5.6467, -5.2095, -5.3037, -5.1405, -5.5004, -4.3796, -5.5218, -5.301, -5.2681, -5.1636, -4.8747, -5.3114, -4.9491, -5.3579, -5.3956, -5.4568, -5.4963, -5.2277, -5.5017, -8.9089, -9.0637, -9.1047, -9.5291, -9.5303, -9.5339, -9.5344, -9.5499, -9.5616, -9.3399, -8.5487, -9.3421, -9.5711, -9.575, -8.1466, -9.5922, -8.787, -9.8856, -9.6061, -9.0522, -9.899, -8.1683, -9.9055, -9.9053, -9.9086, -9.9085, -9.9088, -9.9098, -9.9133, -9.9144, -9.6306, -9.0873, -9.4195, -7.6467, -8.4507, -7.722, -7.7313, -8.6223, -8.2313, -8.2505, -7.6176, -8.1102, -5.3657, -3.6461, -4.0071, -5.8487, -5.5148, -4.9283, -4.945, -5.2976, -5.0463, -5.9057, -5.0948, -5.4639, -7.6626, -5.0713, -4.9327, -4.251, -4.561, -5.5054, -4.4499, -5.346, -5.6209, -6.2513, -5.6853, -5.5788, -4.586, -5.7244, -5.0569, -5.8925, -5.3189, -5.6039, -5.3215, -5.6208, -5.584, -5.3613, -4.9248, -4.9702, -5.3846, -5.4832, -5.5395, -5.4758, -5.5469, -5.5157], \"loglift\": [30.0, 29.0, 28.0, 27.0, 26.0, 25.0, 24.0, 23.0, 22.0, 21.0, 20.0, 19.0, 18.0, 17.0, 16.0, 15.0, 14.0, 13.0, 12.0, 11.0, 10.0, 9.0, 8.0, 7.0, 6.0, 5.0, 4.0, 3.0, 2.0, 1.0, 1.1597, 1.1434, 1.1426, 1.1379, 1.1366, 1.1245, 1.1194, 1.1033, 1.1018, 1.1016, 1.1016, 1.0962, 1.0939, 1.0929, 1.0871, 1.0856, 1.0833, 1.0828, 1.0812, 1.0805, 1.0802, 1.0795, 1.0794, 1.0783, 1.0778, 1.0767, 1.0759, 1.0725, 1.0696, 1.069, 1.0544, 1.069, 1.0567, 0.9296, 1.0678, 0.874, 1.0367, 0.9593, 1.0086, 1.0541, 0.7895, 0.6108, 0.6167, 0.5298, 1.001, 0.4108, 0.7414, 0.6832, 0.3563, 0.77, 0.3968, 0.5578, 0.5593, 0.7348, 0.5848, 0.7153, 0.4982, 0.7473, 0.1137, 0.3604, 0.4308, 0.5603, 0.4177, 0.4494, 0.3645, 0.4049, 0.2143, 0.1723, -0.0221, -0.0268, 0.3135, 0.1191, -0.1339, 0.1775, -0.1183, 0.0084, -0.2326, 0.0475, 0.1454, 0.1425, -0.0109, -0.0021, 0.0417, 0.1804, 0.1022, -0.1416, 0.0612, -0.2599, -0.1319, -0.3181, 1.2322, 1.2151, 1.2068, 1.2026, 1.1908, 1.1862, 1.176, 1.1757, 1.172, 1.1672, 1.1647, 1.164, 1.1625, 1.1612, 1.1611, 1.1602, 1.1527, 1.1391, 1.1382, 1.1341, 1.1328, 1.1325, 1.129, 1.1255, 1.1228, 1.1211, 1.1192, 1.119, 1.1187, 1.1161, 1.1151, 1.1018, 1.1005, 1.0298, 1.1, 1.0769, 1.037, 0.6472, 0.908, 0.9918, 0.4734, 0.9679, 0.4291, 0.9238, 0.2607, 0.363, 0.6571, 0.9785, 0.1716, 0.4503, 0.279, 0.2966, 0.378, 0.3649, 0.4055, 0.0619, 0.649, 0.0301, 0.08, 0.2777, 0.2327, 0.4322, 0.3118, 0.3301, 0.3369, 0.4334, 0.2561, 0.4685, -0.0179, 0.0985, 0.3969, 0.073, 0.1167, 0.1192, -0.1315, 0.1137, 0.2945, 0.1659, 0.047, -0.0115, -0.4183, 0.1262, -0.1061, -0.006, 0.0467, 0.0369, 1.5575, 1.5529, 1.4999, 1.4847, 1.4796, 1.4774, 1.4739, 1.4696, 1.4693, 1.4625, 1.4605, 1.4541, 1.4539, 1.4406, 1.4393, 1.4348, 1.4333, 1.4293, 1.4288, 1.4287, 1.4276, 1.4209, 1.4209, 1.4208, 1.4123, 1.4099, 1.4084, 1.4068, 1.4052, 1.4027, 1.3692, 1.3968, 1.3829, 1.392, 1.3168, 1.366, 1.2801, 1.1345, 1.273, 1.2878, 1.037, 0.3832, 0.5644, 0.2649, 0.5462, 0.4779, 0.4022, 1.0725, 0.6853, 0.9457, 0.1259, 0.6484, 0.0966, 0.5565, 0.8758, 0.9278, 0.669, 0.3152, 0.2236, 0.1338, 0.0037, 0.4182, 0.3858, 0.5623, 0.4961, 0.1522, 0.1244, 0.2515, -0.26, 0.0778, 0.234, 0.1492, 0.0547, 0.2552, -0.2504, 0.2125, -0.3592, -0.026, 0.1766, 0.2896, 0.0862, -0.211, -0.0711, -0.1675, -0.1381, -0.1582, -0.1667, -0.3302, -0.2409, -0.2556, 1.5817, 1.5673, 1.556, 1.5537, 1.5436, 1.5324, 1.5324, 1.5287, 1.5129, 1.5104, 1.5067, 1.5052, 1.4956, 1.4935, 1.4899, 1.4824, 1.4776, 1.4728, 1.466, 1.466, 1.4648, 1.4636, 1.4623, 1.4613, 1.4603, 1.4587, 1.4578, 1.456, 1.4555, 1.4552, 1.4526, 1.4534, 1.4511, 1.427, 1.4527, 1.3625, 1.3925, 1.386, 0.5496, 0.9235, 1.1486, 1.2337, 1.1541, 0.5707, 1.1938, 0.6342, 0.4845, 0.3442, 0.6626, 0.1085, 0.7117, 1.1064, 0.0372, 0.4045, 0.3426, 0.7791, 0.0466, 0.4314, 0.582, 0.3194, 0.7537, 0.1824, 0.5507, 0.2544, 0.3074, 0.3173, 0.5824, 0.0684, 0.2448, 0.0577, 0.0949, 0.0089, 0.1654, -0.422, 0.1251, -0.0021, -0.1476, -0.2312, -0.4795, -0.149, -0.6098, -0.1319, -0.1202, -0.0539, -0.0108, -0.7781, -0.1342, 1.6532, 1.6524, 1.6106, 1.5915, 1.5905, 1.5857, 1.5854, 1.5703, 1.5587, 1.5583, 1.5562, 1.5562, 1.5493, 1.5454, 1.5264, 1.5262, 1.523, 1.5218, 1.5126, 1.5115, 1.5074, 1.5047, 1.5006, 1.4999, 1.4983, 1.4979, 1.4977, 1.496, 1.4917, 1.4908, 1.4875, 1.4715, 1.4759, 1.3546, 1.4025, 1.3457, 1.3303, 1.3942, 1.3314, 1.3084, 1.2205, 1.2561, 0.6849, 0.3115, 0.3322, 0.6375, 0.5105, 0.3386, 0.3304, 0.3871, 0.2993, 0.5423, 0.2727, 0.3881, 1.0428, 0.1959, 0.1072, -0.1365, -0.1114, 0.2549, -0.1649, 0.1799, 0.2775, 0.5105, 0.2562, 0.2015, -0.2515, 0.2482, -0.1244, 0.3192, -0.02, 0.1148, -0.0955, 0.0898, 0.0628, -0.1215, -0.5012, -0.575, -0.264, -0.1113, -0.0231, -0.3264, -0.1483, -0.3532]}, \"token.table\": {\"Topic\": [2, 1, 1, 2, 3, 4, 5, 3, 5, 1, 4, 1, 2, 3, 4, 1, 2, 3, 4, 5, 1, 2, 3, 4, 5, 1, 2, 3, 4, 5, 5, 4, 1, 2, 3, 4, 5, 1, 1, 2, 3, 4, 5, 1, 2, 3, 4, 5, 1, 2, 3, 4, 5, 1, 2, 3, 5, 5, 4, 1, 2, 3, 4, 5, 1, 2, 3, 4, 5, 4, 2, 4, 1, 2, 3, 4, 5, 2, 3, 1, 2, 3, 4, 5, 3, 2, 1, 2, 3, 4, 5, 1, 2, 3, 4, 5, 3, 4, 1, 5, 2, 1, 2, 3, 4, 5, 5, 1, 2, 3, 4, 5, 5, 1, 2, 3, 4, 5, 1, 2, 3, 4, 5, 2, 1, 2, 3, 4, 5, 2, 2, 3, 5, 1, 2, 3, 4, 5, 2, 1, 2, 3, 4, 5, 4, 1, 2, 3, 4, 5, 1, 1, 1, 2, 3, 4, 5, 2, 2, 5, 3, 1, 1, 2, 3, 4, 5, 1, 2, 3, 4, 5, 3, 1, 2, 3, 4, 5, 1, 2, 3, 4, 5, 1, 1, 2, 3, 4, 5, 1, 2, 3, 4, 5, 4, 5, 4, 1, 2, 3, 4, 5, 2, 1, 2, 3, 4, 5, 1, 2, 3, 4, 5, 1, 2, 3, 4, 5, 1, 2, 3, 4, 5, 3, 3, 1, 2, 3, 4, 5, 2, 1, 1, 2, 3, 4, 5, 1, 4, 2, 4, 5, 2, 3, 1, 2, 3, 4, 5, 1, 2, 3, 4, 5, 2, 3, 1, 2, 3, 4, 5, 1, 2, 3, 4, 5, 3, 4, 1, 2, 3, 4, 5, 1, 2, 3, 4, 5, 2, 1, 2, 3, 4, 5, 3, 1, 2, 3, 4, 5, 1, 2, 3, 4, 5, 1, 2, 3, 4, 5, 1, 2, 3, 4, 5, 2, 3, 4, 5, 2, 1, 2, 3, 4, 5, 3, 1, 2, 1, 2, 3, 4, 5, 1, 2, 4, 5, 1, 2, 3, 4, 5, 1, 2, 3, 4, 5, 3, 5, 1, 2, 3, 4, 5, 1, 4, 5, 1, 2, 3, 4, 5, 1, 2, 3, 4, 5, 3, 3, 1, 3, 1, 2, 3, 4, 5, 1, 2, 3, 4, 5, 4, 3, 1, 1, 3, 4, 5, 1, 2, 3, 4, 5, 1, 2, 3, 4, 5, 1, 2, 3, 4, 5, 1, 1, 1, 2, 3, 4, 5, 1, 2, 3, 4, 5, 1, 2, 3, 4, 5, 1, 2, 3, 4, 5, 5, 1, 5, 3, 1, 2, 3, 5, 1, 2, 3, 4, 1, 4, 5, 4, 1, 1, 2, 3, 4, 5, 1, 2, 3, 4, 5, 1, 2, 3, 4, 5, 1, 3, 1, 1, 2, 3, 4, 5, 3, 5, 1, 2, 3, 4, 5, 1, 2, 3, 4, 5, 1, 2, 3, 4, 5, 1, 2, 3, 4, 5, 1, 2, 3, 4, 5, 1, 2, 3, 4, 5, 1, 2, 3, 4, 5, 3, 4, 2, 4, 2, 2, 4, 5, 1, 2, 3, 4, 5, 1, 2, 3, 4, 5, 4, 1, 2, 3, 4, 5, 5, 3, 1, 2, 3, 4, 5, 5, 1, 2, 3, 4, 5, 1, 2, 3, 4, 5, 1, 2, 3, 4, 5, 5, 2, 1, 2, 3, 4, 5, 1, 2, 3, 4, 5, 1, 2, 3, 4, 5, 4, 1, 2, 3, 4, 5, 2, 1, 2, 3, 4, 5, 3, 1, 2, 3, 4, 5, 3, 1, 2, 3, 4, 5, 1, 2, 3, 5, 1, 2, 3, 4, 5, 1, 2, 3, 4, 5, 1, 2, 3, 4, 5, 1, 2, 3, 4, 5, 1, 2, 3, 4, 5, 1, 2, 3, 4, 5, 2, 1, 4, 1, 2, 3, 4, 5, 1, 4, 5, 1, 4, 4, 1, 2, 3, 4, 5, 1, 2, 3, 4, 5, 4, 5, 2, 1, 3, 1, 2, 3, 4, 5, 2, 3, 4, 5, 2, 3, 1, 4, 1, 2, 3, 4, 5, 1, 2, 3, 4, 5, 1, 2, 3, 4, 1, 2, 3, 4, 5, 1, 2, 3, 4, 5, 1, 2, 2, 1, 2, 3, 4, 5, 5, 1, 1, 2, 3, 4, 5, 1, 2, 3, 1, 2, 3, 4, 5, 2, 4, 1, 2, 3, 4, 5, 1, 2, 3, 4, 5, 1, 2, 4, 1, 2, 3, 4, 5, 1, 2, 3, 4, 5, 1, 2, 5, 2, 3, 1, 5, 5, 1, 3, 1, 2, 3, 4, 5, 5, 1, 3, 4, 5, 2, 5, 1, 2, 3, 4, 5, 5, 1, 4, 1, 2, 3, 4, 5, 1, 1, 2, 3, 4, 5, 4, 2, 3, 1, 2, 4, 2, 1, 2, 3, 4, 5, 1, 3, 4, 4, 1, 2, 3, 4, 5, 1, 4, 1, 2, 3, 4, 5, 2, 3, 4, 4, 1, 1, 2, 1, 2, 3, 4, 5, 3, 1, 2, 3, 4, 5, 3, 1, 2, 3, 4, 5, 2, 4, 1, 2, 3, 4, 5, 4, 5, 1, 2, 3, 4, 5, 1, 2, 3, 4, 5, 1, 2, 3, 4, 5, 1, 2, 3, 4, 5, 1, 2, 3, 5, 1, 2, 3, 4, 5, 4, 1, 2, 3, 4, 5, 3, 1, 2, 3, 4, 5, 1, 1, 1, 2, 3, 4, 5, 1, 2, 3, 4, 5, 1, 2, 3, 4, 5, 5, 1, 2, 3, 4, 5, 1, 1, 2, 3, 4, 5, 5, 5, 5, 1, 2, 3, 4, 5, 1, 2, 1, 3, 4, 4, 5, 1, 2, 3, 4, 5, 1, 2, 3, 4, 5, 1, 4, 1, 2, 1, 2, 3, 4, 5, 4, 1, 2, 3, 4, 5, 3, 3, 5, 1, 2, 3, 4, 5, 1, 4, 4, 1, 2, 3, 4, 5, 3, 4, 1, 5, 1, 2, 3, 4, 5, 1, 4, 5, 1, 2, 3, 4, 5, 1, 2, 3, 4, 5, 2, 1, 2, 3, 4, 5, 1, 2, 3, 4, 5, 5], \"Freq\": [0.7350526713172313, 0.7788192088354728, 0.09412803390270316, 0.09412803390270316, 0.18825606780540632, 0.09412803390270316, 0.564768203416219, 0.7246649691144138, 0.8162291582124278, 0.13508439494906616, 0.8105063696943969, 0.7600837315477385, 0.0950104664434673, 0.0950104664434673, 0.0950104664434673, 0.10481071023761174, 0.06987380682507449, 0.5240535511880587, 0.3144321307128352, 0.034936903412537246, 0.2791956681506329, 0.20415493520896083, 0.13021774245760745, 0.2317434399669285, 0.1555991668349377, 0.40401882710366355, 0.1957616997306411, 0.12287170515008324, 0.11454142005516234, 0.1624405593509575, 0.7254637610719606, 0.8117371310922895, 0.2595122426086992, 0.21778163073192344, 0.17996326371859542, 0.1512734680533121, 0.1916999983089386, 0.8325075629318534, 0.16300059940216569, 0.6520023976086627, 0.05433353313405523, 0.10866706626811046, 0.05433353313405523, 0.1657680661482571, 0.14065169248943024, 0.1808378903435532, 0.41190852800476, 0.10046549463530732, 0.24417250375269448, 0.2697403051927672, 0.17641782993650176, 0.10610637597630179, 0.2019856313765745, 0.08354891071450321, 0.08354891071450321, 0.6683912857160257, 0.16709782142900642, 0.7231523289373313, 0.7204469219949117, 0.25004231757993933, 0.2721390805288642, 0.1546773406424741, 0.19421891644581335, 0.130254602646294, 0.23046222251723983, 0.03841037041953997, 0.11523111125861991, 0.49933481545401964, 0.15364148167815989, 0.8108780314455575, 0.8230733682588356, 0.7206039330132132, 0.3782579812604636, 0.21417346884154104, 0.1157227613901875, 0.11399555599630411, 0.17790215556998973, 0.8192863211002752, 0.1024107901375344, 0.11923557974810779, 0.27354044765742375, 0.13326329501259107, 0.29458202055414867, 0.1823602984382825, 0.7246667065186354, 0.7715384941584572, 0.2487220135916966, 0.19739842348547348, 0.3039935721676292, 0.1184390540912841, 0.13423092797012198, 0.26500590836327903, 0.3882644703927111, 0.08936245747133827, 0.1201770979786963, 0.1355844182323753, 0.7784388391859273, 0.866433076830468, 0.7802114829291577, 0.8157680596261586, 0.7716868167257579, 0.17083608374010023, 0.3758393842282205, 0.15131195988408877, 0.1293473205460759, 0.17327659922210167, 0.815858890598442, 0.43237671494664415, 0.27107555703908776, 0.12097586843066727, 0.06944910965464232, 0.1097743991315314, 0.7238177340940735, 0.3690620887560889, 0.09687879829847335, 0.14301155939298446, 0.29524967100487115, 0.09687879829847335, 0.2673579172261089, 0.09722106080949415, 0.12152632601186768, 0.048610530404747075, 0.43749477364272366, 0.7705475779245092, 0.27099250928188123, 0.20232472412448146, 0.18883640918284936, 0.16063356885034588, 0.17534809424121728, 0.7715027751639821, 0.11413266498092385, 0.2282653299618477, 0.5706633249046192, 0.26362624912564175, 0.21112924713525422, 0.1723271152293156, 0.18602198531376452, 0.16662091936079523, 0.8203740217766007, 0.1345009418790479, 0.21576192759763935, 0.3054292221836713, 0.11348516971044667, 0.23117349385461358, 0.8105769813814413, 0.207534127874781, 0.2213697363997664, 0.14389032865984816, 0.2670272445322182, 0.1591094980373321, 0.7817967966856753, 0.7804272090297011, 0.4601280126126179, 0.2055891120184037, 0.10279455600920186, 0.07831966172129666, 0.15174434458501226, 0.8220934313033812, 0.7371789790707791, 0.14743579581415583, 0.8166888798995672, 0.7813590105273048, 0.10410219335262616, 0.17350365558771028, 0.0694014622350841, 0.0694014622350841, 0.5899124289982149, 0.17108027194849323, 0.21773852793444595, 0.29895845502110435, 0.19527344171898725, 0.1175096817423994, 0.778071792721843, 0.06395814204105145, 0.06395814204105145, 0.1279162840821029, 0.06395814204105145, 0.703539562451566, 0.265823156912838, 0.3553350362814467, 0.11121172891251385, 0.1600363903863004, 0.10714300712303164, 0.7814405067632896, 0.06396160050861828, 0.06396160050861828, 0.12792320101723656, 0.06396160050861828, 0.7035776055948011, 0.2565052092475344, 0.23891098911864214, 0.19693179723216236, 0.08920578275876948, 0.21853873423255638, 0.678256473040836, 0.13565129460816722, 0.7208746653934106, 0.3480117210791131, 0.20532691543667672, 0.07656257863740489, 0.10788363353452506, 0.2610087908093348, 0.8258449799100454, 0.18233736357929659, 0.18233736357929659, 0.03038956059654943, 0.5166225301413403, 0.06077912119309886, 0.39529800034377555, 0.15994716776915774, 0.2546097772651899, 0.10184391090607595, 0.08813415366871957, 0.3743122609839211, 0.28848928401799445, 0.12132404775906099, 0.07548285925918852, 0.14028093022141427, 0.5373136008728605, 0.19632612339585287, 0.09299658476645663, 0.07233067704057737, 0.10332953862939626, 0.8157034712476902, 0.8157333872586057, 0.19355946019906228, 0.2332639648552802, 0.3424513526598794, 0.12407657705068095, 0.09926126164054476, 0.7722061146049308, 0.8653546334035146, 0.11179868696062437, 0.4707313135184184, 0.12356696979858484, 0.20006080824532782, 0.10003040412266391, 0.17977629049271174, 0.719105161970847, 0.6881963504933606, 0.11469939174889343, 0.11469939174889343, 0.18086061012449559, 0.7234424404979823, 0.260301483110121, 0.3320668452759955, 0.12893437948445247, 0.10825622428411576, 0.17150705195573396, 0.16651749366914656, 0.027752915611524428, 0.08325874683457328, 0.22202332489219542, 0.5273053966189641, 0.7706836323919837, 0.7242022659807671, 0.30184792356050966, 0.24006026135517042, 0.20156958653872958, 0.14788522429474632, 0.108381636983136, 0.2476840410426838, 0.38151332128348875, 0.1777732230064424, 0.08189552969959707, 0.11185730885798624, 0.6545180315843468, 0.7207424287231394, 0.19163831034921053, 0.36536649823587797, 0.16656413890165025, 0.1307438939765642, 0.14686300419285292, 0.2903387881162025, 0.27598744117509744, 0.1611766656462569, 0.17000826376386002, 0.10266732811713625, 0.8199076555054513, 0.165848676883883, 0.027641446147313835, 0.13820723073656918, 0.5251874767989628, 0.13820723073656918, 0.7237005699879115, 0.2993820552307505, 0.2685633142511144, 0.09098866384463986, 0.133547877578423, 0.20692583229184225, 0.5480378207264498, 0.11743667586995353, 0.1722404579425985, 0.07046200552197213, 0.08612022897129926, 0.5517315980549278, 0.14146964052690456, 0.155616604579595, 0.04244089215807137, 0.09902874836883319, 0.15664410309228421, 0.2869815629171619, 0.22360646777295534, 0.22599798079726502, 0.10761808609393572, 0.634964904021506, 0.05772408218377327, 0.11544816436754654, 0.11544816436754654, 0.85477355444086, 0.3145912359194174, 0.2891182613510435, 0.10826014191558898, 0.14519595503973112, 0.14264865758289372, 0.7237259461634673, 0.7781749856973393, 0.12969583094955656, 0.2589719682569997, 0.2400803961045134, 0.13617674926583875, 0.1456225353420819, 0.21804022859327937, 0.06111014377289654, 0.6722115815018619, 0.06111014377289654, 0.24444057509158615, 0.05126253415968841, 0.15378760247906523, 0.20505013663875363, 0.5638878757565725, 0.7231745638446283, 0.37623993136908274, 0.24604546831467874, 0.10592091909510834, 0.11695434816751546, 0.15557134992094038, 0.8158940936958714, 0.9076308044301135, 0.23305355670148575, 0.2132406462614459, 0.1742864494640794, 0.28476861107040335, 0.09503480770391998, 0.19702125995415765, 0.09851062997707882, 0.7880850398166306, 0.22921006189877938, 0.26341615531989826, 0.19120329143086953, 0.1830172177916274, 0.13302369663768446, 0.22717792856682506, 0.27323805841370713, 0.13427698870616464, 0.17409167721787625, 0.1904859607226987, 0.8165773509318454, 0.6529847541830452, 0.6960593901008054, 0.17401484752520135, 0.44565251666821243, 0.1516971501518121, 0.14090979725212768, 0.14158400680835795, 0.1206835105652194, 0.16167397220915128, 0.05389132406971709, 0.10778264813943418, 0.538913240697171, 0.10778264813943418, 0.8106172166003476, 0.723933731431076, 0.8643952486381227, 0.05728128010652774, 0.05728128010652774, 0.2864064005326387, 0.5728128010652774, 0.04009777428262928, 0.6014666142394391, 0.24058664569577567, 0.08019554856525855, 0.04009777428262928, 0.22054264200073972, 0.18378553500061642, 0.44108528400147945, 0.07351421400024657, 0.09189276750030821, 0.5213947184781635, 0.21980365582902975, 0.040893703410052044, 0.05111712926256506, 0.1737982394927212, 0.7807421584591887, 0.7812063112350961, 0.764595169632576, 0.12121630738077424, 0.03108110445660878, 0.04040543579359142, 0.04662165668491317, 0.2016320074131468, 0.21871946566849823, 0.15378712429816283, 0.11448597031085454, 0.3109917402473959, 0.19544182631620013, 0.2776020845128193, 0.28009178930665624, 0.15436169721789056, 0.09211907737196695, 0.5455040768469945, 0.12835390043458694, 0.11765774206503804, 0.13905005880413587, 0.06417695021729347, 0.8160462663538636, 0.6963069805313613, 0.17407674513284033, 0.8165580148222499, 0.057203425102655754, 0.7436445263345248, 0.057203425102655754, 0.17161027530796727, 0.08337968093137173, 0.08337968093137173, 0.6670374474509738, 0.16675936186274345, 0.831438513007051, 0.810826141616462, 0.8153316817555172, 0.810792731314517, 0.7815089623559469, 0.27479742733418117, 0.32129093145385323, 0.1249079215155369, 0.16584996245674066, 0.11311106226129175, 0.1662754273651772, 0.23374951383220563, 0.2096516258082669, 0.31086275550880954, 0.08193281928139166, 0.7516458839620788, 0.12258602399381544, 0.03871137599804698, 0.041937323997884225, 0.04516327199772147, 0.8319626540391953, 0.7242778168921474, 0.7434388639494736, 0.40991124571472576, 0.14199539884235599, 0.21969099443534323, 0.12592044803001382, 0.09912886334277682, 0.8162451684005972, 0.7239983486394984, 0.324603338616977, 0.2548538608976265, 0.13771050729205084, 0.15559498875855093, 0.12697981841215078, 0.29571983674678154, 0.32709594674644005, 0.21727956174763524, 0.09412832999897557, 0.06667423374927435, 0.22245887597526767, 0.2548165306625793, 0.23762652660994502, 0.09707296406193498, 0.18807886786999903, 0.21572391887813935, 0.18253562366611792, 0.15882969851467404, 0.2121680301054228, 0.23113277022657788, 0.20840745203059102, 0.4641802340681346, 0.14726311693070687, 0.10764847728852842, 0.0723397767378911, 0.27689379545295967, 0.23997462272589837, 0.26458740454393925, 0.11896177878719748, 0.10050219242366684, 0.2733339763719128, 0.24128178370289372, 0.16916435019760076, 0.18073875310585766, 0.1353314801580806, 0.8161221382810387, 0.8656527175773078, 0.6882789189305859, 0.11471315315509764, 0.7715413579222938, 0.1803496903084619, 0.1803496903084619, 0.6312239160796166, 0.17721499568070667, 0.23128058758329514, 0.3033680434534131, 0.15318584372400068, 0.13516397975647118, 0.37641512692385753, 0.11440067582979985, 0.12916205335622563, 0.2841565173836964, 0.09594895392176761, 0.8109773248380071, 0.20007301855616474, 0.3407040533383965, 0.20732204096762, 0.16382790649888854, 0.08988787790204504, 0.7230184507016495, 0.8704987999058361, 0.16081523178395532, 0.31235266173422094, 0.2845192562331517, 0.13607442689411606, 0.10514842078181695, 0.7239807591737477, 0.6614759768663914, 0.04593583172683273, 0.02756149903609964, 0.07349733076293237, 0.18374332690733092, 0.31351454101536885, 0.2524142630539072, 0.14423672174508984, 0.13722521443803684, 0.15325151685415794, 0.2871315711872891, 0.3749321342776172, 0.07593562213217564, 0.15424423245598176, 0.10678446862337199, 0.8145340503625819, 0.7730864188748938, 0.39373479216819723, 0.21256847675338256, 0.12560864535427152, 0.1570108066928394, 0.11353089099328387, 0.24305486241716143, 0.19285874952666068, 0.10567602713789627, 0.16115594138529182, 0.2958928759861095, 0.2148189219546688, 0.26501025885996526, 0.16061227809694864, 0.14254339681104192, 0.2148189219546688, 0.8107935236604983, 0.15344635265604503, 0.07672317632802252, 0.07672317632802252, 0.6137854106241801, 0.07672317632802252, 0.7710186416379315, 0.23729722094965117, 0.33841819578615023, 0.12539000879725887, 0.16179355973839854, 0.13752452577763874, 0.8152135515531631, 0.2642128741129828, 0.2681230012140206, 0.1982993029812027, 0.1301513735059725, 0.13853021729391063, 0.8165772490722195, 0.23103251489026422, 0.1944523666993057, 0.23103251489026422, 0.15594694755092833, 0.18482601191221137, 0.10282316146417557, 0.719762130249229, 0.10282316146417557, 0.10282316146417557, 0.6278926937172188, 0.12727554602376057, 0.11030547322059248, 0.05091021840950422, 0.08485036401584037, 0.5766663439745485, 0.11370885655836169, 0.09746473419288144, 0.08934267301014132, 0.1218309177411018, 0.3034640999926943, 0.3206413131998279, 0.13741770565706912, 0.10783472735589451, 0.13073767829873936, 0.32314197364776615, 0.19981725906721773, 0.2154279824318441, 0.07805361682313193, 0.18420653570259135, 0.2937592460329198, 0.2505593569104316, 0.13381429069648784, 0.10768362605654377, 0.21410286511438056, 0.1237338936375103, 0.2947369151814852, 0.18768624315802124, 0.24607751880718343, 0.1473684575907426, 0.8229239376155899, 0.8326858283845732, 0.6507858772003267, 0.22194888644547003, 0.2283512581698586, 0.16859578874223205, 0.2902408515056147, 0.09070026609550458, 0.1550884807731638, 0.1550884807731638, 0.6203539230926552, 0.21575471018303582, 0.6472641305491075, 0.7219772033035522, 0.24140914778722836, 0.1908816517387387, 0.09544082586936935, 0.3368499736565977, 0.13473998946263907, 0.19066304499381834, 0.30688394493028925, 0.18762459009351845, 0.17623038421739384, 0.13900931168872013, 0.12093847326570309, 0.7256308395942186, 0.8548434749813166, 0.1807887084559479, 0.7231548338237916, 0.13387588097286854, 0.22024741708439663, 0.33253041402938316, 0.1900173794453618, 0.12092015055613932, 0.15454111611024055, 0.6181644644409622, 0.07727055805512027, 0.07727055805512027, 0.21703234450406722, 0.6510970335122016, 0.7804238016133523, 0.8661949785075416, 0.15958845823752416, 0.17225420889129592, 0.259225696713862, 0.19758571019883941, 0.2110958442295293, 0.10862860256684946, 0.678928766042809, 0.08147145192513709, 0.08147145192513709, 0.08147145192513709, 0.1922764009593964, 0.7050134701844535, 0.06409213365313213, 0.06409213365313213, 0.10474165000759972, 0.06982776667173314, 0.10474165000759972, 0.13965553334346628, 0.5935360167097318, 0.23113315418068095, 0.31368070924520985, 0.1524701899427181, 0.16218166700913328, 0.1398452697563784, 0.22764064851185564, 0.682921945535567, 0.7714134275822948, 0.6809466666712741, 0.09079288888950321, 0.045396444444751605, 0.09079288888950321, 0.09079288888950321, 0.778008689572736, 0.8332130874989998, 0.2059558674346818, 0.11696259138265881, 0.19069987725433502, 0.21612652755491302, 0.2695224931861268, 0.1464189122446807, 0.7320945612234034, 0.8137155625320666, 0.2078226442013599, 0.25860729984249886, 0.22631220329400759, 0.1705969985614959, 0.13682273728559283, 0.6870874817184223, 0.8117036376157603, 0.21819722889059842, 0.13091833733435906, 0.4800339035593166, 0.13091833733435906, 0.021819722889059843, 0.21479045658194365, 0.19779265066538695, 0.22406198708188366, 0.22406198708188366, 0.14061821258242355, 0.7440122487798795, 0.1488024497559759, 0.1488024497559759, 0.09799513578973591, 0.1884521842110306, 0.18091409684258938, 0.34675201894829627, 0.18091409684258938, 0.2619038070370101, 0.2739916750541029, 0.14666613194072567, 0.16358914716465553, 0.15391885275098133, 0.07658330223793552, 0.22974990671380657, 0.6126664179034842, 0.21643966017853888, 0.6493189805356167, 0.7449254483382584, 0.14898508966765167, 0.6532914212017585, 0.7821614753889778, 0.08690683059877531, 0.22957552111280685, 0.2727288145550638, 0.14844732944136382, 0.143268934228293, 0.20627274265398812, 0.7243307513396277, 0.08354439417153249, 0.5848107592007274, 0.08354439417153249, 0.08354439417153249, 0.7381833498904036, 0.1476366699780807, 0.5613583036054192, 0.11227166072108383, 0.03742388690702794, 0.12474628969009313, 0.14969554762811177, 0.7235728082452814, 0.21585030789040885, 0.6475509236712265, 0.482812917117625, 0.17082324340279606, 0.10795079965037807, 0.10320570955585595, 0.13523506769388022, 0.8342014447727462, 0.47028621128436426, 0.149115140163335, 0.149115140163335, 0.09941009344222333, 0.12999781450136896, 0.72079751505189, 0.217013652903548, 0.6510409587106439, 0.15743451809197395, 0.7084553314138828, 0.07871725904598698, 0.7732973233464692, 0.08903487321904158, 0.22663422273937855, 0.15378750828743545, 0.3561394928761663, 0.17806974643808315, 0.7845319441255147, 0.13075532402091913, 0.8113673526619775, 0.865695659107347, 0.18995887609574205, 0.3265959624102232, 0.1233066388691659, 0.09831204990919984, 0.2616100311143114, 0.17987971430291036, 0.7195188572116414, 0.23418194885999244, 0.349878983118203, 0.12684855563249592, 0.1449697778657096, 0.1449697778657096, 0.11980657815205889, 0.11980657815205889, 0.5990328907602944, 0.8108828118889259, 0.8649889915637097, 0.2054518222338942, 0.8218072889355768, 0.27030658763689586, 0.36271909623070636, 0.08548157044927475, 0.11551563574226317, 0.16634251546885898, 0.6524187508469492, 0.31164942536879714, 0.2187539235761749, 0.183543531767681, 0.14383819632406022, 0.14233988177901793, 0.8160603821386716, 0.10138098623632238, 0.1622095779781158, 0.5474573256761408, 0.06082859174179343, 0.12165718348358685, 0.21408673905386755, 0.6422602171616026, 0.12393005491133377, 0.16390749197950596, 0.2838398031840225, 0.3198194965453775, 0.11193682379088211, 0.8123924777967853, 0.8151988875611814, 0.397096480131816, 0.16708431131229415, 0.12368578889351646, 0.1019865276841276, 0.20831290761013296, 0.26396637840696185, 0.2133859945205979, 0.16438624763068282, 0.15806369964488734, 0.2007408985490069, 0.23290078017093463, 0.2241451117434559, 0.16985996749308765, 0.25216325071138784, 0.11907709061371094, 0.45926724103831185, 0.19460476315182706, 0.11676285789109624, 0.10378920701430777, 0.127141778592527, 0.7817943272789939, 0.7734501739783841, 0.1558518151349939, 0.7792590756749695, 0.2854323688338425, 0.24349680753597938, 0.21914712678238144, 0.14339256443785453, 0.10686804330745762, 0.812292384774269, 0.25528950234925646, 0.31550218882393066, 0.1351713369839625, 0.17203624707049772, 0.12196141086962071, 0.8158930403085524, 0.15056412063211352, 0.6022564825284541, 0.07528206031605676, 0.056461545237042575, 0.11292309047408515, 0.7813755954038366, 0.7813199801547215, 0.16834664170354863, 0.15748556804525515, 0.33669328340709725, 0.2172214731658692, 0.11947181024122805, 0.12538064866935175, 0.1532430150403188, 0.4179354955645058, 0.22289893096773641, 0.06965591592741763, 0.4588335697201257, 0.14956453377617357, 0.07351477083913616, 0.11660963650345736, 0.20279936783209976, 0.7241107296154349, 0.3593682218987423, 0.23233573415779155, 0.09025992550014923, 0.1420758086576423, 0.17717689079658924, 0.7811473801760206, 0.14166206288725344, 0.4643367616859974, 0.18888275051633793, 0.09444137525816897, 0.11018160446786379, 0.6533697492512114, 0.8158425107710585, 0.8140053229785699, 0.25070066073861014, 0.17750338753025682, 0.25619045622923664, 0.12077550079378299, 0.1939727740021363, 0.7804240165058715, 0.7747862457177543, 0.1082514602917322, 0.6495087617503932, 0.1082514602917322, 0.8119023434185553, 0.8158187532027031, 0.2270592094597163, 0.18921600788309692, 0.2155417133277017, 0.2254138528694285, 0.14150066676475073, 0.19603848632132811, 0.03267308105355469, 0.09801924316066406, 0.06534616210710938, 0.620788540017539, 0.7609297047749807, 0.19023242619374517, 0.7422591470593202, 0.14845182941186402, 0.38997102304687287, 0.26122460873953207, 0.10511180684995457, 0.06903793230973347, 0.17477170251382979, 0.8106866668929802, 0.09296563089596187, 0.13015188325434662, 0.44623502830061695, 0.148745009433539, 0.18593126179192374, 0.7246720082192063, 0.7257897027118214, 0.18144742567795535, 0.20248696234667485, 0.3494306259940882, 0.19686232450371166, 0.14131902580445016, 0.1103835176681526, 0.2388232604795225, 0.7164697814385674, 0.8119265588555967, 0.2813054528595509, 0.20551331012019003, 0.15887199151135256, 0.20988593373976852, 0.14429657944609087, 0.7242123079368536, 0.7203547476343469, 0.21715328101203676, 0.6514598430361103, 0.21181176468293023, 0.39017956652118724, 0.16164582041592043, 0.115195872020541, 0.12076986582798653, 0.7828795771897421, 0.13047992953162368, 0.8142121738076905, 0.48556591277559413, 0.2578226085534128, 0.09883199994547491, 0.08880556516839774, 0.06875269561424342, 0.21606567633563262, 0.2359866252176413, 0.20074186950331824, 0.14710854559021797, 0.20227425018654968, 0.6872170770628534, 0.17172026970631526, 0.17406190974776503, 0.20216159024516206, 0.2318223641035256, 0.22011416389627683, 0.20285945484594806, 0.37364284204531456, 0.15084421001365367, 0.13263887432235064, 0.1404411610471948, 0.7247128579315872], \"Term\": [\"a.m\", \"aaa\", \"accommodation\", \"accommodation\", \"accommodation\", \"accommodation\", \"accommodation\", \"activex\", \"ada\", \"admiral\", \"admiral\", \"adorable\", \"adorable\", \"adorable\", \"adorable\", \"alot\", \"alot\", \"alot\", \"alot\", \"alot\", \"also\", \"also\", \"also\", \"also\", \"also\", \"always\", \"always\", \"always\", \"always\", \"always\", \"animagique\", \"anti\", \"around\", \"around\", \"around\", \"around\", \"around\", \"array\", \"aside\", \"aside\", \"aside\", \"aside\", \"aside\", \"ask\", \"ask\", \"ask\", \"ask\", \"ask\", \"attraction\", \"attraction\", \"attraction\", \"attraction\", \"attraction\", \"audience\", \"audience\", \"audience\", \"audience\", \"avios\", \"awaken\", \"back\", \"back\", \"back\", \"back\", \"back\", \"badge\", \"badge\", \"badge\", \"badge\", \"badge\", \"banana\", \"belonging\", \"ben\", \"big\", \"big\", \"big\", \"big\", \"big\", \"blog\", \"blog\", \"book\", \"book\", \"book\", \"book\", \"book\", \"booklet\", \"bottled\", \"break\", \"break\", \"break\", \"break\", \"break\", \"bring\", \"bring\", \"bring\", \"bring\", \"bring\", \"broke\", \"btw\", \"buddha\", \"buggie\", \"built\", \"busy\", \"busy\", \"busy\", \"busy\", \"busy\", \"buzz's\", \"california\", \"california\", \"california\", \"california\", \"california\", \"carnaval\", \"cast\", \"cast\", \"cast\", \"cast\", \"cast\", \"cater\", \"cater\", \"cater\", \"cater\", \"cater\", \"cease\", \"character\", \"character\", \"character\", \"character\", \"character\", \"charecters\", \"cheyenne\", \"cheyenne\", \"cheyenne\", \"child\", \"child\", \"child\", \"child\", \"child\", \"cleanest\", \"close\", \"close\", \"close\", \"close\", \"close\", \"cocoa\", \"come\", \"come\", \"come\", \"come\", \"come\", \"commemorate\", \"commercial\", \"compare\", \"compare\", \"compare\", \"compare\", \"compare\", \"compensate\", \"concrete\", \"concrete\", \"considerate\", \"contend\", \"convenient\", \"convenient\", \"convenient\", \"convenient\", \"convenient\", \"could\", \"could\", \"could\", \"could\", \"could\", \"creative\", \"crockett\", \"crockett\", \"crockett\", \"crockett\", \"crockett\", \"crowd\", \"crowd\", \"crowd\", \"crowd\", \"crowd\", \"curry\", \"davy\", \"davy\", \"davy\", \"davy\", \"davy\", \"day\", \"day\", \"day\", \"day\", \"day\", \"dd\", \"dd\", \"densely\", \"different\", \"different\", \"different\", \"different\", \"different\", \"dine\", \"disable\", \"disable\", \"disable\", \"disable\", \"disable\", \"disney\", \"disney\", \"disney\", \"disney\", \"disney\", \"disneyland\", \"disneyland\", \"disneyland\", \"disneyland\", \"disneyland\", \"disneyworld\", \"disneyworld\", \"disneyworld\", \"disneyworld\", \"disneyworld\", \"dissapointment\", \"downfall\", \"dream\", \"dream\", \"dream\", \"dream\", \"dream\", \"dw\", \"eager\", \"earth\", \"earth\", \"earth\", \"earth\", \"earth\", \"effectively\", \"effectively\", \"efficiently\", \"efficiently\", \"efficiently\", \"emh\", \"emh\", \"enjoy\", \"enjoy\", \"enjoy\", \"enjoy\", \"enjoy\", \"eurodisney\", \"eurodisney\", \"eurodisney\", \"eurodisney\", \"eurodisney\", \"europa\", \"evacuate\", \"even\", \"even\", \"even\", \"even\", \"even\", \"everything\", \"everything\", \"everything\", \"everything\", \"everything\", \"exhausted\", \"exhibition\", \"expensive\", \"expensive\", \"expensive\", \"expensive\", \"expensive\", \"experience\", \"experience\", \"experience\", \"experience\", \"experience\", \"expert\", \"explain\", \"explain\", \"explain\", \"explain\", \"explain\", \"fairytail\", \"family\", \"family\", \"family\", \"family\", \"family\", \"fan\", \"fan\", \"fan\", \"fan\", \"fan\", \"fantasy\", \"fantasy\", \"fantasy\", \"fantasy\", \"fantasy\", \"fast\", \"fast\", \"fast\", \"fast\", \"fast\", \"fe\", \"fe\", \"fe\", \"fe\", \"fewer\", \"first\", \"first\", \"first\", \"first\", \"first\", \"floriday\", \"fnac\", \"fnac\", \"food\", \"food\", \"food\", \"food\", \"food\", \"fourth\", \"fourth\", \"fourth\", \"fourth\", \"fp\", \"fp\", \"fp\", \"fp\", \"francophone\", \"fun\", \"fun\", \"fun\", \"fun\", \"fun\", \"gay\", \"genius\", \"get\", \"get\", \"get\", \"get\", \"get\", \"gf\", \"gf\", \"gf\", \"go\", \"go\", \"go\", \"go\", \"go\", \"good\", \"good\", \"good\", \"good\", \"good\", \"good.the\", \"gourmande\", \"graduate\", \"graduate\", \"great\", \"great\", \"great\", \"great\", \"great\", \"green\", \"green\", \"green\", \"green\", \"green\", \"grizzle\", \"gruppy\", \"ha\", \"halal\", \"halal\", \"halal\", \"halal\", \"happiness\", \"happiness\", \"happiness\", \"happiness\", \"happiness\", \"hardly\", \"hardly\", \"hardly\", \"hardly\", \"hardly\", \"hk\", \"hk\", \"hk\", \"hk\", \"hk\", \"hkg\", \"holidays\", \"hong\", \"hong\", \"hong\", \"hong\", \"hong\", \"hotel\", \"hotel\", \"hotel\", \"hotel\", \"hotel\", \"hour\", \"hour\", \"hour\", \"hour\", \"hour\", \"house\", \"house\", \"house\", \"house\", \"house\", \"hyatt\", \"india\", \"india\", \"indianna\", \"inner\", \"inner\", \"inner\", \"inner\", \"instruction\", \"instruction\", \"instruction\", \"instruction\", \"intimate\", \"intolerance\", \"it`s\", \"jingle\", \"katie\", \"kid\", \"kid\", \"kid\", \"kid\", \"kid\", \"know\", \"know\", \"know\", \"know\", \"know\", \"kong\", \"kong\", \"kong\", \"kong\", \"kong\", \"korean\", \"kristen\", \"l.a\", \"land\", \"land\", \"land\", \"land\", \"land\", \"lick\", \"lightyearspace\", \"like\", \"like\", \"like\", \"like\", \"like\", \"line\", \"line\", \"line\", \"line\", \"line\", \"long\", \"long\", \"long\", \"long\", \"long\", \"lot\", \"lot\", \"lot\", \"lot\", \"lot\", \"love\", \"love\", \"love\", \"love\", \"love\", \"magic\", \"magic\", \"magic\", \"magic\", \"magic\", \"make\", \"make\", \"make\", \"make\", \"make\", \"malfunction\", \"mango\", \"mania\", \"mania\", \"marine\", \"mascot\", \"mascot\", \"mascot\", \"meet\", \"meet\", \"meet\", \"meet\", \"meet\", \"member\", \"member\", \"member\", \"member\", \"member\", \"mi\", \"minute\", \"minute\", \"minute\", \"minute\", \"minute\", \"mlk\", \"moana\", \"money\", \"money\", \"money\", \"money\", \"money\", \"mountainstar\", \"mtr\", \"mtr\", \"mtr\", \"mtr\", \"mtr\", \"much\", \"much\", \"much\", \"much\", \"much\", \"must\", \"must\", \"must\", \"must\", \"must\", \"nappy\", \"needed\", \"never\", \"never\", \"never\", \"never\", \"never\", \"nice\", \"nice\", \"nice\", \"nice\", \"nice\", \"night\", \"night\", \"night\", \"night\", \"night\", \"nord\", \"nut\", \"nut\", \"nut\", \"nut\", \"nut\", \"oasis\", \"old\", \"old\", \"old\", \"old\", \"old\", \"olivia\", \"one\", \"one\", \"one\", \"one\", \"one\", \"ongoing\", \"open\", \"open\", \"open\", \"open\", \"open\", \"operation\", \"operation\", \"operation\", \"operation\", \"original\", \"original\", \"original\", \"original\", \"original\", \"orlando\", \"orlando\", \"orlando\", \"orlando\", \"orlando\", \"parade\", \"parade\", \"parade\", \"parade\", \"parade\", \"paris\", \"paris\", \"paris\", \"paris\", \"paris\", \"park\", \"park\", \"park\", \"park\", \"park\", \"pas\", \"pas\", \"pas\", \"pas\", \"pas\", \"passage\", \"pattern\", \"payment\", \"people\", \"people\", \"people\", \"people\", \"people\", \"peril\", \"peril\", \"peril\", \"philarmagic\", \"philarmagic\", \"physically\", \"picture\", \"picture\", \"picture\", \"picture\", \"picture\", \"place\", \"place\", \"place\", \"place\", \"place\", \"pleased\", \"pleased\", \"president\", \"press\", \"press\", \"princess\", \"princess\", \"princess\", \"princess\", \"princess\", \"profit\", \"profit\", \"profit\", \"profit\", \"protect\", \"protect\", \"provision\", \"qued\", \"queue\", \"queue\", \"queue\", \"queue\", \"queue\", \"radiator\", \"radiator\", \"radiator\", \"radiator\", \"radiator\", \"raise\", \"raise\", \"raise\", \"raise\", \"ranch\", \"ranch\", \"ranch\", \"ranch\", \"ranch\", \"really\", \"really\", \"really\", \"really\", \"really\", \"record\", \"record\", \"recover\", \"refill\", \"refill\", \"refill\", \"refill\", \"refill\", \"replacement\", \"replicate\", \"restaurant\", \"restaurant\", \"restaurant\", \"restaurant\", \"restaurant\", \"resturants\", \"resturants\", \"reverse\", \"ride\", \"ride\", \"ride\", \"ride\", \"ride\", \"ride,the\", \"riff\", \"rip\", \"rip\", \"rip\", \"rip\", \"rip\", \"say\", \"say\", \"say\", \"say\", \"say\", \"script\", \"script\", \"script\", \"seat\", \"seat\", \"seat\", \"seat\", \"seat\", \"see\", \"see\", \"see\", \"see\", \"see\", \"self\", \"self\", \"self\", \"selling\", \"selling\", \"semi\", \"semi\", \"sha\", \"shanghai\", \"shanghai\", \"show\", \"show\", \"show\", \"show\", \"show\", \"shutter\", \"silly\", \"silly\", \"silly\", \"silly\", \"simulator\", \"simulator\", \"size\", \"size\", \"size\", \"size\", \"size\", \"skull\", \"sleepy\", \"sleepy\", \"small\", \"small\", \"small\", \"small\", \"small\", \"smoothly\", \"something\", \"something\", \"something\", \"something\", \"something\", \"sophia\", \"spanish\", \"spanish\", \"specially\", \"specially\", \"specially\", \"spite\", \"spot\", \"spot\", \"spot\", \"spot\", \"spot\", \"squid\", \"squid\", \"stamped\", \"stare\", \"stay\", \"stay\", \"stay\", \"stay\", \"stay\", \"stench\", \"stench\", \"still\", \"still\", \"still\", \"still\", \"still\", \"student\", \"student\", \"student\", \"substandard\", \"subtle\", \"sunshine\", \"sunshine\", \"sure\", \"sure\", \"sure\", \"sure\", \"sure\", \"survive\", \"take\", \"take\", \"take\", \"take\", \"take\", \"taking\", \"technical\", \"technical\", \"technical\", \"technical\", \"technical\", \"teddy\", \"teddy\", \"tell\", \"tell\", \"tell\", \"tell\", \"tell\", \"tends\", \"tesco\", \"theme\", \"theme\", \"theme\", \"theme\", \"theme\", \"thing\", \"thing\", \"thing\", \"thing\", \"thing\", \"think\", \"think\", \"think\", \"think\", \"think\", \"though\", \"though\", \"though\", \"though\", \"though\", \"thrice\", \"thumb\", \"tiana\", \"tiana\", \"ticket\", \"ticket\", \"ticket\", \"ticket\", \"ticket\", \"tiggers\", \"time\", \"time\", \"time\", \"time\", \"time\", \"tkts\", \"toddler\", \"toddler\", \"toddler\", \"toddler\", \"toddler\", \"tokyo's\", \"too.we\", \"tour\", \"tour\", \"tour\", \"tour\", \"tour\", \"track\", \"track\", \"track\", \"track\", \"track\", \"train\", \"train\", \"train\", \"train\", \"train\", \"treater\", \"trip\", \"trip\", \"trip\", \"trip\", \"trip\", \"tron\", \"truly\", \"truly\", \"truly\", \"truly\", \"truly\", \"tsim\", \"tsui\", \"tung\", \"two\", \"two\", \"two\", \"two\", \"two\", \"u.s.a\", \"unchanged\", \"underwhelmed\", \"underwhelmed\", \"underwhelmed\", \"uplift\", \"usb\", \"use\", \"use\", \"use\", \"use\", \"use\", \"vegetarian\", \"vegetarian\", \"vegetarian\", \"vegetarian\", \"vegetarian\", \"vibe\", \"vibe\", \"vintage\", \"vintage\", \"visit\", \"visit\", \"visit\", \"visit\", \"visit\", \"vitamin\", \"voucher\", \"voucher\", \"voucher\", \"voucher\", \"voucher\", \"vt\", \"waist\", \"waist\", \"wait\", \"wait\", \"wait\", \"wait\", \"wait\", \"waiter\", \"waiter\", \"waits\", \"want\", \"want\", \"want\", \"want\", \"want\", \"wary\", \"waterfront\", \"weight\", \"weight\", \"well\", \"well\", \"well\", \"well\", \"well\", \"windows\", \"windows\", \"witnessed\", \"world\", \"world\", \"world\", \"world\", \"world\", \"worth\", \"worth\", \"worth\", \"worth\", \"worth\", \"worthit\", \"would\", \"would\", \"would\", \"would\", \"would\", \"year\", \"year\", \"year\", \"year\", \"year\", \"you...more\"]}, \"R\": 30, \"lambda.step\": 0.01, \"plot.opts\": {\"xlab\": \"PC1\", \"ylab\": \"PC2\"}, \"topic.order\": [3, 4, 1, 2, 5]};\n",
       "\n",
       "function LDAvis_load_lib(url, callback){\n",
       "  var s = document.createElement('script');\n",
       "  s.src = url;\n",
       "  s.async = true;\n",
       "  s.onreadystatechange = s.onload = callback;\n",
       "  s.onerror = function(){console.warn(\"failed to load library \" + url);};\n",
       "  document.getElementsByTagName(\"head\")[0].appendChild(s);\n",
       "}\n",
       "\n",
       "if(typeof(LDAvis) !== \"undefined\"){\n",
       "   // already loaded: just create the visualization\n",
       "   !function(LDAvis){\n",
       "       new LDAvis(\"#\" + \"ldavis_el2237616408519627604764813306\", ldavis_el2237616408519627604764813306_data);\n",
       "   }(LDAvis);\n",
       "}else if(typeof define === \"function\" && define.amd){\n",
       "   // require.js is available: use it to load d3/LDAvis\n",
       "   require.config({paths: {d3: \"https://d3js.org/d3.v5\"}});\n",
       "   require([\"d3\"], function(d3){\n",
       "      window.d3 = d3;\n",
       "      LDAvis_load_lib(\"https://cdn.jsdelivr.net/gh/bmabey/pyLDAvis@3.2.2/pyLDAvis/js/ldavis.v3.0.0.js\", function(){\n",
       "        new LDAvis(\"#\" + \"ldavis_el2237616408519627604764813306\", ldavis_el2237616408519627604764813306_data);\n",
       "      });\n",
       "    });\n",
       "}else{\n",
       "    // require.js not available: dynamically load d3 & LDAvis\n",
       "    LDAvis_load_lib(\"https://d3js.org/d3.v5.js\", function(){\n",
       "         LDAvis_load_lib(\"https://cdn.jsdelivr.net/gh/bmabey/pyLDAvis@3.2.2/pyLDAvis/js/ldavis.v3.0.0.js\", function(){\n",
       "                 new LDAvis(\"#\" + \"ldavis_el2237616408519627604764813306\", ldavis_el2237616408519627604764813306_data);\n",
       "            })\n",
       "         });\n",
       "}\n",
       "</script>"
      ],
      "text/plain": [
       "PreparedData(topic_coordinates=              x         y  topics  cluster       Freq\n",
       "topic                                                \n",
       "2      0.027309 -0.019066       1        1  26.218455\n",
       "3      0.006926 -0.011084       2        1  24.312568\n",
       "0     -0.017083  0.010052       3        1  17.361613\n",
       "1     -0.031046 -0.010902       4        1  16.429899\n",
       "4      0.013894  0.030999       5        1  15.677464, topic_info=       Term         Freq        Total Category  logprob  loglift\n",
       "82      get  2977.000000  2977.000000  Default  30.0000  30.0000\n",
       "16   disney  3063.000000  3063.000000  Default  29.0000  29.0000\n",
       "2       day  3239.000000  3239.000000  Default  28.0000  28.0000\n",
       "67     park  4745.000000  4745.000000  Default  27.0000  27.0000\n",
       "37     ride  4056.000000  4056.000000  Default  26.0000  26.0000\n",
       "..      ...          ...          ...      ...      ...      ...\n",
       "364    year   161.798599  1153.507980   Topic5  -5.4832  -0.1113\n",
       "152    much   152.941034   998.358797   Topic5  -5.5395  -0.0231\n",
       "24      kid   163.004580  1441.061526   Topic5  -5.4758  -0.3264\n",
       "405    make   151.808312  1123.168089   Topic5  -5.5469  -0.1483\n",
       "49     wait   156.633269  1422.313796   Topic5  -5.5157  -0.3532\n",
       "\n",
       "[467 rows x 6 columns], token_table=      Topic      Freq           Term\n",
       "term                                \n",
       "6392      2  0.735053            a.m\n",
       "947       1  0.778819            aaa\n",
       "2751      1  0.094128  accommodation\n",
       "2751      2  0.094128  accommodation\n",
       "2751      3  0.188256  accommodation\n",
       "...     ...       ...            ...\n",
       "364       2  0.373643           year\n",
       "364       3  0.150844           year\n",
       "364       4  0.132639           year\n",
       "364       5  0.140441           year\n",
       "9506      5  0.724713     you...more\n",
       "\n",
       "[990 rows x 3 columns], R=30, lambda_step=0.01, plot_opts={'xlab': 'PC1', 'ylab': 'PC2'}, topic_order=[3, 4, 1, 2, 5])"
      ]
     },
     "execution_count": 22,
     "metadata": {},
     "output_type": "execute_result"
    }
   ],
   "source": [
    "import pyLDAvis\n",
    "pyLDAvis.enable_notebook()\n",
    "LDA = npt.ldavis(num_topics=5, passes=5, save=False)\n",
    "# LDA.write_html(\"Resources/LDA.html\")\n",
    "LDA"
   ]
  },
  {
   "cell_type": "code",
   "execution_count": 16,
   "id": "specialized-small",
   "metadata": {},
   "outputs": [
    {
     "ename": "AttributeError",
     "evalue": "'NLPlot' object has no attribute 'node_df'",
     "output_type": "error",
     "traceback": [
      "\u001b[1;31m---------------------------------------------------------------------------\u001b[0m",
      "\u001b[1;31mAttributeError\u001b[0m                            Traceback (most recent call last)",
      "\u001b[1;32m<ipython-input-16-9f10668fd805>\u001b[0m in \u001b[0;36m<module>\u001b[1;34m\u001b[0m\n\u001b[1;32m----> 1\u001b[1;33m \u001b[0mnpt\u001b[0m\u001b[1;33m.\u001b[0m\u001b[0msunburst\u001b[0m\u001b[1;33m(\u001b[0m\u001b[0mtitle\u001b[0m\u001b[1;33m=\u001b[0m\u001b[1;34m'sunburst chart'\u001b[0m\u001b[1;33m,\u001b[0m \u001b[0mcolorscale\u001b[0m\u001b[1;33m=\u001b[0m\u001b[1;32mTrue\u001b[0m\u001b[1;33m)\u001b[0m\u001b[1;33m\u001b[0m\u001b[1;33m\u001b[0m\u001b[0m\n\u001b[0m",
      "\u001b[1;32m~\\anaconda3\\envs\\PythonAdv\\lib\\site-packages\\nlplot\\nlplot.py\u001b[0m in \u001b[0;36msunburst\u001b[1;34m(self, title, colorscale, color_col, color_continuous_scale, width, height, save)\u001b[0m\n\u001b[0;32m    676\u001b[0m \u001b[1;33m\u001b[0m\u001b[0m\n\u001b[0;32m    677\u001b[0m         \u001b[1;31m# make copy of node dataframe\u001b[0m\u001b[1;33m\u001b[0m\u001b[1;33m\u001b[0m\u001b[1;33m\u001b[0m\u001b[0m\n\u001b[1;32m--> 678\u001b[1;33m         \u001b[0m_df\u001b[0m \u001b[1;33m=\u001b[0m \u001b[0mself\u001b[0m\u001b[1;33m.\u001b[0m\u001b[0mnode_df\u001b[0m\u001b[1;33m.\u001b[0m\u001b[0mcopy\u001b[0m\u001b[1;33m(\u001b[0m\u001b[1;33m)\u001b[0m\u001b[1;33m\u001b[0m\u001b[1;33m\u001b[0m\u001b[0m\n\u001b[0m\u001b[0;32m    679\u001b[0m \u001b[1;33m\u001b[0m\u001b[0m\n\u001b[0;32m    680\u001b[0m         \u001b[1;31m# change community label to string (needed for plot)\u001b[0m\u001b[1;33m\u001b[0m\u001b[1;33m\u001b[0m\u001b[1;33m\u001b[0m\u001b[0m\n",
      "\u001b[1;31mAttributeError\u001b[0m: 'NLPlot' object has no attribute 'node_df'"
     ]
    }
   ],
   "source": [
    "npt.sunburst(title='sunburst chart', colorscale=True)\n"
   ]
  },
  {
   "cell_type": "code",
   "execution_count": 17,
   "id": "delayed-equity",
   "metadata": {},
   "outputs": [
    {
     "data": {
      "application/vnd.plotly.v1+json": {
       "config": {
        "plotlyServerURL": "https://plot.ly"
       },
       "data": [
        {
         "alignmentgroup": "True",
         "bingroup": "x",
         "hovertemplate": "review_clean_length=%{x}<br>count=%{y}<extra></extra>",
         "legendgroup": "",
         "marker": {
          "color": "#636efa"
         },
         "name": "",
         "offsetgroup": "",
         "orientation": "v",
         "showlegend": false,
         "type": "histogram",
         "x": [
          7,
          50,
          34,
          29,
          42,
          22,
          17,
          24,
          170,
          95,
          10,
          30,
          103,
          65,
          130,
          62,
          199,
          106,
          116,
          84,
          58,
          29,
          54,
          53,
          27,
          30,
          19,
          40,
          26,
          61,
          31,
          32,
          20,
          62,
          37,
          22,
          17,
          140,
          64,
          25,
          25,
          132,
          76,
          37,
          57,
          32,
          97,
          78,
          40,
          240,
          62,
          460,
          12,
          833,
          16,
          71,
          37,
          19,
          40,
          61,
          30,
          31,
          57,
          21,
          219,
          22,
          21,
          29,
          62,
          26,
          22,
          26,
          68,
          77,
          57,
          37,
          25,
          140,
          19,
          46,
          78,
          24,
          49,
          61,
          10,
          72,
          147,
          265,
          79,
          28,
          138,
          29,
          39,
          12,
          108,
          109,
          30,
          165,
          10,
          44,
          65,
          91,
          14,
          55,
          40,
          23,
          40,
          52,
          21,
          79,
          26,
          54,
          70,
          68,
          37,
          54,
          19,
          16,
          11,
          49,
          46,
          68,
          52,
          47,
          11,
          31,
          12,
          27,
          26,
          21,
          125,
          112,
          56,
          16,
          21,
          17,
          55,
          57,
          46,
          29,
          50,
          205,
          34,
          39,
          106,
          110,
          58,
          105,
          44,
          73,
          32,
          13,
          16,
          208,
          71,
          11,
          37,
          12,
          48,
          26,
          190,
          43,
          23,
          22,
          49,
          19,
          91,
          44,
          36,
          28,
          96,
          41,
          52,
          74,
          34,
          35,
          46,
          95,
          16,
          139,
          27,
          94,
          47,
          30,
          22,
          24,
          83,
          35,
          16,
          19,
          19,
          119,
          163,
          88,
          89,
          267,
          12,
          280,
          39,
          57,
          99,
          99,
          27,
          39,
          24,
          60,
          15,
          26,
          194,
          15,
          32,
          77,
          64,
          110,
          29,
          24,
          141,
          46,
          12,
          64,
          35,
          58,
          457,
          120,
          26,
          90,
          62,
          97,
          32,
          48,
          104,
          18,
          64,
          19,
          15,
          51,
          46,
          22,
          76,
          22,
          15,
          23,
          19,
          14,
          81,
          30,
          111,
          110,
          85,
          84,
          34,
          86,
          25,
          22,
          91,
          12,
          132,
          27,
          27,
          156,
          52,
          125,
          111,
          52,
          164,
          91,
          33,
          38,
          51,
          75,
          24,
          16,
          311,
          32,
          89,
          100,
          102,
          13,
          14,
          22,
          28,
          27,
          93,
          69,
          14,
          10,
          15,
          37,
          22,
          11,
          42,
          49,
          30,
          33,
          10,
          39,
          14,
          30,
          20,
          121,
          50,
          41,
          21,
          552,
          93,
          13,
          34,
          51,
          17,
          47,
          30,
          131,
          22,
          115,
          20,
          29,
          48,
          41,
          35,
          12,
          35,
          28,
          174,
          36,
          77,
          44,
          163,
          69,
          365,
          13,
          18,
          72,
          139,
          46,
          28,
          10,
          16,
          44,
          33,
          28,
          28,
          149,
          186,
          146,
          14,
          46,
          40,
          24,
          14,
          45,
          42,
          9,
          32,
          17,
          21,
          7,
          23,
          178,
          11,
          64,
          13,
          64,
          16,
          115,
          55,
          18,
          66,
          65,
          108,
          116,
          139,
          195,
          14,
          125,
          94,
          58,
          150,
          147,
          16,
          16,
          33,
          41,
          44,
          24,
          20,
          44,
          19,
          933,
          66,
          14,
          168,
          57,
          7,
          54,
          36,
          48,
          47,
          63,
          51,
          25,
          72,
          19,
          39,
          30,
          7,
          35,
          20,
          52,
          47,
          12,
          44,
          232,
          63,
          35,
          36,
          12,
          71,
          19,
          249,
          44,
          116,
          31,
          344,
          21,
          10,
          21,
          32,
          37,
          25,
          47,
          18,
          80,
          93,
          69,
          51,
          26,
          70,
          13,
          151,
          14,
          32,
          3,
          18,
          119,
          24,
          138,
          55,
          43,
          76,
          23,
          24,
          11,
          17,
          14,
          9,
          161,
          391,
          34,
          25,
          31,
          127,
          17,
          42,
          18,
          29,
          11,
          49,
          30,
          70,
          26,
          72,
          29,
          84,
          86,
          184,
          18,
          19,
          16,
          114,
          20,
          28,
          17,
          37,
          43,
          71,
          17,
          57,
          46,
          37,
          35,
          31,
          55,
          8,
          18,
          94,
          31,
          80,
          21,
          34,
          13,
          90,
          21,
          563,
          122,
          37,
          193,
          22,
          10,
          45,
          75,
          55,
          81,
          21,
          29,
          52,
          52,
          43,
          11,
          32,
          104,
          45,
          22,
          79,
          21,
          18,
          19,
          14,
          34,
          50,
          58,
          137,
          22,
          12,
          13,
          110,
          25,
          44,
          105,
          88,
          18,
          20,
          36,
          46,
          18,
          210,
          10,
          13,
          211,
          27,
          17,
          39,
          33,
          14,
          26,
          15,
          110,
          38,
          51,
          130,
          17,
          35,
          47,
          232,
          30,
          26,
          12,
          44,
          84,
          30,
          125,
          39,
          33,
          51,
          137,
          20,
          44,
          14,
          24,
          217,
          153,
          46,
          21,
          48,
          33,
          79,
          22,
          27,
          50,
          29,
          16,
          65,
          59,
          21,
          11,
          43,
          425,
          69,
          164,
          17,
          14,
          14,
          40,
          19,
          80,
          292,
          13,
          26,
          50,
          10,
          52,
          14,
          24,
          101,
          45,
          9,
          54,
          45,
          45,
          104,
          20,
          22,
          178,
          42,
          126,
          56,
          27,
          30,
          74,
          60,
          32,
          20,
          63,
          45,
          24,
          67,
          42,
          56,
          12,
          11,
          57,
          47,
          18,
          16,
          21,
          23,
          50,
          120,
          88,
          115,
          31,
          117,
          12,
          73,
          163,
          55,
          103,
          17,
          91,
          235,
          42,
          84,
          24,
          32,
          60,
          100,
          22,
          381,
          12,
          29,
          11,
          29,
          26,
          32,
          290,
          75,
          11,
          58,
          46,
          20,
          21,
          21,
          15,
          47,
          134,
          57,
          130,
          86,
          38,
          48,
          49,
          39,
          106,
          40,
          166,
          15,
          30,
          36,
          16,
          55,
          65,
          58,
          41,
          55,
          32,
          45,
          26,
          51,
          72,
          73,
          18,
          475,
          54,
          35,
          12,
          60,
          75,
          18,
          81,
          88,
          24,
          26,
          101,
          13,
          25,
          29,
          34,
          74,
          18,
          28,
          222,
          18,
          20,
          38,
          24,
          96,
          134,
          116,
          105,
          14,
          22,
          185,
          33,
          13,
          19,
          57,
          31,
          62,
          44,
          31,
          69,
          31,
          115,
          13,
          271,
          29,
          87,
          59,
          28,
          48,
          25,
          12,
          265,
          42,
          111,
          20,
          148,
          20,
          99,
          13,
          50,
          31,
          56,
          28,
          40,
          13,
          10,
          39,
          67,
          142,
          12,
          32,
          21,
          13,
          73,
          118,
          31,
          110,
          26,
          117,
          59,
          32,
          31,
          30,
          63,
          14,
          177,
          36,
          42,
          30,
          30,
          73,
          10,
          64,
          48,
          22,
          29,
          46,
          36,
          40,
          15,
          104,
          17,
          32,
          41,
          32,
          33,
          67,
          84,
          12,
          139,
          81,
          26,
          71,
          10,
          204,
          50,
          25,
          50,
          133,
          63,
          57,
          78,
          113,
          128,
          21,
          22,
          13,
          28,
          55,
          29,
          63,
          123,
          97,
          124,
          42,
          17,
          108,
          139,
          16,
          51,
          24,
          189,
          27,
          19,
          98,
          17,
          23,
          25,
          46,
          18,
          27,
          18,
          69,
          21,
          22,
          69,
          9,
          29,
          32,
          82,
          29,
          11,
          82,
          62,
          19,
          16,
          29,
          22,
          20,
          29,
          35,
          23,
          22,
          66,
          57,
          32,
          183,
          105,
          51,
          67,
          38,
          72,
          38,
          31,
          137,
          70,
          80,
          54,
          13,
          13,
          156,
          9,
          26,
          13,
          86,
          100,
          205,
          538,
          15,
          46,
          15,
          13,
          33,
          33,
          28,
          24,
          39,
          19,
          26,
          31,
          34,
          22,
          42,
          30,
          17,
          41,
          25,
          26,
          11,
          14,
          88,
          37,
          41,
          7,
          15,
          15,
          196,
          31,
          13,
          36,
          25,
          15,
          48,
          32,
          66,
          12,
          28,
          9,
          125,
          61,
          143,
          11,
          26,
          15,
          78,
          163,
          115,
          22,
          152,
          159,
          222,
          34,
          17,
          106,
          63,
          40,
          34,
          20,
          38,
          17,
          26,
          11,
          37,
          23,
          78,
          86,
          205,
          59,
          22,
          13,
          143,
          14,
          15,
          32,
          41,
          36,
          34,
          17,
          22,
          47,
          76,
          70,
          9,
          23,
          61,
          16,
          15,
          84,
          29,
          18,
          28,
          80,
          260,
          6,
          40,
          90,
          28,
          73,
          16,
          14,
          104,
          51,
          38,
          18,
          158,
          18,
          50,
          38,
          13,
          66,
          40,
          23,
          34,
          67,
          44,
          64,
          1061,
          18,
          184,
          43,
          62,
          130,
          24,
          166,
          86,
          7,
          15,
          14,
          52,
          74,
          17,
          42,
          36,
          32,
          16,
          34,
          40,
          52,
          30,
          120,
          15,
          23,
          137,
          30,
          6,
          9,
          196,
          70,
          52,
          81,
          86,
          16,
          86,
          26,
          23,
          56,
          36,
          17,
          29,
          32,
          55,
          84,
          13,
          57,
          27,
          154,
          96,
          14,
          20,
          34,
          68,
          34,
          42,
          20,
          8,
          25,
          28,
          70,
          11,
          194,
          70,
          99,
          73,
          36,
          29,
          17,
          138,
          134,
          252,
          94,
          30,
          19,
          23,
          84,
          94,
          10,
          69,
          29,
          51,
          23,
          24,
          74,
          21,
          40,
          67,
          16,
          19,
          28,
          63,
          8,
          36,
          42,
          123,
          102,
          83,
          31,
          34,
          31,
          56,
          16,
          55,
          87,
          29,
          33,
          66,
          14,
          60,
          136,
          68,
          27,
          97,
          18,
          24,
          47,
          24,
          29,
          22,
          47,
          72,
          47,
          48,
          23,
          29,
          57,
          35,
          82,
          78,
          383,
          44,
          26,
          32,
          99,
          64,
          25,
          39,
          57,
          103,
          53,
          27,
          37,
          24,
          87,
          81,
          249,
          31,
          125,
          30,
          45,
          109,
          32,
          24,
          71,
          20,
          177,
          16,
          115,
          20,
          14,
          51,
          12,
          17,
          109,
          15,
          20,
          38,
          58,
          38,
          19,
          57,
          23,
          26,
          32,
          29,
          23,
          18,
          9,
          52,
          32,
          9,
          43,
          25,
          91,
          22,
          15,
          21,
          12,
          81,
          61,
          47,
          11,
          55,
          37,
          22,
          59,
          10,
          76,
          27,
          28,
          384,
          37,
          200,
          412,
          72,
          39,
          28,
          30,
          17,
          31,
          26,
          49,
          33,
          85,
          60,
          107,
          55,
          34,
          11,
          65,
          60,
          13,
          40,
          90,
          9,
          115,
          58,
          19,
          25,
          18,
          80,
          35,
          13,
          36,
          156,
          23,
          82,
          15,
          63,
          54,
          88,
          50,
          14,
          13,
          10,
          85,
          38,
          87,
          16,
          142,
          18,
          39,
          25,
          13,
          17,
          56,
          9,
          13,
          125,
          31,
          95,
          72,
          25,
          140,
          22,
          92,
          124,
          53,
          86,
          10,
          22,
          14,
          117,
          25,
          203,
          104,
          22,
          95,
          20,
          60,
          90,
          186,
          29,
          197,
          34,
          97,
          132,
          26,
          13,
          17,
          93,
          21,
          45,
          75,
          22,
          21,
          55,
          94,
          21,
          39,
          52,
          320,
          56,
          9,
          59,
          30,
          105,
          30,
          61,
          45,
          37,
          12,
          19,
          15,
          28,
          9,
          53,
          116,
          34,
          61,
          19,
          114,
          28,
          40,
          14,
          11,
          59,
          13,
          9,
          24,
          27,
          58,
          9,
          187,
          58,
          86,
          19,
          75,
          47,
          66,
          25,
          190,
          174,
          45,
          28,
          79,
          41,
          18,
          24,
          17,
          43,
          93,
          12,
          28,
          23,
          22,
          18,
          29,
          17,
          29,
          76,
          31,
          49,
          97,
          50,
          17,
          49,
          50,
          18,
          36,
          28,
          169,
          47,
          13,
          36,
          246,
          210,
          64,
          12,
          16,
          61,
          73,
          58,
          19,
          33,
          13,
          54,
          132,
          7,
          19,
          43,
          227,
          16,
          79,
          50,
          61,
          102,
          19,
          67,
          12,
          96,
          21,
          12,
          289,
          92,
          223,
          20,
          87,
          37,
          38,
          256,
          33,
          42,
          20,
          18,
          123,
          20,
          13,
          95,
          30,
          45,
          116,
          38,
          82,
          26,
          9,
          16,
          52,
          15,
          29,
          24,
          71,
          16,
          24,
          44,
          27,
          13,
          20,
          41,
          29,
          69,
          13,
          58,
          143,
          34,
          44,
          143,
          16,
          88,
          104,
          71,
          21,
          25,
          54,
          24,
          15,
          189,
          50,
          32,
          165,
          53,
          27,
          57,
          98,
          36,
          30,
          46,
          76,
          13,
          56,
          39,
          21,
          11,
          19,
          52,
          172,
          16,
          29,
          79,
          20,
          32,
          31,
          13,
          70,
          50,
          50,
          42,
          20,
          44,
          37,
          53,
          31,
          371,
          62,
          41,
          303,
          62,
          21,
          23,
          15,
          63,
          280,
          16,
          17,
          26,
          21,
          39,
          560,
          71,
          20,
          134,
          44,
          26,
          30,
          29,
          23,
          67,
          44,
          112,
          144,
          14,
          59,
          24,
          26,
          190,
          16,
          40,
          19,
          35,
          32,
          93,
          124,
          50,
          56,
          348,
          27,
          35,
          175,
          51,
          23,
          62,
          21,
          47,
          11,
          12,
          14,
          14,
          104,
          66,
          418,
          28,
          16,
          38,
          536,
          48,
          21,
          70,
          63,
          36,
          23,
          191,
          72,
          33,
          16,
          122,
          134,
          44,
          26,
          22,
          14,
          45,
          44,
          25,
          138,
          170,
          11,
          14,
          30,
          14,
          38,
          28,
          31,
          12,
          15,
          165,
          28,
          21,
          398,
          262,
          148,
          20,
          17,
          94,
          16,
          49,
          18,
          68,
          17,
          38,
          11,
          300,
          27,
          15,
          81,
          61,
          11,
          33,
          22,
          44,
          28,
          34,
          15,
          35,
          38,
          108,
          40,
          132,
          117,
          19,
          45,
          39,
          59,
          101,
          62,
          47,
          97,
          53,
          20,
          53,
          89,
          94,
          46,
          89,
          54,
          132,
          135,
          350,
          30,
          34,
          20,
          25,
          39,
          22,
          188,
          119,
          20,
          19,
          34,
          12,
          19,
          52,
          26,
          24,
          101,
          51,
          52,
          22,
          23,
          97,
          16,
          15,
          63,
          55,
          17,
          38,
          11,
          49,
          24,
          60,
          81,
          32,
          204,
          22,
          24,
          19,
          179,
          57,
          76,
          40,
          34,
          15,
          42,
          28,
          31,
          99,
          72,
          13,
          31,
          16,
          171,
          37,
          20,
          32,
          107,
          107,
          94,
          28,
          120,
          82,
          27,
          48,
          29,
          17,
          28,
          21,
          78,
          229,
          25,
          28,
          52,
          34,
          32,
          40,
          533,
          114,
          18,
          38,
          128,
          125,
          16,
          60,
          19,
          47,
          39,
          101,
          30,
          79,
          13,
          22,
          40,
          54,
          50,
          81,
          21,
          11,
          116,
          46,
          166,
          14,
          45,
          20,
          455,
          119,
          65,
          13,
          12,
          25,
          156,
          21,
          26,
          109,
          25,
          96,
          26,
          43,
          15,
          278,
          62,
          15,
          28,
          330,
          83,
          176,
          58,
          71,
          93,
          68,
          159,
          42,
          17,
          50,
          25,
          28,
          33,
          254,
          36,
          104,
          156,
          180,
          32,
          63,
          14,
          25,
          15,
          141,
          443,
          38,
          87,
          35,
          106,
          12,
          59,
          18,
          25,
          10,
          275,
          29,
          31,
          25,
          30,
          18,
          88,
          103,
          58,
          51,
          16,
          53,
          34,
          41,
          41,
          22,
          78,
          32,
          490,
          42,
          14,
          49,
          127,
          22,
          19,
          31,
          24,
          57,
          130,
          55,
          19,
          140,
          26,
          40,
          15,
          237,
          179,
          193,
          36,
          62,
          27,
          56,
          30,
          33,
          126,
          14,
          74,
          13,
          54,
          38,
          14,
          14,
          49,
          31,
          117,
          24,
          14,
          42,
          37,
          28,
          25,
          55,
          92,
          44,
          81,
          24,
          35,
          77,
          28,
          57,
          37,
          20,
          229,
          87,
          124,
          17,
          69,
          57,
          35,
          67,
          16,
          91,
          41,
          47,
          150,
          67,
          31,
          33,
          16,
          20,
          30,
          35,
          46,
          241,
          38,
          57,
          65,
          53,
          30,
          51,
          45,
          19,
          89,
          36,
          32,
          75,
          36,
          20,
          28,
          19,
          43,
          32,
          38,
          13,
          58,
          19,
          28,
          66,
          34,
          55,
          9,
          62,
          45,
          320,
          13,
          18,
          15,
          25,
          10,
          57,
          41,
          114,
          82,
          13,
          12,
          10,
          30,
          22,
          62,
          76,
          83,
          12,
          46,
          51,
          19,
          281,
          266,
          27,
          45,
          13,
          26,
          35,
          145,
          57,
          33,
          34,
          17,
          25,
          59,
          22,
          29,
          377,
          47,
          24,
          31,
          81,
          32,
          47,
          99,
          256,
          98,
          51,
          8,
          95,
          222,
          58,
          69,
          300,
          19,
          10,
          34,
          23,
          15,
          28,
          61,
          25,
          40,
          48,
          143,
          141,
          73,
          30,
          19,
          174,
          32,
          363,
          53,
          39,
          31,
          19,
          12,
          17,
          13,
          19,
          61,
          33,
          64,
          51,
          40,
          14,
          12,
          81,
          31,
          12,
          16,
          30,
          31,
          131,
          26,
          128,
          30,
          16,
          19,
          89,
          306,
          28,
          22,
          66,
          199,
          73,
          65,
          49,
          132,
          60,
          16,
          212,
          268,
          30,
          173,
          113,
          19,
          22,
          33,
          81,
          17,
          40,
          25,
          81,
          183,
          105,
          22,
          29,
          27,
          11,
          194,
          25,
          102,
          11,
          66,
          182,
          70,
          12,
          163,
          27,
          94,
          51,
          22,
          12,
          59,
          59,
          139,
          41,
          57,
          11,
          46,
          45,
          17,
          146,
          91,
          85,
          36,
          126,
          109,
          35,
          129,
          12,
          193,
          25,
          19,
          36,
          42,
          19,
          84,
          32,
          107,
          17,
          18,
          23,
          96,
          67,
          27,
          36,
          76,
          22,
          25,
          15,
          29,
          17,
          16,
          18,
          19,
          29,
          74,
          15,
          94,
          25,
          16,
          108,
          110,
          64,
          16,
          53,
          43,
          63,
          48,
          81,
          47,
          30,
          32,
          13,
          14,
          68,
          73,
          43,
          198,
          150,
          14,
          15,
          12,
          38,
          121,
          10,
          13,
          94,
          43,
          119,
          25,
          44,
          61,
          19,
          34,
          36,
          43,
          201,
          106,
          30,
          58,
          11,
          54,
          52,
          65,
          40,
          91,
          163,
          59,
          63,
          18,
          117,
          31,
          32,
          23,
          22,
          49,
          18,
          130,
          73,
          26,
          68,
          247,
          19,
          25,
          34,
          10,
          69,
          12,
          28,
          22,
          84,
          231,
          17,
          14,
          63,
          49,
          122,
          43,
          56,
          31,
          26,
          97,
          16,
          25,
          17,
          31,
          439,
          132,
          32,
          30,
          17,
          152,
          54,
          31,
          68,
          17,
          43,
          26,
          53,
          59,
          29,
          12,
          23,
          41,
          46,
          19,
          104,
          23,
          12,
          34,
          50,
          11,
          17,
          49,
          12,
          72,
          57,
          25,
          14,
          16,
          110,
          30,
          112,
          45,
          26,
          88,
          17,
          679,
          27,
          25,
          18,
          91,
          18,
          114,
          29,
          58,
          51,
          56,
          12,
          66,
          59,
          27,
          22,
          9,
          28,
          17,
          159,
          94,
          50,
          24,
          23,
          57,
          100,
          57,
          15,
          46,
          51,
          65,
          68,
          437,
          274,
          78,
          30,
          28,
          46,
          141,
          16,
          29,
          65,
          23,
          67,
          176,
          49,
          18,
          70,
          48,
          6,
          87,
          10,
          160,
          76,
          23,
          77,
          23,
          249,
          15,
          256,
          23,
          356,
          53,
          65,
          40,
          30,
          54,
          78,
          196,
          264,
          17,
          43,
          13,
          21,
          32,
          38,
          49,
          123,
          20,
          33,
          43,
          14,
          56,
          49,
          15,
          217,
          18,
          20,
          16,
          10,
          22,
          56,
          44,
          83,
          16,
          26,
          23,
          170,
          130,
          56,
          15,
          19,
          38,
          11,
          59,
          14,
          95,
          62,
          41,
          39,
          23,
          38,
          43,
          32,
          75,
          113,
          42,
          41,
          70,
          140,
          48,
          13,
          23,
          331,
          22,
          59,
          86,
          91,
          77,
          129,
          17,
          15,
          78,
          259,
          210,
          113,
          8,
          24,
          10,
          33,
          200,
          44,
          24,
          37,
          227,
          39,
          53,
          86,
          12,
          36,
          27,
          71,
          57,
          31,
          24,
          26,
          50,
          50,
          107,
          144,
          24,
          13,
          28,
          33,
          38,
          20,
          19,
          16,
          77,
          120,
          16,
          47,
          44,
          24,
          39,
          19,
          75,
          7,
          22,
          28,
          64,
          7,
          18,
          12,
          151,
          176,
          214,
          149,
          26,
          459,
          47,
          64,
          54,
          123,
          62,
          123,
          14,
          18,
          82,
          102,
          11,
          54,
          11,
          81,
          29,
          39,
          51,
          38,
          70,
          38,
          15,
          37,
          70,
          33,
          47,
          22,
          27,
          80,
          15,
          24,
          34,
          65,
          43,
          259,
          60,
          29,
          46,
          14,
          167,
          19,
          84,
          17,
          47,
          36,
          10,
          48,
          104,
          51,
          21,
          28,
          63,
          19,
          96,
          40,
          59,
          43,
          156,
          41,
          16,
          112,
          9,
          3,
          51,
          201,
          69,
          127,
          15,
          31,
          11,
          93,
          33,
          27,
          23,
          25,
          68,
          120,
          234,
          10,
          18,
          12,
          33,
          114,
          91,
          26,
          16,
          49,
          23,
          48,
          115,
          42,
          12,
          26,
          24,
          42,
          51,
          35,
          30,
          32,
          27,
          370,
          23,
          17,
          33,
          14,
          160,
          49,
          17,
          49,
          11,
          32,
          17,
          37,
          85,
          56,
          102,
          101,
          39,
          41,
          49,
          260,
          71,
          31,
          122,
          53,
          142,
          66,
          97,
          15,
          26,
          23,
          20,
          12,
          41,
          46,
          23,
          68,
          22,
          16,
          16,
          20,
          471,
          54,
          12,
          23,
          145,
          89,
          51,
          45,
          16,
          80,
          79,
          72,
          25,
          177,
          54,
          102,
          55,
          20,
          20,
          6,
          29,
          44,
          146,
          99,
          33,
          82,
          89,
          23,
          60,
          27,
          31,
          23,
          41,
          41,
          69,
          69,
          34,
          32,
          30,
          60,
          83,
          72,
          23,
          33,
          26,
          74,
          159,
          62,
          65,
          34,
          80,
          29,
          17,
          21,
          47,
          32,
          54,
          88,
          9,
          91,
          29,
          95,
          22,
          21,
          91,
          39,
          9,
          86,
          197,
          57,
          112,
          40,
          16,
          19,
          25,
          45,
          41,
          43,
          20,
          15,
          20,
          15,
          11,
          52,
          16,
          16,
          16,
          282,
          37,
          5,
          24,
          23,
          44,
          28,
          23,
          49,
          72,
          379,
          64,
          60,
          35,
          66,
          37,
          66,
          39,
          97,
          39,
          65,
          45,
          13,
          43,
          307,
          89,
          14,
          18,
          126,
          9,
          207,
          110,
          26,
          23,
          89,
          115,
          89,
          30,
          35,
          40,
          25,
          172,
          17,
          115,
          36,
          23,
          130,
          433,
          22,
          26,
          118,
          135,
          122,
          61,
          200,
          78,
          27,
          373,
          36,
          38,
          11,
          28,
          6,
          15,
          437,
          39,
          23,
          21,
          66,
          99,
          101,
          42,
          268,
          101,
          52,
          122,
          23,
          61,
          96,
          11,
          31,
          37,
          70,
          137,
          22,
          23,
          40,
          73,
          58,
          115,
          78,
          18,
          430,
          61,
          28,
          67,
          75,
          73,
          131,
          64,
          148,
          12,
          36,
          16,
          33,
          67,
          28,
          55,
          30,
          19,
          19,
          17,
          75,
          19,
          33,
          55,
          57,
          26,
          33,
          12,
          55,
          30,
          72,
          20,
          99,
          42,
          28,
          24,
          166,
          29,
          51,
          12,
          18,
          33,
          143,
          13,
          18,
          41,
          146,
          30,
          28,
          71,
          23,
          44,
          42,
          19,
          51,
          11,
          88,
          13,
          51,
          19,
          69,
          18,
          33,
          92,
          140,
          12,
          69,
          22,
          70,
          154,
          85,
          88,
          38,
          16,
          12,
          177,
          14,
          52,
          79,
          81,
          7,
          41,
          21,
          22,
          16,
          53,
          23,
          109,
          135,
          62,
          107,
          12,
          61,
          33,
          52,
          15,
          14,
          43,
          49,
          16,
          51,
          28,
          14,
          42,
          48,
          67,
          74,
          46,
          309,
          30,
          91,
          44,
          5,
          26,
          22,
          13,
          30,
          13,
          264,
          34,
          20,
          33,
          73,
          128,
          35,
          16,
          9,
          25,
          12,
          12,
          11,
          15,
          13,
          52,
          20,
          106,
          24,
          22,
          43,
          107,
          21,
          54,
          30,
          22,
          171,
          146,
          87,
          25,
          39,
          18,
          81,
          60,
          115,
          65,
          68,
          60,
          17,
          59,
          13,
          20,
          213,
          297,
          160,
          35,
          61,
          172,
          279,
          76,
          229,
          26,
          40,
          29,
          48,
          24,
          114,
          22,
          311,
          7,
          68,
          24,
          70,
          32,
          20,
          7,
          28,
          41,
          47,
          28,
          38,
          29,
          46,
          131,
          11,
          220,
          18,
          255,
          18,
          42,
          73,
          27,
          585,
          167,
          96,
          78,
          14,
          51,
          71,
          126,
          53,
          24,
          14,
          39,
          46,
          31,
          41,
          50,
          179,
          41,
          100,
          120,
          18,
          24,
          31,
          39,
          29,
          39,
          54,
          15,
          289,
          152,
          72,
          17,
          56,
          120,
          18,
          97,
          39,
          113,
          13,
          60,
          23,
          30,
          97,
          18,
          12,
          26,
          112,
          110,
          27,
          24,
          20,
          78,
          26,
          106,
          88,
          75,
          31,
          39,
          20,
          48,
          49,
          22,
          25,
          28,
          17,
          14,
          20,
          29,
          107,
          82,
          15,
          124,
          49,
          66,
          62,
          24,
          10,
          34,
          19,
          136,
          51,
          22,
          15,
          63,
          57,
          30,
          14,
          186,
          23,
          27,
          23,
          69,
          13,
          29,
          54,
          35,
          38,
          34,
          17,
          120,
          21,
          84,
          131,
          80,
          57,
          57,
          39,
          98,
          22,
          23,
          83,
          71,
          43,
          20,
          149,
          44,
          53,
          60,
          41,
          105,
          16,
          12,
          100,
          56,
          35,
          43,
          74,
          9,
          29,
          28,
          51,
          28,
          101,
          47,
          70,
          33,
          18,
          52,
          64,
          15,
          28,
          24,
          70,
          185,
          473,
          95,
          25,
          16,
          73,
          77,
          16,
          35,
          57,
          33,
          20,
          15,
          9,
          24,
          85,
          13,
          86,
          43,
          37,
          17,
          77,
          24,
          61,
          55,
          30,
          151,
          13,
          13,
          36,
          24,
          20,
          26,
          51,
          30,
          58,
          13,
          20,
          33,
          226,
          55,
          18,
          59,
          38,
          31,
          88,
          51,
          62,
          17,
          205,
          68,
          207,
          16,
          38,
          60,
          13,
          20,
          16,
          26,
          37,
          87,
          39,
          52,
          96,
          31,
          5,
          19,
          117,
          143,
          71,
          212,
          70,
          24,
          55,
          13,
          7,
          70,
          19,
          40,
          15,
          26,
          179,
          27,
          27,
          24,
          84,
          23,
          43,
          20,
          103,
          68,
          48,
          53,
          46,
          61,
          33,
          37,
          17,
          17,
          34,
          83,
          93,
          40,
          269,
          52,
          14,
          27,
          47,
          19,
          20,
          20,
          34,
          59,
          41,
          45,
          59,
          45,
          15,
          40,
          45,
          42,
          33,
          29,
          34,
          17,
          23,
          30,
          14,
          21,
          64,
          21,
          83,
          25,
          20,
          280,
          89,
          71,
          58,
          11,
          88,
          16,
          198,
          28,
          16,
          69,
          11,
          80,
          61,
          44,
          41,
          44,
          15,
          114,
          51,
          96,
          28,
          33,
          129,
          21,
          205,
          72,
          72,
          487,
          81,
          15,
          55,
          19,
          17,
          14,
          20,
          16,
          43,
          30,
          22,
          23,
          128,
          25,
          85,
          98,
          31,
          53,
          167,
          64,
          150,
          374,
          21,
          53,
          51,
          177,
          84,
          161,
          21,
          56,
          115,
          34,
          30,
          21,
          51,
          239,
          10,
          8,
          83,
          77,
          29,
          16,
          142,
          16,
          83,
          82,
          22,
          13,
          13,
          35,
          97,
          106,
          30,
          9,
          30,
          105,
          74,
          105,
          55,
          121,
          10,
          34,
          12,
          13,
          365,
          28,
          36,
          30,
          10,
          87,
          60,
          41,
          59,
          53,
          97,
          36,
          68,
          29,
          18,
          70,
          54,
          89,
          45,
          35,
          36,
          43,
          39,
          124,
          38,
          34,
          31,
          63,
          102,
          80,
          10,
          45,
          170,
          48,
          221,
          14,
          14,
          21,
          204,
          27,
          337,
          40,
          71,
          12,
          46,
          30,
          17,
          112,
          68,
          15,
          23,
          68,
          41,
          10,
          41,
          10,
          38,
          34,
          45,
          210,
          14,
          38,
          71,
          21,
          11,
          22,
          26,
          50,
          43,
          18,
          74,
          181,
          24,
          77,
          27,
          31,
          90,
          10,
          25,
          17,
          21,
          100,
          62,
          19,
          21,
          74,
          14,
          22,
          39,
          84,
          32,
          63,
          12,
          50,
          156,
          18,
          64,
          36,
          16,
          27,
          31,
          33,
          30,
          27,
          15,
          94,
          19,
          40,
          463,
          13,
          47,
          24,
          52,
          162,
          63,
          38,
          317,
          38,
          53,
          15,
          16,
          93,
          39,
          64,
          101,
          18,
          55,
          196,
          262,
          117,
          43,
          51,
          10,
          13,
          33,
          64,
          19,
          32,
          27,
          44,
          36,
          13,
          21,
          99,
          15,
          20,
          28,
          147,
          39,
          154,
          13,
          9,
          21,
          12,
          61,
          53,
          32,
          66,
          19,
          21,
          238,
          61,
          51,
          19,
          20,
          61,
          9,
          23,
          529,
          15,
          139,
          10,
          16,
          18,
          54,
          30,
          16,
          39,
          71,
          304,
          64,
          25,
          164,
          207,
          36,
          20,
          20,
          27,
          141,
          120,
          19,
          38,
          41,
          220,
          23,
          248,
          29,
          121,
          52,
          16,
          33,
          60,
          34,
          44,
          61,
          19,
          40,
          16,
          85,
          126,
          13,
          25,
          53,
          27,
          16,
          20,
          25,
          57,
          32,
          39,
          38,
          13,
          599,
          40,
          38,
          28,
          27,
          31,
          56,
          45,
          18,
          27,
          54,
          19,
          45,
          16,
          64,
          21,
          157,
          125,
          76,
          24,
          8,
          132,
          38,
          30,
          154,
          22,
          122,
          24,
          38,
          30,
          20,
          66,
          23,
          14,
          30,
          13,
          22,
          22,
          10,
          33,
          50,
          79,
          110,
          79,
          33,
          89,
          36,
          43,
          21,
          15,
          15,
          20,
          85,
          54,
          45,
          16,
          7,
          29,
          27,
          14,
          43,
          23,
          41,
          110,
          29,
          21,
          43,
          54,
          56,
          81,
          55,
          14,
          19,
          10,
          32,
          71,
          132,
          40,
          47,
          40,
          34,
          88,
          120,
          23,
          109,
          24,
          71,
          30,
          35,
          39,
          27,
          22,
          17,
          78,
          48,
          12,
          218,
          13,
          75,
          13,
          83,
          30,
          14,
          29,
          12,
          58,
          31,
          34,
          117,
          20,
          69,
          37,
          20,
          45,
          99,
          25,
          208,
          88,
          52,
          43,
          13,
          64,
          22,
          52,
          74,
          135,
          86,
          15,
          59,
          57,
          27,
          6,
          9,
          17,
          46,
          10,
          140,
          40,
          39,
          168,
          115,
          177,
          85,
          38,
          9,
          17,
          18,
          47,
          10,
          42,
          19,
          6,
          20,
          13,
          211,
          29,
          10,
          19,
          15,
          46,
          11,
          10,
          39,
          63,
          24,
          33,
          75,
          38,
          10,
          11,
          15,
          24,
          80,
          67,
          17,
          11,
          67,
          104,
          114,
          46,
          59,
          16,
          73,
          33,
          104,
          44,
          32,
          179,
          52,
          56,
          18,
          28,
          39,
          29,
          73,
          9,
          25,
          14,
          107,
          390,
          21,
          48,
          39,
          77,
          39,
          81,
          119,
          124,
          56,
          35,
          78,
          21,
          20,
          23,
          45,
          42,
          20,
          129,
          24,
          41,
          19,
          40,
          185,
          11,
          151,
          13,
          13,
          15,
          29,
          18,
          18,
          91,
          143,
          21,
          79,
          56,
          24,
          86,
          49,
          597,
          68,
          211,
          18,
          132,
          18,
          23,
          142,
          77,
          62,
          250,
          272,
          23,
          26,
          47,
          26,
          136,
          65,
          8,
          59,
          33,
          45,
          58,
          14,
          24,
          30,
          65,
          40,
          20,
          32,
          136,
          28,
          27,
          63,
          79,
          93,
          49,
          31,
          22,
          821,
          167,
          41,
          24,
          49,
          25,
          56,
          46,
          55,
          11,
          376,
          62,
          35,
          18,
          99,
          24,
          62,
          14,
          65,
          15,
          24,
          14,
          27,
          41,
          38,
          25,
          225,
          26,
          49,
          9,
          33,
          10,
          231,
          34,
          32,
          21,
          13,
          75,
          76,
          113,
          24,
          21,
          209,
          19,
          63,
          63,
          24,
          42,
          38,
          27,
          34,
          81,
          12,
          45,
          46,
          26,
          23,
          41,
          14,
          15,
          44,
          77,
          7,
          54,
          24,
          28,
          12,
          16,
          32,
          16,
          571,
          130,
          20,
          46,
          19,
          68,
          31,
          58,
          86,
          83,
          12,
          264,
          59,
          64,
          94,
          124,
          25,
          59,
          20,
          41,
          104,
          45,
          13,
          63,
          63,
          263,
          33,
          12,
          5,
          70,
          57,
          28,
          18,
          154,
          29,
          35,
          165,
          62,
          73,
          19,
          28,
          17,
          9,
          192,
          204,
          9,
          77,
          57,
          112,
          13,
          30,
          207,
          136,
          140,
          119,
          47,
          56,
          107,
          36,
          18,
          72,
          21,
          39,
          12,
          131,
          26,
          78,
          11,
          92,
          68,
          35,
          52,
          29,
          44,
          59,
          22,
          16,
          15,
          84,
          69,
          40,
          30,
          29,
          33,
          169,
          9,
          16,
          48
         ],
         "xaxis": "x",
         "yaxis": "y"
        }
       ],
       "layout": {
        "barmode": "relative",
        "height": 600,
        "legend": {
         "tracegroupgap": 0
        },
        "margin": {
         "t": 60
        },
        "template": {
         "data": {
          "bar": [
           {
            "error_x": {
             "color": "#2a3f5f"
            },
            "error_y": {
             "color": "#2a3f5f"
            },
            "marker": {
             "line": {
              "color": "#E5ECF6",
              "width": 0.5
             }
            },
            "type": "bar"
           }
          ],
          "barpolar": [
           {
            "marker": {
             "line": {
              "color": "#E5ECF6",
              "width": 0.5
             }
            },
            "type": "barpolar"
           }
          ],
          "carpet": [
           {
            "aaxis": {
             "endlinecolor": "#2a3f5f",
             "gridcolor": "white",
             "linecolor": "white",
             "minorgridcolor": "white",
             "startlinecolor": "#2a3f5f"
            },
            "baxis": {
             "endlinecolor": "#2a3f5f",
             "gridcolor": "white",
             "linecolor": "white",
             "minorgridcolor": "white",
             "startlinecolor": "#2a3f5f"
            },
            "type": "carpet"
           }
          ],
          "choropleth": [
           {
            "colorbar": {
             "outlinewidth": 0,
             "ticks": ""
            },
            "type": "choropleth"
           }
          ],
          "contour": [
           {
            "colorbar": {
             "outlinewidth": 0,
             "ticks": ""
            },
            "colorscale": [
             [
              0,
              "#0d0887"
             ],
             [
              0.1111111111111111,
              "#46039f"
             ],
             [
              0.2222222222222222,
              "#7201a8"
             ],
             [
              0.3333333333333333,
              "#9c179e"
             ],
             [
              0.4444444444444444,
              "#bd3786"
             ],
             [
              0.5555555555555556,
              "#d8576b"
             ],
             [
              0.6666666666666666,
              "#ed7953"
             ],
             [
              0.7777777777777778,
              "#fb9f3a"
             ],
             [
              0.8888888888888888,
              "#fdca26"
             ],
             [
              1,
              "#f0f921"
             ]
            ],
            "type": "contour"
           }
          ],
          "contourcarpet": [
           {
            "colorbar": {
             "outlinewidth": 0,
             "ticks": ""
            },
            "type": "contourcarpet"
           }
          ],
          "heatmap": [
           {
            "colorbar": {
             "outlinewidth": 0,
             "ticks": ""
            },
            "colorscale": [
             [
              0,
              "#0d0887"
             ],
             [
              0.1111111111111111,
              "#46039f"
             ],
             [
              0.2222222222222222,
              "#7201a8"
             ],
             [
              0.3333333333333333,
              "#9c179e"
             ],
             [
              0.4444444444444444,
              "#bd3786"
             ],
             [
              0.5555555555555556,
              "#d8576b"
             ],
             [
              0.6666666666666666,
              "#ed7953"
             ],
             [
              0.7777777777777778,
              "#fb9f3a"
             ],
             [
              0.8888888888888888,
              "#fdca26"
             ],
             [
              1,
              "#f0f921"
             ]
            ],
            "type": "heatmap"
           }
          ],
          "heatmapgl": [
           {
            "colorbar": {
             "outlinewidth": 0,
             "ticks": ""
            },
            "colorscale": [
             [
              0,
              "#0d0887"
             ],
             [
              0.1111111111111111,
              "#46039f"
             ],
             [
              0.2222222222222222,
              "#7201a8"
             ],
             [
              0.3333333333333333,
              "#9c179e"
             ],
             [
              0.4444444444444444,
              "#bd3786"
             ],
             [
              0.5555555555555556,
              "#d8576b"
             ],
             [
              0.6666666666666666,
              "#ed7953"
             ],
             [
              0.7777777777777778,
              "#fb9f3a"
             ],
             [
              0.8888888888888888,
              "#fdca26"
             ],
             [
              1,
              "#f0f921"
             ]
            ],
            "type": "heatmapgl"
           }
          ],
          "histogram": [
           {
            "marker": {
             "colorbar": {
              "outlinewidth": 0,
              "ticks": ""
             }
            },
            "type": "histogram"
           }
          ],
          "histogram2d": [
           {
            "colorbar": {
             "outlinewidth": 0,
             "ticks": ""
            },
            "colorscale": [
             [
              0,
              "#0d0887"
             ],
             [
              0.1111111111111111,
              "#46039f"
             ],
             [
              0.2222222222222222,
              "#7201a8"
             ],
             [
              0.3333333333333333,
              "#9c179e"
             ],
             [
              0.4444444444444444,
              "#bd3786"
             ],
             [
              0.5555555555555556,
              "#d8576b"
             ],
             [
              0.6666666666666666,
              "#ed7953"
             ],
             [
              0.7777777777777778,
              "#fb9f3a"
             ],
             [
              0.8888888888888888,
              "#fdca26"
             ],
             [
              1,
              "#f0f921"
             ]
            ],
            "type": "histogram2d"
           }
          ],
          "histogram2dcontour": [
           {
            "colorbar": {
             "outlinewidth": 0,
             "ticks": ""
            },
            "colorscale": [
             [
              0,
              "#0d0887"
             ],
             [
              0.1111111111111111,
              "#46039f"
             ],
             [
              0.2222222222222222,
              "#7201a8"
             ],
             [
              0.3333333333333333,
              "#9c179e"
             ],
             [
              0.4444444444444444,
              "#bd3786"
             ],
             [
              0.5555555555555556,
              "#d8576b"
             ],
             [
              0.6666666666666666,
              "#ed7953"
             ],
             [
              0.7777777777777778,
              "#fb9f3a"
             ],
             [
              0.8888888888888888,
              "#fdca26"
             ],
             [
              1,
              "#f0f921"
             ]
            ],
            "type": "histogram2dcontour"
           }
          ],
          "mesh3d": [
           {
            "colorbar": {
             "outlinewidth": 0,
             "ticks": ""
            },
            "type": "mesh3d"
           }
          ],
          "parcoords": [
           {
            "line": {
             "colorbar": {
              "outlinewidth": 0,
              "ticks": ""
             }
            },
            "type": "parcoords"
           }
          ],
          "pie": [
           {
            "automargin": true,
            "type": "pie"
           }
          ],
          "scatter": [
           {
            "marker": {
             "colorbar": {
              "outlinewidth": 0,
              "ticks": ""
             }
            },
            "type": "scatter"
           }
          ],
          "scatter3d": [
           {
            "line": {
             "colorbar": {
              "outlinewidth": 0,
              "ticks": ""
             }
            },
            "marker": {
             "colorbar": {
              "outlinewidth": 0,
              "ticks": ""
             }
            },
            "type": "scatter3d"
           }
          ],
          "scattercarpet": [
           {
            "marker": {
             "colorbar": {
              "outlinewidth": 0,
              "ticks": ""
             }
            },
            "type": "scattercarpet"
           }
          ],
          "scattergeo": [
           {
            "marker": {
             "colorbar": {
              "outlinewidth": 0,
              "ticks": ""
             }
            },
            "type": "scattergeo"
           }
          ],
          "scattergl": [
           {
            "marker": {
             "colorbar": {
              "outlinewidth": 0,
              "ticks": ""
             }
            },
            "type": "scattergl"
           }
          ],
          "scattermapbox": [
           {
            "marker": {
             "colorbar": {
              "outlinewidth": 0,
              "ticks": ""
             }
            },
            "type": "scattermapbox"
           }
          ],
          "scatterpolar": [
           {
            "marker": {
             "colorbar": {
              "outlinewidth": 0,
              "ticks": ""
             }
            },
            "type": "scatterpolar"
           }
          ],
          "scatterpolargl": [
           {
            "marker": {
             "colorbar": {
              "outlinewidth": 0,
              "ticks": ""
             }
            },
            "type": "scatterpolargl"
           }
          ],
          "scatterternary": [
           {
            "marker": {
             "colorbar": {
              "outlinewidth": 0,
              "ticks": ""
             }
            },
            "type": "scatterternary"
           }
          ],
          "surface": [
           {
            "colorbar": {
             "outlinewidth": 0,
             "ticks": ""
            },
            "colorscale": [
             [
              0,
              "#0d0887"
             ],
             [
              0.1111111111111111,
              "#46039f"
             ],
             [
              0.2222222222222222,
              "#7201a8"
             ],
             [
              0.3333333333333333,
              "#9c179e"
             ],
             [
              0.4444444444444444,
              "#bd3786"
             ],
             [
              0.5555555555555556,
              "#d8576b"
             ],
             [
              0.6666666666666666,
              "#ed7953"
             ],
             [
              0.7777777777777778,
              "#fb9f3a"
             ],
             [
              0.8888888888888888,
              "#fdca26"
             ],
             [
              1,
              "#f0f921"
             ]
            ],
            "type": "surface"
           }
          ],
          "table": [
           {
            "cells": {
             "fill": {
              "color": "#EBF0F8"
             },
             "line": {
              "color": "white"
             }
            },
            "header": {
             "fill": {
              "color": "#C8D4E3"
             },
             "line": {
              "color": "white"
             }
            },
            "type": "table"
           }
          ]
         },
         "layout": {
          "annotationdefaults": {
           "arrowcolor": "#2a3f5f",
           "arrowhead": 0,
           "arrowwidth": 1
          },
          "autotypenumbers": "strict",
          "coloraxis": {
           "colorbar": {
            "outlinewidth": 0,
            "ticks": ""
           }
          },
          "colorscale": {
           "diverging": [
            [
             0,
             "#8e0152"
            ],
            [
             0.1,
             "#c51b7d"
            ],
            [
             0.2,
             "#de77ae"
            ],
            [
             0.3,
             "#f1b6da"
            ],
            [
             0.4,
             "#fde0ef"
            ],
            [
             0.5,
             "#f7f7f7"
            ],
            [
             0.6,
             "#e6f5d0"
            ],
            [
             0.7,
             "#b8e186"
            ],
            [
             0.8,
             "#7fbc41"
            ],
            [
             0.9,
             "#4d9221"
            ],
            [
             1,
             "#276419"
            ]
           ],
           "sequential": [
            [
             0,
             "#0d0887"
            ],
            [
             0.1111111111111111,
             "#46039f"
            ],
            [
             0.2222222222222222,
             "#7201a8"
            ],
            [
             0.3333333333333333,
             "#9c179e"
            ],
            [
             0.4444444444444444,
             "#bd3786"
            ],
            [
             0.5555555555555556,
             "#d8576b"
            ],
            [
             0.6666666666666666,
             "#ed7953"
            ],
            [
             0.7777777777777778,
             "#fb9f3a"
            ],
            [
             0.8888888888888888,
             "#fdca26"
            ],
            [
             1,
             "#f0f921"
            ]
           ],
           "sequentialminus": [
            [
             0,
             "#0d0887"
            ],
            [
             0.1111111111111111,
             "#46039f"
            ],
            [
             0.2222222222222222,
             "#7201a8"
            ],
            [
             0.3333333333333333,
             "#9c179e"
            ],
            [
             0.4444444444444444,
             "#bd3786"
            ],
            [
             0.5555555555555556,
             "#d8576b"
            ],
            [
             0.6666666666666666,
             "#ed7953"
            ],
            [
             0.7777777777777778,
             "#fb9f3a"
            ],
            [
             0.8888888888888888,
             "#fdca26"
            ],
            [
             1,
             "#f0f921"
            ]
           ]
          },
          "colorway": [
           "#636efa",
           "#EF553B",
           "#00cc96",
           "#ab63fa",
           "#FFA15A",
           "#19d3f3",
           "#FF6692",
           "#B6E880",
           "#FF97FF",
           "#FECB52"
          ],
          "font": {
           "color": "#2a3f5f"
          },
          "geo": {
           "bgcolor": "white",
           "lakecolor": "white",
           "landcolor": "#E5ECF6",
           "showlakes": true,
           "showland": true,
           "subunitcolor": "white"
          },
          "hoverlabel": {
           "align": "left"
          },
          "hovermode": "closest",
          "mapbox": {
           "style": "light"
          },
          "paper_bgcolor": "white",
          "plot_bgcolor": "#E5ECF6",
          "polar": {
           "angularaxis": {
            "gridcolor": "white",
            "linecolor": "white",
            "ticks": ""
           },
           "bgcolor": "#E5ECF6",
           "radialaxis": {
            "gridcolor": "white",
            "linecolor": "white",
            "ticks": ""
           }
          },
          "scene": {
           "xaxis": {
            "backgroundcolor": "#E5ECF6",
            "gridcolor": "white",
            "gridwidth": 2,
            "linecolor": "white",
            "showbackground": true,
            "ticks": "",
            "zerolinecolor": "white"
           },
           "yaxis": {
            "backgroundcolor": "#E5ECF6",
            "gridcolor": "white",
            "gridwidth": 2,
            "linecolor": "white",
            "showbackground": true,
            "ticks": "",
            "zerolinecolor": "white"
           },
           "zaxis": {
            "backgroundcolor": "#E5ECF6",
            "gridcolor": "white",
            "gridwidth": 2,
            "linecolor": "white",
            "showbackground": true,
            "ticks": "",
            "zerolinecolor": "white"
           }
          },
          "shapedefaults": {
           "line": {
            "color": "#2a3f5f"
           }
          },
          "ternary": {
           "aaxis": {
            "gridcolor": "white",
            "linecolor": "white",
            "ticks": ""
           },
           "baxis": {
            "gridcolor": "white",
            "linecolor": "white",
            "ticks": ""
           },
           "bgcolor": "#E5ECF6",
           "caxis": {
            "gridcolor": "white",
            "linecolor": "white",
            "ticks": ""
           }
          },
          "title": {
           "x": 0.05
          },
          "xaxis": {
           "automargin": true,
           "gridcolor": "white",
           "linecolor": "white",
           "ticks": "",
           "title": {
            "standoff": 15
           },
           "zerolinecolor": "white",
           "zerolinewidth": 2
          },
          "yaxis": {
           "automargin": true,
           "gridcolor": "white",
           "linecolor": "white",
           "ticks": "",
           "title": {
            "standoff": 15
           },
           "zerolinecolor": "white",
           "zerolinewidth": 2
          }
         }
        },
        "title": {
         "text": "words distribution"
        },
        "width": 1000,
        "xaxis": {
         "anchor": "y",
         "domain": [
          0,
          1
         ],
         "title": {
          "text": ""
         }
        },
        "yaxis": {
         "anchor": "x",
         "domain": [
          0,
          1
         ],
         "title": {
          "text": ""
         }
        }
       }
      },
      "text/html": [
       "<div>                            <div id=\"297c7a8d-6ee2-448a-979a-ffd13e9b5594\" class=\"plotly-graph-div\" style=\"height:600px; width:1000px;\"></div>            <script type=\"text/javascript\">                require([\"plotly\"], function(Plotly) {                    window.PLOTLYENV=window.PLOTLYENV || {};                                    if (document.getElementById(\"297c7a8d-6ee2-448a-979a-ffd13e9b5594\")) {                    Plotly.newPlot(                        \"297c7a8d-6ee2-448a-979a-ffd13e9b5594\",                        [{\"alignmentgroup\": \"True\", \"bingroup\": \"x\", \"hovertemplate\": \"review_clean_length=%{x}<br>count=%{y}<extra></extra>\", \"legendgroup\": \"\", \"marker\": {\"color\": \"#636efa\"}, \"name\": \"\", \"offsetgroup\": \"\", \"orientation\": \"v\", \"showlegend\": false, \"type\": \"histogram\", \"x\": [7, 50, 34, 29, 42, 22, 17, 24, 170, 95, 10, 30, 103, 65, 130, 62, 199, 106, 116, 84, 58, 29, 54, 53, 27, 30, 19, 40, 26, 61, 31, 32, 20, 62, 37, 22, 17, 140, 64, 25, 25, 132, 76, 37, 57, 32, 97, 78, 40, 240, 62, 460, 12, 833, 16, 71, 37, 19, 40, 61, 30, 31, 57, 21, 219, 22, 21, 29, 62, 26, 22, 26, 68, 77, 57, 37, 25, 140, 19, 46, 78, 24, 49, 61, 10, 72, 147, 265, 79, 28, 138, 29, 39, 12, 108, 109, 30, 165, 10, 44, 65, 91, 14, 55, 40, 23, 40, 52, 21, 79, 26, 54, 70, 68, 37, 54, 19, 16, 11, 49, 46, 68, 52, 47, 11, 31, 12, 27, 26, 21, 125, 112, 56, 16, 21, 17, 55, 57, 46, 29, 50, 205, 34, 39, 106, 110, 58, 105, 44, 73, 32, 13, 16, 208, 71, 11, 37, 12, 48, 26, 190, 43, 23, 22, 49, 19, 91, 44, 36, 28, 96, 41, 52, 74, 34, 35, 46, 95, 16, 139, 27, 94, 47, 30, 22, 24, 83, 35, 16, 19, 19, 119, 163, 88, 89, 267, 12, 280, 39, 57, 99, 99, 27, 39, 24, 60, 15, 26, 194, 15, 32, 77, 64, 110, 29, 24, 141, 46, 12, 64, 35, 58, 457, 120, 26, 90, 62, 97, 32, 48, 104, 18, 64, 19, 15, 51, 46, 22, 76, 22, 15, 23, 19, 14, 81, 30, 111, 110, 85, 84, 34, 86, 25, 22, 91, 12, 132, 27, 27, 156, 52, 125, 111, 52, 164, 91, 33, 38, 51, 75, 24, 16, 311, 32, 89, 100, 102, 13, 14, 22, 28, 27, 93, 69, 14, 10, 15, 37, 22, 11, 42, 49, 30, 33, 10, 39, 14, 30, 20, 121, 50, 41, 21, 552, 93, 13, 34, 51, 17, 47, 30, 131, 22, 115, 20, 29, 48, 41, 35, 12, 35, 28, 174, 36, 77, 44, 163, 69, 365, 13, 18, 72, 139, 46, 28, 10, 16, 44, 33, 28, 28, 149, 186, 146, 14, 46, 40, 24, 14, 45, 42, 9, 32, 17, 21, 7, 23, 178, 11, 64, 13, 64, 16, 115, 55, 18, 66, 65, 108, 116, 139, 195, 14, 125, 94, 58, 150, 147, 16, 16, 33, 41, 44, 24, 20, 44, 19, 933, 66, 14, 168, 57, 7, 54, 36, 48, 47, 63, 51, 25, 72, 19, 39, 30, 7, 35, 20, 52, 47, 12, 44, 232, 63, 35, 36, 12, 71, 19, 249, 44, 116, 31, 344, 21, 10, 21, 32, 37, 25, 47, 18, 80, 93, 69, 51, 26, 70, 13, 151, 14, 32, 3, 18, 119, 24, 138, 55, 43, 76, 23, 24, 11, 17, 14, 9, 161, 391, 34, 25, 31, 127, 17, 42, 18, 29, 11, 49, 30, 70, 26, 72, 29, 84, 86, 184, 18, 19, 16, 114, 20, 28, 17, 37, 43, 71, 17, 57, 46, 37, 35, 31, 55, 8, 18, 94, 31, 80, 21, 34, 13, 90, 21, 563, 122, 37, 193, 22, 10, 45, 75, 55, 81, 21, 29, 52, 52, 43, 11, 32, 104, 45, 22, 79, 21, 18, 19, 14, 34, 50, 58, 137, 22, 12, 13, 110, 25, 44, 105, 88, 18, 20, 36, 46, 18, 210, 10, 13, 211, 27, 17, 39, 33, 14, 26, 15, 110, 38, 51, 130, 17, 35, 47, 232, 30, 26, 12, 44, 84, 30, 125, 39, 33, 51, 137, 20, 44, 14, 24, 217, 153, 46, 21, 48, 33, 79, 22, 27, 50, 29, 16, 65, 59, 21, 11, 43, 425, 69, 164, 17, 14, 14, 40, 19, 80, 292, 13, 26, 50, 10, 52, 14, 24, 101, 45, 9, 54, 45, 45, 104, 20, 22, 178, 42, 126, 56, 27, 30, 74, 60, 32, 20, 63, 45, 24, 67, 42, 56, 12, 11, 57, 47, 18, 16, 21, 23, 50, 120, 88, 115, 31, 117, 12, 73, 163, 55, 103, 17, 91, 235, 42, 84, 24, 32, 60, 100, 22, 381, 12, 29, 11, 29, 26, 32, 290, 75, 11, 58, 46, 20, 21, 21, 15, 47, 134, 57, 130, 86, 38, 48, 49, 39, 106, 40, 166, 15, 30, 36, 16, 55, 65, 58, 41, 55, 32, 45, 26, 51, 72, 73, 18, 475, 54, 35, 12, 60, 75, 18, 81, 88, 24, 26, 101, 13, 25, 29, 34, 74, 18, 28, 222, 18, 20, 38, 24, 96, 134, 116, 105, 14, 22, 185, 33, 13, 19, 57, 31, 62, 44, 31, 69, 31, 115, 13, 271, 29, 87, 59, 28, 48, 25, 12, 265, 42, 111, 20, 148, 20, 99, 13, 50, 31, 56, 28, 40, 13, 10, 39, 67, 142, 12, 32, 21, 13, 73, 118, 31, 110, 26, 117, 59, 32, 31, 30, 63, 14, 177, 36, 42, 30, 30, 73, 10, 64, 48, 22, 29, 46, 36, 40, 15, 104, 17, 32, 41, 32, 33, 67, 84, 12, 139, 81, 26, 71, 10, 204, 50, 25, 50, 133, 63, 57, 78, 113, 128, 21, 22, 13, 28, 55, 29, 63, 123, 97, 124, 42, 17, 108, 139, 16, 51, 24, 189, 27, 19, 98, 17, 23, 25, 46, 18, 27, 18, 69, 21, 22, 69, 9, 29, 32, 82, 29, 11, 82, 62, 19, 16, 29, 22, 20, 29, 35, 23, 22, 66, 57, 32, 183, 105, 51, 67, 38, 72, 38, 31, 137, 70, 80, 54, 13, 13, 156, 9, 26, 13, 86, 100, 205, 538, 15, 46, 15, 13, 33, 33, 28, 24, 39, 19, 26, 31, 34, 22, 42, 30, 17, 41, 25, 26, 11, 14, 88, 37, 41, 7, 15, 15, 196, 31, 13, 36, 25, 15, 48, 32, 66, 12, 28, 9, 125, 61, 143, 11, 26, 15, 78, 163, 115, 22, 152, 159, 222, 34, 17, 106, 63, 40, 34, 20, 38, 17, 26, 11, 37, 23, 78, 86, 205, 59, 22, 13, 143, 14, 15, 32, 41, 36, 34, 17, 22, 47, 76, 70, 9, 23, 61, 16, 15, 84, 29, 18, 28, 80, 260, 6, 40, 90, 28, 73, 16, 14, 104, 51, 38, 18, 158, 18, 50, 38, 13, 66, 40, 23, 34, 67, 44, 64, 1061, 18, 184, 43, 62, 130, 24, 166, 86, 7, 15, 14, 52, 74, 17, 42, 36, 32, 16, 34, 40, 52, 30, 120, 15, 23, 137, 30, 6, 9, 196, 70, 52, 81, 86, 16, 86, 26, 23, 56, 36, 17, 29, 32, 55, 84, 13, 57, 27, 154, 96, 14, 20, 34, 68, 34, 42, 20, 8, 25, 28, 70, 11, 194, 70, 99, 73, 36, 29, 17, 138, 134, 252, 94, 30, 19, 23, 84, 94, 10, 69, 29, 51, 23, 24, 74, 21, 40, 67, 16, 19, 28, 63, 8, 36, 42, 123, 102, 83, 31, 34, 31, 56, 16, 55, 87, 29, 33, 66, 14, 60, 136, 68, 27, 97, 18, 24, 47, 24, 29, 22, 47, 72, 47, 48, 23, 29, 57, 35, 82, 78, 383, 44, 26, 32, 99, 64, 25, 39, 57, 103, 53, 27, 37, 24, 87, 81, 249, 31, 125, 30, 45, 109, 32, 24, 71, 20, 177, 16, 115, 20, 14, 51, 12, 17, 109, 15, 20, 38, 58, 38, 19, 57, 23, 26, 32, 29, 23, 18, 9, 52, 32, 9, 43, 25, 91, 22, 15, 21, 12, 81, 61, 47, 11, 55, 37, 22, 59, 10, 76, 27, 28, 384, 37, 200, 412, 72, 39, 28, 30, 17, 31, 26, 49, 33, 85, 60, 107, 55, 34, 11, 65, 60, 13, 40, 90, 9, 115, 58, 19, 25, 18, 80, 35, 13, 36, 156, 23, 82, 15, 63, 54, 88, 50, 14, 13, 10, 85, 38, 87, 16, 142, 18, 39, 25, 13, 17, 56, 9, 13, 125, 31, 95, 72, 25, 140, 22, 92, 124, 53, 86, 10, 22, 14, 117, 25, 203, 104, 22, 95, 20, 60, 90, 186, 29, 197, 34, 97, 132, 26, 13, 17, 93, 21, 45, 75, 22, 21, 55, 94, 21, 39, 52, 320, 56, 9, 59, 30, 105, 30, 61, 45, 37, 12, 19, 15, 28, 9, 53, 116, 34, 61, 19, 114, 28, 40, 14, 11, 59, 13, 9, 24, 27, 58, 9, 187, 58, 86, 19, 75, 47, 66, 25, 190, 174, 45, 28, 79, 41, 18, 24, 17, 43, 93, 12, 28, 23, 22, 18, 29, 17, 29, 76, 31, 49, 97, 50, 17, 49, 50, 18, 36, 28, 169, 47, 13, 36, 246, 210, 64, 12, 16, 61, 73, 58, 19, 33, 13, 54, 132, 7, 19, 43, 227, 16, 79, 50, 61, 102, 19, 67, 12, 96, 21, 12, 289, 92, 223, 20, 87, 37, 38, 256, 33, 42, 20, 18, 123, 20, 13, 95, 30, 45, 116, 38, 82, 26, 9, 16, 52, 15, 29, 24, 71, 16, 24, 44, 27, 13, 20, 41, 29, 69, 13, 58, 143, 34, 44, 143, 16, 88, 104, 71, 21, 25, 54, 24, 15, 189, 50, 32, 165, 53, 27, 57, 98, 36, 30, 46, 76, 13, 56, 39, 21, 11, 19, 52, 172, 16, 29, 79, 20, 32, 31, 13, 70, 50, 50, 42, 20, 44, 37, 53, 31, 371, 62, 41, 303, 62, 21, 23, 15, 63, 280, 16, 17, 26, 21, 39, 560, 71, 20, 134, 44, 26, 30, 29, 23, 67, 44, 112, 144, 14, 59, 24, 26, 190, 16, 40, 19, 35, 32, 93, 124, 50, 56, 348, 27, 35, 175, 51, 23, 62, 21, 47, 11, 12, 14, 14, 104, 66, 418, 28, 16, 38, 536, 48, 21, 70, 63, 36, 23, 191, 72, 33, 16, 122, 134, 44, 26, 22, 14, 45, 44, 25, 138, 170, 11, 14, 30, 14, 38, 28, 31, 12, 15, 165, 28, 21, 398, 262, 148, 20, 17, 94, 16, 49, 18, 68, 17, 38, 11, 300, 27, 15, 81, 61, 11, 33, 22, 44, 28, 34, 15, 35, 38, 108, 40, 132, 117, 19, 45, 39, 59, 101, 62, 47, 97, 53, 20, 53, 89, 94, 46, 89, 54, 132, 135, 350, 30, 34, 20, 25, 39, 22, 188, 119, 20, 19, 34, 12, 19, 52, 26, 24, 101, 51, 52, 22, 23, 97, 16, 15, 63, 55, 17, 38, 11, 49, 24, 60, 81, 32, 204, 22, 24, 19, 179, 57, 76, 40, 34, 15, 42, 28, 31, 99, 72, 13, 31, 16, 171, 37, 20, 32, 107, 107, 94, 28, 120, 82, 27, 48, 29, 17, 28, 21, 78, 229, 25, 28, 52, 34, 32, 40, 533, 114, 18, 38, 128, 125, 16, 60, 19, 47, 39, 101, 30, 79, 13, 22, 40, 54, 50, 81, 21, 11, 116, 46, 166, 14, 45, 20, 455, 119, 65, 13, 12, 25, 156, 21, 26, 109, 25, 96, 26, 43, 15, 278, 62, 15, 28, 330, 83, 176, 58, 71, 93, 68, 159, 42, 17, 50, 25, 28, 33, 254, 36, 104, 156, 180, 32, 63, 14, 25, 15, 141, 443, 38, 87, 35, 106, 12, 59, 18, 25, 10, 275, 29, 31, 25, 30, 18, 88, 103, 58, 51, 16, 53, 34, 41, 41, 22, 78, 32, 490, 42, 14, 49, 127, 22, 19, 31, 24, 57, 130, 55, 19, 140, 26, 40, 15, 237, 179, 193, 36, 62, 27, 56, 30, 33, 126, 14, 74, 13, 54, 38, 14, 14, 49, 31, 117, 24, 14, 42, 37, 28, 25, 55, 92, 44, 81, 24, 35, 77, 28, 57, 37, 20, 229, 87, 124, 17, 69, 57, 35, 67, 16, 91, 41, 47, 150, 67, 31, 33, 16, 20, 30, 35, 46, 241, 38, 57, 65, 53, 30, 51, 45, 19, 89, 36, 32, 75, 36, 20, 28, 19, 43, 32, 38, 13, 58, 19, 28, 66, 34, 55, 9, 62, 45, 320, 13, 18, 15, 25, 10, 57, 41, 114, 82, 13, 12, 10, 30, 22, 62, 76, 83, 12, 46, 51, 19, 281, 266, 27, 45, 13, 26, 35, 145, 57, 33, 34, 17, 25, 59, 22, 29, 377, 47, 24, 31, 81, 32, 47, 99, 256, 98, 51, 8, 95, 222, 58, 69, 300, 19, 10, 34, 23, 15, 28, 61, 25, 40, 48, 143, 141, 73, 30, 19, 174, 32, 363, 53, 39, 31, 19, 12, 17, 13, 19, 61, 33, 64, 51, 40, 14, 12, 81, 31, 12, 16, 30, 31, 131, 26, 128, 30, 16, 19, 89, 306, 28, 22, 66, 199, 73, 65, 49, 132, 60, 16, 212, 268, 30, 173, 113, 19, 22, 33, 81, 17, 40, 25, 81, 183, 105, 22, 29, 27, 11, 194, 25, 102, 11, 66, 182, 70, 12, 163, 27, 94, 51, 22, 12, 59, 59, 139, 41, 57, 11, 46, 45, 17, 146, 91, 85, 36, 126, 109, 35, 129, 12, 193, 25, 19, 36, 42, 19, 84, 32, 107, 17, 18, 23, 96, 67, 27, 36, 76, 22, 25, 15, 29, 17, 16, 18, 19, 29, 74, 15, 94, 25, 16, 108, 110, 64, 16, 53, 43, 63, 48, 81, 47, 30, 32, 13, 14, 68, 73, 43, 198, 150, 14, 15, 12, 38, 121, 10, 13, 94, 43, 119, 25, 44, 61, 19, 34, 36, 43, 201, 106, 30, 58, 11, 54, 52, 65, 40, 91, 163, 59, 63, 18, 117, 31, 32, 23, 22, 49, 18, 130, 73, 26, 68, 247, 19, 25, 34, 10, 69, 12, 28, 22, 84, 231, 17, 14, 63, 49, 122, 43, 56, 31, 26, 97, 16, 25, 17, 31, 439, 132, 32, 30, 17, 152, 54, 31, 68, 17, 43, 26, 53, 59, 29, 12, 23, 41, 46, 19, 104, 23, 12, 34, 50, 11, 17, 49, 12, 72, 57, 25, 14, 16, 110, 30, 112, 45, 26, 88, 17, 679, 27, 25, 18, 91, 18, 114, 29, 58, 51, 56, 12, 66, 59, 27, 22, 9, 28, 17, 159, 94, 50, 24, 23, 57, 100, 57, 15, 46, 51, 65, 68, 437, 274, 78, 30, 28, 46, 141, 16, 29, 65, 23, 67, 176, 49, 18, 70, 48, 6, 87, 10, 160, 76, 23, 77, 23, 249, 15, 256, 23, 356, 53, 65, 40, 30, 54, 78, 196, 264, 17, 43, 13, 21, 32, 38, 49, 123, 20, 33, 43, 14, 56, 49, 15, 217, 18, 20, 16, 10, 22, 56, 44, 83, 16, 26, 23, 170, 130, 56, 15, 19, 38, 11, 59, 14, 95, 62, 41, 39, 23, 38, 43, 32, 75, 113, 42, 41, 70, 140, 48, 13, 23, 331, 22, 59, 86, 91, 77, 129, 17, 15, 78, 259, 210, 113, 8, 24, 10, 33, 200, 44, 24, 37, 227, 39, 53, 86, 12, 36, 27, 71, 57, 31, 24, 26, 50, 50, 107, 144, 24, 13, 28, 33, 38, 20, 19, 16, 77, 120, 16, 47, 44, 24, 39, 19, 75, 7, 22, 28, 64, 7, 18, 12, 151, 176, 214, 149, 26, 459, 47, 64, 54, 123, 62, 123, 14, 18, 82, 102, 11, 54, 11, 81, 29, 39, 51, 38, 70, 38, 15, 37, 70, 33, 47, 22, 27, 80, 15, 24, 34, 65, 43, 259, 60, 29, 46, 14, 167, 19, 84, 17, 47, 36, 10, 48, 104, 51, 21, 28, 63, 19, 96, 40, 59, 43, 156, 41, 16, 112, 9, 3, 51, 201, 69, 127, 15, 31, 11, 93, 33, 27, 23, 25, 68, 120, 234, 10, 18, 12, 33, 114, 91, 26, 16, 49, 23, 48, 115, 42, 12, 26, 24, 42, 51, 35, 30, 32, 27, 370, 23, 17, 33, 14, 160, 49, 17, 49, 11, 32, 17, 37, 85, 56, 102, 101, 39, 41, 49, 260, 71, 31, 122, 53, 142, 66, 97, 15, 26, 23, 20, 12, 41, 46, 23, 68, 22, 16, 16, 20, 471, 54, 12, 23, 145, 89, 51, 45, 16, 80, 79, 72, 25, 177, 54, 102, 55, 20, 20, 6, 29, 44, 146, 99, 33, 82, 89, 23, 60, 27, 31, 23, 41, 41, 69, 69, 34, 32, 30, 60, 83, 72, 23, 33, 26, 74, 159, 62, 65, 34, 80, 29, 17, 21, 47, 32, 54, 88, 9, 91, 29, 95, 22, 21, 91, 39, 9, 86, 197, 57, 112, 40, 16, 19, 25, 45, 41, 43, 20, 15, 20, 15, 11, 52, 16, 16, 16, 282, 37, 5, 24, 23, 44, 28, 23, 49, 72, 379, 64, 60, 35, 66, 37, 66, 39, 97, 39, 65, 45, 13, 43, 307, 89, 14, 18, 126, 9, 207, 110, 26, 23, 89, 115, 89, 30, 35, 40, 25, 172, 17, 115, 36, 23, 130, 433, 22, 26, 118, 135, 122, 61, 200, 78, 27, 373, 36, 38, 11, 28, 6, 15, 437, 39, 23, 21, 66, 99, 101, 42, 268, 101, 52, 122, 23, 61, 96, 11, 31, 37, 70, 137, 22, 23, 40, 73, 58, 115, 78, 18, 430, 61, 28, 67, 75, 73, 131, 64, 148, 12, 36, 16, 33, 67, 28, 55, 30, 19, 19, 17, 75, 19, 33, 55, 57, 26, 33, 12, 55, 30, 72, 20, 99, 42, 28, 24, 166, 29, 51, 12, 18, 33, 143, 13, 18, 41, 146, 30, 28, 71, 23, 44, 42, 19, 51, 11, 88, 13, 51, 19, 69, 18, 33, 92, 140, 12, 69, 22, 70, 154, 85, 88, 38, 16, 12, 177, 14, 52, 79, 81, 7, 41, 21, 22, 16, 53, 23, 109, 135, 62, 107, 12, 61, 33, 52, 15, 14, 43, 49, 16, 51, 28, 14, 42, 48, 67, 74, 46, 309, 30, 91, 44, 5, 26, 22, 13, 30, 13, 264, 34, 20, 33, 73, 128, 35, 16, 9, 25, 12, 12, 11, 15, 13, 52, 20, 106, 24, 22, 43, 107, 21, 54, 30, 22, 171, 146, 87, 25, 39, 18, 81, 60, 115, 65, 68, 60, 17, 59, 13, 20, 213, 297, 160, 35, 61, 172, 279, 76, 229, 26, 40, 29, 48, 24, 114, 22, 311, 7, 68, 24, 70, 32, 20, 7, 28, 41, 47, 28, 38, 29, 46, 131, 11, 220, 18, 255, 18, 42, 73, 27, 585, 167, 96, 78, 14, 51, 71, 126, 53, 24, 14, 39, 46, 31, 41, 50, 179, 41, 100, 120, 18, 24, 31, 39, 29, 39, 54, 15, 289, 152, 72, 17, 56, 120, 18, 97, 39, 113, 13, 60, 23, 30, 97, 18, 12, 26, 112, 110, 27, 24, 20, 78, 26, 106, 88, 75, 31, 39, 20, 48, 49, 22, 25, 28, 17, 14, 20, 29, 107, 82, 15, 124, 49, 66, 62, 24, 10, 34, 19, 136, 51, 22, 15, 63, 57, 30, 14, 186, 23, 27, 23, 69, 13, 29, 54, 35, 38, 34, 17, 120, 21, 84, 131, 80, 57, 57, 39, 98, 22, 23, 83, 71, 43, 20, 149, 44, 53, 60, 41, 105, 16, 12, 100, 56, 35, 43, 74, 9, 29, 28, 51, 28, 101, 47, 70, 33, 18, 52, 64, 15, 28, 24, 70, 185, 473, 95, 25, 16, 73, 77, 16, 35, 57, 33, 20, 15, 9, 24, 85, 13, 86, 43, 37, 17, 77, 24, 61, 55, 30, 151, 13, 13, 36, 24, 20, 26, 51, 30, 58, 13, 20, 33, 226, 55, 18, 59, 38, 31, 88, 51, 62, 17, 205, 68, 207, 16, 38, 60, 13, 20, 16, 26, 37, 87, 39, 52, 96, 31, 5, 19, 117, 143, 71, 212, 70, 24, 55, 13, 7, 70, 19, 40, 15, 26, 179, 27, 27, 24, 84, 23, 43, 20, 103, 68, 48, 53, 46, 61, 33, 37, 17, 17, 34, 83, 93, 40, 269, 52, 14, 27, 47, 19, 20, 20, 34, 59, 41, 45, 59, 45, 15, 40, 45, 42, 33, 29, 34, 17, 23, 30, 14, 21, 64, 21, 83, 25, 20, 280, 89, 71, 58, 11, 88, 16, 198, 28, 16, 69, 11, 80, 61, 44, 41, 44, 15, 114, 51, 96, 28, 33, 129, 21, 205, 72, 72, 487, 81, 15, 55, 19, 17, 14, 20, 16, 43, 30, 22, 23, 128, 25, 85, 98, 31, 53, 167, 64, 150, 374, 21, 53, 51, 177, 84, 161, 21, 56, 115, 34, 30, 21, 51, 239, 10, 8, 83, 77, 29, 16, 142, 16, 83, 82, 22, 13, 13, 35, 97, 106, 30, 9, 30, 105, 74, 105, 55, 121, 10, 34, 12, 13, 365, 28, 36, 30, 10, 87, 60, 41, 59, 53, 97, 36, 68, 29, 18, 70, 54, 89, 45, 35, 36, 43, 39, 124, 38, 34, 31, 63, 102, 80, 10, 45, 170, 48, 221, 14, 14, 21, 204, 27, 337, 40, 71, 12, 46, 30, 17, 112, 68, 15, 23, 68, 41, 10, 41, 10, 38, 34, 45, 210, 14, 38, 71, 21, 11, 22, 26, 50, 43, 18, 74, 181, 24, 77, 27, 31, 90, 10, 25, 17, 21, 100, 62, 19, 21, 74, 14, 22, 39, 84, 32, 63, 12, 50, 156, 18, 64, 36, 16, 27, 31, 33, 30, 27, 15, 94, 19, 40, 463, 13, 47, 24, 52, 162, 63, 38, 317, 38, 53, 15, 16, 93, 39, 64, 101, 18, 55, 196, 262, 117, 43, 51, 10, 13, 33, 64, 19, 32, 27, 44, 36, 13, 21, 99, 15, 20, 28, 147, 39, 154, 13, 9, 21, 12, 61, 53, 32, 66, 19, 21, 238, 61, 51, 19, 20, 61, 9, 23, 529, 15, 139, 10, 16, 18, 54, 30, 16, 39, 71, 304, 64, 25, 164, 207, 36, 20, 20, 27, 141, 120, 19, 38, 41, 220, 23, 248, 29, 121, 52, 16, 33, 60, 34, 44, 61, 19, 40, 16, 85, 126, 13, 25, 53, 27, 16, 20, 25, 57, 32, 39, 38, 13, 599, 40, 38, 28, 27, 31, 56, 45, 18, 27, 54, 19, 45, 16, 64, 21, 157, 125, 76, 24, 8, 132, 38, 30, 154, 22, 122, 24, 38, 30, 20, 66, 23, 14, 30, 13, 22, 22, 10, 33, 50, 79, 110, 79, 33, 89, 36, 43, 21, 15, 15, 20, 85, 54, 45, 16, 7, 29, 27, 14, 43, 23, 41, 110, 29, 21, 43, 54, 56, 81, 55, 14, 19, 10, 32, 71, 132, 40, 47, 40, 34, 88, 120, 23, 109, 24, 71, 30, 35, 39, 27, 22, 17, 78, 48, 12, 218, 13, 75, 13, 83, 30, 14, 29, 12, 58, 31, 34, 117, 20, 69, 37, 20, 45, 99, 25, 208, 88, 52, 43, 13, 64, 22, 52, 74, 135, 86, 15, 59, 57, 27, 6, 9, 17, 46, 10, 140, 40, 39, 168, 115, 177, 85, 38, 9, 17, 18, 47, 10, 42, 19, 6, 20, 13, 211, 29, 10, 19, 15, 46, 11, 10, 39, 63, 24, 33, 75, 38, 10, 11, 15, 24, 80, 67, 17, 11, 67, 104, 114, 46, 59, 16, 73, 33, 104, 44, 32, 179, 52, 56, 18, 28, 39, 29, 73, 9, 25, 14, 107, 390, 21, 48, 39, 77, 39, 81, 119, 124, 56, 35, 78, 21, 20, 23, 45, 42, 20, 129, 24, 41, 19, 40, 185, 11, 151, 13, 13, 15, 29, 18, 18, 91, 143, 21, 79, 56, 24, 86, 49, 597, 68, 211, 18, 132, 18, 23, 142, 77, 62, 250, 272, 23, 26, 47, 26, 136, 65, 8, 59, 33, 45, 58, 14, 24, 30, 65, 40, 20, 32, 136, 28, 27, 63, 79, 93, 49, 31, 22, 821, 167, 41, 24, 49, 25, 56, 46, 55, 11, 376, 62, 35, 18, 99, 24, 62, 14, 65, 15, 24, 14, 27, 41, 38, 25, 225, 26, 49, 9, 33, 10, 231, 34, 32, 21, 13, 75, 76, 113, 24, 21, 209, 19, 63, 63, 24, 42, 38, 27, 34, 81, 12, 45, 46, 26, 23, 41, 14, 15, 44, 77, 7, 54, 24, 28, 12, 16, 32, 16, 571, 130, 20, 46, 19, 68, 31, 58, 86, 83, 12, 264, 59, 64, 94, 124, 25, 59, 20, 41, 104, 45, 13, 63, 63, 263, 33, 12, 5, 70, 57, 28, 18, 154, 29, 35, 165, 62, 73, 19, 28, 17, 9, 192, 204, 9, 77, 57, 112, 13, 30, 207, 136, 140, 119, 47, 56, 107, 36, 18, 72, 21, 39, 12, 131, 26, 78, 11, 92, 68, 35, 52, 29, 44, 59, 22, 16, 15, 84, 69, 40, 30, 29, 33, 169, 9, 16, 48], \"xaxis\": \"x\", \"yaxis\": \"y\"}],                        {\"barmode\": \"relative\", \"height\": 600, \"legend\": {\"tracegroupgap\": 0}, \"margin\": {\"t\": 60}, \"template\": {\"data\": {\"bar\": [{\"error_x\": {\"color\": \"#2a3f5f\"}, \"error_y\": {\"color\": \"#2a3f5f\"}, \"marker\": {\"line\": {\"color\": \"#E5ECF6\", \"width\": 0.5}}, \"type\": \"bar\"}], \"barpolar\": [{\"marker\": {\"line\": {\"color\": \"#E5ECF6\", \"width\": 0.5}}, \"type\": \"barpolar\"}], \"carpet\": [{\"aaxis\": {\"endlinecolor\": \"#2a3f5f\", \"gridcolor\": \"white\", \"linecolor\": \"white\", \"minorgridcolor\": \"white\", \"startlinecolor\": \"#2a3f5f\"}, \"baxis\": {\"endlinecolor\": \"#2a3f5f\", \"gridcolor\": \"white\", \"linecolor\": \"white\", \"minorgridcolor\": \"white\", \"startlinecolor\": \"#2a3f5f\"}, \"type\": \"carpet\"}], \"choropleth\": [{\"colorbar\": {\"outlinewidth\": 0, \"ticks\": \"\"}, \"type\": \"choropleth\"}], \"contour\": [{\"colorbar\": {\"outlinewidth\": 0, \"ticks\": \"\"}, \"colorscale\": [[0.0, \"#0d0887\"], [0.1111111111111111, \"#46039f\"], [0.2222222222222222, \"#7201a8\"], [0.3333333333333333, \"#9c179e\"], [0.4444444444444444, \"#bd3786\"], [0.5555555555555556, \"#d8576b\"], [0.6666666666666666, \"#ed7953\"], [0.7777777777777778, \"#fb9f3a\"], [0.8888888888888888, \"#fdca26\"], [1.0, \"#f0f921\"]], \"type\": \"contour\"}], \"contourcarpet\": [{\"colorbar\": {\"outlinewidth\": 0, \"ticks\": \"\"}, \"type\": \"contourcarpet\"}], \"heatmap\": [{\"colorbar\": {\"outlinewidth\": 0, \"ticks\": \"\"}, \"colorscale\": [[0.0, \"#0d0887\"], [0.1111111111111111, \"#46039f\"], [0.2222222222222222, \"#7201a8\"], [0.3333333333333333, \"#9c179e\"], [0.4444444444444444, \"#bd3786\"], [0.5555555555555556, \"#d8576b\"], [0.6666666666666666, \"#ed7953\"], [0.7777777777777778, \"#fb9f3a\"], [0.8888888888888888, \"#fdca26\"], [1.0, \"#f0f921\"]], \"type\": \"heatmap\"}], \"heatmapgl\": [{\"colorbar\": {\"outlinewidth\": 0, \"ticks\": \"\"}, \"colorscale\": [[0.0, \"#0d0887\"], [0.1111111111111111, \"#46039f\"], [0.2222222222222222, \"#7201a8\"], [0.3333333333333333, \"#9c179e\"], [0.4444444444444444, \"#bd3786\"], [0.5555555555555556, \"#d8576b\"], [0.6666666666666666, \"#ed7953\"], [0.7777777777777778, \"#fb9f3a\"], [0.8888888888888888, \"#fdca26\"], [1.0, \"#f0f921\"]], \"type\": \"heatmapgl\"}], \"histogram\": [{\"marker\": {\"colorbar\": {\"outlinewidth\": 0, \"ticks\": \"\"}}, \"type\": \"histogram\"}], \"histogram2d\": [{\"colorbar\": {\"outlinewidth\": 0, \"ticks\": \"\"}, \"colorscale\": [[0.0, \"#0d0887\"], [0.1111111111111111, \"#46039f\"], [0.2222222222222222, \"#7201a8\"], [0.3333333333333333, \"#9c179e\"], [0.4444444444444444, \"#bd3786\"], [0.5555555555555556, \"#d8576b\"], [0.6666666666666666, \"#ed7953\"], [0.7777777777777778, \"#fb9f3a\"], [0.8888888888888888, \"#fdca26\"], [1.0, \"#f0f921\"]], \"type\": \"histogram2d\"}], \"histogram2dcontour\": [{\"colorbar\": {\"outlinewidth\": 0, \"ticks\": \"\"}, \"colorscale\": [[0.0, \"#0d0887\"], [0.1111111111111111, \"#46039f\"], [0.2222222222222222, \"#7201a8\"], [0.3333333333333333, \"#9c179e\"], [0.4444444444444444, \"#bd3786\"], [0.5555555555555556, \"#d8576b\"], [0.6666666666666666, \"#ed7953\"], [0.7777777777777778, \"#fb9f3a\"], [0.8888888888888888, \"#fdca26\"], [1.0, \"#f0f921\"]], \"type\": \"histogram2dcontour\"}], \"mesh3d\": [{\"colorbar\": {\"outlinewidth\": 0, \"ticks\": \"\"}, \"type\": \"mesh3d\"}], \"parcoords\": [{\"line\": {\"colorbar\": {\"outlinewidth\": 0, \"ticks\": \"\"}}, \"type\": \"parcoords\"}], \"pie\": [{\"automargin\": true, \"type\": \"pie\"}], \"scatter\": [{\"marker\": {\"colorbar\": {\"outlinewidth\": 0, \"ticks\": \"\"}}, \"type\": \"scatter\"}], \"scatter3d\": [{\"line\": {\"colorbar\": {\"outlinewidth\": 0, \"ticks\": \"\"}}, \"marker\": {\"colorbar\": {\"outlinewidth\": 0, \"ticks\": \"\"}}, \"type\": \"scatter3d\"}], \"scattercarpet\": [{\"marker\": {\"colorbar\": {\"outlinewidth\": 0, \"ticks\": \"\"}}, \"type\": \"scattercarpet\"}], \"scattergeo\": [{\"marker\": {\"colorbar\": {\"outlinewidth\": 0, \"ticks\": \"\"}}, \"type\": \"scattergeo\"}], \"scattergl\": [{\"marker\": {\"colorbar\": {\"outlinewidth\": 0, \"ticks\": \"\"}}, \"type\": \"scattergl\"}], \"scattermapbox\": [{\"marker\": {\"colorbar\": {\"outlinewidth\": 0, \"ticks\": \"\"}}, \"type\": \"scattermapbox\"}], \"scatterpolar\": [{\"marker\": {\"colorbar\": {\"outlinewidth\": 0, \"ticks\": \"\"}}, \"type\": \"scatterpolar\"}], \"scatterpolargl\": [{\"marker\": {\"colorbar\": {\"outlinewidth\": 0, \"ticks\": \"\"}}, \"type\": \"scatterpolargl\"}], \"scatterternary\": [{\"marker\": {\"colorbar\": {\"outlinewidth\": 0, \"ticks\": \"\"}}, \"type\": \"scatterternary\"}], \"surface\": [{\"colorbar\": {\"outlinewidth\": 0, \"ticks\": \"\"}, \"colorscale\": [[0.0, \"#0d0887\"], [0.1111111111111111, \"#46039f\"], [0.2222222222222222, \"#7201a8\"], [0.3333333333333333, \"#9c179e\"], [0.4444444444444444, \"#bd3786\"], [0.5555555555555556, \"#d8576b\"], [0.6666666666666666, \"#ed7953\"], [0.7777777777777778, \"#fb9f3a\"], [0.8888888888888888, \"#fdca26\"], [1.0, \"#f0f921\"]], \"type\": \"surface\"}], \"table\": [{\"cells\": {\"fill\": {\"color\": \"#EBF0F8\"}, \"line\": {\"color\": \"white\"}}, \"header\": {\"fill\": {\"color\": \"#C8D4E3\"}, \"line\": {\"color\": \"white\"}}, \"type\": \"table\"}]}, \"layout\": {\"annotationdefaults\": {\"arrowcolor\": \"#2a3f5f\", \"arrowhead\": 0, \"arrowwidth\": 1}, \"autotypenumbers\": \"strict\", \"coloraxis\": {\"colorbar\": {\"outlinewidth\": 0, \"ticks\": \"\"}}, \"colorscale\": {\"diverging\": [[0, \"#8e0152\"], [0.1, \"#c51b7d\"], [0.2, \"#de77ae\"], [0.3, \"#f1b6da\"], [0.4, \"#fde0ef\"], [0.5, \"#f7f7f7\"], [0.6, \"#e6f5d0\"], [0.7, \"#b8e186\"], [0.8, \"#7fbc41\"], [0.9, \"#4d9221\"], [1, \"#276419\"]], \"sequential\": [[0.0, \"#0d0887\"], [0.1111111111111111, \"#46039f\"], [0.2222222222222222, \"#7201a8\"], [0.3333333333333333, \"#9c179e\"], [0.4444444444444444, \"#bd3786\"], [0.5555555555555556, \"#d8576b\"], [0.6666666666666666, \"#ed7953\"], [0.7777777777777778, \"#fb9f3a\"], [0.8888888888888888, \"#fdca26\"], [1.0, \"#f0f921\"]], \"sequentialminus\": [[0.0, \"#0d0887\"], [0.1111111111111111, \"#46039f\"], [0.2222222222222222, \"#7201a8\"], [0.3333333333333333, \"#9c179e\"], [0.4444444444444444, \"#bd3786\"], [0.5555555555555556, \"#d8576b\"], [0.6666666666666666, \"#ed7953\"], [0.7777777777777778, \"#fb9f3a\"], [0.8888888888888888, \"#fdca26\"], [1.0, \"#f0f921\"]]}, \"colorway\": [\"#636efa\", \"#EF553B\", \"#00cc96\", \"#ab63fa\", \"#FFA15A\", \"#19d3f3\", \"#FF6692\", \"#B6E880\", \"#FF97FF\", \"#FECB52\"], \"font\": {\"color\": \"#2a3f5f\"}, \"geo\": {\"bgcolor\": \"white\", \"lakecolor\": \"white\", \"landcolor\": \"#E5ECF6\", \"showlakes\": true, \"showland\": true, \"subunitcolor\": \"white\"}, \"hoverlabel\": {\"align\": \"left\"}, \"hovermode\": \"closest\", \"mapbox\": {\"style\": \"light\"}, \"paper_bgcolor\": \"white\", \"plot_bgcolor\": \"#E5ECF6\", \"polar\": {\"angularaxis\": {\"gridcolor\": \"white\", \"linecolor\": \"white\", \"ticks\": \"\"}, \"bgcolor\": \"#E5ECF6\", \"radialaxis\": {\"gridcolor\": \"white\", \"linecolor\": \"white\", \"ticks\": \"\"}}, \"scene\": {\"xaxis\": {\"backgroundcolor\": \"#E5ECF6\", \"gridcolor\": \"white\", \"gridwidth\": 2, \"linecolor\": \"white\", \"showbackground\": true, \"ticks\": \"\", \"zerolinecolor\": \"white\"}, \"yaxis\": {\"backgroundcolor\": \"#E5ECF6\", \"gridcolor\": \"white\", \"gridwidth\": 2, \"linecolor\": \"white\", \"showbackground\": true, \"ticks\": \"\", \"zerolinecolor\": \"white\"}, \"zaxis\": {\"backgroundcolor\": \"#E5ECF6\", \"gridcolor\": \"white\", \"gridwidth\": 2, \"linecolor\": \"white\", \"showbackground\": true, \"ticks\": \"\", \"zerolinecolor\": \"white\"}}, \"shapedefaults\": {\"line\": {\"color\": \"#2a3f5f\"}}, \"ternary\": {\"aaxis\": {\"gridcolor\": \"white\", \"linecolor\": \"white\", \"ticks\": \"\"}, \"baxis\": {\"gridcolor\": \"white\", \"linecolor\": \"white\", \"ticks\": \"\"}, \"bgcolor\": \"#E5ECF6\", \"caxis\": {\"gridcolor\": \"white\", \"linecolor\": \"white\", \"ticks\": \"\"}}, \"title\": {\"x\": 0.05}, \"xaxis\": {\"automargin\": true, \"gridcolor\": \"white\", \"linecolor\": \"white\", \"ticks\": \"\", \"title\": {\"standoff\": 15}, \"zerolinecolor\": \"white\", \"zerolinewidth\": 2}, \"yaxis\": {\"automargin\": true, \"gridcolor\": \"white\", \"linecolor\": \"white\", \"ticks\": \"\", \"title\": {\"standoff\": 15}, \"zerolinecolor\": \"white\", \"zerolinewidth\": 2}}}, \"title\": {\"text\": \"words distribution\"}, \"width\": 1000, \"xaxis\": {\"anchor\": \"y\", \"domain\": [0.0, 1.0], \"title\": {\"text\": \"\"}}, \"yaxis\": {\"anchor\": \"x\", \"domain\": [0.0, 1.0], \"title\": {\"text\": \"\"}}},                        {\"responsive\": true}                    ).then(function(){\n",
       "                            \n",
       "var gd = document.getElementById('297c7a8d-6ee2-448a-979a-ffd13e9b5594');\n",
       "var x = new MutationObserver(function (mutations, observer) {{\n",
       "        var display = window.getComputedStyle(gd).display;\n",
       "        if (!display || display === 'none') {{\n",
       "            console.log([gd, 'removed!']);\n",
       "            Plotly.purge(gd);\n",
       "            observer.disconnect();\n",
       "        }}\n",
       "}});\n",
       "\n",
       "// Listen for the removal of the full notebook cells\n",
       "var notebookContainer = gd.closest('#notebook-container');\n",
       "if (notebookContainer) {{\n",
       "    x.observe(notebookContainer, {childList: true});\n",
       "}}\n",
       "\n",
       "// Listen for the clearing of the current output cell\n",
       "var outputEl = gd.closest('.output');\n",
       "if (outputEl) {{\n",
       "    x.observe(outputEl, {childList: true});\n",
       "}}\n",
       "\n",
       "                        })                };                });            </script>        </div>"
      ]
     },
     "metadata": {},
     "output_type": "display_data"
    }
   ],
   "source": [
    "wordhist = npt.word_distribution(title='words distribution')\n",
    "wordhist.write_html(\"Resources/wordhistogram.html\")\n",
    "wordhist"
   ]
  },
  {
   "cell_type": "code",
   "execution_count": 19,
   "id": "controlling-sheep",
   "metadata": {},
   "outputs": [
    {
     "name": "stderr",
     "output_type": "stream",
     "text": [
      "100%|███████████████████████████████████████████████████████████████████████████| 4004/4004 [00:00<00:00, 19813.70it/s]\n"
     ]
    },
    {
     "data": {
      "application/vnd.plotly.v1+json": {
       "config": {
        "plotlyServerURL": "https://plot.ly"
       },
       "data": [
        {
         "branchvalues": "total",
         "domain": {
          "x": [
           0,
           1
          ],
          "y": [
           0,
           1
          ]
         },
         "hovertemplate": "labels=%{label}<br>word_count=%{value}<br>parent=%{parent}<br>id=%{id}<extra></extra>",
         "ids": [
          "also",
          "around",
          "attraction",
          "back",
          "character",
          "child",
          "close",
          "come",
          "crowd",
          "enjoy",
          "even",
          "experience",
          "family",
          "fast",
          "first",
          "fun",
          "hour",
          "long",
          "lot",
          "many",
          "minute",
          "old",
          "pas",
          "people",
          "small",
          "staff",
          "still",
          "ticket",
          "want",
          "world"
         ],
         "labels": [
          "also",
          "around",
          "attraction",
          "back",
          "character",
          "child",
          "close",
          "come",
          "crowd",
          "enjoy",
          "even",
          "experience",
          "family",
          "fast",
          "first",
          "fun",
          "hour",
          "long",
          "lot",
          "many",
          "minute",
          "old",
          "pas",
          "people",
          "small",
          "staff",
          "still",
          "ticket",
          "want",
          "world"
         ],
         "name": "",
         "parents": [
          "",
          "",
          "",
          "",
          "",
          "",
          "",
          "",
          "",
          "",
          "",
          "",
          "",
          "",
          "",
          "",
          "",
          "",
          "",
          "",
          "",
          "",
          "",
          "",
          "",
          "",
          "",
          "",
          "",
          ""
         ],
         "type": "treemap",
         "values": [
          958,
          811,
          825,
          906,
          863,
          927,
          761,
          766,
          771,
          862,
          1040,
          952,
          716,
          885,
          823,
          950,
          849,
          1046,
          897,
          809,
          725,
          778,
          762,
          992,
          883,
          768,
          752,
          779,
          725,
          726
         ]
        }
       ],
       "layout": {
        "height": 600,
        "legend": {
         "tracegroupgap": 0
        },
        "margin": {
         "t": 60
        },
        "template": {
         "data": {
          "bar": [
           {
            "error_x": {
             "color": "#2a3f5f"
            },
            "error_y": {
             "color": "#2a3f5f"
            },
            "marker": {
             "line": {
              "color": "#E5ECF6",
              "width": 0.5
             }
            },
            "type": "bar"
           }
          ],
          "barpolar": [
           {
            "marker": {
             "line": {
              "color": "#E5ECF6",
              "width": 0.5
             }
            },
            "type": "barpolar"
           }
          ],
          "carpet": [
           {
            "aaxis": {
             "endlinecolor": "#2a3f5f",
             "gridcolor": "white",
             "linecolor": "white",
             "minorgridcolor": "white",
             "startlinecolor": "#2a3f5f"
            },
            "baxis": {
             "endlinecolor": "#2a3f5f",
             "gridcolor": "white",
             "linecolor": "white",
             "minorgridcolor": "white",
             "startlinecolor": "#2a3f5f"
            },
            "type": "carpet"
           }
          ],
          "choropleth": [
           {
            "colorbar": {
             "outlinewidth": 0,
             "ticks": ""
            },
            "type": "choropleth"
           }
          ],
          "contour": [
           {
            "colorbar": {
             "outlinewidth": 0,
             "ticks": ""
            },
            "colorscale": [
             [
              0,
              "#0d0887"
             ],
             [
              0.1111111111111111,
              "#46039f"
             ],
             [
              0.2222222222222222,
              "#7201a8"
             ],
             [
              0.3333333333333333,
              "#9c179e"
             ],
             [
              0.4444444444444444,
              "#bd3786"
             ],
             [
              0.5555555555555556,
              "#d8576b"
             ],
             [
              0.6666666666666666,
              "#ed7953"
             ],
             [
              0.7777777777777778,
              "#fb9f3a"
             ],
             [
              0.8888888888888888,
              "#fdca26"
             ],
             [
              1,
              "#f0f921"
             ]
            ],
            "type": "contour"
           }
          ],
          "contourcarpet": [
           {
            "colorbar": {
             "outlinewidth": 0,
             "ticks": ""
            },
            "type": "contourcarpet"
           }
          ],
          "heatmap": [
           {
            "colorbar": {
             "outlinewidth": 0,
             "ticks": ""
            },
            "colorscale": [
             [
              0,
              "#0d0887"
             ],
             [
              0.1111111111111111,
              "#46039f"
             ],
             [
              0.2222222222222222,
              "#7201a8"
             ],
             [
              0.3333333333333333,
              "#9c179e"
             ],
             [
              0.4444444444444444,
              "#bd3786"
             ],
             [
              0.5555555555555556,
              "#d8576b"
             ],
             [
              0.6666666666666666,
              "#ed7953"
             ],
             [
              0.7777777777777778,
              "#fb9f3a"
             ],
             [
              0.8888888888888888,
              "#fdca26"
             ],
             [
              1,
              "#f0f921"
             ]
            ],
            "type": "heatmap"
           }
          ],
          "heatmapgl": [
           {
            "colorbar": {
             "outlinewidth": 0,
             "ticks": ""
            },
            "colorscale": [
             [
              0,
              "#0d0887"
             ],
             [
              0.1111111111111111,
              "#46039f"
             ],
             [
              0.2222222222222222,
              "#7201a8"
             ],
             [
              0.3333333333333333,
              "#9c179e"
             ],
             [
              0.4444444444444444,
              "#bd3786"
             ],
             [
              0.5555555555555556,
              "#d8576b"
             ],
             [
              0.6666666666666666,
              "#ed7953"
             ],
             [
              0.7777777777777778,
              "#fb9f3a"
             ],
             [
              0.8888888888888888,
              "#fdca26"
             ],
             [
              1,
              "#f0f921"
             ]
            ],
            "type": "heatmapgl"
           }
          ],
          "histogram": [
           {
            "marker": {
             "colorbar": {
              "outlinewidth": 0,
              "ticks": ""
             }
            },
            "type": "histogram"
           }
          ],
          "histogram2d": [
           {
            "colorbar": {
             "outlinewidth": 0,
             "ticks": ""
            },
            "colorscale": [
             [
              0,
              "#0d0887"
             ],
             [
              0.1111111111111111,
              "#46039f"
             ],
             [
              0.2222222222222222,
              "#7201a8"
             ],
             [
              0.3333333333333333,
              "#9c179e"
             ],
             [
              0.4444444444444444,
              "#bd3786"
             ],
             [
              0.5555555555555556,
              "#d8576b"
             ],
             [
              0.6666666666666666,
              "#ed7953"
             ],
             [
              0.7777777777777778,
              "#fb9f3a"
             ],
             [
              0.8888888888888888,
              "#fdca26"
             ],
             [
              1,
              "#f0f921"
             ]
            ],
            "type": "histogram2d"
           }
          ],
          "histogram2dcontour": [
           {
            "colorbar": {
             "outlinewidth": 0,
             "ticks": ""
            },
            "colorscale": [
             [
              0,
              "#0d0887"
             ],
             [
              0.1111111111111111,
              "#46039f"
             ],
             [
              0.2222222222222222,
              "#7201a8"
             ],
             [
              0.3333333333333333,
              "#9c179e"
             ],
             [
              0.4444444444444444,
              "#bd3786"
             ],
             [
              0.5555555555555556,
              "#d8576b"
             ],
             [
              0.6666666666666666,
              "#ed7953"
             ],
             [
              0.7777777777777778,
              "#fb9f3a"
             ],
             [
              0.8888888888888888,
              "#fdca26"
             ],
             [
              1,
              "#f0f921"
             ]
            ],
            "type": "histogram2dcontour"
           }
          ],
          "mesh3d": [
           {
            "colorbar": {
             "outlinewidth": 0,
             "ticks": ""
            },
            "type": "mesh3d"
           }
          ],
          "parcoords": [
           {
            "line": {
             "colorbar": {
              "outlinewidth": 0,
              "ticks": ""
             }
            },
            "type": "parcoords"
           }
          ],
          "pie": [
           {
            "automargin": true,
            "type": "pie"
           }
          ],
          "scatter": [
           {
            "marker": {
             "colorbar": {
              "outlinewidth": 0,
              "ticks": ""
             }
            },
            "type": "scatter"
           }
          ],
          "scatter3d": [
           {
            "line": {
             "colorbar": {
              "outlinewidth": 0,
              "ticks": ""
             }
            },
            "marker": {
             "colorbar": {
              "outlinewidth": 0,
              "ticks": ""
             }
            },
            "type": "scatter3d"
           }
          ],
          "scattercarpet": [
           {
            "marker": {
             "colorbar": {
              "outlinewidth": 0,
              "ticks": ""
             }
            },
            "type": "scattercarpet"
           }
          ],
          "scattergeo": [
           {
            "marker": {
             "colorbar": {
              "outlinewidth": 0,
              "ticks": ""
             }
            },
            "type": "scattergeo"
           }
          ],
          "scattergl": [
           {
            "marker": {
             "colorbar": {
              "outlinewidth": 0,
              "ticks": ""
             }
            },
            "type": "scattergl"
           }
          ],
          "scattermapbox": [
           {
            "marker": {
             "colorbar": {
              "outlinewidth": 0,
              "ticks": ""
             }
            },
            "type": "scattermapbox"
           }
          ],
          "scatterpolar": [
           {
            "marker": {
             "colorbar": {
              "outlinewidth": 0,
              "ticks": ""
             }
            },
            "type": "scatterpolar"
           }
          ],
          "scatterpolargl": [
           {
            "marker": {
             "colorbar": {
              "outlinewidth": 0,
              "ticks": ""
             }
            },
            "type": "scatterpolargl"
           }
          ],
          "scatterternary": [
           {
            "marker": {
             "colorbar": {
              "outlinewidth": 0,
              "ticks": ""
             }
            },
            "type": "scatterternary"
           }
          ],
          "surface": [
           {
            "colorbar": {
             "outlinewidth": 0,
             "ticks": ""
            },
            "colorscale": [
             [
              0,
              "#0d0887"
             ],
             [
              0.1111111111111111,
              "#46039f"
             ],
             [
              0.2222222222222222,
              "#7201a8"
             ],
             [
              0.3333333333333333,
              "#9c179e"
             ],
             [
              0.4444444444444444,
              "#bd3786"
             ],
             [
              0.5555555555555556,
              "#d8576b"
             ],
             [
              0.6666666666666666,
              "#ed7953"
             ],
             [
              0.7777777777777778,
              "#fb9f3a"
             ],
             [
              0.8888888888888888,
              "#fdca26"
             ],
             [
              1,
              "#f0f921"
             ]
            ],
            "type": "surface"
           }
          ],
          "table": [
           {
            "cells": {
             "fill": {
              "color": "#EBF0F8"
             },
             "line": {
              "color": "white"
             }
            },
            "header": {
             "fill": {
              "color": "#C8D4E3"
             },
             "line": {
              "color": "white"
             }
            },
            "type": "table"
           }
          ]
         },
         "layout": {
          "annotationdefaults": {
           "arrowcolor": "#2a3f5f",
           "arrowhead": 0,
           "arrowwidth": 1
          },
          "autotypenumbers": "strict",
          "coloraxis": {
           "colorbar": {
            "outlinewidth": 0,
            "ticks": ""
           }
          },
          "colorscale": {
           "diverging": [
            [
             0,
             "#8e0152"
            ],
            [
             0.1,
             "#c51b7d"
            ],
            [
             0.2,
             "#de77ae"
            ],
            [
             0.3,
             "#f1b6da"
            ],
            [
             0.4,
             "#fde0ef"
            ],
            [
             0.5,
             "#f7f7f7"
            ],
            [
             0.6,
             "#e6f5d0"
            ],
            [
             0.7,
             "#b8e186"
            ],
            [
             0.8,
             "#7fbc41"
            ],
            [
             0.9,
             "#4d9221"
            ],
            [
             1,
             "#276419"
            ]
           ],
           "sequential": [
            [
             0,
             "#0d0887"
            ],
            [
             0.1111111111111111,
             "#46039f"
            ],
            [
             0.2222222222222222,
             "#7201a8"
            ],
            [
             0.3333333333333333,
             "#9c179e"
            ],
            [
             0.4444444444444444,
             "#bd3786"
            ],
            [
             0.5555555555555556,
             "#d8576b"
            ],
            [
             0.6666666666666666,
             "#ed7953"
            ],
            [
             0.7777777777777778,
             "#fb9f3a"
            ],
            [
             0.8888888888888888,
             "#fdca26"
            ],
            [
             1,
             "#f0f921"
            ]
           ],
           "sequentialminus": [
            [
             0,
             "#0d0887"
            ],
            [
             0.1111111111111111,
             "#46039f"
            ],
            [
             0.2222222222222222,
             "#7201a8"
            ],
            [
             0.3333333333333333,
             "#9c179e"
            ],
            [
             0.4444444444444444,
             "#bd3786"
            ],
            [
             0.5555555555555556,
             "#d8576b"
            ],
            [
             0.6666666666666666,
             "#ed7953"
            ],
            [
             0.7777777777777778,
             "#fb9f3a"
            ],
            [
             0.8888888888888888,
             "#fdca26"
            ],
            [
             1,
             "#f0f921"
            ]
           ]
          },
          "colorway": [
           "#636efa",
           "#EF553B",
           "#00cc96",
           "#ab63fa",
           "#FFA15A",
           "#19d3f3",
           "#FF6692",
           "#B6E880",
           "#FF97FF",
           "#FECB52"
          ],
          "font": {
           "color": "#2a3f5f"
          },
          "geo": {
           "bgcolor": "white",
           "lakecolor": "white",
           "landcolor": "#E5ECF6",
           "showlakes": true,
           "showland": true,
           "subunitcolor": "white"
          },
          "hoverlabel": {
           "align": "left"
          },
          "hovermode": "closest",
          "mapbox": {
           "style": "light"
          },
          "paper_bgcolor": "white",
          "plot_bgcolor": "#E5ECF6",
          "polar": {
           "angularaxis": {
            "gridcolor": "white",
            "linecolor": "white",
            "ticks": ""
           },
           "bgcolor": "#E5ECF6",
           "radialaxis": {
            "gridcolor": "white",
            "linecolor": "white",
            "ticks": ""
           }
          },
          "scene": {
           "xaxis": {
            "backgroundcolor": "#E5ECF6",
            "gridcolor": "white",
            "gridwidth": 2,
            "linecolor": "white",
            "showbackground": true,
            "ticks": "",
            "zerolinecolor": "white"
           },
           "yaxis": {
            "backgroundcolor": "#E5ECF6",
            "gridcolor": "white",
            "gridwidth": 2,
            "linecolor": "white",
            "showbackground": true,
            "ticks": "",
            "zerolinecolor": "white"
           },
           "zaxis": {
            "backgroundcolor": "#E5ECF6",
            "gridcolor": "white",
            "gridwidth": 2,
            "linecolor": "white",
            "showbackground": true,
            "ticks": "",
            "zerolinecolor": "white"
           }
          },
          "shapedefaults": {
           "line": {
            "color": "#2a3f5f"
           }
          },
          "ternary": {
           "aaxis": {
            "gridcolor": "white",
            "linecolor": "white",
            "ticks": ""
           },
           "baxis": {
            "gridcolor": "white",
            "linecolor": "white",
            "ticks": ""
           },
           "bgcolor": "#E5ECF6",
           "caxis": {
            "gridcolor": "white",
            "linecolor": "white",
            "ticks": ""
           }
          },
          "title": {
           "x": 0.05
          },
          "xaxis": {
           "automargin": true,
           "gridcolor": "white",
           "linecolor": "white",
           "ticks": "",
           "title": {
            "standoff": 15
           },
           "zerolinecolor": "white",
           "zerolinewidth": 2
          },
          "yaxis": {
           "automargin": true,
           "gridcolor": "white",
           "linecolor": "white",
           "ticks": "",
           "title": {
            "standoff": 15
           },
           "zerolinecolor": "white",
           "zerolinewidth": 2
          }
         }
        },
        "title": {
         "text": "Tree of Most Common Words"
        },
        "width": 1300
       }
      },
      "text/html": [
       "<div>                            <div id=\"6c322bda-4a0a-4b63-83b3-e3ccaa19e0a9\" class=\"plotly-graph-div\" style=\"height:600px; width:1300px;\"></div>            <script type=\"text/javascript\">                require([\"plotly\"], function(Plotly) {                    window.PLOTLYENV=window.PLOTLYENV || {};                                    if (document.getElementById(\"6c322bda-4a0a-4b63-83b3-e3ccaa19e0a9\")) {                    Plotly.newPlot(                        \"6c322bda-4a0a-4b63-83b3-e3ccaa19e0a9\",                        [{\"branchvalues\": \"total\", \"domain\": {\"x\": [0.0, 1.0], \"y\": [0.0, 1.0]}, \"hovertemplate\": \"labels=%{label}<br>word_count=%{value}<br>parent=%{parent}<br>id=%{id}<extra></extra>\", \"ids\": [\"also\", \"around\", \"attraction\", \"back\", \"character\", \"child\", \"close\", \"come\", \"crowd\", \"enjoy\", \"even\", \"experience\", \"family\", \"fast\", \"first\", \"fun\", \"hour\", \"long\", \"lot\", \"many\", \"minute\", \"old\", \"pas\", \"people\", \"small\", \"staff\", \"still\", \"ticket\", \"want\", \"world\"], \"labels\": [\"also\", \"around\", \"attraction\", \"back\", \"character\", \"child\", \"close\", \"come\", \"crowd\", \"enjoy\", \"even\", \"experience\", \"family\", \"fast\", \"first\", \"fun\", \"hour\", \"long\", \"lot\", \"many\", \"minute\", \"old\", \"pas\", \"people\", \"small\", \"staff\", \"still\", \"ticket\", \"want\", \"world\"], \"name\": \"\", \"parents\": [\"\", \"\", \"\", \"\", \"\", \"\", \"\", \"\", \"\", \"\", \"\", \"\", \"\", \"\", \"\", \"\", \"\", \"\", \"\", \"\", \"\", \"\", \"\", \"\", \"\", \"\", \"\", \"\", \"\", \"\"], \"type\": \"treemap\", \"values\": [958, 811, 825, 906, 863, 927, 761, 766, 771, 862, 1040, 952, 716, 885, 823, 950, 849, 1046, 897, 809, 725, 778, 762, 992, 883, 768, 752, 779, 725, 726]}],                        {\"height\": 600, \"legend\": {\"tracegroupgap\": 0}, \"margin\": {\"t\": 60}, \"template\": {\"data\": {\"bar\": [{\"error_x\": {\"color\": \"#2a3f5f\"}, \"error_y\": {\"color\": \"#2a3f5f\"}, \"marker\": {\"line\": {\"color\": \"#E5ECF6\", \"width\": 0.5}}, \"type\": \"bar\"}], \"barpolar\": [{\"marker\": {\"line\": {\"color\": \"#E5ECF6\", \"width\": 0.5}}, \"type\": \"barpolar\"}], \"carpet\": [{\"aaxis\": {\"endlinecolor\": \"#2a3f5f\", \"gridcolor\": \"white\", \"linecolor\": \"white\", \"minorgridcolor\": \"white\", \"startlinecolor\": \"#2a3f5f\"}, \"baxis\": {\"endlinecolor\": \"#2a3f5f\", \"gridcolor\": \"white\", \"linecolor\": \"white\", \"minorgridcolor\": \"white\", \"startlinecolor\": \"#2a3f5f\"}, \"type\": \"carpet\"}], \"choropleth\": [{\"colorbar\": {\"outlinewidth\": 0, \"ticks\": \"\"}, \"type\": \"choropleth\"}], \"contour\": [{\"colorbar\": {\"outlinewidth\": 0, \"ticks\": \"\"}, \"colorscale\": [[0.0, \"#0d0887\"], [0.1111111111111111, \"#46039f\"], [0.2222222222222222, \"#7201a8\"], [0.3333333333333333, \"#9c179e\"], [0.4444444444444444, \"#bd3786\"], [0.5555555555555556, \"#d8576b\"], [0.6666666666666666, \"#ed7953\"], [0.7777777777777778, \"#fb9f3a\"], [0.8888888888888888, \"#fdca26\"], [1.0, \"#f0f921\"]], \"type\": \"contour\"}], \"contourcarpet\": [{\"colorbar\": {\"outlinewidth\": 0, \"ticks\": \"\"}, \"type\": \"contourcarpet\"}], \"heatmap\": [{\"colorbar\": {\"outlinewidth\": 0, \"ticks\": \"\"}, \"colorscale\": [[0.0, \"#0d0887\"], [0.1111111111111111, \"#46039f\"], [0.2222222222222222, \"#7201a8\"], [0.3333333333333333, \"#9c179e\"], [0.4444444444444444, \"#bd3786\"], [0.5555555555555556, \"#d8576b\"], [0.6666666666666666, \"#ed7953\"], [0.7777777777777778, \"#fb9f3a\"], [0.8888888888888888, \"#fdca26\"], [1.0, \"#f0f921\"]], \"type\": \"heatmap\"}], \"heatmapgl\": [{\"colorbar\": {\"outlinewidth\": 0, \"ticks\": \"\"}, \"colorscale\": [[0.0, \"#0d0887\"], [0.1111111111111111, \"#46039f\"], [0.2222222222222222, \"#7201a8\"], [0.3333333333333333, \"#9c179e\"], [0.4444444444444444, \"#bd3786\"], [0.5555555555555556, \"#d8576b\"], [0.6666666666666666, \"#ed7953\"], [0.7777777777777778, \"#fb9f3a\"], [0.8888888888888888, \"#fdca26\"], [1.0, \"#f0f921\"]], \"type\": \"heatmapgl\"}], \"histogram\": [{\"marker\": {\"colorbar\": {\"outlinewidth\": 0, \"ticks\": \"\"}}, \"type\": \"histogram\"}], \"histogram2d\": [{\"colorbar\": {\"outlinewidth\": 0, \"ticks\": \"\"}, \"colorscale\": [[0.0, \"#0d0887\"], [0.1111111111111111, \"#46039f\"], [0.2222222222222222, \"#7201a8\"], [0.3333333333333333, \"#9c179e\"], [0.4444444444444444, \"#bd3786\"], [0.5555555555555556, \"#d8576b\"], [0.6666666666666666, \"#ed7953\"], [0.7777777777777778, \"#fb9f3a\"], [0.8888888888888888, \"#fdca26\"], [1.0, \"#f0f921\"]], \"type\": \"histogram2d\"}], \"histogram2dcontour\": [{\"colorbar\": {\"outlinewidth\": 0, \"ticks\": \"\"}, \"colorscale\": [[0.0, \"#0d0887\"], [0.1111111111111111, \"#46039f\"], [0.2222222222222222, \"#7201a8\"], [0.3333333333333333, \"#9c179e\"], [0.4444444444444444, \"#bd3786\"], [0.5555555555555556, \"#d8576b\"], [0.6666666666666666, \"#ed7953\"], [0.7777777777777778, \"#fb9f3a\"], [0.8888888888888888, \"#fdca26\"], [1.0, \"#f0f921\"]], \"type\": \"histogram2dcontour\"}], \"mesh3d\": [{\"colorbar\": {\"outlinewidth\": 0, \"ticks\": \"\"}, \"type\": \"mesh3d\"}], \"parcoords\": [{\"line\": {\"colorbar\": {\"outlinewidth\": 0, \"ticks\": \"\"}}, \"type\": \"parcoords\"}], \"pie\": [{\"automargin\": true, \"type\": \"pie\"}], \"scatter\": [{\"marker\": {\"colorbar\": {\"outlinewidth\": 0, \"ticks\": \"\"}}, \"type\": \"scatter\"}], \"scatter3d\": [{\"line\": {\"colorbar\": {\"outlinewidth\": 0, \"ticks\": \"\"}}, \"marker\": {\"colorbar\": {\"outlinewidth\": 0, \"ticks\": \"\"}}, \"type\": \"scatter3d\"}], \"scattercarpet\": [{\"marker\": {\"colorbar\": {\"outlinewidth\": 0, \"ticks\": \"\"}}, \"type\": \"scattercarpet\"}], \"scattergeo\": [{\"marker\": {\"colorbar\": {\"outlinewidth\": 0, \"ticks\": \"\"}}, \"type\": \"scattergeo\"}], \"scattergl\": [{\"marker\": {\"colorbar\": {\"outlinewidth\": 0, \"ticks\": \"\"}}, \"type\": \"scattergl\"}], \"scattermapbox\": [{\"marker\": {\"colorbar\": {\"outlinewidth\": 0, \"ticks\": \"\"}}, \"type\": \"scattermapbox\"}], \"scatterpolar\": [{\"marker\": {\"colorbar\": {\"outlinewidth\": 0, \"ticks\": \"\"}}, \"type\": \"scatterpolar\"}], \"scatterpolargl\": [{\"marker\": {\"colorbar\": {\"outlinewidth\": 0, \"ticks\": \"\"}}, \"type\": \"scatterpolargl\"}], \"scatterternary\": [{\"marker\": {\"colorbar\": {\"outlinewidth\": 0, \"ticks\": \"\"}}, \"type\": \"scatterternary\"}], \"surface\": [{\"colorbar\": {\"outlinewidth\": 0, \"ticks\": \"\"}, \"colorscale\": [[0.0, \"#0d0887\"], [0.1111111111111111, \"#46039f\"], [0.2222222222222222, \"#7201a8\"], [0.3333333333333333, \"#9c179e\"], [0.4444444444444444, \"#bd3786\"], [0.5555555555555556, \"#d8576b\"], [0.6666666666666666, \"#ed7953\"], [0.7777777777777778, \"#fb9f3a\"], [0.8888888888888888, \"#fdca26\"], [1.0, \"#f0f921\"]], \"type\": \"surface\"}], \"table\": [{\"cells\": {\"fill\": {\"color\": \"#EBF0F8\"}, \"line\": {\"color\": \"white\"}}, \"header\": {\"fill\": {\"color\": \"#C8D4E3\"}, \"line\": {\"color\": \"white\"}}, \"type\": \"table\"}]}, \"layout\": {\"annotationdefaults\": {\"arrowcolor\": \"#2a3f5f\", \"arrowhead\": 0, \"arrowwidth\": 1}, \"autotypenumbers\": \"strict\", \"coloraxis\": {\"colorbar\": {\"outlinewidth\": 0, \"ticks\": \"\"}}, \"colorscale\": {\"diverging\": [[0, \"#8e0152\"], [0.1, \"#c51b7d\"], [0.2, \"#de77ae\"], [0.3, \"#f1b6da\"], [0.4, \"#fde0ef\"], [0.5, \"#f7f7f7\"], [0.6, \"#e6f5d0\"], [0.7, \"#b8e186\"], [0.8, \"#7fbc41\"], [0.9, \"#4d9221\"], [1, \"#276419\"]], \"sequential\": [[0.0, \"#0d0887\"], [0.1111111111111111, \"#46039f\"], [0.2222222222222222, \"#7201a8\"], [0.3333333333333333, \"#9c179e\"], [0.4444444444444444, \"#bd3786\"], [0.5555555555555556, \"#d8576b\"], [0.6666666666666666, \"#ed7953\"], [0.7777777777777778, \"#fb9f3a\"], [0.8888888888888888, \"#fdca26\"], [1.0, \"#f0f921\"]], \"sequentialminus\": [[0.0, \"#0d0887\"], [0.1111111111111111, \"#46039f\"], [0.2222222222222222, \"#7201a8\"], [0.3333333333333333, \"#9c179e\"], [0.4444444444444444, \"#bd3786\"], [0.5555555555555556, \"#d8576b\"], [0.6666666666666666, \"#ed7953\"], [0.7777777777777778, \"#fb9f3a\"], [0.8888888888888888, \"#fdca26\"], [1.0, \"#f0f921\"]]}, \"colorway\": [\"#636efa\", \"#EF553B\", \"#00cc96\", \"#ab63fa\", \"#FFA15A\", \"#19d3f3\", \"#FF6692\", \"#B6E880\", \"#FF97FF\", \"#FECB52\"], \"font\": {\"color\": \"#2a3f5f\"}, \"geo\": {\"bgcolor\": \"white\", \"lakecolor\": \"white\", \"landcolor\": \"#E5ECF6\", \"showlakes\": true, \"showland\": true, \"subunitcolor\": \"white\"}, \"hoverlabel\": {\"align\": \"left\"}, \"hovermode\": \"closest\", \"mapbox\": {\"style\": \"light\"}, \"paper_bgcolor\": \"white\", \"plot_bgcolor\": \"#E5ECF6\", \"polar\": {\"angularaxis\": {\"gridcolor\": \"white\", \"linecolor\": \"white\", \"ticks\": \"\"}, \"bgcolor\": \"#E5ECF6\", \"radialaxis\": {\"gridcolor\": \"white\", \"linecolor\": \"white\", \"ticks\": \"\"}}, \"scene\": {\"xaxis\": {\"backgroundcolor\": \"#E5ECF6\", \"gridcolor\": \"white\", \"gridwidth\": 2, \"linecolor\": \"white\", \"showbackground\": true, \"ticks\": \"\", \"zerolinecolor\": \"white\"}, \"yaxis\": {\"backgroundcolor\": \"#E5ECF6\", \"gridcolor\": \"white\", \"gridwidth\": 2, \"linecolor\": \"white\", \"showbackground\": true, \"ticks\": \"\", \"zerolinecolor\": \"white\"}, \"zaxis\": {\"backgroundcolor\": \"#E5ECF6\", \"gridcolor\": \"white\", \"gridwidth\": 2, \"linecolor\": \"white\", \"showbackground\": true, \"ticks\": \"\", \"zerolinecolor\": \"white\"}}, \"shapedefaults\": {\"line\": {\"color\": \"#2a3f5f\"}}, \"ternary\": {\"aaxis\": {\"gridcolor\": \"white\", \"linecolor\": \"white\", \"ticks\": \"\"}, \"baxis\": {\"gridcolor\": \"white\", \"linecolor\": \"white\", \"ticks\": \"\"}, \"bgcolor\": \"#E5ECF6\", \"caxis\": {\"gridcolor\": \"white\", \"linecolor\": \"white\", \"ticks\": \"\"}}, \"title\": {\"x\": 0.05}, \"xaxis\": {\"automargin\": true, \"gridcolor\": \"white\", \"linecolor\": \"white\", \"ticks\": \"\", \"title\": {\"standoff\": 15}, \"zerolinecolor\": \"white\", \"zerolinewidth\": 2}, \"yaxis\": {\"automargin\": true, \"gridcolor\": \"white\", \"linecolor\": \"white\", \"ticks\": \"\", \"title\": {\"standoff\": 15}, \"zerolinecolor\": \"white\", \"zerolinewidth\": 2}}}, \"title\": {\"text\": \"Tree of Most Common Words\"}, \"width\": 1300},                        {\"responsive\": true}                    ).then(function(){\n",
       "                            \n",
       "var gd = document.getElementById('6c322bda-4a0a-4b63-83b3-e3ccaa19e0a9');\n",
       "var x = new MutationObserver(function (mutations, observer) {{\n",
       "        var display = window.getComputedStyle(gd).display;\n",
       "        if (!display || display === 'none') {{\n",
       "            console.log([gd, 'removed!']);\n",
       "            Plotly.purge(gd);\n",
       "            observer.disconnect();\n",
       "        }}\n",
       "}});\n",
       "\n",
       "// Listen for the removal of the full notebook cells\n",
       "var notebookContainer = gd.closest('#notebook-container');\n",
       "if (notebookContainer) {{\n",
       "    x.observe(notebookContainer, {childList: true});\n",
       "}}\n",
       "\n",
       "// Listen for the clearing of the current output cell\n",
       "var outputEl = gd.closest('.output');\n",
       "if (outputEl) {{\n",
       "    x.observe(outputEl, {childList: true});\n",
       "}}\n",
       "\n",
       "                        })                };                });            </script>        </div>"
      ]
     },
     "metadata": {},
     "output_type": "display_data"
    }
   ],
   "source": [
    "tree = npt.treemap(title='Tree of Most Common Words', ngram=1, top_n=30, stopwords=stopwords)\n",
    "tree.write_html(\"Resources/treemap.html\")\n",
    "tree"
   ]
  },
  {
   "cell_type": "code",
   "execution_count": 20,
   "id": "parental-legislature",
   "metadata": {},
   "outputs": [
    {
     "name": "stderr",
     "output_type": "stream",
     "text": [
      "100%|███████████████████████████████████████████████████████████████████████████| 4004/4004 [00:00<00:00, 19301.22it/s]\n",
      "100%|███████████████████████████████████████████████████████████████████████████| 4004/4004 [00:00<00:00, 15147.81it/s]\n"
     ]
    },
    {
     "data": {
      "application/vnd.plotly.v1+json": {
       "config": {
        "plotlyServerURL": "https://plot.ly"
       },
       "data": [
        {
         "alignmentgroup": "True",
         "hovertemplate": "word_count=%{text}<br>word=%{y}<extra></extra>",
         "legendgroup": "",
         "marker": {},
         "name": "",
         "offsetgroup": "",
         "orientation": "h",
         "showlegend": false,
         "text": [
          49,
          50,
          50,
          50,
          50,
          52,
          52,
          53,
          53,
          53,
          54,
          54,
          55,
          56,
          57,
          64,
          75,
          76,
          76,
          78,
          86,
          87,
          89,
          92,
          93,
          95,
          98,
          98,
          100,
          102,
          104,
          104,
          107,
          111,
          114,
          125,
          127,
          134,
          138,
          159,
          160,
          190,
          199,
          202,
          220,
          232,
          265,
          316,
          336,
          425
         ],
         "textposition": "auto",
         "texttemplate": "%{text:.2s}",
         "type": "bar",
         "x": [
          49,
          50,
          50,
          50,
          50,
          52,
          52,
          53,
          53,
          53,
          54,
          54,
          55,
          56,
          57,
          64,
          75,
          76,
          76,
          78,
          86,
          87,
          89,
          92,
          93,
          95,
          98,
          98,
          100,
          102,
          104,
          104,
          107,
          111,
          114,
          125,
          127,
          134,
          138,
          159,
          160,
          190,
          199,
          202,
          220,
          232,
          265,
          316,
          336,
          425
         ],
         "xaxis": "x",
         "y": [
          "magic morning",
          "meet character",
          "single rider",
          "jungle cruise",
          "fast track",
          "tower terror",
          "old daughter",
          "firework display",
          "buy ticket",
          "early morning",
          "pas system",
          "walt studio",
          "attraction close",
          "customer service",
          "lot people",
          "lot fun",
          "staff friendly",
          "buzz lightyear",
          "small child",
          "magic kingdom",
          "star tour",
          "toy story",
          "mickey mouse",
          "many people",
          "splash mountain",
          "highly recommend",
          "stay hotel",
          "use fast",
          "peter pan",
          "walk around",
          "roller coaster",
          "haunt mansion",
          "lion king",
          "young child",
          "big thunder",
          "star war",
          "even though",
          "happy earth",
          "pirate caribbean",
          "thunder mountain",
          "come back",
          "indiana jones",
          "cast member",
          "main street",
          "california adventure",
          "small world",
          "fast pass",
          "hong kong",
          "space mountain",
          "fast pas"
         ],
         "yaxis": "y"
        }
       ],
       "layout": {
        "barmode": "relative",
        "height": 1100,
        "legend": {
         "tracegroupgap": 0
        },
        "margin": {
         "t": 60
        },
        "template": {
         "data": {
          "bar": [
           {
            "error_x": {
             "color": "#2a3f5f"
            },
            "error_y": {
             "color": "#2a3f5f"
            },
            "marker": {
             "line": {
              "color": "#E5ECF6",
              "width": 0.5
             }
            },
            "type": "bar"
           }
          ],
          "barpolar": [
           {
            "marker": {
             "line": {
              "color": "#E5ECF6",
              "width": 0.5
             }
            },
            "type": "barpolar"
           }
          ],
          "carpet": [
           {
            "aaxis": {
             "endlinecolor": "#2a3f5f",
             "gridcolor": "white",
             "linecolor": "white",
             "minorgridcolor": "white",
             "startlinecolor": "#2a3f5f"
            },
            "baxis": {
             "endlinecolor": "#2a3f5f",
             "gridcolor": "white",
             "linecolor": "white",
             "minorgridcolor": "white",
             "startlinecolor": "#2a3f5f"
            },
            "type": "carpet"
           }
          ],
          "choropleth": [
           {
            "colorbar": {
             "outlinewidth": 0,
             "ticks": ""
            },
            "type": "choropleth"
           }
          ],
          "contour": [
           {
            "colorbar": {
             "outlinewidth": 0,
             "ticks": ""
            },
            "colorscale": [
             [
              0,
              "#0d0887"
             ],
             [
              0.1111111111111111,
              "#46039f"
             ],
             [
              0.2222222222222222,
              "#7201a8"
             ],
             [
              0.3333333333333333,
              "#9c179e"
             ],
             [
              0.4444444444444444,
              "#bd3786"
             ],
             [
              0.5555555555555556,
              "#d8576b"
             ],
             [
              0.6666666666666666,
              "#ed7953"
             ],
             [
              0.7777777777777778,
              "#fb9f3a"
             ],
             [
              0.8888888888888888,
              "#fdca26"
             ],
             [
              1,
              "#f0f921"
             ]
            ],
            "type": "contour"
           }
          ],
          "contourcarpet": [
           {
            "colorbar": {
             "outlinewidth": 0,
             "ticks": ""
            },
            "type": "contourcarpet"
           }
          ],
          "heatmap": [
           {
            "colorbar": {
             "outlinewidth": 0,
             "ticks": ""
            },
            "colorscale": [
             [
              0,
              "#0d0887"
             ],
             [
              0.1111111111111111,
              "#46039f"
             ],
             [
              0.2222222222222222,
              "#7201a8"
             ],
             [
              0.3333333333333333,
              "#9c179e"
             ],
             [
              0.4444444444444444,
              "#bd3786"
             ],
             [
              0.5555555555555556,
              "#d8576b"
             ],
             [
              0.6666666666666666,
              "#ed7953"
             ],
             [
              0.7777777777777778,
              "#fb9f3a"
             ],
             [
              0.8888888888888888,
              "#fdca26"
             ],
             [
              1,
              "#f0f921"
             ]
            ],
            "type": "heatmap"
           }
          ],
          "heatmapgl": [
           {
            "colorbar": {
             "outlinewidth": 0,
             "ticks": ""
            },
            "colorscale": [
             [
              0,
              "#0d0887"
             ],
             [
              0.1111111111111111,
              "#46039f"
             ],
             [
              0.2222222222222222,
              "#7201a8"
             ],
             [
              0.3333333333333333,
              "#9c179e"
             ],
             [
              0.4444444444444444,
              "#bd3786"
             ],
             [
              0.5555555555555556,
              "#d8576b"
             ],
             [
              0.6666666666666666,
              "#ed7953"
             ],
             [
              0.7777777777777778,
              "#fb9f3a"
             ],
             [
              0.8888888888888888,
              "#fdca26"
             ],
             [
              1,
              "#f0f921"
             ]
            ],
            "type": "heatmapgl"
           }
          ],
          "histogram": [
           {
            "marker": {
             "colorbar": {
              "outlinewidth": 0,
              "ticks": ""
             }
            },
            "type": "histogram"
           }
          ],
          "histogram2d": [
           {
            "colorbar": {
             "outlinewidth": 0,
             "ticks": ""
            },
            "colorscale": [
             [
              0,
              "#0d0887"
             ],
             [
              0.1111111111111111,
              "#46039f"
             ],
             [
              0.2222222222222222,
              "#7201a8"
             ],
             [
              0.3333333333333333,
              "#9c179e"
             ],
             [
              0.4444444444444444,
              "#bd3786"
             ],
             [
              0.5555555555555556,
              "#d8576b"
             ],
             [
              0.6666666666666666,
              "#ed7953"
             ],
             [
              0.7777777777777778,
              "#fb9f3a"
             ],
             [
              0.8888888888888888,
              "#fdca26"
             ],
             [
              1,
              "#f0f921"
             ]
            ],
            "type": "histogram2d"
           }
          ],
          "histogram2dcontour": [
           {
            "colorbar": {
             "outlinewidth": 0,
             "ticks": ""
            },
            "colorscale": [
             [
              0,
              "#0d0887"
             ],
             [
              0.1111111111111111,
              "#46039f"
             ],
             [
              0.2222222222222222,
              "#7201a8"
             ],
             [
              0.3333333333333333,
              "#9c179e"
             ],
             [
              0.4444444444444444,
              "#bd3786"
             ],
             [
              0.5555555555555556,
              "#d8576b"
             ],
             [
              0.6666666666666666,
              "#ed7953"
             ],
             [
              0.7777777777777778,
              "#fb9f3a"
             ],
             [
              0.8888888888888888,
              "#fdca26"
             ],
             [
              1,
              "#f0f921"
             ]
            ],
            "type": "histogram2dcontour"
           }
          ],
          "mesh3d": [
           {
            "colorbar": {
             "outlinewidth": 0,
             "ticks": ""
            },
            "type": "mesh3d"
           }
          ],
          "parcoords": [
           {
            "line": {
             "colorbar": {
              "outlinewidth": 0,
              "ticks": ""
             }
            },
            "type": "parcoords"
           }
          ],
          "pie": [
           {
            "automargin": true,
            "type": "pie"
           }
          ],
          "scatter": [
           {
            "marker": {
             "colorbar": {
              "outlinewidth": 0,
              "ticks": ""
             }
            },
            "type": "scatter"
           }
          ],
          "scatter3d": [
           {
            "line": {
             "colorbar": {
              "outlinewidth": 0,
              "ticks": ""
             }
            },
            "marker": {
             "colorbar": {
              "outlinewidth": 0,
              "ticks": ""
             }
            },
            "type": "scatter3d"
           }
          ],
          "scattercarpet": [
           {
            "marker": {
             "colorbar": {
              "outlinewidth": 0,
              "ticks": ""
             }
            },
            "type": "scattercarpet"
           }
          ],
          "scattergeo": [
           {
            "marker": {
             "colorbar": {
              "outlinewidth": 0,
              "ticks": ""
             }
            },
            "type": "scattergeo"
           }
          ],
          "scattergl": [
           {
            "marker": {
             "colorbar": {
              "outlinewidth": 0,
              "ticks": ""
             }
            },
            "type": "scattergl"
           }
          ],
          "scattermapbox": [
           {
            "marker": {
             "colorbar": {
              "outlinewidth": 0,
              "ticks": ""
             }
            },
            "type": "scattermapbox"
           }
          ],
          "scatterpolar": [
           {
            "marker": {
             "colorbar": {
              "outlinewidth": 0,
              "ticks": ""
             }
            },
            "type": "scatterpolar"
           }
          ],
          "scatterpolargl": [
           {
            "marker": {
             "colorbar": {
              "outlinewidth": 0,
              "ticks": ""
             }
            },
            "type": "scatterpolargl"
           }
          ],
          "scatterternary": [
           {
            "marker": {
             "colorbar": {
              "outlinewidth": 0,
              "ticks": ""
             }
            },
            "type": "scatterternary"
           }
          ],
          "surface": [
           {
            "colorbar": {
             "outlinewidth": 0,
             "ticks": ""
            },
            "colorscale": [
             [
              0,
              "#0d0887"
             ],
             [
              0.1111111111111111,
              "#46039f"
             ],
             [
              0.2222222222222222,
              "#7201a8"
             ],
             [
              0.3333333333333333,
              "#9c179e"
             ],
             [
              0.4444444444444444,
              "#bd3786"
             ],
             [
              0.5555555555555556,
              "#d8576b"
             ],
             [
              0.6666666666666666,
              "#ed7953"
             ],
             [
              0.7777777777777778,
              "#fb9f3a"
             ],
             [
              0.8888888888888888,
              "#fdca26"
             ],
             [
              1,
              "#f0f921"
             ]
            ],
            "type": "surface"
           }
          ],
          "table": [
           {
            "cells": {
             "fill": {
              "color": "#EBF0F8"
             },
             "line": {
              "color": "white"
             }
            },
            "header": {
             "fill": {
              "color": "#C8D4E3"
             },
             "line": {
              "color": "white"
             }
            },
            "type": "table"
           }
          ]
         },
         "layout": {
          "annotationdefaults": {
           "arrowcolor": "#2a3f5f",
           "arrowhead": 0,
           "arrowwidth": 1
          },
          "autotypenumbers": "strict",
          "coloraxis": {
           "colorbar": {
            "outlinewidth": 0,
            "ticks": ""
           }
          },
          "colorscale": {
           "diverging": [
            [
             0,
             "#8e0152"
            ],
            [
             0.1,
             "#c51b7d"
            ],
            [
             0.2,
             "#de77ae"
            ],
            [
             0.3,
             "#f1b6da"
            ],
            [
             0.4,
             "#fde0ef"
            ],
            [
             0.5,
             "#f7f7f7"
            ],
            [
             0.6,
             "#e6f5d0"
            ],
            [
             0.7,
             "#b8e186"
            ],
            [
             0.8,
             "#7fbc41"
            ],
            [
             0.9,
             "#4d9221"
            ],
            [
             1,
             "#276419"
            ]
           ],
           "sequential": [
            [
             0,
             "#0d0887"
            ],
            [
             0.1111111111111111,
             "#46039f"
            ],
            [
             0.2222222222222222,
             "#7201a8"
            ],
            [
             0.3333333333333333,
             "#9c179e"
            ],
            [
             0.4444444444444444,
             "#bd3786"
            ],
            [
             0.5555555555555556,
             "#d8576b"
            ],
            [
             0.6666666666666666,
             "#ed7953"
            ],
            [
             0.7777777777777778,
             "#fb9f3a"
            ],
            [
             0.8888888888888888,
             "#fdca26"
            ],
            [
             1,
             "#f0f921"
            ]
           ],
           "sequentialminus": [
            [
             0,
             "#0d0887"
            ],
            [
             0.1111111111111111,
             "#46039f"
            ],
            [
             0.2222222222222222,
             "#7201a8"
            ],
            [
             0.3333333333333333,
             "#9c179e"
            ],
            [
             0.4444444444444444,
             "#bd3786"
            ],
            [
             0.5555555555555556,
             "#d8576b"
            ],
            [
             0.6666666666666666,
             "#ed7953"
            ],
            [
             0.7777777777777778,
             "#fb9f3a"
            ],
            [
             0.8888888888888888,
             "#fdca26"
            ],
            [
             1,
             "#f0f921"
            ]
           ]
          },
          "colorway": [
           "#636efa",
           "#EF553B",
           "#00cc96",
           "#ab63fa",
           "#FFA15A",
           "#19d3f3",
           "#FF6692",
           "#B6E880",
           "#FF97FF",
           "#FECB52"
          ],
          "font": {
           "color": "#2a3f5f"
          },
          "geo": {
           "bgcolor": "white",
           "lakecolor": "white",
           "landcolor": "#E5ECF6",
           "showlakes": true,
           "showland": true,
           "subunitcolor": "white"
          },
          "hoverlabel": {
           "align": "left"
          },
          "hovermode": "closest",
          "mapbox": {
           "style": "light"
          },
          "paper_bgcolor": "white",
          "plot_bgcolor": "#E5ECF6",
          "polar": {
           "angularaxis": {
            "gridcolor": "white",
            "linecolor": "white",
            "ticks": ""
           },
           "bgcolor": "#E5ECF6",
           "radialaxis": {
            "gridcolor": "white",
            "linecolor": "white",
            "ticks": ""
           }
          },
          "scene": {
           "xaxis": {
            "backgroundcolor": "#E5ECF6",
            "gridcolor": "white",
            "gridwidth": 2,
            "linecolor": "white",
            "showbackground": true,
            "ticks": "",
            "zerolinecolor": "white"
           },
           "yaxis": {
            "backgroundcolor": "#E5ECF6",
            "gridcolor": "white",
            "gridwidth": 2,
            "linecolor": "white",
            "showbackground": true,
            "ticks": "",
            "zerolinecolor": "white"
           },
           "zaxis": {
            "backgroundcolor": "#E5ECF6",
            "gridcolor": "white",
            "gridwidth": 2,
            "linecolor": "white",
            "showbackground": true,
            "ticks": "",
            "zerolinecolor": "white"
           }
          },
          "shapedefaults": {
           "line": {
            "color": "#2a3f5f"
           }
          },
          "ternary": {
           "aaxis": {
            "gridcolor": "white",
            "linecolor": "white",
            "ticks": ""
           },
           "baxis": {
            "gridcolor": "white",
            "linecolor": "white",
            "ticks": ""
           },
           "bgcolor": "#E5ECF6",
           "caxis": {
            "gridcolor": "white",
            "linecolor": "white",
            "ticks": ""
           }
          },
          "title": {
           "x": 0.05
          },
          "xaxis": {
           "automargin": true,
           "gridcolor": "white",
           "linecolor": "white",
           "ticks": "",
           "title": {
            "standoff": 15
           },
           "zerolinecolor": "white",
           "zerolinewidth": 2
          },
          "yaxis": {
           "automargin": true,
           "gridcolor": "white",
           "linecolor": "white",
           "ticks": "",
           "title": {
            "standoff": 15
           },
           "zerolinecolor": "white",
           "zerolinewidth": 2
          }
         }
        },
        "title": {
         "text": "Frequently Co-occurring Words"
        },
        "width": 800,
        "xaxis": {
         "anchor": "y",
         "domain": [
          0,
          1
         ],
         "title": {
          "text": ""
         }
        },
        "yaxis": {
         "anchor": "x",
         "domain": [
          0,
          1
         ],
         "title": {
          "text": ""
         }
        }
       }
      },
      "text/html": [
       "<div>                            <div id=\"69065cfe-b149-409f-b7b0-0dbd3d4f765c\" class=\"plotly-graph-div\" style=\"height:1100px; width:800px;\"></div>            <script type=\"text/javascript\">                require([\"plotly\"], function(Plotly) {                    window.PLOTLYENV=window.PLOTLYENV || {};                                    if (document.getElementById(\"69065cfe-b149-409f-b7b0-0dbd3d4f765c\")) {                    Plotly.newPlot(                        \"69065cfe-b149-409f-b7b0-0dbd3d4f765c\",                        [{\"alignmentgroup\": \"True\", \"hovertemplate\": \"word_count=%{text}<br>word=%{y}<extra></extra>\", \"legendgroup\": \"\", \"marker\": {}, \"name\": \"\", \"offsetgroup\": \"\", \"orientation\": \"h\", \"showlegend\": false, \"text\": [49.0, 50.0, 50.0, 50.0, 50.0, 52.0, 52.0, 53.0, 53.0, 53.0, 54.0, 54.0, 55.0, 56.0, 57.0, 64.0, 75.0, 76.0, 76.0, 78.0, 86.0, 87.0, 89.0, 92.0, 93.0, 95.0, 98.0, 98.0, 100.0, 102.0, 104.0, 104.0, 107.0, 111.0, 114.0, 125.0, 127.0, 134.0, 138.0, 159.0, 160.0, 190.0, 199.0, 202.0, 220.0, 232.0, 265.0, 316.0, 336.0, 425.0], \"textposition\": \"auto\", \"texttemplate\": \"%{text:.2s}\", \"type\": \"bar\", \"x\": [49, 50, 50, 50, 50, 52, 52, 53, 53, 53, 54, 54, 55, 56, 57, 64, 75, 76, 76, 78, 86, 87, 89, 92, 93, 95, 98, 98, 100, 102, 104, 104, 107, 111, 114, 125, 127, 134, 138, 159, 160, 190, 199, 202, 220, 232, 265, 316, 336, 425], \"xaxis\": \"x\", \"y\": [\"magic morning\", \"meet character\", \"single rider\", \"jungle cruise\", \"fast track\", \"tower terror\", \"old daughter\", \"firework display\", \"buy ticket\", \"early morning\", \"pas system\", \"walt studio\", \"attraction close\", \"customer service\", \"lot people\", \"lot fun\", \"staff friendly\", \"buzz lightyear\", \"small child\", \"magic kingdom\", \"star tour\", \"toy story\", \"mickey mouse\", \"many people\", \"splash mountain\", \"highly recommend\", \"stay hotel\", \"use fast\", \"peter pan\", \"walk around\", \"roller coaster\", \"haunt mansion\", \"lion king\", \"young child\", \"big thunder\", \"star war\", \"even though\", \"happy earth\", \"pirate caribbean\", \"thunder mountain\", \"come back\", \"indiana jones\", \"cast member\", \"main street\", \"california adventure\", \"small world\", \"fast pass\", \"hong kong\", \"space mountain\", \"fast pas\"], \"yaxis\": \"y\"}],                        {\"barmode\": \"relative\", \"height\": 1100, \"legend\": {\"tracegroupgap\": 0}, \"margin\": {\"t\": 60}, \"template\": {\"data\": {\"bar\": [{\"error_x\": {\"color\": \"#2a3f5f\"}, \"error_y\": {\"color\": \"#2a3f5f\"}, \"marker\": {\"line\": {\"color\": \"#E5ECF6\", \"width\": 0.5}}, \"type\": \"bar\"}], \"barpolar\": [{\"marker\": {\"line\": {\"color\": \"#E5ECF6\", \"width\": 0.5}}, \"type\": \"barpolar\"}], \"carpet\": [{\"aaxis\": {\"endlinecolor\": \"#2a3f5f\", \"gridcolor\": \"white\", \"linecolor\": \"white\", \"minorgridcolor\": \"white\", \"startlinecolor\": \"#2a3f5f\"}, \"baxis\": {\"endlinecolor\": \"#2a3f5f\", \"gridcolor\": \"white\", \"linecolor\": \"white\", \"minorgridcolor\": \"white\", \"startlinecolor\": \"#2a3f5f\"}, \"type\": \"carpet\"}], \"choropleth\": [{\"colorbar\": {\"outlinewidth\": 0, \"ticks\": \"\"}, \"type\": \"choropleth\"}], \"contour\": [{\"colorbar\": {\"outlinewidth\": 0, \"ticks\": \"\"}, \"colorscale\": [[0.0, \"#0d0887\"], [0.1111111111111111, \"#46039f\"], [0.2222222222222222, \"#7201a8\"], [0.3333333333333333, \"#9c179e\"], [0.4444444444444444, \"#bd3786\"], [0.5555555555555556, \"#d8576b\"], [0.6666666666666666, \"#ed7953\"], [0.7777777777777778, \"#fb9f3a\"], [0.8888888888888888, \"#fdca26\"], [1.0, \"#f0f921\"]], \"type\": \"contour\"}], \"contourcarpet\": [{\"colorbar\": {\"outlinewidth\": 0, \"ticks\": \"\"}, \"type\": \"contourcarpet\"}], \"heatmap\": [{\"colorbar\": {\"outlinewidth\": 0, \"ticks\": \"\"}, \"colorscale\": [[0.0, \"#0d0887\"], [0.1111111111111111, \"#46039f\"], [0.2222222222222222, \"#7201a8\"], [0.3333333333333333, \"#9c179e\"], [0.4444444444444444, \"#bd3786\"], [0.5555555555555556, \"#d8576b\"], [0.6666666666666666, \"#ed7953\"], [0.7777777777777778, \"#fb9f3a\"], [0.8888888888888888, \"#fdca26\"], [1.0, \"#f0f921\"]], \"type\": \"heatmap\"}], \"heatmapgl\": [{\"colorbar\": {\"outlinewidth\": 0, \"ticks\": \"\"}, \"colorscale\": [[0.0, \"#0d0887\"], [0.1111111111111111, \"#46039f\"], [0.2222222222222222, \"#7201a8\"], [0.3333333333333333, \"#9c179e\"], [0.4444444444444444, \"#bd3786\"], [0.5555555555555556, \"#d8576b\"], [0.6666666666666666, \"#ed7953\"], [0.7777777777777778, \"#fb9f3a\"], [0.8888888888888888, \"#fdca26\"], [1.0, \"#f0f921\"]], \"type\": \"heatmapgl\"}], \"histogram\": [{\"marker\": {\"colorbar\": {\"outlinewidth\": 0, \"ticks\": \"\"}}, \"type\": \"histogram\"}], \"histogram2d\": [{\"colorbar\": {\"outlinewidth\": 0, \"ticks\": \"\"}, \"colorscale\": [[0.0, \"#0d0887\"], [0.1111111111111111, \"#46039f\"], [0.2222222222222222, \"#7201a8\"], [0.3333333333333333, \"#9c179e\"], [0.4444444444444444, \"#bd3786\"], [0.5555555555555556, \"#d8576b\"], [0.6666666666666666, \"#ed7953\"], [0.7777777777777778, \"#fb9f3a\"], [0.8888888888888888, \"#fdca26\"], [1.0, \"#f0f921\"]], \"type\": \"histogram2d\"}], \"histogram2dcontour\": [{\"colorbar\": {\"outlinewidth\": 0, \"ticks\": \"\"}, \"colorscale\": [[0.0, \"#0d0887\"], [0.1111111111111111, \"#46039f\"], [0.2222222222222222, \"#7201a8\"], [0.3333333333333333, \"#9c179e\"], [0.4444444444444444, \"#bd3786\"], [0.5555555555555556, \"#d8576b\"], [0.6666666666666666, \"#ed7953\"], [0.7777777777777778, \"#fb9f3a\"], [0.8888888888888888, \"#fdca26\"], [1.0, \"#f0f921\"]], \"type\": \"histogram2dcontour\"}], \"mesh3d\": [{\"colorbar\": {\"outlinewidth\": 0, \"ticks\": \"\"}, \"type\": \"mesh3d\"}], \"parcoords\": [{\"line\": {\"colorbar\": {\"outlinewidth\": 0, \"ticks\": \"\"}}, \"type\": \"parcoords\"}], \"pie\": [{\"automargin\": true, \"type\": \"pie\"}], \"scatter\": [{\"marker\": {\"colorbar\": {\"outlinewidth\": 0, \"ticks\": \"\"}}, \"type\": \"scatter\"}], \"scatter3d\": [{\"line\": {\"colorbar\": {\"outlinewidth\": 0, \"ticks\": \"\"}}, \"marker\": {\"colorbar\": {\"outlinewidth\": 0, \"ticks\": \"\"}}, \"type\": \"scatter3d\"}], \"scattercarpet\": [{\"marker\": {\"colorbar\": {\"outlinewidth\": 0, \"ticks\": \"\"}}, \"type\": \"scattercarpet\"}], \"scattergeo\": [{\"marker\": {\"colorbar\": {\"outlinewidth\": 0, \"ticks\": \"\"}}, \"type\": \"scattergeo\"}], \"scattergl\": [{\"marker\": {\"colorbar\": {\"outlinewidth\": 0, \"ticks\": \"\"}}, \"type\": \"scattergl\"}], \"scattermapbox\": [{\"marker\": {\"colorbar\": {\"outlinewidth\": 0, \"ticks\": \"\"}}, \"type\": \"scattermapbox\"}], \"scatterpolar\": [{\"marker\": {\"colorbar\": {\"outlinewidth\": 0, \"ticks\": \"\"}}, \"type\": \"scatterpolar\"}], \"scatterpolargl\": [{\"marker\": {\"colorbar\": {\"outlinewidth\": 0, \"ticks\": \"\"}}, \"type\": \"scatterpolargl\"}], \"scatterternary\": [{\"marker\": {\"colorbar\": {\"outlinewidth\": 0, \"ticks\": \"\"}}, \"type\": \"scatterternary\"}], \"surface\": [{\"colorbar\": {\"outlinewidth\": 0, \"ticks\": \"\"}, \"colorscale\": [[0.0, \"#0d0887\"], [0.1111111111111111, \"#46039f\"], [0.2222222222222222, \"#7201a8\"], [0.3333333333333333, \"#9c179e\"], [0.4444444444444444, \"#bd3786\"], [0.5555555555555556, \"#d8576b\"], [0.6666666666666666, \"#ed7953\"], [0.7777777777777778, \"#fb9f3a\"], [0.8888888888888888, \"#fdca26\"], [1.0, \"#f0f921\"]], \"type\": \"surface\"}], \"table\": [{\"cells\": {\"fill\": {\"color\": \"#EBF0F8\"}, \"line\": {\"color\": \"white\"}}, \"header\": {\"fill\": {\"color\": \"#C8D4E3\"}, \"line\": {\"color\": \"white\"}}, \"type\": \"table\"}]}, \"layout\": {\"annotationdefaults\": {\"arrowcolor\": \"#2a3f5f\", \"arrowhead\": 0, \"arrowwidth\": 1}, \"autotypenumbers\": \"strict\", \"coloraxis\": {\"colorbar\": {\"outlinewidth\": 0, \"ticks\": \"\"}}, \"colorscale\": {\"diverging\": [[0, \"#8e0152\"], [0.1, \"#c51b7d\"], [0.2, \"#de77ae\"], [0.3, \"#f1b6da\"], [0.4, \"#fde0ef\"], [0.5, \"#f7f7f7\"], [0.6, \"#e6f5d0\"], [0.7, \"#b8e186\"], [0.8, \"#7fbc41\"], [0.9, \"#4d9221\"], [1, \"#276419\"]], \"sequential\": [[0.0, \"#0d0887\"], [0.1111111111111111, \"#46039f\"], [0.2222222222222222, \"#7201a8\"], [0.3333333333333333, \"#9c179e\"], [0.4444444444444444, \"#bd3786\"], [0.5555555555555556, \"#d8576b\"], [0.6666666666666666, \"#ed7953\"], [0.7777777777777778, \"#fb9f3a\"], [0.8888888888888888, \"#fdca26\"], [1.0, \"#f0f921\"]], \"sequentialminus\": [[0.0, \"#0d0887\"], [0.1111111111111111, \"#46039f\"], [0.2222222222222222, \"#7201a8\"], [0.3333333333333333, \"#9c179e\"], [0.4444444444444444, \"#bd3786\"], [0.5555555555555556, \"#d8576b\"], [0.6666666666666666, \"#ed7953\"], [0.7777777777777778, \"#fb9f3a\"], [0.8888888888888888, \"#fdca26\"], [1.0, \"#f0f921\"]]}, \"colorway\": [\"#636efa\", \"#EF553B\", \"#00cc96\", \"#ab63fa\", \"#FFA15A\", \"#19d3f3\", \"#FF6692\", \"#B6E880\", \"#FF97FF\", \"#FECB52\"], \"font\": {\"color\": \"#2a3f5f\"}, \"geo\": {\"bgcolor\": \"white\", \"lakecolor\": \"white\", \"landcolor\": \"#E5ECF6\", \"showlakes\": true, \"showland\": true, \"subunitcolor\": \"white\"}, \"hoverlabel\": {\"align\": \"left\"}, \"hovermode\": \"closest\", \"mapbox\": {\"style\": \"light\"}, \"paper_bgcolor\": \"white\", \"plot_bgcolor\": \"#E5ECF6\", \"polar\": {\"angularaxis\": {\"gridcolor\": \"white\", \"linecolor\": \"white\", \"ticks\": \"\"}, \"bgcolor\": \"#E5ECF6\", \"radialaxis\": {\"gridcolor\": \"white\", \"linecolor\": \"white\", \"ticks\": \"\"}}, \"scene\": {\"xaxis\": {\"backgroundcolor\": \"#E5ECF6\", \"gridcolor\": \"white\", \"gridwidth\": 2, \"linecolor\": \"white\", \"showbackground\": true, \"ticks\": \"\", \"zerolinecolor\": \"white\"}, \"yaxis\": {\"backgroundcolor\": \"#E5ECF6\", \"gridcolor\": \"white\", \"gridwidth\": 2, \"linecolor\": \"white\", \"showbackground\": true, \"ticks\": \"\", \"zerolinecolor\": \"white\"}, \"zaxis\": {\"backgroundcolor\": \"#E5ECF6\", \"gridcolor\": \"white\", \"gridwidth\": 2, \"linecolor\": \"white\", \"showbackground\": true, \"ticks\": \"\", \"zerolinecolor\": \"white\"}}, \"shapedefaults\": {\"line\": {\"color\": \"#2a3f5f\"}}, \"ternary\": {\"aaxis\": {\"gridcolor\": \"white\", \"linecolor\": \"white\", \"ticks\": \"\"}, \"baxis\": {\"gridcolor\": \"white\", \"linecolor\": \"white\", \"ticks\": \"\"}, \"bgcolor\": \"#E5ECF6\", \"caxis\": {\"gridcolor\": \"white\", \"linecolor\": \"white\", \"ticks\": \"\"}}, \"title\": {\"x\": 0.05}, \"xaxis\": {\"automargin\": true, \"gridcolor\": \"white\", \"linecolor\": \"white\", \"ticks\": \"\", \"title\": {\"standoff\": 15}, \"zerolinecolor\": \"white\", \"zerolinewidth\": 2}, \"yaxis\": {\"automargin\": true, \"gridcolor\": \"white\", \"linecolor\": \"white\", \"ticks\": \"\", \"title\": {\"standoff\": 15}, \"zerolinecolor\": \"white\", \"zerolinewidth\": 2}}}, \"title\": {\"text\": \"Frequently Co-occurring Words\"}, \"width\": 800, \"xaxis\": {\"anchor\": \"y\", \"domain\": [0.0, 1.0], \"title\": {\"text\": \"\"}}, \"yaxis\": {\"anchor\": \"x\", \"domain\": [0.0, 1.0], \"title\": {\"text\": \"\"}}},                        {\"responsive\": true}                    ).then(function(){\n",
       "                            \n",
       "var gd = document.getElementById('69065cfe-b149-409f-b7b0-0dbd3d4f765c');\n",
       "var x = new MutationObserver(function (mutations, observer) {{\n",
       "        var display = window.getComputedStyle(gd).display;\n",
       "        if (!display || display === 'none') {{\n",
       "            console.log([gd, 'removed!']);\n",
       "            Plotly.purge(gd);\n",
       "            observer.disconnect();\n",
       "        }}\n",
       "}});\n",
       "\n",
       "// Listen for the removal of the full notebook cells\n",
       "var notebookContainer = gd.closest('#notebook-container');\n",
       "if (notebookContainer) {{\n",
       "    x.observe(notebookContainer, {childList: true});\n",
       "}}\n",
       "\n",
       "// Listen for the clearing of the current output cell\n",
       "var outputEl = gd.closest('.output');\n",
       "if (outputEl) {{\n",
       "    x.observe(outputEl, {childList: true});\n",
       "}}\n",
       "\n",
       "                        })                };                });            </script>        </div>"
      ]
     },
     "metadata": {},
     "output_type": "display_data"
    }
   ],
   "source": [
    "npt.bar_ngram(title='uni-gram', ngram=1, top_n=50, stopwords=stopwords)\n",
    "bgram = npt.bar_ngram(title='Frequently Co-occurring Words', ngram=2, top_n=50, stopwords=stopwords)\n",
    "bgram.write_html(\"Resources/filtered_common_bigrams.html\")\n",
    "bgram"
   ]
  },
  {
   "cell_type": "code",
   "execution_count": null,
   "id": "minimal-young",
   "metadata": {},
   "outputs": [],
   "source": []
  }
 ],
 "metadata": {
  "kernelspec": {
   "display_name": "Python [conda env:PythonAdv] *",
   "language": "python",
   "name": "conda-env-PythonAdv-py"
  },
  "language_info": {
   "codemirror_mode": {
    "name": "ipython",
    "version": 3
   },
   "file_extension": ".py",
   "mimetype": "text/x-python",
   "name": "python",
   "nbconvert_exporter": "python",
   "pygments_lexer": "ipython3",
   "version": "3.6.12"
  }
 },
 "nbformat": 4,
 "nbformat_minor": 5
}
