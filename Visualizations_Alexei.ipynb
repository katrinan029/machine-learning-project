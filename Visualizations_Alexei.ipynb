{
 "cells": [
  {
   "cell_type": "code",
   "execution_count": null,
   "id": "appreciated-orientation",
   "metadata": {},
   "outputs": [],
   "source": [
    "# pip install python-Levenshtein"
   ]
  },
  {
   "cell_type": "code",
   "execution_count": 1,
   "id": "global-macintosh",
   "metadata": {},
   "outputs": [
    {
     "name": "stderr",
     "output_type": "stream",
     "text": [
      "C:\\Users\\ajrfl\\anaconda3\\envs\\PythonAdv\\lib\\site-packages\\gensim\\similarities\\__init__.py:15: UserWarning:\n",
      "\n",
      "The gensim.similarities.levenshtein submodule is disabled, because the optional Levenshtein package <https://pypi.org/project/python-Levenshtein/> is unavailable. Install Levenhstein (e.g. `pip install python-Levenshtein`) to suppress this warning.\n",
      "\n"
     ]
    }
   ],
   "source": [
    "import pandas as pd\n",
    "import nlplot\n",
    "import plotly.express as px"
   ]
  },
  {
   "cell_type": "code",
   "execution_count": 2,
   "id": "surface-resistance",
   "metadata": {},
   "outputs": [
    {
     "data": {
      "text/html": [
       "<div>\n",
       "<style scoped>\n",
       "    .dataframe tbody tr th:only-of-type {\n",
       "        vertical-align: middle;\n",
       "    }\n",
       "\n",
       "    .dataframe tbody tr th {\n",
       "        vertical-align: top;\n",
       "    }\n",
       "\n",
       "    .dataframe thead th {\n",
       "        text-align: right;\n",
       "    }\n",
       "</style>\n",
       "<table border=\"1\" class=\"dataframe\">\n",
       "  <thead>\n",
       "    <tr style=\"text-align: right;\">\n",
       "      <th></th>\n",
       "      <th>Review_ID</th>\n",
       "      <th>Rating</th>\n",
       "      <th>Reviewer_Location</th>\n",
       "      <th>Review_Text</th>\n",
       "      <th>Branch</th>\n",
       "      <th>Year</th>\n",
       "      <th>Month</th>\n",
       "      <th>is_good_review</th>\n",
       "      <th>review_clean</th>\n",
       "      <th>neg</th>\n",
       "      <th>...</th>\n",
       "      <th>word_yet</th>\n",
       "      <th>word_york</th>\n",
       "      <th>word_you</th>\n",
       "      <th>word_young</th>\n",
       "      <th>word_yr</th>\n",
       "      <th>word_yrs</th>\n",
       "      <th>word_yum</th>\n",
       "      <th>word_yummy</th>\n",
       "      <th>word_zero</th>\n",
       "      <th>word_zone</th>\n",
       "    </tr>\n",
       "  </thead>\n",
       "  <tbody>\n",
       "    <tr>\n",
       "      <th>0</th>\n",
       "      <td>122944085</td>\n",
       "      <td>5</td>\n",
       "      <td>United States</td>\n",
       "      <td>Spotlessly clean and so organized considering ...</td>\n",
       "      <td>Disneyland_California</td>\n",
       "      <td>2011</td>\n",
       "      <td>10</td>\n",
       "      <td>1</td>\n",
       "      <td>spotlessly clean organize consider thousand vi...</td>\n",
       "      <td>0.000</td>\n",
       "      <td>...</td>\n",
       "      <td>0.0</td>\n",
       "      <td>0.0</td>\n",
       "      <td>0.0</td>\n",
       "      <td>0.000000</td>\n",
       "      <td>0.0</td>\n",
       "      <td>0.0</td>\n",
       "      <td>0.0</td>\n",
       "      <td>0.0</td>\n",
       "      <td>0.0</td>\n",
       "      <td>0.0</td>\n",
       "    </tr>\n",
       "    <tr>\n",
       "      <th>1</th>\n",
       "      <td>290851203</td>\n",
       "      <td>5</td>\n",
       "      <td>United Kingdom</td>\n",
       "      <td>Pricey but worth it, unfortunately the big thu...</td>\n",
       "      <td>Disneyland_Paris</td>\n",
       "      <td>2015</td>\n",
       "      <td>7</td>\n",
       "      <td>1</td>\n",
       "      <td>pricey worth unfortunately big thunder mountai...</td>\n",
       "      <td>0.115</td>\n",
       "      <td>...</td>\n",
       "      <td>0.0</td>\n",
       "      <td>0.0</td>\n",
       "      <td>0.0</td>\n",
       "      <td>0.000000</td>\n",
       "      <td>0.0</td>\n",
       "      <td>0.0</td>\n",
       "      <td>0.0</td>\n",
       "      <td>0.0</td>\n",
       "      <td>0.0</td>\n",
       "      <td>0.0</td>\n",
       "    </tr>\n",
       "    <tr>\n",
       "      <th>2</th>\n",
       "      <td>168087311</td>\n",
       "      <td>4</td>\n",
       "      <td>Canada</td>\n",
       "      <td>Disneyland is a magical place. Everyone, parti...</td>\n",
       "      <td>Disneyland_California</td>\n",
       "      <td>2013</td>\n",
       "      <td>7</td>\n",
       "      <td>1</td>\n",
       "      <td>disneyland magical place everyone particularly...</td>\n",
       "      <td>0.000</td>\n",
       "      <td>...</td>\n",
       "      <td>0.0</td>\n",
       "      <td>0.0</td>\n",
       "      <td>0.0</td>\n",
       "      <td>0.000000</td>\n",
       "      <td>0.0</td>\n",
       "      <td>0.0</td>\n",
       "      <td>0.0</td>\n",
       "      <td>0.0</td>\n",
       "      <td>0.0</td>\n",
       "      <td>0.0</td>\n",
       "    </tr>\n",
       "    <tr>\n",
       "      <th>3</th>\n",
       "      <td>282417360</td>\n",
       "      <td>5</td>\n",
       "      <td>Pakistan</td>\n",
       "      <td>Disney land is a must when visiting Paris. The...</td>\n",
       "      <td>Disneyland_Paris</td>\n",
       "      <td>2015</td>\n",
       "      <td>6</td>\n",
       "      <td>1</td>\n",
       "      <td>disney land must visit paris frozen show best ...</td>\n",
       "      <td>0.028</td>\n",
       "      <td>...</td>\n",
       "      <td>0.0</td>\n",
       "      <td>0.0</td>\n",
       "      <td>0.0</td>\n",
       "      <td>0.000000</td>\n",
       "      <td>0.0</td>\n",
       "      <td>0.0</td>\n",
       "      <td>0.0</td>\n",
       "      <td>0.0</td>\n",
       "      <td>0.0</td>\n",
       "      <td>0.0</td>\n",
       "    </tr>\n",
       "    <tr>\n",
       "      <th>4</th>\n",
       "      <td>160953212</td>\n",
       "      <td>3</td>\n",
       "      <td>India</td>\n",
       "      <td>The HK Disneyland is definitely small, but it'...</td>\n",
       "      <td>Disneyland_HongKong</td>\n",
       "      <td>2012</td>\n",
       "      <td>9</td>\n",
       "      <td>0</td>\n",
       "      <td>hk disneyland definitely small definitely fun ...</td>\n",
       "      <td>0.000</td>\n",
       "      <td>...</td>\n",
       "      <td>0.0</td>\n",
       "      <td>0.0</td>\n",
       "      <td>0.0</td>\n",
       "      <td>0.000000</td>\n",
       "      <td>0.0</td>\n",
       "      <td>0.0</td>\n",
       "      <td>0.0</td>\n",
       "      <td>0.0</td>\n",
       "      <td>0.0</td>\n",
       "      <td>0.0</td>\n",
       "    </tr>\n",
       "    <tr>\n",
       "      <th>...</th>\n",
       "      <td>...</td>\n",
       "      <td>...</td>\n",
       "      <td>...</td>\n",
       "      <td>...</td>\n",
       "      <td>...</td>\n",
       "      <td>...</td>\n",
       "      <td>...</td>\n",
       "      <td>...</td>\n",
       "      <td>...</td>\n",
       "      <td>...</td>\n",
       "      <td>...</td>\n",
       "      <td>...</td>\n",
       "      <td>...</td>\n",
       "      <td>...</td>\n",
       "      <td>...</td>\n",
       "      <td>...</td>\n",
       "      <td>...</td>\n",
       "      <td>...</td>\n",
       "      <td>...</td>\n",
       "      <td>...</td>\n",
       "      <td>...</td>\n",
       "    </tr>\n",
       "    <tr>\n",
       "      <th>3999</th>\n",
       "      <td>290217727</td>\n",
       "      <td>5</td>\n",
       "      <td>Australia</td>\n",
       "      <td>There's a reason why they call Disneyland  The...</td>\n",
       "      <td>Disneyland_California</td>\n",
       "      <td>2015</td>\n",
       "      <td>7</td>\n",
       "      <td>1</td>\n",
       "      <td>there's reason call disneyland happy place ear...</td>\n",
       "      <td>0.042</td>\n",
       "      <td>...</td>\n",
       "      <td>0.0</td>\n",
       "      <td>0.0</td>\n",
       "      <td>0.0</td>\n",
       "      <td>0.000000</td>\n",
       "      <td>0.0</td>\n",
       "      <td>0.0</td>\n",
       "      <td>0.0</td>\n",
       "      <td>0.0</td>\n",
       "      <td>0.0</td>\n",
       "      <td>0.0</td>\n",
       "    </tr>\n",
       "    <tr>\n",
       "      <th>4000</th>\n",
       "      <td>174264188</td>\n",
       "      <td>1</td>\n",
       "      <td>United Kingdom</td>\n",
       "      <td>I visited Disneyland Paris with my family (tee...</td>\n",
       "      <td>Disneyland_Paris</td>\n",
       "      <td>2013</td>\n",
       "      <td>8</td>\n",
       "      <td>0</td>\n",
       "      <td>visit disneyland paris family teenage daughter...</td>\n",
       "      <td>0.081</td>\n",
       "      <td>...</td>\n",
       "      <td>0.0</td>\n",
       "      <td>0.0</td>\n",
       "      <td>0.0</td>\n",
       "      <td>0.000000</td>\n",
       "      <td>0.0</td>\n",
       "      <td>0.0</td>\n",
       "      <td>0.0</td>\n",
       "      <td>0.0</td>\n",
       "      <td>0.0</td>\n",
       "      <td>0.0</td>\n",
       "    </tr>\n",
       "    <tr>\n",
       "      <th>4001</th>\n",
       "      <td>638583788</td>\n",
       "      <td>5</td>\n",
       "      <td>United States</td>\n",
       "      <td>What a great day we had we did so much before ...</td>\n",
       "      <td>Disneyland_California</td>\n",
       "      <td>2018</td>\n",
       "      <td>12</td>\n",
       "      <td>1</td>\n",
       "      <td>great day much great guide grandson amaze well...</td>\n",
       "      <td>0.000</td>\n",
       "      <td>...</td>\n",
       "      <td>0.0</td>\n",
       "      <td>0.0</td>\n",
       "      <td>0.0</td>\n",
       "      <td>0.000000</td>\n",
       "      <td>0.0</td>\n",
       "      <td>0.0</td>\n",
       "      <td>0.0</td>\n",
       "      <td>0.0</td>\n",
       "      <td>0.0</td>\n",
       "      <td>0.0</td>\n",
       "    </tr>\n",
       "    <tr>\n",
       "      <th>4002</th>\n",
       "      <td>226159775</td>\n",
       "      <td>5</td>\n",
       "      <td>Philippines</td>\n",
       "      <td>It has been a childhood dream of mine to go to...</td>\n",
       "      <td>Disneyland_California</td>\n",
       "      <td>2013</td>\n",
       "      <td>10</td>\n",
       "      <td>1</td>\n",
       "      <td>childhood dream mine go disneyland whether you...</td>\n",
       "      <td>0.000</td>\n",
       "      <td>...</td>\n",
       "      <td>0.0</td>\n",
       "      <td>0.0</td>\n",
       "      <td>0.0</td>\n",
       "      <td>0.432261</td>\n",
       "      <td>0.0</td>\n",
       "      <td>0.0</td>\n",
       "      <td>0.0</td>\n",
       "      <td>0.0</td>\n",
       "      <td>0.0</td>\n",
       "      <td>0.0</td>\n",
       "    </tr>\n",
       "    <tr>\n",
       "      <th>4003</th>\n",
       "      <td>143521522</td>\n",
       "      <td>4</td>\n",
       "      <td>United Kingdom</td>\n",
       "      <td>Well my wife and I visted in October 2012 for ...</td>\n",
       "      <td>Disneyland_Paris</td>\n",
       "      <td>2012</td>\n",
       "      <td>10</td>\n",
       "      <td>1</td>\n",
       "      <td>well wife visted october parcs real complaint ...</td>\n",
       "      <td>0.030</td>\n",
       "      <td>...</td>\n",
       "      <td>0.0</td>\n",
       "      <td>0.0</td>\n",
       "      <td>0.0</td>\n",
       "      <td>0.000000</td>\n",
       "      <td>0.0</td>\n",
       "      <td>0.0</td>\n",
       "      <td>0.0</td>\n",
       "      <td>0.0</td>\n",
       "      <td>0.0</td>\n",
       "      <td>0.0</td>\n",
       "    </tr>\n",
       "  </tbody>\n",
       "</table>\n",
       "<p>4004 rows × 2150 columns</p>\n",
       "</div>"
      ],
      "text/plain": [
       "      Review_ID  Rating Reviewer_Location  \\\n",
       "0     122944085       5     United States   \n",
       "1     290851203       5    United Kingdom   \n",
       "2     168087311       4            Canada   \n",
       "3     282417360       5          Pakistan   \n",
       "4     160953212       3             India   \n",
       "...         ...     ...               ...   \n",
       "3999  290217727       5         Australia   \n",
       "4000  174264188       1    United Kingdom   \n",
       "4001  638583788       5     United States   \n",
       "4002  226159775       5       Philippines   \n",
       "4003  143521522       4    United Kingdom   \n",
       "\n",
       "                                            Review_Text  \\\n",
       "0     Spotlessly clean and so organized considering ...   \n",
       "1     Pricey but worth it, unfortunately the big thu...   \n",
       "2     Disneyland is a magical place. Everyone, parti...   \n",
       "3     Disney land is a must when visiting Paris. The...   \n",
       "4     The HK Disneyland is definitely small, but it'...   \n",
       "...                                                 ...   \n",
       "3999  There's a reason why they call Disneyland  The...   \n",
       "4000  I visited Disneyland Paris with my family (tee...   \n",
       "4001  What a great day we had we did so much before ...   \n",
       "4002  It has been a childhood dream of mine to go to...   \n",
       "4003  Well my wife and I visted in October 2012 for ...   \n",
       "\n",
       "                     Branch  Year  Month  is_good_review  \\\n",
       "0     Disneyland_California  2011     10               1   \n",
       "1          Disneyland_Paris  2015      7               1   \n",
       "2     Disneyland_California  2013      7               1   \n",
       "3          Disneyland_Paris  2015      6               1   \n",
       "4       Disneyland_HongKong  2012      9               0   \n",
       "...                     ...   ...    ...             ...   \n",
       "3999  Disneyland_California  2015      7               1   \n",
       "4000       Disneyland_Paris  2013      8               0   \n",
       "4001  Disneyland_California  2018     12               1   \n",
       "4002  Disneyland_California  2013     10               1   \n",
       "4003       Disneyland_Paris  2012     10               1   \n",
       "\n",
       "                                           review_clean    neg  ...  word_yet  \\\n",
       "0     spotlessly clean organize consider thousand vi...  0.000  ...       0.0   \n",
       "1     pricey worth unfortunately big thunder mountai...  0.115  ...       0.0   \n",
       "2     disneyland magical place everyone particularly...  0.000  ...       0.0   \n",
       "3     disney land must visit paris frozen show best ...  0.028  ...       0.0   \n",
       "4     hk disneyland definitely small definitely fun ...  0.000  ...       0.0   \n",
       "...                                                 ...    ...  ...       ...   \n",
       "3999  there's reason call disneyland happy place ear...  0.042  ...       0.0   \n",
       "4000  visit disneyland paris family teenage daughter...  0.081  ...       0.0   \n",
       "4001  great day much great guide grandson amaze well...  0.000  ...       0.0   \n",
       "4002  childhood dream mine go disneyland whether you...  0.000  ...       0.0   \n",
       "4003  well wife visted october parcs real complaint ...  0.030  ...       0.0   \n",
       "\n",
       "      word_york  word_you  word_young  word_yr  word_yrs  word_yum  \\\n",
       "0           0.0       0.0    0.000000      0.0       0.0       0.0   \n",
       "1           0.0       0.0    0.000000      0.0       0.0       0.0   \n",
       "2           0.0       0.0    0.000000      0.0       0.0       0.0   \n",
       "3           0.0       0.0    0.000000      0.0       0.0       0.0   \n",
       "4           0.0       0.0    0.000000      0.0       0.0       0.0   \n",
       "...         ...       ...         ...      ...       ...       ...   \n",
       "3999        0.0       0.0    0.000000      0.0       0.0       0.0   \n",
       "4000        0.0       0.0    0.000000      0.0       0.0       0.0   \n",
       "4001        0.0       0.0    0.000000      0.0       0.0       0.0   \n",
       "4002        0.0       0.0    0.432261      0.0       0.0       0.0   \n",
       "4003        0.0       0.0    0.000000      0.0       0.0       0.0   \n",
       "\n",
       "      word_yummy  word_zero  word_zone  \n",
       "0            0.0        0.0        0.0  \n",
       "1            0.0        0.0        0.0  \n",
       "2            0.0        0.0        0.0  \n",
       "3            0.0        0.0        0.0  \n",
       "4            0.0        0.0        0.0  \n",
       "...          ...        ...        ...  \n",
       "3999         0.0        0.0        0.0  \n",
       "4000         0.0        0.0        0.0  \n",
       "4001         0.0        0.0        0.0  \n",
       "4002         0.0        0.0        0.0  \n",
       "4003         0.0        0.0        0.0  \n",
       "\n",
       "[4004 rows x 2150 columns]"
      ]
     },
     "execution_count": 2,
     "metadata": {},
     "output_type": "execute_result"
    }
   ],
   "source": [
    "# read source file\n",
    "reviews_df = pd.read_csv(\"Resources/all_reviews_data.csv\", encoding='ISO-8859-1')\n",
    "\n",
    "\n",
    "# count of movie plot summaries\n",
    "# len(corpus)\n",
    "reviews_df"
   ]
  },
  {
   "cell_type": "code",
   "execution_count": 3,
   "id": "olive-sunset",
   "metadata": {},
   "outputs": [],
   "source": [
    "NPT = nlplot.NLPlot(reviews_df, target_col='Review_Text')\n",
    "npt = nlplot.NLPlot(reviews_df, target_col='review_clean')"
   ]
  },
  {
   "cell_type": "code",
   "execution_count": 4,
   "id": "connected-papua",
   "metadata": {},
   "outputs": [],
   "source": [
    "stopwords = npt.get_stopword(top_n=30, min_freq=0)"
   ]
  },
  {
   "cell_type": "code",
   "execution_count": 9,
   "id": "animal-alliance",
   "metadata": {},
   "outputs": [
    {
     "name": "stderr",
     "output_type": "stream",
     "text": [
      "100%|███████████████████████████████████████████████████████████████████████████| 4004/4004 [00:00<00:00, 21653.16it/s]\n",
      "100%|████████████████████████████████████████████████████████████████████████████| 4004/4004 [00:00<00:00, 7552.72it/s]\n"
     ]
    },
    {
     "data": {
      "application/vnd.plotly.v1+json": {
       "config": {
        "plotlyServerURL": "https://plot.ly"
       },
       "data": [
        {
         "alignmentgroup": "True",
         "hovertemplate": "word_count=%{text}<br>word=%{y}<extra></extra>",
         "legendgroup": "",
         "marker": {},
         "name": "",
         "offsetgroup": "",
         "orientation": "h",
         "showlegend": false,
         "text": [
          365,
          372,
          374,
          375,
          383,
          385,
          386,
          389,
          399,
          410,
          412,
          415,
          415,
          418,
          419,
          426,
          432,
          432,
          446,
          449,
          453,
          462,
          468,
          475,
          491,
          502,
          516,
          520,
          524,
          533,
          619,
          660,
          704,
          725,
          749,
          756,
          757,
          807,
          831,
          867,
          869,
          1029,
          1037,
          1150,
          1274,
          1384,
          1553,
          1657,
          1961,
          2559
         ],
         "textposition": "auto",
         "texttemplate": "%{text:.2s}",
         "type": "bar",
         "x": [
          365,
          372,
          374,
          375,
          383,
          385,
          386,
          389,
          399,
          410,
          412,
          415,
          415,
          418,
          419,
          426,
          432,
          432,
          446,
          449,
          453,
          462,
          468,
          475,
          491,
          502,
          516,
          520,
          524,
          533,
          619,
          660,
          704,
          725,
          749,
          756,
          757,
          807,
          831,
          867,
          869,
          1029,
          1037,
          1150,
          1274,
          1384,
          1553,
          1657,
          1961,
          2559
         ],
         "xaxis": "x",
         "y": [
          "the best",
          "to a",
          "have a",
          "this was",
          "to do",
          "was the",
          "fast pass",
          "been to",
          "from the",
          "the was",
          "have been",
          "on a",
          "a few",
          "i have",
          "there is",
          "in a",
          "have to",
          "is the",
          "you have",
          "and it",
          "you are",
          "and we",
          "there are",
          "we went",
          "a lot",
          "the is",
          "with the",
          "i was",
          "this is",
          "and i",
          "had a",
          "for a",
          "was a",
          "all the",
          "you can",
          "is a",
          "we had",
          "the rides",
          "to be",
          "we were",
          "on the",
          "it is",
          "at the",
          "if you",
          "for the",
          "and the",
          "to the",
          "it was",
          "in the",
          "of the"
         ],
         "yaxis": "y"
        }
       ],
       "layout": {
        "barmode": "relative",
        "height": 1100,
        "legend": {
         "tracegroupgap": 0
        },
        "margin": {
         "t": 60
        },
        "template": {
         "data": {
          "bar": [
           {
            "error_x": {
             "color": "#2a3f5f"
            },
            "error_y": {
             "color": "#2a3f5f"
            },
            "marker": {
             "line": {
              "color": "#E5ECF6",
              "width": 0.5
             }
            },
            "type": "bar"
           }
          ],
          "barpolar": [
           {
            "marker": {
             "line": {
              "color": "#E5ECF6",
              "width": 0.5
             }
            },
            "type": "barpolar"
           }
          ],
          "carpet": [
           {
            "aaxis": {
             "endlinecolor": "#2a3f5f",
             "gridcolor": "white",
             "linecolor": "white",
             "minorgridcolor": "white",
             "startlinecolor": "#2a3f5f"
            },
            "baxis": {
             "endlinecolor": "#2a3f5f",
             "gridcolor": "white",
             "linecolor": "white",
             "minorgridcolor": "white",
             "startlinecolor": "#2a3f5f"
            },
            "type": "carpet"
           }
          ],
          "choropleth": [
           {
            "colorbar": {
             "outlinewidth": 0,
             "ticks": ""
            },
            "type": "choropleth"
           }
          ],
          "contour": [
           {
            "colorbar": {
             "outlinewidth": 0,
             "ticks": ""
            },
            "colorscale": [
             [
              0,
              "#0d0887"
             ],
             [
              0.1111111111111111,
              "#46039f"
             ],
             [
              0.2222222222222222,
              "#7201a8"
             ],
             [
              0.3333333333333333,
              "#9c179e"
             ],
             [
              0.4444444444444444,
              "#bd3786"
             ],
             [
              0.5555555555555556,
              "#d8576b"
             ],
             [
              0.6666666666666666,
              "#ed7953"
             ],
             [
              0.7777777777777778,
              "#fb9f3a"
             ],
             [
              0.8888888888888888,
              "#fdca26"
             ],
             [
              1,
              "#f0f921"
             ]
            ],
            "type": "contour"
           }
          ],
          "contourcarpet": [
           {
            "colorbar": {
             "outlinewidth": 0,
             "ticks": ""
            },
            "type": "contourcarpet"
           }
          ],
          "heatmap": [
           {
            "colorbar": {
             "outlinewidth": 0,
             "ticks": ""
            },
            "colorscale": [
             [
              0,
              "#0d0887"
             ],
             [
              0.1111111111111111,
              "#46039f"
             ],
             [
              0.2222222222222222,
              "#7201a8"
             ],
             [
              0.3333333333333333,
              "#9c179e"
             ],
             [
              0.4444444444444444,
              "#bd3786"
             ],
             [
              0.5555555555555556,
              "#d8576b"
             ],
             [
              0.6666666666666666,
              "#ed7953"
             ],
             [
              0.7777777777777778,
              "#fb9f3a"
             ],
             [
              0.8888888888888888,
              "#fdca26"
             ],
             [
              1,
              "#f0f921"
             ]
            ],
            "type": "heatmap"
           }
          ],
          "heatmapgl": [
           {
            "colorbar": {
             "outlinewidth": 0,
             "ticks": ""
            },
            "colorscale": [
             [
              0,
              "#0d0887"
             ],
             [
              0.1111111111111111,
              "#46039f"
             ],
             [
              0.2222222222222222,
              "#7201a8"
             ],
             [
              0.3333333333333333,
              "#9c179e"
             ],
             [
              0.4444444444444444,
              "#bd3786"
             ],
             [
              0.5555555555555556,
              "#d8576b"
             ],
             [
              0.6666666666666666,
              "#ed7953"
             ],
             [
              0.7777777777777778,
              "#fb9f3a"
             ],
             [
              0.8888888888888888,
              "#fdca26"
             ],
             [
              1,
              "#f0f921"
             ]
            ],
            "type": "heatmapgl"
           }
          ],
          "histogram": [
           {
            "marker": {
             "colorbar": {
              "outlinewidth": 0,
              "ticks": ""
             }
            },
            "type": "histogram"
           }
          ],
          "histogram2d": [
           {
            "colorbar": {
             "outlinewidth": 0,
             "ticks": ""
            },
            "colorscale": [
             [
              0,
              "#0d0887"
             ],
             [
              0.1111111111111111,
              "#46039f"
             ],
             [
              0.2222222222222222,
              "#7201a8"
             ],
             [
              0.3333333333333333,
              "#9c179e"
             ],
             [
              0.4444444444444444,
              "#bd3786"
             ],
             [
              0.5555555555555556,
              "#d8576b"
             ],
             [
              0.6666666666666666,
              "#ed7953"
             ],
             [
              0.7777777777777778,
              "#fb9f3a"
             ],
             [
              0.8888888888888888,
              "#fdca26"
             ],
             [
              1,
              "#f0f921"
             ]
            ],
            "type": "histogram2d"
           }
          ],
          "histogram2dcontour": [
           {
            "colorbar": {
             "outlinewidth": 0,
             "ticks": ""
            },
            "colorscale": [
             [
              0,
              "#0d0887"
             ],
             [
              0.1111111111111111,
              "#46039f"
             ],
             [
              0.2222222222222222,
              "#7201a8"
             ],
             [
              0.3333333333333333,
              "#9c179e"
             ],
             [
              0.4444444444444444,
              "#bd3786"
             ],
             [
              0.5555555555555556,
              "#d8576b"
             ],
             [
              0.6666666666666666,
              "#ed7953"
             ],
             [
              0.7777777777777778,
              "#fb9f3a"
             ],
             [
              0.8888888888888888,
              "#fdca26"
             ],
             [
              1,
              "#f0f921"
             ]
            ],
            "type": "histogram2dcontour"
           }
          ],
          "mesh3d": [
           {
            "colorbar": {
             "outlinewidth": 0,
             "ticks": ""
            },
            "type": "mesh3d"
           }
          ],
          "parcoords": [
           {
            "line": {
             "colorbar": {
              "outlinewidth": 0,
              "ticks": ""
             }
            },
            "type": "parcoords"
           }
          ],
          "pie": [
           {
            "automargin": true,
            "type": "pie"
           }
          ],
          "scatter": [
           {
            "marker": {
             "colorbar": {
              "outlinewidth": 0,
              "ticks": ""
             }
            },
            "type": "scatter"
           }
          ],
          "scatter3d": [
           {
            "line": {
             "colorbar": {
              "outlinewidth": 0,
              "ticks": ""
             }
            },
            "marker": {
             "colorbar": {
              "outlinewidth": 0,
              "ticks": ""
             }
            },
            "type": "scatter3d"
           }
          ],
          "scattercarpet": [
           {
            "marker": {
             "colorbar": {
              "outlinewidth": 0,
              "ticks": ""
             }
            },
            "type": "scattercarpet"
           }
          ],
          "scattergeo": [
           {
            "marker": {
             "colorbar": {
              "outlinewidth": 0,
              "ticks": ""
             }
            },
            "type": "scattergeo"
           }
          ],
          "scattergl": [
           {
            "marker": {
             "colorbar": {
              "outlinewidth": 0,
              "ticks": ""
             }
            },
            "type": "scattergl"
           }
          ],
          "scattermapbox": [
           {
            "marker": {
             "colorbar": {
              "outlinewidth": 0,
              "ticks": ""
             }
            },
            "type": "scattermapbox"
           }
          ],
          "scatterpolar": [
           {
            "marker": {
             "colorbar": {
              "outlinewidth": 0,
              "ticks": ""
             }
            },
            "type": "scatterpolar"
           }
          ],
          "scatterpolargl": [
           {
            "marker": {
             "colorbar": {
              "outlinewidth": 0,
              "ticks": ""
             }
            },
            "type": "scatterpolargl"
           }
          ],
          "scatterternary": [
           {
            "marker": {
             "colorbar": {
              "outlinewidth": 0,
              "ticks": ""
             }
            },
            "type": "scatterternary"
           }
          ],
          "surface": [
           {
            "colorbar": {
             "outlinewidth": 0,
             "ticks": ""
            },
            "colorscale": [
             [
              0,
              "#0d0887"
             ],
             [
              0.1111111111111111,
              "#46039f"
             ],
             [
              0.2222222222222222,
              "#7201a8"
             ],
             [
              0.3333333333333333,
              "#9c179e"
             ],
             [
              0.4444444444444444,
              "#bd3786"
             ],
             [
              0.5555555555555556,
              "#d8576b"
             ],
             [
              0.6666666666666666,
              "#ed7953"
             ],
             [
              0.7777777777777778,
              "#fb9f3a"
             ],
             [
              0.8888888888888888,
              "#fdca26"
             ],
             [
              1,
              "#f0f921"
             ]
            ],
            "type": "surface"
           }
          ],
          "table": [
           {
            "cells": {
             "fill": {
              "color": "#EBF0F8"
             },
             "line": {
              "color": "white"
             }
            },
            "header": {
             "fill": {
              "color": "#C8D4E3"
             },
             "line": {
              "color": "white"
             }
            },
            "type": "table"
           }
          ]
         },
         "layout": {
          "annotationdefaults": {
           "arrowcolor": "#2a3f5f",
           "arrowhead": 0,
           "arrowwidth": 1
          },
          "autotypenumbers": "strict",
          "coloraxis": {
           "colorbar": {
            "outlinewidth": 0,
            "ticks": ""
           }
          },
          "colorscale": {
           "diverging": [
            [
             0,
             "#8e0152"
            ],
            [
             0.1,
             "#c51b7d"
            ],
            [
             0.2,
             "#de77ae"
            ],
            [
             0.3,
             "#f1b6da"
            ],
            [
             0.4,
             "#fde0ef"
            ],
            [
             0.5,
             "#f7f7f7"
            ],
            [
             0.6,
             "#e6f5d0"
            ],
            [
             0.7,
             "#b8e186"
            ],
            [
             0.8,
             "#7fbc41"
            ],
            [
             0.9,
             "#4d9221"
            ],
            [
             1,
             "#276419"
            ]
           ],
           "sequential": [
            [
             0,
             "#0d0887"
            ],
            [
             0.1111111111111111,
             "#46039f"
            ],
            [
             0.2222222222222222,
             "#7201a8"
            ],
            [
             0.3333333333333333,
             "#9c179e"
            ],
            [
             0.4444444444444444,
             "#bd3786"
            ],
            [
             0.5555555555555556,
             "#d8576b"
            ],
            [
             0.6666666666666666,
             "#ed7953"
            ],
            [
             0.7777777777777778,
             "#fb9f3a"
            ],
            [
             0.8888888888888888,
             "#fdca26"
            ],
            [
             1,
             "#f0f921"
            ]
           ],
           "sequentialminus": [
            [
             0,
             "#0d0887"
            ],
            [
             0.1111111111111111,
             "#46039f"
            ],
            [
             0.2222222222222222,
             "#7201a8"
            ],
            [
             0.3333333333333333,
             "#9c179e"
            ],
            [
             0.4444444444444444,
             "#bd3786"
            ],
            [
             0.5555555555555556,
             "#d8576b"
            ],
            [
             0.6666666666666666,
             "#ed7953"
            ],
            [
             0.7777777777777778,
             "#fb9f3a"
            ],
            [
             0.8888888888888888,
             "#fdca26"
            ],
            [
             1,
             "#f0f921"
            ]
           ]
          },
          "colorway": [
           "#636efa",
           "#EF553B",
           "#00cc96",
           "#ab63fa",
           "#FFA15A",
           "#19d3f3",
           "#FF6692",
           "#B6E880",
           "#FF97FF",
           "#FECB52"
          ],
          "font": {
           "color": "#2a3f5f"
          },
          "geo": {
           "bgcolor": "white",
           "lakecolor": "white",
           "landcolor": "#E5ECF6",
           "showlakes": true,
           "showland": true,
           "subunitcolor": "white"
          },
          "hoverlabel": {
           "align": "left"
          },
          "hovermode": "closest",
          "mapbox": {
           "style": "light"
          },
          "paper_bgcolor": "white",
          "plot_bgcolor": "#E5ECF6",
          "polar": {
           "angularaxis": {
            "gridcolor": "white",
            "linecolor": "white",
            "ticks": ""
           },
           "bgcolor": "#E5ECF6",
           "radialaxis": {
            "gridcolor": "white",
            "linecolor": "white",
            "ticks": ""
           }
          },
          "scene": {
           "xaxis": {
            "backgroundcolor": "#E5ECF6",
            "gridcolor": "white",
            "gridwidth": 2,
            "linecolor": "white",
            "showbackground": true,
            "ticks": "",
            "zerolinecolor": "white"
           },
           "yaxis": {
            "backgroundcolor": "#E5ECF6",
            "gridcolor": "white",
            "gridwidth": 2,
            "linecolor": "white",
            "showbackground": true,
            "ticks": "",
            "zerolinecolor": "white"
           },
           "zaxis": {
            "backgroundcolor": "#E5ECF6",
            "gridcolor": "white",
            "gridwidth": 2,
            "linecolor": "white",
            "showbackground": true,
            "ticks": "",
            "zerolinecolor": "white"
           }
          },
          "shapedefaults": {
           "line": {
            "color": "#2a3f5f"
           }
          },
          "ternary": {
           "aaxis": {
            "gridcolor": "white",
            "linecolor": "white",
            "ticks": ""
           },
           "baxis": {
            "gridcolor": "white",
            "linecolor": "white",
            "ticks": ""
           },
           "bgcolor": "#E5ECF6",
           "caxis": {
            "gridcolor": "white",
            "linecolor": "white",
            "ticks": ""
           }
          },
          "title": {
           "x": 0.05
          },
          "xaxis": {
           "automargin": true,
           "gridcolor": "white",
           "linecolor": "white",
           "ticks": "",
           "title": {
            "standoff": 15
           },
           "zerolinecolor": "white",
           "zerolinewidth": 2
          },
          "yaxis": {
           "automargin": true,
           "gridcolor": "white",
           "linecolor": "white",
           "ticks": "",
           "title": {
            "standoff": 15
           },
           "zerolinecolor": "white",
           "zerolinewidth": 2
          }
         }
        },
        "title": {
         "text": "Frequently Co-occurring Words"
        },
        "width": 800,
        "xaxis": {
         "anchor": "y",
         "domain": [
          0,
          1
         ],
         "title": {
          "text": ""
         }
        },
        "yaxis": {
         "anchor": "x",
         "domain": [
          0,
          1
         ],
         "title": {
          "text": ""
         }
        }
       }
      },
      "text/html": [
       "<div>                            <div id=\"4358ae63-b00c-4875-bf26-81cfefadcada\" class=\"plotly-graph-div\" style=\"height:1100px; width:800px;\"></div>            <script type=\"text/javascript\">                require([\"plotly\"], function(Plotly) {                    window.PLOTLYENV=window.PLOTLYENV || {};                                    if (document.getElementById(\"4358ae63-b00c-4875-bf26-81cfefadcada\")) {                    Plotly.newPlot(                        \"4358ae63-b00c-4875-bf26-81cfefadcada\",                        [{\"alignmentgroup\": \"True\", \"hovertemplate\": \"word_count=%{text}<br>word=%{y}<extra></extra>\", \"legendgroup\": \"\", \"marker\": {}, \"name\": \"\", \"offsetgroup\": \"\", \"orientation\": \"h\", \"showlegend\": false, \"text\": [365.0, 372.0, 374.0, 375.0, 383.0, 385.0, 386.0, 389.0, 399.0, 410.0, 412.0, 415.0, 415.0, 418.0, 419.0, 426.0, 432.0, 432.0, 446.0, 449.0, 453.0, 462.0, 468.0, 475.0, 491.0, 502.0, 516.0, 520.0, 524.0, 533.0, 619.0, 660.0, 704.0, 725.0, 749.0, 756.0, 757.0, 807.0, 831.0, 867.0, 869.0, 1029.0, 1037.0, 1150.0, 1274.0, 1384.0, 1553.0, 1657.0, 1961.0, 2559.0], \"textposition\": \"auto\", \"texttemplate\": \"%{text:.2s}\", \"type\": \"bar\", \"x\": [365, 372, 374, 375, 383, 385, 386, 389, 399, 410, 412, 415, 415, 418, 419, 426, 432, 432, 446, 449, 453, 462, 468, 475, 491, 502, 516, 520, 524, 533, 619, 660, 704, 725, 749, 756, 757, 807, 831, 867, 869, 1029, 1037, 1150, 1274, 1384, 1553, 1657, 1961, 2559], \"xaxis\": \"x\", \"y\": [\"the best\", \"to a\", \"have a\", \"this was\", \"to do\", \"was the\", \"fast pass\", \"been to\", \"from the\", \"the was\", \"have been\", \"on a\", \"a few\", \"i have\", \"there is\", \"in a\", \"have to\", \"is the\", \"you have\", \"and it\", \"you are\", \"and we\", \"there are\", \"we went\", \"a lot\", \"the is\", \"with the\", \"i was\", \"this is\", \"and i\", \"had a\", \"for a\", \"was a\", \"all the\", \"you can\", \"is a\", \"we had\", \"the rides\", \"to be\", \"we were\", \"on the\", \"it is\", \"at the\", \"if you\", \"for the\", \"and the\", \"to the\", \"it was\", \"in the\", \"of the\"], \"yaxis\": \"y\"}],                        {\"barmode\": \"relative\", \"height\": 1100, \"legend\": {\"tracegroupgap\": 0}, \"margin\": {\"t\": 60}, \"template\": {\"data\": {\"bar\": [{\"error_x\": {\"color\": \"#2a3f5f\"}, \"error_y\": {\"color\": \"#2a3f5f\"}, \"marker\": {\"line\": {\"color\": \"#E5ECF6\", \"width\": 0.5}}, \"type\": \"bar\"}], \"barpolar\": [{\"marker\": {\"line\": {\"color\": \"#E5ECF6\", \"width\": 0.5}}, \"type\": \"barpolar\"}], \"carpet\": [{\"aaxis\": {\"endlinecolor\": \"#2a3f5f\", \"gridcolor\": \"white\", \"linecolor\": \"white\", \"minorgridcolor\": \"white\", \"startlinecolor\": \"#2a3f5f\"}, \"baxis\": {\"endlinecolor\": \"#2a3f5f\", \"gridcolor\": \"white\", \"linecolor\": \"white\", \"minorgridcolor\": \"white\", \"startlinecolor\": \"#2a3f5f\"}, \"type\": \"carpet\"}], \"choropleth\": [{\"colorbar\": {\"outlinewidth\": 0, \"ticks\": \"\"}, \"type\": \"choropleth\"}], \"contour\": [{\"colorbar\": {\"outlinewidth\": 0, \"ticks\": \"\"}, \"colorscale\": [[0.0, \"#0d0887\"], [0.1111111111111111, \"#46039f\"], [0.2222222222222222, \"#7201a8\"], [0.3333333333333333, \"#9c179e\"], [0.4444444444444444, \"#bd3786\"], [0.5555555555555556, \"#d8576b\"], [0.6666666666666666, \"#ed7953\"], [0.7777777777777778, \"#fb9f3a\"], [0.8888888888888888, \"#fdca26\"], [1.0, \"#f0f921\"]], \"type\": \"contour\"}], \"contourcarpet\": [{\"colorbar\": {\"outlinewidth\": 0, \"ticks\": \"\"}, \"type\": \"contourcarpet\"}], \"heatmap\": [{\"colorbar\": {\"outlinewidth\": 0, \"ticks\": \"\"}, \"colorscale\": [[0.0, \"#0d0887\"], [0.1111111111111111, \"#46039f\"], [0.2222222222222222, \"#7201a8\"], [0.3333333333333333, \"#9c179e\"], [0.4444444444444444, \"#bd3786\"], [0.5555555555555556, \"#d8576b\"], [0.6666666666666666, \"#ed7953\"], [0.7777777777777778, \"#fb9f3a\"], [0.8888888888888888, \"#fdca26\"], [1.0, \"#f0f921\"]], \"type\": \"heatmap\"}], \"heatmapgl\": [{\"colorbar\": {\"outlinewidth\": 0, \"ticks\": \"\"}, \"colorscale\": [[0.0, \"#0d0887\"], [0.1111111111111111, \"#46039f\"], [0.2222222222222222, \"#7201a8\"], [0.3333333333333333, \"#9c179e\"], [0.4444444444444444, \"#bd3786\"], [0.5555555555555556, \"#d8576b\"], [0.6666666666666666, \"#ed7953\"], [0.7777777777777778, \"#fb9f3a\"], [0.8888888888888888, \"#fdca26\"], [1.0, \"#f0f921\"]], \"type\": \"heatmapgl\"}], \"histogram\": [{\"marker\": {\"colorbar\": {\"outlinewidth\": 0, \"ticks\": \"\"}}, \"type\": \"histogram\"}], \"histogram2d\": [{\"colorbar\": {\"outlinewidth\": 0, \"ticks\": \"\"}, \"colorscale\": [[0.0, \"#0d0887\"], [0.1111111111111111, \"#46039f\"], [0.2222222222222222, \"#7201a8\"], [0.3333333333333333, \"#9c179e\"], [0.4444444444444444, \"#bd3786\"], [0.5555555555555556, \"#d8576b\"], [0.6666666666666666, \"#ed7953\"], [0.7777777777777778, \"#fb9f3a\"], [0.8888888888888888, \"#fdca26\"], [1.0, \"#f0f921\"]], \"type\": \"histogram2d\"}], \"histogram2dcontour\": [{\"colorbar\": {\"outlinewidth\": 0, \"ticks\": \"\"}, \"colorscale\": [[0.0, \"#0d0887\"], [0.1111111111111111, \"#46039f\"], [0.2222222222222222, \"#7201a8\"], [0.3333333333333333, \"#9c179e\"], [0.4444444444444444, \"#bd3786\"], [0.5555555555555556, \"#d8576b\"], [0.6666666666666666, \"#ed7953\"], [0.7777777777777778, \"#fb9f3a\"], [0.8888888888888888, \"#fdca26\"], [1.0, \"#f0f921\"]], \"type\": \"histogram2dcontour\"}], \"mesh3d\": [{\"colorbar\": {\"outlinewidth\": 0, \"ticks\": \"\"}, \"type\": \"mesh3d\"}], \"parcoords\": [{\"line\": {\"colorbar\": {\"outlinewidth\": 0, \"ticks\": \"\"}}, \"type\": \"parcoords\"}], \"pie\": [{\"automargin\": true, \"type\": \"pie\"}], \"scatter\": [{\"marker\": {\"colorbar\": {\"outlinewidth\": 0, \"ticks\": \"\"}}, \"type\": \"scatter\"}], \"scatter3d\": [{\"line\": {\"colorbar\": {\"outlinewidth\": 0, \"ticks\": \"\"}}, \"marker\": {\"colorbar\": {\"outlinewidth\": 0, \"ticks\": \"\"}}, \"type\": \"scatter3d\"}], \"scattercarpet\": [{\"marker\": {\"colorbar\": {\"outlinewidth\": 0, \"ticks\": \"\"}}, \"type\": \"scattercarpet\"}], \"scattergeo\": [{\"marker\": {\"colorbar\": {\"outlinewidth\": 0, \"ticks\": \"\"}}, \"type\": \"scattergeo\"}], \"scattergl\": [{\"marker\": {\"colorbar\": {\"outlinewidth\": 0, \"ticks\": \"\"}}, \"type\": \"scattergl\"}], \"scattermapbox\": [{\"marker\": {\"colorbar\": {\"outlinewidth\": 0, \"ticks\": \"\"}}, \"type\": \"scattermapbox\"}], \"scatterpolar\": [{\"marker\": {\"colorbar\": {\"outlinewidth\": 0, \"ticks\": \"\"}}, \"type\": \"scatterpolar\"}], \"scatterpolargl\": [{\"marker\": {\"colorbar\": {\"outlinewidth\": 0, \"ticks\": \"\"}}, \"type\": \"scatterpolargl\"}], \"scatterternary\": [{\"marker\": {\"colorbar\": {\"outlinewidth\": 0, \"ticks\": \"\"}}, \"type\": \"scatterternary\"}], \"surface\": [{\"colorbar\": {\"outlinewidth\": 0, \"ticks\": \"\"}, \"colorscale\": [[0.0, \"#0d0887\"], [0.1111111111111111, \"#46039f\"], [0.2222222222222222, \"#7201a8\"], [0.3333333333333333, \"#9c179e\"], [0.4444444444444444, \"#bd3786\"], [0.5555555555555556, \"#d8576b\"], [0.6666666666666666, \"#ed7953\"], [0.7777777777777778, \"#fb9f3a\"], [0.8888888888888888, \"#fdca26\"], [1.0, \"#f0f921\"]], \"type\": \"surface\"}], \"table\": [{\"cells\": {\"fill\": {\"color\": \"#EBF0F8\"}, \"line\": {\"color\": \"white\"}}, \"header\": {\"fill\": {\"color\": \"#C8D4E3\"}, \"line\": {\"color\": \"white\"}}, \"type\": \"table\"}]}, \"layout\": {\"annotationdefaults\": {\"arrowcolor\": \"#2a3f5f\", \"arrowhead\": 0, \"arrowwidth\": 1}, \"autotypenumbers\": \"strict\", \"coloraxis\": {\"colorbar\": {\"outlinewidth\": 0, \"ticks\": \"\"}}, \"colorscale\": {\"diverging\": [[0, \"#8e0152\"], [0.1, \"#c51b7d\"], [0.2, \"#de77ae\"], [0.3, \"#f1b6da\"], [0.4, \"#fde0ef\"], [0.5, \"#f7f7f7\"], [0.6, \"#e6f5d0\"], [0.7, \"#b8e186\"], [0.8, \"#7fbc41\"], [0.9, \"#4d9221\"], [1, \"#276419\"]], \"sequential\": [[0.0, \"#0d0887\"], [0.1111111111111111, \"#46039f\"], [0.2222222222222222, \"#7201a8\"], [0.3333333333333333, \"#9c179e\"], [0.4444444444444444, \"#bd3786\"], [0.5555555555555556, \"#d8576b\"], [0.6666666666666666, \"#ed7953\"], [0.7777777777777778, \"#fb9f3a\"], [0.8888888888888888, \"#fdca26\"], [1.0, \"#f0f921\"]], \"sequentialminus\": [[0.0, \"#0d0887\"], [0.1111111111111111, \"#46039f\"], [0.2222222222222222, \"#7201a8\"], [0.3333333333333333, \"#9c179e\"], [0.4444444444444444, \"#bd3786\"], [0.5555555555555556, \"#d8576b\"], [0.6666666666666666, \"#ed7953\"], [0.7777777777777778, \"#fb9f3a\"], [0.8888888888888888, \"#fdca26\"], [1.0, \"#f0f921\"]]}, \"colorway\": [\"#636efa\", \"#EF553B\", \"#00cc96\", \"#ab63fa\", \"#FFA15A\", \"#19d3f3\", \"#FF6692\", \"#B6E880\", \"#FF97FF\", \"#FECB52\"], \"font\": {\"color\": \"#2a3f5f\"}, \"geo\": {\"bgcolor\": \"white\", \"lakecolor\": \"white\", \"landcolor\": \"#E5ECF6\", \"showlakes\": true, \"showland\": true, \"subunitcolor\": \"white\"}, \"hoverlabel\": {\"align\": \"left\"}, \"hovermode\": \"closest\", \"mapbox\": {\"style\": \"light\"}, \"paper_bgcolor\": \"white\", \"plot_bgcolor\": \"#E5ECF6\", \"polar\": {\"angularaxis\": {\"gridcolor\": \"white\", \"linecolor\": \"white\", \"ticks\": \"\"}, \"bgcolor\": \"#E5ECF6\", \"radialaxis\": {\"gridcolor\": \"white\", \"linecolor\": \"white\", \"ticks\": \"\"}}, \"scene\": {\"xaxis\": {\"backgroundcolor\": \"#E5ECF6\", \"gridcolor\": \"white\", \"gridwidth\": 2, \"linecolor\": \"white\", \"showbackground\": true, \"ticks\": \"\", \"zerolinecolor\": \"white\"}, \"yaxis\": {\"backgroundcolor\": \"#E5ECF6\", \"gridcolor\": \"white\", \"gridwidth\": 2, \"linecolor\": \"white\", \"showbackground\": true, \"ticks\": \"\", \"zerolinecolor\": \"white\"}, \"zaxis\": {\"backgroundcolor\": \"#E5ECF6\", \"gridcolor\": \"white\", \"gridwidth\": 2, \"linecolor\": \"white\", \"showbackground\": true, \"ticks\": \"\", \"zerolinecolor\": \"white\"}}, \"shapedefaults\": {\"line\": {\"color\": \"#2a3f5f\"}}, \"ternary\": {\"aaxis\": {\"gridcolor\": \"white\", \"linecolor\": \"white\", \"ticks\": \"\"}, \"baxis\": {\"gridcolor\": \"white\", \"linecolor\": \"white\", \"ticks\": \"\"}, \"bgcolor\": \"#E5ECF6\", \"caxis\": {\"gridcolor\": \"white\", \"linecolor\": \"white\", \"ticks\": \"\"}}, \"title\": {\"x\": 0.05}, \"xaxis\": {\"automargin\": true, \"gridcolor\": \"white\", \"linecolor\": \"white\", \"ticks\": \"\", \"title\": {\"standoff\": 15}, \"zerolinecolor\": \"white\", \"zerolinewidth\": 2}, \"yaxis\": {\"automargin\": true, \"gridcolor\": \"white\", \"linecolor\": \"white\", \"ticks\": \"\", \"title\": {\"standoff\": 15}, \"zerolinecolor\": \"white\", \"zerolinewidth\": 2}}}, \"title\": {\"text\": \"Frequently Co-occurring Words\"}, \"width\": 800, \"xaxis\": {\"anchor\": \"y\", \"domain\": [0.0, 1.0], \"title\": {\"text\": \"\"}}, \"yaxis\": {\"anchor\": \"x\", \"domain\": [0.0, 1.0], \"title\": {\"text\": \"\"}}},                        {\"responsive\": true}                    ).then(function(){\n",
       "                            \n",
       "var gd = document.getElementById('4358ae63-b00c-4875-bf26-81cfefadcada');\n",
       "var x = new MutationObserver(function (mutations, observer) {{\n",
       "        var display = window.getComputedStyle(gd).display;\n",
       "        if (!display || display === 'none') {{\n",
       "            console.log([gd, 'removed!']);\n",
       "            Plotly.purge(gd);\n",
       "            observer.disconnect();\n",
       "        }}\n",
       "}});\n",
       "\n",
       "// Listen for the removal of the full notebook cells\n",
       "var notebookContainer = gd.closest('#notebook-container');\n",
       "if (notebookContainer) {{\n",
       "    x.observe(notebookContainer, {childList: true});\n",
       "}}\n",
       "\n",
       "// Listen for the clearing of the current output cell\n",
       "var outputEl = gd.closest('.output');\n",
       "if (outputEl) {{\n",
       "    x.observe(outputEl, {childList: true});\n",
       "}}\n",
       "\n",
       "                        })                };                });            </script>        </div>"
      ]
     },
     "metadata": {},
     "output_type": "display_data"
    }
   ],
   "source": [
    "npt.bar_ngram(title='uni-gram', ngram=1, top_n=50, stopwords=stopwords)\n",
    "bgram = NPT.bar_ngram(title='Frequently Co-occurring Words', ngram=2, top_n=50, stopwords=stopwords)\n",
    "bgram.write_html(\"Resources/common_bigrams.html\")\n",
    "bgram"
   ]
  },
  {
   "cell_type": "code",
   "execution_count": 10,
   "id": "devoted-principle",
   "metadata": {},
   "outputs": [
    {
     "data": {
      "text/html": [
       "\n",
       "<link rel=\"stylesheet\" type=\"text/css\" href=\"https://cdn.jsdelivr.net/gh/bmabey/pyLDAvis@3.2.2/pyLDAvis/js/ldavis.v1.0.0.css\">\n",
       "\n",
       "\n",
       "<div id=\"ldavis_el2237616408437385922357134541\"></div>\n",
       "<script type=\"text/javascript\">\n",
       "\n",
       "var ldavis_el2237616408437385922357134541_data = {\"mdsDat\": {\"x\": [0.040656158360324116, 0.031049799836539008, 0.03491544840979584, 0.07063725614223645, -0.1772586627488954], \"y\": [0.03157785609878312, 0.0296908459203155, 0.02326267871946592, -0.07261868444748253, -0.011912696291082008], \"topics\": [1, 2, 3, 4, 5], \"cluster\": [1, 1, 1, 1, 1], \"Freq\": [32.324296929206106, 27.678861941415693, 27.23176934831618, 9.544461529206792, 3.2206102518552284]}, \"tinfo\": {\"Term\": [\"day\", \"ride\", \"disney\", \"disneyland\", \"paris\", \"good\", \"well\", \"park\", \"year\", \"get\", \"time\", \"experience\", \"fun\", \"visit\", \"rid\", \"great\", \"old\", \"show\", \"love\", \"go\", \"run\", \"last\", \"adventure\", \"wait\", \"pay\", \"work\", \"find\", \"service\", \"place\", \"son\", \"fp\", \"teddy\", \"student\", \"physically\", \"admiral\", \"pineapple\", \"chain\", \"hug\", \"qued\", \"mango\", \"blanket\", \"got\", \"stare\", \"tinkerbell\", \"btw\", \"horrific\", \"gadget\", \"p.m\", \"effectively\", \"waits\", \"dealt\", \"mi\", \"minder\", \"tiggers\", \"uplift\", \"anti\", \"cranky\", \"grizzle\", \"stench\", \"bitterly\", \"max\", \"nut\", \"office\", \"academy\", \"chaos\", \"shoulder\", \"alot\", \"normally\", \"ask\", \"ariel's\", \"disable\", \"photographer\", \"luck\", \"tell\", \"know\", \"que\", \"today\", \"people\", \"get\", \"pas\", \"didnt\", \"bear\", \"front\", \"spot\", \"seat\", \"put\", \"come\", \"ride\", \"think\", \"pass\", \"morning\", \"idea\", \"say\", \"time\", \"also\", \"give\", \"hour\", \"point\", \"go\", \"fast\", \"would\", \"minute\", \"picture\", \"queue\", \"kid\", \"back\", \"make\", \"early\", \"could\", \"best\", \"see\", \"place\", \"wait\", \"really\", \"lot\", \"park\", \"want\", \"one\", \"take\", \"disney\", \"like\", \"child\", \"day\", \"line\", \"good\", \"food\", \"show\", \"disneyland\", \"great\", \"davy\", \"cheyenne\", \"tiana\", \"replacement\", \"genius\", \"animagique\", \"crockett\", \"disagree\", \"carefully\", \"connect\", \"tsim\", \"sha\", \"hyatt\", \"ada\", \"prayer\", \"tesco\", \"category\", \"science\", \"it`s\", \"gf\", \"relief\", \"buzz's\", \"buggie\", \"gripe\", \"veggie\", \"officer\", \"self\", \"refurbish\", \"tsui\", \"usb\", \"reception\", \"overnight\", \"convenient\", \"swim\", \"accommodation\", \"vegetarian\", \"mtn\", \"ranch\", \"village\", \"hotel\", \"nearby\", \"fault\", \"cater\", \"close\", \"park\", \"stay\", \"studio\", \"breakfast\", \"day\", \"food\", \"queue\", \"nice\", \"attraction\", \"long\", \"lovely\", \"fantastic\", \"lot\", \"show\", \"restaurant\", \"plenty\", \"ride\", \"night\", \"would\", \"around\", \"enjoy\", \"firework\", \"visit\", \"little\", \"worth\", \"main\", \"plan\", \"one\", \"see\", \"time\", \"go\", \"thing\", \"disneyland\", \"take\", \"family\", \"good\", \"parade\", \"disney\", \"place\", \"year\", \"get\", \"really\", \"kid\", \"wait\", \"make\", \"behave\", \"grandson\", \"guide\", \"aaa\", \"shanghai\", \"whether\", \"grandchildren\", \"ha\", \"childhood\", \"fnac\", \"furthermore\", \"subtle\", \"squid\", \"mandarin\", \"eager\", \"weird\", \"fla\", \"lincoln\", \"hong\", \"intimate\", \"vintage\", \"cinderella's\", \"kong\", \"wifi\", \"korean\", \"tgv\", \"array\", \"epcot\", \"graduate\", \"heart\", \"mine\", \"toontown\", \"young\", \"amaze\", \"great\", \"never\", \"dream\", \"original\", \"much\", \"disneyland\", \"world\", \"tired\", \"scale\", \"disney\", \"small\", \"fan\", \"california\", \"hk\", \"well\", \"still\", \"go\", \"day\", \"old\", \"visit\", \"park\", \"line\", \"get\", \"time\", \"ride\", \"one\", \"kid\", \"take\", \"like\", \"fun\", \"parade\", \"see\", \"somewhere.if\", \"rides(as\", \"visted\", \"parcs\", \"recomend\", \"october\", \"uk\", \"base\", \"third\", \"complaint\", \"track\", \"usa\", \"real\", \"blog\", \"wife\", \"life\", \"hard\", \"expert\", \"system\", \"belonging\", \"president\", \"cleanest\", \"fewer\", \"compensate\", \"cent\", \"europa\", \"built\", \"bottled\", \"cease\", \"amazing.the\", \"lunch\", \"can't\", \"something\", \"everything\", \"busy\", \"book\", \"must\", \"least\", \"good\", \"expensive\", \"eat\", \"love\", \"price\", \"well\", \"time\", \"wait\", \"park\", \"place\", \"one\", \"get\", \"fast\", \"visit\", \"go\", \"disneyland\", \"disney\", \"ride\", \"character\", \"find\", \"would\", \"use\", \"day\", \"evacuate\", \"backstage\", \"irony\", \"enticement\", \"currency\", \"buyer\", \"fantasy.so\", \"stopover\", \"malfunctioning\", \"broke\", \"gain\", \"conclusion\", \"span\", \"pa\", \"pump\", \"message\", \"cowboy\", \"buffalo\", \"speaker\", \"retail\", \"ridiculously\", \"bin\", \"risk\", \"represent\", \"establishment\", \"sale\", \"die\", \"position\", \"trash\", \"vehicle\", \"paris\", \"run\", \"day\", \"rid\", \"week\", \"ride\", \"disney\", \"son\", \"experience\", \"service\", \"pay\", \"year\", \"fun\", \"disneyland\", \"work\", \"last\", \"adventure\", \"show\", \"old\", \"get\", \"park\", \"well\", \"visit\", \"go\", \"queue\", \"take\", \"could\", \"even\", \"magic\", \"ticket\", \"make\", \"great\"], \"Freq\": [3376.0, 3785.0, 2757.0, 3056.0, 674.0, 1533.0, 1427.0, 4606.0, 1040.0, 3318.0, 3146.0, 860.0, 893.0, 1560.0, 514.0, 2015.0, 910.0, 1142.0, 969.0, 3620.0, 238.0, 355.0, 371.0, 1308.0, 311.0, 316.0, 667.0, 280.0, 1267.0, 245.0, 19.998249620738736, 10.25558957058156, 8.958684430640995, 6.396289501116161, 8.489098270023286, 10.559574800897105, 10.031360747969345, 10.368431121473707, 5.199521703011061, 5.206655263576451, 7.752484843640326, 6.166765116554841, 5.160260837747705, 11.972922730836267, 5.120975442474217, 6.382839462941906, 4.771493759915097, 8.153396320655547, 6.018235905208495, 4.066717074419617, 5.08820743727353, 4.055839183022009, 4.407435410859252, 3.901388602444271, 4.003059653960814, 3.9799628972784085, 7.114295162670784, 3.951639204270478, 5.861146304374108, 3.768937644643415, 35.85843371235103, 13.38165084220066, 18.07260527825573, 8.342734708142837, 8.610747846696231, 27.047655898037327, 21.95478892693453, 20.02635166758369, 154.9281705302321, 10.743602441190921, 28.798636055522437, 31.74473699614667, 19.032134003613145, 166.65963619467377, 256.0221921055898, 31.98294909262957, 30.54560497230318, 529.7087575565394, 1565.596937435213, 367.1106929746362, 37.7500082069528, 26.56574399137639, 112.63713414105236, 83.78222624228822, 88.11555298825299, 85.3087497984956, 364.12384418289633, 1474.3860429246956, 286.00593836392625, 213.97048451240178, 131.482639155202, 53.520861010240424, 293.07357160684825, 1106.5110228686585, 398.98793174074757, 196.28615074736922, 320.08760737385677, 87.15207025888151, 1216.6739246887423, 368.75832469515007, 546.079254634162, 275.7958099106927, 107.12533898454059, 465.98975275515824, 491.5727310930084, 332.7915921561641, 411.8915207197822, 229.73542207896054, 238.9234761214799, 229.1646437860717, 417.9171004427858, 442.1529747271048, 452.3465442554038, 355.9384274383013, 331.80396255205744, 997.5341587193909, 279.41286970558286, 487.96860445393605, 404.72535626664046, 641.4549991086781, 348.71604487432097, 313.06740816195475, 564.6876735961034, 335.71590577540866, 370.10542874868116, 348.0181030089103, 331.7791428541872, 394.4446561423543, 343.7290424183715, 16.414833576735692, 17.004788109459817, 6.686478611054282, 7.083938400017481, 6.051396940561619, 5.863171155818272, 16.121879764940772, 5.489966815818591, 12.441405950002146, 7.580165877047776, 4.678398997880924, 4.683099053743999, 3.809663337241819, 3.8141911044004004, 4.204230976486337, 3.798593100323634, 4.27095696641645, 5.921405238049405, 3.7978466826416124, 10.420395932025658, 5.996333070515636, 3.6916875841011914, 3.7524229782496654, 12.991278478342146, 5.33994311313661, 4.189727468287027, 12.037745268014232, 14.057657039270639, 3.6885218729271902, 3.7173896080363997, 9.271019725755153, 7.858422387107853, 25.958447540526905, 13.496910067997387, 18.647327104281267, 27.152525789068648, 8.323430850816527, 25.166781693548064, 50.127593116070834, 328.5435349923546, 23.94771583156275, 28.52075716094375, 30.13061481393287, 334.57480991252345, 1793.981256181287, 287.54072374984463, 118.72514349045589, 66.72176498098223, 1206.6751744291512, 493.8900559308695, 468.5278463346291, 184.12866032824775, 304.3049698217647, 361.3770870185589, 77.43493168368279, 113.3622427199034, 339.5757413670137, 419.9191024265869, 184.66039578211124, 97.70151655267932, 1044.2008507270111, 202.50278805854975, 459.98035814954574, 272.5070424476525, 270.7193448430876, 206.75638362474416, 472.4409814166999, 214.73071905160606, 233.0348310529412, 155.6398123356683, 162.61712378204217, 464.66621082188755, 350.1647761836042, 700.3474123794432, 768.0474851363359, 222.17619967173908, 665.7231220655874, 360.13373570086907, 234.76413153864897, 379.7615690749504, 281.0996287639881, 510.1672165795129, 322.7536262948778, 290.2057384428582, 458.55680634998924, 268.34613970481263, 299.5514859561397, 291.5282435423698, 277.6421800514264, 304.27382965701435, 316.7749284404304, 324.59044545360285, 5.989579912985446, 8.682256744627848, 253.7889573120837, 6.057136688103501, 4.4987701962374445, 259.0270028517897, 5.65374646060089, 5.214219280040614, 4.42990903869801, 5.6100681007637085, 5.42495355239742, 4.405627647482353, 7.950700924286056, 5.591500701648954, 4.026343155018697, 232.44897355037958, 3.6578888253151347, 4.993896739013327, 7.278784558223981, 221.09427487681748, 8.289082129283932, 3.6216332920373446, 4.740687622248498, 3.596697003423402, 7.613206856785634, 4.121159849827635, 235.18035329295498, 215.89894577026672, 6.017524006104067, 599.4852885074304, 430.3007222829343, 1316.5410644244564, 421.34201715856756, 244.91319732957538, 71.83754665035872, 668.4152206064018, 1545.7106188335008, 334.6348691053022, 139.82593802457862, 13.37781795065813, 1149.8558425295578, 379.7750386609162, 67.27436722119468, 195.14628541053722, 98.60597347035706, 567.3146027162506, 358.5365477588209, 1235.8025026648731, 1159.93534624505, 369.50102008541666, 558.5314238715797, 1267.066963971466, 389.2456481991213, 860.931839565253, 748.7333254433983, 791.0668379741238, 436.55379088927737, 391.11235475349656, 380.2310480000398, 342.95501630005435, 317.9404116011447, 305.81014121200525, 309.9808899813973, 123.67379663190493, 123.67289159850326, 123.65876424784288, 125.90181227495752, 124.64037230489903, 136.29190476203814, 132.09579465409834, 128.27328674916907, 133.05978767079984, 131.45488752480384, 135.86789661335112, 137.50213308595278, 141.53882487128448, 3.0405373167984715, 138.4144950507877, 143.2990486155956, 141.42997804924343, 1.4981153446073538, 148.73513174278574, 1.439121238983523, 1.7803743612863734, 1.4793897068619257, 1.7647226984618567, 1.4444360683292494, 2.1394386030173673, 1.1628092643885222, 1.147969424113245, 1.149547886522844, 1.1461271948233354, 1.5528436525513154, 145.56883927603062, 155.75734109138338, 146.22803470223465, 200.18299160446077, 184.6281052708399, 156.18352352763299, 183.49831454974773, 155.66477383357986, 509.57499520253634, 202.30103465221657, 153.41374606074066, 308.1723717563776, 179.91663382560697, 385.0824854888849, 567.9909721115696, 285.7986657756976, 449.37482220104016, 257.9530395525195, 277.06407804615816, 342.2610729022413, 214.04311459749445, 259.0306915200807, 332.76603637543667, 301.5706387188019, 279.6697795795215, 261.30208254445773, 186.4534583090939, 175.98751960815542, 197.72578177092913, 171.73251610715022, 183.20785401277203, 62.0296403709226, 30.648139103373676, 30.65327669049448, 30.645446478880498, 30.642846960351815, 30.634973919994167, 30.630847463647775, 30.622998630840897, 30.62327050025722, 31.36288938524649, 31.154175606758663, 30.825010642004415, 31.051183650954236, 31.021445605894723, 30.75249785473688, 31.260327578998027, 31.142319493239945, 31.481241963073202, 31.084632899758496, 30.85373196993165, 32.301624685903505, 30.947269946101315, 31.279887280019015, 31.235367732036366, 31.428391293387598, 31.733927826472453, 31.821775166092216, 31.455570786542804, 31.695620308440873, 31.277567079383815, 201.3256786841307, 99.07478676926291, 261.9623458232981, 102.90445854323276, 66.87631604354205, 214.8661163429385, 176.27035714223823, 66.15889362048824, 106.2568616947271, 67.07431891187444, 69.39387897803941, 108.08343685160992, 102.28268946386193, 148.72499478895296, 67.3613832216036, 68.20033499799267, 66.23884557431889, 74.01898107635506, 69.40586357778912, 91.57647929751273, 98.6046463394291, 73.61187710872254, 74.09864998805364, 67.21622729871824, 48.85471065904981, 46.10712757714972, 42.31099257159075, 43.923088828664234, 40.36207617736229, 41.709386519890835, 42.958015712771044, 43.02780049527889], \"Total\": [3376.0, 3785.0, 2757.0, 3056.0, 674.0, 1533.0, 1427.0, 4606.0, 1040.0, 3318.0, 3146.0, 860.0, 893.0, 1560.0, 514.0, 2015.0, 910.0, 1142.0, 969.0, 3620.0, 238.0, 355.0, 371.0, 1308.0, 311.0, 316.0, 667.0, 280.0, 1267.0, 245.0, 21.983672992015027, 11.474460671941584, 10.093402827460794, 7.213895327185059, 9.644866672196603, 11.997990530797185, 11.488101862323209, 11.953195972209945, 5.996496311031919, 6.023049487894742, 8.979344439030832, 7.148367497610994, 6.0273232160977575, 14.003887554279036, 5.9995566257709, 7.499860243846427, 5.612167100810507, 9.595190425862079, 7.082756252683248, 4.8020467931014315, 6.01373264722425, 4.803969475261004, 5.248830826213566, 4.65969114311324, 4.790850586801158, 4.763994596077763, 8.5229785810881, 4.734263011895656, 7.02264064557242, 4.5196845864667345, 43.373961314677416, 16.068587108151338, 21.789402719243313, 10.067610724369874, 10.461809682939148, 34.251670588498015, 27.890871710022232, 25.50080793570046, 219.97904971222061, 13.276474138112794, 38.01192996180379, 42.39317932236224, 24.553177288048, 257.1041934527879, 411.6246702286479, 43.05121494788907, 41.18084168243528, 951.5758859477978, 3318.9231355502093, 699.177343999933, 54.2915006747848, 36.665038698469786, 188.6491819573369, 135.10467986593068, 143.70702402031998, 139.24176154677357, 740.9330507674405, 3785.8219305132266, 567.6407333510233, 406.5844483371379, 237.3262767559331, 82.47170760009428, 627.7333027682881, 3146.9054119335383, 920.8529300011215, 391.9404380749828, 706.5070847520799, 148.24119165007264, 3620.506176164107, 850.7633929777716, 1403.0042751848505, 606.5234835317959, 191.2182064992477, 1192.071624604429, 1312.6621603166518, 813.7197965150295, 1081.0328005859405, 514.1107759236156, 541.4017706367543, 513.9907487848366, 1173.3433980079328, 1267.835721552209, 1308.7579714957935, 945.8715080260569, 872.4177262235346, 4606.561847412613, 693.9251395272129, 1685.2711900545473, 1262.7017602498777, 2757.4181949395083, 1052.3015863425062, 868.8036708797472, 3376.468394106375, 1035.9535684148402, 1533.35575823456, 1253.2077944707182, 1142.4871732309437, 3056.1740305491976, 2015.241548724521, 18.19618384132865, 18.896073829471785, 7.512383116677012, 7.973036904538457, 6.888473462308017, 6.7600844397506545, 18.741604792245962, 6.481726115946898, 14.694072760601603, 8.96791092003882, 5.541565209294769, 5.57582172144957, 4.543433489719199, 4.55548656084466, 5.036526425952122, 4.551139444636058, 5.11979014953362, 7.098901794942654, 4.5536604359636055, 12.532068874407104, 7.215679848999104, 4.451081349982315, 4.528831587519878, 15.699422999203701, 6.460381824803534, 5.08353355374165, 14.613274935408601, 17.076399922848193, 4.494289872430557, 4.536779327191896, 11.33327779520909, 9.595028869805251, 33.01114428616106, 16.90025689806681, 23.804277486304215, 35.2699380873215, 10.366278128646735, 33.75443386002422, 73.62740744193844, 588.6862534013317, 33.583911081517265, 41.205311435357785, 44.309118974557926, 666.065994128091, 4606.561847412613, 584.6804704722218, 224.03370474566145, 116.02944302383602, 3376.468394106375, 1253.2077944707182, 1192.071624604429, 394.3457472239515, 717.5046976412515, 887.1032752354182, 140.80586869046317, 225.2465287041354, 872.4177262235346, 1142.4871732309437, 419.5658697252633, 192.30940659713465, 3785.8219305132266, 482.1155578582689, 1403.0042751848505, 741.6349262721876, 739.1676909096719, 521.8091699131219, 1560.7842651284454, 556.3347781599036, 627.3720419417598, 363.8739580062323, 395.8844114275299, 1685.2711900545473, 1173.3433980079328, 3146.9054119335383, 3620.506176164107, 618.5557936853447, 3056.1740305491976, 1262.7017602498777, 672.8376724821051, 1533.35575823456, 931.0966351137374, 2757.4181949395083, 1267.835721552209, 1040.419462395628, 3318.9231355502093, 945.8715080260569, 1312.6621603166518, 1308.7579714957935, 1081.0328005859405, 307.7982716884533, 322.54814459012454, 346.84421966043783, 6.943408275198923, 10.122328460799723, 299.2346341031219, 7.1934459089626515, 5.365504309864784, 309.1590555251788, 6.781544816661087, 6.293339930958001, 5.349158048714436, 6.788627345022074, 6.621314956989072, 5.380782844676169, 9.712826722790519, 6.8417746746543, 4.954377627126606, 287.66290270028514, 4.5281557368240275, 6.191930485873655, 9.028741424285444, 275.4271225436891, 10.339889304333502, 4.551405157845947, 6.000309702940213, 4.554126820359656, 9.645565692837046, 5.228315366251684, 298.43555468467093, 283.4290841709513, 7.637759462612749, 856.2398155918228, 609.3729173999255, 2015.241548724521, 643.0614223350515, 381.14093967878784, 105.37261931335455, 1218.6324691719126, 3056.1740305491976, 604.6905089250048, 231.96706857626873, 17.953239924906253, 2757.4181949395083, 793.6276689289211, 113.91458925806118, 389.23264047401875, 180.38680014163447, 1427.3979561390513, 832.1539737573323, 3620.506176164107, 3376.468394106375, 910.8434810737762, 1560.7842651284454, 4606.561847412613, 1035.9535684148402, 3318.9231355502093, 3146.9054119335383, 3785.8219305132266, 1685.2711900545473, 1312.6621603166518, 1262.7017602498777, 1052.3015863425062, 893.1711257868374, 931.0966351137374, 1173.3433980079328, 124.60724154356072, 124.60694666809766, 124.59274794652079, 127.69057080717953, 127.57782136874295, 158.87856263717148, 156.4792682071755, 152.1545172876462, 160.70628169398992, 160.34049112792835, 172.21851827437774, 181.78689942331832, 214.70580256538986, 4.641416909073546, 214.45037076266166, 226.34572350473937, 233.5721455814191, 2.5545100564232643, 253.86605658429107, 2.4820333273747623, 3.0937168507470707, 2.5933614159044147, 3.1028199395143328, 2.6307728061133613, 3.953314730425509, 2.1637139156570053, 2.144627624505186, 2.1874731944626737, 2.1837001617806253, 2.958657233252718, 286.0524252430199, 329.3900003744482, 345.13960414723743, 487.0514467233837, 451.96825813277206, 392.6166225740108, 466.96434355006915, 401.7719250054631, 1533.35575823456, 568.7997268532059, 431.72638324599524, 969.2857338623708, 530.7522747778436, 1427.3979561390513, 3146.9054119335383, 1308.7579714957935, 4606.561847412613, 1267.835721552209, 1685.2711900545473, 3318.9231355502093, 850.7633929777716, 1560.7842651284454, 3620.506176164107, 3056.1740305491976, 2757.4181949395083, 3785.8219305132266, 872.8219768042203, 667.6176311339917, 1403.0042751848505, 686.4891076320981, 3376.468394106375, 63.51275001199013, 31.695346441693015, 31.70072788880483, 31.69488212123982, 31.69355970505388, 31.689841095550157, 31.686597246203853, 31.682140515172485, 31.68255417420688, 32.636997003023296, 33.07215652503131, 32.84285970787907, 33.83853871415926, 33.82166784191953, 33.74412710196537, 34.62576391853978, 34.861461638998726, 35.521802362924184, 35.6128422300171, 35.35526643767275, 37.957542953015384, 36.42546250800831, 37.037764736750525, 37.371836029187605, 38.913113401691135, 40.49538641143008, 40.720647444411, 40.83436330518539, 41.847464087700594, 41.40696277034872, 674.796945526967, 238.883385627806, 3376.468394106375, 514.4362970075197, 232.08106891219808, 3785.8219305132266, 2757.4181949395083, 245.7333628395019, 860.2155694046576, 280.72829349429406, 311.8236833967774, 1040.419462395628, 893.1711257868374, 3056.1740305491976, 316.67852519528026, 355.5787415987798, 371.2074233262989, 1142.4871732309437, 910.8434810737762, 3318.9231355502093, 4606.561847412613, 1427.3979561390513, 1560.7842651284454, 3620.506176164107, 1192.071624604429, 1262.7017602498777, 541.4017706367543, 901.8565787047853, 424.518465695846, 671.9455862519286, 1081.0328005859405, 2015.241548724521], \"Category\": [\"Default\", \"Default\", \"Default\", \"Default\", \"Default\", \"Default\", \"Default\", \"Default\", \"Default\", \"Default\", \"Default\", \"Default\", \"Default\", \"Default\", \"Default\", \"Default\", \"Default\", \"Default\", \"Default\", \"Default\", \"Default\", \"Default\", \"Default\", \"Default\", \"Default\", \"Default\", \"Default\", \"Default\", \"Default\", \"Default\", \"Topic1\", \"Topic1\", \"Topic1\", \"Topic1\", \"Topic1\", \"Topic1\", \"Topic1\", \"Topic1\", \"Topic1\", \"Topic1\", \"Topic1\", \"Topic1\", \"Topic1\", \"Topic1\", \"Topic1\", \"Topic1\", \"Topic1\", \"Topic1\", \"Topic1\", \"Topic1\", \"Topic1\", \"Topic1\", \"Topic1\", \"Topic1\", \"Topic1\", \"Topic1\", \"Topic1\", \"Topic1\", \"Topic1\", \"Topic1\", \"Topic1\", \"Topic1\", \"Topic1\", \"Topic1\", \"Topic1\", \"Topic1\", \"Topic1\", \"Topic1\", \"Topic1\", \"Topic1\", \"Topic1\", \"Topic1\", \"Topic1\", \"Topic1\", \"Topic1\", \"Topic1\", \"Topic1\", \"Topic1\", \"Topic1\", \"Topic1\", \"Topic1\", \"Topic1\", \"Topic1\", \"Topic1\", \"Topic1\", \"Topic1\", \"Topic1\", \"Topic1\", \"Topic1\", \"Topic1\", \"Topic1\", \"Topic1\", \"Topic1\", \"Topic1\", \"Topic1\", \"Topic1\", \"Topic1\", \"Topic1\", \"Topic1\", \"Topic1\", \"Topic1\", \"Topic1\", \"Topic1\", \"Topic1\", \"Topic1\", \"Topic1\", \"Topic1\", \"Topic1\", \"Topic1\", \"Topic1\", \"Topic1\", \"Topic1\", \"Topic1\", \"Topic1\", \"Topic1\", \"Topic1\", \"Topic1\", \"Topic1\", \"Topic1\", \"Topic1\", \"Topic1\", \"Topic1\", \"Topic1\", \"Topic1\", \"Topic1\", \"Topic1\", \"Topic1\", \"Topic1\", \"Topic1\", \"Topic2\", \"Topic2\", \"Topic2\", \"Topic2\", \"Topic2\", \"Topic2\", \"Topic2\", \"Topic2\", \"Topic2\", \"Topic2\", \"Topic2\", \"Topic2\", \"Topic2\", \"Topic2\", \"Topic2\", \"Topic2\", \"Topic2\", \"Topic2\", \"Topic2\", \"Topic2\", \"Topic2\", \"Topic2\", \"Topic2\", \"Topic2\", \"Topic2\", \"Topic2\", \"Topic2\", \"Topic2\", \"Topic2\", \"Topic2\", \"Topic2\", \"Topic2\", \"Topic2\", \"Topic2\", \"Topic2\", \"Topic2\", \"Topic2\", \"Topic2\", \"Topic2\", \"Topic2\", \"Topic2\", \"Topic2\", \"Topic2\", \"Topic2\", \"Topic2\", \"Topic2\", \"Topic2\", \"Topic2\", \"Topic2\", \"Topic2\", \"Topic2\", \"Topic2\", \"Topic2\", \"Topic2\", \"Topic2\", \"Topic2\", \"Topic2\", \"Topic2\", \"Topic2\", \"Topic2\", \"Topic2\", \"Topic2\", \"Topic2\", \"Topic2\", \"Topic2\", \"Topic2\", \"Topic2\", \"Topic2\", \"Topic2\", \"Topic2\", \"Topic2\", \"Topic2\", \"Topic2\", \"Topic2\", \"Topic2\", \"Topic2\", \"Topic2\", \"Topic2\", \"Topic2\", \"Topic2\", \"Topic2\", \"Topic2\", \"Topic2\", \"Topic2\", \"Topic2\", \"Topic2\", \"Topic2\", \"Topic2\", \"Topic2\", \"Topic3\", \"Topic3\", \"Topic3\", \"Topic3\", \"Topic3\", \"Topic3\", \"Topic3\", \"Topic3\", \"Topic3\", \"Topic3\", \"Topic3\", \"Topic3\", \"Topic3\", \"Topic3\", \"Topic3\", \"Topic3\", \"Topic3\", \"Topic3\", \"Topic3\", \"Topic3\", \"Topic3\", \"Topic3\", \"Topic3\", \"Topic3\", \"Topic3\", \"Topic3\", \"Topic3\", \"Topic3\", \"Topic3\", \"Topic3\", \"Topic3\", \"Topic3\", \"Topic3\", \"Topic3\", \"Topic3\", \"Topic3\", \"Topic3\", \"Topic3\", \"Topic3\", \"Topic3\", \"Topic3\", \"Topic3\", \"Topic3\", \"Topic3\", \"Topic3\", \"Topic3\", \"Topic3\", \"Topic3\", \"Topic3\", \"Topic3\", \"Topic3\", \"Topic3\", \"Topic3\", \"Topic3\", \"Topic3\", \"Topic3\", \"Topic3\", \"Topic3\", \"Topic3\", \"Topic3\", \"Topic3\", \"Topic3\", \"Topic3\", \"Topic3\", \"Topic3\", \"Topic3\", \"Topic4\", \"Topic4\", \"Topic4\", \"Topic4\", \"Topic4\", \"Topic4\", \"Topic4\", \"Topic4\", \"Topic4\", \"Topic4\", \"Topic4\", \"Topic4\", \"Topic4\", \"Topic4\", \"Topic4\", \"Topic4\", \"Topic4\", \"Topic4\", \"Topic4\", \"Topic4\", \"Topic4\", \"Topic4\", \"Topic4\", \"Topic4\", \"Topic4\", \"Topic4\", \"Topic4\", \"Topic4\", \"Topic4\", \"Topic4\", \"Topic4\", \"Topic4\", \"Topic4\", \"Topic4\", \"Topic4\", \"Topic4\", \"Topic4\", \"Topic4\", \"Topic4\", \"Topic4\", \"Topic4\", \"Topic4\", \"Topic4\", \"Topic4\", \"Topic4\", \"Topic4\", \"Topic4\", \"Topic4\", \"Topic4\", \"Topic4\", \"Topic4\", \"Topic4\", \"Topic4\", \"Topic4\", \"Topic4\", \"Topic4\", \"Topic4\", \"Topic4\", \"Topic4\", \"Topic4\", \"Topic4\", \"Topic5\", \"Topic5\", \"Topic5\", \"Topic5\", \"Topic5\", \"Topic5\", \"Topic5\", \"Topic5\", \"Topic5\", \"Topic5\", \"Topic5\", \"Topic5\", \"Topic5\", \"Topic5\", \"Topic5\", \"Topic5\", \"Topic5\", \"Topic5\", \"Topic5\", \"Topic5\", \"Topic5\", \"Topic5\", \"Topic5\", \"Topic5\", \"Topic5\", \"Topic5\", \"Topic5\", \"Topic5\", \"Topic5\", \"Topic5\", \"Topic5\", \"Topic5\", \"Topic5\", \"Topic5\", \"Topic5\", \"Topic5\", \"Topic5\", \"Topic5\", \"Topic5\", \"Topic5\", \"Topic5\", \"Topic5\", \"Topic5\", \"Topic5\", \"Topic5\", \"Topic5\", \"Topic5\", \"Topic5\", \"Topic5\", \"Topic5\", \"Topic5\", \"Topic5\", \"Topic5\", \"Topic5\", \"Topic5\", \"Topic5\", \"Topic5\", \"Topic5\", \"Topic5\", \"Topic5\", \"Topic5\", \"Topic5\"], \"logprob\": [30.0, 29.0, 28.0, 27.0, 26.0, 25.0, 24.0, 23.0, 22.0, 21.0, 20.0, 19.0, 18.0, 17.0, 16.0, 15.0, 14.0, 13.0, 12.0, 11.0, 10.0, 9.0, 8.0, 7.0, 6.0, 5.0, 4.0, 3.0, 2.0, 1.0, -8.2975, -8.9653, -9.1005, -9.4374, -9.1544, -8.9361, -8.9874, -8.9544, -9.6446, -9.6432, -9.2451, -9.474, -9.6522, -8.8105, -9.6598, -9.4395, -9.7305, -9.1947, -9.4984, -9.8903, -9.6662, -9.893, -9.8099, -9.9318, -9.9061, -9.9119, -9.3311, -9.919, -9.5248, -9.9664, -7.7136, -8.6993, -8.3988, -9.1718, -9.1402, -7.9956, -8.2042, -8.2961, -6.2502, -8.9189, -7.9328, -7.8354, -8.347, -6.1772, -5.7479, -7.828, -7.8739, -5.0208, -3.9371, -5.3875, -7.6622, -8.0135, -6.569, -6.8649, -6.8145, -6.8469, -5.3957, -3.9972, -5.6372, -5.9273, -6.4143, -7.3131, -5.6127, -4.2842, -5.3042, -6.0136, -5.5246, -6.8255, -4.1893, -5.383, -4.9904, -5.6735, -6.6192, -5.149, -5.0956, -5.4856, -5.2724, -5.8562, -5.817, -5.8587, -5.2579, -5.2015, -5.1787, -5.4184, -5.4886, -4.3879, -5.6605, -5.1029, -5.29, -4.8294, -5.4389, -5.5467, -4.9569, -5.4769, -5.3794, -5.4409, -5.4887, -5.3157, -5.4533, -8.3398, -8.3045, -9.2379, -9.1802, -9.3377, -9.3693, -8.3578, -9.4351, -8.617, -9.1125, -9.5951, -9.5941, -9.8005, -9.7993, -9.7019, -9.8034, -9.6862, -9.3594, -9.8036, -8.7942, -9.3469, -9.8319, -9.8156, -8.5737, -9.4628, -9.7054, -8.65, -8.4948, -9.8328, -9.825, -8.9111, -9.0764, -7.8815, -8.5356, -8.2123, -7.8365, -9.0189, -7.9125, -7.2234, -5.3433, -7.9621, -7.7874, -7.7325, -5.3252, -3.6458, -5.4766, -6.3612, -6.9375, -4.0424, -4.9357, -4.9884, -5.9224, -5.42, -5.2481, -6.7886, -6.4074, -5.3103, -5.098, -5.9195, -6.5561, -4.187, -5.8273, -5.0068, -5.5303, -5.5369, -5.8065, -4.9801, -5.7686, -5.6868, -6.0905, -6.0466, -4.9967, -5.2796, -4.5864, -4.4942, -5.7345, -4.6371, -5.2515, -5.6794, -5.1985, -5.4993, -4.9033, -5.3611, -5.4674, -5.0099, -5.5457, -5.4357, -5.4629, -5.5117, -5.4038, -5.3635, -5.3392, -9.3317, -8.9604, -5.5852, -9.3205, -9.6179, -5.5648, -9.3894, -9.4703, -9.6333, -9.3972, -9.4307, -9.6388, -9.0485, -9.4005, -9.7289, -5.6731, -9.8248, -9.5135, -9.1368, -5.7231, -9.0068, -9.8348, -9.5655, -9.8417, -9.0918, -9.7056, -5.6614, -5.7469, -9.3271, -4.7257, -5.0572, -3.939, -5.0783, -5.6208, -6.8473, -4.6168, -3.7785, -5.3087, -6.1813, -8.5281, -4.0743, -5.1821, -6.9129, -5.848, -6.5306, -4.7808, -5.2397, -4.0023, -4.0656, -5.2096, -4.7964, -3.9773, -5.1575, -4.3637, -4.5033, -4.4483, -5.0428, -5.1527, -5.1809, -5.2841, -5.3599, -5.3988, -5.3852, -5.2557, -5.2557, -5.2558, -5.2378, -5.2479, -5.1585, -5.1898, -5.2191, -5.1825, -5.1946, -5.1616, -5.1497, -5.1207, -8.9613, -5.1431, -5.1084, -5.1215, -9.6691, -5.0711, -9.7093, -9.4965, -9.6817, -9.5053, -9.7056, -9.3128, -9.9225, -9.9353, -9.9339, -9.9369, -9.6332, -5.0927, -5.025, -5.0881, -4.7741, -4.855, -5.0223, -4.8611, -5.0256, -3.8397, -4.7635, -5.0402, -4.3426, -4.8808, -4.1198, -3.7312, -4.418, -3.9654, -4.5205, -4.4491, -4.2377, -4.7071, -4.5164, -4.2659, -4.3643, -4.4397, -4.5076, -4.8451, -4.9029, -4.7864, -4.9274, -4.8627, -4.8593, -5.5643, -5.5642, -5.5644, -5.5645, -5.5648, -5.5649, -5.5652, -5.5652, -5.5413, -5.548, -5.5586, -5.5513, -5.5522, -5.5609, -5.5446, -5.5483, -5.5375, -5.5502, -5.5577, -5.5118, -5.5546, -5.5439, -5.5454, -5.5392, -5.5295, -5.5268, -5.5383, -5.5307, -5.544, -3.682, -4.391, -3.4187, -4.3531, -4.7841, -3.6169, -3.8149, -4.7949, -4.3211, -4.7811, -4.7471, -4.304, -4.3592, -3.9848, -4.7768, -4.7645, -4.7936, -4.6826, -4.7469, -4.4697, -4.3958, -4.6881, -4.6815, -4.779, -5.0981, -5.1559, -5.2419, -5.2045, -5.289, -5.2562, -5.2267, -5.2251], \"loglift\": [30.0, 29.0, 28.0, 27.0, 26.0, 25.0, 24.0, 23.0, 22.0, 21.0, 20.0, 19.0, 18.0, 17.0, 16.0, 15.0, 14.0, 13.0, 12.0, 11.0, 10.0, 9.0, 8.0, 7.0, 6.0, 5.0, 4.0, 3.0, 2.0, 1.0, 1.0347, 1.0171, 1.0101, 1.0091, 1.0017, 1.0016, 0.9938, 0.9871, 0.9867, 0.9837, 0.9824, 0.9816, 0.974, 0.9727, 0.971, 0.9681, 0.9671, 0.9665, 0.9665, 0.9631, 0.9622, 0.9601, 0.9546, 0.9517, 0.9497, 0.9495, 0.9487, 0.9487, 0.9486, 0.9477, 0.9391, 0.9464, 0.9423, 0.9414, 0.9346, 0.8932, 0.89, 0.8877, 0.7788, 0.9177, 0.8518, 0.8401, 0.8746, 0.6958, 0.6545, 0.8322, 0.8306, 0.5436, 0.378, 0.4851, 0.766, 0.8071, 0.6136, 0.6515, 0.6402, 0.6394, 0.4189, 0.1863, 0.4439, 0.4874, 0.5388, 0.697, 0.3677, 0.0841, 0.293, 0.4378, 0.3376, 0.5982, 0.0389, 0.2934, 0.1857, 0.3413, 0.5499, 0.1901, 0.1471, 0.2353, 0.1644, 0.3238, 0.3113, 0.3216, 0.097, 0.0759, 0.067, 0.152, 0.1626, -0.4006, 0.2197, -0.1101, -0.0084, -0.329, 0.0249, 0.1087, -0.659, 0.0025, -0.2921, -0.1519, -0.1071, -0.9181, -0.6393, 1.1815, 1.179, 1.168, 1.1663, 1.1549, 1.1422, 1.1339, 1.1184, 1.1181, 1.1164, 1.1152, 1.11, 1.1084, 1.1069, 1.1039, 1.1038, 1.1032, 1.1031, 1.103, 1.1, 1.0994, 1.0974, 1.0964, 1.0952, 1.094, 1.0911, 1.0906, 1.09, 1.0869, 1.0853, 1.0837, 1.0848, 1.0442, 1.0596, 1.0403, 1.0229, 1.065, 0.9909, 0.9001, 0.7013, 0.9463, 0.9166, 0.8989, 0.596, 0.3415, 0.5748, 0.6495, 0.7312, 0.2555, 0.3534, 0.3506, 0.5229, 0.4268, 0.3865, 0.6866, 0.5979, 0.3409, 0.2836, 0.4638, 0.6073, -0.0035, 0.4171, 0.1693, 0.2833, 0.2801, 0.3587, 0.0895, 0.3325, 0.2941, 0.4352, 0.3948, -0.0039, 0.0753, -0.2181, -0.266, 0.2606, -0.2395, 0.03, 0.2316, -0.1112, 0.0868, -0.4028, -0.0837, 0.0077, -0.6948, 0.0247, -0.193, -0.2172, -0.0748, 1.2893, 1.2827, 1.2345, 1.153, 1.1473, 1.1361, 1.1289, 1.1246, 1.1239, 1.1189, 1.1127, 1.1122, 1.1101, 1.1015, 1.1008, 1.1006, 1.099, 1.0934, 1.0877, 1.0874, 1.0858, 1.0853, 1.0811, 1.0797, 1.0723, 1.0652, 1.0648, 1.0642, 1.0628, 1.0626, 1.0286, 1.0624, 0.9443, 0.9528, 0.8751, 0.878, 0.8585, 0.9177, 0.7002, 0.6191, 0.7091, 0.7946, 1.0066, 0.4261, 0.5638, 0.7741, 0.6104, 0.6968, 0.3781, 0.4588, 0.2259, 0.2323, 0.3986, 0.2732, 0.01, 0.3219, -0.0486, -0.135, -0.2648, -0.05, 0.09, 0.1006, 0.1797, 0.2679, 0.1874, -0.0303, 2.3417, 2.3417, 2.3417, 2.3351, 2.3259, 2.1959, 2.1798, 2.1785, 2.1604, 2.1506, 2.1121, 2.07, 1.9325, 1.9262, 1.9114, 1.8921, 1.8475, 1.8156, 1.8146, 1.8042, 1.7967, 1.7879, 1.7849, 1.7497, 1.7352, 1.7282, 1.7242, 1.7058, 1.7046, 1.7046, 1.6737, 1.6003, 1.4904, 1.4601, 1.4539, 1.4274, 1.4152, 1.401, 1.2476, 1.3154, 1.3146, 1.2033, 1.2674, 1.0391, 0.6371, 0.8277, 0.0218, 0.7569, 0.5438, 0.0774, 0.9693, 0.5532, -0.0377, 0.0333, 0.0608, -0.3241, 0.8057, 1.0159, 0.3897, 0.9636, -0.5648, 3.412, 3.402, 3.402, 3.4019, 3.4019, 3.4017, 3.4017, 3.4016, 3.4016, 3.3958, 3.3759, 3.3722, 3.3496, 3.3492, 3.3428, 3.3334, 3.3228, 3.3148, 3.2996, 3.2994, 3.2742, 3.2726, 3.2666, 3.2562, 3.222, 3.1918, 3.189, 3.1747, 3.1577, 3.1551, 2.2261, 2.5555, 0.8792, 1.8263, 2.1914, 0.5666, 0.6856, 2.1234, 1.3443, 2.004, 1.933, 1.1711, 1.2686, 0.4128, 1.8878, 1.7843, 1.7121, 0.699, 0.8612, -0.1546, -0.4085, 0.4708, 0.3881, -0.5509, 0.241, 0.1256, 0.8865, 0.4136, 1.0825, 0.6561, 0.2102, -0.411]}, \"token.table\": {\"Topic\": [3, 1, 4, 1, 2, 3, 4, 2, 1, 3, 1, 2, 3, 4, 5, 1, 2, 3, 4, 5, 1, 2, 3, 4, 5, 1, 2, 3, 4, 5, 1, 2, 4, 2, 1, 1, 2, 3, 4, 1, 2, 3, 4, 5, 3, 1, 2, 3, 4, 5, 1, 2, 3, 4, 5, 1, 2, 3, 4, 5, 5, 1, 2, 3, 4, 1, 2, 3, 4, 1, 2, 3, 4, 4, 1, 2, 3, 4, 5, 1, 2, 3, 5, 1, 1, 1, 4, 1, 2, 3, 4, 5, 4, 1, 2, 3, 4, 5, 5, 1, 1, 2, 5, 2, 4, 1, 2, 3, 4, 5, 5, 2, 1, 2, 3, 4, 5, 1, 2, 3, 4, 5, 1, 2, 3, 4, 2, 1, 2, 3, 4, 4, 2, 4, 1, 2, 1, 2, 3, 1, 2, 3, 4, 5, 1, 2, 4, 1, 2, 3, 4, 5, 1, 2, 3, 4, 2, 3, 4, 1, 2, 3, 4, 5, 1, 2, 3, 4, 5, 4, 1, 2, 3, 4, 2, 3, 5, 2, 4, 1, 2, 3, 4, 1, 2, 3, 4, 5, 1, 2, 5, 1, 4, 1, 2, 3, 5, 1, 2, 3, 1, 2, 3, 4, 5, 1, 1, 2, 3, 4, 5, 1, 2, 3, 4, 5, 1, 2, 3, 4, 2, 1, 2, 3, 4, 5, 1, 2, 3, 4, 5, 1, 2, 3, 4, 5, 3, 1, 2, 3, 4, 5, 1, 2, 3, 4, 5, 1, 3, 1, 2, 3, 4, 5, 5, 1, 2, 3, 4, 1, 2, 3, 5, 4, 1, 5, 1, 2, 3, 4, 5, 1, 2, 3, 4, 5, 1, 2, 3, 4, 5, 1, 2, 3, 4, 5, 4, 1, 2, 3, 4, 5, 1, 2, 3, 4, 5, 1, 2, 3, 4, 5, 5, 1, 2, 3, 4, 5, 1, 2, 3, 4, 5, 1, 4, 1, 2, 3, 4, 5, 1, 2, 3, 4, 5, 3, 3, 1, 2, 3, 4, 5, 1, 3, 4, 1, 2, 3, 4, 5, 1, 2, 3, 4, 5, 3, 1, 2, 5, 2, 1, 2, 3, 4, 5, 1, 2, 3, 1, 2, 3, 4, 5, 1, 2, 3, 4, 5, 1, 2, 3, 4, 5, 1, 2, 3, 1, 3, 1, 2, 3, 1, 2, 3, 4, 5, 1, 2, 3, 4, 1, 1, 2, 3, 4, 3, 1, 2, 3, 4, 5, 1, 2, 3, 4, 1, 2, 3, 4, 1, 2, 3, 4, 5, 1, 1, 2, 3, 4, 5, 1, 2, 3, 4, 5, 1, 2, 4, 2, 1, 2, 3, 4, 5, 3, 5, 2, 1, 2, 3, 4, 5, 1, 2, 3, 4, 5, 1, 2, 3, 4, 5, 3, 1, 2, 3, 4, 5, 1, 2, 3, 4, 5, 1, 2, 3, 4, 5, 1, 2, 3, 4, 5, 3, 1, 2, 3, 4, 5, 1, 2, 3, 4, 5, 1, 2, 3, 4, 5, 1, 2, 3, 4, 5, 1, 2, 3, 4, 5, 1, 2, 3, 4, 5, 1, 2, 3, 1, 2, 3, 4, 5, 1, 2, 3, 4, 5, 1, 2, 3, 4, 5, 1, 2, 3, 4, 5, 5, 3, 1, 1, 2, 3, 4, 5, 2, 3, 4, 5, 1, 1, 1, 2, 3, 4, 1, 2, 3, 4, 5, 1, 2, 3, 4, 5, 1, 2, 1, 2, 3, 4, 5, 1, 2, 3, 4, 5, 1, 2, 3, 4, 1, 2, 3, 4, 5, 1, 2, 3, 4, 5, 1, 2, 3, 4, 5, 1, 2, 3, 4, 1, 2, 3, 1, 2, 3, 4, 1, 2, 3, 2, 1, 2, 3, 4, 5, 1, 2, 3, 4, 5, 1, 2, 3, 4, 5, 1, 2, 1, 3, 1, 3, 5, 1, 2, 3, 4, 5, 1, 4, 1, 2, 3, 4, 5, 1, 2, 3, 4, 5, 1, 2, 3, 4, 5, 1, 2, 3, 4, 5, 1, 2, 3, 4, 5, 1, 2, 3, 4, 5, 1, 2, 3, 4, 1, 1, 2, 3, 4, 5, 1, 4, 1, 2, 3, 4, 5, 1, 2, 3, 4, 5, 1, 2, 3, 4, 5, 1, 2, 3, 4, 5, 1, 2, 3, 5, 2, 2, 4, 1, 2, 3, 4, 5, 1, 5, 1, 2, 3, 4, 5, 1, 2, 3, 4, 1, 1, 2, 3, 4, 5, 1, 2, 3, 4, 1, 2, 3, 4, 5, 1, 2, 3, 4, 5, 1, 2, 2, 4, 1, 2, 3, 4, 1, 2, 2, 1, 2, 3, 5, 1, 2, 3, 4, 5, 1, 2, 3, 5, 1, 2, 3, 4, 5, 1, 2, 3, 4, 5, 4, 1, 2, 3, 4, 5, 1, 2, 3, 5, 1, 2, 3, 4, 5, 1, 2, 3, 4, 5, 1, 2, 3, 4, 5, 1, 2, 3, 4, 2, 1, 2, 3, 4, 5, 1, 2, 3, 4, 5, 1, 2, 3, 4, 1, 2, 3, 4, 5, 2, 1, 2, 3, 1, 2, 3, 4, 1, 2, 3, 4, 5, 1, 2, 3, 4, 5, 1, 2, 3, 4, 5, 4, 1, 2, 3, 4, 5, 1, 2, 5, 1, 2, 5, 1, 2, 3, 4, 5, 1, 3, 1, 1, 2, 3, 4, 5, 1, 3, 1, 2, 3, 4, 5, 5, 1, 1, 2, 3, 4, 5, 3, 1, 2, 4, 1, 2, 3, 4, 5, 1, 2, 3, 4, 5, 1, 4, 1, 2, 3, 4, 5, 2, 1, 2, 3, 1, 2, 3, 4, 5, 1, 2, 3, 4, 5, 1, 2, 3, 4, 2, 1, 2, 3, 4, 5, 1, 1, 2, 3, 4, 5, 1, 4, 1, 2, 3, 4, 1, 2, 3, 4, 5, 2, 3, 1, 2, 3, 4, 5, 1, 2, 3, 4, 5, 2, 2, 1, 2, 3, 4, 1, 1, 2, 3, 4, 5, 2, 1, 2, 3, 4, 5, 1, 2, 3, 2, 1, 2, 3, 5, 1, 2, 3, 4, 5, 1, 3, 1, 2, 3, 4, 5, 4, 1, 2, 3, 4, 5, 1, 1, 2, 3, 4, 5, 1, 2, 3, 4, 5, 1, 2, 3, 1, 2, 3, 4, 5, 1, 2, 3, 4, 1, 2, 3, 4, 5, 1, 2, 3, 1, 2, 3, 4, 5, 1, 2, 3, 4, 5, 1, 2, 3, 4, 5, 1, 2, 3, 4, 5, 1, 2, 3, 4, 5, 1, 2, 3, 4, 5], \"Freq\": [0.8641289352710726, 0.7946274661410009, 0.09932843326762511, 0.1260277696614001, 0.7981758745222006, 0.042009256553800035, 0.042009256553800035, 0.8780620788964277, 0.8294567744582427, 0.10368209680728034, 0.17779816849725188, 0.22898248973130925, 0.34212677877501496, 0.0727356143852394, 0.17779816849725188, 0.7887885408792934, 0.07170804917084486, 0.07170804917084486, 0.03585402458542243, 0.03585402458542243, 0.43329394629771556, 0.2693155355434423, 0.24325274178117365, 0.047781788564159114, 0.006515698440567152, 0.16082106244259547, 0.09846187496485437, 0.705643437248123, 0.029538562489456313, 0.0049230937482427186, 0.3379911632753112, 0.3379911632753112, 0.6759823265506224, 0.8875628778715832, 0.8396315149671315, 0.8285332299501329, 0.07532120272273936, 0.07532120272273936, 0.07532120272273936, 0.32226098250432794, 0.36810564110327, 0.24405538842377975, 0.05663163709281077, 0.009438606182135129, 0.8783242447526101, 0.7046125537989776, 0.1409225107597955, 0.11364718609660927, 0.027275324663186228, 0.009091774887728742, 0.23275108936429445, 0.4236906057888953, 0.25365687583414126, 0.07804826948742809, 0.009756033685928511, 0.4092317790794333, 0.25438732213045856, 0.25561624639195835, 0.07250653142848819, 0.008602469830498598, 0.9780615604573946, 0.026289065032739384, 0.09201172761458785, 0.03943359754910908, 0.8412500810476603, 0.7363963317220458, 0.08182181463578286, 0.16364362927156573, 0.02727393821192762, 0.006497762281213704, 0.003248881140606852, 0.987659866744483, 0.003248881140606852, 0.40289547645103396, 0.44553331074809377, 0.22179387521957508, 0.23541279738218057, 0.08949577421140749, 0.007782241235774564, 0.0549066466777269, 0.0549066466777269, 0.02745332333886345, 0.8510530235047669, 0.8850175102875932, 0.8909336371178856, 0.21545144932899507, 0.6463543479869852, 0.33620583645848345, 0.19866708518001294, 0.061128333901542445, 0.3973341703600259, 0.005094027825128537, 0.4571484590217518, 0.23269955708098478, 0.5774396416454066, 0.12065902959754765, 0.060329514798773826, 0.008618502114110548, 0.9498422908556307, 0.8333949176381906, 0.05630344934545034, 0.05630344934545034, 0.8727034648544802, 0.8832300169922013, 0.46628141341353957, 0.20797920718668295, 0.2522301023327857, 0.12390250640908772, 0.40932078010145045, 0.006637634271915413, 0.9782314750815515, 0.8986580305965184, 0.1772718750307523, 0.2363625000410031, 0.500985733782561, 0.07707472827424014, 0.007707472827424014, 0.2064422111257114, 0.14875982860529205, 0.16697531782226657, 0.47360271964133793, 0.006071829738991512, 0.068054651442944, 0.816655817315328, 0.068054651442944, 0.068054651442944, 0.7812820219524768, 0.0677061532575853, 0.6770615325758531, 0.22568717752528436, 0.022568717752528434, 0.45793832756992764, 0.25295228642025336, 0.5059045728405067, 0.8704658193183644, 0.08704658193183644, 0.8602718146055525, 0.09558575717839472, 0.09558575717839472, 0.2795529976151492, 0.28413583364162703, 0.21424758423783974, 0.2131018752312203, 0.00916567205295571, 0.05292104640490567, 0.8996577888833964, 0.05292104640490567, 0.36026551278617114, 0.29696007124227525, 0.24401370195101688, 0.051795361263187546, 0.04719132915090421, 0.029111228796812695, 0.009703742932270897, 0.8377564731527208, 0.12291407714209804, 0.11075740825960606, 0.7753018578172424, 0.38559993754332067, 0.29426513547891364, 0.5029531652318167, 0.12911633495503355, 0.0570514038173404, 0.018016232784423283, 0.4912724565640278, 0.267230621977136, 0.1822026968025927, 0.05128668502591499, 0.008097897635670788, 0.38011644246747983, 0.10602437276081733, 0.031183639047299216, 0.04365709466621891, 0.8170113430392395, 0.030448018500657478, 0.030448018500657478, 0.9438885735203818, 0.8920695211327289, 0.11150869014159111, 0.12117120101398245, 0.7876128065908858, 0.06058560050699122, 0.03029280025349561, 0.44144665378339437, 0.25304682664571143, 0.16992925584967483, 0.05910582812162603, 0.07757639940963416, 0.02868497053724571, 0.05736994107449142, 0.889234086654617, 0.8213091155165537, 0.11732987364522196, 0.10671444746436377, 0.8537155797149102, 0.05335722373218189, 0.9781166990546889, 0.054956578188043954, 0.8793052510087033, 0.054956578188043954, 0.16733460351241772, 0.3574740998928994, 0.34355423022018505, 0.054198641491632636, 0.07759586923938662, 0.8314303766576392, 0.6999253939880273, 0.05525726794642321, 0.2026099824702184, 0.036838178630948806, 0.018419089315474403, 0.09823026525942452, 0.02455756631485613, 0.09823026525942452, 0.02455756631485613, 0.7858421220753962, 0.7629183792862029, 0.07892259096064168, 0.13153765160106945, 0.026307530320213893, 0.7713994560335666, 0.2324638319919631, 0.18495562295772414, 0.4170567968654564, 0.10154426358463287, 0.06382782282462637, 0.12891935997806964, 0.21791952727257458, 0.5058612449900906, 0.09881636221669297, 0.04875376811353395, 0.09970065150184354, 0.07083993659341516, 0.6428068320513597, 0.1784116921611937, 0.01049480542124669, 0.7433862535370039, 0.44737440017046526, 0.33066803490860475, 0.12837700178804654, 0.08752977394639537, 0.0077804243507907, 0.24784216149938654, 0.2686886984479331, 0.11581409415859184, 0.35439112812529106, 0.011581409415859185, 0.8471278392118811, 0.14118797320198018, 0.24757575615187846, 0.36662857878228994, 0.2813975807627908, 0.09605398189499109, 0.008117237906618965, 0.9780758887639416, 0.10367458289591208, 0.10367458289591208, 0.8293966631672967, 0.10367458289591208, 0.025698277844726267, 0.05139655568945253, 0.10279311137890507, 0.7966466131865142, 0.46216830827949495, 0.015744870121530197, 0.9761819475348722, 0.3415177171988242, 0.22509122269922505, 0.31823241829890436, 0.06652942542834238, 0.04878824531411774, 0.16014735306658348, 0.18889174977084203, 0.22995517363406856, 0.4106342386322653, 0.010265855965806632, 0.23206762199108114, 0.24613232635417698, 0.15646983603944106, 0.3551337851681696, 0.008790440226934891, 0.3394497965226192, 0.18599988850554475, 0.2778373334551575, 0.07323745609905824, 0.12322492613492339, 0.3914644992238414, 0.2541474816194213, 0.34926700690388307, 0.2779273629405367, 0.06688091621563719, 0.053504732972509746, 0.17557013662834847, 0.1843486434597659, 0.5881599577049674, 0.0351140273256697, 0.008778506831417425, 0.22641858364436437, 0.5016725480747681, 0.17314362278686687, 0.08435202135770438, 0.013318740214374375, 0.978331619489811, 0.4337281117708377, 0.17748765549429943, 0.12576939826417244, 0.2515387965283449, 0.011754149370483406, 0.12134357988881889, 0.7037927633551495, 0.12134357988881889, 0.04853743195552756, 0.02426871597776378, 0.32228747381213635, 0.6445749476242727, 0.3025684023007151, 0.25613463759119937, 0.12132693359583129, 0.26362395447983095, 0.056918808353599866, 0.2797957728958809, 0.3966967465030641, 0.23188553781096982, 0.08623842315284001, 0.005749228210189334, 0.8769654490708827, 0.8847541618038169, 0.27768738874383947, 0.3941884196536112, 0.23300206181954347, 0.061442324520907005, 0.033513995193222006, 0.9097660799114169, 0.04548830399557084, 0.04548830399557084, 0.5989954413136814, 0.16962702762865314, 0.1590253384018623, 0.06361013536074493, 0.010601689226790821, 0.21384479914947868, 0.25638983772372054, 0.356034796489708, 0.05933913274828466, 0.11419984038349124, 0.794490692518317, 0.8909214408954256, 0.030236915431962545, 0.9373443783908388, 0.871020267818477, 0.47183979141487087, 0.13829786989746215, 0.25942149451354013, 0.10304547168830513, 0.027719834489251673, 0.07979528440369431, 0.797952844036943, 0.07979528440369431, 0.5000759833883303, 0.2143182785949987, 0.22962672706607004, 0.043373937334702115, 0.010205632314047556, 0.33614084351304724, 0.21212503518325412, 0.3413887284980496, 0.0919760894739891, 0.018505699683955764, 0.24130081881715573, 0.24782246256897075, 0.15195429941728997, 0.332603831342566, 0.02673873938244158, 0.8393524818086393, 0.19126619760829885, 0.7650647904331954, 0.13901543330631752, 0.8340925998379051, 0.00930093708587977, 0.006200624723919848, 0.9827990187412958, 0.170699140367428, 0.13149788429467565, 0.653519674022973, 0.02332226627113115, 0.0213373925459285, 0.06369660847094326, 0.8280559101222624, 0.06369660847094326, 0.06369660847094326, 0.8449044740330874, 0.03748080337832086, 0.01729883232845578, 0.9370200844580214, 0.00864941616422789, 0.745503082095335, 0.20122262388353424, 0.09847064573024016, 0.0856266484610784, 0.6036678716506028, 0.00428133242305392, 0.026806457455958475, 0.03350807181994809, 0.7874396877687801, 0.15078632318976642, 0.088698286057723, 0.30490035832342277, 0.548820644982161, 0.060980071664684554, 0.0730021139426512, 0.08343098736302994, 0.8064995445092894, 0.034762911401262475, 0.0034762911401262473, 0.8000149076008384, 0.2140359134802161, 0.5588715518650087, 0.1664723771512792, 0.052659629507037294, 0.008493488630167306, 0.4529324714589254, 0.2377895475159358, 0.20806585407644385, 0.0849248383985485, 0.016984967679709702, 0.8365963398616619, 0.08365963398616619, 0.08365963398616619, 0.8803914504418584, 0.6547700001780765, 0.19400592597868932, 0.0727522222420085, 0.060626851868340416, 0.012125370373668082, 0.8833618436466438, 0.9778955268389186, 0.878414202431314, 0.37481083470960685, 0.22854319189610173, 0.29786796010458594, 0.09217908739809436, 0.007618106396536724, 0.6219257943354026, 0.14819325568148264, 0.16034024385209597, 0.058305543218943996, 0.012146988170613332, 0.07624521436398812, 0.0835066633510346, 0.8023901130686368, 0.036307244935232436, 0.0036307244935232436, 0.8788494676428869, 0.23904691157243155, 0.25873312781957297, 0.25873312781957297, 0.050621698921220794, 0.19123752925794524, 0.23645255949307117, 0.1443605100062961, 0.1418715356958427, 0.3882799924307274, 0.08711410086586834, 0.1590487305992605, 0.07510634500520635, 0.1325406088327171, 0.6317769021026182, 0.004418020294423903, 0.3316539711899726, 0.2337732862829033, 0.3259521837196579, 0.0693717475554957, 0.03896221438048388, 0.8073667978191407, 0.3243388605863185, 0.1737529610283849, 0.3754994546668985, 0.11100883621257925, 0.014479413419032075, 0.31815375732114676, 0.3864579538081726, 0.2067100683159993, 0.08088654847147798, 0.008987394274608665, 0.2581435627539852, 0.40694247228903346, 0.24687091809223913, 0.07439945476752412, 0.014654438060269902, 0.38055164403540964, 0.38972156316879303, 0.18110590288432146, 0.04126463610022514, 0.008023679241710444, 0.26514369398166704, 0.15268975373263316, 0.25379513120424163, 0.31775975776791227, 0.010316875252204944, 0.1775494177373962, 0.5468522066311803, 0.20595732457537957, 0.05681581367596678, 0.007101976709495848, 0.7738306035548737, 0.04072792650288808, 0.16291170601155233, 0.15731382092555102, 0.2202393492957714, 0.10837174330426846, 0.5103959523362321, 0.006991725374468933, 0.2968068769245836, 0.2261385728949208, 0.308584927596194, 0.07302391416398483, 0.09422440537288367, 0.21435994053376045, 0.4287198810675209, 0.2830650496791965, 0.0659569047796186, 0.008244613097452325, 0.3811170204795711, 0.25716148469252614, 0.26086164993990063, 0.061052726581678866, 0.03977677640927563, 0.9784564662793962, 0.7551370131883386, 0.83014426662924, 0.8299910570496561, 0.06916592142080467, 0.04611061428053645, 0.023055307140268225, 0.023055307140268225, 0.028880229252200466, 0.028880229252200466, 0.028880229252200466, 0.8952871068182144, 0.8326447577568499, 0.7620744757143458, 0.024697535965567754, 0.024697535965567754, 0.7620953955089479, 0.18699562945358444, 0.4550524546763591, 0.21268756033786348, 0.21598504189348927, 0.1038706690022124, 0.013189926222503163, 0.5519827041095863, 0.27809815626895185, 0.09691299385130141, 0.06320412642476178, 0.008427216856634905, 0.0964666380343921, 0.7717331042751367, 0.20022443695908032, 0.196942069140079, 0.5481554257732199, 0.04759433337551909, 0.006564735638002634, 0.22271507757818526, 0.15847034366140106, 0.22057358644762579, 0.39189287689238367, 0.004282982261118947, 0.029776162686136486, 0.7146279044672756, 0.2084331388029554, 0.029776162686136486, 0.16017132488836247, 0.10418911424776976, 0.6546808522135981, 0.0761980089274734, 0.004665184220049392, 0.27894303609043436, 0.46659562400581744, 0.202867662611225, 0.04564522408752562, 0.005071691565280624, 0.29868357835142245, 0.42106087781485246, 0.20741915163293226, 0.064299937006209, 0.00829676606531729, 0.7842888762751915, 0.11764333144127873, 0.039214443813759575, 0.039214443813759575, 0.8090319274807496, 0.062233225190826885, 0.12446645038165377, 0.03776469210451071, 0.04405880745526249, 0.05664703815676606, 0.8559996877022428, 0.826089646968767, 0.04589386927604261, 0.09178773855208522, 0.7868542535842744, 0.21518515976964483, 0.16797617063650847, 0.40621688323861527, 0.13503966659013425, 0.07575395930666068, 0.28956763924992085, 0.27591998412133856, 0.2593054474430644, 0.1643652378529264, 0.011274149888828886, 0.12337170779954625, 0.15184210190713382, 0.6832894585821022, 0.028470394107587595, 0.009490131369195864, 0.10422063482757367, 0.8337650786205894, 0.8337510403584555, 0.10421888004480694, 0.029566844682939374, 0.05913368936587875, 0.9165721851711206, 0.26850059443020263, 0.3017946681395478, 0.3286447275825681, 0.09343820686171052, 0.008592019021766486, 0.007831431825221146, 0.9867604099778644, 0.12299996398943845, 0.28601196445736893, 0.24748185525585809, 0.04593974558641677, 0.29786738267321844, 0.21664747659049685, 0.3894444619272058, 0.27504243771559067, 0.09746965630173655, 0.021491082347153495, 0.5249025918094326, 0.2731781881079063, 0.11298993120693507, 0.07866387615672694, 0.010011766056310701, 0.5263359208037199, 0.16724692810585495, 0.22135622837539626, 0.07378540945846541, 0.012297568243077569, 0.36879815781557945, 0.1763817276509293, 0.17958866815367347, 0.054517988546650874, 0.22127889468934767, 0.5569708184356776, 0.15237880881730803, 0.19231256561080945, 0.05569708184356777, 0.043086421803514685, 0.754838408241774, 0.09435480103022174, 0.11794350128777717, 0.04717740051511087, 0.8317281756763811, 0.5595701474191003, 0.1987258467469702, 0.1934962192009973, 0.041837020367783195, 0.005229627545972899, 0.916820193495279, 0.08334729031775263, 0.3486256085755812, 0.25476486780523244, 0.18220026149538296, 0.20349639595588226, 0.01104244009062927, 0.34100862803160137, 0.4117363434751928, 0.1768192886089785, 0.06314974593177804, 0.007577969511813365, 0.23399791407120116, 0.5095954573106158, 0.18719833125696092, 0.06239944375232031, 0.010399907292053385, 0.586881412862397, 0.195627137620799, 0.16189832078962677, 0.04722034356364114, 0.006745763366234448, 0.09795671283289131, 0.048978356416445656, 0.07346753462466848, 0.7591645244549077, 0.7941981559729088, 0.32323578667469843, 0.6464715733493969, 0.17145475266797447, 0.2826177241779799, 0.1959482887633994, 0.3391412690135759, 0.011304708967119196, 0.05926957286394033, 0.9186783793910751, 0.6104490424120864, 0.15081682224298604, 0.14363506880284385, 0.07899928784156413, 0.014363506880284385, 0.7433007416569798, 0.02322814817678062, 0.18582518541424495, 0.02322814817678062, 0.833820241130035, 0.39091610804395677, 0.3934327353489608, 0.13422012293354738, 0.041104912648398884, 0.041104912648398884, 0.17775442553358514, 0.7406434397232714, 0.05925147517786171, 0.029625737588930855, 0.04657535977377437, 0.1536986872534554, 0.13041100736656822, 0.6613701087875961, 0.009315071954754874, 0.3763724744631941, 0.2833365818992585, 0.2410475398247423, 0.08986421440834691, 0.00845780841490324, 0.0882357265100066, 0.7941215385900595, 0.015676706017884765, 0.9797941261177978, 0.05856035256365727, 0.8198449358912018, 0.05856035256365727, 0.05856035256365727, 0.13858707993242125, 0.8315224795945274, 0.8779590617491586, 0.053516236088534404, 0.026758118044267202, 0.08027435413280161, 0.8295016593722833, 0.37181289341325746, 0.4409319569323887, 0.1549220389221906, 0.026217575817601486, 0.009533663933673268, 0.05656865868980987, 0.028284329344904935, 0.028284329344904935, 0.8768142096920529, 0.2585354120105096, 0.19633140310572536, 0.2760302895149802, 0.0680356347396078, 0.20021915366227439, 0.3893474196764919, 0.2757657436514637, 0.20893745519952855, 0.06894143591286593, 0.05679083801251408, 0.9951291105004416, 0.02634522474855183, 0.02634522474855183, 0.0790356742456555, 0.02634522474855183, 0.8430471919536585, 0.05399893903466347, 0.026999469517331735, 0.05399893903466347, 0.8369835550372837, 0.2720992915818504, 0.12139814547497942, 0.12977043136980557, 0.06279214421119625, 0.41442815179389525, 0.09877668432053717, 0.049388342160268585, 0.024694171080134292, 0.024694171080134292, 0.7902134745642974, 0.46675873130814843, 0.2612574468755507, 0.20868735085790938, 0.0509770628049855, 0.012744265701246375, 0.05570025266652374, 0.16710075799957122, 0.7241032846648087, 0.05570025266652374, 0.845201155518798, 0.6123569853311897, 0.26442688002937736, 0.06958602106036246, 0.041751612636217475, 0.006958602106036246, 0.35624694416798003, 0.298292895834433, 0.26420227916764066, 0.07329482583360354, 0.008522654166698087, 0.06843093039856224, 0.8211711647827468, 0.06843093039856224, 0.06843093039856224, 0.22441628243389192, 0.2742865674192012, 0.22085411922065554, 0.042745958558836554, 0.23866493528683744, 0.8967288141164114, 0.09879149880115569, 0.09879149880115569, 0.8891234892104012, 0.7882827183637231, 0.058391312471386896, 0.08758696870708035, 0.058391312471386896, 0.2905940721077042, 0.3676190068832403, 0.21094328728300216, 0.06652153457887205, 0.06477096787942804, 0.2154662780731692, 0.25452741620339286, 0.47881395127370935, 0.04536132169961457, 0.006300183569390913, 0.12458726695895522, 0.14776629336992364, 0.2984299650412183, 0.42301723200017355, 0.0057947566027421035, 0.995126755587889, 0.29706995890370475, 0.12615299624677873, 0.22381983205073647, 0.08138902983663145, 0.26858379846088376, 0.029552103548182003, 0.059104207096364006, 0.916115209993642, 0.0842392747151021, 0.028079758238367367, 0.8704725053893884, 0.6217401209444134, 0.26646005183332006, 0.0592133448518489, 0.044410008638886674, 0.007401668106481112, 0.1473051839755609, 0.8838311038533653, 0.8295556453063633, 0.19668862876011461, 0.4925767398514175, 0.16590258251940104, 0.08551679511309332, 0.061572092481427185, 0.854379471030293, 0.14239657850504883, 0.21630612323734513, 0.18746530680569912, 0.43141054579003835, 0.1586244903740531, 0.006008503423259587, 0.9784692415322819, 0.8916715357395616, 0.1383720366325832, 0.5311700761057226, 0.2633532310104003, 0.05802698310398651, 0.013390842254766118, 0.7477812327794877, 0.05917069817526786, 0.7692190762784823, 0.11834139635053573, 0.17331974424627616, 0.14180706347422595, 0.09059895721964435, 0.5869236793794351, 0.003939085096506276, 0.32074082158549777, 0.2851029525204425, 0.30094200543824484, 0.057020590504088496, 0.03642982171094543, 0.871500655752207, 0.0871500655752207, 0.6495421088130413, 0.2022526326843003, 0.10112631634215015, 0.03500526334920582, 0.015557894821869254, 0.8789007782906703, 0.16665806425124852, 0.16665806425124852, 0.8332903212562426, 0.3314171528143218, 0.3589005264623387, 0.24735036283215237, 0.05335007825791522, 0.009700014228711858, 0.5038398113391565, 0.21492467476705276, 0.21668635242907777, 0.0546120075227757, 0.008808388310125113, 0.024890128486804455, 0.10578304606891893, 0.03733519273020668, 0.8275967721862482, 0.9317948633983331, 0.3378249736949566, 0.23662630316078462, 0.2946667171436186, 0.06994613992803067, 0.06250506121228273, 0.8584259937296003, 0.3517741574951982, 0.22244074999696362, 0.23801160249675107, 0.1804947799975362, 0.007308767499900233, 0.8569049096894007, 0.07140874247411673, 0.025865740498536554, 0.030176697248292646, 0.6035339449658529, 0.3362546264809752, 0.7527772316810689, 0.09713254602336373, 0.09713254602336373, 0.048566273011681864, 0.024283136505840932, 0.13092844896399983, 0.7855706937839989, 0.13355125935618903, 0.03483945896248409, 0.03483945896248409, 0.7896944031496395, 0.0058065764937473485, 0.09558524243230408, 0.02389631060807602, 0.09558524243230408, 0.02389631060807602, 0.7646819394584327, 0.9022721579840995, 0.8900182483860926, 0.05112498346687151, 0.07668747520030726, 0.031953114666794694, 0.8435622272033799, 0.8349248066763011, 0.03850662518699678, 0.07701325037399356, 0.12652176847156085, 0.7591306108293652, 0.005500946455285254, 0.8816827338339722, 0.3743686493241943, 0.20247954185238523, 0.16314898336307299, 0.2505502244504335, 0.010196811460192062, 0.056705514907579066, 0.7655244512523174, 0.14176378726894767, 0.7739480630701041, 0.14490316600319608, 0.024150527667199346, 0.07245158300159804, 0.7486663576831797, 0.13581898843696028, 0.6790949421848014, 0.12223708959326424, 0.04074569653108808, 0.013581898843696026, 0.16150052108650315, 0.8075026054325158, 0.1262185968948039, 0.30241206971749973, 0.3581532774832253, 0.1659422162221026, 0.0474120617777436, 0.9952425164683324, 0.3453656136920445, 0.2231122991107898, 0.20171796905907025, 0.21852779981399276, 0.011461248241992628, 0.8329781387691508, 0.4020606605924223, 0.24786535348350047, 0.2464242758469685, 0.04755556200555532, 0.05476095018821522, 0.2068242800887804, 0.20251544092026413, 0.2283684759313617, 0.07325026586477638, 0.2886922242905893, 0.10295663955927112, 0.10295663955927112, 0.823653116474169, 0.1443185476860332, 0.13731279294399276, 0.3972262938736933, 0.2697215575685572, 0.051842585091099305, 0.030076732350769363, 0.016709295750427424, 0.8488322241217132, 0.10359763365265004, 0.15854484130329982, 0.06994625351616168, 0.12590325632909102, 0.6435055323486875, 0.004663083567744112, 0.09671283420615487, 0.09671283420615487, 0.773702673649239, 0.3284087543854395, 0.25262211875803037, 0.11052217695663828, 0.09473329453426138, 0.21157102445985043, 0.2133322717919472, 0.1488364686920562, 0.5540024112426536, 0.07772571142807379, 0.0066149541640913865, 0.29966270001150674, 0.37139047395043123, 0.20402566809294076, 0.06057012021509179, 0.063758021279044, 0.38916488684830464, 0.3278678533886816, 0.13257265376151037, 0.14112572819773683, 0.009978586842264221, 0.2931509944053904, 0.2787337323854531, 0.21722008110038762, 0.10764888974886466, 0.10380428654354806, 0.12146129869949628, 0.07007382617278632, 0.6995703646249833, 0.10511073925917948, 0.002335794205759544], \"Term\": [\"aaa\", \"academy\", \"academy\", \"accommodation\", \"accommodation\", \"accommodation\", \"accommodation\", \"ada\", \"admiral\", \"admiral\", \"adventure\", \"adventure\", \"adventure\", \"adventure\", \"adventure\", \"alot\", \"alot\", \"alot\", \"alot\", \"alot\", \"also\", \"also\", \"also\", \"also\", \"also\", \"amaze\", \"amaze\", \"amaze\", \"amaze\", \"amaze\", \"amazing.the\", \"amazing.the\", \"amazing.the\", \"animagique\", \"anti\", \"ariel's\", \"ariel's\", \"ariel's\", \"ariel's\", \"around\", \"around\", \"around\", \"around\", \"around\", \"array\", \"ask\", \"ask\", \"ask\", \"ask\", \"ask\", \"attraction\", \"attraction\", \"attraction\", \"attraction\", \"attraction\", \"back\", \"back\", \"back\", \"back\", \"back\", \"backstage\", \"base\", \"base\", \"base\", \"base\", \"bear\", \"bear\", \"bear\", \"bear\", \"behave\", \"behave\", \"behave\", \"behave\", \"belonging\", \"best\", \"best\", \"best\", \"best\", \"best\", \"bin\", \"bin\", \"bin\", \"bin\", \"bitterly\", \"blanket\", \"blog\", \"blog\", \"book\", \"book\", \"book\", \"book\", \"book\", \"bottled\", \"breakfast\", \"breakfast\", \"breakfast\", \"breakfast\", \"breakfast\", \"broke\", \"btw\", \"buffalo\", \"buffalo\", \"buffalo\", \"buggie\", \"built\", \"busy\", \"busy\", \"busy\", \"busy\", \"busy\", \"buyer\", \"buzz's\", \"california\", \"california\", \"california\", \"california\", \"california\", \"can't\", \"can't\", \"can't\", \"can't\", \"can't\", \"carefully\", \"carefully\", \"carefully\", \"carefully\", \"category\", \"cater\", \"cater\", \"cater\", \"cater\", \"cease\", \"cent\", \"cent\", \"chain\", \"chain\", \"chaos\", \"chaos\", \"chaos\", \"character\", \"character\", \"character\", \"character\", \"character\", \"cheyenne\", \"cheyenne\", \"cheyenne\", \"child\", \"child\", \"child\", \"child\", \"child\", \"childhood\", \"childhood\", \"childhood\", \"childhood\", \"cinderella's\", \"cinderella's\", \"cleanest\", \"close\", \"close\", \"close\", \"close\", \"close\", \"come\", \"come\", \"come\", \"come\", \"come\", \"compensate\", \"complaint\", \"complaint\", \"complaint\", \"complaint\", \"conclusion\", \"conclusion\", \"conclusion\", \"connect\", \"connect\", \"convenient\", \"convenient\", \"convenient\", \"convenient\", \"could\", \"could\", \"could\", \"could\", \"could\", \"cowboy\", \"cowboy\", \"cowboy\", \"cranky\", \"cranky\", \"crockett\", \"crockett\", \"crockett\", \"currency\", \"davy\", \"davy\", \"davy\", \"day\", \"day\", \"day\", \"day\", \"day\", \"dealt\", \"didnt\", \"didnt\", \"didnt\", \"didnt\", \"didnt\", \"die\", \"die\", \"die\", \"die\", \"die\", \"disable\", \"disable\", \"disable\", \"disable\", \"disagree\", \"disney\", \"disney\", \"disney\", \"disney\", \"disney\", \"disneyland\", \"disneyland\", \"disneyland\", \"disneyland\", \"disneyland\", \"dream\", \"dream\", \"dream\", \"dream\", \"dream\", \"eager\", \"early\", \"early\", \"early\", \"early\", \"early\", \"eat\", \"eat\", \"eat\", \"eat\", \"eat\", \"effectively\", \"effectively\", \"enjoy\", \"enjoy\", \"enjoy\", \"enjoy\", \"enjoy\", \"enticement\", \"epcot\", \"epcot\", \"epcot\", \"epcot\", \"establishment\", \"establishment\", \"establishment\", \"establishment\", \"europa\", \"evacuate\", \"evacuate\", \"even\", \"even\", \"even\", \"even\", \"even\", \"everything\", \"everything\", \"everything\", \"everything\", \"everything\", \"expensive\", \"expensive\", \"expensive\", \"expensive\", \"expensive\", \"experience\", \"experience\", \"experience\", \"experience\", \"experience\", \"expert\", \"family\", \"family\", \"family\", \"family\", \"family\", \"fan\", \"fan\", \"fan\", \"fan\", \"fan\", \"fantastic\", \"fantastic\", \"fantastic\", \"fantastic\", \"fantastic\", \"fantasy.so\", \"fast\", \"fast\", \"fast\", \"fast\", \"fast\", \"fault\", \"fault\", \"fault\", \"fault\", \"fault\", \"fewer\", \"fewer\", \"find\", \"find\", \"find\", \"find\", \"find\", \"firework\", \"firework\", \"firework\", \"firework\", \"firework\", \"fla\", \"fnac\", \"food\", \"food\", \"food\", \"food\", \"food\", \"fp\", \"fp\", \"fp\", \"front\", \"front\", \"front\", \"front\", \"front\", \"fun\", \"fun\", \"fun\", \"fun\", \"fun\", \"furthermore\", \"gadget\", \"gain\", \"gain\", \"genius\", \"get\", \"get\", \"get\", \"get\", \"get\", \"gf\", \"gf\", \"gf\", \"give\", \"give\", \"give\", \"give\", \"give\", \"go\", \"go\", \"go\", \"go\", \"go\", \"good\", \"good\", \"good\", \"good\", \"good\", \"got\", \"graduate\", \"graduate\", \"grandchildren\", \"grandchildren\", \"grandson\", \"grandson\", \"grandson\", \"great\", \"great\", \"great\", \"great\", \"great\", \"gripe\", \"gripe\", \"gripe\", \"gripe\", \"grizzle\", \"guide\", \"guide\", \"guide\", \"guide\", \"ha\", \"hard\", \"hard\", \"hard\", \"hard\", \"hard\", \"heart\", \"heart\", \"heart\", \"heart\", \"hk\", \"hk\", \"hk\", \"hk\", \"hong\", \"hong\", \"hong\", \"hong\", \"hong\", \"horrific\", \"hotel\", \"hotel\", \"hotel\", \"hotel\", \"hotel\", \"hour\", \"hour\", \"hour\", \"hour\", \"hour\", \"hug\", \"hug\", \"hug\", \"hyatt\", \"idea\", \"idea\", \"idea\", \"idea\", \"idea\", \"intimate\", \"irony\", \"it`s\", \"kid\", \"kid\", \"kid\", \"kid\", \"kid\", \"know\", \"know\", \"know\", \"know\", \"know\", \"kong\", \"kong\", \"kong\", \"kong\", \"kong\", \"korean\", \"last\", \"last\", \"last\", \"last\", \"last\", \"least\", \"least\", \"least\", \"least\", \"least\", \"life\", \"life\", \"life\", \"life\", \"life\", \"like\", \"like\", \"like\", \"like\", \"like\", \"lincoln\", \"line\", \"line\", \"line\", \"line\", \"line\", \"little\", \"little\", \"little\", \"little\", \"little\", \"long\", \"long\", \"long\", \"long\", \"long\", \"lot\", \"lot\", \"lot\", \"lot\", \"lot\", \"love\", \"love\", \"love\", \"love\", \"love\", \"lovely\", \"lovely\", \"lovely\", \"lovely\", \"lovely\", \"luck\", \"luck\", \"luck\", \"lunch\", \"lunch\", \"lunch\", \"lunch\", \"lunch\", \"magic\", \"magic\", \"magic\", \"magic\", \"magic\", \"main\", \"main\", \"main\", \"main\", \"main\", \"make\", \"make\", \"make\", \"make\", \"make\", \"malfunctioning\", \"mandarin\", \"mango\", \"max\", \"max\", \"max\", \"max\", \"max\", \"message\", \"message\", \"message\", \"message\", \"mi\", \"minder\", \"mine\", \"mine\", \"mine\", \"mine\", \"minute\", \"minute\", \"minute\", \"minute\", \"minute\", \"morning\", \"morning\", \"morning\", \"morning\", \"morning\", \"mtn\", \"mtn\", \"much\", \"much\", \"much\", \"much\", \"much\", \"must\", \"must\", \"must\", \"must\", \"must\", \"nearby\", \"nearby\", \"nearby\", \"nearby\", \"never\", \"never\", \"never\", \"never\", \"never\", \"nice\", \"nice\", \"nice\", \"nice\", \"nice\", \"night\", \"night\", \"night\", \"night\", \"night\", \"normally\", \"normally\", \"normally\", \"normally\", \"nut\", \"nut\", \"nut\", \"october\", \"october\", \"october\", \"october\", \"office\", \"office\", \"office\", \"officer\", \"old\", \"old\", \"old\", \"old\", \"old\", \"one\", \"one\", \"one\", \"one\", \"one\", \"original\", \"original\", \"original\", \"original\", \"original\", \"overnight\", \"overnight\", \"p.m\", \"p.m\", \"pa\", \"pa\", \"pa\", \"parade\", \"parade\", \"parade\", \"parade\", \"parade\", \"parcs\", \"parcs\", \"paris\", \"paris\", \"paris\", \"paris\", \"paris\", \"park\", \"park\", \"park\", \"park\", \"park\", \"pas\", \"pas\", \"pas\", \"pas\", \"pas\", \"pass\", \"pass\", \"pass\", \"pass\", \"pass\", \"pay\", \"pay\", \"pay\", \"pay\", \"pay\", \"people\", \"people\", \"people\", \"people\", \"people\", \"photographer\", \"photographer\", \"photographer\", \"photographer\", \"physically\", \"picture\", \"picture\", \"picture\", \"picture\", \"picture\", \"pineapple\", \"pineapple\", \"place\", \"place\", \"place\", \"place\", \"place\", \"plan\", \"plan\", \"plan\", \"plan\", \"plan\", \"plenty\", \"plenty\", \"plenty\", \"plenty\", \"plenty\", \"point\", \"point\", \"point\", \"point\", \"point\", \"position\", \"position\", \"position\", \"position\", \"prayer\", \"president\", \"president\", \"price\", \"price\", \"price\", \"price\", \"price\", \"pump\", \"pump\", \"put\", \"put\", \"put\", \"put\", \"put\", \"que\", \"que\", \"que\", \"que\", \"qued\", \"queue\", \"queue\", \"queue\", \"queue\", \"queue\", \"ranch\", \"ranch\", \"ranch\", \"ranch\", \"real\", \"real\", \"real\", \"real\", \"real\", \"really\", \"really\", \"really\", \"really\", \"really\", \"reception\", \"reception\", \"recomend\", \"recomend\", \"refurbish\", \"refurbish\", \"refurbish\", \"refurbish\", \"relief\", \"relief\", \"replacement\", \"represent\", \"represent\", \"represent\", \"represent\", \"restaurant\", \"restaurant\", \"restaurant\", \"restaurant\", \"restaurant\", \"retail\", \"retail\", \"retail\", \"retail\", \"rid\", \"rid\", \"rid\", \"rid\", \"rid\", \"ride\", \"ride\", \"ride\", \"ride\", \"ride\", \"rides(as\", \"ridiculously\", \"ridiculously\", \"ridiculously\", \"ridiculously\", \"ridiculously\", \"risk\", \"risk\", \"risk\", \"risk\", \"run\", \"run\", \"run\", \"run\", \"run\", \"sale\", \"sale\", \"sale\", \"sale\", \"sale\", \"say\", \"say\", \"say\", \"say\", \"say\", \"scale\", \"scale\", \"scale\", \"scale\", \"science\", \"seat\", \"seat\", \"seat\", \"seat\", \"seat\", \"see\", \"see\", \"see\", \"see\", \"see\", \"self\", \"self\", \"self\", \"self\", \"service\", \"service\", \"service\", \"service\", \"service\", \"sha\", \"shanghai\", \"shanghai\", \"shanghai\", \"shoulder\", \"shoulder\", \"shoulder\", \"shoulder\", \"show\", \"show\", \"show\", \"show\", \"show\", \"small\", \"small\", \"small\", \"small\", \"small\", \"something\", \"something\", \"something\", \"something\", \"something\", \"somewhere.if\", \"son\", \"son\", \"son\", \"son\", \"son\", \"span\", \"span\", \"span\", \"speaker\", \"speaker\", \"speaker\", \"spot\", \"spot\", \"spot\", \"spot\", \"spot\", \"squid\", \"squid\", \"stare\", \"stay\", \"stay\", \"stay\", \"stay\", \"stay\", \"stench\", \"stench\", \"still\", \"still\", \"still\", \"still\", \"still\", \"stopover\", \"student\", \"studio\", \"studio\", \"studio\", \"studio\", \"studio\", \"subtle\", \"swim\", \"swim\", \"swim\", \"system\", \"system\", \"system\", \"system\", \"system\", \"take\", \"take\", \"take\", \"take\", \"take\", \"teddy\", \"teddy\", \"tell\", \"tell\", \"tell\", \"tell\", \"tell\", \"tesco\", \"tgv\", \"tgv\", \"tgv\", \"thing\", \"thing\", \"thing\", \"thing\", \"thing\", \"think\", \"think\", \"think\", \"think\", \"think\", \"third\", \"third\", \"third\", \"third\", \"tiana\", \"ticket\", \"ticket\", \"ticket\", \"ticket\", \"ticket\", \"tiggers\", \"time\", \"time\", \"time\", \"time\", \"time\", \"tinkerbell\", \"tinkerbell\", \"tired\", \"tired\", \"tired\", \"tired\", \"today\", \"today\", \"today\", \"today\", \"today\", \"toontown\", \"toontown\", \"track\", \"track\", \"track\", \"track\", \"track\", \"trash\", \"trash\", \"trash\", \"trash\", \"trash\", \"tsim\", \"tsui\", \"uk\", \"uk\", \"uk\", \"uk\", \"uplift\", \"usa\", \"usa\", \"usa\", \"usa\", \"usa\", \"usb\", \"use\", \"use\", \"use\", \"use\", \"use\", \"vegetarian\", \"vegetarian\", \"vegetarian\", \"veggie\", \"vehicle\", \"vehicle\", \"vehicle\", \"vehicle\", \"village\", \"village\", \"village\", \"village\", \"village\", \"vintage\", \"vintage\", \"visit\", \"visit\", \"visit\", \"visit\", \"visit\", \"visted\", \"wait\", \"wait\", \"wait\", \"wait\", \"wait\", \"waits\", \"want\", \"want\", \"want\", \"want\", \"want\", \"week\", \"week\", \"week\", \"week\", \"week\", \"weird\", \"weird\", \"weird\", \"well\", \"well\", \"well\", \"well\", \"well\", \"whether\", \"whether\", \"whether\", \"whether\", \"wife\", \"wife\", \"wife\", \"wife\", \"wife\", \"wifi\", \"wifi\", \"wifi\", \"work\", \"work\", \"work\", \"work\", \"work\", \"world\", \"world\", \"world\", \"world\", \"world\", \"worth\", \"worth\", \"worth\", \"worth\", \"worth\", \"would\", \"would\", \"would\", \"would\", \"would\", \"year\", \"year\", \"year\", \"year\", \"year\", \"young\", \"young\", \"young\", \"young\", \"young\"]}, \"R\": 30, \"lambda.step\": 0.01, \"plot.opts\": {\"xlab\": \"PC1\", \"ylab\": \"PC2\"}, \"topic.order\": [2, 5, 3, 4, 1]};\n",
       "\n",
       "function LDAvis_load_lib(url, callback){\n",
       "  var s = document.createElement('script');\n",
       "  s.src = url;\n",
       "  s.async = true;\n",
       "  s.onreadystatechange = s.onload = callback;\n",
       "  s.onerror = function(){console.warn(\"failed to load library \" + url);};\n",
       "  document.getElementsByTagName(\"head\")[0].appendChild(s);\n",
       "}\n",
       "\n",
       "if(typeof(LDAvis) !== \"undefined\"){\n",
       "   // already loaded: just create the visualization\n",
       "   !function(LDAvis){\n",
       "       new LDAvis(\"#\" + \"ldavis_el2237616408437385922357134541\", ldavis_el2237616408437385922357134541_data);\n",
       "   }(LDAvis);\n",
       "}else if(typeof define === \"function\" && define.amd){\n",
       "   // require.js is available: use it to load d3/LDAvis\n",
       "   require.config({paths: {d3: \"https://d3js.org/d3.v5\"}});\n",
       "   require([\"d3\"], function(d3){\n",
       "      window.d3 = d3;\n",
       "      LDAvis_load_lib(\"https://cdn.jsdelivr.net/gh/bmabey/pyLDAvis@3.2.2/pyLDAvis/js/ldavis.v3.0.0.js\", function(){\n",
       "        new LDAvis(\"#\" + \"ldavis_el2237616408437385922357134541\", ldavis_el2237616408437385922357134541_data);\n",
       "      });\n",
       "    });\n",
       "}else{\n",
       "    // require.js not available: dynamically load d3 & LDAvis\n",
       "    LDAvis_load_lib(\"https://d3js.org/d3.v5.js\", function(){\n",
       "         LDAvis_load_lib(\"https://cdn.jsdelivr.net/gh/bmabey/pyLDAvis@3.2.2/pyLDAvis/js/ldavis.v3.0.0.js\", function(){\n",
       "                 new LDAvis(\"#\" + \"ldavis_el2237616408437385922357134541\", ldavis_el2237616408437385922357134541_data);\n",
       "            })\n",
       "         });\n",
       "}\n",
       "</script>"
      ],
      "text/plain": [
       "PreparedData(topic_coordinates=              x         y  topics  cluster       Freq\n",
       "topic                                                \n",
       "1      0.040656  0.031578       1        1  32.324297\n",
       "4      0.031050  0.029691       2        1  27.678862\n",
       "2      0.034915  0.023263       3        1  27.231769\n",
       "3      0.070637 -0.072619       4        1   9.544462\n",
       "0     -0.177259 -0.011913       5        1   3.220610, topic_info=           Term         Freq        Total Category  logprob  loglift\n",
       "2           day  3376.000000  3376.000000  Default  30.0000  30.0000\n",
       "37         ride  3785.000000  3785.000000  Default  29.0000  29.0000\n",
       "16       disney  2757.000000  2757.000000  Default  28.0000  28.0000\n",
       "53   disneyland  3056.000000  3056.000000  Default  27.0000  27.0000\n",
       "87        paris   674.000000   674.000000  Default  26.0000  26.0000\n",
       "..          ...          ...          ...      ...      ...      ...\n",
       "100        even    43.923089   901.856579   Topic5  -5.2045   0.4136\n",
       "111       magic    40.362076   424.518466   Topic5  -5.2890   1.0825\n",
       "422      ticket    41.709387   671.945586   Topic5  -5.2562   0.6561\n",
       "405        make    42.958016  1081.032801   Topic5  -5.2267   0.2102\n",
       "59        great    43.027800  2015.241549   Topic5  -5.2251  -0.4110\n",
       "\n",
       "[407 rows x 6 columns], token_table=      Topic      Freq           Term\n",
       "term                                \n",
       "947       3  0.864129            aaa\n",
       "52        1  0.794627        academy\n",
       "52        4  0.099328        academy\n",
       "2751      1  0.126028  accommodation\n",
       "2751      2  0.798176  accommodation\n",
       "...     ...       ...            ...\n",
       "305       1  0.121461          young\n",
       "305       2  0.070074          young\n",
       "305       3  0.699570          young\n",
       "305       4  0.105111          young\n",
       "305       5  0.002336          young\n",
       "\n",
       "[1059 rows x 3 columns], R=30, lambda_step=0.01, plot_opts={'xlab': 'PC1', 'ylab': 'PC2'}, topic_order=[2, 5, 3, 4, 1])"
      ]
     },
     "execution_count": 10,
     "metadata": {},
     "output_type": "execute_result"
    }
   ],
   "source": [
    "import pyLDAvis\n",
    "pyLDAvis.enable_notebook()\n",
    "LDA = npt.ldavis(num_topics=5, passes=5, save=False)\n",
    "# LDA.write_html(\"Resources/LDA.html\")\n",
    "LDA"
   ]
  },
  {
   "cell_type": "code",
   "execution_count": 16,
   "id": "unsigned-probe",
   "metadata": {},
   "outputs": [
    {
     "ename": "AttributeError",
     "evalue": "'NLPlot' object has no attribute 'node_df'",
     "output_type": "error",
     "traceback": [
      "\u001b[1;31m---------------------------------------------------------------------------\u001b[0m",
      "\u001b[1;31mAttributeError\u001b[0m                            Traceback (most recent call last)",
      "\u001b[1;32m<ipython-input-16-9f10668fd805>\u001b[0m in \u001b[0;36m<module>\u001b[1;34m\u001b[0m\n\u001b[1;32m----> 1\u001b[1;33m \u001b[0mnpt\u001b[0m\u001b[1;33m.\u001b[0m\u001b[0msunburst\u001b[0m\u001b[1;33m(\u001b[0m\u001b[0mtitle\u001b[0m\u001b[1;33m=\u001b[0m\u001b[1;34m'sunburst chart'\u001b[0m\u001b[1;33m,\u001b[0m \u001b[0mcolorscale\u001b[0m\u001b[1;33m=\u001b[0m\u001b[1;32mTrue\u001b[0m\u001b[1;33m)\u001b[0m\u001b[1;33m\u001b[0m\u001b[1;33m\u001b[0m\u001b[0m\n\u001b[0m",
      "\u001b[1;32m~\\anaconda3\\envs\\PythonAdv\\lib\\site-packages\\nlplot\\nlplot.py\u001b[0m in \u001b[0;36msunburst\u001b[1;34m(self, title, colorscale, color_col, color_continuous_scale, width, height, save)\u001b[0m\n\u001b[0;32m    676\u001b[0m \u001b[1;33m\u001b[0m\u001b[0m\n\u001b[0;32m    677\u001b[0m         \u001b[1;31m# make copy of node dataframe\u001b[0m\u001b[1;33m\u001b[0m\u001b[1;33m\u001b[0m\u001b[1;33m\u001b[0m\u001b[0m\n\u001b[1;32m--> 678\u001b[1;33m         \u001b[0m_df\u001b[0m \u001b[1;33m=\u001b[0m \u001b[0mself\u001b[0m\u001b[1;33m.\u001b[0m\u001b[0mnode_df\u001b[0m\u001b[1;33m.\u001b[0m\u001b[0mcopy\u001b[0m\u001b[1;33m(\u001b[0m\u001b[1;33m)\u001b[0m\u001b[1;33m\u001b[0m\u001b[1;33m\u001b[0m\u001b[0m\n\u001b[0m\u001b[0;32m    679\u001b[0m \u001b[1;33m\u001b[0m\u001b[0m\n\u001b[0;32m    680\u001b[0m         \u001b[1;31m# change community label to string (needed for plot)\u001b[0m\u001b[1;33m\u001b[0m\u001b[1;33m\u001b[0m\u001b[1;33m\u001b[0m\u001b[0m\n",
      "\u001b[1;31mAttributeError\u001b[0m: 'NLPlot' object has no attribute 'node_df'"
     ]
    }
   ],
   "source": [
    "npt.sunburst(title='sunburst chart', colorscale=True)\n"
   ]
  },
  {
   "cell_type": "code",
   "execution_count": 17,
   "id": "trying-movement",
   "metadata": {},
   "outputs": [
    {
     "data": {
      "application/vnd.plotly.v1+json": {
       "config": {
        "plotlyServerURL": "https://plot.ly"
       },
       "data": [
        {
         "alignmentgroup": "True",
         "bingroup": "x",
         "hovertemplate": "review_clean_length=%{x}<br>count=%{y}<extra></extra>",
         "legendgroup": "",
         "marker": {
          "color": "#636efa"
         },
         "name": "",
         "offsetgroup": "",
         "orientation": "v",
         "showlegend": false,
         "type": "histogram",
         "x": [
          7,
          50,
          34,
          29,
          42,
          22,
          17,
          24,
          170,
          95,
          10,
          30,
          103,
          65,
          130,
          62,
          199,
          106,
          116,
          84,
          58,
          29,
          54,
          53,
          27,
          30,
          19,
          40,
          26,
          61,
          31,
          32,
          20,
          62,
          37,
          22,
          17,
          140,
          64,
          25,
          25,
          132,
          76,
          37,
          57,
          32,
          97,
          78,
          40,
          240,
          62,
          460,
          12,
          833,
          16,
          71,
          37,
          19,
          40,
          61,
          30,
          31,
          57,
          21,
          219,
          22,
          21,
          29,
          62,
          26,
          22,
          26,
          68,
          77,
          57,
          37,
          25,
          140,
          19,
          46,
          78,
          24,
          49,
          61,
          10,
          72,
          147,
          265,
          79,
          28,
          138,
          29,
          39,
          12,
          108,
          109,
          30,
          165,
          10,
          44,
          65,
          91,
          14,
          55,
          40,
          23,
          40,
          52,
          21,
          79,
          26,
          54,
          70,
          68,
          37,
          54,
          19,
          16,
          11,
          49,
          46,
          68,
          52,
          47,
          11,
          31,
          12,
          27,
          26,
          21,
          125,
          112,
          56,
          16,
          21,
          17,
          55,
          57,
          46,
          29,
          50,
          205,
          34,
          39,
          106,
          110,
          58,
          105,
          44,
          73,
          32,
          13,
          16,
          208,
          71,
          11,
          37,
          12,
          48,
          26,
          190,
          43,
          23,
          22,
          49,
          19,
          91,
          44,
          36,
          28,
          96,
          41,
          52,
          74,
          34,
          35,
          46,
          95,
          16,
          139,
          27,
          94,
          47,
          30,
          22,
          24,
          83,
          35,
          16,
          19,
          19,
          119,
          163,
          88,
          89,
          267,
          12,
          280,
          39,
          57,
          99,
          99,
          27,
          39,
          24,
          60,
          15,
          26,
          194,
          15,
          32,
          77,
          64,
          110,
          29,
          24,
          141,
          46,
          12,
          64,
          35,
          58,
          457,
          120,
          26,
          90,
          62,
          97,
          32,
          48,
          104,
          18,
          64,
          19,
          15,
          51,
          46,
          22,
          76,
          22,
          15,
          23,
          19,
          14,
          81,
          30,
          111,
          110,
          85,
          84,
          34,
          86,
          25,
          22,
          91,
          12,
          132,
          27,
          27,
          156,
          52,
          125,
          111,
          52,
          164,
          91,
          33,
          38,
          51,
          75,
          24,
          16,
          311,
          32,
          89,
          100,
          102,
          13,
          14,
          22,
          28,
          27,
          93,
          69,
          14,
          10,
          15,
          37,
          22,
          11,
          42,
          49,
          30,
          33,
          10,
          39,
          14,
          30,
          20,
          121,
          50,
          41,
          21,
          552,
          93,
          13,
          34,
          51,
          17,
          47,
          30,
          131,
          22,
          115,
          20,
          29,
          48,
          41,
          35,
          12,
          35,
          28,
          174,
          36,
          77,
          44,
          163,
          69,
          365,
          13,
          18,
          72,
          139,
          46,
          28,
          10,
          16,
          44,
          33,
          28,
          28,
          149,
          186,
          146,
          14,
          46,
          40,
          24,
          14,
          45,
          42,
          9,
          32,
          17,
          21,
          7,
          23,
          178,
          11,
          64,
          13,
          64,
          16,
          115,
          55,
          18,
          66,
          65,
          108,
          116,
          139,
          195,
          14,
          125,
          94,
          58,
          150,
          147,
          16,
          16,
          33,
          41,
          44,
          24,
          20,
          44,
          19,
          933,
          66,
          14,
          168,
          57,
          7,
          54,
          36,
          48,
          47,
          63,
          51,
          25,
          72,
          19,
          39,
          30,
          7,
          35,
          20,
          52,
          47,
          12,
          44,
          232,
          63,
          35,
          36,
          12,
          71,
          19,
          249,
          44,
          116,
          31,
          344,
          21,
          10,
          21,
          32,
          37,
          25,
          47,
          18,
          80,
          93,
          69,
          51,
          26,
          70,
          13,
          151,
          14,
          32,
          3,
          18,
          119,
          24,
          138,
          55,
          43,
          76,
          23,
          24,
          11,
          17,
          14,
          9,
          161,
          391,
          34,
          25,
          31,
          127,
          17,
          42,
          18,
          29,
          11,
          49,
          30,
          70,
          26,
          72,
          29,
          84,
          86,
          184,
          18,
          19,
          16,
          114,
          20,
          28,
          17,
          37,
          43,
          71,
          17,
          57,
          46,
          37,
          35,
          31,
          55,
          8,
          18,
          94,
          31,
          80,
          21,
          34,
          13,
          90,
          21,
          563,
          122,
          37,
          193,
          22,
          10,
          45,
          75,
          55,
          81,
          21,
          29,
          52,
          52,
          43,
          11,
          32,
          104,
          45,
          22,
          79,
          21,
          18,
          19,
          14,
          34,
          50,
          58,
          137,
          22,
          12,
          13,
          110,
          25,
          44,
          105,
          88,
          18,
          20,
          36,
          46,
          18,
          210,
          10,
          13,
          211,
          27,
          17,
          39,
          33,
          14,
          26,
          15,
          110,
          38,
          51,
          130,
          17,
          35,
          47,
          232,
          30,
          26,
          12,
          44,
          84,
          30,
          125,
          39,
          33,
          51,
          137,
          20,
          44,
          14,
          24,
          217,
          153,
          46,
          21,
          48,
          33,
          79,
          22,
          27,
          50,
          29,
          16,
          65,
          59,
          21,
          11,
          43,
          425,
          69,
          164,
          17,
          14,
          14,
          40,
          19,
          80,
          292,
          13,
          26,
          50,
          10,
          52,
          14,
          24,
          101,
          45,
          9,
          54,
          45,
          45,
          104,
          20,
          22,
          178,
          42,
          126,
          56,
          27,
          30,
          74,
          60,
          32,
          20,
          63,
          45,
          24,
          67,
          42,
          56,
          12,
          11,
          57,
          47,
          18,
          16,
          21,
          23,
          50,
          120,
          88,
          115,
          31,
          117,
          12,
          73,
          163,
          55,
          103,
          17,
          91,
          235,
          42,
          84,
          24,
          32,
          60,
          100,
          22,
          381,
          12,
          29,
          11,
          29,
          26,
          32,
          290,
          75,
          11,
          58,
          46,
          20,
          21,
          21,
          15,
          47,
          134,
          57,
          130,
          86,
          38,
          48,
          49,
          39,
          106,
          40,
          166,
          15,
          30,
          36,
          16,
          55,
          65,
          58,
          41,
          55,
          32,
          45,
          26,
          51,
          72,
          73,
          18,
          475,
          54,
          35,
          12,
          60,
          75,
          18,
          81,
          88,
          24,
          26,
          101,
          13,
          25,
          29,
          34,
          74,
          18,
          28,
          222,
          18,
          20,
          38,
          24,
          96,
          134,
          116,
          105,
          14,
          22,
          185,
          33,
          13,
          19,
          57,
          31,
          62,
          44,
          31,
          69,
          31,
          115,
          13,
          271,
          29,
          87,
          59,
          28,
          48,
          25,
          12,
          265,
          42,
          111,
          20,
          148,
          20,
          99,
          13,
          50,
          31,
          56,
          28,
          40,
          13,
          10,
          39,
          67,
          142,
          12,
          32,
          21,
          13,
          73,
          118,
          31,
          110,
          26,
          117,
          59,
          32,
          31,
          30,
          63,
          14,
          177,
          36,
          42,
          30,
          30,
          73,
          10,
          64,
          48,
          22,
          29,
          46,
          36,
          40,
          15,
          104,
          17,
          32,
          41,
          32,
          33,
          67,
          84,
          12,
          139,
          81,
          26,
          71,
          10,
          204,
          50,
          25,
          50,
          133,
          63,
          57,
          78,
          113,
          128,
          21,
          22,
          13,
          28,
          55,
          29,
          63,
          123,
          97,
          124,
          42,
          17,
          108,
          139,
          16,
          51,
          24,
          189,
          27,
          19,
          98,
          17,
          23,
          25,
          46,
          18,
          27,
          18,
          69,
          21,
          22,
          69,
          9,
          29,
          32,
          82,
          29,
          11,
          82,
          62,
          19,
          16,
          29,
          22,
          20,
          29,
          35,
          23,
          22,
          66,
          57,
          32,
          183,
          105,
          51,
          67,
          38,
          72,
          38,
          31,
          137,
          70,
          80,
          54,
          13,
          13,
          156,
          9,
          26,
          13,
          86,
          100,
          205,
          538,
          15,
          46,
          15,
          13,
          33,
          33,
          28,
          24,
          39,
          19,
          26,
          31,
          34,
          22,
          42,
          30,
          17,
          41,
          25,
          26,
          11,
          14,
          88,
          37,
          41,
          7,
          15,
          15,
          196,
          31,
          13,
          36,
          25,
          15,
          48,
          32,
          66,
          12,
          28,
          9,
          125,
          61,
          143,
          11,
          26,
          15,
          78,
          163,
          115,
          22,
          152,
          159,
          222,
          34,
          17,
          106,
          63,
          40,
          34,
          20,
          38,
          17,
          26,
          11,
          37,
          23,
          78,
          86,
          205,
          59,
          22,
          13,
          143,
          14,
          15,
          32,
          41,
          36,
          34,
          17,
          22,
          47,
          76,
          70,
          9,
          23,
          61,
          16,
          15,
          84,
          29,
          18,
          28,
          80,
          260,
          6,
          40,
          90,
          28,
          73,
          16,
          14,
          104,
          51,
          38,
          18,
          158,
          18,
          50,
          38,
          13,
          66,
          40,
          23,
          34,
          67,
          44,
          64,
          1061,
          18,
          184,
          43,
          62,
          130,
          24,
          166,
          86,
          7,
          15,
          14,
          52,
          74,
          17,
          42,
          36,
          32,
          16,
          34,
          40,
          52,
          30,
          120,
          15,
          23,
          137,
          30,
          6,
          9,
          196,
          70,
          52,
          81,
          86,
          16,
          86,
          26,
          23,
          56,
          36,
          17,
          29,
          32,
          55,
          84,
          13,
          57,
          27,
          154,
          96,
          14,
          20,
          34,
          68,
          34,
          42,
          20,
          8,
          25,
          28,
          70,
          11,
          194,
          70,
          99,
          73,
          36,
          29,
          17,
          138,
          134,
          252,
          94,
          30,
          19,
          23,
          84,
          94,
          10,
          69,
          29,
          51,
          23,
          24,
          74,
          21,
          40,
          67,
          16,
          19,
          28,
          63,
          8,
          36,
          42,
          123,
          102,
          83,
          31,
          34,
          31,
          56,
          16,
          55,
          87,
          29,
          33,
          66,
          14,
          60,
          136,
          68,
          27,
          97,
          18,
          24,
          47,
          24,
          29,
          22,
          47,
          72,
          47,
          48,
          23,
          29,
          57,
          35,
          82,
          78,
          383,
          44,
          26,
          32,
          99,
          64,
          25,
          39,
          57,
          103,
          53,
          27,
          37,
          24,
          87,
          81,
          249,
          31,
          125,
          30,
          45,
          109,
          32,
          24,
          71,
          20,
          177,
          16,
          115,
          20,
          14,
          51,
          12,
          17,
          109,
          15,
          20,
          38,
          58,
          38,
          19,
          57,
          23,
          26,
          32,
          29,
          23,
          18,
          9,
          52,
          32,
          9,
          43,
          25,
          91,
          22,
          15,
          21,
          12,
          81,
          61,
          47,
          11,
          55,
          37,
          22,
          59,
          10,
          76,
          27,
          28,
          384,
          37,
          200,
          412,
          72,
          39,
          28,
          30,
          17,
          31,
          26,
          49,
          33,
          85,
          60,
          107,
          55,
          34,
          11,
          65,
          60,
          13,
          40,
          90,
          9,
          115,
          58,
          19,
          25,
          18,
          80,
          35,
          13,
          36,
          156,
          23,
          82,
          15,
          63,
          54,
          88,
          50,
          14,
          13,
          10,
          85,
          38,
          87,
          16,
          142,
          18,
          39,
          25,
          13,
          17,
          56,
          9,
          13,
          125,
          31,
          95,
          72,
          25,
          140,
          22,
          92,
          124,
          53,
          86,
          10,
          22,
          14,
          117,
          25,
          203,
          104,
          22,
          95,
          20,
          60,
          90,
          186,
          29,
          197,
          34,
          97,
          132,
          26,
          13,
          17,
          93,
          21,
          45,
          75,
          22,
          21,
          55,
          94,
          21,
          39,
          52,
          320,
          56,
          9,
          59,
          30,
          105,
          30,
          61,
          45,
          37,
          12,
          19,
          15,
          28,
          9,
          53,
          116,
          34,
          61,
          19,
          114,
          28,
          40,
          14,
          11,
          59,
          13,
          9,
          24,
          27,
          58,
          9,
          187,
          58,
          86,
          19,
          75,
          47,
          66,
          25,
          190,
          174,
          45,
          28,
          79,
          41,
          18,
          24,
          17,
          43,
          93,
          12,
          28,
          23,
          22,
          18,
          29,
          17,
          29,
          76,
          31,
          49,
          97,
          50,
          17,
          49,
          50,
          18,
          36,
          28,
          169,
          47,
          13,
          36,
          246,
          210,
          64,
          12,
          16,
          61,
          73,
          58,
          19,
          33,
          13,
          54,
          132,
          7,
          19,
          43,
          227,
          16,
          79,
          50,
          61,
          102,
          19,
          67,
          12,
          96,
          21,
          12,
          289,
          92,
          223,
          20,
          87,
          37,
          38,
          256,
          33,
          42,
          20,
          18,
          123,
          20,
          13,
          95,
          30,
          45,
          116,
          38,
          82,
          26,
          9,
          16,
          52,
          15,
          29,
          24,
          71,
          16,
          24,
          44,
          27,
          13,
          20,
          41,
          29,
          69,
          13,
          58,
          143,
          34,
          44,
          143,
          16,
          88,
          104,
          71,
          21,
          25,
          54,
          24,
          15,
          189,
          50,
          32,
          165,
          53,
          27,
          57,
          98,
          36,
          30,
          46,
          76,
          13,
          56,
          39,
          21,
          11,
          19,
          52,
          172,
          16,
          29,
          79,
          20,
          32,
          31,
          13,
          70,
          50,
          50,
          42,
          20,
          44,
          37,
          53,
          31,
          371,
          62,
          41,
          303,
          62,
          21,
          23,
          15,
          63,
          280,
          16,
          17,
          26,
          21,
          39,
          560,
          71,
          20,
          134,
          44,
          26,
          30,
          29,
          23,
          67,
          44,
          112,
          144,
          14,
          59,
          24,
          26,
          190,
          16,
          40,
          19,
          35,
          32,
          93,
          124,
          50,
          56,
          348,
          27,
          35,
          175,
          51,
          23,
          62,
          21,
          47,
          11,
          12,
          14,
          14,
          104,
          66,
          418,
          28,
          16,
          38,
          536,
          48,
          21,
          70,
          63,
          36,
          23,
          191,
          72,
          33,
          16,
          122,
          134,
          44,
          26,
          22,
          14,
          45,
          44,
          25,
          138,
          170,
          11,
          14,
          30,
          14,
          38,
          28,
          31,
          12,
          15,
          165,
          28,
          21,
          398,
          262,
          148,
          20,
          17,
          94,
          16,
          49,
          18,
          68,
          17,
          38,
          11,
          300,
          27,
          15,
          81,
          61,
          11,
          33,
          22,
          44,
          28,
          34,
          15,
          35,
          38,
          108,
          40,
          132,
          117,
          19,
          45,
          39,
          59,
          101,
          62,
          47,
          97,
          53,
          20,
          53,
          89,
          94,
          46,
          89,
          54,
          132,
          135,
          350,
          30,
          34,
          20,
          25,
          39,
          22,
          188,
          119,
          20,
          19,
          34,
          12,
          19,
          52,
          26,
          24,
          101,
          51,
          52,
          22,
          23,
          97,
          16,
          15,
          63,
          55,
          17,
          38,
          11,
          49,
          24,
          60,
          81,
          32,
          204,
          22,
          24,
          19,
          179,
          57,
          76,
          40,
          34,
          15,
          42,
          28,
          31,
          99,
          72,
          13,
          31,
          16,
          171,
          37,
          20,
          32,
          107,
          107,
          94,
          28,
          120,
          82,
          27,
          48,
          29,
          17,
          28,
          21,
          78,
          229,
          25,
          28,
          52,
          34,
          32,
          40,
          533,
          114,
          18,
          38,
          128,
          125,
          16,
          60,
          19,
          47,
          39,
          101,
          30,
          79,
          13,
          22,
          40,
          54,
          50,
          81,
          21,
          11,
          116,
          46,
          166,
          14,
          45,
          20,
          455,
          119,
          65,
          13,
          12,
          25,
          156,
          21,
          26,
          109,
          25,
          96,
          26,
          43,
          15,
          278,
          62,
          15,
          28,
          330,
          83,
          176,
          58,
          71,
          93,
          68,
          159,
          42,
          17,
          50,
          25,
          28,
          33,
          254,
          36,
          104,
          156,
          180,
          32,
          63,
          14,
          25,
          15,
          141,
          443,
          38,
          87,
          35,
          106,
          12,
          59,
          18,
          25,
          10,
          275,
          29,
          31,
          25,
          30,
          18,
          88,
          103,
          58,
          51,
          16,
          53,
          34,
          41,
          41,
          22,
          78,
          32,
          490,
          42,
          14,
          49,
          127,
          22,
          19,
          31,
          24,
          57,
          130,
          55,
          19,
          140,
          26,
          40,
          15,
          237,
          179,
          193,
          36,
          62,
          27,
          56,
          30,
          33,
          126,
          14,
          74,
          13,
          54,
          38,
          14,
          14,
          49,
          31,
          117,
          24,
          14,
          42,
          37,
          28,
          25,
          55,
          92,
          44,
          81,
          24,
          35,
          77,
          28,
          57,
          37,
          20,
          229,
          87,
          124,
          17,
          69,
          57,
          35,
          67,
          16,
          91,
          41,
          47,
          150,
          67,
          31,
          33,
          16,
          20,
          30,
          35,
          46,
          241,
          38,
          57,
          65,
          53,
          30,
          51,
          45,
          19,
          89,
          36,
          32,
          75,
          36,
          20,
          28,
          19,
          43,
          32,
          38,
          13,
          58,
          19,
          28,
          66,
          34,
          55,
          9,
          62,
          45,
          320,
          13,
          18,
          15,
          25,
          10,
          57,
          41,
          114,
          82,
          13,
          12,
          10,
          30,
          22,
          62,
          76,
          83,
          12,
          46,
          51,
          19,
          281,
          266,
          27,
          45,
          13,
          26,
          35,
          145,
          57,
          33,
          34,
          17,
          25,
          59,
          22,
          29,
          377,
          47,
          24,
          31,
          81,
          32,
          47,
          99,
          256,
          98,
          51,
          8,
          95,
          222,
          58,
          69,
          300,
          19,
          10,
          34,
          23,
          15,
          28,
          61,
          25,
          40,
          48,
          143,
          141,
          73,
          30,
          19,
          174,
          32,
          363,
          53,
          39,
          31,
          19,
          12,
          17,
          13,
          19,
          61,
          33,
          64,
          51,
          40,
          14,
          12,
          81,
          31,
          12,
          16,
          30,
          31,
          131,
          26,
          128,
          30,
          16,
          19,
          89,
          306,
          28,
          22,
          66,
          199,
          73,
          65,
          49,
          132,
          60,
          16,
          212,
          268,
          30,
          173,
          113,
          19,
          22,
          33,
          81,
          17,
          40,
          25,
          81,
          183,
          105,
          22,
          29,
          27,
          11,
          194,
          25,
          102,
          11,
          66,
          182,
          70,
          12,
          163,
          27,
          94,
          51,
          22,
          12,
          59,
          59,
          139,
          41,
          57,
          11,
          46,
          45,
          17,
          146,
          91,
          85,
          36,
          126,
          109,
          35,
          129,
          12,
          193,
          25,
          19,
          36,
          42,
          19,
          84,
          32,
          107,
          17,
          18,
          23,
          96,
          67,
          27,
          36,
          76,
          22,
          25,
          15,
          29,
          17,
          16,
          18,
          19,
          29,
          74,
          15,
          94,
          25,
          16,
          108,
          110,
          64,
          16,
          53,
          43,
          63,
          48,
          81,
          47,
          30,
          32,
          13,
          14,
          68,
          73,
          43,
          198,
          150,
          14,
          15,
          12,
          38,
          121,
          10,
          13,
          94,
          43,
          119,
          25,
          44,
          61,
          19,
          34,
          36,
          43,
          201,
          106,
          30,
          58,
          11,
          54,
          52,
          65,
          40,
          91,
          163,
          59,
          63,
          18,
          117,
          31,
          32,
          23,
          22,
          49,
          18,
          130,
          73,
          26,
          68,
          247,
          19,
          25,
          34,
          10,
          69,
          12,
          28,
          22,
          84,
          231,
          17,
          14,
          63,
          49,
          122,
          43,
          56,
          31,
          26,
          97,
          16,
          25,
          17,
          31,
          439,
          132,
          32,
          30,
          17,
          152,
          54,
          31,
          68,
          17,
          43,
          26,
          53,
          59,
          29,
          12,
          23,
          41,
          46,
          19,
          104,
          23,
          12,
          34,
          50,
          11,
          17,
          49,
          12,
          72,
          57,
          25,
          14,
          16,
          110,
          30,
          112,
          45,
          26,
          88,
          17,
          679,
          27,
          25,
          18,
          91,
          18,
          114,
          29,
          58,
          51,
          56,
          12,
          66,
          59,
          27,
          22,
          9,
          28,
          17,
          159,
          94,
          50,
          24,
          23,
          57,
          100,
          57,
          15,
          46,
          51,
          65,
          68,
          437,
          274,
          78,
          30,
          28,
          46,
          141,
          16,
          29,
          65,
          23,
          67,
          176,
          49,
          18,
          70,
          48,
          6,
          87,
          10,
          160,
          76,
          23,
          77,
          23,
          249,
          15,
          256,
          23,
          356,
          53,
          65,
          40,
          30,
          54,
          78,
          196,
          264,
          17,
          43,
          13,
          21,
          32,
          38,
          49,
          123,
          20,
          33,
          43,
          14,
          56,
          49,
          15,
          217,
          18,
          20,
          16,
          10,
          22,
          56,
          44,
          83,
          16,
          26,
          23,
          170,
          130,
          56,
          15,
          19,
          38,
          11,
          59,
          14,
          95,
          62,
          41,
          39,
          23,
          38,
          43,
          32,
          75,
          113,
          42,
          41,
          70,
          140,
          48,
          13,
          23,
          331,
          22,
          59,
          86,
          91,
          77,
          129,
          17,
          15,
          78,
          259,
          210,
          113,
          8,
          24,
          10,
          33,
          200,
          44,
          24,
          37,
          227,
          39,
          53,
          86,
          12,
          36,
          27,
          71,
          57,
          31,
          24,
          26,
          50,
          50,
          107,
          144,
          24,
          13,
          28,
          33,
          38,
          20,
          19,
          16,
          77,
          120,
          16,
          47,
          44,
          24,
          39,
          19,
          75,
          7,
          22,
          28,
          64,
          7,
          18,
          12,
          151,
          176,
          214,
          149,
          26,
          459,
          47,
          64,
          54,
          123,
          62,
          123,
          14,
          18,
          82,
          102,
          11,
          54,
          11,
          81,
          29,
          39,
          51,
          38,
          70,
          38,
          15,
          37,
          70,
          33,
          47,
          22,
          27,
          80,
          15,
          24,
          34,
          65,
          43,
          259,
          60,
          29,
          46,
          14,
          167,
          19,
          84,
          17,
          47,
          36,
          10,
          48,
          104,
          51,
          21,
          28,
          63,
          19,
          96,
          40,
          59,
          43,
          156,
          41,
          16,
          112,
          9,
          3,
          51,
          201,
          69,
          127,
          15,
          31,
          11,
          93,
          33,
          27,
          23,
          25,
          68,
          120,
          234,
          10,
          18,
          12,
          33,
          114,
          91,
          26,
          16,
          49,
          23,
          48,
          115,
          42,
          12,
          26,
          24,
          42,
          51,
          35,
          30,
          32,
          27,
          370,
          23,
          17,
          33,
          14,
          160,
          49,
          17,
          49,
          11,
          32,
          17,
          37,
          85,
          56,
          102,
          101,
          39,
          41,
          49,
          260,
          71,
          31,
          122,
          53,
          142,
          66,
          97,
          15,
          26,
          23,
          20,
          12,
          41,
          46,
          23,
          68,
          22,
          16,
          16,
          20,
          471,
          54,
          12,
          23,
          145,
          89,
          51,
          45,
          16,
          80,
          79,
          72,
          25,
          177,
          54,
          102,
          55,
          20,
          20,
          6,
          29,
          44,
          146,
          99,
          33,
          82,
          89,
          23,
          60,
          27,
          31,
          23,
          41,
          41,
          69,
          69,
          34,
          32,
          30,
          60,
          83,
          72,
          23,
          33,
          26,
          74,
          159,
          62,
          65,
          34,
          80,
          29,
          17,
          21,
          47,
          32,
          54,
          88,
          9,
          91,
          29,
          95,
          22,
          21,
          91,
          39,
          9,
          86,
          197,
          57,
          112,
          40,
          16,
          19,
          25,
          45,
          41,
          43,
          20,
          15,
          20,
          15,
          11,
          52,
          16,
          16,
          16,
          282,
          37,
          5,
          24,
          23,
          44,
          28,
          23,
          49,
          72,
          379,
          64,
          60,
          35,
          66,
          37,
          66,
          39,
          97,
          39,
          65,
          45,
          13,
          43,
          307,
          89,
          14,
          18,
          126,
          9,
          207,
          110,
          26,
          23,
          89,
          115,
          89,
          30,
          35,
          40,
          25,
          172,
          17,
          115,
          36,
          23,
          130,
          433,
          22,
          26,
          118,
          135,
          122,
          61,
          200,
          78,
          27,
          373,
          36,
          38,
          11,
          28,
          6,
          15,
          437,
          39,
          23,
          21,
          66,
          99,
          101,
          42,
          268,
          101,
          52,
          122,
          23,
          61,
          96,
          11,
          31,
          37,
          70,
          137,
          22,
          23,
          40,
          73,
          58,
          115,
          78,
          18,
          430,
          61,
          28,
          67,
          75,
          73,
          131,
          64,
          148,
          12,
          36,
          16,
          33,
          67,
          28,
          55,
          30,
          19,
          19,
          17,
          75,
          19,
          33,
          55,
          57,
          26,
          33,
          12,
          55,
          30,
          72,
          20,
          99,
          42,
          28,
          24,
          166,
          29,
          51,
          12,
          18,
          33,
          143,
          13,
          18,
          41,
          146,
          30,
          28,
          71,
          23,
          44,
          42,
          19,
          51,
          11,
          88,
          13,
          51,
          19,
          69,
          18,
          33,
          92,
          140,
          12,
          69,
          22,
          70,
          154,
          85,
          88,
          38,
          16,
          12,
          177,
          14,
          52,
          79,
          81,
          7,
          41,
          21,
          22,
          16,
          53,
          23,
          109,
          135,
          62,
          107,
          12,
          61,
          33,
          52,
          15,
          14,
          43,
          49,
          16,
          51,
          28,
          14,
          42,
          48,
          67,
          74,
          46,
          309,
          30,
          91,
          44,
          5,
          26,
          22,
          13,
          30,
          13,
          264,
          34,
          20,
          33,
          73,
          128,
          35,
          16,
          9,
          25,
          12,
          12,
          11,
          15,
          13,
          52,
          20,
          106,
          24,
          22,
          43,
          107,
          21,
          54,
          30,
          22,
          171,
          146,
          87,
          25,
          39,
          18,
          81,
          60,
          115,
          65,
          68,
          60,
          17,
          59,
          13,
          20,
          213,
          297,
          160,
          35,
          61,
          172,
          279,
          76,
          229,
          26,
          40,
          29,
          48,
          24,
          114,
          22,
          311,
          7,
          68,
          24,
          70,
          32,
          20,
          7,
          28,
          41,
          47,
          28,
          38,
          29,
          46,
          131,
          11,
          220,
          18,
          255,
          18,
          42,
          73,
          27,
          585,
          167,
          96,
          78,
          14,
          51,
          71,
          126,
          53,
          24,
          14,
          39,
          46,
          31,
          41,
          50,
          179,
          41,
          100,
          120,
          18,
          24,
          31,
          39,
          29,
          39,
          54,
          15,
          289,
          152,
          72,
          17,
          56,
          120,
          18,
          97,
          39,
          113,
          13,
          60,
          23,
          30,
          97,
          18,
          12,
          26,
          112,
          110,
          27,
          24,
          20,
          78,
          26,
          106,
          88,
          75,
          31,
          39,
          20,
          48,
          49,
          22,
          25,
          28,
          17,
          14,
          20,
          29,
          107,
          82,
          15,
          124,
          49,
          66,
          62,
          24,
          10,
          34,
          19,
          136,
          51,
          22,
          15,
          63,
          57,
          30,
          14,
          186,
          23,
          27,
          23,
          69,
          13,
          29,
          54,
          35,
          38,
          34,
          17,
          120,
          21,
          84,
          131,
          80,
          57,
          57,
          39,
          98,
          22,
          23,
          83,
          71,
          43,
          20,
          149,
          44,
          53,
          60,
          41,
          105,
          16,
          12,
          100,
          56,
          35,
          43,
          74,
          9,
          29,
          28,
          51,
          28,
          101,
          47,
          70,
          33,
          18,
          52,
          64,
          15,
          28,
          24,
          70,
          185,
          473,
          95,
          25,
          16,
          73,
          77,
          16,
          35,
          57,
          33,
          20,
          15,
          9,
          24,
          85,
          13,
          86,
          43,
          37,
          17,
          77,
          24,
          61,
          55,
          30,
          151,
          13,
          13,
          36,
          24,
          20,
          26,
          51,
          30,
          58,
          13,
          20,
          33,
          226,
          55,
          18,
          59,
          38,
          31,
          88,
          51,
          62,
          17,
          205,
          68,
          207,
          16,
          38,
          60,
          13,
          20,
          16,
          26,
          37,
          87,
          39,
          52,
          96,
          31,
          5,
          19,
          117,
          143,
          71,
          212,
          70,
          24,
          55,
          13,
          7,
          70,
          19,
          40,
          15,
          26,
          179,
          27,
          27,
          24,
          84,
          23,
          43,
          20,
          103,
          68,
          48,
          53,
          46,
          61,
          33,
          37,
          17,
          17,
          34,
          83,
          93,
          40,
          269,
          52,
          14,
          27,
          47,
          19,
          20,
          20,
          34,
          59,
          41,
          45,
          59,
          45,
          15,
          40,
          45,
          42,
          33,
          29,
          34,
          17,
          23,
          30,
          14,
          21,
          64,
          21,
          83,
          25,
          20,
          280,
          89,
          71,
          58,
          11,
          88,
          16,
          198,
          28,
          16,
          69,
          11,
          80,
          61,
          44,
          41,
          44,
          15,
          114,
          51,
          96,
          28,
          33,
          129,
          21,
          205,
          72,
          72,
          487,
          81,
          15,
          55,
          19,
          17,
          14,
          20,
          16,
          43,
          30,
          22,
          23,
          128,
          25,
          85,
          98,
          31,
          53,
          167,
          64,
          150,
          374,
          21,
          53,
          51,
          177,
          84,
          161,
          21,
          56,
          115,
          34,
          30,
          21,
          51,
          239,
          10,
          8,
          83,
          77,
          29,
          16,
          142,
          16,
          83,
          82,
          22,
          13,
          13,
          35,
          97,
          106,
          30,
          9,
          30,
          105,
          74,
          105,
          55,
          121,
          10,
          34,
          12,
          13,
          365,
          28,
          36,
          30,
          10,
          87,
          60,
          41,
          59,
          53,
          97,
          36,
          68,
          29,
          18,
          70,
          54,
          89,
          45,
          35,
          36,
          43,
          39,
          124,
          38,
          34,
          31,
          63,
          102,
          80,
          10,
          45,
          170,
          48,
          221,
          14,
          14,
          21,
          204,
          27,
          337,
          40,
          71,
          12,
          46,
          30,
          17,
          112,
          68,
          15,
          23,
          68,
          41,
          10,
          41,
          10,
          38,
          34,
          45,
          210,
          14,
          38,
          71,
          21,
          11,
          22,
          26,
          50,
          43,
          18,
          74,
          181,
          24,
          77,
          27,
          31,
          90,
          10,
          25,
          17,
          21,
          100,
          62,
          19,
          21,
          74,
          14,
          22,
          39,
          84,
          32,
          63,
          12,
          50,
          156,
          18,
          64,
          36,
          16,
          27,
          31,
          33,
          30,
          27,
          15,
          94,
          19,
          40,
          463,
          13,
          47,
          24,
          52,
          162,
          63,
          38,
          317,
          38,
          53,
          15,
          16,
          93,
          39,
          64,
          101,
          18,
          55,
          196,
          262,
          117,
          43,
          51,
          10,
          13,
          33,
          64,
          19,
          32,
          27,
          44,
          36,
          13,
          21,
          99,
          15,
          20,
          28,
          147,
          39,
          154,
          13,
          9,
          21,
          12,
          61,
          53,
          32,
          66,
          19,
          21,
          238,
          61,
          51,
          19,
          20,
          61,
          9,
          23,
          529,
          15,
          139,
          10,
          16,
          18,
          54,
          30,
          16,
          39,
          71,
          304,
          64,
          25,
          164,
          207,
          36,
          20,
          20,
          27,
          141,
          120,
          19,
          38,
          41,
          220,
          23,
          248,
          29,
          121,
          52,
          16,
          33,
          60,
          34,
          44,
          61,
          19,
          40,
          16,
          85,
          126,
          13,
          25,
          53,
          27,
          16,
          20,
          25,
          57,
          32,
          39,
          38,
          13,
          599,
          40,
          38,
          28,
          27,
          31,
          56,
          45,
          18,
          27,
          54,
          19,
          45,
          16,
          64,
          21,
          157,
          125,
          76,
          24,
          8,
          132,
          38,
          30,
          154,
          22,
          122,
          24,
          38,
          30,
          20,
          66,
          23,
          14,
          30,
          13,
          22,
          22,
          10,
          33,
          50,
          79,
          110,
          79,
          33,
          89,
          36,
          43,
          21,
          15,
          15,
          20,
          85,
          54,
          45,
          16,
          7,
          29,
          27,
          14,
          43,
          23,
          41,
          110,
          29,
          21,
          43,
          54,
          56,
          81,
          55,
          14,
          19,
          10,
          32,
          71,
          132,
          40,
          47,
          40,
          34,
          88,
          120,
          23,
          109,
          24,
          71,
          30,
          35,
          39,
          27,
          22,
          17,
          78,
          48,
          12,
          218,
          13,
          75,
          13,
          83,
          30,
          14,
          29,
          12,
          58,
          31,
          34,
          117,
          20,
          69,
          37,
          20,
          45,
          99,
          25,
          208,
          88,
          52,
          43,
          13,
          64,
          22,
          52,
          74,
          135,
          86,
          15,
          59,
          57,
          27,
          6,
          9,
          17,
          46,
          10,
          140,
          40,
          39,
          168,
          115,
          177,
          85,
          38,
          9,
          17,
          18,
          47,
          10,
          42,
          19,
          6,
          20,
          13,
          211,
          29,
          10,
          19,
          15,
          46,
          11,
          10,
          39,
          63,
          24,
          33,
          75,
          38,
          10,
          11,
          15,
          24,
          80,
          67,
          17,
          11,
          67,
          104,
          114,
          46,
          59,
          16,
          73,
          33,
          104,
          44,
          32,
          179,
          52,
          56,
          18,
          28,
          39,
          29,
          73,
          9,
          25,
          14,
          107,
          390,
          21,
          48,
          39,
          77,
          39,
          81,
          119,
          124,
          56,
          35,
          78,
          21,
          20,
          23,
          45,
          42,
          20,
          129,
          24,
          41,
          19,
          40,
          185,
          11,
          151,
          13,
          13,
          15,
          29,
          18,
          18,
          91,
          143,
          21,
          79,
          56,
          24,
          86,
          49,
          597,
          68,
          211,
          18,
          132,
          18,
          23,
          142,
          77,
          62,
          250,
          272,
          23,
          26,
          47,
          26,
          136,
          65,
          8,
          59,
          33,
          45,
          58,
          14,
          24,
          30,
          65,
          40,
          20,
          32,
          136,
          28,
          27,
          63,
          79,
          93,
          49,
          31,
          22,
          821,
          167,
          41,
          24,
          49,
          25,
          56,
          46,
          55,
          11,
          376,
          62,
          35,
          18,
          99,
          24,
          62,
          14,
          65,
          15,
          24,
          14,
          27,
          41,
          38,
          25,
          225,
          26,
          49,
          9,
          33,
          10,
          231,
          34,
          32,
          21,
          13,
          75,
          76,
          113,
          24,
          21,
          209,
          19,
          63,
          63,
          24,
          42,
          38,
          27,
          34,
          81,
          12,
          45,
          46,
          26,
          23,
          41,
          14,
          15,
          44,
          77,
          7,
          54,
          24,
          28,
          12,
          16,
          32,
          16,
          571,
          130,
          20,
          46,
          19,
          68,
          31,
          58,
          86,
          83,
          12,
          264,
          59,
          64,
          94,
          124,
          25,
          59,
          20,
          41,
          104,
          45,
          13,
          63,
          63,
          263,
          33,
          12,
          5,
          70,
          57,
          28,
          18,
          154,
          29,
          35,
          165,
          62,
          73,
          19,
          28,
          17,
          9,
          192,
          204,
          9,
          77,
          57,
          112,
          13,
          30,
          207,
          136,
          140,
          119,
          47,
          56,
          107,
          36,
          18,
          72,
          21,
          39,
          12,
          131,
          26,
          78,
          11,
          92,
          68,
          35,
          52,
          29,
          44,
          59,
          22,
          16,
          15,
          84,
          69,
          40,
          30,
          29,
          33,
          169,
          9,
          16,
          48
         ],
         "xaxis": "x",
         "yaxis": "y"
        }
       ],
       "layout": {
        "barmode": "relative",
        "height": 600,
        "legend": {
         "tracegroupgap": 0
        },
        "margin": {
         "t": 60
        },
        "template": {
         "data": {
          "bar": [
           {
            "error_x": {
             "color": "#2a3f5f"
            },
            "error_y": {
             "color": "#2a3f5f"
            },
            "marker": {
             "line": {
              "color": "#E5ECF6",
              "width": 0.5
             }
            },
            "type": "bar"
           }
          ],
          "barpolar": [
           {
            "marker": {
             "line": {
              "color": "#E5ECF6",
              "width": 0.5
             }
            },
            "type": "barpolar"
           }
          ],
          "carpet": [
           {
            "aaxis": {
             "endlinecolor": "#2a3f5f",
             "gridcolor": "white",
             "linecolor": "white",
             "minorgridcolor": "white",
             "startlinecolor": "#2a3f5f"
            },
            "baxis": {
             "endlinecolor": "#2a3f5f",
             "gridcolor": "white",
             "linecolor": "white",
             "minorgridcolor": "white",
             "startlinecolor": "#2a3f5f"
            },
            "type": "carpet"
           }
          ],
          "choropleth": [
           {
            "colorbar": {
             "outlinewidth": 0,
             "ticks": ""
            },
            "type": "choropleth"
           }
          ],
          "contour": [
           {
            "colorbar": {
             "outlinewidth": 0,
             "ticks": ""
            },
            "colorscale": [
             [
              0,
              "#0d0887"
             ],
             [
              0.1111111111111111,
              "#46039f"
             ],
             [
              0.2222222222222222,
              "#7201a8"
             ],
             [
              0.3333333333333333,
              "#9c179e"
             ],
             [
              0.4444444444444444,
              "#bd3786"
             ],
             [
              0.5555555555555556,
              "#d8576b"
             ],
             [
              0.6666666666666666,
              "#ed7953"
             ],
             [
              0.7777777777777778,
              "#fb9f3a"
             ],
             [
              0.8888888888888888,
              "#fdca26"
             ],
             [
              1,
              "#f0f921"
             ]
            ],
            "type": "contour"
           }
          ],
          "contourcarpet": [
           {
            "colorbar": {
             "outlinewidth": 0,
             "ticks": ""
            },
            "type": "contourcarpet"
           }
          ],
          "heatmap": [
           {
            "colorbar": {
             "outlinewidth": 0,
             "ticks": ""
            },
            "colorscale": [
             [
              0,
              "#0d0887"
             ],
             [
              0.1111111111111111,
              "#46039f"
             ],
             [
              0.2222222222222222,
              "#7201a8"
             ],
             [
              0.3333333333333333,
              "#9c179e"
             ],
             [
              0.4444444444444444,
              "#bd3786"
             ],
             [
              0.5555555555555556,
              "#d8576b"
             ],
             [
              0.6666666666666666,
              "#ed7953"
             ],
             [
              0.7777777777777778,
              "#fb9f3a"
             ],
             [
              0.8888888888888888,
              "#fdca26"
             ],
             [
              1,
              "#f0f921"
             ]
            ],
            "type": "heatmap"
           }
          ],
          "heatmapgl": [
           {
            "colorbar": {
             "outlinewidth": 0,
             "ticks": ""
            },
            "colorscale": [
             [
              0,
              "#0d0887"
             ],
             [
              0.1111111111111111,
              "#46039f"
             ],
             [
              0.2222222222222222,
              "#7201a8"
             ],
             [
              0.3333333333333333,
              "#9c179e"
             ],
             [
              0.4444444444444444,
              "#bd3786"
             ],
             [
              0.5555555555555556,
              "#d8576b"
             ],
             [
              0.6666666666666666,
              "#ed7953"
             ],
             [
              0.7777777777777778,
              "#fb9f3a"
             ],
             [
              0.8888888888888888,
              "#fdca26"
             ],
             [
              1,
              "#f0f921"
             ]
            ],
            "type": "heatmapgl"
           }
          ],
          "histogram": [
           {
            "marker": {
             "colorbar": {
              "outlinewidth": 0,
              "ticks": ""
             }
            },
            "type": "histogram"
           }
          ],
          "histogram2d": [
           {
            "colorbar": {
             "outlinewidth": 0,
             "ticks": ""
            },
            "colorscale": [
             [
              0,
              "#0d0887"
             ],
             [
              0.1111111111111111,
              "#46039f"
             ],
             [
              0.2222222222222222,
              "#7201a8"
             ],
             [
              0.3333333333333333,
              "#9c179e"
             ],
             [
              0.4444444444444444,
              "#bd3786"
             ],
             [
              0.5555555555555556,
              "#d8576b"
             ],
             [
              0.6666666666666666,
              "#ed7953"
             ],
             [
              0.7777777777777778,
              "#fb9f3a"
             ],
             [
              0.8888888888888888,
              "#fdca26"
             ],
             [
              1,
              "#f0f921"
             ]
            ],
            "type": "histogram2d"
           }
          ],
          "histogram2dcontour": [
           {
            "colorbar": {
             "outlinewidth": 0,
             "ticks": ""
            },
            "colorscale": [
             [
              0,
              "#0d0887"
             ],
             [
              0.1111111111111111,
              "#46039f"
             ],
             [
              0.2222222222222222,
              "#7201a8"
             ],
             [
              0.3333333333333333,
              "#9c179e"
             ],
             [
              0.4444444444444444,
              "#bd3786"
             ],
             [
              0.5555555555555556,
              "#d8576b"
             ],
             [
              0.6666666666666666,
              "#ed7953"
             ],
             [
              0.7777777777777778,
              "#fb9f3a"
             ],
             [
              0.8888888888888888,
              "#fdca26"
             ],
             [
              1,
              "#f0f921"
             ]
            ],
            "type": "histogram2dcontour"
           }
          ],
          "mesh3d": [
           {
            "colorbar": {
             "outlinewidth": 0,
             "ticks": ""
            },
            "type": "mesh3d"
           }
          ],
          "parcoords": [
           {
            "line": {
             "colorbar": {
              "outlinewidth": 0,
              "ticks": ""
             }
            },
            "type": "parcoords"
           }
          ],
          "pie": [
           {
            "automargin": true,
            "type": "pie"
           }
          ],
          "scatter": [
           {
            "marker": {
             "colorbar": {
              "outlinewidth": 0,
              "ticks": ""
             }
            },
            "type": "scatter"
           }
          ],
          "scatter3d": [
           {
            "line": {
             "colorbar": {
              "outlinewidth": 0,
              "ticks": ""
             }
            },
            "marker": {
             "colorbar": {
              "outlinewidth": 0,
              "ticks": ""
             }
            },
            "type": "scatter3d"
           }
          ],
          "scattercarpet": [
           {
            "marker": {
             "colorbar": {
              "outlinewidth": 0,
              "ticks": ""
             }
            },
            "type": "scattercarpet"
           }
          ],
          "scattergeo": [
           {
            "marker": {
             "colorbar": {
              "outlinewidth": 0,
              "ticks": ""
             }
            },
            "type": "scattergeo"
           }
          ],
          "scattergl": [
           {
            "marker": {
             "colorbar": {
              "outlinewidth": 0,
              "ticks": ""
             }
            },
            "type": "scattergl"
           }
          ],
          "scattermapbox": [
           {
            "marker": {
             "colorbar": {
              "outlinewidth": 0,
              "ticks": ""
             }
            },
            "type": "scattermapbox"
           }
          ],
          "scatterpolar": [
           {
            "marker": {
             "colorbar": {
              "outlinewidth": 0,
              "ticks": ""
             }
            },
            "type": "scatterpolar"
           }
          ],
          "scatterpolargl": [
           {
            "marker": {
             "colorbar": {
              "outlinewidth": 0,
              "ticks": ""
             }
            },
            "type": "scatterpolargl"
           }
          ],
          "scatterternary": [
           {
            "marker": {
             "colorbar": {
              "outlinewidth": 0,
              "ticks": ""
             }
            },
            "type": "scatterternary"
           }
          ],
          "surface": [
           {
            "colorbar": {
             "outlinewidth": 0,
             "ticks": ""
            },
            "colorscale": [
             [
              0,
              "#0d0887"
             ],
             [
              0.1111111111111111,
              "#46039f"
             ],
             [
              0.2222222222222222,
              "#7201a8"
             ],
             [
              0.3333333333333333,
              "#9c179e"
             ],
             [
              0.4444444444444444,
              "#bd3786"
             ],
             [
              0.5555555555555556,
              "#d8576b"
             ],
             [
              0.6666666666666666,
              "#ed7953"
             ],
             [
              0.7777777777777778,
              "#fb9f3a"
             ],
             [
              0.8888888888888888,
              "#fdca26"
             ],
             [
              1,
              "#f0f921"
             ]
            ],
            "type": "surface"
           }
          ],
          "table": [
           {
            "cells": {
             "fill": {
              "color": "#EBF0F8"
             },
             "line": {
              "color": "white"
             }
            },
            "header": {
             "fill": {
              "color": "#C8D4E3"
             },
             "line": {
              "color": "white"
             }
            },
            "type": "table"
           }
          ]
         },
         "layout": {
          "annotationdefaults": {
           "arrowcolor": "#2a3f5f",
           "arrowhead": 0,
           "arrowwidth": 1
          },
          "autotypenumbers": "strict",
          "coloraxis": {
           "colorbar": {
            "outlinewidth": 0,
            "ticks": ""
           }
          },
          "colorscale": {
           "diverging": [
            [
             0,
             "#8e0152"
            ],
            [
             0.1,
             "#c51b7d"
            ],
            [
             0.2,
             "#de77ae"
            ],
            [
             0.3,
             "#f1b6da"
            ],
            [
             0.4,
             "#fde0ef"
            ],
            [
             0.5,
             "#f7f7f7"
            ],
            [
             0.6,
             "#e6f5d0"
            ],
            [
             0.7,
             "#b8e186"
            ],
            [
             0.8,
             "#7fbc41"
            ],
            [
             0.9,
             "#4d9221"
            ],
            [
             1,
             "#276419"
            ]
           ],
           "sequential": [
            [
             0,
             "#0d0887"
            ],
            [
             0.1111111111111111,
             "#46039f"
            ],
            [
             0.2222222222222222,
             "#7201a8"
            ],
            [
             0.3333333333333333,
             "#9c179e"
            ],
            [
             0.4444444444444444,
             "#bd3786"
            ],
            [
             0.5555555555555556,
             "#d8576b"
            ],
            [
             0.6666666666666666,
             "#ed7953"
            ],
            [
             0.7777777777777778,
             "#fb9f3a"
            ],
            [
             0.8888888888888888,
             "#fdca26"
            ],
            [
             1,
             "#f0f921"
            ]
           ],
           "sequentialminus": [
            [
             0,
             "#0d0887"
            ],
            [
             0.1111111111111111,
             "#46039f"
            ],
            [
             0.2222222222222222,
             "#7201a8"
            ],
            [
             0.3333333333333333,
             "#9c179e"
            ],
            [
             0.4444444444444444,
             "#bd3786"
            ],
            [
             0.5555555555555556,
             "#d8576b"
            ],
            [
             0.6666666666666666,
             "#ed7953"
            ],
            [
             0.7777777777777778,
             "#fb9f3a"
            ],
            [
             0.8888888888888888,
             "#fdca26"
            ],
            [
             1,
             "#f0f921"
            ]
           ]
          },
          "colorway": [
           "#636efa",
           "#EF553B",
           "#00cc96",
           "#ab63fa",
           "#FFA15A",
           "#19d3f3",
           "#FF6692",
           "#B6E880",
           "#FF97FF",
           "#FECB52"
          ],
          "font": {
           "color": "#2a3f5f"
          },
          "geo": {
           "bgcolor": "white",
           "lakecolor": "white",
           "landcolor": "#E5ECF6",
           "showlakes": true,
           "showland": true,
           "subunitcolor": "white"
          },
          "hoverlabel": {
           "align": "left"
          },
          "hovermode": "closest",
          "mapbox": {
           "style": "light"
          },
          "paper_bgcolor": "white",
          "plot_bgcolor": "#E5ECF6",
          "polar": {
           "angularaxis": {
            "gridcolor": "white",
            "linecolor": "white",
            "ticks": ""
           },
           "bgcolor": "#E5ECF6",
           "radialaxis": {
            "gridcolor": "white",
            "linecolor": "white",
            "ticks": ""
           }
          },
          "scene": {
           "xaxis": {
            "backgroundcolor": "#E5ECF6",
            "gridcolor": "white",
            "gridwidth": 2,
            "linecolor": "white",
            "showbackground": true,
            "ticks": "",
            "zerolinecolor": "white"
           },
           "yaxis": {
            "backgroundcolor": "#E5ECF6",
            "gridcolor": "white",
            "gridwidth": 2,
            "linecolor": "white",
            "showbackground": true,
            "ticks": "",
            "zerolinecolor": "white"
           },
           "zaxis": {
            "backgroundcolor": "#E5ECF6",
            "gridcolor": "white",
            "gridwidth": 2,
            "linecolor": "white",
            "showbackground": true,
            "ticks": "",
            "zerolinecolor": "white"
           }
          },
          "shapedefaults": {
           "line": {
            "color": "#2a3f5f"
           }
          },
          "ternary": {
           "aaxis": {
            "gridcolor": "white",
            "linecolor": "white",
            "ticks": ""
           },
           "baxis": {
            "gridcolor": "white",
            "linecolor": "white",
            "ticks": ""
           },
           "bgcolor": "#E5ECF6",
           "caxis": {
            "gridcolor": "white",
            "linecolor": "white",
            "ticks": ""
           }
          },
          "title": {
           "x": 0.05
          },
          "xaxis": {
           "automargin": true,
           "gridcolor": "white",
           "linecolor": "white",
           "ticks": "",
           "title": {
            "standoff": 15
           },
           "zerolinecolor": "white",
           "zerolinewidth": 2
          },
          "yaxis": {
           "automargin": true,
           "gridcolor": "white",
           "linecolor": "white",
           "ticks": "",
           "title": {
            "standoff": 15
           },
           "zerolinecolor": "white",
           "zerolinewidth": 2
          }
         }
        },
        "title": {
         "text": "words distribution"
        },
        "width": 1000,
        "xaxis": {
         "anchor": "y",
         "domain": [
          0,
          1
         ],
         "title": {
          "text": ""
         }
        },
        "yaxis": {
         "anchor": "x",
         "domain": [
          0,
          1
         ],
         "title": {
          "text": ""
         }
        }
       }
      },
      "text/html": [
       "<div>                            <div id=\"297c7a8d-6ee2-448a-979a-ffd13e9b5594\" class=\"plotly-graph-div\" style=\"height:600px; width:1000px;\"></div>            <script type=\"text/javascript\">                require([\"plotly\"], function(Plotly) {                    window.PLOTLYENV=window.PLOTLYENV || {};                                    if (document.getElementById(\"297c7a8d-6ee2-448a-979a-ffd13e9b5594\")) {                    Plotly.newPlot(                        \"297c7a8d-6ee2-448a-979a-ffd13e9b5594\",                        [{\"alignmentgroup\": \"True\", \"bingroup\": \"x\", \"hovertemplate\": \"review_clean_length=%{x}<br>count=%{y}<extra></extra>\", \"legendgroup\": \"\", \"marker\": {\"color\": \"#636efa\"}, \"name\": \"\", \"offsetgroup\": \"\", \"orientation\": \"v\", \"showlegend\": false, \"type\": \"histogram\", \"x\": [7, 50, 34, 29, 42, 22, 17, 24, 170, 95, 10, 30, 103, 65, 130, 62, 199, 106, 116, 84, 58, 29, 54, 53, 27, 30, 19, 40, 26, 61, 31, 32, 20, 62, 37, 22, 17, 140, 64, 25, 25, 132, 76, 37, 57, 32, 97, 78, 40, 240, 62, 460, 12, 833, 16, 71, 37, 19, 40, 61, 30, 31, 57, 21, 219, 22, 21, 29, 62, 26, 22, 26, 68, 77, 57, 37, 25, 140, 19, 46, 78, 24, 49, 61, 10, 72, 147, 265, 79, 28, 138, 29, 39, 12, 108, 109, 30, 165, 10, 44, 65, 91, 14, 55, 40, 23, 40, 52, 21, 79, 26, 54, 70, 68, 37, 54, 19, 16, 11, 49, 46, 68, 52, 47, 11, 31, 12, 27, 26, 21, 125, 112, 56, 16, 21, 17, 55, 57, 46, 29, 50, 205, 34, 39, 106, 110, 58, 105, 44, 73, 32, 13, 16, 208, 71, 11, 37, 12, 48, 26, 190, 43, 23, 22, 49, 19, 91, 44, 36, 28, 96, 41, 52, 74, 34, 35, 46, 95, 16, 139, 27, 94, 47, 30, 22, 24, 83, 35, 16, 19, 19, 119, 163, 88, 89, 267, 12, 280, 39, 57, 99, 99, 27, 39, 24, 60, 15, 26, 194, 15, 32, 77, 64, 110, 29, 24, 141, 46, 12, 64, 35, 58, 457, 120, 26, 90, 62, 97, 32, 48, 104, 18, 64, 19, 15, 51, 46, 22, 76, 22, 15, 23, 19, 14, 81, 30, 111, 110, 85, 84, 34, 86, 25, 22, 91, 12, 132, 27, 27, 156, 52, 125, 111, 52, 164, 91, 33, 38, 51, 75, 24, 16, 311, 32, 89, 100, 102, 13, 14, 22, 28, 27, 93, 69, 14, 10, 15, 37, 22, 11, 42, 49, 30, 33, 10, 39, 14, 30, 20, 121, 50, 41, 21, 552, 93, 13, 34, 51, 17, 47, 30, 131, 22, 115, 20, 29, 48, 41, 35, 12, 35, 28, 174, 36, 77, 44, 163, 69, 365, 13, 18, 72, 139, 46, 28, 10, 16, 44, 33, 28, 28, 149, 186, 146, 14, 46, 40, 24, 14, 45, 42, 9, 32, 17, 21, 7, 23, 178, 11, 64, 13, 64, 16, 115, 55, 18, 66, 65, 108, 116, 139, 195, 14, 125, 94, 58, 150, 147, 16, 16, 33, 41, 44, 24, 20, 44, 19, 933, 66, 14, 168, 57, 7, 54, 36, 48, 47, 63, 51, 25, 72, 19, 39, 30, 7, 35, 20, 52, 47, 12, 44, 232, 63, 35, 36, 12, 71, 19, 249, 44, 116, 31, 344, 21, 10, 21, 32, 37, 25, 47, 18, 80, 93, 69, 51, 26, 70, 13, 151, 14, 32, 3, 18, 119, 24, 138, 55, 43, 76, 23, 24, 11, 17, 14, 9, 161, 391, 34, 25, 31, 127, 17, 42, 18, 29, 11, 49, 30, 70, 26, 72, 29, 84, 86, 184, 18, 19, 16, 114, 20, 28, 17, 37, 43, 71, 17, 57, 46, 37, 35, 31, 55, 8, 18, 94, 31, 80, 21, 34, 13, 90, 21, 563, 122, 37, 193, 22, 10, 45, 75, 55, 81, 21, 29, 52, 52, 43, 11, 32, 104, 45, 22, 79, 21, 18, 19, 14, 34, 50, 58, 137, 22, 12, 13, 110, 25, 44, 105, 88, 18, 20, 36, 46, 18, 210, 10, 13, 211, 27, 17, 39, 33, 14, 26, 15, 110, 38, 51, 130, 17, 35, 47, 232, 30, 26, 12, 44, 84, 30, 125, 39, 33, 51, 137, 20, 44, 14, 24, 217, 153, 46, 21, 48, 33, 79, 22, 27, 50, 29, 16, 65, 59, 21, 11, 43, 425, 69, 164, 17, 14, 14, 40, 19, 80, 292, 13, 26, 50, 10, 52, 14, 24, 101, 45, 9, 54, 45, 45, 104, 20, 22, 178, 42, 126, 56, 27, 30, 74, 60, 32, 20, 63, 45, 24, 67, 42, 56, 12, 11, 57, 47, 18, 16, 21, 23, 50, 120, 88, 115, 31, 117, 12, 73, 163, 55, 103, 17, 91, 235, 42, 84, 24, 32, 60, 100, 22, 381, 12, 29, 11, 29, 26, 32, 290, 75, 11, 58, 46, 20, 21, 21, 15, 47, 134, 57, 130, 86, 38, 48, 49, 39, 106, 40, 166, 15, 30, 36, 16, 55, 65, 58, 41, 55, 32, 45, 26, 51, 72, 73, 18, 475, 54, 35, 12, 60, 75, 18, 81, 88, 24, 26, 101, 13, 25, 29, 34, 74, 18, 28, 222, 18, 20, 38, 24, 96, 134, 116, 105, 14, 22, 185, 33, 13, 19, 57, 31, 62, 44, 31, 69, 31, 115, 13, 271, 29, 87, 59, 28, 48, 25, 12, 265, 42, 111, 20, 148, 20, 99, 13, 50, 31, 56, 28, 40, 13, 10, 39, 67, 142, 12, 32, 21, 13, 73, 118, 31, 110, 26, 117, 59, 32, 31, 30, 63, 14, 177, 36, 42, 30, 30, 73, 10, 64, 48, 22, 29, 46, 36, 40, 15, 104, 17, 32, 41, 32, 33, 67, 84, 12, 139, 81, 26, 71, 10, 204, 50, 25, 50, 133, 63, 57, 78, 113, 128, 21, 22, 13, 28, 55, 29, 63, 123, 97, 124, 42, 17, 108, 139, 16, 51, 24, 189, 27, 19, 98, 17, 23, 25, 46, 18, 27, 18, 69, 21, 22, 69, 9, 29, 32, 82, 29, 11, 82, 62, 19, 16, 29, 22, 20, 29, 35, 23, 22, 66, 57, 32, 183, 105, 51, 67, 38, 72, 38, 31, 137, 70, 80, 54, 13, 13, 156, 9, 26, 13, 86, 100, 205, 538, 15, 46, 15, 13, 33, 33, 28, 24, 39, 19, 26, 31, 34, 22, 42, 30, 17, 41, 25, 26, 11, 14, 88, 37, 41, 7, 15, 15, 196, 31, 13, 36, 25, 15, 48, 32, 66, 12, 28, 9, 125, 61, 143, 11, 26, 15, 78, 163, 115, 22, 152, 159, 222, 34, 17, 106, 63, 40, 34, 20, 38, 17, 26, 11, 37, 23, 78, 86, 205, 59, 22, 13, 143, 14, 15, 32, 41, 36, 34, 17, 22, 47, 76, 70, 9, 23, 61, 16, 15, 84, 29, 18, 28, 80, 260, 6, 40, 90, 28, 73, 16, 14, 104, 51, 38, 18, 158, 18, 50, 38, 13, 66, 40, 23, 34, 67, 44, 64, 1061, 18, 184, 43, 62, 130, 24, 166, 86, 7, 15, 14, 52, 74, 17, 42, 36, 32, 16, 34, 40, 52, 30, 120, 15, 23, 137, 30, 6, 9, 196, 70, 52, 81, 86, 16, 86, 26, 23, 56, 36, 17, 29, 32, 55, 84, 13, 57, 27, 154, 96, 14, 20, 34, 68, 34, 42, 20, 8, 25, 28, 70, 11, 194, 70, 99, 73, 36, 29, 17, 138, 134, 252, 94, 30, 19, 23, 84, 94, 10, 69, 29, 51, 23, 24, 74, 21, 40, 67, 16, 19, 28, 63, 8, 36, 42, 123, 102, 83, 31, 34, 31, 56, 16, 55, 87, 29, 33, 66, 14, 60, 136, 68, 27, 97, 18, 24, 47, 24, 29, 22, 47, 72, 47, 48, 23, 29, 57, 35, 82, 78, 383, 44, 26, 32, 99, 64, 25, 39, 57, 103, 53, 27, 37, 24, 87, 81, 249, 31, 125, 30, 45, 109, 32, 24, 71, 20, 177, 16, 115, 20, 14, 51, 12, 17, 109, 15, 20, 38, 58, 38, 19, 57, 23, 26, 32, 29, 23, 18, 9, 52, 32, 9, 43, 25, 91, 22, 15, 21, 12, 81, 61, 47, 11, 55, 37, 22, 59, 10, 76, 27, 28, 384, 37, 200, 412, 72, 39, 28, 30, 17, 31, 26, 49, 33, 85, 60, 107, 55, 34, 11, 65, 60, 13, 40, 90, 9, 115, 58, 19, 25, 18, 80, 35, 13, 36, 156, 23, 82, 15, 63, 54, 88, 50, 14, 13, 10, 85, 38, 87, 16, 142, 18, 39, 25, 13, 17, 56, 9, 13, 125, 31, 95, 72, 25, 140, 22, 92, 124, 53, 86, 10, 22, 14, 117, 25, 203, 104, 22, 95, 20, 60, 90, 186, 29, 197, 34, 97, 132, 26, 13, 17, 93, 21, 45, 75, 22, 21, 55, 94, 21, 39, 52, 320, 56, 9, 59, 30, 105, 30, 61, 45, 37, 12, 19, 15, 28, 9, 53, 116, 34, 61, 19, 114, 28, 40, 14, 11, 59, 13, 9, 24, 27, 58, 9, 187, 58, 86, 19, 75, 47, 66, 25, 190, 174, 45, 28, 79, 41, 18, 24, 17, 43, 93, 12, 28, 23, 22, 18, 29, 17, 29, 76, 31, 49, 97, 50, 17, 49, 50, 18, 36, 28, 169, 47, 13, 36, 246, 210, 64, 12, 16, 61, 73, 58, 19, 33, 13, 54, 132, 7, 19, 43, 227, 16, 79, 50, 61, 102, 19, 67, 12, 96, 21, 12, 289, 92, 223, 20, 87, 37, 38, 256, 33, 42, 20, 18, 123, 20, 13, 95, 30, 45, 116, 38, 82, 26, 9, 16, 52, 15, 29, 24, 71, 16, 24, 44, 27, 13, 20, 41, 29, 69, 13, 58, 143, 34, 44, 143, 16, 88, 104, 71, 21, 25, 54, 24, 15, 189, 50, 32, 165, 53, 27, 57, 98, 36, 30, 46, 76, 13, 56, 39, 21, 11, 19, 52, 172, 16, 29, 79, 20, 32, 31, 13, 70, 50, 50, 42, 20, 44, 37, 53, 31, 371, 62, 41, 303, 62, 21, 23, 15, 63, 280, 16, 17, 26, 21, 39, 560, 71, 20, 134, 44, 26, 30, 29, 23, 67, 44, 112, 144, 14, 59, 24, 26, 190, 16, 40, 19, 35, 32, 93, 124, 50, 56, 348, 27, 35, 175, 51, 23, 62, 21, 47, 11, 12, 14, 14, 104, 66, 418, 28, 16, 38, 536, 48, 21, 70, 63, 36, 23, 191, 72, 33, 16, 122, 134, 44, 26, 22, 14, 45, 44, 25, 138, 170, 11, 14, 30, 14, 38, 28, 31, 12, 15, 165, 28, 21, 398, 262, 148, 20, 17, 94, 16, 49, 18, 68, 17, 38, 11, 300, 27, 15, 81, 61, 11, 33, 22, 44, 28, 34, 15, 35, 38, 108, 40, 132, 117, 19, 45, 39, 59, 101, 62, 47, 97, 53, 20, 53, 89, 94, 46, 89, 54, 132, 135, 350, 30, 34, 20, 25, 39, 22, 188, 119, 20, 19, 34, 12, 19, 52, 26, 24, 101, 51, 52, 22, 23, 97, 16, 15, 63, 55, 17, 38, 11, 49, 24, 60, 81, 32, 204, 22, 24, 19, 179, 57, 76, 40, 34, 15, 42, 28, 31, 99, 72, 13, 31, 16, 171, 37, 20, 32, 107, 107, 94, 28, 120, 82, 27, 48, 29, 17, 28, 21, 78, 229, 25, 28, 52, 34, 32, 40, 533, 114, 18, 38, 128, 125, 16, 60, 19, 47, 39, 101, 30, 79, 13, 22, 40, 54, 50, 81, 21, 11, 116, 46, 166, 14, 45, 20, 455, 119, 65, 13, 12, 25, 156, 21, 26, 109, 25, 96, 26, 43, 15, 278, 62, 15, 28, 330, 83, 176, 58, 71, 93, 68, 159, 42, 17, 50, 25, 28, 33, 254, 36, 104, 156, 180, 32, 63, 14, 25, 15, 141, 443, 38, 87, 35, 106, 12, 59, 18, 25, 10, 275, 29, 31, 25, 30, 18, 88, 103, 58, 51, 16, 53, 34, 41, 41, 22, 78, 32, 490, 42, 14, 49, 127, 22, 19, 31, 24, 57, 130, 55, 19, 140, 26, 40, 15, 237, 179, 193, 36, 62, 27, 56, 30, 33, 126, 14, 74, 13, 54, 38, 14, 14, 49, 31, 117, 24, 14, 42, 37, 28, 25, 55, 92, 44, 81, 24, 35, 77, 28, 57, 37, 20, 229, 87, 124, 17, 69, 57, 35, 67, 16, 91, 41, 47, 150, 67, 31, 33, 16, 20, 30, 35, 46, 241, 38, 57, 65, 53, 30, 51, 45, 19, 89, 36, 32, 75, 36, 20, 28, 19, 43, 32, 38, 13, 58, 19, 28, 66, 34, 55, 9, 62, 45, 320, 13, 18, 15, 25, 10, 57, 41, 114, 82, 13, 12, 10, 30, 22, 62, 76, 83, 12, 46, 51, 19, 281, 266, 27, 45, 13, 26, 35, 145, 57, 33, 34, 17, 25, 59, 22, 29, 377, 47, 24, 31, 81, 32, 47, 99, 256, 98, 51, 8, 95, 222, 58, 69, 300, 19, 10, 34, 23, 15, 28, 61, 25, 40, 48, 143, 141, 73, 30, 19, 174, 32, 363, 53, 39, 31, 19, 12, 17, 13, 19, 61, 33, 64, 51, 40, 14, 12, 81, 31, 12, 16, 30, 31, 131, 26, 128, 30, 16, 19, 89, 306, 28, 22, 66, 199, 73, 65, 49, 132, 60, 16, 212, 268, 30, 173, 113, 19, 22, 33, 81, 17, 40, 25, 81, 183, 105, 22, 29, 27, 11, 194, 25, 102, 11, 66, 182, 70, 12, 163, 27, 94, 51, 22, 12, 59, 59, 139, 41, 57, 11, 46, 45, 17, 146, 91, 85, 36, 126, 109, 35, 129, 12, 193, 25, 19, 36, 42, 19, 84, 32, 107, 17, 18, 23, 96, 67, 27, 36, 76, 22, 25, 15, 29, 17, 16, 18, 19, 29, 74, 15, 94, 25, 16, 108, 110, 64, 16, 53, 43, 63, 48, 81, 47, 30, 32, 13, 14, 68, 73, 43, 198, 150, 14, 15, 12, 38, 121, 10, 13, 94, 43, 119, 25, 44, 61, 19, 34, 36, 43, 201, 106, 30, 58, 11, 54, 52, 65, 40, 91, 163, 59, 63, 18, 117, 31, 32, 23, 22, 49, 18, 130, 73, 26, 68, 247, 19, 25, 34, 10, 69, 12, 28, 22, 84, 231, 17, 14, 63, 49, 122, 43, 56, 31, 26, 97, 16, 25, 17, 31, 439, 132, 32, 30, 17, 152, 54, 31, 68, 17, 43, 26, 53, 59, 29, 12, 23, 41, 46, 19, 104, 23, 12, 34, 50, 11, 17, 49, 12, 72, 57, 25, 14, 16, 110, 30, 112, 45, 26, 88, 17, 679, 27, 25, 18, 91, 18, 114, 29, 58, 51, 56, 12, 66, 59, 27, 22, 9, 28, 17, 159, 94, 50, 24, 23, 57, 100, 57, 15, 46, 51, 65, 68, 437, 274, 78, 30, 28, 46, 141, 16, 29, 65, 23, 67, 176, 49, 18, 70, 48, 6, 87, 10, 160, 76, 23, 77, 23, 249, 15, 256, 23, 356, 53, 65, 40, 30, 54, 78, 196, 264, 17, 43, 13, 21, 32, 38, 49, 123, 20, 33, 43, 14, 56, 49, 15, 217, 18, 20, 16, 10, 22, 56, 44, 83, 16, 26, 23, 170, 130, 56, 15, 19, 38, 11, 59, 14, 95, 62, 41, 39, 23, 38, 43, 32, 75, 113, 42, 41, 70, 140, 48, 13, 23, 331, 22, 59, 86, 91, 77, 129, 17, 15, 78, 259, 210, 113, 8, 24, 10, 33, 200, 44, 24, 37, 227, 39, 53, 86, 12, 36, 27, 71, 57, 31, 24, 26, 50, 50, 107, 144, 24, 13, 28, 33, 38, 20, 19, 16, 77, 120, 16, 47, 44, 24, 39, 19, 75, 7, 22, 28, 64, 7, 18, 12, 151, 176, 214, 149, 26, 459, 47, 64, 54, 123, 62, 123, 14, 18, 82, 102, 11, 54, 11, 81, 29, 39, 51, 38, 70, 38, 15, 37, 70, 33, 47, 22, 27, 80, 15, 24, 34, 65, 43, 259, 60, 29, 46, 14, 167, 19, 84, 17, 47, 36, 10, 48, 104, 51, 21, 28, 63, 19, 96, 40, 59, 43, 156, 41, 16, 112, 9, 3, 51, 201, 69, 127, 15, 31, 11, 93, 33, 27, 23, 25, 68, 120, 234, 10, 18, 12, 33, 114, 91, 26, 16, 49, 23, 48, 115, 42, 12, 26, 24, 42, 51, 35, 30, 32, 27, 370, 23, 17, 33, 14, 160, 49, 17, 49, 11, 32, 17, 37, 85, 56, 102, 101, 39, 41, 49, 260, 71, 31, 122, 53, 142, 66, 97, 15, 26, 23, 20, 12, 41, 46, 23, 68, 22, 16, 16, 20, 471, 54, 12, 23, 145, 89, 51, 45, 16, 80, 79, 72, 25, 177, 54, 102, 55, 20, 20, 6, 29, 44, 146, 99, 33, 82, 89, 23, 60, 27, 31, 23, 41, 41, 69, 69, 34, 32, 30, 60, 83, 72, 23, 33, 26, 74, 159, 62, 65, 34, 80, 29, 17, 21, 47, 32, 54, 88, 9, 91, 29, 95, 22, 21, 91, 39, 9, 86, 197, 57, 112, 40, 16, 19, 25, 45, 41, 43, 20, 15, 20, 15, 11, 52, 16, 16, 16, 282, 37, 5, 24, 23, 44, 28, 23, 49, 72, 379, 64, 60, 35, 66, 37, 66, 39, 97, 39, 65, 45, 13, 43, 307, 89, 14, 18, 126, 9, 207, 110, 26, 23, 89, 115, 89, 30, 35, 40, 25, 172, 17, 115, 36, 23, 130, 433, 22, 26, 118, 135, 122, 61, 200, 78, 27, 373, 36, 38, 11, 28, 6, 15, 437, 39, 23, 21, 66, 99, 101, 42, 268, 101, 52, 122, 23, 61, 96, 11, 31, 37, 70, 137, 22, 23, 40, 73, 58, 115, 78, 18, 430, 61, 28, 67, 75, 73, 131, 64, 148, 12, 36, 16, 33, 67, 28, 55, 30, 19, 19, 17, 75, 19, 33, 55, 57, 26, 33, 12, 55, 30, 72, 20, 99, 42, 28, 24, 166, 29, 51, 12, 18, 33, 143, 13, 18, 41, 146, 30, 28, 71, 23, 44, 42, 19, 51, 11, 88, 13, 51, 19, 69, 18, 33, 92, 140, 12, 69, 22, 70, 154, 85, 88, 38, 16, 12, 177, 14, 52, 79, 81, 7, 41, 21, 22, 16, 53, 23, 109, 135, 62, 107, 12, 61, 33, 52, 15, 14, 43, 49, 16, 51, 28, 14, 42, 48, 67, 74, 46, 309, 30, 91, 44, 5, 26, 22, 13, 30, 13, 264, 34, 20, 33, 73, 128, 35, 16, 9, 25, 12, 12, 11, 15, 13, 52, 20, 106, 24, 22, 43, 107, 21, 54, 30, 22, 171, 146, 87, 25, 39, 18, 81, 60, 115, 65, 68, 60, 17, 59, 13, 20, 213, 297, 160, 35, 61, 172, 279, 76, 229, 26, 40, 29, 48, 24, 114, 22, 311, 7, 68, 24, 70, 32, 20, 7, 28, 41, 47, 28, 38, 29, 46, 131, 11, 220, 18, 255, 18, 42, 73, 27, 585, 167, 96, 78, 14, 51, 71, 126, 53, 24, 14, 39, 46, 31, 41, 50, 179, 41, 100, 120, 18, 24, 31, 39, 29, 39, 54, 15, 289, 152, 72, 17, 56, 120, 18, 97, 39, 113, 13, 60, 23, 30, 97, 18, 12, 26, 112, 110, 27, 24, 20, 78, 26, 106, 88, 75, 31, 39, 20, 48, 49, 22, 25, 28, 17, 14, 20, 29, 107, 82, 15, 124, 49, 66, 62, 24, 10, 34, 19, 136, 51, 22, 15, 63, 57, 30, 14, 186, 23, 27, 23, 69, 13, 29, 54, 35, 38, 34, 17, 120, 21, 84, 131, 80, 57, 57, 39, 98, 22, 23, 83, 71, 43, 20, 149, 44, 53, 60, 41, 105, 16, 12, 100, 56, 35, 43, 74, 9, 29, 28, 51, 28, 101, 47, 70, 33, 18, 52, 64, 15, 28, 24, 70, 185, 473, 95, 25, 16, 73, 77, 16, 35, 57, 33, 20, 15, 9, 24, 85, 13, 86, 43, 37, 17, 77, 24, 61, 55, 30, 151, 13, 13, 36, 24, 20, 26, 51, 30, 58, 13, 20, 33, 226, 55, 18, 59, 38, 31, 88, 51, 62, 17, 205, 68, 207, 16, 38, 60, 13, 20, 16, 26, 37, 87, 39, 52, 96, 31, 5, 19, 117, 143, 71, 212, 70, 24, 55, 13, 7, 70, 19, 40, 15, 26, 179, 27, 27, 24, 84, 23, 43, 20, 103, 68, 48, 53, 46, 61, 33, 37, 17, 17, 34, 83, 93, 40, 269, 52, 14, 27, 47, 19, 20, 20, 34, 59, 41, 45, 59, 45, 15, 40, 45, 42, 33, 29, 34, 17, 23, 30, 14, 21, 64, 21, 83, 25, 20, 280, 89, 71, 58, 11, 88, 16, 198, 28, 16, 69, 11, 80, 61, 44, 41, 44, 15, 114, 51, 96, 28, 33, 129, 21, 205, 72, 72, 487, 81, 15, 55, 19, 17, 14, 20, 16, 43, 30, 22, 23, 128, 25, 85, 98, 31, 53, 167, 64, 150, 374, 21, 53, 51, 177, 84, 161, 21, 56, 115, 34, 30, 21, 51, 239, 10, 8, 83, 77, 29, 16, 142, 16, 83, 82, 22, 13, 13, 35, 97, 106, 30, 9, 30, 105, 74, 105, 55, 121, 10, 34, 12, 13, 365, 28, 36, 30, 10, 87, 60, 41, 59, 53, 97, 36, 68, 29, 18, 70, 54, 89, 45, 35, 36, 43, 39, 124, 38, 34, 31, 63, 102, 80, 10, 45, 170, 48, 221, 14, 14, 21, 204, 27, 337, 40, 71, 12, 46, 30, 17, 112, 68, 15, 23, 68, 41, 10, 41, 10, 38, 34, 45, 210, 14, 38, 71, 21, 11, 22, 26, 50, 43, 18, 74, 181, 24, 77, 27, 31, 90, 10, 25, 17, 21, 100, 62, 19, 21, 74, 14, 22, 39, 84, 32, 63, 12, 50, 156, 18, 64, 36, 16, 27, 31, 33, 30, 27, 15, 94, 19, 40, 463, 13, 47, 24, 52, 162, 63, 38, 317, 38, 53, 15, 16, 93, 39, 64, 101, 18, 55, 196, 262, 117, 43, 51, 10, 13, 33, 64, 19, 32, 27, 44, 36, 13, 21, 99, 15, 20, 28, 147, 39, 154, 13, 9, 21, 12, 61, 53, 32, 66, 19, 21, 238, 61, 51, 19, 20, 61, 9, 23, 529, 15, 139, 10, 16, 18, 54, 30, 16, 39, 71, 304, 64, 25, 164, 207, 36, 20, 20, 27, 141, 120, 19, 38, 41, 220, 23, 248, 29, 121, 52, 16, 33, 60, 34, 44, 61, 19, 40, 16, 85, 126, 13, 25, 53, 27, 16, 20, 25, 57, 32, 39, 38, 13, 599, 40, 38, 28, 27, 31, 56, 45, 18, 27, 54, 19, 45, 16, 64, 21, 157, 125, 76, 24, 8, 132, 38, 30, 154, 22, 122, 24, 38, 30, 20, 66, 23, 14, 30, 13, 22, 22, 10, 33, 50, 79, 110, 79, 33, 89, 36, 43, 21, 15, 15, 20, 85, 54, 45, 16, 7, 29, 27, 14, 43, 23, 41, 110, 29, 21, 43, 54, 56, 81, 55, 14, 19, 10, 32, 71, 132, 40, 47, 40, 34, 88, 120, 23, 109, 24, 71, 30, 35, 39, 27, 22, 17, 78, 48, 12, 218, 13, 75, 13, 83, 30, 14, 29, 12, 58, 31, 34, 117, 20, 69, 37, 20, 45, 99, 25, 208, 88, 52, 43, 13, 64, 22, 52, 74, 135, 86, 15, 59, 57, 27, 6, 9, 17, 46, 10, 140, 40, 39, 168, 115, 177, 85, 38, 9, 17, 18, 47, 10, 42, 19, 6, 20, 13, 211, 29, 10, 19, 15, 46, 11, 10, 39, 63, 24, 33, 75, 38, 10, 11, 15, 24, 80, 67, 17, 11, 67, 104, 114, 46, 59, 16, 73, 33, 104, 44, 32, 179, 52, 56, 18, 28, 39, 29, 73, 9, 25, 14, 107, 390, 21, 48, 39, 77, 39, 81, 119, 124, 56, 35, 78, 21, 20, 23, 45, 42, 20, 129, 24, 41, 19, 40, 185, 11, 151, 13, 13, 15, 29, 18, 18, 91, 143, 21, 79, 56, 24, 86, 49, 597, 68, 211, 18, 132, 18, 23, 142, 77, 62, 250, 272, 23, 26, 47, 26, 136, 65, 8, 59, 33, 45, 58, 14, 24, 30, 65, 40, 20, 32, 136, 28, 27, 63, 79, 93, 49, 31, 22, 821, 167, 41, 24, 49, 25, 56, 46, 55, 11, 376, 62, 35, 18, 99, 24, 62, 14, 65, 15, 24, 14, 27, 41, 38, 25, 225, 26, 49, 9, 33, 10, 231, 34, 32, 21, 13, 75, 76, 113, 24, 21, 209, 19, 63, 63, 24, 42, 38, 27, 34, 81, 12, 45, 46, 26, 23, 41, 14, 15, 44, 77, 7, 54, 24, 28, 12, 16, 32, 16, 571, 130, 20, 46, 19, 68, 31, 58, 86, 83, 12, 264, 59, 64, 94, 124, 25, 59, 20, 41, 104, 45, 13, 63, 63, 263, 33, 12, 5, 70, 57, 28, 18, 154, 29, 35, 165, 62, 73, 19, 28, 17, 9, 192, 204, 9, 77, 57, 112, 13, 30, 207, 136, 140, 119, 47, 56, 107, 36, 18, 72, 21, 39, 12, 131, 26, 78, 11, 92, 68, 35, 52, 29, 44, 59, 22, 16, 15, 84, 69, 40, 30, 29, 33, 169, 9, 16, 48], \"xaxis\": \"x\", \"yaxis\": \"y\"}],                        {\"barmode\": \"relative\", \"height\": 600, \"legend\": {\"tracegroupgap\": 0}, \"margin\": {\"t\": 60}, \"template\": {\"data\": {\"bar\": [{\"error_x\": {\"color\": \"#2a3f5f\"}, \"error_y\": {\"color\": \"#2a3f5f\"}, \"marker\": {\"line\": {\"color\": \"#E5ECF6\", \"width\": 0.5}}, \"type\": \"bar\"}], \"barpolar\": [{\"marker\": {\"line\": {\"color\": \"#E5ECF6\", \"width\": 0.5}}, \"type\": \"barpolar\"}], \"carpet\": [{\"aaxis\": {\"endlinecolor\": \"#2a3f5f\", \"gridcolor\": \"white\", \"linecolor\": \"white\", \"minorgridcolor\": \"white\", \"startlinecolor\": \"#2a3f5f\"}, \"baxis\": {\"endlinecolor\": \"#2a3f5f\", \"gridcolor\": \"white\", \"linecolor\": \"white\", \"minorgridcolor\": \"white\", \"startlinecolor\": \"#2a3f5f\"}, \"type\": \"carpet\"}], \"choropleth\": [{\"colorbar\": {\"outlinewidth\": 0, \"ticks\": \"\"}, \"type\": \"choropleth\"}], \"contour\": [{\"colorbar\": {\"outlinewidth\": 0, \"ticks\": \"\"}, \"colorscale\": [[0.0, \"#0d0887\"], [0.1111111111111111, \"#46039f\"], [0.2222222222222222, \"#7201a8\"], [0.3333333333333333, \"#9c179e\"], [0.4444444444444444, \"#bd3786\"], [0.5555555555555556, \"#d8576b\"], [0.6666666666666666, \"#ed7953\"], [0.7777777777777778, \"#fb9f3a\"], [0.8888888888888888, \"#fdca26\"], [1.0, \"#f0f921\"]], \"type\": \"contour\"}], \"contourcarpet\": [{\"colorbar\": {\"outlinewidth\": 0, \"ticks\": \"\"}, \"type\": \"contourcarpet\"}], \"heatmap\": [{\"colorbar\": {\"outlinewidth\": 0, \"ticks\": \"\"}, \"colorscale\": [[0.0, \"#0d0887\"], [0.1111111111111111, \"#46039f\"], [0.2222222222222222, \"#7201a8\"], [0.3333333333333333, \"#9c179e\"], [0.4444444444444444, \"#bd3786\"], [0.5555555555555556, \"#d8576b\"], [0.6666666666666666, \"#ed7953\"], [0.7777777777777778, \"#fb9f3a\"], [0.8888888888888888, \"#fdca26\"], [1.0, \"#f0f921\"]], \"type\": \"heatmap\"}], \"heatmapgl\": [{\"colorbar\": {\"outlinewidth\": 0, \"ticks\": \"\"}, \"colorscale\": [[0.0, \"#0d0887\"], [0.1111111111111111, \"#46039f\"], [0.2222222222222222, \"#7201a8\"], [0.3333333333333333, \"#9c179e\"], [0.4444444444444444, \"#bd3786\"], [0.5555555555555556, \"#d8576b\"], [0.6666666666666666, \"#ed7953\"], [0.7777777777777778, \"#fb9f3a\"], [0.8888888888888888, \"#fdca26\"], [1.0, \"#f0f921\"]], \"type\": \"heatmapgl\"}], \"histogram\": [{\"marker\": {\"colorbar\": {\"outlinewidth\": 0, \"ticks\": \"\"}}, \"type\": \"histogram\"}], \"histogram2d\": [{\"colorbar\": {\"outlinewidth\": 0, \"ticks\": \"\"}, \"colorscale\": [[0.0, \"#0d0887\"], [0.1111111111111111, \"#46039f\"], [0.2222222222222222, \"#7201a8\"], [0.3333333333333333, \"#9c179e\"], [0.4444444444444444, \"#bd3786\"], [0.5555555555555556, \"#d8576b\"], [0.6666666666666666, \"#ed7953\"], [0.7777777777777778, \"#fb9f3a\"], [0.8888888888888888, \"#fdca26\"], [1.0, \"#f0f921\"]], \"type\": \"histogram2d\"}], \"histogram2dcontour\": [{\"colorbar\": {\"outlinewidth\": 0, \"ticks\": \"\"}, \"colorscale\": [[0.0, \"#0d0887\"], [0.1111111111111111, \"#46039f\"], [0.2222222222222222, \"#7201a8\"], [0.3333333333333333, \"#9c179e\"], [0.4444444444444444, \"#bd3786\"], [0.5555555555555556, \"#d8576b\"], [0.6666666666666666, \"#ed7953\"], [0.7777777777777778, \"#fb9f3a\"], [0.8888888888888888, \"#fdca26\"], [1.0, \"#f0f921\"]], \"type\": \"histogram2dcontour\"}], \"mesh3d\": [{\"colorbar\": {\"outlinewidth\": 0, \"ticks\": \"\"}, \"type\": \"mesh3d\"}], \"parcoords\": [{\"line\": {\"colorbar\": {\"outlinewidth\": 0, \"ticks\": \"\"}}, \"type\": \"parcoords\"}], \"pie\": [{\"automargin\": true, \"type\": \"pie\"}], \"scatter\": [{\"marker\": {\"colorbar\": {\"outlinewidth\": 0, \"ticks\": \"\"}}, \"type\": \"scatter\"}], \"scatter3d\": [{\"line\": {\"colorbar\": {\"outlinewidth\": 0, \"ticks\": \"\"}}, \"marker\": {\"colorbar\": {\"outlinewidth\": 0, \"ticks\": \"\"}}, \"type\": \"scatter3d\"}], \"scattercarpet\": [{\"marker\": {\"colorbar\": {\"outlinewidth\": 0, \"ticks\": \"\"}}, \"type\": \"scattercarpet\"}], \"scattergeo\": [{\"marker\": {\"colorbar\": {\"outlinewidth\": 0, \"ticks\": \"\"}}, \"type\": \"scattergeo\"}], \"scattergl\": [{\"marker\": {\"colorbar\": {\"outlinewidth\": 0, \"ticks\": \"\"}}, \"type\": \"scattergl\"}], \"scattermapbox\": [{\"marker\": {\"colorbar\": {\"outlinewidth\": 0, \"ticks\": \"\"}}, \"type\": \"scattermapbox\"}], \"scatterpolar\": [{\"marker\": {\"colorbar\": {\"outlinewidth\": 0, \"ticks\": \"\"}}, \"type\": \"scatterpolar\"}], \"scatterpolargl\": [{\"marker\": {\"colorbar\": {\"outlinewidth\": 0, \"ticks\": \"\"}}, \"type\": \"scatterpolargl\"}], \"scatterternary\": [{\"marker\": {\"colorbar\": {\"outlinewidth\": 0, \"ticks\": \"\"}}, \"type\": \"scatterternary\"}], \"surface\": [{\"colorbar\": {\"outlinewidth\": 0, \"ticks\": \"\"}, \"colorscale\": [[0.0, \"#0d0887\"], [0.1111111111111111, \"#46039f\"], [0.2222222222222222, \"#7201a8\"], [0.3333333333333333, \"#9c179e\"], [0.4444444444444444, \"#bd3786\"], [0.5555555555555556, \"#d8576b\"], [0.6666666666666666, \"#ed7953\"], [0.7777777777777778, \"#fb9f3a\"], [0.8888888888888888, \"#fdca26\"], [1.0, \"#f0f921\"]], \"type\": \"surface\"}], \"table\": [{\"cells\": {\"fill\": {\"color\": \"#EBF0F8\"}, \"line\": {\"color\": \"white\"}}, \"header\": {\"fill\": {\"color\": \"#C8D4E3\"}, \"line\": {\"color\": \"white\"}}, \"type\": \"table\"}]}, \"layout\": {\"annotationdefaults\": {\"arrowcolor\": \"#2a3f5f\", \"arrowhead\": 0, \"arrowwidth\": 1}, \"autotypenumbers\": \"strict\", \"coloraxis\": {\"colorbar\": {\"outlinewidth\": 0, \"ticks\": \"\"}}, \"colorscale\": {\"diverging\": [[0, \"#8e0152\"], [0.1, \"#c51b7d\"], [0.2, \"#de77ae\"], [0.3, \"#f1b6da\"], [0.4, \"#fde0ef\"], [0.5, \"#f7f7f7\"], [0.6, \"#e6f5d0\"], [0.7, \"#b8e186\"], [0.8, \"#7fbc41\"], [0.9, \"#4d9221\"], [1, \"#276419\"]], \"sequential\": [[0.0, \"#0d0887\"], [0.1111111111111111, \"#46039f\"], [0.2222222222222222, \"#7201a8\"], [0.3333333333333333, \"#9c179e\"], [0.4444444444444444, \"#bd3786\"], [0.5555555555555556, \"#d8576b\"], [0.6666666666666666, \"#ed7953\"], [0.7777777777777778, \"#fb9f3a\"], [0.8888888888888888, \"#fdca26\"], [1.0, \"#f0f921\"]], \"sequentialminus\": [[0.0, \"#0d0887\"], [0.1111111111111111, \"#46039f\"], [0.2222222222222222, \"#7201a8\"], [0.3333333333333333, \"#9c179e\"], [0.4444444444444444, \"#bd3786\"], [0.5555555555555556, \"#d8576b\"], [0.6666666666666666, \"#ed7953\"], [0.7777777777777778, \"#fb9f3a\"], [0.8888888888888888, \"#fdca26\"], [1.0, \"#f0f921\"]]}, \"colorway\": [\"#636efa\", \"#EF553B\", \"#00cc96\", \"#ab63fa\", \"#FFA15A\", \"#19d3f3\", \"#FF6692\", \"#B6E880\", \"#FF97FF\", \"#FECB52\"], \"font\": {\"color\": \"#2a3f5f\"}, \"geo\": {\"bgcolor\": \"white\", \"lakecolor\": \"white\", \"landcolor\": \"#E5ECF6\", \"showlakes\": true, \"showland\": true, \"subunitcolor\": \"white\"}, \"hoverlabel\": {\"align\": \"left\"}, \"hovermode\": \"closest\", \"mapbox\": {\"style\": \"light\"}, \"paper_bgcolor\": \"white\", \"plot_bgcolor\": \"#E5ECF6\", \"polar\": {\"angularaxis\": {\"gridcolor\": \"white\", \"linecolor\": \"white\", \"ticks\": \"\"}, \"bgcolor\": \"#E5ECF6\", \"radialaxis\": {\"gridcolor\": \"white\", \"linecolor\": \"white\", \"ticks\": \"\"}}, \"scene\": {\"xaxis\": {\"backgroundcolor\": \"#E5ECF6\", \"gridcolor\": \"white\", \"gridwidth\": 2, \"linecolor\": \"white\", \"showbackground\": true, \"ticks\": \"\", \"zerolinecolor\": \"white\"}, \"yaxis\": {\"backgroundcolor\": \"#E5ECF6\", \"gridcolor\": \"white\", \"gridwidth\": 2, \"linecolor\": \"white\", \"showbackground\": true, \"ticks\": \"\", \"zerolinecolor\": \"white\"}, \"zaxis\": {\"backgroundcolor\": \"#E5ECF6\", \"gridcolor\": \"white\", \"gridwidth\": 2, \"linecolor\": \"white\", \"showbackground\": true, \"ticks\": \"\", \"zerolinecolor\": \"white\"}}, \"shapedefaults\": {\"line\": {\"color\": \"#2a3f5f\"}}, \"ternary\": {\"aaxis\": {\"gridcolor\": \"white\", \"linecolor\": \"white\", \"ticks\": \"\"}, \"baxis\": {\"gridcolor\": \"white\", \"linecolor\": \"white\", \"ticks\": \"\"}, \"bgcolor\": \"#E5ECF6\", \"caxis\": {\"gridcolor\": \"white\", \"linecolor\": \"white\", \"ticks\": \"\"}}, \"title\": {\"x\": 0.05}, \"xaxis\": {\"automargin\": true, \"gridcolor\": \"white\", \"linecolor\": \"white\", \"ticks\": \"\", \"title\": {\"standoff\": 15}, \"zerolinecolor\": \"white\", \"zerolinewidth\": 2}, \"yaxis\": {\"automargin\": true, \"gridcolor\": \"white\", \"linecolor\": \"white\", \"ticks\": \"\", \"title\": {\"standoff\": 15}, \"zerolinecolor\": \"white\", \"zerolinewidth\": 2}}}, \"title\": {\"text\": \"words distribution\"}, \"width\": 1000, \"xaxis\": {\"anchor\": \"y\", \"domain\": [0.0, 1.0], \"title\": {\"text\": \"\"}}, \"yaxis\": {\"anchor\": \"x\", \"domain\": [0.0, 1.0], \"title\": {\"text\": \"\"}}},                        {\"responsive\": true}                    ).then(function(){\n",
       "                            \n",
       "var gd = document.getElementById('297c7a8d-6ee2-448a-979a-ffd13e9b5594');\n",
       "var x = new MutationObserver(function (mutations, observer) {{\n",
       "        var display = window.getComputedStyle(gd).display;\n",
       "        if (!display || display === 'none') {{\n",
       "            console.log([gd, 'removed!']);\n",
       "            Plotly.purge(gd);\n",
       "            observer.disconnect();\n",
       "        }}\n",
       "}});\n",
       "\n",
       "// Listen for the removal of the full notebook cells\n",
       "var notebookContainer = gd.closest('#notebook-container');\n",
       "if (notebookContainer) {{\n",
       "    x.observe(notebookContainer, {childList: true});\n",
       "}}\n",
       "\n",
       "// Listen for the clearing of the current output cell\n",
       "var outputEl = gd.closest('.output');\n",
       "if (outputEl) {{\n",
       "    x.observe(outputEl, {childList: true});\n",
       "}}\n",
       "\n",
       "                        })                };                });            </script>        </div>"
      ]
     },
     "metadata": {},
     "output_type": "display_data"
    }
   ],
   "source": [
    "wordhist = npt.word_distribution(title='words distribution')\n",
    "wordhist.write_html(\"Resources/wordhistogram.html\")\n",
    "wordhist"
   ]
  },
  {
   "cell_type": "code",
   "execution_count": 19,
   "id": "balanced-brother",
   "metadata": {},
   "outputs": [
    {
     "name": "stderr",
     "output_type": "stream",
     "text": [
      "100%|███████████████████████████████████████████████████████████████████████████| 4004/4004 [00:00<00:00, 19813.70it/s]\n"
     ]
    },
    {
     "data": {
      "application/vnd.plotly.v1+json": {
       "config": {
        "plotlyServerURL": "https://plot.ly"
       },
       "data": [
        {
         "branchvalues": "total",
         "domain": {
          "x": [
           0,
           1
          ],
          "y": [
           0,
           1
          ]
         },
         "hovertemplate": "labels=%{label}<br>word_count=%{value}<br>parent=%{parent}<br>id=%{id}<extra></extra>",
         "ids": [
          "also",
          "around",
          "attraction",
          "back",
          "character",
          "child",
          "close",
          "come",
          "crowd",
          "enjoy",
          "even",
          "experience",
          "family",
          "fast",
          "first",
          "fun",
          "hour",
          "long",
          "lot",
          "many",
          "minute",
          "old",
          "pas",
          "people",
          "small",
          "staff",
          "still",
          "ticket",
          "want",
          "world"
         ],
         "labels": [
          "also",
          "around",
          "attraction",
          "back",
          "character",
          "child",
          "close",
          "come",
          "crowd",
          "enjoy",
          "even",
          "experience",
          "family",
          "fast",
          "first",
          "fun",
          "hour",
          "long",
          "lot",
          "many",
          "minute",
          "old",
          "pas",
          "people",
          "small",
          "staff",
          "still",
          "ticket",
          "want",
          "world"
         ],
         "name": "",
         "parents": [
          "",
          "",
          "",
          "",
          "",
          "",
          "",
          "",
          "",
          "",
          "",
          "",
          "",
          "",
          "",
          "",
          "",
          "",
          "",
          "",
          "",
          "",
          "",
          "",
          "",
          "",
          "",
          "",
          "",
          ""
         ],
         "type": "treemap",
         "values": [
          958,
          811,
          825,
          906,
          863,
          927,
          761,
          766,
          771,
          862,
          1040,
          952,
          716,
          885,
          823,
          950,
          849,
          1046,
          897,
          809,
          725,
          778,
          762,
          992,
          883,
          768,
          752,
          779,
          725,
          726
         ]
        }
       ],
       "layout": {
        "height": 600,
        "legend": {
         "tracegroupgap": 0
        },
        "margin": {
         "t": 60
        },
        "template": {
         "data": {
          "bar": [
           {
            "error_x": {
             "color": "#2a3f5f"
            },
            "error_y": {
             "color": "#2a3f5f"
            },
            "marker": {
             "line": {
              "color": "#E5ECF6",
              "width": 0.5
             }
            },
            "type": "bar"
           }
          ],
          "barpolar": [
           {
            "marker": {
             "line": {
              "color": "#E5ECF6",
              "width": 0.5
             }
            },
            "type": "barpolar"
           }
          ],
          "carpet": [
           {
            "aaxis": {
             "endlinecolor": "#2a3f5f",
             "gridcolor": "white",
             "linecolor": "white",
             "minorgridcolor": "white",
             "startlinecolor": "#2a3f5f"
            },
            "baxis": {
             "endlinecolor": "#2a3f5f",
             "gridcolor": "white",
             "linecolor": "white",
             "minorgridcolor": "white",
             "startlinecolor": "#2a3f5f"
            },
            "type": "carpet"
           }
          ],
          "choropleth": [
           {
            "colorbar": {
             "outlinewidth": 0,
             "ticks": ""
            },
            "type": "choropleth"
           }
          ],
          "contour": [
           {
            "colorbar": {
             "outlinewidth": 0,
             "ticks": ""
            },
            "colorscale": [
             [
              0,
              "#0d0887"
             ],
             [
              0.1111111111111111,
              "#46039f"
             ],
             [
              0.2222222222222222,
              "#7201a8"
             ],
             [
              0.3333333333333333,
              "#9c179e"
             ],
             [
              0.4444444444444444,
              "#bd3786"
             ],
             [
              0.5555555555555556,
              "#d8576b"
             ],
             [
              0.6666666666666666,
              "#ed7953"
             ],
             [
              0.7777777777777778,
              "#fb9f3a"
             ],
             [
              0.8888888888888888,
              "#fdca26"
             ],
             [
              1,
              "#f0f921"
             ]
            ],
            "type": "contour"
           }
          ],
          "contourcarpet": [
           {
            "colorbar": {
             "outlinewidth": 0,
             "ticks": ""
            },
            "type": "contourcarpet"
           }
          ],
          "heatmap": [
           {
            "colorbar": {
             "outlinewidth": 0,
             "ticks": ""
            },
            "colorscale": [
             [
              0,
              "#0d0887"
             ],
             [
              0.1111111111111111,
              "#46039f"
             ],
             [
              0.2222222222222222,
              "#7201a8"
             ],
             [
              0.3333333333333333,
              "#9c179e"
             ],
             [
              0.4444444444444444,
              "#bd3786"
             ],
             [
              0.5555555555555556,
              "#d8576b"
             ],
             [
              0.6666666666666666,
              "#ed7953"
             ],
             [
              0.7777777777777778,
              "#fb9f3a"
             ],
             [
              0.8888888888888888,
              "#fdca26"
             ],
             [
              1,
              "#f0f921"
             ]
            ],
            "type": "heatmap"
           }
          ],
          "heatmapgl": [
           {
            "colorbar": {
             "outlinewidth": 0,
             "ticks": ""
            },
            "colorscale": [
             [
              0,
              "#0d0887"
             ],
             [
              0.1111111111111111,
              "#46039f"
             ],
             [
              0.2222222222222222,
              "#7201a8"
             ],
             [
              0.3333333333333333,
              "#9c179e"
             ],
             [
              0.4444444444444444,
              "#bd3786"
             ],
             [
              0.5555555555555556,
              "#d8576b"
             ],
             [
              0.6666666666666666,
              "#ed7953"
             ],
             [
              0.7777777777777778,
              "#fb9f3a"
             ],
             [
              0.8888888888888888,
              "#fdca26"
             ],
             [
              1,
              "#f0f921"
             ]
            ],
            "type": "heatmapgl"
           }
          ],
          "histogram": [
           {
            "marker": {
             "colorbar": {
              "outlinewidth": 0,
              "ticks": ""
             }
            },
            "type": "histogram"
           }
          ],
          "histogram2d": [
           {
            "colorbar": {
             "outlinewidth": 0,
             "ticks": ""
            },
            "colorscale": [
             [
              0,
              "#0d0887"
             ],
             [
              0.1111111111111111,
              "#46039f"
             ],
             [
              0.2222222222222222,
              "#7201a8"
             ],
             [
              0.3333333333333333,
              "#9c179e"
             ],
             [
              0.4444444444444444,
              "#bd3786"
             ],
             [
              0.5555555555555556,
              "#d8576b"
             ],
             [
              0.6666666666666666,
              "#ed7953"
             ],
             [
              0.7777777777777778,
              "#fb9f3a"
             ],
             [
              0.8888888888888888,
              "#fdca26"
             ],
             [
              1,
              "#f0f921"
             ]
            ],
            "type": "histogram2d"
           }
          ],
          "histogram2dcontour": [
           {
            "colorbar": {
             "outlinewidth": 0,
             "ticks": ""
            },
            "colorscale": [
             [
              0,
              "#0d0887"
             ],
             [
              0.1111111111111111,
              "#46039f"
             ],
             [
              0.2222222222222222,
              "#7201a8"
             ],
             [
              0.3333333333333333,
              "#9c179e"
             ],
             [
              0.4444444444444444,
              "#bd3786"
             ],
             [
              0.5555555555555556,
              "#d8576b"
             ],
             [
              0.6666666666666666,
              "#ed7953"
             ],
             [
              0.7777777777777778,
              "#fb9f3a"
             ],
             [
              0.8888888888888888,
              "#fdca26"
             ],
             [
              1,
              "#f0f921"
             ]
            ],
            "type": "histogram2dcontour"
           }
          ],
          "mesh3d": [
           {
            "colorbar": {
             "outlinewidth": 0,
             "ticks": ""
            },
            "type": "mesh3d"
           }
          ],
          "parcoords": [
           {
            "line": {
             "colorbar": {
              "outlinewidth": 0,
              "ticks": ""
             }
            },
            "type": "parcoords"
           }
          ],
          "pie": [
           {
            "automargin": true,
            "type": "pie"
           }
          ],
          "scatter": [
           {
            "marker": {
             "colorbar": {
              "outlinewidth": 0,
              "ticks": ""
             }
            },
            "type": "scatter"
           }
          ],
          "scatter3d": [
           {
            "line": {
             "colorbar": {
              "outlinewidth": 0,
              "ticks": ""
             }
            },
            "marker": {
             "colorbar": {
              "outlinewidth": 0,
              "ticks": ""
             }
            },
            "type": "scatter3d"
           }
          ],
          "scattercarpet": [
           {
            "marker": {
             "colorbar": {
              "outlinewidth": 0,
              "ticks": ""
             }
            },
            "type": "scattercarpet"
           }
          ],
          "scattergeo": [
           {
            "marker": {
             "colorbar": {
              "outlinewidth": 0,
              "ticks": ""
             }
            },
            "type": "scattergeo"
           }
          ],
          "scattergl": [
           {
            "marker": {
             "colorbar": {
              "outlinewidth": 0,
              "ticks": ""
             }
            },
            "type": "scattergl"
           }
          ],
          "scattermapbox": [
           {
            "marker": {
             "colorbar": {
              "outlinewidth": 0,
              "ticks": ""
             }
            },
            "type": "scattermapbox"
           }
          ],
          "scatterpolar": [
           {
            "marker": {
             "colorbar": {
              "outlinewidth": 0,
              "ticks": ""
             }
            },
            "type": "scatterpolar"
           }
          ],
          "scatterpolargl": [
           {
            "marker": {
             "colorbar": {
              "outlinewidth": 0,
              "ticks": ""
             }
            },
            "type": "scatterpolargl"
           }
          ],
          "scatterternary": [
           {
            "marker": {
             "colorbar": {
              "outlinewidth": 0,
              "ticks": ""
             }
            },
            "type": "scatterternary"
           }
          ],
          "surface": [
           {
            "colorbar": {
             "outlinewidth": 0,
             "ticks": ""
            },
            "colorscale": [
             [
              0,
              "#0d0887"
             ],
             [
              0.1111111111111111,
              "#46039f"
             ],
             [
              0.2222222222222222,
              "#7201a8"
             ],
             [
              0.3333333333333333,
              "#9c179e"
             ],
             [
              0.4444444444444444,
              "#bd3786"
             ],
             [
              0.5555555555555556,
              "#d8576b"
             ],
             [
              0.6666666666666666,
              "#ed7953"
             ],
             [
              0.7777777777777778,
              "#fb9f3a"
             ],
             [
              0.8888888888888888,
              "#fdca26"
             ],
             [
              1,
              "#f0f921"
             ]
            ],
            "type": "surface"
           }
          ],
          "table": [
           {
            "cells": {
             "fill": {
              "color": "#EBF0F8"
             },
             "line": {
              "color": "white"
             }
            },
            "header": {
             "fill": {
              "color": "#C8D4E3"
             },
             "line": {
              "color": "white"
             }
            },
            "type": "table"
           }
          ]
         },
         "layout": {
          "annotationdefaults": {
           "arrowcolor": "#2a3f5f",
           "arrowhead": 0,
           "arrowwidth": 1
          },
          "autotypenumbers": "strict",
          "coloraxis": {
           "colorbar": {
            "outlinewidth": 0,
            "ticks": ""
           }
          },
          "colorscale": {
           "diverging": [
            [
             0,
             "#8e0152"
            ],
            [
             0.1,
             "#c51b7d"
            ],
            [
             0.2,
             "#de77ae"
            ],
            [
             0.3,
             "#f1b6da"
            ],
            [
             0.4,
             "#fde0ef"
            ],
            [
             0.5,
             "#f7f7f7"
            ],
            [
             0.6,
             "#e6f5d0"
            ],
            [
             0.7,
             "#b8e186"
            ],
            [
             0.8,
             "#7fbc41"
            ],
            [
             0.9,
             "#4d9221"
            ],
            [
             1,
             "#276419"
            ]
           ],
           "sequential": [
            [
             0,
             "#0d0887"
            ],
            [
             0.1111111111111111,
             "#46039f"
            ],
            [
             0.2222222222222222,
             "#7201a8"
            ],
            [
             0.3333333333333333,
             "#9c179e"
            ],
            [
             0.4444444444444444,
             "#bd3786"
            ],
            [
             0.5555555555555556,
             "#d8576b"
            ],
            [
             0.6666666666666666,
             "#ed7953"
            ],
            [
             0.7777777777777778,
             "#fb9f3a"
            ],
            [
             0.8888888888888888,
             "#fdca26"
            ],
            [
             1,
             "#f0f921"
            ]
           ],
           "sequentialminus": [
            [
             0,
             "#0d0887"
            ],
            [
             0.1111111111111111,
             "#46039f"
            ],
            [
             0.2222222222222222,
             "#7201a8"
            ],
            [
             0.3333333333333333,
             "#9c179e"
            ],
            [
             0.4444444444444444,
             "#bd3786"
            ],
            [
             0.5555555555555556,
             "#d8576b"
            ],
            [
             0.6666666666666666,
             "#ed7953"
            ],
            [
             0.7777777777777778,
             "#fb9f3a"
            ],
            [
             0.8888888888888888,
             "#fdca26"
            ],
            [
             1,
             "#f0f921"
            ]
           ]
          },
          "colorway": [
           "#636efa",
           "#EF553B",
           "#00cc96",
           "#ab63fa",
           "#FFA15A",
           "#19d3f3",
           "#FF6692",
           "#B6E880",
           "#FF97FF",
           "#FECB52"
          ],
          "font": {
           "color": "#2a3f5f"
          },
          "geo": {
           "bgcolor": "white",
           "lakecolor": "white",
           "landcolor": "#E5ECF6",
           "showlakes": true,
           "showland": true,
           "subunitcolor": "white"
          },
          "hoverlabel": {
           "align": "left"
          },
          "hovermode": "closest",
          "mapbox": {
           "style": "light"
          },
          "paper_bgcolor": "white",
          "plot_bgcolor": "#E5ECF6",
          "polar": {
           "angularaxis": {
            "gridcolor": "white",
            "linecolor": "white",
            "ticks": ""
           },
           "bgcolor": "#E5ECF6",
           "radialaxis": {
            "gridcolor": "white",
            "linecolor": "white",
            "ticks": ""
           }
          },
          "scene": {
           "xaxis": {
            "backgroundcolor": "#E5ECF6",
            "gridcolor": "white",
            "gridwidth": 2,
            "linecolor": "white",
            "showbackground": true,
            "ticks": "",
            "zerolinecolor": "white"
           },
           "yaxis": {
            "backgroundcolor": "#E5ECF6",
            "gridcolor": "white",
            "gridwidth": 2,
            "linecolor": "white",
            "showbackground": true,
            "ticks": "",
            "zerolinecolor": "white"
           },
           "zaxis": {
            "backgroundcolor": "#E5ECF6",
            "gridcolor": "white",
            "gridwidth": 2,
            "linecolor": "white",
            "showbackground": true,
            "ticks": "",
            "zerolinecolor": "white"
           }
          },
          "shapedefaults": {
           "line": {
            "color": "#2a3f5f"
           }
          },
          "ternary": {
           "aaxis": {
            "gridcolor": "white",
            "linecolor": "white",
            "ticks": ""
           },
           "baxis": {
            "gridcolor": "white",
            "linecolor": "white",
            "ticks": ""
           },
           "bgcolor": "#E5ECF6",
           "caxis": {
            "gridcolor": "white",
            "linecolor": "white",
            "ticks": ""
           }
          },
          "title": {
           "x": 0.05
          },
          "xaxis": {
           "automargin": true,
           "gridcolor": "white",
           "linecolor": "white",
           "ticks": "",
           "title": {
            "standoff": 15
           },
           "zerolinecolor": "white",
           "zerolinewidth": 2
          },
          "yaxis": {
           "automargin": true,
           "gridcolor": "white",
           "linecolor": "white",
           "ticks": "",
           "title": {
            "standoff": 15
           },
           "zerolinecolor": "white",
           "zerolinewidth": 2
          }
         }
        },
        "title": {
         "text": "Tree of Most Common Words"
        },
        "width": 1300
       }
      },
      "text/html": [
       "<div>                            <div id=\"6c322bda-4a0a-4b63-83b3-e3ccaa19e0a9\" class=\"plotly-graph-div\" style=\"height:600px; width:1300px;\"></div>            <script type=\"text/javascript\">                require([\"plotly\"], function(Plotly) {                    window.PLOTLYENV=window.PLOTLYENV || {};                                    if (document.getElementById(\"6c322bda-4a0a-4b63-83b3-e3ccaa19e0a9\")) {                    Plotly.newPlot(                        \"6c322bda-4a0a-4b63-83b3-e3ccaa19e0a9\",                        [{\"branchvalues\": \"total\", \"domain\": {\"x\": [0.0, 1.0], \"y\": [0.0, 1.0]}, \"hovertemplate\": \"labels=%{label}<br>word_count=%{value}<br>parent=%{parent}<br>id=%{id}<extra></extra>\", \"ids\": [\"also\", \"around\", \"attraction\", \"back\", \"character\", \"child\", \"close\", \"come\", \"crowd\", \"enjoy\", \"even\", \"experience\", \"family\", \"fast\", \"first\", \"fun\", \"hour\", \"long\", \"lot\", \"many\", \"minute\", \"old\", \"pas\", \"people\", \"small\", \"staff\", \"still\", \"ticket\", \"want\", \"world\"], \"labels\": [\"also\", \"around\", \"attraction\", \"back\", \"character\", \"child\", \"close\", \"come\", \"crowd\", \"enjoy\", \"even\", \"experience\", \"family\", \"fast\", \"first\", \"fun\", \"hour\", \"long\", \"lot\", \"many\", \"minute\", \"old\", \"pas\", \"people\", \"small\", \"staff\", \"still\", \"ticket\", \"want\", \"world\"], \"name\": \"\", \"parents\": [\"\", \"\", \"\", \"\", \"\", \"\", \"\", \"\", \"\", \"\", \"\", \"\", \"\", \"\", \"\", \"\", \"\", \"\", \"\", \"\", \"\", \"\", \"\", \"\", \"\", \"\", \"\", \"\", \"\", \"\"], \"type\": \"treemap\", \"values\": [958, 811, 825, 906, 863, 927, 761, 766, 771, 862, 1040, 952, 716, 885, 823, 950, 849, 1046, 897, 809, 725, 778, 762, 992, 883, 768, 752, 779, 725, 726]}],                        {\"height\": 600, \"legend\": {\"tracegroupgap\": 0}, \"margin\": {\"t\": 60}, \"template\": {\"data\": {\"bar\": [{\"error_x\": {\"color\": \"#2a3f5f\"}, \"error_y\": {\"color\": \"#2a3f5f\"}, \"marker\": {\"line\": {\"color\": \"#E5ECF6\", \"width\": 0.5}}, \"type\": \"bar\"}], \"barpolar\": [{\"marker\": {\"line\": {\"color\": \"#E5ECF6\", \"width\": 0.5}}, \"type\": \"barpolar\"}], \"carpet\": [{\"aaxis\": {\"endlinecolor\": \"#2a3f5f\", \"gridcolor\": \"white\", \"linecolor\": \"white\", \"minorgridcolor\": \"white\", \"startlinecolor\": \"#2a3f5f\"}, \"baxis\": {\"endlinecolor\": \"#2a3f5f\", \"gridcolor\": \"white\", \"linecolor\": \"white\", \"minorgridcolor\": \"white\", \"startlinecolor\": \"#2a3f5f\"}, \"type\": \"carpet\"}], \"choropleth\": [{\"colorbar\": {\"outlinewidth\": 0, \"ticks\": \"\"}, \"type\": \"choropleth\"}], \"contour\": [{\"colorbar\": {\"outlinewidth\": 0, \"ticks\": \"\"}, \"colorscale\": [[0.0, \"#0d0887\"], [0.1111111111111111, \"#46039f\"], [0.2222222222222222, \"#7201a8\"], [0.3333333333333333, \"#9c179e\"], [0.4444444444444444, \"#bd3786\"], [0.5555555555555556, \"#d8576b\"], [0.6666666666666666, \"#ed7953\"], [0.7777777777777778, \"#fb9f3a\"], [0.8888888888888888, \"#fdca26\"], [1.0, \"#f0f921\"]], \"type\": \"contour\"}], \"contourcarpet\": [{\"colorbar\": {\"outlinewidth\": 0, \"ticks\": \"\"}, \"type\": \"contourcarpet\"}], \"heatmap\": [{\"colorbar\": {\"outlinewidth\": 0, \"ticks\": \"\"}, \"colorscale\": [[0.0, \"#0d0887\"], [0.1111111111111111, \"#46039f\"], [0.2222222222222222, \"#7201a8\"], [0.3333333333333333, \"#9c179e\"], [0.4444444444444444, \"#bd3786\"], [0.5555555555555556, \"#d8576b\"], [0.6666666666666666, \"#ed7953\"], [0.7777777777777778, \"#fb9f3a\"], [0.8888888888888888, \"#fdca26\"], [1.0, \"#f0f921\"]], \"type\": \"heatmap\"}], \"heatmapgl\": [{\"colorbar\": {\"outlinewidth\": 0, \"ticks\": \"\"}, \"colorscale\": [[0.0, \"#0d0887\"], [0.1111111111111111, \"#46039f\"], [0.2222222222222222, \"#7201a8\"], [0.3333333333333333, \"#9c179e\"], [0.4444444444444444, \"#bd3786\"], [0.5555555555555556, \"#d8576b\"], [0.6666666666666666, \"#ed7953\"], [0.7777777777777778, \"#fb9f3a\"], [0.8888888888888888, \"#fdca26\"], [1.0, \"#f0f921\"]], \"type\": \"heatmapgl\"}], \"histogram\": [{\"marker\": {\"colorbar\": {\"outlinewidth\": 0, \"ticks\": \"\"}}, \"type\": \"histogram\"}], \"histogram2d\": [{\"colorbar\": {\"outlinewidth\": 0, \"ticks\": \"\"}, \"colorscale\": [[0.0, \"#0d0887\"], [0.1111111111111111, \"#46039f\"], [0.2222222222222222, \"#7201a8\"], [0.3333333333333333, \"#9c179e\"], [0.4444444444444444, \"#bd3786\"], [0.5555555555555556, \"#d8576b\"], [0.6666666666666666, \"#ed7953\"], [0.7777777777777778, \"#fb9f3a\"], [0.8888888888888888, \"#fdca26\"], [1.0, \"#f0f921\"]], \"type\": \"histogram2d\"}], \"histogram2dcontour\": [{\"colorbar\": {\"outlinewidth\": 0, \"ticks\": \"\"}, \"colorscale\": [[0.0, \"#0d0887\"], [0.1111111111111111, \"#46039f\"], [0.2222222222222222, \"#7201a8\"], [0.3333333333333333, \"#9c179e\"], [0.4444444444444444, \"#bd3786\"], [0.5555555555555556, \"#d8576b\"], [0.6666666666666666, \"#ed7953\"], [0.7777777777777778, \"#fb9f3a\"], [0.8888888888888888, \"#fdca26\"], [1.0, \"#f0f921\"]], \"type\": \"histogram2dcontour\"}], \"mesh3d\": [{\"colorbar\": {\"outlinewidth\": 0, \"ticks\": \"\"}, \"type\": \"mesh3d\"}], \"parcoords\": [{\"line\": {\"colorbar\": {\"outlinewidth\": 0, \"ticks\": \"\"}}, \"type\": \"parcoords\"}], \"pie\": [{\"automargin\": true, \"type\": \"pie\"}], \"scatter\": [{\"marker\": {\"colorbar\": {\"outlinewidth\": 0, \"ticks\": \"\"}}, \"type\": \"scatter\"}], \"scatter3d\": [{\"line\": {\"colorbar\": {\"outlinewidth\": 0, \"ticks\": \"\"}}, \"marker\": {\"colorbar\": {\"outlinewidth\": 0, \"ticks\": \"\"}}, \"type\": \"scatter3d\"}], \"scattercarpet\": [{\"marker\": {\"colorbar\": {\"outlinewidth\": 0, \"ticks\": \"\"}}, \"type\": \"scattercarpet\"}], \"scattergeo\": [{\"marker\": {\"colorbar\": {\"outlinewidth\": 0, \"ticks\": \"\"}}, \"type\": \"scattergeo\"}], \"scattergl\": [{\"marker\": {\"colorbar\": {\"outlinewidth\": 0, \"ticks\": \"\"}}, \"type\": \"scattergl\"}], \"scattermapbox\": [{\"marker\": {\"colorbar\": {\"outlinewidth\": 0, \"ticks\": \"\"}}, \"type\": \"scattermapbox\"}], \"scatterpolar\": [{\"marker\": {\"colorbar\": {\"outlinewidth\": 0, \"ticks\": \"\"}}, \"type\": \"scatterpolar\"}], \"scatterpolargl\": [{\"marker\": {\"colorbar\": {\"outlinewidth\": 0, \"ticks\": \"\"}}, \"type\": \"scatterpolargl\"}], \"scatterternary\": [{\"marker\": {\"colorbar\": {\"outlinewidth\": 0, \"ticks\": \"\"}}, \"type\": \"scatterternary\"}], \"surface\": [{\"colorbar\": {\"outlinewidth\": 0, \"ticks\": \"\"}, \"colorscale\": [[0.0, \"#0d0887\"], [0.1111111111111111, \"#46039f\"], [0.2222222222222222, \"#7201a8\"], [0.3333333333333333, \"#9c179e\"], [0.4444444444444444, \"#bd3786\"], [0.5555555555555556, \"#d8576b\"], [0.6666666666666666, \"#ed7953\"], [0.7777777777777778, \"#fb9f3a\"], [0.8888888888888888, \"#fdca26\"], [1.0, \"#f0f921\"]], \"type\": \"surface\"}], \"table\": [{\"cells\": {\"fill\": {\"color\": \"#EBF0F8\"}, \"line\": {\"color\": \"white\"}}, \"header\": {\"fill\": {\"color\": \"#C8D4E3\"}, \"line\": {\"color\": \"white\"}}, \"type\": \"table\"}]}, \"layout\": {\"annotationdefaults\": {\"arrowcolor\": \"#2a3f5f\", \"arrowhead\": 0, \"arrowwidth\": 1}, \"autotypenumbers\": \"strict\", \"coloraxis\": {\"colorbar\": {\"outlinewidth\": 0, \"ticks\": \"\"}}, \"colorscale\": {\"diverging\": [[0, \"#8e0152\"], [0.1, \"#c51b7d\"], [0.2, \"#de77ae\"], [0.3, \"#f1b6da\"], [0.4, \"#fde0ef\"], [0.5, \"#f7f7f7\"], [0.6, \"#e6f5d0\"], [0.7, \"#b8e186\"], [0.8, \"#7fbc41\"], [0.9, \"#4d9221\"], [1, \"#276419\"]], \"sequential\": [[0.0, \"#0d0887\"], [0.1111111111111111, \"#46039f\"], [0.2222222222222222, \"#7201a8\"], [0.3333333333333333, \"#9c179e\"], [0.4444444444444444, \"#bd3786\"], [0.5555555555555556, \"#d8576b\"], [0.6666666666666666, \"#ed7953\"], [0.7777777777777778, \"#fb9f3a\"], [0.8888888888888888, \"#fdca26\"], [1.0, \"#f0f921\"]], \"sequentialminus\": [[0.0, \"#0d0887\"], [0.1111111111111111, \"#46039f\"], [0.2222222222222222, \"#7201a8\"], [0.3333333333333333, \"#9c179e\"], [0.4444444444444444, \"#bd3786\"], [0.5555555555555556, \"#d8576b\"], [0.6666666666666666, \"#ed7953\"], [0.7777777777777778, \"#fb9f3a\"], [0.8888888888888888, \"#fdca26\"], [1.0, \"#f0f921\"]]}, \"colorway\": [\"#636efa\", \"#EF553B\", \"#00cc96\", \"#ab63fa\", \"#FFA15A\", \"#19d3f3\", \"#FF6692\", \"#B6E880\", \"#FF97FF\", \"#FECB52\"], \"font\": {\"color\": \"#2a3f5f\"}, \"geo\": {\"bgcolor\": \"white\", \"lakecolor\": \"white\", \"landcolor\": \"#E5ECF6\", \"showlakes\": true, \"showland\": true, \"subunitcolor\": \"white\"}, \"hoverlabel\": {\"align\": \"left\"}, \"hovermode\": \"closest\", \"mapbox\": {\"style\": \"light\"}, \"paper_bgcolor\": \"white\", \"plot_bgcolor\": \"#E5ECF6\", \"polar\": {\"angularaxis\": {\"gridcolor\": \"white\", \"linecolor\": \"white\", \"ticks\": \"\"}, \"bgcolor\": \"#E5ECF6\", \"radialaxis\": {\"gridcolor\": \"white\", \"linecolor\": \"white\", \"ticks\": \"\"}}, \"scene\": {\"xaxis\": {\"backgroundcolor\": \"#E5ECF6\", \"gridcolor\": \"white\", \"gridwidth\": 2, \"linecolor\": \"white\", \"showbackground\": true, \"ticks\": \"\", \"zerolinecolor\": \"white\"}, \"yaxis\": {\"backgroundcolor\": \"#E5ECF6\", \"gridcolor\": \"white\", \"gridwidth\": 2, \"linecolor\": \"white\", \"showbackground\": true, \"ticks\": \"\", \"zerolinecolor\": \"white\"}, \"zaxis\": {\"backgroundcolor\": \"#E5ECF6\", \"gridcolor\": \"white\", \"gridwidth\": 2, \"linecolor\": \"white\", \"showbackground\": true, \"ticks\": \"\", \"zerolinecolor\": \"white\"}}, \"shapedefaults\": {\"line\": {\"color\": \"#2a3f5f\"}}, \"ternary\": {\"aaxis\": {\"gridcolor\": \"white\", \"linecolor\": \"white\", \"ticks\": \"\"}, \"baxis\": {\"gridcolor\": \"white\", \"linecolor\": \"white\", \"ticks\": \"\"}, \"bgcolor\": \"#E5ECF6\", \"caxis\": {\"gridcolor\": \"white\", \"linecolor\": \"white\", \"ticks\": \"\"}}, \"title\": {\"x\": 0.05}, \"xaxis\": {\"automargin\": true, \"gridcolor\": \"white\", \"linecolor\": \"white\", \"ticks\": \"\", \"title\": {\"standoff\": 15}, \"zerolinecolor\": \"white\", \"zerolinewidth\": 2}, \"yaxis\": {\"automargin\": true, \"gridcolor\": \"white\", \"linecolor\": \"white\", \"ticks\": \"\", \"title\": {\"standoff\": 15}, \"zerolinecolor\": \"white\", \"zerolinewidth\": 2}}}, \"title\": {\"text\": \"Tree of Most Common Words\"}, \"width\": 1300},                        {\"responsive\": true}                    ).then(function(){\n",
       "                            \n",
       "var gd = document.getElementById('6c322bda-4a0a-4b63-83b3-e3ccaa19e0a9');\n",
       "var x = new MutationObserver(function (mutations, observer) {{\n",
       "        var display = window.getComputedStyle(gd).display;\n",
       "        if (!display || display === 'none') {{\n",
       "            console.log([gd, 'removed!']);\n",
       "            Plotly.purge(gd);\n",
       "            observer.disconnect();\n",
       "        }}\n",
       "}});\n",
       "\n",
       "// Listen for the removal of the full notebook cells\n",
       "var notebookContainer = gd.closest('#notebook-container');\n",
       "if (notebookContainer) {{\n",
       "    x.observe(notebookContainer, {childList: true});\n",
       "}}\n",
       "\n",
       "// Listen for the clearing of the current output cell\n",
       "var outputEl = gd.closest('.output');\n",
       "if (outputEl) {{\n",
       "    x.observe(outputEl, {childList: true});\n",
       "}}\n",
       "\n",
       "                        })                };                });            </script>        </div>"
      ]
     },
     "metadata": {},
     "output_type": "display_data"
    }
   ],
   "source": [
    "tree = npt.treemap(title='Tree of Most Common Words', ngram=1, top_n=30, stopwords=stopwords)\n",
    "tree.write_html(\"Resources/treemap.html\")\n",
    "tree"
   ]
  },
  {
   "cell_type": "code",
   "execution_count": 20,
   "id": "together-plastic",
   "metadata": {},
   "outputs": [
    {
     "name": "stderr",
     "output_type": "stream",
     "text": [
      "100%|███████████████████████████████████████████████████████████████████████████| 4004/4004 [00:00<00:00, 19301.22it/s]\n",
      "100%|███████████████████████████████████████████████████████████████████████████| 4004/4004 [00:00<00:00, 15147.81it/s]\n"
     ]
    },
    {
     "data": {
      "application/vnd.plotly.v1+json": {
       "config": {
        "plotlyServerURL": "https://plot.ly"
       },
       "data": [
        {
         "alignmentgroup": "True",
         "hovertemplate": "word_count=%{text}<br>word=%{y}<extra></extra>",
         "legendgroup": "",
         "marker": {},
         "name": "",
         "offsetgroup": "",
         "orientation": "h",
         "showlegend": false,
         "text": [
          49,
          50,
          50,
          50,
          50,
          52,
          52,
          53,
          53,
          53,
          54,
          54,
          55,
          56,
          57,
          64,
          75,
          76,
          76,
          78,
          86,
          87,
          89,
          92,
          93,
          95,
          98,
          98,
          100,
          102,
          104,
          104,
          107,
          111,
          114,
          125,
          127,
          134,
          138,
          159,
          160,
          190,
          199,
          202,
          220,
          232,
          265,
          316,
          336,
          425
         ],
         "textposition": "auto",
         "texttemplate": "%{text:.2s}",
         "type": "bar",
         "x": [
          49,
          50,
          50,
          50,
          50,
          52,
          52,
          53,
          53,
          53,
          54,
          54,
          55,
          56,
          57,
          64,
          75,
          76,
          76,
          78,
          86,
          87,
          89,
          92,
          93,
          95,
          98,
          98,
          100,
          102,
          104,
          104,
          107,
          111,
          114,
          125,
          127,
          134,
          138,
          159,
          160,
          190,
          199,
          202,
          220,
          232,
          265,
          316,
          336,
          425
         ],
         "xaxis": "x",
         "y": [
          "magic morning",
          "meet character",
          "single rider",
          "jungle cruise",
          "fast track",
          "tower terror",
          "old daughter",
          "firework display",
          "buy ticket",
          "early morning",
          "pas system",
          "walt studio",
          "attraction close",
          "customer service",
          "lot people",
          "lot fun",
          "staff friendly",
          "buzz lightyear",
          "small child",
          "magic kingdom",
          "star tour",
          "toy story",
          "mickey mouse",
          "many people",
          "splash mountain",
          "highly recommend",
          "stay hotel",
          "use fast",
          "peter pan",
          "walk around",
          "roller coaster",
          "haunt mansion",
          "lion king",
          "young child",
          "big thunder",
          "star war",
          "even though",
          "happy earth",
          "pirate caribbean",
          "thunder mountain",
          "come back",
          "indiana jones",
          "cast member",
          "main street",
          "california adventure",
          "small world",
          "fast pass",
          "hong kong",
          "space mountain",
          "fast pas"
         ],
         "yaxis": "y"
        }
       ],
       "layout": {
        "barmode": "relative",
        "height": 1100,
        "legend": {
         "tracegroupgap": 0
        },
        "margin": {
         "t": 60
        },
        "template": {
         "data": {
          "bar": [
           {
            "error_x": {
             "color": "#2a3f5f"
            },
            "error_y": {
             "color": "#2a3f5f"
            },
            "marker": {
             "line": {
              "color": "#E5ECF6",
              "width": 0.5
             }
            },
            "type": "bar"
           }
          ],
          "barpolar": [
           {
            "marker": {
             "line": {
              "color": "#E5ECF6",
              "width": 0.5
             }
            },
            "type": "barpolar"
           }
          ],
          "carpet": [
           {
            "aaxis": {
             "endlinecolor": "#2a3f5f",
             "gridcolor": "white",
             "linecolor": "white",
             "minorgridcolor": "white",
             "startlinecolor": "#2a3f5f"
            },
            "baxis": {
             "endlinecolor": "#2a3f5f",
             "gridcolor": "white",
             "linecolor": "white",
             "minorgridcolor": "white",
             "startlinecolor": "#2a3f5f"
            },
            "type": "carpet"
           }
          ],
          "choropleth": [
           {
            "colorbar": {
             "outlinewidth": 0,
             "ticks": ""
            },
            "type": "choropleth"
           }
          ],
          "contour": [
           {
            "colorbar": {
             "outlinewidth": 0,
             "ticks": ""
            },
            "colorscale": [
             [
              0,
              "#0d0887"
             ],
             [
              0.1111111111111111,
              "#46039f"
             ],
             [
              0.2222222222222222,
              "#7201a8"
             ],
             [
              0.3333333333333333,
              "#9c179e"
             ],
             [
              0.4444444444444444,
              "#bd3786"
             ],
             [
              0.5555555555555556,
              "#d8576b"
             ],
             [
              0.6666666666666666,
              "#ed7953"
             ],
             [
              0.7777777777777778,
              "#fb9f3a"
             ],
             [
              0.8888888888888888,
              "#fdca26"
             ],
             [
              1,
              "#f0f921"
             ]
            ],
            "type": "contour"
           }
          ],
          "contourcarpet": [
           {
            "colorbar": {
             "outlinewidth": 0,
             "ticks": ""
            },
            "type": "contourcarpet"
           }
          ],
          "heatmap": [
           {
            "colorbar": {
             "outlinewidth": 0,
             "ticks": ""
            },
            "colorscale": [
             [
              0,
              "#0d0887"
             ],
             [
              0.1111111111111111,
              "#46039f"
             ],
             [
              0.2222222222222222,
              "#7201a8"
             ],
             [
              0.3333333333333333,
              "#9c179e"
             ],
             [
              0.4444444444444444,
              "#bd3786"
             ],
             [
              0.5555555555555556,
              "#d8576b"
             ],
             [
              0.6666666666666666,
              "#ed7953"
             ],
             [
              0.7777777777777778,
              "#fb9f3a"
             ],
             [
              0.8888888888888888,
              "#fdca26"
             ],
             [
              1,
              "#f0f921"
             ]
            ],
            "type": "heatmap"
           }
          ],
          "heatmapgl": [
           {
            "colorbar": {
             "outlinewidth": 0,
             "ticks": ""
            },
            "colorscale": [
             [
              0,
              "#0d0887"
             ],
             [
              0.1111111111111111,
              "#46039f"
             ],
             [
              0.2222222222222222,
              "#7201a8"
             ],
             [
              0.3333333333333333,
              "#9c179e"
             ],
             [
              0.4444444444444444,
              "#bd3786"
             ],
             [
              0.5555555555555556,
              "#d8576b"
             ],
             [
              0.6666666666666666,
              "#ed7953"
             ],
             [
              0.7777777777777778,
              "#fb9f3a"
             ],
             [
              0.8888888888888888,
              "#fdca26"
             ],
             [
              1,
              "#f0f921"
             ]
            ],
            "type": "heatmapgl"
           }
          ],
          "histogram": [
           {
            "marker": {
             "colorbar": {
              "outlinewidth": 0,
              "ticks": ""
             }
            },
            "type": "histogram"
           }
          ],
          "histogram2d": [
           {
            "colorbar": {
             "outlinewidth": 0,
             "ticks": ""
            },
            "colorscale": [
             [
              0,
              "#0d0887"
             ],
             [
              0.1111111111111111,
              "#46039f"
             ],
             [
              0.2222222222222222,
              "#7201a8"
             ],
             [
              0.3333333333333333,
              "#9c179e"
             ],
             [
              0.4444444444444444,
              "#bd3786"
             ],
             [
              0.5555555555555556,
              "#d8576b"
             ],
             [
              0.6666666666666666,
              "#ed7953"
             ],
             [
              0.7777777777777778,
              "#fb9f3a"
             ],
             [
              0.8888888888888888,
              "#fdca26"
             ],
             [
              1,
              "#f0f921"
             ]
            ],
            "type": "histogram2d"
           }
          ],
          "histogram2dcontour": [
           {
            "colorbar": {
             "outlinewidth": 0,
             "ticks": ""
            },
            "colorscale": [
             [
              0,
              "#0d0887"
             ],
             [
              0.1111111111111111,
              "#46039f"
             ],
             [
              0.2222222222222222,
              "#7201a8"
             ],
             [
              0.3333333333333333,
              "#9c179e"
             ],
             [
              0.4444444444444444,
              "#bd3786"
             ],
             [
              0.5555555555555556,
              "#d8576b"
             ],
             [
              0.6666666666666666,
              "#ed7953"
             ],
             [
              0.7777777777777778,
              "#fb9f3a"
             ],
             [
              0.8888888888888888,
              "#fdca26"
             ],
             [
              1,
              "#f0f921"
             ]
            ],
            "type": "histogram2dcontour"
           }
          ],
          "mesh3d": [
           {
            "colorbar": {
             "outlinewidth": 0,
             "ticks": ""
            },
            "type": "mesh3d"
           }
          ],
          "parcoords": [
           {
            "line": {
             "colorbar": {
              "outlinewidth": 0,
              "ticks": ""
             }
            },
            "type": "parcoords"
           }
          ],
          "pie": [
           {
            "automargin": true,
            "type": "pie"
           }
          ],
          "scatter": [
           {
            "marker": {
             "colorbar": {
              "outlinewidth": 0,
              "ticks": ""
             }
            },
            "type": "scatter"
           }
          ],
          "scatter3d": [
           {
            "line": {
             "colorbar": {
              "outlinewidth": 0,
              "ticks": ""
             }
            },
            "marker": {
             "colorbar": {
              "outlinewidth": 0,
              "ticks": ""
             }
            },
            "type": "scatter3d"
           }
          ],
          "scattercarpet": [
           {
            "marker": {
             "colorbar": {
              "outlinewidth": 0,
              "ticks": ""
             }
            },
            "type": "scattercarpet"
           }
          ],
          "scattergeo": [
           {
            "marker": {
             "colorbar": {
              "outlinewidth": 0,
              "ticks": ""
             }
            },
            "type": "scattergeo"
           }
          ],
          "scattergl": [
           {
            "marker": {
             "colorbar": {
              "outlinewidth": 0,
              "ticks": ""
             }
            },
            "type": "scattergl"
           }
          ],
          "scattermapbox": [
           {
            "marker": {
             "colorbar": {
              "outlinewidth": 0,
              "ticks": ""
             }
            },
            "type": "scattermapbox"
           }
          ],
          "scatterpolar": [
           {
            "marker": {
             "colorbar": {
              "outlinewidth": 0,
              "ticks": ""
             }
            },
            "type": "scatterpolar"
           }
          ],
          "scatterpolargl": [
           {
            "marker": {
             "colorbar": {
              "outlinewidth": 0,
              "ticks": ""
             }
            },
            "type": "scatterpolargl"
           }
          ],
          "scatterternary": [
           {
            "marker": {
             "colorbar": {
              "outlinewidth": 0,
              "ticks": ""
             }
            },
            "type": "scatterternary"
           }
          ],
          "surface": [
           {
            "colorbar": {
             "outlinewidth": 0,
             "ticks": ""
            },
            "colorscale": [
             [
              0,
              "#0d0887"
             ],
             [
              0.1111111111111111,
              "#46039f"
             ],
             [
              0.2222222222222222,
              "#7201a8"
             ],
             [
              0.3333333333333333,
              "#9c179e"
             ],
             [
              0.4444444444444444,
              "#bd3786"
             ],
             [
              0.5555555555555556,
              "#d8576b"
             ],
             [
              0.6666666666666666,
              "#ed7953"
             ],
             [
              0.7777777777777778,
              "#fb9f3a"
             ],
             [
              0.8888888888888888,
              "#fdca26"
             ],
             [
              1,
              "#f0f921"
             ]
            ],
            "type": "surface"
           }
          ],
          "table": [
           {
            "cells": {
             "fill": {
              "color": "#EBF0F8"
             },
             "line": {
              "color": "white"
             }
            },
            "header": {
             "fill": {
              "color": "#C8D4E3"
             },
             "line": {
              "color": "white"
             }
            },
            "type": "table"
           }
          ]
         },
         "layout": {
          "annotationdefaults": {
           "arrowcolor": "#2a3f5f",
           "arrowhead": 0,
           "arrowwidth": 1
          },
          "autotypenumbers": "strict",
          "coloraxis": {
           "colorbar": {
            "outlinewidth": 0,
            "ticks": ""
           }
          },
          "colorscale": {
           "diverging": [
            [
             0,
             "#8e0152"
            ],
            [
             0.1,
             "#c51b7d"
            ],
            [
             0.2,
             "#de77ae"
            ],
            [
             0.3,
             "#f1b6da"
            ],
            [
             0.4,
             "#fde0ef"
            ],
            [
             0.5,
             "#f7f7f7"
            ],
            [
             0.6,
             "#e6f5d0"
            ],
            [
             0.7,
             "#b8e186"
            ],
            [
             0.8,
             "#7fbc41"
            ],
            [
             0.9,
             "#4d9221"
            ],
            [
             1,
             "#276419"
            ]
           ],
           "sequential": [
            [
             0,
             "#0d0887"
            ],
            [
             0.1111111111111111,
             "#46039f"
            ],
            [
             0.2222222222222222,
             "#7201a8"
            ],
            [
             0.3333333333333333,
             "#9c179e"
            ],
            [
             0.4444444444444444,
             "#bd3786"
            ],
            [
             0.5555555555555556,
             "#d8576b"
            ],
            [
             0.6666666666666666,
             "#ed7953"
            ],
            [
             0.7777777777777778,
             "#fb9f3a"
            ],
            [
             0.8888888888888888,
             "#fdca26"
            ],
            [
             1,
             "#f0f921"
            ]
           ],
           "sequentialminus": [
            [
             0,
             "#0d0887"
            ],
            [
             0.1111111111111111,
             "#46039f"
            ],
            [
             0.2222222222222222,
             "#7201a8"
            ],
            [
             0.3333333333333333,
             "#9c179e"
            ],
            [
             0.4444444444444444,
             "#bd3786"
            ],
            [
             0.5555555555555556,
             "#d8576b"
            ],
            [
             0.6666666666666666,
             "#ed7953"
            ],
            [
             0.7777777777777778,
             "#fb9f3a"
            ],
            [
             0.8888888888888888,
             "#fdca26"
            ],
            [
             1,
             "#f0f921"
            ]
           ]
          },
          "colorway": [
           "#636efa",
           "#EF553B",
           "#00cc96",
           "#ab63fa",
           "#FFA15A",
           "#19d3f3",
           "#FF6692",
           "#B6E880",
           "#FF97FF",
           "#FECB52"
          ],
          "font": {
           "color": "#2a3f5f"
          },
          "geo": {
           "bgcolor": "white",
           "lakecolor": "white",
           "landcolor": "#E5ECF6",
           "showlakes": true,
           "showland": true,
           "subunitcolor": "white"
          },
          "hoverlabel": {
           "align": "left"
          },
          "hovermode": "closest",
          "mapbox": {
           "style": "light"
          },
          "paper_bgcolor": "white",
          "plot_bgcolor": "#E5ECF6",
          "polar": {
           "angularaxis": {
            "gridcolor": "white",
            "linecolor": "white",
            "ticks": ""
           },
           "bgcolor": "#E5ECF6",
           "radialaxis": {
            "gridcolor": "white",
            "linecolor": "white",
            "ticks": ""
           }
          },
          "scene": {
           "xaxis": {
            "backgroundcolor": "#E5ECF6",
            "gridcolor": "white",
            "gridwidth": 2,
            "linecolor": "white",
            "showbackground": true,
            "ticks": "",
            "zerolinecolor": "white"
           },
           "yaxis": {
            "backgroundcolor": "#E5ECF6",
            "gridcolor": "white",
            "gridwidth": 2,
            "linecolor": "white",
            "showbackground": true,
            "ticks": "",
            "zerolinecolor": "white"
           },
           "zaxis": {
            "backgroundcolor": "#E5ECF6",
            "gridcolor": "white",
            "gridwidth": 2,
            "linecolor": "white",
            "showbackground": true,
            "ticks": "",
            "zerolinecolor": "white"
           }
          },
          "shapedefaults": {
           "line": {
            "color": "#2a3f5f"
           }
          },
          "ternary": {
           "aaxis": {
            "gridcolor": "white",
            "linecolor": "white",
            "ticks": ""
           },
           "baxis": {
            "gridcolor": "white",
            "linecolor": "white",
            "ticks": ""
           },
           "bgcolor": "#E5ECF6",
           "caxis": {
            "gridcolor": "white",
            "linecolor": "white",
            "ticks": ""
           }
          },
          "title": {
           "x": 0.05
          },
          "xaxis": {
           "automargin": true,
           "gridcolor": "white",
           "linecolor": "white",
           "ticks": "",
           "title": {
            "standoff": 15
           },
           "zerolinecolor": "white",
           "zerolinewidth": 2
          },
          "yaxis": {
           "automargin": true,
           "gridcolor": "white",
           "linecolor": "white",
           "ticks": "",
           "title": {
            "standoff": 15
           },
           "zerolinecolor": "white",
           "zerolinewidth": 2
          }
         }
        },
        "title": {
         "text": "Frequently Co-occurring Words"
        },
        "width": 800,
        "xaxis": {
         "anchor": "y",
         "domain": [
          0,
          1
         ],
         "title": {
          "text": ""
         }
        },
        "yaxis": {
         "anchor": "x",
         "domain": [
          0,
          1
         ],
         "title": {
          "text": ""
         }
        }
       }
      },
      "text/html": [
       "<div>                            <div id=\"69065cfe-b149-409f-b7b0-0dbd3d4f765c\" class=\"plotly-graph-div\" style=\"height:1100px; width:800px;\"></div>            <script type=\"text/javascript\">                require([\"plotly\"], function(Plotly) {                    window.PLOTLYENV=window.PLOTLYENV || {};                                    if (document.getElementById(\"69065cfe-b149-409f-b7b0-0dbd3d4f765c\")) {                    Plotly.newPlot(                        \"69065cfe-b149-409f-b7b0-0dbd3d4f765c\",                        [{\"alignmentgroup\": \"True\", \"hovertemplate\": \"word_count=%{text}<br>word=%{y}<extra></extra>\", \"legendgroup\": \"\", \"marker\": {}, \"name\": \"\", \"offsetgroup\": \"\", \"orientation\": \"h\", \"showlegend\": false, \"text\": [49.0, 50.0, 50.0, 50.0, 50.0, 52.0, 52.0, 53.0, 53.0, 53.0, 54.0, 54.0, 55.0, 56.0, 57.0, 64.0, 75.0, 76.0, 76.0, 78.0, 86.0, 87.0, 89.0, 92.0, 93.0, 95.0, 98.0, 98.0, 100.0, 102.0, 104.0, 104.0, 107.0, 111.0, 114.0, 125.0, 127.0, 134.0, 138.0, 159.0, 160.0, 190.0, 199.0, 202.0, 220.0, 232.0, 265.0, 316.0, 336.0, 425.0], \"textposition\": \"auto\", \"texttemplate\": \"%{text:.2s}\", \"type\": \"bar\", \"x\": [49, 50, 50, 50, 50, 52, 52, 53, 53, 53, 54, 54, 55, 56, 57, 64, 75, 76, 76, 78, 86, 87, 89, 92, 93, 95, 98, 98, 100, 102, 104, 104, 107, 111, 114, 125, 127, 134, 138, 159, 160, 190, 199, 202, 220, 232, 265, 316, 336, 425], \"xaxis\": \"x\", \"y\": [\"magic morning\", \"meet character\", \"single rider\", \"jungle cruise\", \"fast track\", \"tower terror\", \"old daughter\", \"firework display\", \"buy ticket\", \"early morning\", \"pas system\", \"walt studio\", \"attraction close\", \"customer service\", \"lot people\", \"lot fun\", \"staff friendly\", \"buzz lightyear\", \"small child\", \"magic kingdom\", \"star tour\", \"toy story\", \"mickey mouse\", \"many people\", \"splash mountain\", \"highly recommend\", \"stay hotel\", \"use fast\", \"peter pan\", \"walk around\", \"roller coaster\", \"haunt mansion\", \"lion king\", \"young child\", \"big thunder\", \"star war\", \"even though\", \"happy earth\", \"pirate caribbean\", \"thunder mountain\", \"come back\", \"indiana jones\", \"cast member\", \"main street\", \"california adventure\", \"small world\", \"fast pass\", \"hong kong\", \"space mountain\", \"fast pas\"], \"yaxis\": \"y\"}],                        {\"barmode\": \"relative\", \"height\": 1100, \"legend\": {\"tracegroupgap\": 0}, \"margin\": {\"t\": 60}, \"template\": {\"data\": {\"bar\": [{\"error_x\": {\"color\": \"#2a3f5f\"}, \"error_y\": {\"color\": \"#2a3f5f\"}, \"marker\": {\"line\": {\"color\": \"#E5ECF6\", \"width\": 0.5}}, \"type\": \"bar\"}], \"barpolar\": [{\"marker\": {\"line\": {\"color\": \"#E5ECF6\", \"width\": 0.5}}, \"type\": \"barpolar\"}], \"carpet\": [{\"aaxis\": {\"endlinecolor\": \"#2a3f5f\", \"gridcolor\": \"white\", \"linecolor\": \"white\", \"minorgridcolor\": \"white\", \"startlinecolor\": \"#2a3f5f\"}, \"baxis\": {\"endlinecolor\": \"#2a3f5f\", \"gridcolor\": \"white\", \"linecolor\": \"white\", \"minorgridcolor\": \"white\", \"startlinecolor\": \"#2a3f5f\"}, \"type\": \"carpet\"}], \"choropleth\": [{\"colorbar\": {\"outlinewidth\": 0, \"ticks\": \"\"}, \"type\": \"choropleth\"}], \"contour\": [{\"colorbar\": {\"outlinewidth\": 0, \"ticks\": \"\"}, \"colorscale\": [[0.0, \"#0d0887\"], [0.1111111111111111, \"#46039f\"], [0.2222222222222222, \"#7201a8\"], [0.3333333333333333, \"#9c179e\"], [0.4444444444444444, \"#bd3786\"], [0.5555555555555556, \"#d8576b\"], [0.6666666666666666, \"#ed7953\"], [0.7777777777777778, \"#fb9f3a\"], [0.8888888888888888, \"#fdca26\"], [1.0, \"#f0f921\"]], \"type\": \"contour\"}], \"contourcarpet\": [{\"colorbar\": {\"outlinewidth\": 0, \"ticks\": \"\"}, \"type\": \"contourcarpet\"}], \"heatmap\": [{\"colorbar\": {\"outlinewidth\": 0, \"ticks\": \"\"}, \"colorscale\": [[0.0, \"#0d0887\"], [0.1111111111111111, \"#46039f\"], [0.2222222222222222, \"#7201a8\"], [0.3333333333333333, \"#9c179e\"], [0.4444444444444444, \"#bd3786\"], [0.5555555555555556, \"#d8576b\"], [0.6666666666666666, \"#ed7953\"], [0.7777777777777778, \"#fb9f3a\"], [0.8888888888888888, \"#fdca26\"], [1.0, \"#f0f921\"]], \"type\": \"heatmap\"}], \"heatmapgl\": [{\"colorbar\": {\"outlinewidth\": 0, \"ticks\": \"\"}, \"colorscale\": [[0.0, \"#0d0887\"], [0.1111111111111111, \"#46039f\"], [0.2222222222222222, \"#7201a8\"], [0.3333333333333333, \"#9c179e\"], [0.4444444444444444, \"#bd3786\"], [0.5555555555555556, \"#d8576b\"], [0.6666666666666666, \"#ed7953\"], [0.7777777777777778, \"#fb9f3a\"], [0.8888888888888888, \"#fdca26\"], [1.0, \"#f0f921\"]], \"type\": \"heatmapgl\"}], \"histogram\": [{\"marker\": {\"colorbar\": {\"outlinewidth\": 0, \"ticks\": \"\"}}, \"type\": \"histogram\"}], \"histogram2d\": [{\"colorbar\": {\"outlinewidth\": 0, \"ticks\": \"\"}, \"colorscale\": [[0.0, \"#0d0887\"], [0.1111111111111111, \"#46039f\"], [0.2222222222222222, \"#7201a8\"], [0.3333333333333333, \"#9c179e\"], [0.4444444444444444, \"#bd3786\"], [0.5555555555555556, \"#d8576b\"], [0.6666666666666666, \"#ed7953\"], [0.7777777777777778, \"#fb9f3a\"], [0.8888888888888888, \"#fdca26\"], [1.0, \"#f0f921\"]], \"type\": \"histogram2d\"}], \"histogram2dcontour\": [{\"colorbar\": {\"outlinewidth\": 0, \"ticks\": \"\"}, \"colorscale\": [[0.0, \"#0d0887\"], [0.1111111111111111, \"#46039f\"], [0.2222222222222222, \"#7201a8\"], [0.3333333333333333, \"#9c179e\"], [0.4444444444444444, \"#bd3786\"], [0.5555555555555556, \"#d8576b\"], [0.6666666666666666, \"#ed7953\"], [0.7777777777777778, \"#fb9f3a\"], [0.8888888888888888, \"#fdca26\"], [1.0, \"#f0f921\"]], \"type\": \"histogram2dcontour\"}], \"mesh3d\": [{\"colorbar\": {\"outlinewidth\": 0, \"ticks\": \"\"}, \"type\": \"mesh3d\"}], \"parcoords\": [{\"line\": {\"colorbar\": {\"outlinewidth\": 0, \"ticks\": \"\"}}, \"type\": \"parcoords\"}], \"pie\": [{\"automargin\": true, \"type\": \"pie\"}], \"scatter\": [{\"marker\": {\"colorbar\": {\"outlinewidth\": 0, \"ticks\": \"\"}}, \"type\": \"scatter\"}], \"scatter3d\": [{\"line\": {\"colorbar\": {\"outlinewidth\": 0, \"ticks\": \"\"}}, \"marker\": {\"colorbar\": {\"outlinewidth\": 0, \"ticks\": \"\"}}, \"type\": \"scatter3d\"}], \"scattercarpet\": [{\"marker\": {\"colorbar\": {\"outlinewidth\": 0, \"ticks\": \"\"}}, \"type\": \"scattercarpet\"}], \"scattergeo\": [{\"marker\": {\"colorbar\": {\"outlinewidth\": 0, \"ticks\": \"\"}}, \"type\": \"scattergeo\"}], \"scattergl\": [{\"marker\": {\"colorbar\": {\"outlinewidth\": 0, \"ticks\": \"\"}}, \"type\": \"scattergl\"}], \"scattermapbox\": [{\"marker\": {\"colorbar\": {\"outlinewidth\": 0, \"ticks\": \"\"}}, \"type\": \"scattermapbox\"}], \"scatterpolar\": [{\"marker\": {\"colorbar\": {\"outlinewidth\": 0, \"ticks\": \"\"}}, \"type\": \"scatterpolar\"}], \"scatterpolargl\": [{\"marker\": {\"colorbar\": {\"outlinewidth\": 0, \"ticks\": \"\"}}, \"type\": \"scatterpolargl\"}], \"scatterternary\": [{\"marker\": {\"colorbar\": {\"outlinewidth\": 0, \"ticks\": \"\"}}, \"type\": \"scatterternary\"}], \"surface\": [{\"colorbar\": {\"outlinewidth\": 0, \"ticks\": \"\"}, \"colorscale\": [[0.0, \"#0d0887\"], [0.1111111111111111, \"#46039f\"], [0.2222222222222222, \"#7201a8\"], [0.3333333333333333, \"#9c179e\"], [0.4444444444444444, \"#bd3786\"], [0.5555555555555556, \"#d8576b\"], [0.6666666666666666, \"#ed7953\"], [0.7777777777777778, \"#fb9f3a\"], [0.8888888888888888, \"#fdca26\"], [1.0, \"#f0f921\"]], \"type\": \"surface\"}], \"table\": [{\"cells\": {\"fill\": {\"color\": \"#EBF0F8\"}, \"line\": {\"color\": \"white\"}}, \"header\": {\"fill\": {\"color\": \"#C8D4E3\"}, \"line\": {\"color\": \"white\"}}, \"type\": \"table\"}]}, \"layout\": {\"annotationdefaults\": {\"arrowcolor\": \"#2a3f5f\", \"arrowhead\": 0, \"arrowwidth\": 1}, \"autotypenumbers\": \"strict\", \"coloraxis\": {\"colorbar\": {\"outlinewidth\": 0, \"ticks\": \"\"}}, \"colorscale\": {\"diverging\": [[0, \"#8e0152\"], [0.1, \"#c51b7d\"], [0.2, \"#de77ae\"], [0.3, \"#f1b6da\"], [0.4, \"#fde0ef\"], [0.5, \"#f7f7f7\"], [0.6, \"#e6f5d0\"], [0.7, \"#b8e186\"], [0.8, \"#7fbc41\"], [0.9, \"#4d9221\"], [1, \"#276419\"]], \"sequential\": [[0.0, \"#0d0887\"], [0.1111111111111111, \"#46039f\"], [0.2222222222222222, \"#7201a8\"], [0.3333333333333333, \"#9c179e\"], [0.4444444444444444, \"#bd3786\"], [0.5555555555555556, \"#d8576b\"], [0.6666666666666666, \"#ed7953\"], [0.7777777777777778, \"#fb9f3a\"], [0.8888888888888888, \"#fdca26\"], [1.0, \"#f0f921\"]], \"sequentialminus\": [[0.0, \"#0d0887\"], [0.1111111111111111, \"#46039f\"], [0.2222222222222222, \"#7201a8\"], [0.3333333333333333, \"#9c179e\"], [0.4444444444444444, \"#bd3786\"], [0.5555555555555556, \"#d8576b\"], [0.6666666666666666, \"#ed7953\"], [0.7777777777777778, \"#fb9f3a\"], [0.8888888888888888, \"#fdca26\"], [1.0, \"#f0f921\"]]}, \"colorway\": [\"#636efa\", \"#EF553B\", \"#00cc96\", \"#ab63fa\", \"#FFA15A\", \"#19d3f3\", \"#FF6692\", \"#B6E880\", \"#FF97FF\", \"#FECB52\"], \"font\": {\"color\": \"#2a3f5f\"}, \"geo\": {\"bgcolor\": \"white\", \"lakecolor\": \"white\", \"landcolor\": \"#E5ECF6\", \"showlakes\": true, \"showland\": true, \"subunitcolor\": \"white\"}, \"hoverlabel\": {\"align\": \"left\"}, \"hovermode\": \"closest\", \"mapbox\": {\"style\": \"light\"}, \"paper_bgcolor\": \"white\", \"plot_bgcolor\": \"#E5ECF6\", \"polar\": {\"angularaxis\": {\"gridcolor\": \"white\", \"linecolor\": \"white\", \"ticks\": \"\"}, \"bgcolor\": \"#E5ECF6\", \"radialaxis\": {\"gridcolor\": \"white\", \"linecolor\": \"white\", \"ticks\": \"\"}}, \"scene\": {\"xaxis\": {\"backgroundcolor\": \"#E5ECF6\", \"gridcolor\": \"white\", \"gridwidth\": 2, \"linecolor\": \"white\", \"showbackground\": true, \"ticks\": \"\", \"zerolinecolor\": \"white\"}, \"yaxis\": {\"backgroundcolor\": \"#E5ECF6\", \"gridcolor\": \"white\", \"gridwidth\": 2, \"linecolor\": \"white\", \"showbackground\": true, \"ticks\": \"\", \"zerolinecolor\": \"white\"}, \"zaxis\": {\"backgroundcolor\": \"#E5ECF6\", \"gridcolor\": \"white\", \"gridwidth\": 2, \"linecolor\": \"white\", \"showbackground\": true, \"ticks\": \"\", \"zerolinecolor\": \"white\"}}, \"shapedefaults\": {\"line\": {\"color\": \"#2a3f5f\"}}, \"ternary\": {\"aaxis\": {\"gridcolor\": \"white\", \"linecolor\": \"white\", \"ticks\": \"\"}, \"baxis\": {\"gridcolor\": \"white\", \"linecolor\": \"white\", \"ticks\": \"\"}, \"bgcolor\": \"#E5ECF6\", \"caxis\": {\"gridcolor\": \"white\", \"linecolor\": \"white\", \"ticks\": \"\"}}, \"title\": {\"x\": 0.05}, \"xaxis\": {\"automargin\": true, \"gridcolor\": \"white\", \"linecolor\": \"white\", \"ticks\": \"\", \"title\": {\"standoff\": 15}, \"zerolinecolor\": \"white\", \"zerolinewidth\": 2}, \"yaxis\": {\"automargin\": true, \"gridcolor\": \"white\", \"linecolor\": \"white\", \"ticks\": \"\", \"title\": {\"standoff\": 15}, \"zerolinecolor\": \"white\", \"zerolinewidth\": 2}}}, \"title\": {\"text\": \"Frequently Co-occurring Words\"}, \"width\": 800, \"xaxis\": {\"anchor\": \"y\", \"domain\": [0.0, 1.0], \"title\": {\"text\": \"\"}}, \"yaxis\": {\"anchor\": \"x\", \"domain\": [0.0, 1.0], \"title\": {\"text\": \"\"}}},                        {\"responsive\": true}                    ).then(function(){\n",
       "                            \n",
       "var gd = document.getElementById('69065cfe-b149-409f-b7b0-0dbd3d4f765c');\n",
       "var x = new MutationObserver(function (mutations, observer) {{\n",
       "        var display = window.getComputedStyle(gd).display;\n",
       "        if (!display || display === 'none') {{\n",
       "            console.log([gd, 'removed!']);\n",
       "            Plotly.purge(gd);\n",
       "            observer.disconnect();\n",
       "        }}\n",
       "}});\n",
       "\n",
       "// Listen for the removal of the full notebook cells\n",
       "var notebookContainer = gd.closest('#notebook-container');\n",
       "if (notebookContainer) {{\n",
       "    x.observe(notebookContainer, {childList: true});\n",
       "}}\n",
       "\n",
       "// Listen for the clearing of the current output cell\n",
       "var outputEl = gd.closest('.output');\n",
       "if (outputEl) {{\n",
       "    x.observe(outputEl, {childList: true});\n",
       "}}\n",
       "\n",
       "                        })                };                });            </script>        </div>"
      ]
     },
     "metadata": {},
     "output_type": "display_data"
    }
   ],
   "source": [
    "npt.bar_ngram(title='uni-gram', ngram=1, top_n=50, stopwords=stopwords)\n",
    "bgram = npt.bar_ngram(title='Frequently Co-occurring Words', ngram=2, top_n=50, stopwords=stopwords)\n",
    "bgram.write_html(\"Resources/filtered_common_bigrams.html\")\n",
    "bgram"
   ]
  },
  {
   "cell_type": "code",
   "execution_count": null,
   "id": "beginning-canon",
   "metadata": {},
   "outputs": [],
   "source": []
  }
 ],
 "metadata": {
  "kernelspec": {
   "display_name": "Python [conda env:PythonAdv] *",
   "language": "python",
   "name": "conda-env-PythonAdv-py"
  },
  "language_info": {
   "codemirror_mode": {
    "name": "ipython",
    "version": 3
   },
   "file_extension": ".py",
   "mimetype": "text/x-python",
   "name": "python",
   "nbconvert_exporter": "python",
   "pygments_lexer": "ipython3",
   "version": "3.6.12"
  }
 },
 "nbformat": 4,
 "nbformat_minor": 5
}
